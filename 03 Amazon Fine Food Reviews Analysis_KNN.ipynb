{
 "cells": [
  {
   "cell_type": "markdown",
   "metadata": {},
   "source": [
    "# Amazon Fine Food Reviews Analysis\n",
    "\n",
    "\n",
    "Data Source: https://www.kaggle.com/snap/amazon-fine-food-reviews <br>\n",
    "\n",
    "EDA: https://nycdatascience.com/blog/student-works/amazon-fine-foods-visualization/\n",
    "\n",
    "\n",
    "The Amazon Fine Food Reviews dataset consists of reviews of fine foods from Amazon.<br>\n",
    "\n",
    "Number of reviews: 568,454<br>\n",
    "Number of users: 256,059<br>\n",
    "Number of products: 74,258<br>\n",
    "Timespan: Oct 1999 - Oct 2012<br>\n",
    "Number of Attributes/Columns in data: 10 \n",
    "\n",
    "Attribute Information:\n",
    "\n",
    "1. Id\n",
    "2. ProductId - unique identifier for the product\n",
    "3. UserId - unqiue identifier for the user\n",
    "4. ProfileName\n",
    "5. HelpfulnessNumerator - number of users who found the review helpful\n",
    "6. HelpfulnessDenominator - number of users who indicated whether they found the review helpful or not\n",
    "7. Score - rating between 1 and 5\n",
    "8. Time - timestamp for the review\n",
    "9. Summary - brief summary of the review\n",
    "10. Text - text of the review\n",
    "\n",
    "\n",
    "#### Objective:\n",
    "Given a review, determine whether the review is positive (rating of 4 or 5) or negative (rating of 1 or 2).\n",
    "\n",
    "<br>\n",
    "[Q] How to determine if a review is positive or negative?<br>\n",
    "<br> \n",
    "[Ans] We could use Score/Rating. A rating of 4 or 5 can be cosnidered as a positive review. A rating of 1 or 2 can be considered as negative one. A review of rating 3 is considered nuetral and such reviews are ignored from our analysis. This is an approximate and proxy way of determining the polarity (positivity/negativity) of a review.\n",
    "\n",
    "\n"
   ]
  },
  {
   "cell_type": "markdown",
   "metadata": {},
   "source": [
    "# [1]. Reading Data"
   ]
  },
  {
   "cell_type": "markdown",
   "metadata": {},
   "source": [
    "## [1.1] Loading the data\n",
    "\n",
    "The dataset is available in two forms\n",
    "1. .csv file\n",
    "2. SQLite Database\n",
    "\n",
    "In order to load the data, We have used the SQLITE dataset as it is easier to query the data and visualise the data efficiently.\n",
    "<br> \n",
    "\n",
    "Here as we only want to get the global sentiment of the recommendations (positive or negative), we will purposefully ignore all Scores equal to 3. If the score is above 3, then the recommendation wil be set to \"positive\". Otherwise, it will be set to \"negative\"."
   ]
  },
  {
   "cell_type": "code",
   "execution_count": 1,
   "metadata": {},
   "outputs": [
    {
     "name": "stderr",
     "output_type": "stream",
     "text": [
      "C:\\Users\\yogesh.dayma\\AppData\\Local\\Continuum\\anaconda3\\lib\\site-packages\\gensim\\utils.py:1212: UserWarning: detected Windows; aliasing chunkize to chunkize_serial\n",
      "  warnings.warn(\"detected Windows; aliasing chunkize to chunkize_serial\")\n"
     ]
    }
   ],
   "source": [
    "%matplotlib inline\n",
    "import warnings\n",
    "warnings.filterwarnings(\"ignore\")\n",
    "\n",
    "\n",
    "import sqlite3\n",
    "import pandas as pd\n",
    "import numpy as np\n",
    "import nltk\n",
    "import string\n",
    "import matplotlib.pyplot as plt\n",
    "import seaborn as sns\n",
    "from sklearn.feature_extraction.text import TfidfTransformer\n",
    "from sklearn.feature_extraction.text import TfidfVectorizer\n",
    "\n",
    "from sklearn.feature_extraction.text import CountVectorizer\n",
    "from sklearn.metrics import confusion_matrix\n",
    "from sklearn import metrics\n",
    "from sklearn.metrics import roc_curve, auc\n",
    "from nltk.stem.porter import PorterStemmer\n",
    "\n",
    "import re\n",
    "# Tutorial about Python regular expressions: https://pymotw.com/2/re/\n",
    "import string\n",
    "from nltk.corpus import stopwords\n",
    "from nltk.stem import PorterStemmer\n",
    "from nltk.stem.wordnet import WordNetLemmatizer\n",
    "\n",
    "from gensim.models import Word2Vec\n",
    "from gensim.models import KeyedVectors\n",
    "import pickle\n",
    "\n",
    "from tqdm import tqdm\n",
    "import os"
   ]
  },
  {
   "cell_type": "code",
   "execution_count": 2,
   "metadata": {},
   "outputs": [
    {
     "name": "stdout",
     "output_type": "stream",
     "text": [
      "Number of data points in our data (525814, 10)\n"
     ]
    },
    {
     "data": {
      "text/html": [
       "<div>\n",
       "<style scoped>\n",
       "    .dataframe tbody tr th:only-of-type {\n",
       "        vertical-align: middle;\n",
       "    }\n",
       "\n",
       "    .dataframe tbody tr th {\n",
       "        vertical-align: top;\n",
       "    }\n",
       "\n",
       "    .dataframe thead th {\n",
       "        text-align: right;\n",
       "    }\n",
       "</style>\n",
       "<table border=\"1\" class=\"dataframe\">\n",
       "  <thead>\n",
       "    <tr style=\"text-align: right;\">\n",
       "      <th></th>\n",
       "      <th>Id</th>\n",
       "      <th>ProductId</th>\n",
       "      <th>UserId</th>\n",
       "      <th>ProfileName</th>\n",
       "      <th>HelpfulnessNumerator</th>\n",
       "      <th>HelpfulnessDenominator</th>\n",
       "      <th>Score</th>\n",
       "      <th>Time</th>\n",
       "      <th>Summary</th>\n",
       "      <th>Text</th>\n",
       "    </tr>\n",
       "  </thead>\n",
       "  <tbody>\n",
       "    <tr>\n",
       "      <th>0</th>\n",
       "      <td>1</td>\n",
       "      <td>B001E4KFG0</td>\n",
       "      <td>A3SGXH7AUHU8GW</td>\n",
       "      <td>delmartian</td>\n",
       "      <td>1</td>\n",
       "      <td>1</td>\n",
       "      <td>1</td>\n",
       "      <td>1303862400</td>\n",
       "      <td>Good Quality Dog Food</td>\n",
       "      <td>I have bought several of the Vitality canned d...</td>\n",
       "    </tr>\n",
       "    <tr>\n",
       "      <th>1</th>\n",
       "      <td>2</td>\n",
       "      <td>B00813GRG4</td>\n",
       "      <td>A1D87F6ZCVE5NK</td>\n",
       "      <td>dll pa</td>\n",
       "      <td>0</td>\n",
       "      <td>0</td>\n",
       "      <td>0</td>\n",
       "      <td>1346976000</td>\n",
       "      <td>Not as Advertised</td>\n",
       "      <td>Product arrived labeled as Jumbo Salted Peanut...</td>\n",
       "    </tr>\n",
       "    <tr>\n",
       "      <th>2</th>\n",
       "      <td>3</td>\n",
       "      <td>B000LQOCH0</td>\n",
       "      <td>ABXLMWJIXXAIN</td>\n",
       "      <td>Natalia Corres \"Natalia Corres\"</td>\n",
       "      <td>1</td>\n",
       "      <td>1</td>\n",
       "      <td>1</td>\n",
       "      <td>1219017600</td>\n",
       "      <td>\"Delight\" says it all</td>\n",
       "      <td>This is a confection that has been around a fe...</td>\n",
       "    </tr>\n",
       "  </tbody>\n",
       "</table>\n",
       "</div>"
      ],
      "text/plain": [
       "   Id   ProductId          UserId                      ProfileName  \\\n",
       "0   1  B001E4KFG0  A3SGXH7AUHU8GW                       delmartian   \n",
       "1   2  B00813GRG4  A1D87F6ZCVE5NK                           dll pa   \n",
       "2   3  B000LQOCH0   ABXLMWJIXXAIN  Natalia Corres \"Natalia Corres\"   \n",
       "\n",
       "   HelpfulnessNumerator  HelpfulnessDenominator  Score        Time  \\\n",
       "0                     1                       1      1  1303862400   \n",
       "1                     0                       0      0  1346976000   \n",
       "2                     1                       1      1  1219017600   \n",
       "\n",
       "                 Summary                                               Text  \n",
       "0  Good Quality Dog Food  I have bought several of the Vitality canned d...  \n",
       "1      Not as Advertised  Product arrived labeled as Jumbo Salted Peanut...  \n",
       "2  \"Delight\" says it all  This is a confection that has been around a fe...  "
      ]
     },
     "execution_count": 2,
     "metadata": {},
     "output_type": "execute_result"
    }
   ],
   "source": [
    "# using SQLite Table to read data.\n",
    "#Use the link in readme to download the dataset\n",
    "\n",
    "con = sqlite3.connect('database.sqlite') \n",
    "\n",
    "filtered_data = pd.read_sql_query(\"\"\" SELECT * FROM Reviews WHERE Score != 3 \"\"\", con) \n",
    "\n",
    "# Give reviews with Score>3 a positive rating(1), and reviews with a score<3 a negative rating(0).\n",
    "def partition(x):\n",
    "    if x < 3:\n",
    "        return 0\n",
    "    return 1\n",
    "\n",
    "#changing reviews with score less than 3 to be positive and vice-versa\n",
    "actualScore = filtered_data['Score']\n",
    "positiveNegative = actualScore.map(partition) \n",
    "filtered_data['Score'] = positiveNegative\n",
    "print(\"Number of data points in our data\", filtered_data.shape)\n",
    "filtered_data.head(3)"
   ]
  },
  {
   "cell_type": "code",
   "execution_count": 3,
   "metadata": {},
   "outputs": [],
   "source": [
    "display = pd.read_sql_query(\"\"\"\n",
    "SELECT UserId, ProductId, ProfileName, Time, Score, Text, COUNT(*)\n",
    "FROM Reviews\n",
    "GROUP BY UserId\n",
    "HAVING COUNT(*)>1\n",
    "\"\"\", con)"
   ]
  },
  {
   "cell_type": "code",
   "execution_count": 4,
   "metadata": {
    "scrolled": true
   },
   "outputs": [
    {
     "name": "stdout",
     "output_type": "stream",
     "text": [
      "(80668, 7)\n"
     ]
    },
    {
     "data": {
      "text/html": [
       "<div>\n",
       "<style scoped>\n",
       "    .dataframe tbody tr th:only-of-type {\n",
       "        vertical-align: middle;\n",
       "    }\n",
       "\n",
       "    .dataframe tbody tr th {\n",
       "        vertical-align: top;\n",
       "    }\n",
       "\n",
       "    .dataframe thead th {\n",
       "        text-align: right;\n",
       "    }\n",
       "</style>\n",
       "<table border=\"1\" class=\"dataframe\">\n",
       "  <thead>\n",
       "    <tr style=\"text-align: right;\">\n",
       "      <th></th>\n",
       "      <th>UserId</th>\n",
       "      <th>ProductId</th>\n",
       "      <th>ProfileName</th>\n",
       "      <th>Time</th>\n",
       "      <th>Score</th>\n",
       "      <th>Text</th>\n",
       "      <th>COUNT(*)</th>\n",
       "    </tr>\n",
       "  </thead>\n",
       "  <tbody>\n",
       "    <tr>\n",
       "      <th>0</th>\n",
       "      <td>#oc-R115TNMSPFT9I7</td>\n",
       "      <td>B007Y59HVM</td>\n",
       "      <td>Breyton</td>\n",
       "      <td>1331510400</td>\n",
       "      <td>2</td>\n",
       "      <td>Overall its just OK when considering the price...</td>\n",
       "      <td>2</td>\n",
       "    </tr>\n",
       "    <tr>\n",
       "      <th>1</th>\n",
       "      <td>#oc-R11D9D7SHXIJB9</td>\n",
       "      <td>B005HG9ET0</td>\n",
       "      <td>Louis E. Emory \"hoppy\"</td>\n",
       "      <td>1342396800</td>\n",
       "      <td>5</td>\n",
       "      <td>My wife has recurring extreme muscle spasms, u...</td>\n",
       "      <td>3</td>\n",
       "    </tr>\n",
       "    <tr>\n",
       "      <th>2</th>\n",
       "      <td>#oc-R11DNU2NBKQ23Z</td>\n",
       "      <td>B007Y59HVM</td>\n",
       "      <td>Kim Cieszykowski</td>\n",
       "      <td>1348531200</td>\n",
       "      <td>1</td>\n",
       "      <td>This coffee is horrible and unfortunately not ...</td>\n",
       "      <td>2</td>\n",
       "    </tr>\n",
       "    <tr>\n",
       "      <th>3</th>\n",
       "      <td>#oc-R11O5J5ZVQE25C</td>\n",
       "      <td>B005HG9ET0</td>\n",
       "      <td>Penguin Chick</td>\n",
       "      <td>1346889600</td>\n",
       "      <td>5</td>\n",
       "      <td>This will be the bottle that you grab from the...</td>\n",
       "      <td>3</td>\n",
       "    </tr>\n",
       "    <tr>\n",
       "      <th>4</th>\n",
       "      <td>#oc-R12KPBODL2B5ZD</td>\n",
       "      <td>B007OSBE1U</td>\n",
       "      <td>Christopher P. Presta</td>\n",
       "      <td>1348617600</td>\n",
       "      <td>1</td>\n",
       "      <td>I didnt like this coffee. Instead of telling y...</td>\n",
       "      <td>2</td>\n",
       "    </tr>\n",
       "  </tbody>\n",
       "</table>\n",
       "</div>"
      ],
      "text/plain": [
       "               UserId   ProductId             ProfileName        Time  Score  \\\n",
       "0  #oc-R115TNMSPFT9I7  B007Y59HVM                 Breyton  1331510400      2   \n",
       "1  #oc-R11D9D7SHXIJB9  B005HG9ET0  Louis E. Emory \"hoppy\"  1342396800      5   \n",
       "2  #oc-R11DNU2NBKQ23Z  B007Y59HVM        Kim Cieszykowski  1348531200      1   \n",
       "3  #oc-R11O5J5ZVQE25C  B005HG9ET0           Penguin Chick  1346889600      5   \n",
       "4  #oc-R12KPBODL2B5ZD  B007OSBE1U   Christopher P. Presta  1348617600      1   \n",
       "\n",
       "                                                Text  COUNT(*)  \n",
       "0  Overall its just OK when considering the price...         2  \n",
       "1  My wife has recurring extreme muscle spasms, u...         3  \n",
       "2  This coffee is horrible and unfortunately not ...         2  \n",
       "3  This will be the bottle that you grab from the...         3  \n",
       "4  I didnt like this coffee. Instead of telling y...         2  "
      ]
     },
     "execution_count": 4,
     "metadata": {},
     "output_type": "execute_result"
    }
   ],
   "source": [
    "print(display.shape)\n",
    "display.head()"
   ]
  },
  {
   "cell_type": "code",
   "execution_count": 5,
   "metadata": {},
   "outputs": [
    {
     "data": {
      "text/html": [
       "<div>\n",
       "<style scoped>\n",
       "    .dataframe tbody tr th:only-of-type {\n",
       "        vertical-align: middle;\n",
       "    }\n",
       "\n",
       "    .dataframe tbody tr th {\n",
       "        vertical-align: top;\n",
       "    }\n",
       "\n",
       "    .dataframe thead th {\n",
       "        text-align: right;\n",
       "    }\n",
       "</style>\n",
       "<table border=\"1\" class=\"dataframe\">\n",
       "  <thead>\n",
       "    <tr style=\"text-align: right;\">\n",
       "      <th></th>\n",
       "      <th>UserId</th>\n",
       "      <th>ProductId</th>\n",
       "      <th>ProfileName</th>\n",
       "      <th>Time</th>\n",
       "      <th>Score</th>\n",
       "      <th>Text</th>\n",
       "      <th>COUNT(*)</th>\n",
       "    </tr>\n",
       "  </thead>\n",
       "  <tbody>\n",
       "    <tr>\n",
       "      <th>80638</th>\n",
       "      <td>AZY10LLTJ71NX</td>\n",
       "      <td>B006P7E5ZI</td>\n",
       "      <td>undertheshrine \"undertheshrine\"</td>\n",
       "      <td>1334707200</td>\n",
       "      <td>5</td>\n",
       "      <td>I was recommended to try green tea extract to ...</td>\n",
       "      <td>5</td>\n",
       "    </tr>\n",
       "  </tbody>\n",
       "</table>\n",
       "</div>"
      ],
      "text/plain": [
       "              UserId   ProductId                      ProfileName        Time  \\\n",
       "80638  AZY10LLTJ71NX  B006P7E5ZI  undertheshrine \"undertheshrine\"  1334707200   \n",
       "\n",
       "       Score                                               Text  COUNT(*)  \n",
       "80638      5  I was recommended to try green tea extract to ...         5  "
      ]
     },
     "execution_count": 5,
     "metadata": {},
     "output_type": "execute_result"
    }
   ],
   "source": [
    "display[display['UserId']=='AZY10LLTJ71NX']"
   ]
  },
  {
   "cell_type": "code",
   "execution_count": 6,
   "metadata": {},
   "outputs": [
    {
     "data": {
      "text/plain": [
       "393063"
      ]
     },
     "execution_count": 6,
     "metadata": {},
     "output_type": "execute_result"
    }
   ],
   "source": [
    "display['COUNT(*)'].sum()"
   ]
  },
  {
   "cell_type": "markdown",
   "metadata": {},
   "source": [
    "#  [2] Exploratory Data Analysis"
   ]
  },
  {
   "cell_type": "markdown",
   "metadata": {},
   "source": [
    "## [2.1] Data Cleaning: Deduplication\n",
    "\n",
    "It is observed (as shown in the table below) that the reviews data had many duplicate entries. Hence it was necessary to remove duplicates in order to get unbiased results for the analysis of the data.  Following is an example:"
   ]
  },
  {
   "cell_type": "code",
   "execution_count": 7,
   "metadata": {
    "scrolled": false
   },
   "outputs": [
    {
     "data": {
      "text/html": [
       "<div>\n",
       "<style scoped>\n",
       "    .dataframe tbody tr th:only-of-type {\n",
       "        vertical-align: middle;\n",
       "    }\n",
       "\n",
       "    .dataframe tbody tr th {\n",
       "        vertical-align: top;\n",
       "    }\n",
       "\n",
       "    .dataframe thead th {\n",
       "        text-align: right;\n",
       "    }\n",
       "</style>\n",
       "<table border=\"1\" class=\"dataframe\">\n",
       "  <thead>\n",
       "    <tr style=\"text-align: right;\">\n",
       "      <th></th>\n",
       "      <th>Id</th>\n",
       "      <th>ProductId</th>\n",
       "      <th>UserId</th>\n",
       "      <th>ProfileName</th>\n",
       "      <th>HelpfulnessNumerator</th>\n",
       "      <th>HelpfulnessDenominator</th>\n",
       "      <th>Score</th>\n",
       "      <th>Time</th>\n",
       "      <th>Summary</th>\n",
       "      <th>Text</th>\n",
       "    </tr>\n",
       "  </thead>\n",
       "  <tbody>\n",
       "    <tr>\n",
       "      <th>0</th>\n",
       "      <td>78445</td>\n",
       "      <td>B000HDL1RQ</td>\n",
       "      <td>AR5J8UI46CURR</td>\n",
       "      <td>Geetha Krishnan</td>\n",
       "      <td>2</td>\n",
       "      <td>2</td>\n",
       "      <td>5</td>\n",
       "      <td>1199577600</td>\n",
       "      <td>LOACKER QUADRATINI VANILLA WAFERS</td>\n",
       "      <td>DELICIOUS WAFERS. I FIND THAT EUROPEAN WAFERS ...</td>\n",
       "    </tr>\n",
       "    <tr>\n",
       "      <th>1</th>\n",
       "      <td>138317</td>\n",
       "      <td>B000HDOPYC</td>\n",
       "      <td>AR5J8UI46CURR</td>\n",
       "      <td>Geetha Krishnan</td>\n",
       "      <td>2</td>\n",
       "      <td>2</td>\n",
       "      <td>5</td>\n",
       "      <td>1199577600</td>\n",
       "      <td>LOACKER QUADRATINI VANILLA WAFERS</td>\n",
       "      <td>DELICIOUS WAFERS. I FIND THAT EUROPEAN WAFERS ...</td>\n",
       "    </tr>\n",
       "    <tr>\n",
       "      <th>2</th>\n",
       "      <td>138277</td>\n",
       "      <td>B000HDOPYM</td>\n",
       "      <td>AR5J8UI46CURR</td>\n",
       "      <td>Geetha Krishnan</td>\n",
       "      <td>2</td>\n",
       "      <td>2</td>\n",
       "      <td>5</td>\n",
       "      <td>1199577600</td>\n",
       "      <td>LOACKER QUADRATINI VANILLA WAFERS</td>\n",
       "      <td>DELICIOUS WAFERS. I FIND THAT EUROPEAN WAFERS ...</td>\n",
       "    </tr>\n",
       "    <tr>\n",
       "      <th>3</th>\n",
       "      <td>73791</td>\n",
       "      <td>B000HDOPZG</td>\n",
       "      <td>AR5J8UI46CURR</td>\n",
       "      <td>Geetha Krishnan</td>\n",
       "      <td>2</td>\n",
       "      <td>2</td>\n",
       "      <td>5</td>\n",
       "      <td>1199577600</td>\n",
       "      <td>LOACKER QUADRATINI VANILLA WAFERS</td>\n",
       "      <td>DELICIOUS WAFERS. I FIND THAT EUROPEAN WAFERS ...</td>\n",
       "    </tr>\n",
       "    <tr>\n",
       "      <th>4</th>\n",
       "      <td>155049</td>\n",
       "      <td>B000PAQ75C</td>\n",
       "      <td>AR5J8UI46CURR</td>\n",
       "      <td>Geetha Krishnan</td>\n",
       "      <td>2</td>\n",
       "      <td>2</td>\n",
       "      <td>5</td>\n",
       "      <td>1199577600</td>\n",
       "      <td>LOACKER QUADRATINI VANILLA WAFERS</td>\n",
       "      <td>DELICIOUS WAFERS. I FIND THAT EUROPEAN WAFERS ...</td>\n",
       "    </tr>\n",
       "  </tbody>\n",
       "</table>\n",
       "</div>"
      ],
      "text/plain": [
       "       Id   ProductId         UserId      ProfileName  HelpfulnessNumerator  \\\n",
       "0   78445  B000HDL1RQ  AR5J8UI46CURR  Geetha Krishnan                     2   \n",
       "1  138317  B000HDOPYC  AR5J8UI46CURR  Geetha Krishnan                     2   \n",
       "2  138277  B000HDOPYM  AR5J8UI46CURR  Geetha Krishnan                     2   \n",
       "3   73791  B000HDOPZG  AR5J8UI46CURR  Geetha Krishnan                     2   \n",
       "4  155049  B000PAQ75C  AR5J8UI46CURR  Geetha Krishnan                     2   \n",
       "\n",
       "   HelpfulnessDenominator  Score        Time  \\\n",
       "0                       2      5  1199577600   \n",
       "1                       2      5  1199577600   \n",
       "2                       2      5  1199577600   \n",
       "3                       2      5  1199577600   \n",
       "4                       2      5  1199577600   \n",
       "\n",
       "                             Summary  \\\n",
       "0  LOACKER QUADRATINI VANILLA WAFERS   \n",
       "1  LOACKER QUADRATINI VANILLA WAFERS   \n",
       "2  LOACKER QUADRATINI VANILLA WAFERS   \n",
       "3  LOACKER QUADRATINI VANILLA WAFERS   \n",
       "4  LOACKER QUADRATINI VANILLA WAFERS   \n",
       "\n",
       "                                                Text  \n",
       "0  DELICIOUS WAFERS. I FIND THAT EUROPEAN WAFERS ...  \n",
       "1  DELICIOUS WAFERS. I FIND THAT EUROPEAN WAFERS ...  \n",
       "2  DELICIOUS WAFERS. I FIND THAT EUROPEAN WAFERS ...  \n",
       "3  DELICIOUS WAFERS. I FIND THAT EUROPEAN WAFERS ...  \n",
       "4  DELICIOUS WAFERS. I FIND THAT EUROPEAN WAFERS ...  "
      ]
     },
     "execution_count": 7,
     "metadata": {},
     "output_type": "execute_result"
    }
   ],
   "source": [
    "display= pd.read_sql_query(\"\"\"\n",
    "SELECT *\n",
    "FROM Reviews\n",
    "WHERE Score != 3 AND UserId=\"AR5J8UI46CURR\"\n",
    "ORDER BY ProductID\n",
    "\"\"\", con)\n",
    "display.head()"
   ]
  },
  {
   "cell_type": "markdown",
   "metadata": {},
   "source": [
    "As it can be seen above that same user has multiple reviews with same values for HelpfulnessNumerator, HelpfulnessDenominator, Score, Time, Summary and Text and on doing analysis it was found that <br>\n",
    "<br> \n",
    "ProductId=B000HDOPZG was Loacker Quadratini Vanilla Wafer Cookies, 8.82-Ounce Packages (Pack of 8)<br>\n",
    "<br> \n",
    "ProductId=B000HDL1RQ was Loacker Quadratini Lemon Wafer Cookies, 8.82-Ounce Packages (Pack of 8) and so on<br>\n",
    "\n",
    "It was inferred after analysis that reviews with same parameters other than ProductId belonged to the same product just having different flavour or quantity. Hence in order to reduce redundancy it was decided to eliminate the rows having same parameters.<br>\n",
    "\n",
    "The method used for the same was that we first sort the data according to ProductId and then just keep the first similar product review and delelte the others. for eg. in the above just the review for ProductId=B000HDL1RQ remains. This method ensures that there is only one representative for each product and deduplication without sorting would lead to possibility of different representatives still existing for the same product."
   ]
  },
  {
   "cell_type": "code",
   "execution_count": 8,
   "metadata": {},
   "outputs": [],
   "source": [
    "#Sorting data according to ProductId in ascending order\n",
    "sorted_data=filtered_data.sort_values('ProductId', axis=0, ascending=True, inplace=False, kind='quicksort', na_position='last')"
   ]
  },
  {
   "cell_type": "code",
   "execution_count": 9,
   "metadata": {},
   "outputs": [
    {
     "data": {
      "text/plain": [
       "(364173, 10)"
      ]
     },
     "execution_count": 9,
     "metadata": {},
     "output_type": "execute_result"
    }
   ],
   "source": [
    "#Deduplication of entries\n",
    "final=sorted_data.drop_duplicates(subset={\"UserId\",\"ProfileName\",\"Time\",\"Text\"}, keep='first', inplace=False)\n",
    "final.shape"
   ]
  },
  {
   "cell_type": "code",
   "execution_count": 10,
   "metadata": {},
   "outputs": [
    {
     "data": {
      "text/plain": [
       "69.25890143662969"
      ]
     },
     "execution_count": 10,
     "metadata": {},
     "output_type": "execute_result"
    }
   ],
   "source": [
    "#Checking to see how much % of data still remains\n",
    "(final['Id'].size*1.0)/(filtered_data['Id'].size*1.0)*100"
   ]
  },
  {
   "cell_type": "markdown",
   "metadata": {},
   "source": [
    "<b>Observation:-</b> It was also seen that in two rows given below the value of HelpfulnessNumerator is greater than HelpfulnessDenominator which is not practically possible hence these two rows too are removed from calcualtions"
   ]
  },
  {
   "cell_type": "code",
   "execution_count": 11,
   "metadata": {},
   "outputs": [
    {
     "data": {
      "text/html": [
       "<div>\n",
       "<style scoped>\n",
       "    .dataframe tbody tr th:only-of-type {\n",
       "        vertical-align: middle;\n",
       "    }\n",
       "\n",
       "    .dataframe tbody tr th {\n",
       "        vertical-align: top;\n",
       "    }\n",
       "\n",
       "    .dataframe thead th {\n",
       "        text-align: right;\n",
       "    }\n",
       "</style>\n",
       "<table border=\"1\" class=\"dataframe\">\n",
       "  <thead>\n",
       "    <tr style=\"text-align: right;\">\n",
       "      <th></th>\n",
       "      <th>Id</th>\n",
       "      <th>ProductId</th>\n",
       "      <th>UserId</th>\n",
       "      <th>ProfileName</th>\n",
       "      <th>HelpfulnessNumerator</th>\n",
       "      <th>HelpfulnessDenominator</th>\n",
       "      <th>Score</th>\n",
       "      <th>Time</th>\n",
       "      <th>Summary</th>\n",
       "      <th>Text</th>\n",
       "    </tr>\n",
       "  </thead>\n",
       "  <tbody>\n",
       "    <tr>\n",
       "      <th>0</th>\n",
       "      <td>64422</td>\n",
       "      <td>B000MIDROQ</td>\n",
       "      <td>A161DK06JJMCYF</td>\n",
       "      <td>J. E. Stephens \"Jeanne\"</td>\n",
       "      <td>3</td>\n",
       "      <td>1</td>\n",
       "      <td>5</td>\n",
       "      <td>1224892800</td>\n",
       "      <td>Bought This for My Son at College</td>\n",
       "      <td>My son loves spaghetti so I didn't hesitate or...</td>\n",
       "    </tr>\n",
       "    <tr>\n",
       "      <th>1</th>\n",
       "      <td>44737</td>\n",
       "      <td>B001EQ55RW</td>\n",
       "      <td>A2V0I904FH7ABY</td>\n",
       "      <td>Ram</td>\n",
       "      <td>3</td>\n",
       "      <td>2</td>\n",
       "      <td>4</td>\n",
       "      <td>1212883200</td>\n",
       "      <td>Pure cocoa taste with crunchy almonds inside</td>\n",
       "      <td>It was almost a 'love at first bite' - the per...</td>\n",
       "    </tr>\n",
       "  </tbody>\n",
       "</table>\n",
       "</div>"
      ],
      "text/plain": [
       "      Id   ProductId          UserId              ProfileName  \\\n",
       "0  64422  B000MIDROQ  A161DK06JJMCYF  J. E. Stephens \"Jeanne\"   \n",
       "1  44737  B001EQ55RW  A2V0I904FH7ABY                      Ram   \n",
       "\n",
       "   HelpfulnessNumerator  HelpfulnessDenominator  Score        Time  \\\n",
       "0                     3                       1      5  1224892800   \n",
       "1                     3                       2      4  1212883200   \n",
       "\n",
       "                                        Summary  \\\n",
       "0             Bought This for My Son at College   \n",
       "1  Pure cocoa taste with crunchy almonds inside   \n",
       "\n",
       "                                                Text  \n",
       "0  My son loves spaghetti so I didn't hesitate or...  \n",
       "1  It was almost a 'love at first bite' - the per...  "
      ]
     },
     "execution_count": 11,
     "metadata": {},
     "output_type": "execute_result"
    }
   ],
   "source": [
    "display= pd.read_sql_query(\"\"\"\n",
    "SELECT *\n",
    "FROM Reviews\n",
    "WHERE Score != 3 AND Id=44737 OR Id=64422\n",
    "ORDER BY ProductID\n",
    "\"\"\", con)\n",
    "\n",
    "display.head()"
   ]
  },
  {
   "cell_type": "code",
   "execution_count": 12,
   "metadata": {},
   "outputs": [],
   "source": [
    "final=final[final.HelpfulnessNumerator<=final.HelpfulnessDenominator]"
   ]
  },
  {
   "cell_type": "code",
   "execution_count": 13,
   "metadata": {},
   "outputs": [
    {
     "name": "stdout",
     "output_type": "stream",
     "text": [
      "(364171, 10)\n"
     ]
    },
    {
     "data": {
      "text/plain": [
       "1    307061\n",
       "0     57110\n",
       "Name: Score, dtype: int64"
      ]
     },
     "execution_count": 13,
     "metadata": {},
     "output_type": "execute_result"
    }
   ],
   "source": [
    "#Before starting the next phase of preprocessing lets see the number of entries left\n",
    "print(final.shape)\n",
    "\n",
    "#How many positive and negative reviews are present in our dataset?\n",
    "final['Score'].value_counts()"
   ]
  },
  {
   "cell_type": "markdown",
   "metadata": {},
   "source": [
    "#  [3] Preprocessing"
   ]
  },
  {
   "cell_type": "markdown",
   "metadata": {},
   "source": [
    "## [3.1].  Preprocessing Review Text\n",
    "\n",
    "Now that we have finished deduplication our data requires some preprocessing before we go on further with analysis and making the prediction model.\n",
    "\n",
    "Hence in the Preprocessing phase we do the following in the order below:-\n",
    "\n",
    "1. Begin by removing the html tags\n",
    "2. Remove any punctuations or limited set of special characters like , or . or # etc.\n",
    "3. Check if the word is made up of english letters and is not alpha-numeric\n",
    "4. Check to see if the length of the word is greater than 2 (as it was researched that there is no adjective in 2-letters)\n",
    "5. Convert the word to lowercase\n",
    "6. Remove Stopwords\n",
    "7. Finally Snowball Stemming the word (it was obsereved to be better than Porter Stemming)<br>\n",
    "\n",
    "After which we collect the words used to describe positive and negative reviews"
   ]
  },
  {
   "cell_type": "code",
   "execution_count": 14,
   "metadata": {},
   "outputs": [
    {
     "name": "stdout",
     "output_type": "stream",
     "text": [
      "this witty little book makes my son laugh at loud. i recite it in the car as we're driving along and he always can sing the refrain. he's learned about whales, India, drooping roses:  i love all the new words this book  introduces and the silliness of it all.  this is a classic book i am  willing to bet my son will STILL be able to recite from memory when he is  in college\n",
      "==================================================\n",
      "I was really looking forward to these pods based on the reviews.  Starbucks is good, but I prefer bolder taste.... imagine my surprise when I ordered 2 boxes - both were expired! One expired back in 2005 for gosh sakes.  I admit that Amazon agreed to credit me for cost plus part of shipping, but geez, 2 years expired!!!  I'm hoping to find local San Diego area shoppe that carries pods so that I can try something different than starbucks.\n",
      "==================================================\n",
      "Great ingredients although, chicken should have been 1st rather than chicken broth, the only thing I do not think belongs in it is Canola oil. Canola or rapeseed is not someting a dog would ever find in nature and if it did find rapeseed in nature and eat it, it would poison them. Today's Food industries have convinced the masses that Canola oil is a safe and even better oil than olive or virgin coconut, facts though say otherwise. Until the late 70's it was poisonous until they figured out a way to fix that. I still like it but it could be better.\n",
      "==================================================\n",
      "Can't do sugar.  Have tried scores of SF Syrups.  NONE of them can touch the excellence of this product.<br /><br />Thick, delicious.  Perfect.  3 ingredients: Water, Maltitol, Natural Maple Flavor.  PERIOD.  No chemicals.  No garbage.<br /><br />Have numerous friends & family members hooked on this stuff.  My husband & son, who do NOT like \"sugar free\" prefer this over major label regular syrup.<br /><br />I use this as my SWEETENER in baking: cheesecakes, white brownies, muffins, pumpkin pies, etc... Unbelievably delicious...<br /><br />Can you tell I like it? :)\n",
      "==================================================\n"
     ]
    }
   ],
   "source": [
    "# printing some random reviews\n",
    "sent_0 = final['Text'].values[0]\n",
    "print(sent_0)\n",
    "print(\"=\"*50)\n",
    "\n",
    "sent_1000 = final['Text'].values[1000]\n",
    "print(sent_1000)\n",
    "print(\"=\"*50)\n",
    "\n",
    "sent_1500 = final['Text'].values[1500]\n",
    "print(sent_1500)\n",
    "print(\"=\"*50)\n",
    "\n",
    "sent_4900 = final['Text'].values[4900]\n",
    "print(sent_4900)\n",
    "print(\"=\"*50)"
   ]
  },
  {
   "cell_type": "code",
   "execution_count": 15,
   "metadata": {},
   "outputs": [
    {
     "name": "stdout",
     "output_type": "stream",
     "text": [
      "this witty little book makes my son laugh at loud. i recite it in the car as we're driving along and he always can sing the refrain. he's learned about whales, India, drooping roses:  i love all the new words this book  introduces and the silliness of it all.  this is a classic book i am  willing to bet my son will STILL be able to recite from memory when he is  in college\n"
     ]
    }
   ],
   "source": [
    "# remove urls from text python: https://stackoverflow.com/a/40823105/4084039\n",
    "sent_0 = re.sub(r\"http\\S+\", \"\", sent_0)\n",
    "sent_1000 = re.sub(r\"http\\S+\", \"\", sent_1000)\n",
    "sent_150 = re.sub(r\"http\\S+\", \"\", sent_1500)\n",
    "sent_4900 = re.sub(r\"http\\S+\", \"\", sent_4900)\n",
    "\n",
    "print(sent_0)"
   ]
  },
  {
   "cell_type": "code",
   "execution_count": 16,
   "metadata": {},
   "outputs": [
    {
     "name": "stdout",
     "output_type": "stream",
     "text": [
      "this witty little book makes my son laugh at loud. i recite it in the car as we're driving along and he always can sing the refrain. he's learned about whales, India, drooping roses:  i love all the new words this book  introduces and the silliness of it all.  this is a classic book i am  willing to bet my son will STILL be able to recite from memory when he is  in college\n",
      "==================================================\n",
      "I was really looking forward to these pods based on the reviews.  Starbucks is good, but I prefer bolder taste.... imagine my surprise when I ordered 2 boxes - both were expired! One expired back in 2005 for gosh sakes.  I admit that Amazon agreed to credit me for cost plus part of shipping, but geez, 2 years expired!!!  I'm hoping to find local San Diego area shoppe that carries pods so that I can try something different than starbucks.\n",
      "==================================================\n",
      "Great ingredients although, chicken should have been 1st rather than chicken broth, the only thing I do not think belongs in it is Canola oil. Canola or rapeseed is not someting a dog would ever find in nature and if it did find rapeseed in nature and eat it, it would poison them. Today's Food industries have convinced the masses that Canola oil is a safe and even better oil than olive or virgin coconut, facts though say otherwise. Until the late 70's it was poisonous until they figured out a way to fix that. I still like it but it could be better.\n",
      "==================================================\n",
      "Can't do sugar.  Have tried scores of SF Syrups.  NONE of them can touch the excellence of this product.Thick, delicious.  Perfect.  3 ingredients: Water, Maltitol, Natural Maple Flavor.  PERIOD.  No chemicals.  No garbage.Have numerous friends & family members hooked on this stuff.  My husband & son, who do NOT like \"sugar free\" prefer this over major label regular syrup.I use this as my SWEETENER in baking: cheesecakes, white brownies, muffins, pumpkin pies, etc... Unbelievably delicious...Can you tell I like it? :)\n"
     ]
    }
   ],
   "source": [
    "# https://stackoverflow.com/questions/16206380/python-beautifulsoup-how-to-remove-all-tags-from-an-element\n",
    "from bs4 import BeautifulSoup\n",
    "\n",
    "soup = BeautifulSoup(sent_0, 'lxml')\n",
    "text = soup.get_text()\n",
    "print(text)\n",
    "print(\"=\"*50)\n",
    "\n",
    "soup = BeautifulSoup(sent_1000, 'lxml')\n",
    "text = soup.get_text()\n",
    "print(text)\n",
    "print(\"=\"*50)\n",
    "\n",
    "soup = BeautifulSoup(sent_1500, 'lxml')\n",
    "text = soup.get_text()\n",
    "print(text)\n",
    "print(\"=\"*50)\n",
    "\n",
    "soup = BeautifulSoup(sent_4900, 'lxml')\n",
    "text = soup.get_text()\n",
    "print(text)"
   ]
  },
  {
   "cell_type": "code",
   "execution_count": 17,
   "metadata": {},
   "outputs": [],
   "source": [
    "# https://stackoverflow.com/a/47091490/4084039\n",
    "import re\n",
    "\n",
    "def decontracted(phrase):\n",
    "    # specific\n",
    "    phrase = re.sub(r\"won't\", \"will not\", phrase)\n",
    "    phrase = re.sub(r\"can\\'t\", \"can not\", phrase)\n",
    "\n",
    "    # general\n",
    "    phrase = re.sub(r\"n\\'t\", \" not\", phrase)\n",
    "    phrase = re.sub(r\"\\'re\", \" are\", phrase)\n",
    "    phrase = re.sub(r\"\\'s\", \" is\", phrase)\n",
    "    phrase = re.sub(r\"\\'d\", \" would\", phrase)\n",
    "    phrase = re.sub(r\"\\'ll\", \" will\", phrase)\n",
    "    phrase = re.sub(r\"\\'t\", \" not\", phrase)\n",
    "    phrase = re.sub(r\"\\'ve\", \" have\", phrase)\n",
    "    phrase = re.sub(r\"\\'m\", \" am\", phrase)\n",
    "    return phrase"
   ]
  },
  {
   "cell_type": "code",
   "execution_count": 18,
   "metadata": {},
   "outputs": [
    {
     "name": "stdout",
     "output_type": "stream",
     "text": [
      "Great ingredients although, chicken should have been 1st rather than chicken broth, the only thing I do not think belongs in it is Canola oil. Canola or rapeseed is not someting a dog would ever find in nature and if it did find rapeseed in nature and eat it, it would poison them. Today is Food industries have convinced the masses that Canola oil is a safe and even better oil than olive or virgin coconut, facts though say otherwise. Until the late 70 is it was poisonous until they figured out a way to fix that. I still like it but it could be better.\n",
      "==================================================\n"
     ]
    }
   ],
   "source": [
    "sent_1500 = decontracted(sent_1500)\n",
    "print(sent_1500)\n",
    "print(\"=\"*50)"
   ]
  },
  {
   "cell_type": "code",
   "execution_count": 19,
   "metadata": {},
   "outputs": [
    {
     "name": "stdout",
     "output_type": "stream",
     "text": [
      "this witty little book makes my son laugh at loud. i recite it in the car as we're driving along and he always can sing the refrain. he's learned about whales, India, drooping roses:  i love all the new words this book  introduces and the silliness of it all.  this is a classic book i am  willing to bet my son will STILL be able to recite from memory when he is  in college\n"
     ]
    }
   ],
   "source": [
    "#remove words with numbers python: https://stackoverflow.com/a/18082370/4084039\n",
    "sent_0 = re.sub(\"\\S*\\d\\S*\", \"\", sent_0).strip()\n",
    "print(sent_0)"
   ]
  },
  {
   "cell_type": "code",
   "execution_count": 20,
   "metadata": {},
   "outputs": [
    {
     "name": "stdout",
     "output_type": "stream",
     "text": [
      "Great ingredients although chicken should have been 1st rather than chicken broth the only thing I do not think belongs in it is Canola oil Canola or rapeseed is not someting a dog would ever find in nature and if it did find rapeseed in nature and eat it it would poison them Today is Food industries have convinced the masses that Canola oil is a safe and even better oil than olive or virgin coconut facts though say otherwise Until the late 70 is it was poisonous until they figured out a way to fix that I still like it but it could be better \n"
     ]
    }
   ],
   "source": [
    "#remove spacial character: https://stackoverflow.com/a/5843547/4084039\n",
    "sent_1500 = re.sub('[^A-Za-z0-9]+', ' ', sent_1500)\n",
    "print(sent_1500)"
   ]
  },
  {
   "cell_type": "code",
   "execution_count": 21,
   "metadata": {},
   "outputs": [],
   "source": [
    "# https://gist.github.com/sebleier/554280\n",
    "# we are removing the words from the stop words list: 'no', 'nor', 'not'\n",
    "# <br /><br /> ==> after the above steps, we are getting \"br br\"\n",
    "# we are including them into stop words list\n",
    "# instead of <br /> if we have <br/> these tags would have revmoved in the 1st step\n",
    "\n",
    "stopwords= set(['br', 'the', 'i', 'me', 'my', 'myself', 'we', 'our', 'ours', 'ourselves', 'you', \"you're\", \"you've\",\\\n",
    "            \"you'll\", \"you'd\", 'your', 'yours', 'yourself', 'yourselves', 'he', 'him', 'his', 'himself', \\\n",
    "            'she', \"she's\", 'her', 'hers', 'herself', 'it', \"it's\", 'its', 'itself', 'they', 'them', 'their',\\\n",
    "            'theirs', 'themselves', 'what', 'which', 'who', 'whom', 'this', 'that', \"that'll\", 'these', 'those', \\\n",
    "            'am', 'is', 'are', 'was', 'were', 'be', 'been', 'being', 'have', 'has', 'had', 'having', 'do', 'does', \\\n",
    "            'did', 'doing', 'a', 'an', 'the', 'and', 'but', 'if', 'or', 'because', 'as', 'until', 'while', 'of', \\\n",
    "            'at', 'by', 'for', 'with', 'about', 'against', 'between', 'into', 'through', 'during', 'before', 'after',\\\n",
    "            'above', 'below', 'to', 'from', 'up', 'down', 'in', 'out', 'on', 'off', 'over', 'under', 'again', 'further',\\\n",
    "            'then', 'once', 'here', 'there', 'when', 'where', 'why', 'how', 'all', 'any', 'both', 'each', 'few', 'more',\\\n",
    "            'most', 'other', 'some', 'such', 'only', 'own', 'same', 'so', 'than', 'too', 'very', \\\n",
    "            's', 't', 'can', 'will', 'just', 'don', \"don't\", 'should', \"should've\", 'now', 'd', 'll', 'm', 'o', 're', \\\n",
    "            've', 'y', 'ain', 'aren', \"aren't\", 'couldn', \"couldn't\", 'didn', \"didn't\", 'doesn', \"doesn't\", 'hadn',\\\n",
    "            \"hadn't\", 'hasn', \"hasn't\", 'haven', \"haven't\", 'isn', \"isn't\", 'ma', 'mightn', \"mightn't\", 'mustn',\\\n",
    "            \"mustn't\", 'needn', \"needn't\", 'shan', \"shan't\", 'shouldn', \"shouldn't\", 'wasn', \"wasn't\", 'weren', \"weren't\", \\\n",
    "            'won', \"won't\", 'wouldn', \"wouldn't\"])"
   ]
  },
  {
   "cell_type": "code",
   "execution_count": 22,
   "metadata": {},
   "outputs": [
    {
     "name": "stderr",
     "output_type": "stream",
     "text": [
      "100%|████████████████████████████████████████████████████████████████████████| 364171/364171 [02:52<00:00, 2112.91it/s]\n"
     ]
    }
   ],
   "source": [
    "# Combining all the above stundents \n",
    "from tqdm import tqdm\n",
    "preprocessed_reviews = []\n",
    "# tqdm is for printing the status bar\n",
    "for sentance in tqdm(final['Text'].values):\n",
    "    sentance = re.sub(r\"http\\S+\", \"\", sentance)\n",
    "    sentance = BeautifulSoup(sentance, 'lxml').get_text()\n",
    "    sentance = decontracted(sentance)\n",
    "    sentance = re.sub(\"\\S*\\d\\S*\", \"\", sentance).strip()\n",
    "    sentance = re.sub('[^A-Za-z]+', ' ', sentance)\n",
    "    # https://gist.github.com/sebleier/554280\n",
    "    sentance = ' '.join(e.lower() for e in sentance.split() if e.lower() not in stopwords)\n",
    "    preprocessed_reviews.append(sentance.strip())"
   ]
  },
  {
   "cell_type": "code",
   "execution_count": 23,
   "metadata": {},
   "outputs": [
    {
     "data": {
      "text/plain": [
       "['witty little book makes son laugh loud recite car driving along always sing refrain learned whales india drooping roses love new words book introduces silliness classic book willing bet son still able recite memory college',\n",
       " 'grew reading sendak books watching really rosie movie incorporates love son loves however miss hard cover version paperbacks seem kind flimsy takes two hands keep pages open',\n",
       " 'fun way children learn months year learn poems throughout school year like handmotions invent poem',\n",
       " 'great little book read aloud nice rhythm well good repetition little ones like lines chicken soup rice child gets go months year go wonderful places like bombay nile eating well know get eat kids maurice sendak version ice skating treat roses heads long time not even know came surprise came little witty book',\n",
       " 'book poetry months year goes month cute little poem go along love book really fun way learn months poems creative author purpose writing book give children fun way learn months children also learn things poetry rhythm reading book',\n",
       " 'charming rhyming book describes circumstances eat not chicken soup rice month month sounds like kind thing kids would make recess sing drive teachers crazy cute catchy sounds really childlike skillfully written',\n",
       " 'set aside least hour day read son point consider connoisseur children books one best santa clause put tree since read perpetually loves first book taught months year second pleasure read well suited old children books worth owning borrowed library book however deserves permanent spot shelf sendak best',\n",
       " 'remembered book childhood got kids good remembered kids love older daughter reads sister good rhymes nice pictures',\n",
       " 'great book adorable illustrations true classic kids love poem music goes find think sung carol king',\n",
       " 'book family favorite read children small ordered new mom family enjoy',\n",
       " 'get movie sound track sing along carol king great stuff whole extended family knows songs heart quality kids storytelling music',\n",
       " 'author wrote wild things carol king wrote great song matches lyrics illustrations fabulous wish could buy hardbound larger tiny book easily misplaced year old carries everywhere',\n",
       " 'great book perfect condition arrived short amount time long expected delivery date',\n",
       " 'always loved chicken soup rice late great grandmother ethel always made homemade chicken chicken soup rice book takes back days mother father sister went ethel house late great grandfather isadore would cook chicken ethel blind reminds time together family brings back happy memories love shared bowls hot soup',\n",
       " 'book purchased birthday gift year old boy squealed delight hugged told keep not return library',\n",
       " 'year old daughter brought book home school library little easy reading skills loved anyways year old daughter started reading not get return school book small better little hands great book age pictures cute go well writing rhyming makes easy get know months recommend book every parent',\n",
       " 'book contains collection twelve short statements end phrase chicken soup rice one based month year elements nonsense verse reason children find entertaining generate giggles',\n",
       " 'summary young boy describes usefulness chicken soup rice month year evaluation sendak creative repetitious rhythmic words children enjoy learn read story boy loves chicken soup rice sendak catchy story children also learn months year well seasons go month learn identify ice skating snowmen winter strong wind march birds flowers spring swimming hot temperatures summer finally different holidays throughout year halloween october christmas december sendak simple three colored crayon like drawings perfect addition educational entertaining story great activity book children draw illustrations month year afterwards bind pages together children create book',\n",
       " 'daughter loves really rosie books introduced really rosie cd performed carole king also available amazon birthday year later knows songs far books go one johnny alligators around chicken soup w rice books well written clever art work maurice sendak plus really cheap highly recommended',\n",
       " 'one best children books ever written mini version book not portrayed one priced product sent email regarding bewilderment amazon got no response',\n",
       " 'junei saw charming groupof roses beginto droopi pepped upwith chicken soup sprinkle oncesprinkle twicesprinkle chicken soupwith ricethis great book teach children months year repetition phrases funny little stories accompanying pictures make ideal bedtime read not nearly good sendak books like wild things pierre boy not care still carries unique brand charm',\n",
       " 'classic children book not go wrong read kid ordered later not beat',\n",
       " 'entertaining rhyming story cleaver catchy illustrations imaginative fit right however paperback somewhat small flimsy would opt bigger edition',\n",
       " 'title chicken soup riceauthor maurice sendakreviewer josh grossman colonel r u r c facprural physician author educator mentor u l e step would believe memorized book would believe recite month order would believe read copy tatters reading children professional adults would believe grandchildren read copy tatters confident generations children enjoy chicken soup rice bravo thank respectfully submitted',\n",
       " 'wonderful little book loved years ago twins love enjoy helping finish month singing chicken soup rice cute drawings add fun warned one un pc not toto',\n",
       " 'children love book first grader got christmas loves read rhymes proud month teacher works month book class not reads independently yet girls especially enjoy reading month born singing going going twice going chicken soup rice book classic remember childhood highly recommend wish book larger size tends get lost bookshelf among regular sized books',\n",
       " 'one earliest memories book mother read us constantly read one us quoted non stop fact typical sort soup would beg grocery book since used book every class teaching situation never met child not love ask read sure beats stupid songs sing preschool months year even not maurice sendak fan enjoy one original poetic',\n",
       " 'grand daughter favorite book read loves rhythm cute story actually enjoy reading',\n",
       " 'copy smaller expected mostly not pay attention listed dimensions book maurice sendak wonder little book months rhymes absolutely silly much fun read remember fondly child wanted make sure little one book shelf cute way teach months year not mention celebrating personal love soup beautifully illustrated way sendak',\n",
       " 'give five stars maurice sendak story one star printed edition book children older copy book familiar previous softcover version ordered granddaughters embarrassed give gift looks puny book size postcard think overpriced learned lesson not buying softcover children books next time get used copy',\n",
       " 'remember seeing show aired television years ago child sister later bought lp day thirty something used series books songs student teaching preschoolers turned whole school purchasing cd along books children tradition lives',\n",
       " 'days person says chicken soup probably going follow words soul maybe teenaged soul not used way remember time person said chicken soup words followed enthusiastic rice power maurice sendak catchy children book pleased report care read book today find not dimished jot terms frolicksome fun book led whirlwind chicken soup year host boy bears no little resemblance sendak great rhyming tale pierre looks not demeanor catchy flouncy bouncy combo soup people love ostensibly book meant teach children different months year month gets rhythmic poem accompanying illustration fairly simple pen ink drawings occasional splash blue varying shades yellow gray green may wonder author could ever hope come twelve highly original soup related poems mean honestly much say even fanciest soup let alone chicken soup rice quite lot happens cold winter months soup supped sliding ice celebrating birthday snowman gusty gale whale spring robin nest soup soup cure drooping roses soup stolen jealous march winds hero postulates potential joys could come cooking pot stewing soup oddly enough baubled bangled christmas tree not degrade reading skills parents everywhere cannot recommend enough getting audio version tale accompany child reading though wise cultured year old years kind old age still remember chicken soup rice tune heck read entire book recently found could song perfectly every line maybe particular chicken soup rice song style loathe give fine understand might not want taint already existing chicken soup melody not found jingle accompany book get audio version immediately not sooner sing whoopy whoopy twice whoopy chicken soup rice correct oomph missing take chicken soup rice readings seriously book chicka chicka boom boom day still remains catchiest method teach kids months year also seriously danger forgotten pull old accordion strap dancing shoes time yukkin merry dance poultry broth sendak finest',\n",
       " 'favorite book mine little girl would read time mom would read bedtime book two copies book first one either lost given away found another copy garage sale good condition buy not know around somewhere probably attic look read niece recommend book',\n",
       " 'book favorite mine since able read one first introductions poetry humorous rhymes inspiration writing type book college students reminisce bond really simple good',\n",
       " 'product archer farms best drink mix ever mix flavored packet oz water bottle contains natural sweetner stevia real fruit flavoring no food coloring colored fruit vegetable colors pure natural tastes great eight packets box contains calories per packet thank archer farms',\n",
       " 'dogs love saw pet store tag attached regarding made china satisfied safe',\n",
       " 'dogs loves chicken product china wont buying anymore hard find chicken products made usa one isnt bad good product wont take chances till know going china imports',\n",
       " 'book easy read ingredients available stores unlike recipe books go special stores find ingredients use make food not son thing wish recipes like great one likes healthy yummy snack',\n",
       " 'feeding greyhounds treats years hounds little finicky love treats expensive relative biscuits find good addition diet treats easy teeth since protein treat careful not overindulge pet regular basis great treats take walks stuff pocket easily found prices vary vendor vendor shop around',\n",
       " 'one product welsh terrier eat sophie food alergies careful feed dog oscar also gets treats loves no food alergies product simple ingredients no additives dogs need',\n",
       " 'dog treat lhasa apso eat makes happ becuase no added ingredients preservatives well no added salt dog treat vet approves',\n",
       " 'liver treas phenomenal received bucket amazon began training old alaskan malamute month passed knows sit stay paw speak bucket almost empty lasted month worth every penny ive read malamutes stubborn quite dogs gave poodles gobbled begging treats highly recommended plus liver cubes broken quadrants product',\n",
       " 'treat dog liked obedience training remained favorite ever since not met dog not like treat',\n",
       " 'no waste even day goes hunger strike always room one extra powder bottom makes real treat food never met pooch not go crazy treats',\n",
       " 'wanted treat accepted well liked rescue animals treat healthy loved legged beings home not contain sugar grains silly vegetables virtually treats contain dogs cats ferrets carnivores not cattle eat grain rabbits eat vegetables whyyyy companies add sugar beet pulp corn syrup carnivore foods dangerous cause death animal diabetes pretty easy break smaller pieces cats kittens weak jaws wonderful use aid gain trust abused dog not cause stomach upset given common sense amounts like goes long way costs alot heal maintain train abused rescued dogs no minus product price not afford use much would like',\n",
       " 'westie loves things loves anything liver one best expensive weight well worth freeze drying process concentrates flavor nutrition susie gives snouts',\n",
       " 'dog treat terrier eat crumble dry food loves',\n",
       " 'new puppy loves treat pay attention walking training one note pieces quite large cut smaller pieces recommended daily amount goes dogs dog park not resist pocket treats usually surrounded crowd dogs poking pocket',\n",
       " 'dog loves treats started using training purposes treats healthy',\n",
       " 'great treat three dogs absolutely love ordering regularly price great',\n",
       " 'buying thses vet expensive glad found online dog loves thanks',\n",
       " 'healthy good snack dog great training produst take account couple needs good value',\n",
       " 'two dogs love product love fact not loaded chemical preservatives fillers fact pieces irregular not drawback not surprising cut larger pieces not want give much prospect getting one treats makes much receptive training coming call also find largest size economical not pay shipping',\n",
       " 'dogs love product beg also came recommended animal trainer issue took advantage super shipper saver reason took almost month get slow shipping',\n",
       " 'dogs love treats beg sometimes sprinkle treats top food special treat also amazon ships fast get quickly',\n",
       " 'product excellent training treat everyday treat dog absolutely loves',\n",
       " 'great product dog loves see amazon lists sellers used new would not recommend buying used',\n",
       " 'freeze dried liver hypnotic effect dogs love anything great treat use training powdered freeze dried liver even added many dog medicines nowadays heartworm arthritis tablets etc causes dog scarf medicine like treat freeze dried liver dry hard yet powdery easy chew consistency comes chopped cubed extremely lightweight due fact little moisture product thus low weights product labels even though dog love liver treats not overfeed manufacturer recommends cubes daily small dogs cubes medium dogs cubes large dogs largest package sizes liver treats tend far economical recommend buying larger tubs save lots money handy treat supply around longer time dog never tire product really zero waste product near end tub find powdery bits dried liver bottom dogs go crazy sprinkle dust dog food wonderful reward easy use nutritional freeze dried liver no additives preservatives crude protein not less fat not less fiber not not',\n",
       " 'liver treats great training adopted german shepherd puppy using teach basic commands goes bananas learned quickly even though stubborn pup since still small cut large cubes thirds quarters not know not mind make training sessions go since recommended give treats day avoid digestion problems also compared liver treats market brand uses beef liver no preservatives fillers stuff dog not need treats also keep indefinitely container kept cool dry place oz bucket economical buy pup months bucket still mostly full psst kv pet supply best online price container highly recommended',\n",
       " 'tried several different kinds training treats pet stores either made english bulldog puppy sick lose interest liver working great absolutely loves keep attention',\n",
       " 'freeze dried liver hypnotic effect dogs love anything great treat use training powdered freeze dried liver even added many dog medicines nowadays heartworm arthritis tablets etc causes dog scarf medicine like treat freeze dried liver dry hard yet powdery easy chew consistency comes chopped cubed extremely lightweight due fact little moisture product thus low weights product labels even though dog love liver treats not overfeed manufacturer recommends cubes daily small dogs cubes medium dogs cubes large dogs largest package sizes liver treats tend far economical recommend buying larger tubs save lots money handy treat supply around longer time dog never tire product nutritional freeze dried liver no additives preservatives crude protein not less fat not less fiber not not',\n",
       " 'loves liver treats lamb treats not much look simple cubes starts lick lips whenever hears get',\n",
       " 'first give careful might draw back nub oldest dog nonchalant treats beg eat not went nuts looked forward every night vet said give liver build red blood cells helped buy us little longer think dogs addicted also healthy treat love would eat whole tub one sitting would let no awful liver smell either',\n",
       " 'items delivred quickly exactly promised thank super large container pieces well intact thanks',\n",
       " 'year old german shepherd loves treat keep counter quick handy treat mini spontaneous training sessions issue treats bit big difficult break smaller pieces necessary obedience classes go many treats therefore not use treats purpose container recommends cubes per day large dogs said excellent treat occasional use would highly recommend',\n",
       " 'dogs love stuff anything liver treats careful rich little goes long way give sparingly',\n",
       " 'received timely packed safely no burst packaging really glad people make large enough buckets wonderful treat makes affordable dogs love little cube treats always fresh since freeze dried',\n",
       " 'dogs love treats buying vet double price great deal great service',\n",
       " 'dried dog treats great dog diagnoised diabetes low fat treat loves',\n",
       " 'product health snack pup made beef liver puppy tricks get treat little pricy container large last long time long not overfeed',\n",
       " 'girls love cut smaller use training definately able keep dogs attention know something yummy tasty coming way price right amount long price remains perfect plan steady supply great product',\n",
       " 'oz larger find pet stores less expensive shipped day ordered arrived days later prime',\n",
       " 'one dog picky eater crumble liver treat food bowl loves dog not eat try not disappointed',\n",
       " 'golden get picky eating not priority worried training going anxious not eat training treats well eat great full however not best smell definitely not something would eat purchasing',\n",
       " 'cut small pieces corgi pup treat actually becomes mini treats prevent throwing diet allows us give multiple treats going potty outside like mini treats time also use whenever puppy meets stranger make sure four paws ground give already learned inhibit desire jump people amazing appreciate made usa no weird chemicals worry pup loves work',\n",
       " 'yes bit expensive high quality pure nutrition good training treat not high calories highly recommend',\n",
       " 'two german shepherds use training treats also use brush not enjoy much know get treats tried every treat available best',\n",
       " 'extremely big bucket yummy treats training great value pieces large cut smaller pieces regular training purposes',\n",
       " 'liver chunks like crack dogs niblets magic training dogs critters anything although freeze dried liver pricey cut chunks tiny chinks use training rewarding saying love good dog',\n",
       " 'natural dogs favorite treat not give many constipate dog dogs anything treats',\n",
       " 'dog trainer recommended obedience class found best price amazon puppy loves treats great training treats used moderation much organ meat not good anyone also excellent put treats container non liver treats cookies use container shaker help train dog come treats get liver flavored dust coating makes dog love even no limit liver dusted treats two paws stuff',\n",
       " 'three finicky dogs love product like way cut small pieces training one ingredient liver sourced within united states feel confident safe giving dogs buy regular basis priced better pet supply store seen even larger chains qualifies free shipping also nice',\n",
       " 'dog not enthusiastic food enjoys treats light weight easy carry number treats per day must limited',\n",
       " 'dogs love either straight crumbled food would otherwise not eat not get sick almost never ever reject quite often reject treats certainly treats tend always enjoy fact careful not feed not know healthy eat quantity certainly not wallet last long time though especially compare weight however dogs wolf quite quickly highly recommend reward doggies',\n",
       " 'dogs eating liver treats years also use treats training treats crude protein getting high quality treat make sure dog enough water since treats make dogs thirsty',\n",
       " 'intially introduced pro treat beef liver freeze dried dog treats veterinarian office rudy jack russell terrior usually not interested dog treats responded like would never seen bought couple cans pretty pricey gave sparingly tricks would pro treats really entertaining rudy take meds glaucoma thank heavens found large size good value not takes medicine gives great tricks return day happy camper despite loss sight one eye',\n",
       " 'dogs love freeze dried liver good price size container',\n",
       " 'tried everything including cheese chicken hot dogs one eat',\n",
       " 'dog little maltese loves product knows get reward business wee wee pads works every time reinforce behavior also received product timely fashion thanks amazon',\n",
       " 'dogs love treats treats ever found situations treats fail get dog attention',\n",
       " 'dog loves natural treat price cannot beat store',\n",
       " 'great treat dogs read label dogs certain sizes many per day violated dog got upset stomach giving heads cost bit high treats get lot buy largest tub dogs go crazy',\n",
       " 'ounce pro treat beef liver treats great value dog loves need reach tub sit put paw even cut tiny pieces sometimes sprinkle onto food gobbles food size last',\n",
       " 'dogs love treats freeze dried easy throw zip lock bag take wonderful training treats easy put pocket great deal',\n",
       " 'year old black lab favorite treats best training dog anything get one treats even month old black lab puppy goes running kennel tell go bed knows liver treat coming way since sliced small large container last complaint dog loves much knows shes getting one starts drool not drooler gotta toss one quick',\n",
       " 'ordered number times terrier mix part pit bull usually little cheaper store initially used training found larger pieces could jam piece two inside chew toy hide treat toy hollow bone already stood travis test give dog hours enjoyment issue went instead size pieces inconsistent first couple times good mix larger squares cubes smaller use training bits last order completely smaller pieces making difficult use inside toy bone come easily play time no longer lasts long hopeful next order line others mix would given prior last order training treat amazing',\n",
       " 'airedale loves taste beef freeze dried dog treats use training really works',\n",
       " 'getting grain free treats training usually leaves three options hard biscuits wants work cooked meat gross handle commercial meaty grain free treats cost arm leg hand affordable not gross handle dogs think smell amazing work great dog attention wavering waff freeze dried beef liver usually snaps back attention also beef liver not feel bad feeding dog many needed training highly recommended',\n",
       " 'dog loves stuff ground sprinkled dry food gobbles no additives fillers no carbs also use treat best price amazon quick delivery',\n",
       " 'dog loves treats really picking treats says lot loves buying bags freeze dried treats petco etc costing fortune not mention smashed great quality get tons ounce bucket little dog love',\n",
       " 'pros dog anything treat not smell bad many treats easy break smaller pieces nothing artificial easy digestion cons costly dog treats overall great product expensive dog anything treat several phobias including getting car walking doorways ignores fears get treat',\n",
       " 'purchased several different brands liver treats best terms good size pieces small bits little powder',\n",
       " 'far treat best one bought used crate train puppy whenever saw us going bucket smelled opened would run crate sit gave treat large bucket economicay really strong odor open reason always keep small ziploc treats use regularly open bin refill bag one complaint sizes treats varies incredibly one large split give small ones powder bits end go dinner one night added treat',\n",
       " 'use buy petsmart no longer sell decided look internet glad found amazon dogs love',\n",
       " 'dog insulin shots twice daily liver treats make giving shots easier less stressful owner dog',\n",
       " 'product real bargain considering fact dogs love liver used addition another dog treat product use dog dog goes nuts knows rewarded withpro treat beef liver treats instructions advise give pieces per day using rate container last good product fresh pieces various sizes thickness average size treat small rectangular pieces different thickness easy break smaller pieces necessary springer spaniel pup months old loves tried product girlfriend yr old teacup poodle pretty slow point life absolutely came life jumped place taste one treats buy dog love',\n",
       " 'dogs love treat use train fun nice thing product want pieces smaller easy cut without crumbling apart also great deal',\n",
       " 'pitbull sammy loves treats useful training well not make breath smell overly bad',\n",
       " 'introduced treats took dogs vet saw giving treats dogs went crazy not nothing pure liver no added salt etc healthy treats dogs love price right',\n",
       " 'pro treat beef liver freeze dried dog treats wonderful used reward obedience training dog motivated food high protein low fat not greasy may keep pocket great deal treats used positive reinforcement training found cutting squares pieces size pinky fingernail dog not overfed able take treat without stop chew clean crumbs etc product especially good training puppies soft treat chew therefore no pressure pain sensitive gums pup teething stage cut squares place plastic container pieces gone powdery crumbs left sprinkle dogs food feeding time no waste product using pro treat years quality excellent found best price amazon considerable amount comparison shopping',\n",
       " 'little pupster loves things not exactly ms easy please comes food kind thinks great betsy',\n",
       " 'dog loves no yucky texture greasy feel hot dog pieces cheese pieces no grossness pocket treat bag dog lot taste treats',\n",
       " 'dog not resist treats get anything one',\n",
       " 'first go havanese puppy years ago breeder suggested liver treats using training dog anything treats even use name brand pet hotel use phoenix careful not give much dog tanner got separation anxiety started routine asking kiss giving treat leaving wants treat beg kiss',\n",
       " 'usually buy product directly vet considerable savings purchased high quality dog treats perfect training pups not puppy yet refused would stand heads get liver treat',\n",
       " 'month old aussie loves whenever fixated something like another dog walk quickly wave near head redirect attention one treats bring focus back onto thing works hot dogs not easy carry around freeze dried pieces power dog mainly use treats special training sessions need high value reward e g recall training not especially smelly dogs smell yards away followed many times dog park doggies smell leftover powder jacket pocket downside cut small piece crumble apart regardless think definitely diced smaller size one wants use treats training tool tub says fed per day understanding much liver not good dog uploaded picture feeding guidelines printed side tub also provide times example dog pieces fed three times day people commented couple fed large dog day information appears inconsistent suggested tub interpretation table recommended daily amount actually closer dozen couple pieces hope not missing something also uploaded photo front tub showing made usa may expiration date printed underside container hope helps someone',\n",
       " 'treats beef liver nothing else not ask anything healthier not overfeed treats not food remember dog would prefer forget distinction love much small white dog probably familiar red eye stains people not know adding liver diet every day get rid ugly stain not exceed recommended amount stain already not go away grow trimmed away groomer weeks notice white hair growing base old stains',\n",
       " 'miniature dachshund named buck used product house obedience train use daily treat loves vet told nearly prefect low fat treat result using pro treat hardly ever use leash walking buck not local leash laws would not leash problem see product inconsistent size peices ranges powder inch square every thing done lots research amazon best place buy stuff',\n",
       " 'white white maltese mommy started giving pro treat beef liver freeze dried tears black stained face enjoying one treat per day beautiful white face beautiful eat natural non colored food drink spring water mommy says treats icing cake love',\n",
       " 'dogs love treats problems encountered left powder bottom sizes not uniform many big pieces many small pieces minor problems natural not upset dogs stomachs',\n",
       " 'wonderful treat training perfect cube size large dog somew crumbling product get bottom spread food special treat',\n",
       " 'bought based review type treat peagle puppy loves cheese perfect training cut easily not overfeed great price compared treats quality highly recommended',\n",
       " 'using dog treats long time dogs love lot cannot go wrong natural thing would say little disappointing pieces small making no good treats end liver dust larger pieces used generally take dust mix home made dog food extra flavor therefore no product gets wasted',\n",
       " 'using freeze dried liver treats train reward dogs years like dog heroin dogs nothing not treats makes training breeze current dog samson sit front pantry drool give treat treats expensive cut quarters last longer meat no scrap filler treats give samson rottweiler not go wrong treats',\n",
       " 'great product nutritional dogs absolutely love issue outrageously expensive four times expensive coffee per pound coffee already expensive liver cheap meat per pound problem dogs anything get one treats stuck',\n",
       " 'though might bit pricey average dog owner like opposed say someone profession working dogs great treats perfect size quick little snack run yeah dog loves getting pretty finicky gather full attention recommended',\n",
       " 'dog treats great motivators first price seems high last long time need used training session piece sizes not uniform often break larger ones half downside tendency crumble carry pants pocket long',\n",
       " 'dog rescued stray would think would happy eat treat offered not pickier dog ever seen heard thrown away many bags treats dog cookies things adored since real liver not processed grains flavored taste like meat recommend dog owner',\n",
       " 'buying product yrs specialtreat reward dogs continue buying',\n",
       " 'smell delicious dogs love big tub cost effective package high quality treats found chicken jerky things china not high quality',\n",
       " 'using treats long time decades find accepted almost pets dog cat ferret reward taking meds nicely prefer largest size tubs economy convenience usually not available pet stores thank carrying',\n",
       " 'delishus pleeze give mee gimborn livur treets everee dog havve not know abowt kats probabbly not deserve kats skare anyway treets delishus yoo buy manee buckets yore dog yore dog not want bucket livur treets take thank yoo love sonar',\n",
       " 'dog loves treats particular package size not sealed size packages product strongly sealed plastic rib must torn remove lid least tape could used around lid size please consider something provide assurance tampering',\n",
       " 'donate product local spca dog trainer swears gives one two day dog last',\n",
       " 'made us one ingredient pronounce liver dog loves freeze dried not strong odor overall great product',\n",
       " 'shake container dog comes running year prefers treats food feel great good price seems hefty cut pieces even though freeze dried fav dog treat sure makes feel great give pup excellent source nutrients love feel like tricking',\n",
       " 'dog would anything liver treats whenever playmates walk drag owners house liver treat well fact owners buy healthy great training treat love',\n",
       " 'gimborn freeze dried treats oz beef liver one dog favorite treats happy find large size container received order quickly happy service received',\n",
       " 'love faucet husband installed one old house current faucet leaking told not fix would buy one easy enough install need assistance times help hold things place looks great works great',\n",
       " 'gone treat dinner treat dogs work run chance losing hand know new command gentle taking liver treats',\n",
       " 'freeze dried liver hypnotic effect dogs love anything great treat use training powdered freeze dried liver even added many dog medicines nowadays heartworm arthritis tablets etc causes dog scarf medicine like treat freeze dried liver dry hard yet powdery easy chew consistency comes chopped cubed extremely lightweight due fact little moisture product thus low weights product labels even though dog love liver treats not overfeed manufacturer recommends cubes daily small dogs cubes medium dogs cubes large dogs largest package sizes liver treats tend far economical recommend buying larger tubs save lots money handy treat supply around longer time dog never tire product really zero waste product near end tub find powdery bits dried liver bottom dogs go crazy sprinkle dust dog food wonderful reward easy use nutritional freeze dried liver no additives preservatives crude protein not less fat not less fiber not not',\n",
       " 'chihuahua pickiest eater world could not find treat dog liked finally tried pro treat liver treats dogs loves actually give different times different days get use get example giving got every morning every morning would wake like could treat best treats good win win situation',\n",
       " 'dog picky eater sensitive stomach special food treat found not make throw loves much not eat regular dog food unless mix treats little pricey lowfat natural',\n",
       " 'pro treat freeze dried liver dog treats sort product makes wish could give stars puppy absolutely adores liver treats dog trainer calls puppy heroin treats training becomes absolute snap since puppy willing anything smelly liver treat undivided attention entire training session liver treats come cubes slices half inch side slice thinly three four time lengthwise two three time crosswise liver treats fracture easily taste addicting tiniest slivers necessary reinforce good puppy behavior treats also low fat low preservatives healthy puppy makes even perfect training really try treat never need another always purchase shipping amazon easy painless liver treats packed carefully enough no extra treat breakage remarkable dried treats ana mardoll',\n",
       " 'variety treats two shitzus favorite freeze dried livers nice big container always dogs running hear opening lid bought two',\n",
       " 'dog responds dog treat tried many different treats seems one preferred brand recommended dog trainer',\n",
       " 'giving stewart pro treat freeze dried beef liver maltipoo named elvis lee many years along daily meals pure freeze dried beef liver provides protein since active boy likes go long walks play ball elvis lee particular likes freeze dried liver list favorites',\n",
       " 'freeze dried liver treats easy carry around treat pouch not refrigerated far know healthy high protein snacks without lot chemical additives preservatives attributes nice would not important dog not like dog gets lots small bite size treats part continuing training gets tired diced sausage shaped moist food pet store cut franks grocery run mile liver treat wish smaller less expensive usually cut quarters sharp knife make last longer',\n",
       " 'another reviewer noted like crack dogs dog likes jerky loves freeze dried liver tub may much best value',\n",
       " 'purchased product use training dogs treats supplement dry food dogs love best natural nothing artifical good value seeking multiple uses one treat',\n",
       " 'product wonderful stays clean dry pocket dogs obey every command get treat expensive suppose limit daily amount cut smaller slices cube make last longer give dog less product training session',\n",
       " 'husky always little picky eating breakfast evening meals always needing encouragement etc well found pro treat freeze dried beef liver started putting pieces crumbled sprinkled dried food wow loves never hesitates anymore eating meals try love sandra',\n",
       " 'month old lab goes nuts liver treats vet recommended healthy treat pup acts like cat catnip big hit price size excellent last good',\n",
       " 'best training treats buy dog motivated doggie class treats dog class loves treats much not interested dog treats keeps life simple',\n",
       " 'two boxes absolutely love freeze dried liver treats one favorites dogs kidney bean dances kitchen take lid bad thing treats small recommend daily guess not much bad thing given little pricer average dog treat',\n",
       " 'using puppy training absolutely loves inconvenience find piece varies greatly size pretty large cut pieces appropriate size practical training time gets one little piece works great since cut not find expensive really go long way important thing list ingredients not full junk fact no junk beef liver like really try know giving good quality foods treats',\n",
       " 'received containers previously opened seals opened top containers decent pieces liver grisley pieces lot powder bottom never buy liver treats amazon big rip',\n",
       " 'dog loves treats great quality cheaper buying big box stores really not go wrong',\n",
       " 'dogs love treats last long time light easy give dogs amazon best price treats always house',\n",
       " 'not beat natural treats dogs love align well raw diet great value ordering amazon sell local pet store',\n",
       " 'great product chihuahuas favorite treat never problems except bucket runs fast',\n",
       " 'great deal compared small bags treats available pet store importantly dog adores use extra special treat usually goes crate soon notices one hand runs crate waits tail wagging downside liver cubes smell horrible humans anyway leave powdery residue behind reviews noted powder great sprinkling dry food finicky dog',\n",
       " 'treats similar purebites however since small dogs peke mix generally not give snacks suited medium large dogs small dogs large mouths smaller dogs hard time biting possibility choking pieces large dense small mouths break smaller pieces give doggies purebites hand flatter easier chew snacks appear made way larger dogs would give either snack purebites',\n",
       " 'dogs favorite treats ordered three containers site advertised would receive fourth container free three containers came timely fashion dog happy never get fourth container dog pretty disappointed',\n",
       " 'used pro treat beef liver freeze dried dog treats several years lb hound favorite treat great use training fairly expensive treat used properly lasts quite would definitely recommend',\n",
       " 'great product dogs love treat hard get eat time however product pure protein therefore not great kidneys eat many limit treats per day',\n",
       " 'dogs favorite treat pass treats dried beef liver love fact low fat healthy',\n",
       " 'product get petsmart much better price service quick efficient use old wiener dog iron deficiencies helped alot not vet',\n",
       " 'ordered thought bit pricey decided give try anyway glad dogs absolutely love dried liver treats since dogs small cut treats half still large enough pieces satisfy great training definitely order would recommend anyone',\n",
       " 'otter happy product happy come across dealer line best deal respect cost convenience',\n",
       " 'happy product shipping thanks always like business amazon',\n",
       " 'little dog loves treats besides rewarding dog crash treats mix medicine works great',\n",
       " 'wonderful treat labs love healthy natural small cubes great hiding toys great mental challenge dogs figure get treats work animal field every dog come across gobbles little cubes go long way',\n",
       " 'gimborn liver treats far dogs favorite treat wonderful training reward good quality beware dog sniff wherever hidden pockets',\n",
       " 'freeze dried treats dogs favorite treats spending double price paid local area pet stores ie chuck petsmart arrived promptly well packaged highly recommended',\n",
       " 'every pup ever owned loved treats anything like brand tried another refused eat love pups treat like children buy mine not spolied diva tiffany get every holiday never without supply hand try greenies',\n",
       " 'delicious treat dogs unhappy withamazon paid product never received nanci shea',\n",
       " 'dog would anything treats looked around brands best',\n",
       " 'great price better stores around dogs love not mind taking pills',\n",
       " 'not much puppy not try one ofthe freeze dried liver treats gave one another springer spanielwe met beach see races sometimesa long distance great get another treat greattraining aid',\n",
       " 'use training treat working two dogs dogs getting bored ol treats even though tried give wide variety one far favorite like natural no preservatives pieces pretty big easily broken finger nail carry around pocket like working watch neighborhood dogs wanting treat price quite good also definitly worth try',\n",
       " 'know people suggested product not training could not disagree en english bulldog solely motivated able teach voice commands short time liver treats rewards peices could bit smaller often cut bit healthy treats love bulldog loves',\n",
       " 'pro dogs maltese poodle mix go crazy treats obedient know holding treats hand since freeze dried not worry treats drying although comes big cubes able cut cubes smaller pieces plastic knife order lengthen usage stash dog treats containers always came little crumbs powder container bottomcon not uniform sizes not cheapconclusion still great product need modifications since every morsel appears flavorful dogs need pinkie nail size amount reward may seem like crumbs powder useless actually still somewhat useful used powder coat bland chewy dog treats dog food toys etc',\n",
       " 'excellent product dog loves things turns nose every thing else would much recommend product dogs big plus made u',\n",
       " 'buy big tub dog every months loves mix treats not get steady diet given special treat one notch standard wheat free dog cookie great treats not hypnotic real meat given price inexpensive good quality meat grocery store truly want mesmerize dog go real meat pretty funny many us paying little bags dog treats could buying real beef pound however us not want slimy hands day use treats use walking dog carry go backpacking long day hikes like feather light not get wet turn mush dog interest get wet goes lot wish pieces uniformly sized not hard break apart',\n",
       " 'gold standard training treats used years training never met dog not love fast easy service thru amazon sellers',\n",
       " 'young havapoo unhappy put cage night bought product treat going bed readily willing enter cage munch little pieces dried liver go sleep quite happy recommend product pet lovers',\n",
       " 'dog goes bonkers treats seem crazy delicious pieces small lulu not chew seems swallow whole wonder even tastes must whines acts like obnoxious brat every time go near bucket like treats not additives really stink though smell stays fingers smell price downsides also wish container said many calories treats could compare natural treats like fruitables vet said lulu getting fat replied yo momma fat start watching calories curious consistency size pieces please see photos posted variation size tip bucket see crumbly pieces bottom not foresee lulu turning nose',\n",
       " 'altho not give many dog given day not suggested manufacturer never found treat german shorthair pointer really loved discovered buzzy loves anything even meatballs food entice chow finicky get em best friend',\n",
       " 'finally treat puppy like not strong odor dogs still love plus freeze dried treat not make fingers greasy healthy treat puppy actually eat',\n",
       " 'dog never stopped loving treats year service great shipping prompt',\n",
       " 'price dr foster smith',\n",
       " 'stewarts liver treats love wirehaired dachshund life nothing else comes close bought several sources sometimes crushed fom amazon arrive fine condition ready munching',\n",
       " 'pet sitting recently dog sitting treat pouch loved tried dogs dogs quite well behaved whenever saw reach goodies son jokingly call doggie crack good work training tools else ask dog treat',\n",
       " 'dogs love well cat like product except treats start get smaller half way bin',\n",
       " 'always try feed healthy snacks dog not always like much less healthy snacks snack meet middle actually likes best snacks',\n",
       " 'beagle lab mix fairly picky treats goes nuts trying find something chicken jerky china reading reports fda showing illness death dogs dog really loves seem fit bill nicely',\n",
       " 'dogs love product cheapest could find shipped received notified purchased',\n",
       " 'okay freeze dried liver cube lets common sense tells lot less price treat could buy real liver cube freeze would serve purpose lot less money would not processed said dog would back flips treat made money go ahead make dog day',\n",
       " 'three month old westie loves treat bad thing huge training command sit takes seconds finish eating next trick recommend breaking tiny pieces label says day pup loves treat would anything',\n",
       " 'asked review purchase already said fast shipping good product not bother reviews problem let know stop using amozon future not leave alone',\n",
       " 'selected company even though price higher hoping pieces would consistent size tuened container filled smaller crum like pieces worse company never buy anything company',\n",
       " 'came huge tin much bigger expected cookies not sweet want something satisfy sweet tooth may not want delicious strawberry cookie light not supermarket sweet try one got mine price four dollars amazon would not pay ten dollars tin though',\n",
       " 'little dog sensitive stomach treat not bother loves tummy thanks',\n",
       " 'horrible product first item not work week lots flies around simply avoid infact sit window next never go also no look like one pictured get idea small boxes flies enter not mine came black pink srips running top bottom waste money',\n",
       " 'not know product performs big flies sucks fruit flies',\n",
       " 'problem lot fruit flies kitchen picked one take care business despite spotty reviews oops several days saw one fly land entire time best part tragic story picked trap investigate one trapped fly l darned fly not pick feet take right fly flew away landing none flies area even bothered call sucker trap sucker case would save money invest quicker hand reflexes',\n",
       " 'sly trap attractive look works well no odor recommend',\n",
       " 'summer grill party door kept open day food countertops developed horrible fly infestation home husband bought trap not work not one fly caught ended putting tiny smear honey one side actually worked next day counted flies thing nothing attract flies',\n",
       " 'hundreds common house flies hours not single one caught resorted fly swatter killed hours old fly swatter fly trap appears useless',\n",
       " 'time spent waiting order fly traps arrive went bought regular fly ribbon bad fly problem not sure kind flies slightly bigger fruit flies least week one fly traps caught zero flies fly trap caught probably flies regular fly ribbon one point even saw fly fly trap thought caught gone even pictures prove',\n",
       " 'even cheap ribbon traps caught many dozens flies days liquid bait traps rescue victor fly magnet caught hundreds days thing remains empty best seems rescue trap call stinker reeks works trap space traps hundreds flies not work indoor trap directions say used outdoors protected weather',\n",
       " 'well purchased inexpensive figured shipping might well two different areas small apartment hours nothing managed kill flies swatting',\n",
       " 'something supposed attract flys could not cared less months time caught maybe flies sure miniscule fraction kitchen waste money',\n",
       " 'bought local hardware store terrible fly problem trapped one fly year still hanging still one fly buy product',\n",
       " 'bought apartment infested fruit flies hours trap attracted many flies within days practically gone may not long term solution flies driving crazy consider buying one caution surface sticky try avoid touching',\n",
       " 'ineffective worthless bought product indoors two outdoor fly traps outdoor traps worked immediately noticed less flies home backdoor past week however indoor trap caught zero flies yet one week outdoor traps caught combined get excited looking trap thinking fly caught realize picture fly instead not waste money product',\n",
       " 'well received item placed area put fly paper far fewer victims regular fly paper looks like not really catch big ones like fly paper however price decent looks attractive regular strip fly paper',\n",
       " 'flies buzz around thing like not even many flies around would think luck fly would least bounced stuck pure luck not single fly caught still flies annoyingly buzzing around area not catch single fruit fly house fly horse fly mosquito even hungry spider ant cardboard box worth nickel sprayed sticky stuff company laughing bank chicago illinois',\n",
       " 'product not work hang kitchen days no fly attracted not worth time money return please buyer beware strongly suggest go find item',\n",
       " 'let put way flies stay traps left looks like safe island flies',\n",
       " 'please not waste money fly trap absolutely useless bought two product kitchen always bbq go pool fly get house started make jokes product not one fly far gone since hang weeks ago terrible product',\n",
       " 'used traditional fly rolls past dubious hubby opened box showed little stand alone cardboard fly trap desperate though full gnat invasion kitchen put places counter settling one near coffee pot gnats seemed love gather first seemed ignore next days finding way onto trap one point gave counting dozens product great ridding pesky gnats love poison free stand countertop want tall ceilings would make hanging strip less useful wishing hang little hanger included well not make claim larger flies not catch none around think would better choices outdoors product little fly trap job asked not beat',\n",
       " 'nurturing plant work well decided repot larger pot must gotten funky soil soon repotted overrun large colony small flies swatting getting bug guts hand frequently stopped bothering gross exclamations fact city san francisco compost aggravated situation bought one nitfy traps set plant voila instead hands getting daily dose bug guts trap lined tiny suckers months trap pretty much covered gross part need order another one not sure well work larger inserts works really well tiny annoying flies',\n",
       " 'thing item trapped fruit flies not work fly trap would not recommend',\n",
       " 'happy item many flies disturbing kitchen put product near window works fantastically',\n",
       " 'many flies house product weeks stuck fly thus far',\n",
       " 'wish would read reviews making purchase basically cardsotck box sticky outside pink ish things look like entrances trap pictures no inside trap flies stuck outside basically fly paper horribly horribly horribly overpriced favor get fly paper fly strips yuck factor much cheaper',\n",
       " 'worst product gotten long time would rate no star could simply not catch single fly bug sort went hardware store bought old fashioned spiral fly paper effective unuasual influx flys house fall needed something',\n",
       " 'placed around house several days setup fly attracting trap vicinity literally watched flies avoid trap days excited see one lil bugger land surface disappointed approached examine flew away paper tacky pressure human finger applied small flies hardly trap',\n",
       " 'could rate fly trap lower one star would think flies come miles away come laugh thing would success taking flies vat scalding water getting fly randomly run box ridiculousness waste',\n",
       " 'bought awhile ago decided review thing sucks flies caught took year get maybe tiny microscopic flies no regular flies see eyes still cause catches flies times year maybe let little things fly around could get real fly trap actually works',\n",
       " 'used fly sticky tape trap garage knat fly problem also fruit fly type bugs flying around also neghbor big fig tree not pruned taken care figs stay tree rot till dry smells really bad attracts flys go garage proximity garage put caught four one better results sticky traps unravel caught much knats',\n",
       " 'okay little garden back yard attracts lot flies looking way combat house not sure still made fly paper saw searching great amazon excited moment opened box dismayed seriously cannot decide joke not packaging says box stunning images draw flies images perhaps funniest drawing ever seen called product not caught single fly simply ignore fly everywhere stunningly realistic images anyone got better idea not buy unless playing joke someone',\n",
       " 'never caught even one fly got inside left week flies not interested useless',\n",
       " 'put fly trap kitchen not catch single fly flies late august september temperature warms not window screens flies especially bad year tried victor fly trap like rat mouse traps not want spray kitchen save money buy product caught many flies little milk bottom small water bottle flew drowned not think california flies smarter others trap not work',\n",
       " 'infestation fruitflies literally everywhere flying around kitchen bought product hoping least get rid weeks fly stuck going around notepad squishing buggers success rate day clearly product useless even dabbed red wine banana top column week really attracted red wine glass still nothing get stuck actually saw second fly land watched flapped wings frantically within secs unstuck product total waste money',\n",
       " 'nothing cardboard box little dry adhesive outside nothing attract flies adhesive not gluey enough trap happen land save money',\n",
       " 'fairly certain caught flies supposed stay stuck not much trap become part daily routine compare many flies morning left afternoon escape',\n",
       " 'product available victor traps unreal course total fly genocide pretty stinky right nearby',\n",
       " 'used victor fly bait seasons ca not beat great product',\n",
       " 'really good idea final product outstanding use decals car window everybody asks bought decals made two thumbs',\n",
       " 'received shipment could hardly wait try product love slickers call instead stickers removed easily daughter designed signs printed reverse use car windows printed beautifully print shop program going lot fun product windows everywhere surfaces like tv screens computer monitors',\n",
       " 'michael keaton already way major star played ghost beetlejuice performance title role simply solidified status one hollywood brightest comedy stars years later film still generates belly laughs first released alec baldwin geena davis fun roles husband wife surprised find dead merely window dressing keaton centerpiece complaint many gross gags something come define many director tim burton films still movie lot fun beginning end worth considering adding video collection',\n",
       " 'little gem beginning brief thing michael keaton man deliver laughs big way nice presentation bluray great price',\n",
       " 'one movie movie collection filled comedy action whatever else want call',\n",
       " 'love movie bought vhs long time ago recently bought regular pg version dvd mom store first thing noteced disc double sided halfway thru flip disc watch rest movie another thing censored not mean violence mean language bought version hoping better verson instead found thing different cover reccomend buy vhs trust sucks',\n",
       " 'beetlejuice tim burtonesque tim burton movie establishing fascination macabre especially case funny campy side death horror story newly dead couple geena davis alec baldwin essentially stuck ghosts house not like new owners parents jeffrey jones catherine hara daughter winona ryder enlist help experienced half crazy insistent ghost beetlejuice michael keaton effort scare new owners away haunting beetlejuice turns agenda alliances shift story winds learning dead afterlife bureaucracy wild chases small spaces calypso dancing dinner harry belafonte banana boat song day goth wedding ceremony supernatural comeuppance cast part perfectly suited wacky material sets make effects imaginative story engaging great fun extras announced limited three episodes saturday morning beetlejuice cartoon series skeletons closet spooky boo tique ha music track trailer according press release not warners brothers web page dvd exclusive cd soundtrack sampler cartoons minutes possibly features announced later would unusual would not count five star movie three star extras new blu ray video complete specs sound not announced sound subtitles several languages including spanish old standard dvd not great terms video quality best thing new release likely improved image sound',\n",
       " 'course already dvd no brainer upgrade forhalloween not forget thebrand new blu ray',\n",
       " 'great film not even know sum first completely original unlike film ever seen second great comedy kind spooky weird feel something tim burton films look film probably like best art director bo welch tim burton show us world unlike anything seen movie great film would recommend anyone looking enjoyable entertaining film original inventive',\n",
       " 'given four stars anniversary edition expected got cleaned version theatrical release upside excellent movie proud everyone turned great performance michael keaton gross disgusting funny great special effects enjoy movie everyone beetlegeuse beetlegeuse beetle',\n",
       " 'definitely guilty pleasure often think not supposed liking film not help cast makes solid rewatchable vehicle also steady feel burton film great production values great sense ability frighten delight time',\n",
       " 'say classic seen movie many times actually words memorized movie hilariously funny time touch drama around great movie michael keaton excellent job playing odd funny perverted beetlejuice causes quite chaos newly deceased couple adam barbara let say no one mean no one could better part beetlejuice disapointting thing dvd beetljuice no deleted scenes extra footage disapointed love movie much still worth not seen beetlejuice must see beetlejuice lovers fans must video dvd collection',\n",
       " 'watching beetlejuice decade thrilled frightened enthralled child makes sad mr tim burton transformation hollywood favorite semi quirky remake director planet apes sleepy hollow recent years big fish indeed signals hopeful recovery charlie chocolate factory not spoil young age thirty second full length feature burton created cult favorite one ages bizarre beat script michael mcdowell collaborated episode alfred hitchcock presents television series found ideal vehicle unique strange imagination indeed burton unique vision apparent movies nightmare christmas happy exception though true not personal creation nightmare edward scissorhands movie would place burton map major director would earn breakthrough job directing first batman feature film beetlejuice would also start several long time collaborations actors would work future michael keaton batman batman returns winona ryder edward scissorhands jeffrey jones ed wood sleepy hollow glenn shadix catherine hara voiceovers nightmare christmas beetlejuice not deep personal film would see nightmare christmas edward scissorhands ed wood big fish beetlejuice incredibly imaginative captivating film perfect black comedy geena davis alec baldwin adequate michael keaton title part course real star show although reality part much smaller davis baldwin keaton electric mesmerizing bio exorcist ghost beetlejuice spelled betelgeuse probably greatest memorable performance career possible exception part batman keaton really let loose beetlejuice burton seemingly blast created one memorable horror comedy characters big screen seventeen year old winona also terrific goth girl lydia fascinated repulsed betelgeuse extreme personality similarities character one edward scissorhands easy find money performance lydia better one conclusion movie would recommend vcr dvd beetlejuice burton best made films well rewarding repeated viewing beetlejuice burton best even not best film even not essential masterpiece like edward scissorhands beetlejuice one classic cult films time not imagine going life without tiniest bit sense fun humor',\n",
       " 'one movies neeed see twice dark weird funny remember watching spirts newish ideas dead world scary must see not movie quite like',\n",
       " 'really one strangest movies ever seen know loved heart tim burton knew aparently film unbelievably entertaining dialogue clever story wonderful characters make film shine winona rider marvelous troubled gothic teenager wears black veils dinner table mother power woman designer turns house tim burton dream land sorts goodies happen especially little tampering ghosts film also great score danny elfman worked previously batman pee wee big adventure director composer duo never split togehter create magic everyone see love',\n",
       " 'tim burton come blockbuster success first feature film pee wee big adventure greenlighted warner bros direct project really wanted make picture would define rest career day supernaturally weird black comedy weirdly titled beetlejuice unique strange not know make first saw video remember first time liking parts not liking picture whole movie frenetic odd mixture goth horror comedy gruesome visual effects still kind amazed got pg rating instead cartoonish slapstick really not know make well seen least half dozen times since three past year alone say held better many popular films top gun etc become classic unto beetlejuice tim burton showed not could direct effective comedy illicit inspired performances actors also bring true artist touch big screen course film oscar best makeup real question also think also least nominated visual effects art direction truly mesmerizing aspects come together create product unique not film helped make careers several actors would go major success soon two actors alec baldwin geena davis ill fated newlyweds adam barbara maitland buying big victorian dream house film outset die bizarre car accident soon slowly realizing passed next world not want give house pathetically bourgeois charles delia deetz jeffrey jones catherine hara along chubby effete chauffeur otho glenn shadix already moved inspire true disgust newly dead couple however seem ally older couple death obsessed goth daughter lydia winona ryder see afterlife advertisement bio exorcist named betelgeuse michael keaton decide hope driving destestable charles delia otho using wild unpredictable betelgeuse course good ol betelgeuse gladly provide unique brand service high price alec baldwin geena davis fill roles well ironic thing first film would ever seen alec baldwin first impression nerdy good natured adam ended turned around degrees psychotic tough guy roles would define rest career turnabout came pretty quickly actually next film would see married mob mobster unbeknownst wife gets offed early psychotic turn extremely quirky violent miami blues really shocked made realize alec really range unfortunately would end typecast psychos rest career however geena davis cusp stardom oscar acclaim playing pretty much quirky kind character would eventually define career fact following year would win oscar best supporting actress playing truly quirky inspired muriel pritchett otherwise uninspired accidental tourist film course also boosted career infamous winona ryder quickly became hot new girl late movie others soon follow heathers great balls fire also edward scissorhands another tim burton film mermaids also course former amadeus emperor ferris bueller day principal jeffrey jones infamous reasons also terrific former sc tv alumnus catherine hara also get welcome supporting performance great old character actress sylvia sidney chain smoking receptionist juno michael keaton already coming comedic actor known quirky hit comedies ron howard directed night shift mr mom johnny dangerously gung ho really stole show hit paydirt process would immediately elevated list status truly brilliant maniacal hilarious performance titular betelgeuse going immediately bigger better things tim burton starring soon batman funny think keaton robbed oscar nominations not truly unique comedic role also surprising dramatic turn recovering alcoholic clean sober shows whatever reason comedians not get recognized enough acting ability beetlejuice lot fun looks like must lot fun make despite liberal pg rating would recommend ages humor quite adult rather gruesome visuals likely give young child nightmares still truly unique movie incredible special effects still makes laugh day oddly enough whenever see makes much less afraid die highly recommended',\n",
       " 'dudes not argue iconic sh flick characters killer winona rocks day b juice one ultiimate onscreen personas time wicked funny scenes death waiting room scream old flick good eatin j',\n",
       " 'plot beetlejuice significantly simplified young couple recently died find another family moving house must haunt home drive family away find nearly impossible new afterlife oblivious danger involved seek assistance kooky bio exorcist beetlejuice help freak new family spirit realm menace ghost choatic plans cast crew tim burton director almost always succeeded delivering spectacular films no exception strange visual style mesmerizing usual danny elfman theme well rest score brilliant geena davis alec baldwin obviously great choices recently deceased couple catherine hara jefferey jones fit quite well parents invading family goth daughter played heavenly winona ryder last not least character beetlejuice portrayed perfectly michael keaton personal opinion keaton stole show no doubt think main reason anyone see whacky charismatic character beetlejuice best one liners ever hear nutty antics applies practically everything one greatest characters ever grace screen superbly supported extensive cast crew knew everything needed classic comedy twisted themes no denying power film must see sure must',\n",
       " 'set small new england town tim burton masterpiece beetlejuice follows life adam barbara maitlin owners large house small hardware store taking vacation home couple drowns mishap car accident home taken boisterous city folk turn several directions help haunting deets family one prospective poltergeist beetlejuice brilliantly played michael keaton featuring star studded cast including young winona ryder geena davis alec baldwin course keaton storyline boasts creative believable characters simply not seen movies days everything storyline clever props costumes right score one absolute favorite films',\n",
       " 'beetlejuice movie consider one tim burton best movies also consider one kind movies could come much like labyrinth starring david bowie jennifer connelly beetlejuice deals recently deceased married couple maitlands finds essentially trapped former house next century unfortunately means living house new owners deetz maitlands not mind deetz daughter lydia played winona ryder much much obnoxious parents want scare away house case worker tells one thing never even think recruiting former assistant beetlejuice unfortunately manage resist giving beetlejuice causes nothing problems definitely work tim burton ever present uniqueness charm beetlejuice fun movie fun watch period acting everyone involved movie great especially michael keaton beetlejuice make necessary characters well done afterlife set designs make great loved make designs afterlife scenes movie great would given five stars blu ray whole leaves little desired one dvds blurays pretty much leaps right movie no title screen scene selection anything bit annoying since manually go skip whole movie get back left night small handful special features may may not interested special features three episodes cartoon series watched kid audio track special features really not bad would liked like sort commentary deleted scenes something five stars movie three blu ray averaging four stars',\n",
       " 'happens say name three times michael keaten stars comedy two couples live old two story house coming back supply store couple suddenly get caught inside broken bridge start tumble lake board catches got hopes small dog steps board car starts slide bridge lake waters minutes later find back home find somehow somehad light fireplace done magic find weird looking dead guy known bettlejuice way get help call name three times appear survice soon wish never called name bettlejuice troublemaker one save account said name three times not leave houses else find theirselves another world giant sandworms stellar comedy see michael keaton awesome plays leading role bettlejuice',\n",
       " 'dvd arrived timely manner packaging good inexpensive would definitely buy seller',\n",
       " 'one movies quirky classic along lines princess bride willow never gat tired watching',\n",
       " 'awesomei watching beatlejuice long remember ive seen many times easy quote lines great humorous movie forever always even better times watch definately classic michael keaton ghoulishly funny wonderful blend horror humor enjoyable family viewing halloween night invite neighborhood goblins',\n",
       " 'tim burton fantastic vision life death michael keaton plays one best characters film hilt not forgotten winona ryder plays goth type daughter catherine hara jeffrey jones great roles story though based upon couple played alec baldwin geena davis drown car accident struggle life new owners beloved home movie dark especially baldwin davis go head dead find get rid new owners interesting died tragically spend life working harry belafontes music put good use big scenes definitely one burton best works not missed',\n",
       " 'fun movie appropriate older children adults enjoyed watching children ages music fun',\n",
       " 'truly enjoy movie classic like watching old movies stars big celebrities start popularity movie funny interesting story',\n",
       " 'dvd arrived brand new packaging received timely told would would buy',\n",
       " 'awesome fun movie never tire watching great cast film one watch get halloween mood',\n",
       " 'warn trying trick widescreen format company made mistake also including full screen version compared widescreen full screen full screen seems comtain picture top bottom must mean take full screen version cut top bottom slightly call widescreen strange would expect easier make theatrical version carefully edit full screen rip many people',\n",
       " 'used want recommend anyone ago still beetlejuice kind film sometimes like watch row used favorite movie still much enjoy kind movie watch sees not think scary classic',\n",
       " 'classic tim burton micheal keaton best movie introduced winona ryder love wish knew impetus twisted take afterlife hilarious years later still thoroughly enjoy',\n",
       " 'quote keeps getting funnier every single time see put good use say watch movie say tim burton not stop good movies least top best comedies time twisted funny swear watch film get one laugh probably give chance course beetlejuice one famous charactors movie history way go tim',\n",
       " 'adam barbara alec baldwin geena davis convincing couple great chemistry dead not leave sprawling new england home good thing got handbook newly deceased help guide way beuracratic world dead got problem new living family cahterine hara jeffrey jones winona ryder inhabiting house worse remodeling place pair ghosts not scare call help famous bio exorcist beetlejuice michael keaton best role ever results mixture dark comedy sweet special effects late least set front stunningly imaginative interesting scene design beetlejuice classic not seen yet chance since old dvd really not many special features lot written notes film even pretty cool',\n",
       " 'feel love movie first came years later parent decided puchase movie children enjoy well son loves movie michael keton wonderful job portraying humor beetlejuice alex baldwin geena davis great job plain jane john couple dies not crossed outstanding job winona ryder lydia misunderstood teen ager no one appears understand give movie two thumbs one scene particular still cracks brought back couple alex character begins speak jaw falls not forget beloved scene beetlejuice sitting next witch doctor steals number head shrinking scene funny words',\n",
       " '',\n",
       " 'great movie represent typical eigthies clothing style throughout living world scenes beetejuice character wodnerfully played hard watch imagine batman well really gets character kind dark inside kind joke movie really need listen main character speak says much breath hindsight second time around much funny remember',\n",
       " 'movie classic scare comedy perfect halloween love tim burton must pre winona ryder shoplifting breakdown cheesy fun movie watch',\n",
       " 'movie top notch lot ways great family movie may not agree say adults understand kids love colorful creatures even though several aspects film fly right heads tim burton really hit button unique style filmaking really never better even number great films waxed style years story starts alec baldwin geena davis recently deceased learn ghosts not easy department dedicated helping cause however backed inner city welfare office sleazy swindlers title character come around dedicated taking advantage delicate situation ghosts discover share small town dream home living artsy fart aristocrats bare ghosts would situation decide scare new tennants away however obvious inexperience proves pitfall especially since holes get kick start using party favors enter michael keaton beedle geuss needs somebody pronounce name right couple desperate go wishes department hire give new tennants proper scare although soon realize may gotten far heads ghoul lydia played winonna ryder disillusioned daughter artsys somehow naturally communicates dead becomes friend couple naturally becomes prime target beetlejuice also sleazy ghoul would thats things get ugly not worry much end everyone figures compromise dance around house tune shake senora comedic icing whole demented cake movie works well comedy terrific ghost story effects great symbol made tim burton cool early career forget claymation sand serpents score perfectly creepy thing around great movie good stuff halloween film fest peeps pull time',\n",
       " 'give blu ray version beetlejuice five stars picture sound quality alone improvements compared previous dvd release huge choose warner spending money time better transfer extra content would choose better transfer many times going watch behind scenes material commentary twenty years since film released would difficult tim burton anyone involved film remember enough material commentary even short featurettes would rather no commentary bad one comes cd sampler soundtrack nice addition could care less episodes animated series even though watched kid favorite aspect release seeing detail stop motion puppets surreal set design oscar winning makeup not recommend enough',\n",
       " 'years oddball dark comedy not lost irreverent impact coming director tim burton playfully twisted visual style runs rampant movie saturating nearly every frame even turns actor michael keaton sort vile living cartoon one beetlejuice manic bio exorcist sinister agendas film also boosted resumes terrific talents like jeffrey jones catherine hara annoying trendy couple transplanted new york small connecticut town film helped maked stars geena davis alec baldwin kind hapless ghostly couple winona ryder ex new yorker death obsessed daughter lydia really keaton movie way spite good cast art direction make special effects burton distinctive stamp slightly disappointed anniversary edition not least interviews making featurette although includes handful delightful beetlejuice animated episodes however little offbeat comedy achieved cult status years view figure not say title three times',\n",
       " 'keaton amazing beetlejuice one tim burton funniest movies alec baldwin geena davis credible job roles newly departed homeowners caught underworld bureaucracy wynona ryder delightful morbidly inclined daughter bio invaders home baldwin davis not want move dark farces comically twisted delightful romp afterlife none hilarious lead anywhere not grown tired watching macabre laugh riot twenty years unless missing funny bone not either',\n",
       " 'movies tim burton three names come lot discussions course two batmans masterpiece edward scissorhands excellent comedy beetlejuice society usually consider life dark depressing world tim burton presents death different perspective represents extremely funny world people become ghosts stuck houses haunted living world death huge bureaucracy world bio exorcists like one mr beetlejuice although movie main characters alec baldwin geena davis excellent job recently dead couple michael keaton deserves spotlight time appears screen makes laugh funny one liners excellent improvisation michael keaton perfect interactions co stars sylvia sidney winona ryder glenn shaddix jeffrey jones catherine hara future collaborators tim burton career everyone mean everyone delivers perfect performance not movie excellent visual effects traditional computer also loved able integrate gorgeous stop motion animations movie well integrated movie proof kind animation really bring great possibilities movie though certain limits course hey also counts cgi finally great cheer danny elfman whose soundtrack really gave popularity respect deserved great idea makers dvd integrate soundtrack separate audio track end great classic listened considered classic modern american cinema',\n",
       " 'saw movie years ago wanted husband get chance see entertaining remembered not really scary gentle spoof actually uplifting',\n",
       " 'humor definitely favorite part dinner table singing not scary depending age guess little kid already watching freddy jason movies dad movie nothing got around watching like plot felt beetlejuice bit screen time',\n",
       " 'oh snap right alec baldwin upon time svelte documented beetlejuice film along clean sober made case michael keaton streak dark dangerous enough qualify upcoming batman role tough newly shuffled mortal coil tough shelf life exceeds expiration date adam barbara maitland baldwin geena davis young couple love freshly minted ghosts find confined quaint new england home seem content enough new sitch family obnoxious artsy fartsy new yorkers move house threatens annihilate peace mind maitlands may no recourse contract shady freelance bio exorcist betelgeuse certainly handbook recently deceased not much help adam barbara irascible case worker juno supposed ease afterlife worsens things remarking maitlands must spend years earth house move anyway delectable twist meek retiring ghostly couple haunted bullied living beetlejuice not know hugely entertaining supernatural comedy harry belafonte catchy calypso music simply acts bonus maitlands bridge living winona ryder appealingly strange little goth girl lydia deetz lydia pretty much house guest adam barbara tolerate turn become surrogate parents lydia whose real parents shrill catherine hara distracted jeffrey jones let face tend neglect bits lydia demonstrates unnatural awareness ghostly maitlands curiosity helps propel major plot point namely betelgeuse getting hooks maitlands adam barbara prove mild mannered nice put proper fright deetzes idea scaring mortals possess make dance harry belafonte conversely betelgeuse embodies equal traits perversity meanness right away cows deetzes deetzes family friend otto especially coming learn betelgeuse nasty end game mind no one maitlands spunky little girl lydia thwart likable baldwin davis michael keaton awesomely manic joke second performance fuels movie injects enough demonic chops come across sinister adversary director tim burton put hollywood notice pee wee big adventure beetlejuice expanded street creds beetlejuice exhibits burton bag tricks distinctive style touch artistic creativity smidge surreal fantastic lot visual treats ranging storybook look maitland home bizarre architecture offices supernatural underworld dazzlingly inventive sight gags add film offbeat humor waiting room almost diverting star wars cantina terms ambiance inhabitants beetlejuice astonishing demented spin classic ghost story exorcism never fun backwards dvd anniversary deluxe edition offers paltry bonus features beetlejuice cartoon episodes ha skeletons closet spooky boo tique option watch film music track theatrical trailers beetlejuice pee wee big adventure',\n",
       " 'always loved beetlejuice no surprise love dvd classic even includes episodes cartoon version awesome',\n",
       " 'love film barbara adam maitland young couple madly love played geena davis alec baldwin discover not dead trapped home ghosts waiting bureaucracy afterlife set free new york couple catherine hara jeffrey jones teenage daughter lydia wonderfully macabre winona ryder move beloved house maitlands want nothing remove problem maitlands nice truly scare anyone meet rogue ghost ribald disgusting beetlejuice michael keaton promises drive family away strings attached lydia whose goals not far maitlands morbid poignantly sad outlook discovers ghosts tries help beetlejuice agenda casting movie perfect alec baldwin performance less memorable michael keaton suitably slimy decadent geena davis plays earnest innocence character equally well startling performance young winona ryder shows tremendous range role morbid good hearted lydia one hilarious dark scenes ever filmed contained movie new york couple throws pretentious dinner party maitlands take director tim burton uses sight gags situational comedy one liners bear trademark quirkiness make film inventive even years release fresh amazing film essentially weirdness dead emotional drive maitlands yearning reclaim home even death lydia wounded lonely adolescence lend humanity otherwise wild comedy highly recommend beat film hilarity irreverence parents young children warned film contains color humor well images ideas might disturb young minds debbie lee wesselmann',\n",
       " 'one star refers called anniversary deluxe edition hilarious eye popping delight director tim burton since inception dvd format waiting proper dvd beetlejuice commentary special features sorry say pathetic disc not waiting though supposedly spruced picture special features three beetlejuice cartoons think music track something no commentary no behind scenes no nothing no sale still waiting',\n",
       " 'wanted post correction previous review said film not based cartoon way around cartoon came later',\n",
       " 'thought really good movie since film tim burton get dark depressing feel danny elfman music stripes michael keaton alec baldwin geena davis winona ryder perfect job michael keaton hilarious awesome beetlejuice adam barbara maitland die car crash given rule book go dead deetz family moves adam barbara want somehow hot gothic daughter lydia see become friends still want scare seek help beetlejuice extremely obnoxious bio exorcist tries help adam barbara scary obnoxious leave stop deetz bring adam barbara back dead lydia not want torture desperately asks beetlejuice help love gothic comedy love beetlejuice',\n",
       " 'oh studios stamp deluxe edition movies provide nothing make worthy title absolutely love movie beetlejuice anything else tim burton done blu ray version movie looks sounds better version seen colors sharp sound greatly improved dvd iterations seen movie comes nice slipcover featuring cover art lenticular motion really special feature going get disc anniv film thought surely something would included making film nothing no commentary track no making doc no interviews cast nothing oh get episodes beetlejuice cartoon yaawwwwnn original theatrical trailer not complaining much love movie worth price see high definition ticks little studios stamp deluxe edition cover nothing deluxe',\n",
       " 'favorite movie since little kid used watch every day perfect casting movie little everything comedy drama horror well sorta definitly must see silence',\n",
       " 'not much say movie fans movie dont already know say movie needs better dvd treatment almost every one agree special edition anyone',\n",
       " 'time release beetlejuice huge hit although seem little dated still wonderful visual jokes especially characters waiting room laughs begin main characters deaths minutes look expectantly little dog balancing car plank wood edge bridge tip toes fall deaths film full satirical vignettes e g life managed number desk clerks condemned eternity civil servants committed suicide deetz interior designer otho unafraid ghoulish horrors surround yet finds frighteneing moment betelguise removes designer suit reveal pastel leisure suit runs terror apparently director tim burton loved making film warners stayed back greater freedom improvise actors story half way making not know going end stop motion techniques might look little dated burton big fan godzilla child',\n",
       " 'beetlejuice awe inspiring wonderfully amusing comedic romp explores incredible possibilities life boundaries absurd telling tale recently dead married couple suddenly gets led chaotic world supernatural adam barbara maitland alec baldwin geena davis discover many conflicting rather human imperfections haunt lives living also plague afterlife well unlike film projects seemed blindly assigned dispassionate filmmakers commercial reasons beetlejuice plot bizarre subject matter remarkably complemented burton unusually macabre artistic sensibilities extraordinarily well created unbelievably brilliant guidance imaginative film director tim burton pee wee big adventure batman ed wood sleepy hollow film uniquely creative landscape culmination essentially abundant irony outlandish yet human behaviors graced body burton work augmented deviously energetic performances glenn shadix jeffrey jones winona ryder catherine hara geena davis alec baldwin film bustles uninhibited brilliant hilarity persistently pushes film level almost affable euphoria paired ingenious screenplay tour de force performance michael keaton beetlejuice film transforms exuberant jovial exercise extremely satisfying philosophically perceptive many levels though comedy usually considered unable undeserving deep critical analysis beetlejuice undeniably inspired concept flawlessly transferred film one outstanding comedies film dvd package dvd includes theatrical trailer isolated danny elfman musical track choice watch film anamorphic widescreen pan scan hopefully beetlejuice eventually graced special edition always hope',\n",
       " 'come make anniversary deluxe edition without original version not say not great movie hey no need edit movie show disney channel mean no offense producers movie say hey not edit like cd sell walmart come love good movie',\n",
       " 'dvd added blue ray good movie watchable also good opportunity view famous actors much younger days much younger alec baldwin hardly recognizable michael keaton really not recognizable due makeup used even though played great part wynona ryder plays great part always gina davis catherine hara played parts well although pq good really not see appreciable improvement pq audio earlier dvd system polk speakers one disc no paper insert separate audio soundtrack blue ray disc failed play panasonic firmware updates everything else played dvd not see benefit getting blue ray guess price dropped close single digits really starting question benefits blue ray dvds blue ray movies watched extras present earlier releases removed thought major selling point blue ray movement',\n",
       " 'beetlejuice story ghosts alec baldwin geena davis not get along family jeffrey jones catherine hara winona ryder moves house ghosts enlist beetlejuice michael keaton help fun really starts movie directed tim burton robert goulet dick cavett make cameos score danny elfman movie great cast great director fan burton movies especially like movie like movies distinctive look feel anyone enjoy far fetched comedy pg appropriate members family dvd lacking special features would like see though like outtakes behing scenes etc',\n",
       " 'beetlejuice tim burtonesque tim burton movie establishing fascination macabre especially case funny campy side death horror story newly dead couple geena davis alec baldwin essentially stuck ghosts house not like new owners parents jeffrey jones catherine hara daughter winona ryder enlist help experienced half crazy insistent ghost beetlejuice michael keaton effort scare new owners away haunting beetlejuice turns agenda alliances shift story winds learning dead afterlife bureaucracy wild chases small spaces calypso dancing dinner harry belafonte banana boat song day goth wedding ceremony supernatural comeuppance cast part perfectly suited wacky material sets make effects imaginative story engaging great fun new release marketed anniversary deluxe edition newly remastered extras announced far limited three episodes saturday morning beetlejuice cartoon series skeletons closet spooky boo tique ha music track trailer cartoons minutes possibly features announced later usually not happen subtracted one star poor features deluxe anniversary edition announce features may rating best thing likely remastering needed since older dvd not great looking forward',\n",
       " 'maybe definitive burton film maybe like tie edward scissorhands beetlejuice perfect representation tim burton loud boisterous time dark edgy film much looks feels like almost everything comes burton factory yet surprisingly fresh way maybe fact one earlier works colors graphics not crisp adds almost gothic layer films feel maybe mere fact michael keaton gives best performance burton film ever film follows adam barbara learn cope life death yes horrific car accident leaves adam barbara dead yet confined home problem impatient neighbor takes no time selling home eccentric family not meet approval determined remove people home enlist help bio exorcist trick get far bargained beetlejuice comes scene film labeled pointless fun friends extent agree many would claim film not pointless teaches lessons acceptance friendship guess loyalty respect really concerned acting really good elevates film pointless pointless fun alec baldwin geena davis complete alien eyes popping fly absolutely amazing dead couple adam barbara catherine hara marvelous award worthy even insanely annoying delia jeffery jones knows compliment charles winona ryder effectively weird daughter lydia film belongs keaton though may well finest performance ever fine line ridden hilariously point drastically top especially dealing typically campy performance beetlejuice keaton finds line rides well delivering place comedic performance never feels much even though probably understands make characters insanity justifiably funny makes iconic character everyone knows beetlejuice even not seen movie end recommend movie trick sweet charming tim burton style complete edge creeps hilarious thrills looks better new stuff still level grit not good edward scissorhands best movie ever definitely film every fan needs see',\n",
       " 'laugh movie hard honestly not movie kids movie kicks much ass love art tim b michale keaton genus',\n",
       " 'watched movie many times know dinner table dance routine somebody linked facebook made want watch movie not seen years surprised still know routine michael keaton great job oh disgusting beetlejuice rest cast plays roles well film plot plain weird pulled couple gets car accident dies tries figure still live house dead new family moves haunt seen families coexist especially daughter winona ryder able see ghosts thought clear beetlejuice always crash party movie quick pace funny dialogue plenty memorable visuals',\n",
       " 'review dvd release thus far september release know dvds collection one disappointing without going minute detail makes film brilliant classic score hilarious comedy burton twisted brilliant vision quality film transfer dvd almost criminal probably would not noticed television screens smaller inches larger screens picture becomes soft grainy devoid detail utterly perplexing given movie shot late first thought sprang mind watching almost immediately reminded time elementary school switched video tape transfer reminiscent old battered film reel vhs vcr seen better film transfers video tape additionally extras well extras several paragraphs production notes basically brief overviews danny elfman tim burton nothing could not gleam wikipedia three minutes aside pay sam club old axiom getting pay truer ever expected much beetlejuice fan wait inevitable criterion collection special edition remaster',\n",
       " 'live brazil could not find movie ara sell contacted distributors could not find movie dvd decided look amazon found blu ray happy purchase enjoy',\n",
       " 'simply put beetlejuice funniest comedy kind since ghostbusters michael keaton plays title character fun loving ghost likes mischief beetlejuice called couple davis baldwin get rid people live thier house',\n",
       " 'recently saw dvd version film excellent picture quality excuse pun picture perfect sound good surround not much dialog separation alec baldwin makes rest always told partner alec would guy world would leave know would never happen time watch movie fantasy runs wild like movie pure fun pure entertainment no thinking involved no serious plot no hardship non racist non potical pure fun get not disappointed anything get alec not get hotter',\n",
       " 'always enjoyed movie funny entertaining not hesitate pick clamshell edition guess marketing plan make movie families something eliminated strong profanity elements usually edited television version warned want uncut version avoid clamshell edition',\n",
       " 'beetlejuice not movie not watch times one funiest movies ever made mixing strange reality story along romance alec baldwin geena davis funny thing story strange world living dead recently deceased handbook ha wait house years haunting people come trying not break cover story hauntings take place tim burton excellent job see movie',\n",
       " 'beetlejuice always family favorite glad order amazon unfortunately thought ordering anniversary edition shown picture special cover nope received standard blu movie told amazon month ago refuse fix ad want beetlejuice looking shown picture not get happened false advertisement',\n",
       " 'two couple geena davis alec baldwin died car accident come back alive ghosts stuck eternity inside thier house months later new york family winona ryder jeffery jones catherine hara move little connecticut farmhouse changing house aesthetically ghostly couple forced call control troublemaker named beetlejuice played top role micheal keaton get new family thier home directed tim burton batman batman returns ed wood made entertaining delightful silly fantasy comedy unique visual effects terrific music score danny elfman box office hit summer film plenty energy style humor danny elfman win oscar unique score extremely likeable film ages grade',\n",
       " 'hilarious favorite part dining room scene singing dancing classic moment not missed winona rider geena davis spectacular movie michael keaton unbelievably funny could not stop laughing great family movie keep stitches',\n",
       " 'beetlejuice coming back dvd newly remastered anniversary deluxe edition standard definition blu ray september extras announced far limited three episodes saturday morning beetlejuice cartoon series skeletons closet spooky boo tique ha blu ray version exclusive cd soundtrack sampler possibly features announced later not count new blu ray video specs sound not announced beetlejuice tim burtonesque tim burton movie establishing fascination macabre especially case funny campy side death horror story newly dead couple geena davis alec baldwin essentially stuck ghosts house not like new owners parents jeffrey jones catherine hara daughter winona ryder enlist help experienced half crazy insistent ghost beetlejuice michael keaton effort scare new owners away haunting beetlejuice turns agenda alliances shift story winds learning dead afterlife bureaucracy wild chases small spaces calypso dancing dinner harry belafonte banana boat song day goth wedding ceremony supernatural comeuppance cast part perfectly suited wacky material sets make effects imaginative story engaging great fun not old not great dvd new release might worth waiting amazon page pre order new standard dvd',\n",
       " 'well one best copy',\n",
       " 'world not know tim burton must quite shock realise genius first larger life colorful yet dark funny bizarre tale broke cinemas changed face storytelling knew forever tim burton born whole new dimension dreams imagination broke free movie never thank tim burton cannot anything enjoy crazy story ghost importance life love friendship covered unbelievable cloak',\n",
       " 'got cause love quality okay guess would look nicer tv',\n",
       " 'excellent commedy movie alway good piece good commedy movie collection',\n",
       " 'child collecting movies era forgot funny beetlejuice great movie',\n",
       " 'year old never seen movie bought christmas needless say ever since personally think michael keaton best performance harry belafonte soundtrack rocks also',\n",
       " 'one favorite movies purchased one kids favorites movie hilariously cheesy irresistable soundtrack great kids always jump dance along characters dinner scene lines border awful actors usually believable would not mind watching young alec baldwin remember back hottie movie classic great addition movie library nothing else historical value',\n",
       " 'loved movie since kid loved characters creepy special effects ghosts funny living humans even funnier fun movie sit back enjoy',\n",
       " 'bravo bravo atmosphere movie spectacular share gloomy moments hilarious moments made movie success forever',\n",
       " 'movie one tim burton classic movies amusing tale life young couple died result car accident couple getting acquainted ghost life style good bad things beetlejuice psychic sweet girl one able see trully great acting performence classic actors',\n",
       " 'movie rocks seriously board sick ect movie get threw buy movie vhs dvd let everyone know different things awesome get dissapointed like edward sissorhands nightmare christmas addams family get',\n",
       " 'getting crazy looking beatlejuice french version video really impossible today not find french vhs version film could u please tell something tks',\n",
       " 'embarrassing comedy comes like child attention deficit disorder begging approval even film internal logic thrown away towards end no extra purpose girl floating air end rather sweet though',\n",
       " 'haunting movie everything played laughs no serious moments deep introspections revelations life reviews insights life purpose etc non stop gimmicks special effects sight gags visual fluff suitable younger set hero heroine drown together car accident discover dead back dearly beloved house not leave monsters outside peace interrupted new owners decide redo place ridiculous gaudy style notice unexpected book handbook recently deceased nightstand serves guide new situation discover reach caseworker obnoxious haunter named beetlejuicewho might able help remove new occupants everything try fails work end accept new owners owner daughter becomes closer step parents providing child always wanted could not idea not see mirror new owners cannot see except daugthter little learn afterlife see couple brief scenes caseworker office described depressing worst movie seen long time',\n",
       " 'beetlejuice truly work art bit funny bit creepy simply masterpiece great soundtrack go tim burton truly knows take another world great casting well nothing could better dvd movie',\n",
       " 'many movies dealt figure death dead good angel clarence wonderful life brad pitt abysmal turn death meet joe black however tim burton presented world interestng look dead beetlejuice first moments movie barbara adam maitland go town die oddest possible way return thier house find selves confined premises thier leaving sends strange desert world populated multi layered sandworms eventually find dead must remain home years would not bad not family nyc artisans moves remodels place consulting thier caseworker juno sylvia sidney chain smoking best hire bio exorcist betelguese pronouced beetlejuice hence title agrees help unfortunately maitlands beetlejuice extremely po ed demon refuses return underworld visuals special effects movie completely stunning micheal keaton gives performance must blast play beetlejuice beer swilling cussing moral majority worst nightmare superpowers beetlejuice one tim burton best works something proud',\n",
       " 'twist rumplestiskin captured film starring michael keaton geena davis prime tim burton masterpiece rumbles absurdity wonderfully paced point not dull moment',\n",
       " 'vacationing adam barbara maitland meet demise killed local dog not worry laugh head transported world mystery tim burton takes hilarious journey afterlife danny elfman pairs tim work movie magic creating roller coaster movie score beetlejuice leave laughing notil cry crying',\n",
       " 'michael keaton portrayal ultimate fun loving ghoolie beetlejuice fantastic portrayal burton batman lead character dark brooding beetlejuice lets loose inhibitions actor plays hilt supporting cast wonderful burton story direction superb maybe not young children decidely dark side scary ghoolies great family fare good fun',\n",
       " 'like movie specially part family guest sitting dinner table ghost adam alec baldwin barbara geena davis make della catherine hara start sing song adam barbara make everyone join dance funny stuff also like beetlejuice michael keaton think picked right person play beetlejuice',\n",
       " 'favorite movie kid still watch million times funny dark one michael keaton best movies',\n",
       " 'movie odd movie love not follow hollywood way make movie movie stars winona ryder plays lydia deitz sad depressed movie couple dies new family moves house couple not want mother wants redecorate house movie star cast geena davis alec baldwin catherine hara jeffrey jones many others movie released march dvd think could much better could included deleted scenes bloopers know',\n",
       " 'like tim burton movies general good one movies funny great visuals time made',\n",
       " 'ah tim burton started taking seriously michael keaton unleashed unusally restrained alec baldwin supporting cast known loonies dancing puppetmaster burton tune',\n",
       " 'tim burton guy hollywood honor every day one agree stay system direct personal movies majors personal world something special things soul least come life burton camera beetlejuice one first efforts tim burton already great style signature world details reveal authentic creator possible hate world not losed two hours guarantee come see created camera little brain dvd proud collection',\n",
       " 'beetlejuice tim burton film pee wee big adventure popular next batman lot films monkey bone tried copy strange originality failed not best reviewed movie came critics likely not know think fun effects wacky energetic performance michael keaton original plot years still nothing quite like beetle juice mean movie giant sand worms eat dead people',\n",
       " 'loved tim burton made great movie simple story great imagination cool actors winona ryder young one could not imagine alec baldwin sense humour michael keaton sensational fx years old still correct beetlejuice funny character not wait moment finally becomes free act say beetlejuice three times great laugh',\n",
       " 'hard time finding information searched thought would type case anyone else wondering comes free new blu ray copy danny elfman main danny elfman enter family sand worm danny elfman danny elfman harry belafonte banana boat song worth price blu ray disc danny elfman end credits',\n",
       " 'continually amazed shoddy treatment movies get dvd release dvd simply disgrace especially considering great movie give movie stars wonderful example tim burton energy style dvd no extras worth mentioning no deleted scenes no featurettes not even lousy commentary track make even worse film cut theatrical release never seen dvd release get less originally presented theaters advice save money somebody figures movie released dvd needs live capabilities medium always provide material originally released not less',\n",
       " 'great movie baldwin keaton shine one bluray version looks cripsy clear',\n",
       " 'movie show next generation great imagination picture characters makeup great overall classic movie sit watch kids kids give movie good thumbs',\n",
       " 'movie whole family watch together great comedy little sacary lots laughs',\n",
       " 'awesome love could send gift sent fiance valentines day surprise loved favorite movie got right said would',\n",
       " 'well already knew tim burton delightfully warped sense humor not came no surprise movie warped hilariously funny adam barbara maitland alec baldwin geena davis charming young couple live large old house edge small town love much playful fun together settled three weeks vacation work hobby scale model entire town really good also apparently renovated old house one day went town get supplies model way home went covered bridge side covered bridge river found back home eventually realized died haunting place would ok except neighbor real estate agent promptly sold place deetz severely dysfunctional family city no time wife thrown comfortable old things adam barbara put horrible modern junk based dreadful tastes friend interior decorator also sculptures arguably ugliest things ever seen produced anyone age five redeeming aspect deetz family teenage daughter lydia winona ryder dresses black morbid also one able see adam barbara sympathy assessment step mother horrible taste also horrible attitude not quite know returned house accident actually think funeral found book titled guidebook recently deceased tried read no index not seem make lot sense manage draw door bureaucratic nightmare told talk caseworker turns caseworker abrupt shriveled old woman smokes constantly smoke seeps large slash neck warns not contact beetlejuice used assistant went left advertisement handbook good measure managed put one tv still lydia reads handbook help still not gotten rid deetz family desperation call beetlejuice michael keaton say name three times call suggestions demon actually think suggestion also made alien hard sure funniest parts movie beetlejuice attempts frighten deetz away least parents likes lydia fact wants marry lots lots inside joke type references throughout especially underworld bureaucracy tim burton sort film altogether',\n",
       " 'barbara geena davis adam alec baldwin maitland move country rest relaxation mind not even well meaning intrusive antics uber realator jane butterfield annie mcenroe rattle spirits discover died old country bridge near house dog stopped balancing broken bridge beam isomehow returning house maitlands discover handbook recently deceased attempt decipher plot thickens detzes move new york jane finally able sell house delia catherine hara fancies artist husband charles jeffery jones wants relax country survived stressful city life gothic daughter lydia winnona ryder likeable ones family attempts supernatural fail maitlands call beetlejuice disgruntled former bureaucrat living impaired caseworker not help get rid detzes maitlands soon turn beetlejuice assistance maitlands want house back not want become circus attractions lydia equally loopy friends otho glen shadix play show people really talk big supernatural ceremony puts attitude charge something goes wrong since likely reading ceremony went along otho not known films would dangerous everybody within close radius beetlejuice comes save day michael keaton steals show fast smooth talking demon not angel definitely want side chips thing really scared sandworms otherworld keaton would later continue work burton first two batman movies considered best series despite gothic gloomy tone film end happy note maitlands detzes end living together house lydia actually gets along former couple',\n",
       " 'thought really funny creative movie enjoyed watching also great value price paid amazon would recommend movie friend family member would also recommend friend family shopping dvd amazon best selection prices',\n",
       " 'around great movie like comedy horror alec baldwin great michael keaton awesome beetlejuice classic movie especially blu ray',\n",
       " 'never disappointment always laugh since blu ray joy',\n",
       " 'like beetlejuice supernatural buy movie not let good movie fun ages see movie started cartoon series cartoonnetwork early beetlejuice personally think micheal keaton fantastic job playing beetlejuice really like movie alot talk life like basically see barbara adam maitland die ghost movie meet beetlejuice not going tell rest watch movie trust movie really good make want say beetlejuice three times',\n",
       " 'winona ryder hot hot hot gothic death rock princess doom see lucas w r action best performance eldest baldwin brother ever seen zenith sure best performance goes miss ryder course big fan see fav part beetlejuice chumming baldwin character wearing type clothes no big deal witty clever charm spit beetlejuice hits gina davis winona ryder',\n",
       " 'fun movie enjoy watching michael keaton watched movie many years wanted copy home library',\n",
       " 'movie first came fifteen years ago father owned video store every wednesday night beetlejuice night older obviously still cannot get enough movie alec baldwin geena davis play adam barbara maitland two connecticut yuppies die prematurely car wreck within couple weeks home overrun ultra trendy new york city family charles delia deetz goth daughter lydia played respectively jeffrey jones catherine hara winona ryder adam barbara want house back attempt scare deetz house wearing sheets even possessing dinner making sing dance harry belafonte day attempts fail enter michael keaton betelguese afterlife leading freelance bio exorcist movie dark without scary funny without ridiculous opinion one real gems film late sylvia sidney juno case worker sidney pushing eighty film made turns great performance embittered equivalent afterlife social worker love smoke ever present cigarette comes slit throat never seen movie see seen not dvd get picture quality better ever',\n",
       " 'either like tim burton not fall latter beetlejuice not big deal despite huge following burton following funny moments not type like alice wonderland type films trippy think highlight robert goulet goulet robert gouleeeeeeeeet wionna ryder not stand baldwin',\n",
       " 'one michael keaton early best performances scene dinner table harry belafonte classic soundtrack great not fan ultra lib alec baldwin really michael keaton movie',\n",
       " 'think blu ray movies great although older movies done blu ray not really come blu ray quality newer movies guess life one pretty good quality',\n",
       " 'bought movie remember enjoying kid not disappoint story look film holds well',\n",
       " 'thought movie funny michael keaton beetlejuice right alec baldwin playing geeky husband priceless love da oo scence kids really enjoy one',\n",
       " 'edited review since saw beetlejuice kid found like viewing throw bizarre concepts characters add humor cool old school special effects top outstanding wacky performance michael keaton might begin understand works movie much fun watch mainly combines many genres day remains one unique takes ghost story old dvds around dvd release picture sound not great blu ray like whole new experience terms video audio quality worth upgrade like beetlejuice much',\n",
       " 'night big fan cartoon shown decided watch also trying see winona ryder movies know well known fact like seeing winona ryder dance end movie hey funny apart hilarious film liked much thing wrong short maybe special efects bit hey older',\n",
       " 'one favorite movies ashamed self took long finally get dvd truly one funniest movies dead barbara adam young couple die accident house bought another couple nothing common barbara adam start like father daughter lydia start question wither not scaring family really want',\n",
       " 'couple dies live house spirits people move dad dork mom control freak crazy women sculpts similar character home alone one shes unbelivably terrible neglectful psycho mom daughter dark depressed girl played wyona ryder looks sexy thisone cool line whole life dark room one big dark room get constant visits weirdos also dead people dork belive not somewhat sexy geena davis play spirits try scare living good natured suceed hire michael keaton beetlejuice get rid forceful tim burton movie course means awesome everyone could like wyona ryder looks awesome red wedding dress late film stupid child hater mom lady movies flaw shes bitch movie full well written mastery great special effects great',\n",
       " 'let know movie one personal favorite ghost movies said feel need tell details terrible dvd packaging fine nothing great works picture sound quality good make good cinematic experience however menu complete trash extras extremely embarassing play movie actually click scene selections click first chapter no play button problem recall film afi top funniest movies ever made not think could make better dvd garbage sick tired movie companies getting away selling us trash double sided disk no good pick format want first time watch stick side whole time switch time sides get scratched personally think fullscreen idiots think getting whole picture not people put no actual thought making dvds slap crap together think fine no not fine clean acts',\n",
       " 'micheal keaton funniest movie ever worked tim burton batman movies tim burton admit pretty freaky movies beetlejuice batman returns nightmare christmas willy wonka know wierd give movie stars got pretty good effects bought second volume cartoon cool cant find ones',\n",
       " 'beetlejuice entirely sucked dream like film afterlife complete quirk not accredited would known already directed felt like batman tone wet darkness cubistic art world urban always feel like drawn mind deeply rooted pure abstract painters mind love demensions creativity takes risks also something not see enough latest works always feel like halloween watching film fact sort tradition watch film along nightmare christmas around halloween time nothing gets mode better ecclectic scare foolishness appropriate enough remind cartoon',\n",
       " 'crazy movie never seen another like class really enjoyed one worth owning gotta love plot movie actors',\n",
       " 'ordered annual movie thon driveway halloween still funny way back',\n",
       " 'classic dark comedy tim burton follows couple die car accedient become ghost along way new york family moves thier house start making huge changes ghost couple get help wall nutty bio exosist named beetlejuice causes mistif mayham new york couple afterwards ghost couple fall love new york daughter lydia one see ghost couple afterwards ghost couple try convence beetlejuice stop mistif making bio exorsist dos not listin continues make mayham tim burton micheal keaton work together brilliantly film thay years later batman batman returns alec baldwin gena davis play ghost couple great brilliantly easily belive thay accturall couple real life winonna ryder plays lydia brilliantly fun easily best effects not best thay stilll bring chessy fun look film beetlejuice must see tim burton fans see recommendations beetlejuice fans overall rating',\n",
       " 'tim burton best work well edward scissorhands best work closely followed ed wood big fish movie witty imaginiative little gory times not gory movie seems get funnier watch michael keaton proves one funniest comedians tries portray betelguise really good alec baldwin geena davis great dvd good picture sound clear crisp thing menu dvd horrible not even play button come warner better special features average considering one first dvd come warning keep kids age years old younger away movie bad violent even f word not rated g like kids movies watch instead movie really started tim burton career mean pee wee big adventure good way better ny far recommend tim burton fan evwn not big fan work still love movie',\n",
       " 'real classic comedy genre continue quote lines movie came daughter chuck kids know love em',\n",
       " 'loved beetle juice forever still swear passed house camping trip outside freeport maine got new dvd blue ray player kids christmas choice thought would enjoy think continue enjoy long time not wait grandchildren see copy received perfect happy',\n",
       " 'first time saw movie loved watched several times catch things missed first time alec baldwin gena davis superb acting winona rider also stars wonderful job role flick family one f word said though',\n",
       " 'always loved movie ever since first came bought fiance favorite move one favorites recommend movie anyone always loved comedy michael keaton great beetlejuice',\n",
       " 'classic movie loved watching adult brings back many memories must watch movie least life',\n",
       " 'maitlands played geena davis alec baldwin prematurely killed automobile accident returned home ghosts meanwhile old country house sold trendy new yorkers entertain unwelcome changes charm maitlands want difficulty scaring new yorkers afterlife case worker suggests hiring bio exorcist beetlejuice played michael keaton job new yorker daughter played winona ryder serves mediator plays strong supporting role words best describe direction tim burton know say people commit suicide life become civil servants flick entertaining worth price',\n",
       " 'great shape got fast love shopping amazon get good deals love save money',\n",
       " 'received movie great condition happy purchase nephew love thanks great service',\n",
       " 'great movie watched kid watch kids even entertaining year old would definitely recommend movie',\n",
       " 'thought daughters would ready classic except foul words movie safe animation antiquated wit humor say times enjoy',\n",
       " 'niece daughter loves movie not seen long time fun revisist watch kids today react craziness',\n",
       " 'great movie great price enjoyed actors young alex baldwin fun keaton riot must see family highly recommend',\n",
       " 'love watching movie group years old kids also enjoyed movie dancing song movie sang danced movie dining room table ages enjoy even grandparents always classic favorite mine could not find stores happy purchase amazon',\n",
       " 'bought video share grandchildren purchase thrilled able see computer waited delivery grandsons watched first computer received dvd mail remember watching movie children seeing grandchildren enjoyable dinner scene day song hysterical today years ago',\n",
       " 'forgotten parts movie oldie goodie like goonies everyone see movie fun movie full pranks funny not serious movie gives good lesson',\n",
       " 'not love watching beetlejuice michael keaton best alec baldwin fun watch younger slimmed early days role favorite actualy geena davis amazing actress controls screen natural abilities little effort involved movie great blu ray usual',\n",
       " 'classic movie years since seen film blu ray version perfect best version film seen since watching movie theatre years ago great cast great music funny get',\n",
       " 'beetlejuice one tim burton best movies done enjoy movie loads watch time time never get tired movie no matter many times watch movie beetlejuice actors amazing job musical score perfect timing exact scenes love good comedy movie talented actors talented director pick movie enjoy laugh laugh time time',\n",
       " 'beetlejuice anniversary deluxe edition beetlejuice tim burton classic comes packaged anniversary dvd edition michael keaton think one best film performances brings house also starring geena davis alec baldwin two actors would never thought put together movie genre classic comedy best dvd also special features although nothing make head spin offers several episodes cartoon series late beyond nothing spectacular not needs much simple classic comedy not make laugh something wrong exorcised said buy not must dark comedy',\n",
       " 'review beetlejuice blu ray video transfer warner bros pretty good given films yr pedigree disc must manually select dolby truehd lossless auidio track defaults lossy dd orig slightly stretched properly fill screen danny elfman musical score showing age not crisp typical new movie although noticebly better dvd audio track must fill ever growing blu ray collection',\n",
       " 'know supposed great funny movie not get started ok alec baldwin geena davis fine got boring could not see point movie even retrospect make movie plus michael keaton character annoying wanted go away know supposed annoying fine good job not want listen watched family son hated husband liked maybe guy thing grown guy thing',\n",
       " 'beetlejuice one great classic movies ingredients good comedy tim burton boot personally could not recommend anyone especially tim burton fans reason not seen',\n",
       " 'great imaginative movie tim burton genius acting great funny creepy realistic given unrealistic underpinning movie',\n",
       " 'another classic tim burton film remarkably without johnny depp love watch movie time',\n",
       " 'hello loved movie since years old older still not get enough dont movie reccomend get asap best regards jecka stay laughing',\n",
       " 'bought movie year olds loved watch times day glad like movie thats not cartoon',\n",
       " 'one favorite movies excited dvd bought since great deal arrived quickly great job amazon',\n",
       " 'adam barbara maitland alec baldwin geena davis staying home vacation effort avoid driving cute loose mutt car plunge bridge next thing know home however something tad strange yep soon find recently deceased cope situation find help whim strange people purchase intend occupy house story takes intriguing turns moreover music instead background mood helper actually important characters story day say day ay ay film excellent candidate blu ray blu ray version also standard extras not sure could swear scenes saw earlier versions',\n",
       " 'would say not really top favorite master filmmaker tim burton not horrible classic display burton wild imagination clever imagery great comedy not burton directing makes laughfest michael keaton perfect beetlejuice not think no one else equally play character like bad appears film total ten minutes alec baldwin geena davis shine deceased married couple want eccentric family perfect house catherine hara jeffrey jones winona ryder give nice performances robert goulet cameo appearance treat oh let not forget danny elfman music score awe inspiring pre batman stuff right main theme catchy art direction costume design plus flaw find dance sequence end film pretty corny find annoying overall fun film older crowd',\n",
       " 'got today first thing noticed box cover beetlejuice shrinkin head turn barbra husdand side beetejuice husband head beetlejuice head soundtrack cartoons getting great movie song songs cartoon worth every dollar',\n",
       " 'good classic movie put halloween geena davis alex baldwin micheal keaton earlier days good job real cute movie',\n",
       " 'keeps getting funnier every time see says beetlejuice mischievous bioexercist title superbly played michael keaton quote pretty much sums feel movie especially famous dinner party scene premise movie great score memorable acting entire cast perfect highly recommend film often tagged halloween movie really enjoyed time year',\n",
       " 'love movie brings back memories first watched kids like think funny eats beetles lol',\n",
       " 'cool movie funny amusing moments young alec baldwin gena davis winona ryder micheal keaton great ghoulish pervert worth seeing micheal keaton bluray nothing stunning good textures clarity better dvd not greatest looking bluray disc outside shots great indoors nothing stunning grew watching child stills holds alright little short last joke movie beetlejuice waiting room sitting next african tribesman big laugh see never guaranteed make smile',\n",
       " 'pee wee big adventure director tim burton first film beetlejuice film made people take notice original talent think else could made death much fun script warren skaaren michael mcdowell may deal departed fresh original ideas deliciously left field particularly liked waiting room recently departed case worker played sylvia sidney bo welch art direction highly imaginative oscar winning make effects michael keaton ribald renegade bio exorcist plays like deceased stand comedian could not tell parts keaton schtick scripted improvised also film heralded winona ryder talent reckoned hopefully soon unqualified success',\n",
       " 'got excellent service movie arrived promised date quality movie picture like brand new continuing shop',\n",
       " 'one best dark comedies ever not seen yet need watch friends family hooked',\n",
       " 'beetlejuice funny love come dvd thanks maitlands fun buy dvd',\n",
       " 'beetlejuice',\n",
       " 'beetlejuice wall masterpiece dark comedy micheal keaton owns story cleverly crafted acting good keaton best camera affect technique good simply funny enjoyable movie blu ray makes better',\n",
       " 'movie always popular different entertaining fast moving hour half film available bllu ray looks better nothing outstanding definite improvement shapnress several characters mainly michael keaton unique sometimes revolting title character beetlejuice always fascinating watch whole movie also get lot humor scary special effects odd see alec baldwin low key role played type guys davis looks acts like well davis many times played nice people viewers like took four viewings finally appreciated catharine hara comedic talents movie favorite someone find absolutely hilarious messed wife mother family moves haunted house inhabited baldwin davis keaton made name actor whacked robin williams type role although never really followed anything popular film winona rider cute teenage daughter get fun supporting roles diverse people talk show host dick cavett singer robert goulet actor jeffrey jones good tim burton directed film not surprised typical occult themes ghosts like no heaven hell strange existence touted dead people go ridiculous picture afterlife however chalk someone trying make fun entertaining picture succeeds overall unique entertaining film different say least',\n",
       " 'tim burton unique vision almost cartoonish times really comes across film dark comedy accents humor rather horror also noteworthy michael keaton character not annoying living dead well winona ryder character also interesting watch',\n",
       " 'dead couple attempts scare modern family house help bio exorcist movie makes laugh every time see movie amusing twist standard ghost story tim burton hilarious skeptically humorous comedy afterlife two honeymooners',\n",
       " 'loved watching movie younger still love today',\n",
       " 'beetlejuice plain simple dont hope beetlejuice snake get',\n",
       " 'one classic fun filled movies aged well kept room full year olds happy',\n",
       " 'classic movie hoping kids ages would love',\n",
       " 'glad able find new copy video came quick great packaging',\n",
       " 'tim burton beetlejuice great film michael keaton wonderful job beetlejuice whole movie funny haha blah blah',\n",
       " 'afterlife going like guess not bad time though gotta stay away anyone like beetlejuice tim burton movies acquired taste entertaining sometimes seem little though makes movies entertaining first place cast great movie seem give characters obvious reasons effects seem dated still make give laugh see hijinx beetlejuice action advise new comers try watch trailer clip though many especially fans greatly appreciate movie might not',\n",
       " 'not much say others not said really fun film good writing cool story along fun characters creative ideas afterlife usually not give five stars movie certainly deserved two thumbs',\n",
       " 'beetlejuice excellent funny movie keaton hilarious wacky beetlejuice great special effects help film think one best movies ever made sure agree good time watch beetlejuice',\n",
       " 'beetlejuice well written movie everything excellent acting special effects delighted chose view movie',\n",
       " 'michael keaton brings no distinguishing characteristics ghoul beetlejuice merely acts bizarre script often stunning cinematography movie comes focus like finding one beetlejuice snacks popcorn',\n",
       " 'loved movie kid ordering year old shocked watch hear not several profane words f bomb well many sexual references think bit lax rating system back definately',\n",
       " 'getting crazy really impossible today not find french vhs version film could u please tell something tks',\n",
       " 'amazon sells something directly get time not earlier originally placed order one advertised marketplace vendors advertised days order acknowledgement indicated devlivery within weeks via usps immediately cancelled order ordered amazon got days',\n",
       " 'beatle juice dvd purchase not work not able watch movie christmas day planned currently still movie not sure',\n",
       " 'review would like know blu ray comes spanish subtitles thank u',\n",
       " 'not find movie entertaining not huge fan tim burton though might make cute halloween movie not also says f word not word care listen allow children listen home seems things found fun entertaining youth no longer fun entertaining looking fun movie watch family would not suggest one',\n",
       " 'debbie lee wesserman claims casting movie perfect alec baldwin performance less memorable course nonsense casting unmitigated disaster sole exception alec baldwin manages salvage second star film particularly memorable performance',\n",
       " 'know version beetle juice not realesed yet still movie movie based hit cartoon show michael keaton portrays bettlejuice right manner movie one whole family must see',\n",
       " 'unit works advertised need patient entirely mole want clear tunnel trip trap able get two moles trap think actuator spring needs little stronger easier time pushing spikes soil yes unit work one step away contracting exterminator',\n",
       " 'bought six totally ineffective not waste money model trap works',\n",
       " 'little tricky set absolutely no faith product however worked one false trip first week week later saw tripped assumed another false alarm no dug area found dead mole sorry kill go great product',\n",
       " 'cut hand first time tried set set hard hell set cant use ground wet not like sucker',\n",
       " 'please dont let bad item review reflect seller trap doesnt work not worth time even try item looks like great design doesnt work',\n",
       " 'biggest waste money not know solution trap not called spikes not sharp enough even penetrate hand triggered much less something small mole pull trap not know got mole unless plan digging yard see mole might not know emailed moleman said needed stick piece wood trap spikes come not trap mole past times trap gone caught mole pull trap set free no box directions state detail needs taken say either live em hire professional move',\n",
       " 'best plunger type powerfull type works great sod areas last many years traped mols first setting',\n",
       " 'gopher trap designed poorly gophers bought trap online problem part come trap kill gopher gets stuck dirt set trap not sure not dig far enough problem gopher issue not solved product',\n",
       " 'tried several tricks rid moles tried flooding using flares hole no success bought trap last spring fall still moles matter fact not caught one mole yet got couple kittens hoping help mole problem spring think next trick try poisen worms people suggested using wrigley chewing gum none things work may resort dynamite try another trap one line traps',\n",
       " 'large yard several moles called mole pest removal company hired paid dozen traps set yes used exact traps ordered anyway days trap moles yard also charged mole caught got moles time may not seem like many read moles find not like mice rats breed slowly live alone reproduce per year maybe offspring maybe half live natural conditions see area network mole tunnels grass pushed one mole study tunnels usually see comes edge yard may moisture forest wild area need look branching tunnels find areas guess mole may using section go back forth locate good spot gently push grass collapse tunnel set trap sure set trap spikes go ground not spikes kill mole not right middle mole tunnel idea obviously set trap area mole try use mole tries fix tunnel bam trapped first mole today saw spring trap took trap mole dead underneath trap work kill mole need put right place set correctly guy worked pest control company told really makes difference buy traps would suggest getting two traps distinct area think may mole plan keep rotating traps moles gone',\n",
       " 'not work well used month no moles killed easy use directions say put active tunnel set way mole comes along blamo thing moles go around not good trap',\n",
       " 'used works fine little hard set first time figure no problem find right mole trail put bingo dead',\n",
       " 'got victor mole trap excited get rid varmits reading instructions others comments great way one important question yard spotted mounds dirt not really specific tunnels see everyone directions step tunnels place trap see no tunnels mounds dirt ided several fairly large tunnel openings open onto grass place trap one openings help moles driving nuts thanx',\n",
       " 'past year moles terrible thing getting dogs dogs driven things front yard within days placing traps front yard results love better posion',\n",
       " 'proven cure lawn mole tunnels tried mole peanuts mole worms grub killer without results work',\n",
       " 'received product exactly advertised prompt delivery traps around years work take time read instructions not much involved setting getting results want course no moles digging yard easy use opinion much preferable poisons gas smoke devices could always possibility harming family pet animal besides mole',\n",
       " 'not single mole trap seemed always fail penetrate ground push ground',\n",
       " 'trapped moles th first two weeks use thing needed keep moles yard',\n",
       " 'purchased three traps research internet easy set killed moles first week little patience finding active tunnels would highly recommend item',\n",
       " 'thought would throwing money hole product works great killed moles last months key figure tunnels use days push raised areas yard see ones moles push back found highway hard soil roots set trap push spikes trap ground several times trap going way mole triggers trap spikes travel easy otherwise spikes may hit something hard force trap ground without hitting target',\n",
       " 'reviews said long pick good location traps work really well false starts less defined tunnels soon picked tunnel route clear caught mole within hours nice thing trap not dig ground place stick ground find well used tunnel bought two actually think one would totally fine seems pretty sturdy get moles future ready would certainly recommend product',\n",
       " 'strong heavy duty reasonably priced however not yet caught mole looking forward',\n",
       " 'using mole traps kind years killed many hundreds moles used victor traps cheaper traps kill moles prefer victor design legs hold trap ground barbs keep trap jumping ground trap triggered trap made heavy guage steel spikes heavy guage sharp spikes sharpened diagonally tips cut like knife trap easy set takes couple minutes follow simple directions people missing moles trap probably not setting trap deep enough not making sure spikes travel freely ground trap sprung couple tips locating run step spot flatten run set trap straddle flattened run push legs trap dirt far go trigger touches flattened part run stepped important set tripping mechanism push spikes dirt times travel freely caught several moles week get another one evening mole trap well made usa easy use definitely kill moles set correctly traps set clusters kill many moles one trap takes longer',\n",
       " 'tried everything get mole leave peacefully sprayed castor oil used mole repellent pellets etc might leave week two would back purchased victor mole trap read instructions studied bit web rid yard moles three days great product previous reviewers not understand not really trying trap mole spikes likelihood maim mole go die not really know whether got notice no new tunnels built need pay attention yard setting trap figure mole likes travel flattening tunnels watching reappear try think like mole get',\n",
       " 'soft loose sandy ground spikes might cause entire trap jump ground spring sprung every action oposite equal reaction drilled two holes top arms trap used small string stake traps ground sure spring trap several times sure spikes drop freely minor retrofitting traps work great killed three moles week sure follow instructions reviewers finding active tunnels important',\n",
       " 'victor mole trap spears worked follow directions carefully pull spring arm trap work no tunnels tried many different chemicals techniques get rid mole none others worked',\n",
       " 'bought item days ago checked seen countless yellow jackets wasps bees go without giving time day empty not one creature basically suppose trap imagination dont bother',\n",
       " 'guidlines suggested no bees came added stuff still no bees not want fill water going throw away icky',\n",
       " 'received product missing lid pretty disappointing considering much crucial part trap someone not even look product determine ooops guess lid shipped huh would like shipping dvd case without disc would strongly recommend no one purchase products made company unless want receive one without lid go trouble shipping back refund yes said refund no way would give chance send another one',\n",
       " 'excellent trap yellow jacket black wasp problem fill half full apple juice dispose dead yellow jackets every days clean refill',\n",
       " 'red paper wasps wanted nothing catch bees flys etc device tried no luck',\n",
       " 'three traps came broken tops no way easily secure raps hanging tree anything use string secure traps',\n",
       " 'large therefore keeps content easy fill use reuse wife allergic ive years get year least thin plastic bottles crack sun exposure time nice thick plastic bottle would pay not replace every years live landfills cthese best bee traps ive tried keep buying ps real trick finding brew inside jar keeps local bees coming back mixture beer water pinch soap film top layer something slippery prevent beer evaporating effective ive found',\n",
       " 'screw top not screw onto container provided no way item hung top loop jar would fall mismatched top jar disappointed quality',\n",
       " 'use yard anchorage put inches water salmon scrap last two days must caught bees love trap plastic cheap one crack reused one years try lots meats salmon killer least seems draw yellow jackets like crazy',\n",
       " 'gophers ruining yard actually dogs ruining chasing gophers would come home trenches dug tried everything else gasers poision sonic noises cat hair not think could use traps not enjoy killing animals guess pushed far cause bought set really enjoy hunting took couple days big suckers living southern california would push much dirt would set trap far enough back escape kept digging trap resetting bam got first two today still alive pissed chompin teeth pulling glad wired traps would not want stick hand easiest way kill found get bucket fill water throw trap sink bottom die pretty quick gophers eventually use tunnels get kind excited next one',\n",
       " 'repeating waste money not work yes set according directions yet trap first mole mole tracks yard',\n",
       " 'picked set local home improvement store design trap seems count animal pushing dirt front dirt sets trap instances gopher likely caught behind neck shoulders see lot holes property hole not plugged plenty sign scampering around cases get caught hip area nose trigger plate would set makes little awkward emptying trap cinch type trap looks effective much easier empty cinch trap cost times though might get one two cinch traps type read least one review sweep jaws could issue preventing trap seated small holes closing effectively really easy work around first thought shorten jaws decided make hole bigger setting learned gophers not shy traps activity around hole short order excavate hole size allows trap operate freely gopher come especially notice fresh activity around hole much literature setting traps recommends digging back plugged hole access main tunnel set traps pairs gopher enter trap either direction order replug hole found not really necessary hole working freshly plugged one trap hole works every time also noticed small plug not necessarily mean small gopher one instance almost passed setting trap thought going wasted effort cleared dirt plug size cent piece opened tunnel inches gopher got hole normal sized gopher also read degree difference gopher comfort zone burrow enough cause something fact light appears point previously plugged also enough quickly come back see happened one first day used set one walked yards away set another checked first one way back minutes later found tripped completely covered dig found little bugger pushed rock size bird egg first catch rock bill murray moment flashed mind gopher history way working traps moment secure piece butcher twine tunnel probe piece bar size hardware probably overkill probably tie traps marking flags wire type stems available local home improvement store especially setting lot traps may not need secured gopher body trap not really going anywhere go anywhere might best let gopher keep souvenir not success traps would good idea examine traps set never used things bought set years poison pellets simply not work look fresh activity not shy providing enough room traps work far set holes plugged set next time fresh sign no plug not bait mine trigger plate always seen set easier check mounds acres guessing least gophers traps busy keeping score give trap stars effectiveness stars emptying issue experience no need spend lot money things work',\n",
       " 'effective way get rid pocket gophers tried things easy set use',\n",
       " 'purchased caught voles lawn finally hole free purchase pairs put one facing direction vole run',\n",
       " 'unlike certain utube video denounces gopher trap find traps effective know set properly absolutely no problems traps reducing gopher population yard garden tremendously',\n",
       " 'bought bunch different traps try find best one not best catch one bit safer nice',\n",
       " 'used trap many years works great never breaks always catches gophers yard neighbors yard',\n",
       " 'outside product open absolutely nothing show use must go inside search online print make notes something use product not one printed sheet use worksite no value losing half hour',\n",
       " 'ok wrote review early since initial capture bagged couple furry garden terrorists unfortunately relatives continue excavate around garden problem trip mechanism not sensitive enough suspected wrote initial post catch rate less usually find unsuccessful sets filled dirt untripped ordered macabee traps post review days using initial post pocket gophers running amuck near vegetable garden tried smoke bombs without success watching number videos tube trapping gophers decided take whack two different sites found new mounds probed main trench excavated set traps direction wired traps stake replaced sod hours later first set caught gopher tail one clunk head shovel board set presume not placed deep enough hole gopher simply pushed dirt trap drawback perceive product bump plate requires pretty hard bump spring trap one gopher bag first hours willing keep using',\n",
       " 'actually use trap catch moles works fine simple use set dig shovel find tunnel place carefully not bother tying string stake anymore look disposable trap find disgusting dislodge dead mole trap also not want bother digging back used enough know works not feel need check',\n",
       " 'set trap day received gopher pushed dirt onto also pushed trap burrow reset trap nail behind keep place two hours later gopher problem solved',\n",
       " 'used trap able eradicate vole problem fairly quickly traps great long lasting traps get job done not fair well lawnmower though',\n",
       " 'mine not work well another person said gopher push set trap tunnel not spring trap trigger not sensative enough recommend maccabee traps cost little lot better luck not even waste time setting easy set traps avoid',\n",
       " 'purchased single victor time pair sweeney found sweeney difficult use due wire construction flexed set sweeney tripped without snagging critters set victor tunnel first sweeney caught gopher within minutes replaced second sweeney tripped no gopher caught victor within twenty minutes another gopher snagged placed victor third tunnel snagged gopher within minutes model relegated tool shed ordered two victor',\n",
       " 'length minsi recently bought pair seeing effective bought two number reviews mention instructions lack although traps actually simple set would not know instructions pretty cryptic illustrations especially tough follow decided film instructions show think watching see easy set traps purchase traps find helpful learning set',\n",
       " 'recently purchased woodstream corp gopher trap within minutes laying traps catching gophers product best ever used gopher trap easy set works great success also remember use wire attached trap tie steak prevent gophers dragging trap hole caught hope find product easy use good luck',\n",
       " 'may figure set right holes takes get good catching really put significant dent golpher population attacking gardens',\n",
       " 'called easy set no instructions included wrong looks like broken finger instruction please',\n",
       " 'poor excuse gopher trap lots gophers used traps recently bought four sets traps ill designed gophers able trip without getting caught even managed push set trap hole problem sweep pincers wide mechanism easily clogged sand dirt not bother traps',\n",
       " 'ordered victor easy set gopher trap exhausting methods trapping killing sneaky little gopher received trap expected delivery date shipping prompt disappointed opening box no instructions included though searched instructions online come hard see diagrams small print playing several minutes able figure set trap crafty little gopher not mound several days receiving trap could not use immediately shifty little creature finally mound husband cleaned hole make slightly larger set trap secured trap gopher could not run decided cover mound wagon light would not enter hole went outside check trap hours later trapped guileful gopher gopher still alive pulled hole quickly eliminated gopher managed destroy large portion yard evaded us months wish found victor easy set gopher trap spent methods not work highly reccomend product',\n",
       " 'purchased set two local home store purchased gopher repelling device advertised gopher would repelled beeping noise got home read packaging learn device would not repell gopher weeks gopher eating three plants herbs day math realizing would no plants left weeks purchased traps little tricky set figure easy set trap knew recent gopher activity dug mound dirt found tunnels cleared dirt hole refilled knew active took dirt placed traps tunnels direction indicated checked hour later gopher history not easiest empty use screwdriver push device release gopher',\n",
       " 'trap poor quality lock bar weak engage set trap threw away useless',\n",
       " 'tried get rid buggers year tried everything chewing gum insecticide grubs flooding garden hose ran hose main tunner hours water appeared another hole feet away mole poison looked cosstly mole servicewithout guarantees even considered little gasoline one time mole trap arrived yesterday april read reviews using instructions reviewer thanks g klos set trap following reviewers instruction warned family aware trap keep away shortly pm today aprill found trap sprung jaws critter wreaked havok flat smooth front yard tomorrow move back yard trap incredible',\n",
       " 'forget everything else use simple product kill moles getting rid food source trying chase away ways not work kill bought new home acres mow many mounds tunnels looked like hundred moles literally could not step anywhere without stepping tunnel tried everything simplest cheapest way traps not make mistake trying kill grubs using spore etc etc get traps use em done put traps acres three weeks got moles moles tunnel feet one day looks like must hundreds moles years not tell ever mole problem',\n",
       " 'big yard sandy clay soil pretty soft ground sc moles used big problem spent aproximely month buying traps seeing moles destroyed yard no results save time trapline cinch traps good products not work moles feel trap inside tunnel no go loop traps work somehow many trips realized way wide mole ended buying one used choke mole nash trap one victor sight far caught moles guess victor sight last one caught set trapline first beginning run cinch choke victor chocke went check hours later found tunnel deviating traplines cinch tripped chocke one knew fence victor trick right second one trap kinds traps one work twice fast secret believe fact not wide traps trigger sensitive blades curvy push animal inwards closed fast strongly trap goes inside tunnel doomed fail yard moles feel avoid alltogether choke fine idea wide not catch thing probably stays choke closes story not spend dollars like buy one find run goes straight around fence house set top tunnel not dig nothing spade slot blades sit press tongue trigger middle enjoy sweet revenge wanted share experience mole traps not work save money',\n",
       " 'trap fescue lawn weeks moved twice first location not get anything second one caught first mole set days definitely recommend style kind spikes sit ground name little deceiving trap not completely sight fairly low profile part could damage little hands feet already underground set feel kids little danger playing yard nearby toughest part identifying active runs thicker grass harder identify runs hunt continues',\n",
       " 'took days mole finally got caught trap fairly easy set think luck mole heads trap work check pic catch proof didnt want kill little guy really tearing lawn not moving probably major con trap take lot strength open little easier open probably given stars',\n",
       " 'received traps ordered glad watched several videos setting absolutely nothing box really helps figure set trap effectively fairly literate comes reading instructions therefore consider enclosed instructions fair figure exactly nothing illustrations helpful far not successful actually trapping mole still trying however writing review caution reader something could disastrous using device checking one traps decided move set safety loop bar designed done moved trap still not sure happened device sprung instead safety catch stopping action actually came great velocity hitting forehead inches eye wound small none less hurt like crazy bled profusely hate think hitting eye mouth said not know really happened still not found safety catch maybe mole return careful suggest wearing safety glasses setting',\n",
       " 'big place caught mole one year used every trap know best ever used spring strong little hard set takes hold moles mole hard kill traps no traps work well tree roots victor one use easy set model might work used nash trapline victor stab type victor one would recommend',\n",
       " 'bought traps spent hour trying set one decided trigger mechanism must installed wrong made no way thing work sent back buy another type brand save money',\n",
       " 'many reviewers suggested best way use trap not bury simply tamp ground tunnel make slots jaws trap never misses trips one less critter ruining lawn',\n",
       " 'great product made strong durable metal last long time best success not using product like explained box used shovel axe make slit ground clamps fit secure clean catch tripped setting traps walk top raised tunnels find active sites know set trap killed moles yard first week happy hunting good luck',\n",
       " 'admit ambivalent harming creature even one tears lawn way moles one kids fell nearly broke leg one numerous mole holes yard reluctantly decided cut mole invasion not want need another emergency trip doctor office also elderly parents visit often thought falling frightening us bottom line traps work want trap quickly kills moles also seem keep suffering minimum not even sure moles suffer walking mailbox felt one traps go mole dead time pulled less minute later lawn no longer full dangerous mole holes admit would occasional mole hole would stayed away traps animal lovers pets situation becoming dangerous not want anyone get hurt walking across yard',\n",
       " 'excellent product play sensitivity trigger bit used set worked well trapped couple moles hours problem gone away not like manufacturer instructions find set armed trapped safety clip found straight area mole flattened straight part runway couple inches wider trap stepping used putty knife wide trap jaws cut two lines perpendicular run widened cuts bit jaws push trough cut pushed trap jaws cuts trigger tip touched top part removed safety clipyou protect trap like neighbors kids dog covering trap large bucket heavy weight top',\n",
       " 'smoke bombs spring loaded spike traps gave mole invasion called exterminator used traps not miss caught six two days found traps line ordered two month later saw another mole tunnel next day careful setting traps powerful way exterminator gets mole',\n",
       " 'type trap highly effective not follow directions place bury directions tell simply not work sight trap sight deep get holes yard perhaps annoyed mole expensive exterminator refer mark mole man came house showed sight mole trap tried respectful finally said deep ai not gonna kill nothin turns exactly type trap uses knows use correctly pulled knocked dirt walked around yard telling stuff moles clearly took great pride mole murdering skills please not give peta address finally stopped stood silently moment stepped boot gently run soil level surrounding soil next took special tool making slits previous reviewer described making shovel made two slits run blades fit artist mark mole man pressed trap blades slowly slits made flat trigger sitting gently soil released safety done placed three back yard big yard hours later dead mole wonderful us expensive experience go get nasty little critter trap not follow directions listen reviewer geoffrey klos',\n",
       " 'length minsthis way luck using type trap killed moles yard way keep mind techniques may vary depending area soil type',\n",
       " 'not much else say really works set trap hours later dead mole ca not ask easy set easy reset',\n",
       " 'hallelujah wicked mole dead years hunted critter read entire internet years research led mole problems let save time forget everything think know way deal moles kill way kill trap baits not work treating grubs not work moles primarily feed worms not grubs sonic vibration thingys not work traps work not follow directions package best explain employ product first stamp mole runs yard ordinarily not want encourages mole dig new runs thus damage need current picture mole active yard next day stamped runs observe new runs looking long straight runs long straight runs like mole highways curvy short runs hunting roads curvy runs less traveled hunt highways open trap set safety catch set trap next run want place take foot stamp mole run want place trap foot width not push hard want ground stamp level rest yard take straight blade shovel create notch either side trap blades go not go real deep couple inches wiggle shovel create pockets blades trap go carefully place trap notches pockets created trigger trap level ground unhook safety took days catch mole set trap way moved first day not happy run originally placed not catch mole days look better spot warning go check trap bring shovel wear shoes got mine not dead trap got back not going anywhere alive pull trap go slow gentle not want accidentally release ready whack shovel years mole terrorized yard wits end yard destroyed let healing begin thanks product kill moles edit wanted give everyone update got third mole last night using traps add parents killed family alone responsible killing least basketball team moles anyone questions kill moles post email positive kill mole edit reading reviews wanted clear misconceptions misunderstandings first looks like moles going around trap likely cause trap set deep ties another reviewer said set trap trigger grass level would shallow set trap tamp run ground level not grass level cut notches trap blades place trap ground trigger lay even rest ground second true moles eat grubs primary food source worms worms usually plentiful move ground thus making easier find hungry mole grubs stationary mole eat requires luck find third not get mole first day not panic give days remember best place put traps long straight runs mole highways highway though not mean mole use highway every day give time not necessary move traps often even mole seems active another area yard picked good spot place trap come back use highway fourth moles territorial may overlap minimal however keep mind like moles prefer travel along pre dug roads not build new road every time want go grocery store moles not like either even kill mole likely another mole move yard keep mind also runs see ground level fraction amount tunnels might running yard moles not hibernate follow worms winter worms dig deeper winter mole survive winter mole whole labyrinth tunnels deep ground easy pickings another mole looking move yard edit taught boss use traps got first mole weekend moles st louis bad day edit got another one last night mole kicking around area last months could not get good run trap finally idiot moved another area yard make couple long straight runs get well last mistake traps ground less hours woke morning dead mole really nothing better corn flakes dead mole edit week killed last mole may got another one destroying yard took months mole dead wonderful thing heavy rain rains brings worms moles soon follow right waiting arms sharp teeth mole trap edit pics anyone suggestions questions pics leave comment see edit less hours later proud parent dead mole kill moles people day edit posted pics show prep trap setting also tried label components questions future reference terminology sure verbage not right long understand different parts matters edit number commenters reviewers asked sandy loose soil not able give good answer not experience kind condition another reviewer though really good job explaining technique following link comments thanks looks like amazon not hyper link reviews copy link paste another tab browser take right comments real helpful people south dealing sandy soil edit not everyone hunt moles dead winter got first winter mole last night moved girlfriend taking care yard last summer started noticing mole activity mostly flower bed tough place trap kept waiting good run trap never got one winter came kind forgot figured would get next spring taking xmas lights yard tore tried stomping runs hoping would get highway trap could not get good one finally got fed set traps stomped runs week ago snowed pretty good traps covered yesterday warmish snow started melt allowed traps peek snow sure enough trap sprung figured kid prolly kicked pulled middle winter day got freezing rain morning got winter mole remember moles not hibernate usually deeper avoid cold winter one must desperate maybe thought safe since snow ground wrongo buddy edit year hatch year cicadas st louis moles well cicada larvae emerge ground mutate mate ground preparing emerge mole food read articles effects cicadas ecosystem one thing consistent years cicada emergence mole activity increased hand expect see decreased mole activity emerge might explain many area mole issues hopefully stupid cicadas gone moles go edit would love talk people not find review helpful not gonna dwell sayin',\n",
       " 'not waste time buying piece junk instructions must done three year old trap cannot set shown customer service people not even repond inquiries',\n",
       " 'gets moles big small found putting small dirt clod paddle helps trigger trap dogs put bucket trap weight trap set keep also keeps children two brother also two agree best thing market today',\n",
       " 'purchased amazon work far caught moles yard neighbor using surface technique one traps though dangerous manufacturing flaw thinner piece metal top trap trigger bar safety clip attached broke trap setting twice also observed time constant use paint wears piece metal rusts weakening contacted victor problem not yet heard back thankfully amazon liberal easy return policy defective items see pic broken trap customer images would rated higher victor quality control issues need address happens outsource manufacturing countries like china problems setting traps not follow instructions box see pics customer images set without use vice vice grips',\n",
       " 'successful trapping moles trap little hard figure set initially directions box not perfectly clear finally figured require pretty good hand strength set used x prop jaws trap open figured set trap one recommended mole man whose web site really great learning mole biology habitat control moles traps appear effective method trap certainly effective caught mole first night trap several since',\n",
       " 'following geoff klos instruction got first mole two weeks thanks sharing technique product works patience key bit difficult set order provide clamping force speed required guess necessary strong spring',\n",
       " 'used two types traps besides one plunger style stabbing death scissor style foot activation cut em half neither worked well scissor foot style frustrated compress springs using foot trap positioned soil somewhat damp whole trap squash ground snow melted discovered moles hard work yard set victor trap believed one mole highways caught critter within hours big one almost inches nose tail pros victor trap like set compress trap place makes easy position exactly want ground safety catch nice feature hit trigger lever accident not hurt trigger lever sensitive one frustrations traps sometimes tell soil movement moles passing without tripping price cheaper traps cons victor trap instructions stink even disregarding placement issue see next point took minutes figure compress trap using setting levers trigger lever good design not well documented not use instructions box placing trap followed advice several reviewers suggest cutting notches either side tunnel trap blades rest turned easier effective improved instructions box would five star review',\n",
       " 'not care anyone else says trap caught one trying years first day set worked area sandy consider spear plunger type traps total rip anyway never caught one til got trap moles destructive plants read mumbo jumbo go green guys moles eat grubs help aerate soil yeah right killed fruit trees plowed whole rows vegetable garden whatever means manage kill plants hope kill trap',\n",
       " 'product worked way better thought would even reading positive reviews set run used evil mole repeatedly crossed back yard way next door sprayed run castor oil products murphy soap water cayenne pepper powder nothing phased monster set trap main highway next day snagged pest two days later found another mole run entering another neighbor yard set trap next morning dead mole not bloodthirsty creeps ruin yard stopped short cutting heads sticking popsicle sticks next runs though leave bodies buried securely tunnels message intruders big thanks geoffrey klos excellent instructions doubt would successful following package instructions',\n",
       " 'least one mole terrorizing landscaping months initially let go since not actually damaging plants time though would separated enough roots soil nearly lost several plants ft crabapple dropping half leaves june something done would read reviews early decided try control methods could get locally trap not one used three victor harpoon style mole traps managed get triggered successfully mole escaped design simply flawed pushing harpoon downward trap tends force ground help prevent trap long stakes need driven ground much gravel soil like nearly impossible several states university extensions tested relatively new gummy worm style baits reasonable success decided try moles highway tunnels right next house plastic able peel back plastic drop right tunnels plastic made roof tunnels checked day two days mole actually eating leave town week got back no new mole activity not normal busy guy figure gummy worms unfortunately another mole invaded weeks later completely different habits though one preferred lawn landscaping beds would ordered traps day placed gummy worms set three sight traps per instructions given reviewers not ones provided three days new mole one additional method locating active tunnels like use poke stick top existing tunnel suspect might highway place stone hole block light check stone daily hole filled mole passed set trap given choice prefer traps baits two reasons no poisons yard accidentally get neighbor cat little mole body confirm actually got prepared little critters actually kinda cute familiarize habits follow instructions given others patient moles',\n",
       " 'woo hoo excited caught mole quickly setting traps first time purchased two traps set like geoffrey klos suggested could not find runs looked like highways find snaked around yard seemed connect myriad smaller runs branched guess instincts correct noticed trap set took shovel fully prepared whack mole head alive not prepared cute fuzzy live mole bucket guess better live mole front yard problem figure get rid cute little monster needless say trap worked great trap probably best set two people one use levers open jaws position safety hook tripping rod set two steps first layed side stepped top lever could lock safety hook point levers close enough together could squeeze one hand setting tripping rod tripping pan noticed pictures looked like someone dug two trenches place legs trap followed klos instructions used small spade make four puncture holes lined legs pressed trap holes tripping pan touched dirt previously patted foot happy mole hunting',\n",
       " 'traps much better kill ratio traps one harpoon trap bury tunnels poisons grub killers gasses probably not work never body know sure trapping best method also flooded tunnels shot mole flooding tunnels damage mole also nailed couple harpoon trap scissor type effective rarely sprung trap no mole sight scissor trap best one people giving bad reviews must not setting correctly problems learned set right google youtube search learn set right catch keep grass short help spot pick tunnel set trap correctly tunnel stomp tunnels flat not one trapping not caught mole hours tunnel abandoned needs relocated stomp tunnel flat move trap different newer tunnel usually catch overnight',\n",
       " 'different kind traps plunger choker victor sight never caught anything plunger great success choker sight geoffrey klos review great success burying trap take knife cut top straight mole run size trap set aside replace turf dig section little deeper mound dirt center trigger mechanism sit without setting lay turf spread loose soil around trap fill key put bucket trap no daylight method little tougher turf cut clean use bucket able put back little damage best luck',\n",
       " 'tried mole trap designs limited no success without doubt trap gets job done every time always used simple directions supplied trap no customizations powerful trap works fast cocking process may require coordination strength folks provide however trap armed berm trigger right height virtually guaranteed get critter either direction pushes dirt close hole use post hole digger dig clean right sized hole cover everything inverted plastic bucket follow directions box',\n",
       " 'bought traps hoping rid moles yard first difficult set requires strength order set trap far moles simply seem avoid trap one triggered mole avoided trap somehow not caught thing would try different trap next time',\n",
       " 'bought traps due good reviews price item followed directions guy tells mole stories pretty awesome entertaining review section set traps first mole within day thought problems solved came back got second within day showed front lawn not set trap right took days realize mistake reset trap got third mole mole free couple weeks would encourage people get product take decent amount strength set traps work thats care',\n",
       " 'anyone moles needs help bombs enlisted help neighbor schooled mole habits got kill assumed multiple moles number mounds one trap way',\n",
       " 'yard completely overrun moles year lawn dead trails everywhere walked literally tried sulphur bombs giant destroyer spring traps castor oil lots talpirid worms sonic molechasers acre way suggested finally professional mole guy cost us place poison bait got sick cat vet bill no dead moles killing grubs not work main love earthworms definitely not want kill everything read says trapping way truly rid moles reproduce year usually litters pups half die reason get overrun not trapping using deterrents work short periods time allowing numbers increase read read product great reviews chose believe one last time ordered went outside afternoon set traps within hour first mole huge well fed lived good life rip initially get completely frustrated threw one across yard calmed figured reviewers great tips read thing remember set trap put safety try put ground sounds obvious seemed easier place ground first not spring strong metal bars put package make easy enough open trap hands hold open one hand keeping plate near ground leverage engage pin striking plate flip locking pin hard part finding right type tunnel convinced no natural way get rid moles wish thing ultimately going work trapping patient not give really easy set trap get hang good luck update caught another one morning trails dwindling update grass finally grew back moles killed every square inch lawn last year ended getting moles got traps summer season noticed small area dug found straight trail set trap caught within hours',\n",
       " 'bought two two years ago first year not need since moles left alone year however set twice caught mole time would previously tried types mole traps e spikes hoops limited success seemes many misses sprung trap no catches grown farm traping several types critters figured knew trap moles felt strongly trap today second success two settings looked two year old purchase wrote aug today far made three sets caught three moles not miss yet type trap definately best tried previously',\n",
       " 'looked read many reviews trap works got morning put like pictures show snap one dead mole three hours later get rest clan well',\n",
       " 'chose based reviews not available locally stores learned mole problem would not fixed using gopher mole bait trap fairly large metal strong spring not easiest thing set requiring fair amount force need careful catch finger no doubt would break would difficult time trying get one working hand use care instructions could little clear trap easy figure works examine set need find good location set make sure create mound middle rests closely trigger takes minutes set figure probably minutes suggest covering trap upside plastic pot weight top block light keep kids animals accidentally getting jaws ground still not something would want trip step case set three traps along pairs trapline check search california thing not certain would work quite determined get rid mole problem asap dug holds new lawn days next morning already caught mole trap cleanly around hips not bloody mess probably died combination internal injuries broken spine asphyxiation regardless dead bottom line trap effective best could ask probably overkill traps extensive tunneling yard wanted catch mole quickly damage love trap highly recommend',\n",
       " 'many reviewers tried pellets castor oil repellent giant smoke bombs two packages sonic mole chaser no avail every morning summer would surely wake fresh mole hills pebbles front yard losing war purchased sight trap amazon based reviews available amazon prime also surprisingly no mole traps available local home depot osh stores placing trap three different locations span week finally nailed bugger tips learned various sites many reviewers amazon said encountered shallow mole runs visible surface cited good technique set trap shallow runs however mole burrowed deep runs no runs visible surface mole hills set trap deep runs followed directions box called digging hole along main run dig around inches get run directions say created speed bump filled hole loose soil placed large oz coffee top hole trap fact coffee made good template carve hole not much wider diameter length found website not recall first get sight trap stick dirt couple days odor freshly machined trap metal mole apparently smell gets diffused not know fact fiction first unsuccessful experience trap seems support theory mole kicked dirt hole first placed trap also plugged runs leading trap smart little found good tool locate main runs weed remover tip weed remover thin enough poke turf thick enough sense whether still poking dirt may loose discovered run keep mind main runs still around diameter key placing trap find active main deep mole runs like experienced good way locate draw straight line adjacent new mole hills good likelihood run connects mole hills place trap adjacent mole hills inches away either mole hill place trap within close proximity mole hill invariably get dirt thrown trap mole trapped may get another mole critter moving place moles individualists stay away moles take territory no mole present moles however get together spring mate even kill stay attentive lawn conclusion attest trap quality last long long time would not allow wife child use trap however others noted spring heavy duty takes fair amount strength courage set also dangerous set trap needs handled carefully safety latch got mole wake without anticipation rake mole hills replug grass also confident using trap one kill belt assured another bugger shows one surely know effectively deal',\n",
       " 'wow impressed read reviews thought trap sounded like good bet mole woes put ground following tips caught mole minutes kid not time put shovel away took shoes looked window one traps sprung thought put wrong nope dead mole right trap things rule',\n",
       " 'purchased several victor mole traps great success trapping moles tearing yard spring massive gives trap enough strength cut type soil conditions triggered trap much easier set use large pair channel lock pliers want use caution handling loaded trap set not want get anywhere near jaws guaranteed visit hospital also use channel lock pliers put trap position mole tunnel give plenty distance moving parts also tried nash choker loop sweeney plunger trap catch moles victor trap every one get nash trap damp sandy soil seen nash trap not able trip quick enough spring not quite oomph behind cut dirt far sweeney trap goes yet get first mole years using',\n",
       " 'reading reviews seems like lot people success traps figured would give try still skeptical nature not anymore installed trap using method stepping mole tunnel flatten cutting slits grass trap scissors next day noticed trap tripped went see caught one sure enough pulled trap bane yard big fat ugly sucker huge claws designed yard devastation felt little bad love animals one deserved got anyway traps awesome cannot believe good work happy hunting',\n",
       " 'not high expectations worked share stamped tunnels yard evening next morning looked new tunnel especially long straight ones apparently ones travelled placed trap said tunnel dead mole within two hours like previous reviewer not follow manufacturers instructions instead followed reccomend not easier also works',\n",
       " 'must find mole highways long straight runs easiest found beside patio sidewalk driveway think identified one simply mash foot long section thought process pressed entire run might find alternate route check back hours see repaired mash section length foot level rest surrounding grounds sand soil simply dug finger small notches across mole highway distance apart trap death grips found easy set trap hand using directions box many reviews offer alternative methods leave bars used pry trap open place helps position trap ground set trap death grips notches created safety latch hooked trigger plate touch level ground mashed keep firm grip pry bars trap may trigger times get touching ground light enough pressure not trigger happy remove pry bars release safety enjoy results start finish setting trap maybe minutes soil pure sand notches mentioned almost non existent kept back filling sand soon dug finger set trap soil death grips loose enough grab mole first night set trap great trap easy use set may beginners luck far good',\n",
       " 'bought months ago finally got around using week trapped one mole within hours bought two traps going deploy four see get next also caught vole regular mouse traps thanks victor traps hopefully way ridding yard piles dirt moles chewed grass plants voles saving hundreds dollars service would charge simple',\n",
       " 'recurring mole problems lost count many years tried many things sight worked first encounter years ago surprise tidy surface never mind ran water tunnel water came end satisfying waste water made whole place muddy creature liked even invested plunger type trap expensive reusable sounded good not quite excited first time triggered got gloves plastic bag ready spikes went couple inches no catch tried times result even tied bricks top half trap became unbalanced not plunge well trashed poison peanut not like poisons maybe one carefully dropped nuts tunnels directed no noticable result creature gone late fall used early next season time concluded not work creature likes worms bugs not deadly smelling wire type trap like rat trap fits inside tunnel hard use trap directional tunnel must disturbed deployment creature ran around never triggering creature probably hit trap frame changed course would better trap narrower fits saw digging undergroud drove pitch fork mercilessly lastly sight size spring alone impressive warning bone crushing spring force even normally curious coworkers refused play order arrived office set trap directed first night snap woke continued sleep smile face next morning voila face face first time video last episode may upload creature likes wet area active right watering purpose trapping make tunnel flavorable keeing moist creature works day night not size creature mine live socal turned small like fresh sausage explains pitch fork missed wire trap big',\n",
       " 'update june mole activity stopped victor trap time activity back yard including flower bed decided skip test pressing phase selected mole run pressed soil placed trap sure enough next day dead mole trap set two traps second one not catch anything back garage waiting next mole trapping adventure original reviewfive hours set two traps trapped mole truly surprised see one trap sprung first thought must accidently tripped pulled trap ground dead mole trap done job perfectly lived house years mole infestation first started seeing raised soil trails dead grass suspected somehow gotten mole yard started reading everything could find web started getting free advice friends called pest service use man suggested buy victor trap one used cost coming setting traps could get expensive read amazon reviews trap generally helpful decided buy victor traps general advice locate active runs pressing soil displaced mole followed hose really flatten sure enough following day certain trails raised selected one place traps yard sandy soil mixed clay also rather root infested followed several recommendations said important cut away roots might hinder traps free movement placed trap caught mole used straight edged steel edger pressed soil trap would placed sure enough cut several roots crossed area used foot press raised area trap would placed took little experimentation finally get trap set never set trap new take pressure set trap safety latch engaged first additional pressure tools provided needed actually set trigger left safety latch place trap set ground pressed trigger resting soil done released safety latch trap ready covered trap garden pot keep area dark protect disturbed local cats dogs done late yesterday morning mid afternoon trapped mole update review anything interest happens meantime traps place waiting next mole',\n",
       " 'past months moles ruined backyard much research settled wild looking contraptions directions tiny difficult figure went victor website found manual larger pictures placed three using instructions review geoffrey next morning one traps sprung sure enough got first kill sold',\n",
       " 'mole traps really work tried types found easy set use nost important catch moles',\n",
       " 'ordered victor sight mole traps arrived early work effectively great price couldnt happier',\n",
       " 'device may work spent hours trying set little success finally got large set channel locks got trap set attached safety pin set everything days no results wanted move another location closed start process said earlier may work unless superman difficult time setting trap',\n",
       " 'open trap takes strength not set safety safety seems short therefore not able use disapointed',\n",
       " 'tried using traps time time year unsuccessfully reading reviews victor sight trap realized not setting right caught one mole yesterday another today excited finally come way catch sharing technique setting hope help find active tunnel walk around yard step raised areas come back later see get raised cut couple scrap pieces wood thick four five inches long say five six inches high use hold grooves cut trap legs push soil get garden tool cut roots like hatchet flat blade tool wooden shaft handle not know call use get tool use find center tunnel use discarded mop handle drilled hole end glued six inch nail probe tunnel approximately locate center leave sticking center set trap ground along tunnel near place see far apart cut grooves trap legs cut first groove trap legs clean feel cut line locate tunnel use finger locate tunnel stick one scrap pieces wood groove tap firmly cut groove legs go run finger cut locate end tunnel tunnel may turn need turn trap stick scrap piece wood step heel two pieces scrap wood want dirt firm also tap end flat blade tool get extra firm important next wiggle two pieces wood back forth open two grooves little pull set trap two grooves observing clearance ground traps bottom lever not want contact ground spring trap incidentally trap safety point use finger feel clearance ground lever push tap trap slowly inch ground release trap safety repeat release trap safety seem frequently forget take loose soil leaves drop around trap legs prevent sunlight getting tunnel good luck',\n",
       " 'trap difficult set requires lot physical exertion awkward set trigger mechanism goes hard spring hair trigger thumbs one',\n",
       " 'bought time bought wire tek easyset mole trap amazon trying products say victor sight mole trap not much difficult operate also less effective wire tek one not mention tears yard victor brand one actually dig hole hand vs wire tek one push ground step set easy pie one caught moles far victor trap caught moles not hassle ship stuff back would return one buy another wire tek brand mole trap not waste time product',\n",
       " 'unless strength superman impossible set trap jaws need pulled apart using pry bars could not not weak man manage set using vice even took pry rods would slip place kicks friend martial arts expert specializing grabbing things holding yes specialty normal adult male gripping strength dave j gripping strength struggled struggled thought could took away hurt design bad trap almost impossible set without using vice ever gotten ground might worked definitely would kill tripped appropriately thing hard set ps got victor customer support site requested help sent pdf exactly diagram box no help second email gone unanswered days shipped back today',\n",
       " 'terrible product days messing not even get thing stay cocked watched videos read excellent reviews etc still not get thing stay cocked releases even get safety latch never even got close putting ground bought get pay shipping back time box take shipping get remainder money back might well throw away save aggravation go feel lucky',\n",
       " 'placing order items noted stock not receiving notification supplier order estimated ship date passed without action first email supplier went without acknowledgement second email supplier went without acknowledgement final date expect order passed email sent cancel order info provided no acknowledgement still awaiting confirmation cancellation writing could isolated enough prevent ever business northern tool equipment futre ended going bic superstore placed order monday received order thursday week life good unless get caught limbo apparent open order caused grief',\n",
       " 'live florida bought traps based reviews trap seems rather large size moles florida tunnels could find no bigger inch soil sandy trigger gets covered tunnels collapse trying set trap suggested leveled fist size mounds see active tunnels showed next day not one trap went far placing trap trigger ground suggested reviewers makes no sense tunnels not raised no way trap go traps placed trigger tunnel moles would go trigger trap anyone living hot sandy soil area found trap work please post',\n",
       " 'ca not leave critter ground feeling squeamish pulling disposal hardly walk yard fear twising ankle runs bad',\n",
       " 'not used yet seen used work great',\n",
       " 'hesistant give product low rating simply not work tried separate occasions actually saw critter go past trap trigger thing figure trap large moles also followed preferred method setting plan try next time going prepared take care critter pitch fork lucky enough drive laying trap',\n",
       " 'bought two traps last month tried get set ground spent hour trying get trap set would not stick not taken time try get work since b c grubex put seems slowed mole activity yard definately try get set mole activity picks back right collecting dust shed',\n",
       " 'not caught anything yet design better victor spring fork trap get mole soon',\n",
       " 'mole tunnels throughout lawn first tried non lethal castor garlic oil water spray method twice not work tried laying two victor sight mole trap not work either finally son spot movement lawn stomped tunnel mole dead small inches amazing end problem entire lawn not small destroyed one tiny mole best advise look movement mole late afternoon stomp use flat end large shovel moles thin skulls apparently easy kill one mole incredible amount update new season new mole appears instead using mole trap tried new approach kill food source one application grub insect killer mole gone probably neighbors yard everything read internet suggest kill mole remained elusive except luck getting rid food source though worked immediately never saw another tunnel grub insect killer applied three weeks ago see long lasts much easier trying unsuccesfully trap mole',\n",
       " 'product advertised objection takes strong hands average caution set traps',\n",
       " 'victor sight mole traps purchased worked well since received hope eradicate mole problem property year',\n",
       " 'not chance put mole trap test weather terrible little critters still working however disadvantage sooooo hard set could never husband strong guy',\n",
       " 'battling moles years completely destroyed lanscape tried everything could find recommended brother victor trap would lend not using got weeks looked everywhere traps could not find stores found amazon com bought mole issues promise product work happy hunting',\n",
       " 'not success traps get fall understand better time use spring traps exactly expected though high quality appear durable easy set delivered pretty quick',\n",
       " 'think trap effective outsmart mole caught one last two months three traps think number moles vast number runs make difficult may order dozen traps odds',\n",
       " 'moles devastating lawn tried grub killer little effect havoc ordered victor traps opened first trap struggled set thought hard set trap not using opened second box found easy set first one latch fabricated wrong side within week caught three moles moving sections lawn return defective trap also painless task',\n",
       " 'seems like job well built not chance use yet',\n",
       " 'live upstate ny mole destroying lawn zig zagging tunnels went online research ended ordering one victor sight mole trap could not locate straight tunnels put curvy tunnels reviewers said flattened tunnel put two slits across claws rest set trigger ground level got nothing weeks even moving trap around tunnel tunnel started lose faith trap one day tried different method instructions say openned one inch length stuck trap inside put trigger head would tunnel covered base trap hole back dirt within two days trap sprung amazement large dead mole trap couldnt happier not sure new way set trap got coincidence either way works ordered another trap think two chances getting much better kill one new ones move shortly use traps',\n",
       " 'trap great read reviews get hang setting trap realize simply awesome mentioned others not follow box instructions need bend trigger use spade shovel turf make slots use good sized wood chips obstruct active run near surface enough trigger rests wood check trap daily surprised many moles use run figured trap killed first weeks warning check laws city state traps may prohibited one neighbors called animal warden confiscated victor traps claiming leghold steel jawed traps going court soon',\n",
       " 'not figure load trap comes two metal levers use set spring require strength would sent back beleive restocking fee',\n",
       " 'ordered traps spring mole runs tend show late summer fall live finally opened use one traps not trigger pan useless set one would sure like get one replaced would appear due passage time no longer able get refund replacement defective',\n",
       " 'title pretty much tells read review geoffrey klos follow instructions exactly set trap exactly said less hours later mole dead thanks mr klos great review saved aug update second mole dead not seen another one since one arms trap break not sure happened since noticed trap not use amazon replaced within days',\n",
       " 'lived house years no moles spent several housand dollars landscaping front yard move moles tried chase away castor oil anti mole products no results purchased traps last night read reccomendations online readers setup not follow directions box next morning traps caught mole piece great product',\n",
       " 'years sprays grub insecticide plunger traps finally found product works never caught one mole years even though old traps set dozens times tried castor oil spray treated lawn grubs lawn looked worse ever purchased traps caught moles first two weeks used ground method described reviewers one time trap tripped no mole jaws excellent product',\n",
       " 'little difficult set well worth effort missed trips kills misses could kids messing around trap use would suggest anyone serious getting rid moles little trouble moles actually kind miss hunt',\n",
       " 'purchased victor mole traps followed instructions caught mole first time set amazed ease setting simple use clay loam soil work well moist soil sandy soil',\n",
       " 'victor sight mole trap not work using three month not work moles dig around followed directions guy jon oregon not caught one mole nothing catches moles creatures hell pardon way seems believe guy jon oregon nothing pitch man traps not fault amazon job traps not not buy traps',\n",
       " 'found difficault set not easy position sandy soil florida',\n",
       " 'fighting moles years product seems work best first suggestion follow instructions review written geoffrey klos followed instructions placed ground pm last night morning already dead mole amazon good price true value store asking',\n",
       " 'thing matters trap got mole first night set makes happy mostly made cast iron expect long life bend sear proper engagement not detract star rating worked',\n",
       " 'victor sight mole trap bomb tried everything short shooting horrible results heard trap professional critter killer set trap checked next day bingo dead mole reset trap another location bingo dead mole easy jaws heavy duty would probably break arm activated recommending trap everyone know kill save none next year',\n",
       " 'trap really works disregard printed instructions come caught two within days finally begin repairing damage buggers lawn read geoffrey klos posted review follow instructions instead really easy catch highly recommended item mole problem find good spot set traps stomp everything wait day watch earth lifted active tunnels try find straight runs called runways anything else feeding tunnels come infrequently good indicator actual mole hills deeper tunnels start living room basically runways often extend mounds runways also often found parallel obstructions foundations driveways lawn edging also good places set traps good luck hunting',\n",
       " 'years trying various sprays beepers fake worms inferior traps no avail finally found effective means mole control first week trapped two moles hallejulah believe trap professionals use little tricky set spring strong effort worth',\n",
       " 'since buying trap evidence moles set trap times killed moles past poisons temporary help trap permanent fix moles set trap accordance geoffrey instructions thanks geoffrey recommend product',\n",
       " 'took weeks finally nailed little bugger weekend used traps one much substantial quite fierce spring',\n",
       " 'caught mole first night let hope remaining critters cooperative enough said update posting later',\n",
       " 'ultimate mole trap far caught two put trap ground dead mole within hours like others said not follow instructions find well traveled tunnel push cut two slots ground shovel insert blades make sure opening blades straddle tunnel push trap trip lever touches ground set thing best not bother poisons noise makers etc get',\n",
       " 'thanks mr klos lot people added forum proud owner mole traps no moles trap mr klos method probably would work best not spent summer smashing mole runs dug deeper tunnels common sense little exploration told klos method would put squeezers tunnel reviews told figured poor instructions package deeper tunnels successful tunnels deep use klos method dug main run cleaned end tunnel find common middle ground built hard mound center open space loaded trap put safety placed trap directly top mound spring barely touching mound good kept safety buried trap couple times put far spring sprung way best method puts bottom trap bottom run not smash tunnels trap placed top ground merely inserting two slits main run followed seller instructions worked deeper runs next year runs trapped without stomped first happy hunting',\n",
       " 'no instructions provided trap would not open trying set trap cut finger appears device not bent not sure since no instructions',\n",
       " 'well built mole trap works great set correctly safety latch nice feature prevents accidental tripping setting trap not follow box instructions rather set traps surface works well lot less effort trying bury found person needs patient mole may not use tunnel several days fact caught five six days picking best tunnel hardest part trapping moles spent time rather moving traps around every two days',\n",
       " 'others stated used correctly good location get moles trap seen tough effective careful setting spring strong also setting like sit coffee top dogs cats not mess figure use effective pros use trap couple cost durabilitywe trap kinds animals using variety traps mole trap one favorites',\n",
       " 'first want thank abk geoffrey excellent advice also near st louis area back yard destroyed period months finally got trap mail followed advice putting top earth straight run caught first night thought one days later another run showed placed trap wish luck thanks follow abk geoffrey advice get varmint',\n",
       " 'reserch best mole trap work took lots trial error figure set correctly bought two one worked perfectly one much powder coat trigger pan release properly not afraid use pliers adjust release trigger pan lip set release force make sure legs pass released one leg slightly bent striking one found works best pacific nw moles dig trap hole barely large enough trap no loose dirt ends trap clear mole tunnel loose dirt spoon pack bottom solid not dig around soft dirt used sod cover trap no dirt back fill hole like instructions say found main tunnel set deadly',\n",
       " 'trapped almost moles fleet traps traps along new lawn mower blades first year trapped around moles population dropping every year last six years two far year followed instructions setting trap not problem maybe changed instructions last years nice thing traps set deep shallow depending depth moles trail even managed trap two moles head head one trap years ago sure odds happening similar winning lottery powerful trap make sure caution children borrowed one traps friend mine kid pulled ground brought asked trap set fortunately never went hand',\n",
       " 'useless lot others difficult set no results product called nomol exterminator used cheap effective hard find exterminator trapped moles last year trapped far year lot invested flower beds criiters destroying tried everything poison gummy worms smoke bombs castor oil castor beans gum bleach contraptions like not work look nomol youtube thing worked proff always right dead moles far',\n",
       " 'several mole traps purchased recently least favorite hardest set requires significant digging spring strong requires strength fact never get set',\n",
       " 'little less half acre yard right wooded green space moles problem us since moved three years ago poison pellets poison worms spike trap smoke bombs scoot mole tried worked sure not noticeable wit end called professional service two months ago control mole problem one month service placed traps problem came every week check traps one month later one mole later additional removal dead mole yanked traps well one dead mole better previous record zero could not possibly justify spending another dead mole service ordered four day received one month ago placed along runs course magically popped service terminated evening patio heard snap trap placed main run coming woods caught one heading direction yard next day removed traps stamped runs around week later spotted runs placed traps next morning another one waited day pulled traps stamped runs next time saw runs past weekend placed traps around hours later no not exaggerating another mole pulled trap left others behind next morning another trap full trapped moles able keep moles devastating yard say completely satisfied product would understatement opinion best solution keep moles destroying yard advice regarding traps make sure buy enough traps cover runs increase odds trapping mole additionally sure vigilant runs first sign deploy traps likely increase odds trapping mole run made versus run days old lastly deploy traps successfully relatively straight run not windy loopy runs trap width run foot trap push ground straddling stamped run catch touches ground satisfaction knowing pull first sprung trap bane existence dangling claws trap saved years frustration money simply buying traps good luck',\n",
       " 'wow product worked hour followed youtube video set trap front yard bamm one hour',\n",
       " 'mole problems killed bugs killed whole yard replant not know less bugs first place spread insecticide not mole problem coincidence',\n",
       " 'arrived time problems problem sister purchased neighbor could not get work',\n",
       " 'watched previously mentioned videos research hours later mole worked perfect even though bought needed one would bought get rid mole ruined yard would give stars came grass seed patch places mole killed grass',\n",
       " 'years mole problems finally bought trap trying several different tunnels finally found correct one caught mole feel kinda bad gave proper funeral said words not try poisons crazy solutions buy trap take war moles',\n",
       " 'trap caught arm still alive flopping around ground got home beat head countless times trowel imagine looked like scene christmas story ralphie beats neighborhood bully still quite catch though traps got home depot set yard right mole hunting like deadly game chess',\n",
       " 'wow works great follow directions get guys pegged three two weeks yard back make sure tap mole runs know active thanks',\n",
       " 'killed mole worth price reviwed instructions not evidence damage',\n",
       " 'bought mole traps lot research reviews others product follow suggestions users caught mole within hour setting trap traps one month caught moles not believe product works well would suggest give try mole problem like',\n",
       " 'not lawn thought could live moles peacefully long not destroy landscaping two years moles start popping anywhere want dirt piles control tried many baits ultra sound thing none work not live moles anymore landscaping turned side first bought one trap two weeks nothing happened bought another three make trap field planted last evening morning went check wahoo one trap triggered not looked caught sure mole caught happy write review right saw triggered trap think important thing since mole hard track use several traps together also youtube nice video shows set trap build dirt bridge use fresh tree leaves etc carefully designing trap field also contribute success went dig mole first experience mole look like yuck',\n",
       " 'never deal moles trap works great agree posters trapping best option end dead mole prove got unlike poisons leave wondering got not set trap like guy helpful review said not even try way box said directions not clear pushed ground feet trap area trip minute set false alarm reset days later saw ground around trap pushed mole went not trip trap going push never got around week saw tripped though another false alarm pulled mole jaws would say might tinker times get sensitivity right mole travels tunnel regularly get jaws extreamly powerful pretty hard miss unlike traps single spike overall happy first saw mole figured would almost impossible get bought trap due good reviews pleasantly surprised trap use mole tunnels appear',\n",
       " 'bought two moles disposed follow reviewer instructions posted earlier happy huntingthey workps trying catch last remaining one hope anyway',\n",
       " 'newer homeowner last months noticed dirt spots back yard previous owner not sure concerned let going take measures fall fill spots early spring rolls around moles sprayed yard oil stuff not help grub worm stuff either not work not patient enouh read reviews ended buying put thought active trails tunnels day no movement moved next day boom got pinched back still living relocated field miles away put trap spot next day boom go another one one not lucky work great make sure like reviews state cut two slits fix claws step ground even remove safety good go',\n",
       " 'worked exactly described unit well built inexpensive wait week mole return run installed return not leave helpful watch youtube videos best install use trap',\n",
       " 'tried using product year no success sure works great loamy lawns plants not grass live suburban california means lots clay extremely difficult find mole runs except winter rain softens clay particular situation found cinch mole traps extremely effective worked week modify method try match reviewers youtube videos show not nice soft lawn better tools catch moles',\n",
       " 'strong trap perhaps strong spring bar bent spring weight early afterwards impossible set would snap even set ground eventually jaw cracked half top going need try something else',\n",
       " 'looking forward using trap illusive mole not kill haveuse repellants poisoned peanuts spike trap sweeney worthless put trust reviews youtube videos trap post updated review soon',\n",
       " 'first tried sonic spikes poison since available local home depot two weeks mole still alive frustrated mole decided move garden last straw got trap along expensive wire tek set wire tek hopes could use one trap return one day not caught yet decided deploy moved wire tek new location put victor place followed instructions came within hours victor dead mole jaws easy use effective permanent solution moles',\n",
       " 'product eliminate mole problem place path frequented varmits kill tried everything sprays poisons grub control nothing worked purchased trap sucker dead days later thanks real way get rid moles scum earth critters',\n",
       " 'although read lots reviews many said trapping little pesky moles way get rid lawn not totally convinced ordered two traps within hours first little varmint second one shortly hitting main run key darned trap not exactly says works',\n",
       " 'harpoon mole ran past not work placed trap tunnel evening next morning got darn mole works',\n",
       " 'let start saying huge animal lover comes moles f hunted bastards years trying everything came across traps reviewers said work great long follow instructions please read review marked helpful explaining right way set started setting days ago got hang caught two one day bought three corner also nice even though product pic looks like cuts mole actually crushes no mess hard set need pretty good arm strength worth every second penny not spend either tempted buy expensive ones thinking could trap compare no worries buy increase odds not explain excited right save rest update got last hours moles killed traps number dead tomorrow new nickname soon mole update moles dead less months traps enough said',\n",
       " 'tried repellents trying product repellent no use trap though took time setup worked first day find active tunnel set impressed pleased product',\n",
       " 'caught mole first week put saved lot money not sign another contract pest control service',\n",
       " 'great mole trap set last week mole trail got first try',\n",
       " 'trap job nearly well others trap difficult set requires use special tools come trap not part even tools trap pain set compared others get set placed active run job another issue trap design color make difficult see disance impossible tell sprung remeber put check periodically recommend poking tools ground next trap know',\n",
       " 'first hours caught first mole set traps good news',\n",
       " 'received trap friday saturday mole dead followed advice reviewers no problem locating trap problem setting directions less better describing arming process took awhile figure cock trigger ready use muscle arming watch fingers completely satisfied product read reviews location procedures used no problems good luck',\n",
       " 'awesome trap mole removal killed moles one trap four month period trap missed twice believe set deep trouble yesterday killing one front yard tried tom cat poison worm bait morning bingo dead mole next big pine tree would recommend using products simultaneously total mole eradication',\n",
       " 'tried type traps stabbed spikes ground no success victor takes little practice really gets moles caught three moles last month find main tunnel set trap lump packed dirt trigger pan tried four times got three moles still finding burrows parts lot wooded brushy eat mostly night crawlers best time find day afterr good rain bought three traps amazon far less local hardware stores',\n",
       " 'another mole hunter st louis tried everything pellets smoke bombs different poisons flooding holes pretty useless trap sold lowes home depot get one mole last year weak flimsy think lucky friend mine told fed going pay professional catch moles caught couple weeks not problem since asked could figure kind trap used well one since bought traps months ago caught moles includes neighbor despite caught moles front back yards still new activity time time think cover whole neighborhood traps yard couple neighbor across street purchased traps great price sturdy purchase send laws way found work try pick tunnel looks like common route freeway usually close path driveway hit wall work way along not stomp raised tunnels unless many need find place keeping tunnel open pushing dirt area intend place trap next time mole comes start digging way right trap like keep soil pretty loose trap going placed ground gets hard baked trap still able spring shut quickly make sure holes sides trap covered dirt compressed area usually inch less rest remember use safety catch placing trap ground want make sure flat base trap part mole push tunnels trigger trap well set ground four spikes ground either sides tunnel may little difficult set trap not hard come patient first time set trap mole less twelve hours last one caught trap garden set weeks earlier course see new activity different area may want move trap trial error somebody else claimed traps hard set yes springs strong takes little elbow grease trap come tools help set trap not strong may well use useless trap lowes',\n",
       " 'trap effective almost taken challenge trapping moles yard tried types traps disappointed results put experiences end interested trap must set active tunnel took couple attempts learn set sight however learned active tunnels found tripped trap dead mole ratio several others said following directions sets trap deep hand method described reviews shallow work recently graded yard new topsoil trucked soil still fairly loose top mole tunnels deep pushing tunnel setting trap top without digging proved shallow technique worked similar box not quite deep described carefully excavate section tunnel wide trap deep bottom tunnel without disrupting structure bottom half tunnel bottom half walls floor take clumps dirt wet since starting trap put tunnel claws trap go not pack tight drop set trap claws slightly deeper bottom tunnel pressing trip pan sit clumps put put remainder soil back around tunnel opening made around trap block light best not disrupt tunnel leading trap jaws not pack tighly want mole jaws encountering blockage holding trip pan pushing trap desired depth not accidentally set making sure release side trip pan not tight soil would possibly prevent springing since starting november count last week time quarry within hours setting trap time take directly dependent finding actively used tunnel patrol yard almost every day get trap immediately finding new tunnel docked device one star jaw one first two traps bought inexplicably cracked also think could easier set practice makes perfect use caution despite trap effective much less expensive alternatives purchased additional traps replace broken one traps purchased not effective plunging spear type anchoring seemed issue well spring strength reach mole heavy clay soil trap would tripped no mole trapline tunnel wire trap device genius simplicity would likely well dryer soil trying trap experience moles digging around device perhaps not master setting also not like dig trap see tripped poison pellets not sure moles took not worked slowly stop damage worthless approach mind',\n",
       " 'fully intent becoming mole serial killer wanted mention name strike fear generation generation little turds point moles last laugh trap failed catch single tunnel builder trap sprung weeks set could barely contain excitement wrenched tunnel find contained large clump bermuda grass wife belittling purchase device promised young neighbor would bring mole never seen one looking fence repeatedly telling not yet getting embarrassing seems moles time set trap alter route soon move trap return old tunnel becoming game us win game ai not giving trusted glowing reviews device read yes considered review written either inventor trap employee trapmaker company persevere friends await reportage first dead mole neighbor awaits first ever eyeballing mole wife continues laughing empty mole trophycase continue battle not toss trap pile failed mole stopping gear report back first mole meets demise',\n",
       " 'not know could assemble mole trap would take strong hand persistent helper could put together catch mole guess would mean going process sent back',\n",
       " 'purchased victor traps got house promptly mole troubled lawn flower beds months brushed aside conventional wisdom mole behavior need put traps frequently used main runs seeded recent activity total traps carefully installed one new victor traps feeding run making sure blades free placing mound dirt center run cause mole push resulting trip trap poured fine dirt close light also wore washed rubber gloves also careful set trip edge trip pan catch hair trigger action next morning came back one purchased traps sprung jaws death closed neck huge mole dead jaws trap powerful kill without fail first kill victor trap work careful fingers set traps follow basic steps outlined exercise patience get trap',\n",
       " 'mole trap catch moles although bit difficult set takes lot strength cannot get husband set need caught moles front yard seeing no new mounds area least also according package directions followed one dig bit one lawn embed device mole already dug still price bit patience gets job done',\n",
       " 'bought two traps trying chewing gum moth balls mole traps castor oil battery operated mole chasing poles none worked well got first mole days installing one backyard little tricky set use foot help pry open works like charm best part confirmed proof got one',\n",
       " 'bought days moles took little time get things right wow works great things slowed yard getting better watch highway set trap hav not miss one yet',\n",
       " 'traps work started two recently bought bought bigger house got moles two months trick find straight runs highways open run completely wide trap using small garden trowel set trap run pile dirt back trap last thing walking away flip safety back onto fire using tip trowel not got one move trap learned set local pro uses traps',\n",
       " 'site mole trap exactly designed set one next day got mole definitely worth money cost',\n",
       " 'commenced molicide week reading reviews northern website last month excited try trap planted first trap today cleanly killed mole p hours not even checking traps one no one believed saw proof no blood mole dead door nail run acre condo complex little luck spear traps poison worms hoping mole not beginner luck least different mole activity areas swear areas much one mole bought traps starters get moles start piling yet try method near mound activity see goes follow reviewer instructions diligent making sure runs fresh good luck',\n",
       " 'tried solar beeping scare moles away tried harpoon type trap months tried capturing live no results year searched internet traps noticed professional trappers used kind trap first attempt got no results second attempt trapped got sprung thought due heavy rain since trigger sensitive ignored went move dead mole took week got another one week later follow reviews not burying like instructions say place stamped tunnel also used lid tuna tripping arm increase sensitivity want get moles use',\n",
       " 'realize looking images online not even set properly worked dirty mole wreaking havoc lawn finally dead gone said trap pretty humane difficult open requiring lot strength mole crushed probably died quickly',\n",
       " 'finally trying everything market mole problems last years got lucky bought amazing trap adjusted set trap evening recieving next morning checked trap caught one moles messing lawn garden years tried gas poison traps always without known success give away tunnels always appeared finally confident problem',\n",
       " 'trap works well find advise internet searches setting traps hard part knowing put trap caught moles keep moving traps also video web site shows set victor trap ridding yard multiyear job maybe never ending job every time one traps tripped crushed mole without blood showing',\n",
       " 'problem moles months done quite bit damage yard short time reading positive reviews decided try sight trap took weeks finally caught one mole sure tried following directions box well directions reviews not much success cutting slits blades leaving trap ground level eventually dug small area noticed hole runs actually little deeper blades would go left top grass cool weather may something moles digging deeper simply chose bad spot however active area seemed logical choice set trap basically followed included instructions finally caught first mole others said may need finish little diggers prepared guess shovel best tool job traps require bit strength set need careful spring strong first glance looks like kind medieval torture device another thing remember often times moles simply symptom problems mostly likely lawn grubs certainly not expert sounds like moles feed largely grubs getting rid grubs may prevent future moles next list',\n",
       " 'much difficult set move victor spear type models hunting moles must move traps frequently sight version cumbersome',\n",
       " 'follow directions others site placing trap surface ground trap moles moles first week make sure track active found best pressing trip lever finger make sure flush ground sure place safety lever position setting trap traps works advertised strong spring action keep pets hands way set trap placed small garden buckets traps help avoid pet interaction update trapped moles trap continues work well use first sign mole activity sure run active trapped moles within hour setting trap sure way eliminate moles yard kill trap update mole season saw new track afternoon set trap minutes dead mole mole control used works wasting money gadgets continues work year year',\n",
       " 'wrote review say great read directions get hang look moles put empty buckrt rock top pets would not get hurt thank',\n",
       " 'item works well follow directions exactly not patience get something else works fact big mole problem might want get one would purchase',\n",
       " 'trap far superior victor harpoon version spring extremely strong close dirt sod thanks previous review need ignore directions box flatten small area mole run width trap use spade garden shovel make slit allow jaw trap fit easily ground not forget use safety hook placing trap remove trigger set mole two days not evade trap',\n",
       " 'watched videos use set trap left days later dead mole destroying lawn thank victor',\n",
       " 'tried many mole traps preventers web one really works caught moles year lawn looks much better not bill murray every weekend',\n",
       " 'tunnel along concrete driveway grass long mole hills set trap ends dug first mole hill set trap noticed half eaten grub placed trigger bar covered dirt put pail trap keep dark hours later checked trap sprung carefully lifted trap mole caught trap not dead ready not seen evidence moles use trap try adding grub worm bait attract',\n",
       " 'used trap month carefully following directions tried new location every days not caught single mole meanwhile yard fills tunnels not expect success not disappointed',\n",
       " 'hard set could loose fingers not careful triggering mechanism hard set make stay takes way much pressure spring trap placed instructed moles tunnel around disturb ground much able set excited getting disappointed results not caught single mole continue make swiss cheese yard',\n",
       " 'great product best way kill mole bought traps line could not find stores killed month summer well worth money',\n",
       " 'work groundsman large seattle facility forced take action combat mole problem unfortunately mole trapping illegal washington damn liberals sometimes bend law trap strong spring capable squishing moles ease tips not bother enclosed prongs trap easy set use creativity drop trap onto grass not dirt pavement step jaws get shut order set lever use body weight people said traps difficult set piece cake set way tunnel surface use knife like drywall knife make slits ground insert legs trap course squish small amount tunnel trigger right next earth tunnel inches dig small section tunnel like inches place trap inside fill loose soil moles try make way tunnel inevitably push slightly trigger causing unfortunate death occassionally still alive prepared angry moles note trap recommended moleman google name trapping month caught five moles far three big ones two small ones grass saved',\n",
       " 'found video review helped quickly figure set trap not hard yes spring powerful therefore hard get jaws opened locked however provided tools proper technique make easy dozen tunnels x area yard picked one tunnel seemed fairly straight hoping one used critter set trap took less minutes placed bucket went back inside hours later came back looked bucket surprised see trap already sprung even surprised see mole jaws pulled ground could ask',\n",
       " 'best product get rid moles went home depot spent bunch money trying get rid moles nothing worked purchased victor sight mole trap first day set trap not luck left traps place woke moles caught traps traps ever since months ago not single mole come yard great product recommended one friends results',\n",
       " 'first trap worked us ever neighbor fianc works critter control company town brought two traps within two hours setting caught first mole yard terrorized beasts tried many things different traps poison pellets even airedale terrier really good digging huge holes yard not actually catching anything one reviewer wrote looking long straight runs long straight runs like mole highways curvy short runs hunting roads curvy runs less traveled hunt highways true listen advice not go wrong update four moles less month not diligent resetting',\n",
       " 'first not follow instructions box instead read reviews good tips got two moles five days took little bit learn set pretty much followed good advise given post recommend method works trap tried bunch less aggressive methods no avail really hard get rid moles nice way finally got fed went trap also trap see body critter know sure got trap simple effective design built solid black painted iron bigger tougher thought going product pictures not huge spring strong put weight using provided levers set remember use locking hook triggering mechanism simple reliable although used file round edge holding stick make slide easier trigger piece added sensitivity careful not trigger trap stays sight backyard lays low black added bunch tree leaves top make invisible leaves not interfere functioning difficult thing setting trap placement still learning likely tunnel mole going use using little construction flags mark tunnels step find tunnels active one moles caught still alive checked trap bring shovel case need also price good compared expensive traps highly recommend trap',\n",
       " 'second purchase product first worked well buying unexpected benefit also attracts pesky bugs simply put works well fleas',\n",
       " 'directions use followed works well dark room little activity especially combination advantix another not hartz stuff dangerous flea tick drops pet son made math game loves math keep track many fleas found morning added previous flea count even daytime evening lights no one room fleas not jump instead fleas would jump not hordes thank goodness help clear fleas floor furniture without use stinky powders chemicals would recommend',\n",
       " 'used years not seem get rid fleas work great use open windows no matter tiny holes screens get also come family well work better night house dark fleas tend gravitate light amazing many catch one refill lasts long time surface large compared size flea remains sticky alternative would bring chickens take care problem different problem deal town zoning law allowed chickens wander flea tick problem would virtually disappear',\n",
       " 'love little gizmo would not expect rid fleas great assist think valuable letting know effective efforts fleas find way trap first started treating season put trap overnight covered fleas like product pictures things started get better noticed decrease many fleas trapped last time changed disk caught several moths one flea success recommend two effective products ridding home fleas',\n",
       " 'serve night light also really work fleas reason fleas insects attracted bright light get stuck sticky paper ingenious idea help rid carpet fleas buy unit keep purchasing fill sticky paper needed keep buying',\n",
       " 'awesome wish package maybe pack amount dollars',\n",
       " 'key treat cats fleas traps help alert gets hand help get back ontrol quickly atrracting fleas capturing',\n",
       " 'trap starv rat cockroach happens walk used flea trap light unstoppable',\n",
       " 'combating flea problem product great asset catches many fleas especially night light source however use another product shampoo flea pills etc part regimine',\n",
       " 'first couple days really not notice change days started catch fleas lot bites getting finally going away still getting one not frequent month months family dog first started flea problem starting dissipate flea traps help catch stray buggers catch spiders stink bugs ants lot bugs caught kinds bugs ones surprising enough highly recommend p make sure use forms flea control alone not cure problem',\n",
       " 'received flea traps five waxed paper would not peal could use two per trap total peel top wax paper reveal sticky trap no luck extra packs ordered back order paper pealed free ones toss hope replace bad ones not think happen moondogiedenver coaugust',\n",
       " 'left garage door open mowing one day stray cat decided bring small kittens wife daughter saw made bed led sister bringing another kittems needless say shortly thereafter garage full fleas kittens big enough got garage back except fleas spraying spraying no good results found son used one traps worked bought pad trap tell working great not overnight fix big infestation like mine leave new fleas hatch go light die walk garage leave without unwanted guest',\n",
       " 'using electric flea trap since infestation fleas several years ago use not fleas also palmetto bugs doubles night light',\n",
       " 'works well not attract fleas flies spiders etc also one basement also stick',\n",
       " 'flea trap really trap fleas occasional spider wish not many fleas recommend product',\n",
       " 'past used metal type flea trap owned operated pet store experience several expensive methods eliminating annoying fleas one works well end contamination put bed left alone vacuuming carpet well ended problem ensure rid fleas purchased two traps one square trap also see advertised well going time one going near bed one underneath bed not seen flea since installing devices home traps spotted victims save headache frustration making purchase two traps kittykatkhan',\n",
       " 'excellent product no fleas lots fungus knats plants fruit flies trapped please note bomb home twice treated animals well far good',\n",
       " 'using years glad seller good price even though use popular flea treaments pets capstar comfortis frontline pests keep multiplying traps home sticky discs lure approximately fleas per week addition measures taken glad not bite family',\n",
       " 'used flea trap years fleas good trapping catches lots bugs spiders glad find replacement papers amazon not live close retail store carries',\n",
       " 'review refills followed review trap refills easy use come separate protective layer refill fairly convenient use protective layer cover old flea infested sticky trap replacing new refill happy refills way packaged installed trap different locations four stars instead five trap fleas not arrest infestation use indicator severity problem whether getting control fleas hard see find carpet furniture not tough find dogs traps work best night not seem much anything day think might problem know dogs fleas get traps year successful siphotrol spray carpet furniture barklogic lemongrass shampoo dogs separate reveiws count fleas flea traps daily basis tell measures effective overnight catch count goes zero good indicator fleas gone hoping flea trap cure infestation good chance disappointed might work not willing wait long',\n",
       " 'im infested w columbolla mites spending month spray could sleep hours w bites forcing bed since using flea traps buy worth spray',\n",
       " 'dog serious flea problem figured whole house since could see fleas jumping bed house clean vacuum week surprised see many fleas bought trap enthusiasm really wanted see work husband laughed rolled eyes saw setting put next dog bed two weeks not single flea everyday would check husband would laugh think upset husband right waste money not working make good night light not work maybe not enough fleas bummed',\n",
       " 'whole idea keep fleas house invaded tried every thing sprays powers name temporary solution best best response invasion trap invaders trap fleas removed trapped no kids yes trap works removes fleas deadly chemicals fleas get house prefer not kill residents house try traps mike',\n",
       " 'using victor flea traps number years rescue animals entice fleas sticky paper night lights',\n",
       " 'take care five cats give flea treatment every month none cats fleas inside cats noticed floor bathroom fleas purchased traps within hour putting covered fleas even though no fleas anywhere else house also placed traps really gives peace mind want cats comfortable healthy always put traps no fleas ever discovered know job',\n",
       " 'flea trap refills advertised not fleas types flying insects',\n",
       " 'even though winter missouri still catching fleas victor trap new addition form sweet friendly stray cat evidently brought us cute little self joined household thing catches fleas like nothing else found',\n",
       " 'product not work know getting rid fleas frustrating not get sucked product save money get exterminator',\n",
       " 'not work waste money lightbulb flypaper better room fogger spray',\n",
       " 'first started using',\n",
       " 'getting bitten every night bought units put one floor bed one living room couch amazed see many flees ended pad found best results kept door open letting cold air house degrees traps became extremely congested fleas one day',\n",
       " 'hopeful flea trap would thing no toxic sprays bug balms etc plugged nothing not one flea caught matter fact nothing caught assume either two things not work not fleas stuff used get rid beforhand killed',\n",
       " 'using traps weeks tried rooms house far not even get flea collecting dust',\n",
       " 'anyone pet also get fleas home victor flea trap fantastic one room eradicate fleas pet brings outside',\n",
       " 'dogs got flea lately saw product gave try works caught fleas small insets first day around days no new insets trap would recomend part flea control methods',\n",
       " 'best getting rid fleas summer long hot one fleas horrible area ever since bought cats greatly relieved fleas great product',\n",
       " 'definitely love product fleas hop sticky paper not hop back also easy change sticky paper virtually mess free worth every penny',\n",
       " 'little glue traps work great tell number fleas captures kills glue traps work number fleas traps traps turn almost black number fleas captures',\n",
       " 'one worst investments ever made no fleas caught bright side makes great night light',\n",
       " 'ordered sets first year fleas victor machine killing machine within days glue pad black fleas replacement pad bulb burnt victor customer service people amazing thanks zack get whole package',\n",
       " 'not product need use flea control definitely reduces number fleas home super cheap works buy refills buy unit need fairly quickly bad infestation',\n",
       " 'thought bad issue set two traps two nights one flea definitely good thing traps work means not huge flea problem figured occassional flea saw coming mother laws insert mother law jokes took one trap test not long plugging fleas started jumping right two days replace pad no room fleas full seems great job',\n",
       " 'found flea trap helpful work best cooler temperatures find works best tool keep track flea infestation home',\n",
       " 'bought fleas catches mosquitos spiders ants etc still recommend spraying carpets though additional help carpet sprayings',\n",
       " 'victor flea traps set living room bedroom continuously several years live area fleas problem year round work extremely well capturing fleas however others already noted not kill eggs measures needed addition flea traps unfortunately also trapped large lizard one time heck time getting unstuck trying keep fingers toes attached body shook sand flea paper kept shaking stuck paper every time pried toe leg wish changing paper could made easier difficult replace flea paper without sticking fingers reason rating vs',\n",
       " 'product works great fleas get trapped cant get loose put end flea problem keep papers hand case needed',\n",
       " 'bought back raid flea spray trap worked well fortunately caught spray seemed take care problem interesting concept lure fleas trap would recommend',\n",
       " 'cat dogs fleas scratching like crazy yet product not catch one flea nothing dust particles waste',\n",
       " 'appears good way know extent flea problem gathering useful statistics ii eliminating least statistics also low wattage lamp leave day getting sticky pad place tricky tips two pencils help get place',\n",
       " 'not believe eyes seen next morning plugging item gross amazed finally got rid nasty fleas thanks goodness highly recomend item',\n",
       " 'love love love product children also minutes setting traps fleas left night',\n",
       " 'trap not attract fleas like expected bulb burnt less week trap close dog beds weeks fleas dogs cats fleas spite monthly applications advantage also ordered another brand bought placed another floor caught dozen fleas week period simple pie pans soap water desk lamp caught week test not neat looking better job',\n",
       " 'love product never order amazon antonline shipping charges almost high product cost unless shipped timbuktwo not cost much shipping found home depot price',\n",
       " 'buying traps years first year traps fully glued last year traps missing stickiness catching bugs area need start using glue looking another maker trap',\n",
       " 'product works great dog no infestation not scratching since device pulls away sticky pad',\n",
       " 'used trap two weeks not caught single flea know around poor dog keeps getting infested',\n",
       " 'battling fleas summer wanting know things control purchased flea traps one springstar one see better flea trap first light bright plan using bedroom keep mind would better suited going bed second main difference traps amount open space fleas get trapped trap large open space catch fleas spingstar smaller grid traps less fleas trade springstar aesthetically pleasing trap hides trapped fleas better grid piece kids pets not get sticky pad trap smaller children could easily reach inside something keep mind third assembling trap sticky pad curved box meant pad refused lay flat trap small problem could fixed tape need overall trap good investment set little week caught adult fleas gnats cost effective way see flea infestation control not using chemicals since adult fleas emerge pupas months infestation far better lure trap die let bite animals choosing springstar boils matter personal preference plan leave trap people see go spingstar want large industrial type trap go one caught pretty good amounts fleas lots gnats',\n",
       " 'not work serious flea problem tried several locations aside initially catching flea next two days nothing else caught even though could see flea around',\n",
       " 'bought flea traps packs refills total waste money fleas jumping yet none traps want product get rid fleas not buy one',\n",
       " 'gonna need clumsy like find everything sun including socks stuck super sticky paper know loose change lint reciepts et al stuck trap gonna need replace paper worth believe not free debris sticky paper actually works catches good number fleas occasional mosquito enjoy',\n",
       " 'bought not want use chemicals little kids lots fleas thing weeks multiple locations fleas not single flea caught total waste safe flea trap right safe fleas',\n",
       " 'product really works purchased extra stick pads kills fleas bugs no chemicals highly recommend product',\n",
       " 'way sticky pads work flea accidently jumps trap guess could wrap around ankles see fleas jump walk around im going put soapy water bottom trap work better sticky pads trap doesnt attract fleas anyways shame victor company',\n",
       " 'used product several years effective reducing adult flea population cannot use sprays concerned using sprays product next best items use pack comes three sticky pads would order two packs first time used sticky pad fill fast need flea trap holder small light also available victor',\n",
       " 'satisfied bought flea trap refills always satisfied',\n",
       " 'bought victor ultimate flea trap many years ago local market not sturdy today worked could no longer find refills happy find trap refills amazon stray cats neighborhood new flea trap refills really helped even ants go',\n",
       " 'work great sticky first careful not touch sticky part negative comment glue eventually dries not sticky anymore problem waste caught fleas first pad stopped sticky could caught many fleas glue not dried not dry real fast suppose month discovered pad not sticky anymore meantime still using catch fleas thinking still working dried besides would like manufacturer redesigned trap snapped closed securely way top easily knocked exposing glue pad overall would recommend regardless two small drawbacks sorry think said sticky much',\n",
       " 'cats cat walk outside got fleas bought product work conjunction flea treaments fleas attrscted light stay stuck sticky trap',\n",
       " 'bought one victor flea traps whim not know would actually work well work great really recommend trying one getting mobbed fleas',\n",
       " 'guess worked ok didnt see many fleas trap maybe didnt bad infestation use another spray product conjunction anything doubles nightlight',\n",
       " 'utilizing product months replacing refill per week product states however lost thrown away disks could not peeled back expose glue without tearing cases could peel back partially not peel back continue utilze immediate future however cost benefit anaylsis poor probably utilize spray instead manufacturer take care disks work peeled back etirely without ripping tearing etc',\n",
       " 'idea seems logical attractive weeks trapped zero fleas cat flea allergy not take one flea set allergy night light except night light bathroom try suggestion make whole area dark except trap maybe work tried vacuuming solution vacuuming daily days seems effective although admittedly work best think say flea trap makes effective night light',\n",
       " 'better buying dish soap plate putting next lamp fact dish soap caught fleas things',\n",
       " 'product not work home not think product needed something different combat fleas like chemicals not give lower stars appreciate price quick delivery',\n",
       " 'purchased product one stray cat brought house fleas plugged product one hour later least dozen fleas stuck trap like glue used month trap full trap replaceable since fleas small get lot life one not leave plugged not home plugged job amazing product fleas home try no chemicals poisons try product',\n",
       " 'best product cost ever bought no idea bedbugs strange sores penis not bad went doc said either staph herpes months later bought trap found bedbugs looked bites google perfect match guess know happy not bite since cant imagine many people miss informed product must one every room',\n",
       " 'cat dog flea infestation bad got bitten sleep hands feet neck body thought mosquitoes initially got flea trap placed bed near dog everything said animals itching lot time run flea meds vet supply temporarily not catch one single flea time months use various room near dog cabinet bed nada zero niz nyet non manufacturer needs reported ftc making false claims products utterly useless not buy eliminate fleas pestcontrol online order talstar pesticide ultracide spraying mattress not spray pet bedding wash instead smell strong animals vacuum house life depended vacuum floors carpets crevices mattresses cabinets etc throw away vacuum bag end first vacuum weekly spray ultracide inside vacuum bag kill fleas hatch store vacuum outside house spray house yard talstar using gal pump sprayer like chapin mix spray kills bugs outside not spray flowers edibles spray perimeter house driveway cracks concrete ant hills etc avoid earthworms repeat one week kill hatchling fleas let dry letting pets back no smell spray mattress ultracide cabinets strong smell not spray near animals sensitive noses let dry aerate house wash animals eqyss microtek shampoo eqyss premiere conditioner give dogs comfortis orally month give cats revolution applied skin month amazon buy nitenpyram per tab little city dogs generic capstar per tab works hrs kills fleas instantly give animals orally sizes time spraying house fleas die day give nitenpyram time flea meds no problem give animals another dose next day one week keep zapping new hatchlings eliminate fleas months till next spraying spray times per year keep animals monthly flea meds plus nitenpyram needed',\n",
       " 'pleased flea trap purchase two one camper one house tell animal loving friends',\n",
       " 'really skeptical thing desperate control late summer flea problem works light bulb burned weeks easily replaced bulbs night lights even caught spider would not count rid fleas combined approaches spray flea comb etc think helped thankfully flea free',\n",
       " 'got kids running around ages not want spray toxic chemicals around retreating cats set traps hoping best let say bad flea issue less week went flea waking walking bathroom fleas jump legs ordered traps days got worse happy got night caught dozens less week noticed kept month months since used traps not single flea house since',\n",
       " 'trap second sticky pad unit ibought came two sticky pads bought refill pack comes three sticky pads use trap room dog sleeps daytime dog not room room made dark blinds closed door closed morning till night trap gets per day month sticky pad looks disgustingand coated fleas key keep room darkduring day keep dog room trap theonly source warmth light room attracts fleas terrible flea season live nothing theyard frontline dog seems help walk dog everyday always pick fleas addition trapi tried nemotodes yard wet dog fleacomb dog drown fleas soapy water abouttwo three times per week also got diatomaceous earthrubbed bedding vacuum frequently trap thing great itsno work compared things fight fleas recommend buying refills',\n",
       " 'works good original came trap product great keeping watch fleas pest co show trap say look still fleas light night flea house trap morning',\n",
       " 'used make sure caught fleas vacuumed carpets treated cat definitely job',\n",
       " 'excellent product got refill pack says one got star still no response amazon either',\n",
       " 'efficient long lasting way get rid fleas house without chemicals really works',\n",
       " 'purchased product',\n",
       " 'product useless unless trying catch moths nats middle night not single flea looking another product',\n",
       " 'purchased item addition actual trap reading reviews posted amazon users must much larger flea infestation took week get fleas used trap area dogs sleep no light one trap know dogs fleas could see maybe fleas smarter trap',\n",
       " 'purchased refills time purchased flea trap no fleas area willing step sticky discs result flea trap no use refills no use well give one star cost small amount consider returning item plan offer flea trap refills local freecycle website case someone flea problem wants try option',\n",
       " 'live urban neighborhood hate flies starting buy things crate everyone use work pros killed literally thousands flies gallons flies eventually think manage wipe local breeding population get ahead curve trick start early spring one really trying achieve population control not killing flies otherwise depending landscape course neighbors flies move bottom line use according directions flytrap works extremely well many negative reviews clearly not read directions really needs sunlight cons reeks seriously not imagine anyone using inside house gets going not really want within feet unbelievably strong smell rotting garbage though theoretically reusable unlikely unless really strong stomach think big jar rotting dead half dead flies really foul bottom line use properly think form perimeter defense targeting fly hot spots like garbage cans loose lids make world fly free really flies one jar properly located take care actually spend time analyzing need anecdotally observation btw seems like effective fly trap market',\n",
       " 'ive order shipping oz cheap cup not pictured avoid catch flies though',\n",
       " 'week not kick several days nothing happened next day flies covered top water another day several layers deep still not really started stink others report',\n",
       " 'originally purchased smaller version product upgraded version full flies ended throwing away maggots started appearing pretty gross effective highly recommend purchasing one rather using',\n",
       " 'gross efficient bought smaller size completely filled days making maggots yuck want something works buy fact buy cheap worth purchasing larger size',\n",
       " 'perhaps good idea skimpy execution lid plastic wall thread weak hold bottle water',\n",
       " 'day stupid flies went day smell bad relocated day hundreds flies omg works great blocks flies come party die',\n",
       " 'lot flies house summer seems not open door flies coming put outside week later must flies amazing disgusting not looking forward emptying thing ecstatic many flies caught shocked',\n",
       " 'live urban coach house rear faces alley alley filled trash one might expect get fair share rogue flies house first tried sticky fly tape stuff inside worked decently situation would catch fly happened land strip still found killing via shoe tape managed catch not mention fly tape house disgusting messy decided try victor fly magnet outside garbage thing caught flies would satisfied caught seriously thousands literally jam packed way top still trying muscle way not amazed well trap works amazed many flies live near home question set fire tape grenade days since put outside not one fly house not single one oh not stink bad bait mixing smells like barn perhaps dead fish barely smell standing next trap full flies hot summer air',\n",
       " 'works well reusable technically reality hard empty flies use since bait would cost would makes sense buy disposable model sold company',\n",
       " 'absolutely floored well product works put one trash outside one close neighbors dog pen full end week not know attacts sit watch go one right highly recommend product',\n",
       " 'one best fly trap products ever purchased ordered summer used time placing side back yard convenient hanging locations full flies replace new set terrific use back yard time bbq family gatherings really made difference year easy hang no offensive odor not difficult look either size useful not offensive see',\n",
       " 'used years great flies always around reason called nature glad attracks ones around pretty much traps nothing ever fullproof recommend always people tried loves',\n",
       " 'works great wait day packet give mix water well works well smells bad always place wind blows smell away house follow directions closely',\n",
       " 'fly trap works period yes stink however look many hundreds flies many thousands therefore prevented reproducing no problem holding breath walking traps dislike throw away society force add water dump dead bag tie toss dump bait hang herd horses difference traps around happily noticeable get not disappointed',\n",
       " 'trapped flies within first hours use hours must flies outside back entrance house really kept number flies get seems work much better homemade traps put together',\n",
       " 'amazed well works take day kick patient put somewhere not get knocked cat knocked kitchen stunk high heaven',\n",
       " 'could sit watch trap work day amazing flies flock bottle go inside addition fun watch really keep flies away porch cat food wonderful product would recommend anyone severe fly problem actually ordered second one since hundred flies around porch daily zippo none',\n",
       " 'traps simply amazing take days kick fill quickly least hundred flies caught week makes think come live suburban area yes stink dead flies start decompose obviously days empty use throw garbage use new trap reason best put someplace not pass often eat close also attract flies local area see lot activity near trap takes weeks use clear fly population buy one guess lifespan common fly weeks definitely worth getting try buy time use proactively',\n",
       " 'trap works bait smells little like dead fish really plus traps used smell like strong old damp poop find worse old fish top traps used warnings attached bait victor traps made food grade material non toxic make refill baits well not keep spending money new traps use yard dogs chickens inexpensive non toxic solutions must smell dissipated outside not really smell much outside unless standing right next trap takes day bait start working instructions say give several hours really activated catches hundreds hundreds flies couple days happy victor fly magnet traps animals',\n",
       " 'currently living africa not sure traps would work flies bought anyway received quickly amazon hung literally within days lot flies inside weeks thousand flies trap ordered bait refills amazing concerned smell mentioned reviews fishy odor traps not noticeable hung outside one hung fairly close house tree patio another pool fence side patio traps filled flies realized smell became little pronounced due decaying flies not big deal would worth much nasty smell many flies trapped anyway noticed less flies house like leave doors open since dogs go weather nice could give product stars would',\n",
       " 'monkey enjoys sitting patio day sometimes evening averse us close screen door concerned possible encounters gardener white cat next door white cat recent addition neighborhood seemed pleasant first saw peeing right middle agapanthys garden since dislike much monkey since pocket died not flea problem blessing not pocket dying miss even though no longer block access pantry gallon pail expired mayonnaise national brand no less not mention name known either east west rockies part not fleas reason abundance black house flies always tell monkey look let big black buddies stop letting big black buddies not persuaded rarely seems patrol window sills dying flies like dog little dog name princess leia bought kind insecticide big lots two kinds though one actually harness power kill houseflies neither light aerosol type effective spraying flies one left wet mess office white powder served crud carpet attract undesirable teenagers apartment recalled one school teachers hanging jar piece steak catch flies goat pens armed information acquired victor fly magnet reusable trap bait pleased not supply steak vegetarian would borrowed neighbor difficult imagine would explain piece steak really not certain neighbors would want return done using mean get along neighbors really well including ones rent large dora explorer bouncey house every imaginable event rather nice letting us get even heavy lunch ill advised veggie corn dogs relish lots cole slaw grape soda not look good painted inside bouncey house not even spongebob one carefully read instructions added recommended amount water less enclosed packet fly attractant fly attractant looks bit like comes packet guacamole mix taco seasoning suspect freeze dried meat dog poo poo sort perhaps horse pig hung jar prominently middle front garden decorative plant hanger bought big lots several years ago despite sort sturdy metal bought become flimsy age bends easily not weighed much fly trap jar thought no trap mate mentioned morning came home work sunrise stood close trap looked mass struggling near dead flies bogging mire poo water filled dead comrades stared quite time set aglow distinct rays rising sun stared rather tired stared realized rather unpleasant looking fungus spreading garden bases sago palms kicked fungi around went bed considered humiliation disgust someone wold feel pour contents jar someone certain manufacturers would strongly advise not recommending recommending victor fly magnet reusable trap bait really cleared fly problem matter week not noticed odor well ventilated area sense smell rather poor owing genetic predisposition sinus allergies tested not allergic cats',\n",
       " 'looking forward trap kill gnats taking plants home not happen kill one lonely gnat trap became stinky give dump product drain boooo',\n",
       " 'product no use catching cluster flies pest september january new england set indoors spot frequented scores little devils not one drawn death hope works kinds flies',\n",
       " 'first fly trap arrived missing white square piece top tried use without not work amazon shipped whole new trap thought would work better whole bait new unit different color thought maybe bait worng first unit not caught anything nope even new unit new bait still never caught one fly left week not work no idea problem back using sticky fly stips least catch flys not waste money thing',\n",
       " 'victor fly trap certainly fly magnet totally eliminated fly problem neighbors litter box back open porch invaded pesty flies thanks victor fly magnet problem solved thank amazon support web site easy purchase',\n",
       " 'installed third unit garage outdoors tree branch case hours trap surrounded swarm flies practically going frantic get inside ordinary house flies numbers shocking must coming county plastic bottle screw lid little roof quite rugged would probably last indefinitely unit comes length wire works nicely hanging ceiling fixture small tree branch bait powder mix water smell quite foul rather like well know flies enjoy sitting definitely outdoor use although ventilation might place garage shed experience indicates wise empty bottle fills completely dead flies living flies maggots disgusting task stink formidable not something want near house',\n",
       " 'go',\n",
       " 'bought four amazon get free shipping since not ever want pay shipping lazy drive retail store buy one try flys really bother inside house garage not dumb think could use inside house thought inside garage might work bait mixed warm water not initially much strong oder put trap garage no catches within couple hours even though garage buzzing critters moved trap outside feet open door day several flys trapped next day even trapping accelerated day day five layer inch dead flys trap jar unfortunately stench rotting flesh detectable yards away downwind appears bait get trapping started dead flys really draw flys point get rid stench could either bury god awful mess pour sewer system choice employed two traps smelly results used two traps started left canned cat food water bait cat food seemed good purchased bait end results thinking removal several dozens outside flys immediately replaced countless numbers existing environment hardly worth trouble smell using fly traps',\n",
       " 'tried using product garage purchasing farm store traps made smell like something died garage two traps got flies days lot flies around kids swatted lot flies traps caught placed outside one trap caught maybe flies caught addition got garage even outside odor bad husband asked get rid traps',\n",
       " 'live small property couple acres occasionally summertime one kids leave back door open get flies house bought thinking would attract flies house catch far sitting sunny window week caught one fly would say save money buy fly swatter',\n",
       " 'great product works really well catches many flies need order',\n",
       " 'dogs plenty fruit trees premises attract plenty flies summer desperate need get rid flies purchased different fly traps one winner took days product attract flies worked well trap outside days half way filled annoying flies yard not fly free happy see get rid flies simply hanging trap tree',\n",
       " 'traps work great within hours already saw flies trap trap full within days flies still trying get lot trouble flies get several time way stuff pretty stinky near careful not spill unfortunately happened let dog get not worst smell know mankind not something would want voluntarily put either',\n",
       " 'week must couple hundred dead flies trap thing really works',\n",
       " 'victor disposable fly trap works easy use love catches flies keeps home yard practically free pesty insects full take throw away no sprays sticky paper continue use even neighbor buys saw good worked easy use great product opinion',\n",
       " 'not catch flies smells horrible addition extremely lightweight cannot withstand even smallest amount wind',\n",
       " 'left outside collected whole bunch flies outside none container even though prepared exactly detailed stinks threw waste money',\n",
       " 'arrived broken top hook making impossible hang placed picnic table instead week no noticeable difference flying critters',\n",
       " 'using plastic cup fragile cheap much weaker normal plastic disposable cup ended throwing away fly comes hole broke within days buy brand not disposable type even one throw away filled flies bait pack not cheap nasty empty would see thousand flies may maggots however unit company works really well',\n",
       " 'love thing moved lake recently problem kinds bugs flies piss diseases followed simple directions left outside patio day entire top almost filled fly deep guessing flies day one days hundreds flies new ones push old ones top layer flies deep also layer flies floated way bottom cup thing works order one double fly killing power note smell like crap good thing outdoors trap tip bought clear glue patches placed trap big white cardboard poster placed glue traps around cup not pretty look adds fly stopping power',\n",
       " 'pint size container nothing go cup flimsy one hard secure lid without crushing cup not worth price better order quart size version much sturdier make drilling holes quart jar bait works really well',\n",
       " 'sitting week flies sit top fly around waste money',\n",
       " 'amazing good product works especially attracts blue bottles definetely going buy buy wont disappointed',\n",
       " 'early fly season already noticed bunch flies hanging around patio put two two days ago happily report couple flies right rest traps yay happy work great definitely buy need arises',\n",
       " 'works awesomely also smells completely disgusting filled dead flies thats buying',\n",
       " 'victor disposable fly trap works great live front recreational park fair share house flies daily swatting got much hassle thus purchase fly trap since put couple flies make house hundreds trapped died trap also attracted gnats would greatly recommend trap',\n",
       " 'not good like gimmick cup flimsy not kill long effective fly traps would definitely recommend go another direction',\n",
       " 'great traps great price w prime well read instructions trap optimize trapping potential not blame rain forgot umbrella',\n",
       " 'fly trap not worth money not job ones bought else much better not buy much better ones',\n",
       " 'dont know good reviews small trap two days got bee flies still flying around',\n",
       " 'set two traps near spot would grilling past fourth july weekend stuff really works quick set not unusual odor outside product could also detect two fly traps may benefitted neighbor outdoor grilling not flys contend ordering lot product near future',\n",
       " 'fly trap beyond anything expected oh saw picture one filled flies not really believe would happen hung trap feet back door almost full flies hate flies home not come fighting next one trap loli definitely ordering although traps reusable find bit gross price buy new ones',\n",
       " 'meant reusable staying outside last summer plastic became flimsy means could not get lid year buckled bent ended couple holes bending course getting lid nasty struggle filled bait filled water splash not particularly like idea bacteria spores hatching hands lid screwed could averted not come rain guard either bait works like charm not complain think might make container buy bait',\n",
       " 'live panama three four months year fly season mean flies like never seen life hung several traps outside house couple weeks least inches dead flies one not know many probably thousand trap got lot toucans parrots cages outside attract lot flies sure keep least feet house flies stay away house plus traps highly unpleasant odor people flies love',\n",
       " 'put patio keep flies house use back door really worked no flies getting update stilll using every spring summer no fly zone around patio work best fly traps tried',\n",
       " 'bought cut amount flies back porch within day quarter full practically top week worked well getting several substanially cut amount flies around porch house extremely easy use take lid pour dried attractant add water line cup snap lid fit second lid hang instructions say takes hours attractant activate not worry smelling house comes everything need hung ft porch stated full week actually probably could reuse trap not squemish dumping dead dying flies cleaning cup would need attractant took trap tied plactic grocery bag around tossed whole thing not bad loss probably move larger size seeing worked well quickly',\n",
       " 'product works exceptionally well catch flies ever thought even however beware smell start really stink like feces half full feet away not toss regular trash containers porous like plastic garbage cans hard get smell bag double bag plastic get rid adding trash want new ones anywhere near sit eat like patio would not stop using due though noted really work changed usable ones disposable ones',\n",
       " 'unlike similar products several brands fly trap one really works hung unit hook garage ceiling two days ago already two inches dead flies top water bait somewhat smelly vaguely like liquified barnyard manure best used outside living areas',\n",
       " 'victor traps unreal total fly genocide pretty stinky smell right nearby within feet uploaded photos warned pretty gross show effective chamber doom shot maybe month half use threw away pro tip water evaporate splash little water top week two spin trap times mix really kicks aroma back high gear gets another couple weeks life mean death',\n",
       " 'fantastic product smells like hell hung outside garage flies could not seem get fast enough',\n",
       " 'used fly traps work really well horses alot flys',\n",
       " 'clumsy use smelly not work well ended throwing away no longer catching flies weeks promised last three months quit catching flies two three weeks older victor fly traps worked much better unobtainable black screw cap bright yellow dome shaped cover little black fly perched top held together bottom used quart mason jar easy fill also easier empty start begin smell wish someone would manufacture',\n",
       " 'using another fly trap one bag tried one fit half price twice good results unbelievable not smell either',\n",
       " 'ecellent easy set started trap flies immediately caught dozens flies days not even placed many flies around would purchase',\n",
       " 'fly traps get stars except texas heat evaporate quickly going try gallon size see stays effective longer us not live outdoors without',\n",
       " 'two dogs flies always around fly traps work well no smell',\n",
       " 'large fly traps around yard gross smelly house one great porch',\n",
       " 'product amazing scream top mountain good trap works compost everything include meat fish scraps compost get ton flies tried everything salt baking powder lime vinegar solutions nothing really worked put trap within day trap quarter full highly recommend one word advise not open powder packet house stinks outside good',\n",
       " 'bought two types traps victor rescue reuseable fly trap attractant green screwtop victor one filled flies days green lidded one flies baits smell differently order victor bait put green trap see works better using traps bait water sieving flies pouring liquid back trap adding water four uses later still going strong note trap traps big flies look stinky stuff not smaller flies fly circles',\n",
       " 'bought one august worked well bought dachshunds small back yard burbs tend get lot flies summer ultimately make house put fly trap tree filled water next day checked not flies wasps none products tried worked well cold enough soon colorado not worry next spring prepared would highly recommend product not put next would able smell attracts flies smell flies go not come stored bought hand next spring product not want without',\n",
       " 'bought three date incredible must cuaght flies things smell flies week put enough away house actually attracts flies kudos',\n",
       " 'works order anchor better not blow away lost wind storm smells pretty bad also works house brought indoors set bathtub flies particularly obnoxious inside opened screened window bathroom flocked set back outside could begin smell would not keep house windows closed however phew',\n",
       " 'put right next outdoor trash flies around not trap one fly one week however updating review take week start working supposed',\n",
       " 'buying device cluster flies save money week different places around house thing inside hapless ladybug wandered hundreds cluster flies cloud windows divebomb us walk room room bug zapper better approach euthanizing annoying insects',\n",
       " 'cup hanger broke days hanging fly infested area cup not catch single fly ended garbage sad say resorted poison sprays sticky tape',\n",
       " 'put immediately started catching flies like crazy love smell not problem',\n",
       " 'thing smells like trash assume intentional not trap flies no success',\n",
       " 'fly trap not come white cover pictured hung outside collects fills rain water however filled excess rain water failed catch flies',\n",
       " 'opened set put counter gone weekend came back no flies inside use fly swatter kill flies book club ladies came put fly trap garage shelf forgot days afterward smelled dead sort smell thought small animal died somewhere garage looked days realized smell felt pretty stupid thing stinks not want house around kids',\n",
       " 'total crap not catch one fly followed directions letter no results complete rip beware',\n",
       " 'installed trap backyard working great installed friday within days trapped probably flies still working away takes hours activate starts working almost immediately fly problem try happy',\n",
       " 'two dogs back yard never seam keep flies year really bad got trap types fly repellent still getting ran flies got trap bad review small willing try anything around say love trap first mixed trap water green first day got flies water turned yellow flood gates opened end day least within maybe days many flies went able get poison still stuck cup fly around house gone week starting come back getting many victor fly traps rest year next',\n",
       " 'put trap food tell instructions put flies hornets weeks not even changed food water yet see black nasty dead flies bees bottom cup thing cup little small luckily also bought larger fly trap flies gone fly trap kills flies per bag like alternate larger one better give waaay food used required food tons left like bigger bag fits flies seems attract slightly either one good small one looks better big one fits flies bees',\n",
       " 'trap amazing catches flies every day thing full really no idea even many flies around backyard dog noticeably reduce number flies coming house open patio door buzzing around dog food recommend getting several water fills fully flies not going catch anymore gone several already ordered',\n",
       " 'not work like proper food coloring ruined red velvet cake also messy product',\n",
       " 'searched amazon using organic food coloring list amazon needs list ingredients online not organic even natural regular food coloring get deal returning',\n",
       " 'dyes create awesome colors kids crafts used make finger paint paint play dough salt dough another reviewer stated not natural correct definitely artificial dyes tried making dyes fell worked great pinch need couple drops really vibrant color pretty easy clean not stain made whatever craft good product price',\n",
       " 'used first time decorating gingerbread cookies chidlren holiday party mixed royal icing colors much vivid normal liquid coloring used past little containers extremely easy use no mess fuss getting right amount quite pleased product far look forward experimenting colors future',\n",
       " 'love colors mix get different colors beautiful happy',\n",
       " 'complaint product sometimes difficult squeeze small amount bottle mixture colored not massive amounts baking find sometimes really hard get light color adding product small quantities mixture however colors bright pleased find color evenly distributed throughout mixture thought product little pricy trying believe worth extra money product seems high quality shows cooking whenever want add color things',\n",
       " 'sorry not take pix cake made red blue true form not baby pink blue never use liquid food coloring',\n",
       " 'much easier use wilson paste colors colors vibrant not taint frosting like colors simple use not make mess complaint not find years ago must decorate often',\n",
       " 'love pour feature no mess like others control color',\n",
       " 'made brightly colored cupcakes using couple drops not need use lot achieve bright color complaint not come guide laying many drops color combination needed achieve specific new color definitely worth much better cheap ones find grocery store',\n",
       " 'far colored meringues cake buttercream icing colors solid not wishy washy dont need use much though wouldnt worry applying toothpick writers suggest unless something small want specific shade didnt try mixing pleased results set gives good range color shade options',\n",
       " 'used color fondant three cakes far color really great get depth color looking hint color gives much mileage worth',\n",
       " 'love stuff need minuscule change color cake mix going make twins rainbow cake first birthday perfect',\n",
       " 'nice basic selection gel food colorings make basic colors would need beginner mix well frostings not make frosting runny liquid colors',\n",
       " 'sick scads nasty toothpicks counter tinting icings squeeze bottle concept one long overdue exceptionally welcome colors vibrant not offensive taste blend opinion smoothly wilton pastes need experiment bit get hues right first well worth',\n",
       " 'not know anyone would ever use little liquid food colors trying pastes colors intense easily blend lovely shades icings martha stewart shows wonderful seasonal cookies time time tv show simple eggwhite sugar icing cookies exciting colors makes wonderful table decoration well great dessert parties teas events paste colors must like make frosted cookies party cakes especially fun kids cookie icing contest fun event birthday party christmas party rainy afternoon',\n",
       " 'second time bought set colors marvelous diluted icing even vodka painting cookies depending much decorating set last quite one word caution colors strong wear apron gloves afraid stains not remove easily',\n",
       " 'best food colorings ever used colors bright vivid much better typical food colorings sold grocery store made several rainbow cakes cupcakes pancakes using dyes friends always impressed gorgeous colors highly recommend kit would definitely buy',\n",
       " 'never used brand coloring true colors not messy use',\n",
       " 'pros nice selection colors bottles easy dispense lid flips open gel squeezes small opening allowing add drop whole squeeze gels add nice vibrant color little get strong deep color not like use whole bottle cons none found far',\n",
       " 'vibrant awesome colors never buy food color throwing away others',\n",
       " 'originally bought use pastry school ended using job quite bit consistency gel excellent pretty much neutral little impact texture batter gum paste rolled fondant etc containers superior wilton containers hinged lid hole underneath easy squeezing wilton brand solid caps require extra step grabbing toothpick tool dose may seem like minor concern definite selling point',\n",
       " 'admit food coloring novice entire life thought food coloring came colors bright red bright yellow bright blue bright green wanted orange mix red yellow accidentally added much yellow add red could accidentally add much red add yellow whole bowl orange food coloring wanted color little bit frosting could put dozen cookies happily wrong not colors food coloring least bought not buy used loved little food coloring goes long way long gone days end making gallons coloring dozen cookies gone days could never get color right without sand table rip grout tile floor coloring everywhere tried mix amazing times open color want add right amount exactly color looking great product highly recommend anyone looking color food',\n",
       " 'bought set mainly red bake decorate frosting icing quite bit excited get many colors supposed better quality wilton used entire bottle red cups buttercream frosting darkest would get watermelon color time got point frosting broken looked terrible royal blue not much better reason not give one star not used colors yet red blue stick store bought red frosting wilton gel colors everything else',\n",
       " 'could spend year explaining delightful colors good quality excellent value daughter loves bake turned much fun controlling mixing color scientist blend well mix well good consistency came delivered well packaged make easter whole new thing get chickens keep color combo',\n",
       " 'bought decorate dia de los muertos skulls icing ateco food coloring gave nice bright vibrant colors mixed icing well totally satisfied purchase',\n",
       " 'glad amazon record orders order run use colorants everything frosting soaps spent lot money colorants even bought several wilton gels really really hated found messy use gels tasted bad wanted dark color looking alternative gel seems mix everything even dark colors taste good made rainbow cake colored cake batter dark colors day party cake tastes great no detection colorant bitterness old cake seem strange taste maybe color finally settling colors great dropper bottles control amount concentrated pigments one drop wonders want really dark colors probably achieve drops beware like colorants stain countertop fingers tongue skin plan protect counters etc used obviously wipe spills quickly seems no taste colorant convenient dropper bottle lot color choices save mixing right shade',\n",
       " 'food dyes work great colors accurate not run use add color home made yogurt',\n",
       " 'bought one really liked colors not like liquid blends really well',\n",
       " 'colors brilliant gel colors little jars dried looking another type food coloring met needs love squeeze drops bottles rather messing toothpicks clean easy way use food coloring would highly recommend not used colors yet easter used',\n",
       " 'unlike sold grocery store food coloring one concentrated use toothpick pick bit tip mouth create beautiful color label bottle description ingredient size not use food use son fun playing like mixing color add shaving cream spray bottle fun good buy',\n",
       " 'food coloring order arrived color selection well represented expected no problems would definitely order product',\n",
       " 'product give variety colors use food coloring easter eggs anything want excellent product',\n",
       " 'started cake decorating first professional colors really happy results colored fondant gumpaste overall good experience would given stars bottles little easier get drop instance bottle cap conical shape like visine rather flat cap minor though nice colors reasonable price',\n",
       " 'spectra paste food colors simply fantastic provide depth clarity color impossible achieve liquid food colors hues beautiful distinctive black red two colors difficult get dying frostings etc especially nice probably best manufacturer tried questions not certain sizes set mine bottles ounce might not seem like much need dot thick gel paste end toothpick color large amounts material plenty coloring ability bottle many many times sized liquid food color bottle highly recommended really good price time review',\n",
       " 'opened box noticed royal blues lucky boys however happy colours vibrant not need use lot gel like consistancy like',\n",
       " 'really glad bought ateco food coloring kit found searching black food coloring halloween cookies finished christmas cookies turned amazingly thanks food coloring kit color bright solid pastes mix well frosting not used anything else yet nicest brightest christmas sugar cookies ever made not need use lot coloring drop two get perfect shade bottle last long time',\n",
       " 'wondering bottles oz gel food color vibrant amount goes far',\n",
       " 'easy use not make mess offer vibrant colors not taint decorting colors would highly recommend anyone likes decorate',\n",
       " 'needed food coloring dye various things would say worked well purpose not going back liquid colors take bunches drops not strong color',\n",
       " 'beautiful bold colors exactly wanted definitely order individual colors use color water pearls look amazing',\n",
       " 'never purchased colors liquid food colorings available grocery store unsure expect gel colors say wow colors vibrant blend smoothly whatever making none taste funny good really adding lot ramp color boldness even pleased black color read purple blue version looks good mixed frostings batters',\n",
       " 'good little set colors vibrant colors well great price compared supermarket pleased',\n",
       " 'pretty colors true labels one brands could find offered fuchsia needed time color turned great',\n",
       " 'wonderful color assortment decorator colors blend well easily combined create variations',\n",
       " 'make lot cupcakes friends occasions love color frosting true colors well worth',\n",
       " 'reallyi go detail try various shades lovelovelove gel food coloring not get funky tasting not liquid not changethe consistency food putting pay attention colors buying given listing thought sets sold quantity like bottles wrong sets vary found ordering set would nothave necessarily ordered also listing colors listed basic tones please check photo see americolors really receiving lot shades blue pink green etc might already havethe shades included one reading bottles photo correctly purchase give following colors sky bluedeep pinkchocolate brownsuper redlemon yellowtealroyal bluefuchsialeaf greenvioletorangesuper bluei little surprised even amazon description not bother note named colors anyway great colorings sure colors purchasing shop online',\n",
       " 'excellent product met expectationsthe colors vibrant mix wellproduct high quality no inconsistency',\n",
       " 'much better wilton stuff get craft stores mixes quickly frosting homemade marshmallow fondant not use nearly much wilton brand',\n",
       " 'colors vibrant not water icing love little squeeze bottles no digging color tooth pick also good painting fondant add little vodka makes dry fast',\n",
       " 'purchased product water coloring laboratory purposes although fulfill task pretty well contains glucose sometimes gets stuck lab equipment similar product containing colorant would better application',\n",
       " 'located product search dye free food coloring call company produts full food dyes chemically based not naturally based beware looking keep dyes food',\n",
       " 'going find baking projects use colors lovely vibrant colors quite strong one drop colors quite bit nice colors ready go without mixing especially get peachy colors hard get right',\n",
       " 'vibrant colors box makes easy store wish coloring little bit thicker tho careful not use much would definately recommend item overall',\n",
       " 'product great colors nice question exp date not package',\n",
       " 'amazing set coloring dyes used wilton dyes pain use something get dye make sure no food gets coloring dyes much much easier use squeeze bottle no mess control much color add also squeeze bottle make easier repeat colors accuratly count drop',\n",
       " 'not used colors yet good pure color exception red not always red using colors color flow work red came salmon colored thought may dry darker stayed color try see get darker pleased purchase',\n",
       " 'love love love much wonderful grocery store much creative different thank making thing',\n",
       " 'product awesome takes drops get fabulous color easy work loved',\n",
       " 'ateco colors wonderful blend batters icings seamlessly good basic kit start ateco makes many colors one give plenty options last long time colors concentrated one drop give whole bowl icing nice shade easy get carried away squeezing drops quickly try go one drop time wait check resulting color icing blends darker colors like red black need add lot couple drops want make royal icing bright red christmas cookie decorating sometimes use drops medium bowl icing keep adding till like color keep mind darker colors red black darken sit awhile make icing hours need use sure keep covered prevent drying',\n",
       " 'happy colors however little disappointed much color need put use color playdough discovered need quite bit make decent color',\n",
       " 'average baker used cupcake icing far extremely pleased one single drop colored cup white frosting pleasing pink attempt get black used drops black ended dark grey drops would probably done bottle ounce using one drop time make last years not compare store bought mccormick coloring never buy',\n",
       " 'would love try rave reviews miss something description not list colors included amount color gave product stars ca not critical something not tried amazon description gets minus',\n",
       " 'great vibrant colors usable palette blends easily fondant icing marcipan alike tiny drop sufficient entire batch makes extremely cost efficient shipped delivered norway three days',\n",
       " 'used two colors far leaf green royal blue super impressed colors though fact not take much gel achieve rich color far surpased wilton gels using past ended running green frosting color second batch amazingly simple get good color match two different batches wondering adding gel would made darker green would always ended close shade green think really maximize use product get full color spectrums would easy color mixing chart',\n",
       " 'ordered try great reviews not pleased outcome color not seem different could get using wilton icing coloring also icing started separate bag trying decorate cake also made darker icing already put cake guess separating heat hands holding bag never problem wilton colors guess continue look coloring make icing brighter darker shades',\n",
       " 'amazed colors able achieve food coloring used cake red blue green yellow purple color beautiful also made cupcakes brillant blue icing no change consistancy taste frosting not go back brand',\n",
       " 'used one color far results amazing used tiny amount pink batch butter cream icing result beautiful rich colored icing granddaughter loved highly recommend food coloring much better results wilton food coloring paste look forward baking christmas cookies trying colors',\n",
       " 'friends home watching use grocery store food colour bought reminded love ateco full spectrum food colours french eat bake products need want use gel need less colours soft bold new gel recommend using toothpick get wee bit mix dough frosting candy cake cookie making better see actually need love violet make b reng abraham french macarons calls purple food colour match violet extract flavor green make pistachio kiwi macarons orange colour magnificent used one favorite orange liqueur frostings fact food colours unlike run mill food colour usa k symbol box denotes kosher usa',\n",
       " 'absolutely better resto wilton not even good job colors ateco held true wilton changed colors drying also advantagae squeezing coloring instead using toothpick paste huge definitely return customer ateco',\n",
       " 'used food coloring dyeing wool fabric rug hooking fabulous not easy use food safe made unending variety brilliant colours ateco easily mixed boiling water used spot dyeing caserole dyeing variety colours perfect buy mari',\n",
       " 'start course chemotherapy dentist recommended gum chew months chemo impressed gum way using natural enzyme protection relieve dry mouth protect teeth decay cancer treatment oh yes true gum loses mild mint flavor pretty quickly minute however want protect mouth chemo certainly could not hurt least chew gum time beats getting cavities still no cavities not start need chew two pieces gum time one piece small could accidentally swallow suppose two pieces gum total five calories not concerned sweetened xylitol overall gum save dry mouth tooth decay course cancer therapy chemo may work well need radiation therapy not fun type bubble gum wish sets protect mouth decay course chemo treatment ask dentist questions',\n",
       " 'dentist see many patients dry mouth result medication use due cancer radiation therapy head neck area always recommend biotene chewing gum patients biotene biocompatible gum natural salivary enzymes help remove plaque teeth gum chewing also stimulates saliva release natural saliva produced benefit great product dry mouths highly recommend jim konedog koenig dds',\n",
       " 'stuff expensive not stay soft loses flavor quickly could deal worked not think works better relieve dry mouth regular sugar free gum',\n",
       " 'described minty helps mild dry mouth provides refreshment would recommend purchase',\n",
       " 'not tried tea please stop order tastes ok wonders stuffed dry sinuses soothing great sore throats congestion much better nyquill',\n",
       " 'soon take sip two feel sort wash openness lungs definitely causes one breathe easy hot tea add tea bag two iced tea bags healthy stuff',\n",
       " 'using tea years chest congestion nagging coughs ingredients gentle pleasant tasting work great temporarily relieve cough licorice root fennel two main ingredients definitely slight not overpowering licorice flavor also taste slight blends eucalyptus peppermint ginger help settle stomach well relieve cold symptoms might experiencing obviously symptoms long term nothing replaces doctor care definitely help short term common cold flu cough symptoms also great vocal boost singers actors performance',\n",
       " 'us pulmonary conditions e g asthma tea great tea lover used successfully enjoyed',\n",
       " 'husband asthma uses peventative inhalers along inhalers attack occurs attack severe go bathroom turn shower hot inhale steam even attack continue prepare breathe easy herbal tea within minutes drinking tea asthma settles always carry tea bag never leave house go anywhere without tea life saver even not asthma tea also help breathe better respiratory infections recently flu several weeks much coughing tea awesome must breathing ailment',\n",
       " 'battling sever sinus allergy actual infectio since couple days narly weeks acould antibotics started help alas no avail thank lord dr samples today used take expensive no ins right tea grea warm helping great deal times warm best u make small pot add sugar stick fridge go places feels wonnderful effects last good long',\n",
       " 'great tea flavor good works well priced right fast shipping like herbal teas try like',\n",
       " 'introduced brand tea found hooked using religiously',\n",
       " '',\n",
       " 'allergy induced asthma perhaps particular type not affected tea see no change however favorite tea ever many tea boxes sit cabinets years box lasts month replace anise licorice root wonderful',\n",
       " 'purchased product recently teenaged son recurring asthma imagine delight relief finally finding something herbal not works works rapidly tea quick easy prepare relieves chest constriction opens airways clears son wheezing thank traditional medicinals keeping us doctor office steroid free',\n",
       " 'opens nasal passages quickly also eliminates seasonal allergy symptoms amazing',\n",
       " 'traditional medicinals best tasting herbal tea tried tried yogi teas not care bought traditionals breathe easy gypsy cold care take breathe easy whenever feel congested like coughing attack scent throat felt irritated chest felt achey wheezy brewed cup tea honey delicious soothing not know way makes feel drink tastes good herbs really help feel better sense calm highly recommend breathe easy gypsy cold care',\n",
       " 'traditional medicinals breathe easy amazing tea couple times asthma attacks clearing powers worked delicious spicy mix egyptian licorice peppermint ginger eucalyptus drinkable vaposteam benefits incredible traditional medicinals based beautiful sebastopol california healing herbs come garden',\n",
       " 'product awesome helpful anyone asthma breathing difficulties dealt years keep coming back item seems work good honey sometimes drop two fresh lemon add chamomile tea bag one bed time really works good lungs seem eased notice though product close expiring not seem effective would advise not buying anything near expired comes nature products probably not many additives preservatives begin',\n",
       " 'difficulty breathing due viral infection chronic asthma tea keep hand time case someone family develops cough addition various western herbs support clear breathing eucalyptus pleurisy root tea traditional chinese herbal mixture bi yan pan magic ingredient helps clear mucous lungs grateful amazon carries entire traditional medicinals line sometimes hard find breathe easy tea stores variety competitors market teas claim provide relief breathing difficulties breathe easy outclasses others tried plus pleasant flavor licorice peppermint especially compared herbal teas perceptible medical effects highly recommend breathe easy tea',\n",
       " 'naturade total soy meal replacement powder advertised taste good beneficial eliminating extra calories without feeling hungry',\n",
       " 'package warm inside mail truck day thus coating chocolate melted',\n",
       " 'no idea people saying bars not taste great full sugar high fructose corn syrup much prefer luna bars south beach meal bars taste tons better healthier',\n",
       " 'nutrition bars tried genisoy chocolate fudge brownie right top not taste like protein bar tastes almost like candy bar chocolate craving bar really satisfy even husband hates nutrition bars likes',\n",
       " 'tried several different brands protein bars chose genisoy bars highest soy protein like peanut butter fudge best great take hiking biking eat walking treadmill',\n",
       " 'think great good quick snack not lot time still want something healthy taste great want something little sweet good one fill craving pretty good source protein not good powder better bars great vegetarians',\n",
       " 'delicious great way get protein day turning deficient good emergency ration kind thing',\n",
       " 'genisoy protein bars thin chewy protein bars chocolate fudge brownie one best flavors genisoy taste like soy sweet enough make feel like eating treat texture similar original power bar definitely tastes better',\n",
       " 'went searching high low replacement chocolate brownie bar taste clif chocolate brownie bar suddenly changed no food changes manufacturer swore made no changes bought one every type chocolate protein bar literally genisoy last one taste luna bars not like taste first byte genisoy chocolate brownie taste vitamins first bar gone delicious love fudgey texture finally found replacement protein chocolate bar weeks searching local organic markets',\n",
       " 'bars arrived plan fresh difinitely order product amazon thanks',\n",
       " 'good tell probably not reading review first product used much bigger not sure hands growing years company decided shed crumbs product save costs second airborne chucked w',\n",
       " 'reviewer states high fructose corn syrup wrong looking ingredients list chocolate fudge bar lists corn syrup not notorious high fructose variety good tasty snack good way get soy protein go',\n",
       " 'one time bars favorite tasty soft suitable used paving stones purchased three four different amazon suppliers time result hard unpleasant chew stopped purchasing genisoy chocolate fudge brownies purchase eat cliff bars exclusively shame life goes even without genisoy',\n",
       " 'searching bars grocery stores years finally realized check amazon bars really yummy used cut pieces refrigerate disappeared grocery store perfect little snack could also eat whole bar breakfast go dry mouth little make sure beverage handy husband even likes hates soy milk healthy foods never eaten one beware become addicted healthy protein bar',\n",
       " 'brownies tasted funny not know describe actually give away would never buy refer someone grainy weird chocolatey taste texture',\n",
       " 'trying many different protein bars trying match taste bars overpriced genisoy favorite peanut butter fudge exact not cardboard taste good texture plenty flavor enough salty taste compliment chocolate sure much better bars wish protein instead still worth purchase',\n",
       " 'still jellybean jar nice soft not like waxy type fruity flavors fabulous',\n",
       " 'not know many people astronaut ice cream sooo good seriously something try since little girl grew tx nasa close really convenient feed kids particular no mess clean afterwards best thing ice cream really packs flavor would expect melts mouth glad tried',\n",
       " 'bought curiosity hearing buzz internet took chances bought packages fantastic came box individual wrapped packages freeze dried ice creams broken pieces stop blaming packaging reason easier bite crumble freeze dried degrees love definitely planning buy different flavors flavor great not like vanilla strawberry enjoyable light compact bring bag purse craving ice cream raining whatever highly recommended cheers amazon',\n",
       " 'ever freeze dried ice cream stuff size treat not large definitely enough enjoy bar individually wrapped also lots fun give anyone not not know freeze dried ice cream pretty straight forward water removed normal ice cream special way first ice cream kept frozen vacuum applied vacuum causes water slowly sublimate vaporize vaporized water eventually sucked left chunk ice cream everything water note not melt process brings water straight solid gas technique used lots foods makes food last forever without water bacteria molds simply not grow hippie feel safe process not use crazy chemical science kill mojo',\n",
       " 'got give goodie bag holidays couple extras course arrived quickly price right delicious not wait give friends',\n",
       " 'first astronaut ice cream grade field trip science center absolutely love stuff warned seller ice cream comes broken cares stomach',\n",
       " 'astronaut ice cream yummy arrive broken okay sooo cool',\n",
       " 'ice cream came days ordered great packaging great job',\n",
       " 'gave nephews everything doubled christmas astranaut icecream big success',\n",
       " 'tastes like kid stuff crubmles easily decent shape not not eat little pieces',\n",
       " 'well product know amazing not going describe taste tell product shipped neatly fresh everything tasted great expiration date much future would ever lasted top notch',\n",
       " 'saw item brought back memories childhood visits science industry museum decided order pack arrived expected arrival time delicious remembered definite recommended buy',\n",
       " 'bought present friends family members christmas present loved fun someone never tried treat well packed came quickly not much pack still amount anywhere else sold better priced places buy science center',\n",
       " 'gifted box online friend loved buyers note ice cream bars arrive several pieces entirely normal dry frozen foods dry freeze process removes water water not present nothing hold stuff together',\n",
       " 'fun unique birthday treat five year old daughter shared class everyone loved',\n",
       " 'never astronaut ice cream might hard get used texture crunchy kind gritty melts super creamy moisture gone people not like means personally like dense flavorful plus always upside neapolitan three flavors fun eat midday snack like pretend way jupiter big red spot great gift children adults still pretend astronauts always little bit different',\n",
       " 'love astronaut neopolitan ice cream pack first discovered science museum r p ed fell love love first bite chocolate fave also strawberry vanilla love desert astronauts sign go space j k l l smooth texture long not stale melts mouth yummy goodness new flavors like mint choc chip etc check might like',\n",
       " 'stuff really takes back elementary school obsessed wanting go space camp stuff good',\n",
       " 'cracked pieces purpose easier eat bit sweeter regular ice cream no water convenient take anywhere brand contains no high fructose corn syrup healthier great deal ordered hooray back hurry buy today',\n",
       " 'son loved sharing class show tell two bags enough entire class sample thought great ice cream not cold hit winter months north adult would suggest sucking not chew gets stuck teeth kind reminds caramelized remnants ice cream lid not recommended culinary connoisseurs made children feel closer astronauts though',\n",
       " 'kids love taste like ice cream eat normally worth price happy product purchasing shipping no complaints',\n",
       " 'received product specified well within expiration dates tastes great eaten packages already packages like ones get local science museum',\n",
       " 'hooked ice cream since first tasted science museum delicious great novelty type gift anyone loves ice cream candy interesting texture melts mouth tasty not filling not worry might well buy lot case b c good also makes great stocking stuffer adults kids alike',\n",
       " 'astronaut ice cream need say remember packages youth certainly bring back fond memories freeze dried happiness',\n",
       " 'fast shipping good price husband loves stuff childhood bought gift',\n",
       " 'bought pk daughter loves actual size little smaller expected soi glad bought pk instead single package product alot fun eat',\n",
       " 'sent case nephew get well present tonsils removed said loved em also taken camping time broken either due shipping lugged around backpack not really matter though eat like chips not candy bar anyway great treat camping also nice store emergencies',\n",
       " 'ice cream actually good addition son goodie bags even though expensive believe worth different item kids would never get party ice cream came well wrapped sealed thought would crumbled good conditions personally not think tastes good kids love',\n",
       " 'brought back memory not believe still sell item nowadays people still buy kind stuff',\n",
       " 'sells double triple museums great product good kids party try something different',\n",
       " 'got husband proudly serving country united states army loved unit something fun send break often tense world soldier not personally account taste guys said tasted like real deal probably send later date',\n",
       " 'niece teaches underprivileged kids florida science lesson sent boxes stuff kids would never lives chance taste stuff price good deal share something kids would never',\n",
       " 'seen astronaut ice cream gift shop almost times much',\n",
       " 'yummy gobbled right issue unit price portions small yet expensive stuff really expensive make like lb',\n",
       " 'really looking forward giving kids son birthday party ice cream packages arrived quickly could tell ice cream bars bits opened one package take look ice cream fact shattered little pieces inner packaging sliced open two places possibly machine razor not look right not feel comfortable serving kids probably not problem seller perhaps want evaluate vendor products not want anyone else experience thankfully amazon makes returns easy',\n",
       " 'ordered ten pack share pre schoolers space theme excited whe got email saying delivered however opened package got one pack upset called amazon said nothing account credited couldnt send remaining packs interesting trying split single pack five year olds',\n",
       " 'tastes great gotta wonder amazon com distributors took sledgehammer putting boxes ship maybe not know ship stuff shame given hard get stores',\n",
       " 'since little girl always love stuff even snuck bishop museum hawaii pack stuff worked marble slab ice creamery nearly year never touched ice cream give pack astronaut ice cream gone snap small amount price pint ice cream worth plus takes guilty feeling gaining weight away',\n",
       " 'love stuff hard time not eating one right different really enjoy',\n",
       " 'astronaut ice cream wow could not love stuff great stocking stuffer basket filler hostess gift selection paired perhaps bottle wine keep pocketbook road trips removed crankiness begins norm not run mill delightful old time favorite plus love not found every supermarket shelf keeps special',\n",
       " 'packing efficient product arrived promptly great shape product makes great birthday party favors kid also love getting gift novel',\n",
       " 'maybe pricey damn good worth money spent first taste back elementary school teacher always giving snack students years tried remember candy came across pic facebook knew exactly decided buy not regret enjoy',\n",
       " 'product exactly looking freeze dried ice cream reminded grade school getting science centers gave nephews love sister law used teaching aid fourth grade students',\n",
       " 'bought lightweight backpacking snack remembered kid tasty not disappointed read reviews complain come broken apart normal acceptable no way effects quality product packaging bulky almost per luckily product stays fresh ziplock bag least week put gallon ziplock saved several ounces weight ditching stock packaging material gave son loved well make great unique gift kids',\n",
       " 'astronaut ice cream broken not small bite size chunks melts mouth fresh delicious expiration date yrs ahead calories fat treat pretty good calorie conscious another reviewer commented slits inner paper packaging threw product slits facilitate freeze drying process mentioned wrapper bulk purchase keeps price lower museum plan buy eat batch',\n",
       " 'great snack icecream lovers teeth sensitve cold flavor u want no mater much fast u eat no brain frezze found best cold side still icecream not fell like im frezzing great value price per product long shelf life making good survival snack',\n",
       " 'buying much cost effective way since lot makes great unique present homies packed lunch eat rest yummy',\n",
       " 'beware might say packages get one not expect get anytime soon tried said oops sorry product interest something else stupid wanted something else would bought something else',\n",
       " 'thought looked like pretty good deal ice cream sandwiches one review talked good deal agreed tried found paid one single ice cream sandwich process filing complaints trying get fixed considering another person posted problem suspecting something scam not scam poor quality control shipping single package got looked good foil wrapped unfortunately not eat dispute resolved oh took nearly weeks get one packages sent via extremely thin packaging left ice cream smashed bits postal service see resolution goes not expect order seller',\n",
       " 'ad product said package ice creams received one not happy frustrating try track seller fight gave upsetting',\n",
       " 'received box ice cream sandwiches present accounted feel broken packages seems already broken packed not result shipping since break eat anyway not mind great taste like real ice cream sandwich',\n",
       " 'blocks received broken small pieces break eat not matter nasa kid fell love stuff like sharing family',\n",
       " 'like astronaut ice cream flavors especially ice cream sandwich vanilla ice cream tastes creamy sandwich broken little made easier eat fun pretend astronaut',\n",
       " 'normally purchase lavazza grand crema pods use breville espresso machine always happy wanted try something different ordered box espressione classic espresso instead initially disappointed results shot espresso using pods contained half much liquid one using normal lavazza pods words water passing pods much slower rate lavazza maybe machine lacking pressure could tell feel pods much tightly packed lavazza ones disappointment changed delight tried pods handpresso wild however never really liked taste lavazza pods using machine seemed much bitter compared real machine home espressione perfect bottom line using handpresso recommend pods using normal espresso machine may want try smaller size package committing pods',\n",
       " 'stay away ordering company received order time amazment coffee pods stamped date months past due',\n",
       " 'arabica espressione espresso excellent espresso drinks traditionally espresso unlike good drip coffee made mix arabica robusta coffees taste differences noticeable not strong favorite use pods convenience although also roast green beans espresso well look negative reviews mostly best dates passed would also upset spend money get expired pods point pods good quite time nominal expiration dates found handful espressione classic pods late dates made acceptable though not spectacular espresso basically vacuum packed not much happening inside wrapper',\n",
       " 'based upon various reviews decided give try normally use starbucks espresso pods say taste espressione much bland coffee tastes weaker',\n",
       " 'using briel chamonix machine purchased amazon produced delicious lattes using pods smell espressione pods regular decaf opened incredible dark rich roasts fyi pods produced italy good sign also pod handy paper tab remove machine without burning fingers compared pods starbucks espresso pods regular decaf espressione favorite one warning pods individually wrapped take lot space sure know going store good news box stamped best used date case months date purchase',\n",
       " 'pods got best invention yet compact extremely easy use best solution making several quick cups coffee fresh ground coffee nice virtually no mess pods crema good ground coffee used pod holder well one cup filter basket could person want',\n",
       " 'returned due short brief expiration date sept would less use pods amazon pull shelves',\n",
       " 'not say enough good things espressione pods highest quality product fresh fresh fresh ever wondered pre packaged espresso taste good freshly ground wonder no espressione pods palate least indistinguishable fresh ground beans yep really good',\n",
       " 'years trying simulate truly italian espresso cappuccino without success several packages arrived christmas son sent briel cadiz espresso machine two lovely russian china cups case espressione classic espresso pods kindest wonderful christmas present remember espresso machine excels quality ease use espresso exquisite time prepare espresso cappuccino experience son loving kindness small part many gifts italy heaven earth',\n",
       " 'shipment pods came best date full months delivery aware amazon lists grocery items non returnable',\n",
       " ...]"
      ]
     },
     "execution_count": 23,
     "metadata": {},
     "output_type": "execute_result"
    }
   ],
   "source": [
    "preprocessed_reviews"
   ]
  },
  {
   "cell_type": "markdown",
   "metadata": {},
   "source": [
    "<h2><font color='red'>[3.2] Preprocessing Review Summary</font></h2>"
   ]
  },
  {
   "cell_type": "code",
   "execution_count": 24,
   "metadata": {
    "scrolled": true
   },
   "outputs": [
    {
     "name": "stderr",
     "output_type": "stream",
     "text": [
      "  0%|                                                                           | 224/364171 [00:00<02:43, 2223.69it/s]C:\\Users\\yogesh.dayma\\AppData\\Local\\Continuum\\anaconda3\\lib\\site-packages\\bs4\\__init__.py:273: UserWarning: \"b'...'\" looks like a filename, not markup. You should probably open this file and pass the filehandle into Beautiful Soup.\n",
      "  ' Beautiful Soup.' % markup)\n",
      "  6%|████▌                                                                    | 22497/364171 [00:09<02:15, 2528.41it/s]C:\\Users\\yogesh.dayma\\AppData\\Local\\Continuum\\anaconda3\\lib\\site-packages\\bs4\\__init__.py:273: UserWarning: \"b'.'\" looks like a filename, not markup. You should probably open this file and pass the filehandle into Beautiful Soup.\n",
      "  ' Beautiful Soup.' % markup)\n",
      " 10%|███████▏                                                                 | 35931/364171 [00:14<02:11, 2490.37it/s]C:\\Users\\yogesh.dayma\\AppData\\Local\\Continuum\\anaconda3\\lib\\site-packages\\bs4\\__init__.py:273: UserWarning: \"b'...'\" looks like a filename, not markup. You should probably open this file and pass the filehandle into Beautiful Soup.\n",
      "  ' Beautiful Soup.' % markup)\n",
      " 10%|███████▍                                                                 | 36940/364171 [00:14<02:10, 2505.22it/s]C:\\Users\\yogesh.dayma\\AppData\\Local\\Continuum\\anaconda3\\lib\\site-packages\\bs4\\__init__.py:273: UserWarning: \"b'...'\" looks like a filename, not markup. You should probably open this file and pass the filehandle into Beautiful Soup.\n",
      "  ' Beautiful Soup.' % markup)\n",
      " 14%|██████████▎                                                              | 51755/364171 [00:21<02:22, 2194.04it/s]C:\\Users\\yogesh.dayma\\AppData\\Local\\Continuum\\anaconda3\\lib\\site-packages\\bs4\\__init__.py:273: UserWarning: \"b'...'\" looks like a filename, not markup. You should probably open this file and pass the filehandle into Beautiful Soup.\n",
      "  ' Beautiful Soup.' % markup)\n",
      " 27%|███████████████████▋                                                     | 98245/364171 [00:40<01:46, 2502.87it/s]C:\\Users\\yogesh.dayma\\AppData\\Local\\Continuum\\anaconda3\\lib\\site-packages\\bs4\\__init__.py:273: UserWarning: \"b'.'\" looks like a filename, not markup. You should probably open this file and pass the filehandle into Beautiful Soup.\n",
      "  ' Beautiful Soup.' % markup)\n",
      " 27%|███████████████████▋                                                     | 98496/364171 [00:40<01:47, 2477.69it/s]C:\\Users\\yogesh.dayma\\AppData\\Local\\Continuum\\anaconda3\\lib\\site-packages\\bs4\\__init__.py:273: UserWarning: \"b'.'\" looks like a filename, not markup. You should probably open this file and pass the filehandle into Beautiful Soup.\n",
      "  ' Beautiful Soup.' % markup)\n",
      " 32%|██████████████████████▊                                                 | 115579/364171 [00:47<01:38, 2514.88it/s]C:\\Users\\yogesh.dayma\\AppData\\Local\\Continuum\\anaconda3\\lib\\site-packages\\bs4\\__init__.py:273: UserWarning: \"b'...'\" looks like a filename, not markup. You should probably open this file and pass the filehandle into Beautiful Soup.\n",
      "  ' Beautiful Soup.' % markup)\n",
      " 40%|████████████████████████████▋                                           | 144817/364171 [00:59<01:27, 2517.23it/s]C:\\Users\\yogesh.dayma\\AppData\\Local\\Continuum\\anaconda3\\lib\\site-packages\\bs4\\__init__.py:273: UserWarning: \"b'...'\" looks like a filename, not markup. You should probably open this file and pass the filehandle into Beautiful Soup.\n",
      "  ' Beautiful Soup.' % markup)\n",
      " 41%|█████████████████████████████▌                                          | 149695/364171 [01:01<01:24, 2535.82it/s]C:\\Users\\yogesh.dayma\\AppData\\Local\\Continuum\\anaconda3\\lib\\site-packages\\bs4\\__init__.py:273: UserWarning: \"b'...'\" looks like a filename, not markup. You should probably open this file and pass the filehandle into Beautiful Soup.\n",
      "  ' Beautiful Soup.' % markup)\n",
      " 60%|██████████████████████████████████████████▉                             | 217099/364171 [01:29<00:58, 2503.43it/s]C:\\Users\\yogesh.dayma\\AppData\\Local\\Continuum\\anaconda3\\lib\\site-packages\\bs4\\__init__.py:273: UserWarning: \"b'.'\" looks like a filename, not markup. You should probably open this file and pass the filehandle into Beautiful Soup.\n",
      "  ' Beautiful Soup.' % markup)\n",
      " 68%|█████████████████████████████████████████████████                       | 248167/364171 [01:41<00:46, 2511.56it/s]C:\\Users\\yogesh.dayma\\AppData\\Local\\Continuum\\anaconda3\\lib\\site-packages\\bs4\\__init__.py:273: UserWarning: \"b'...'\" looks like a filename, not markup. You should probably open this file and pass the filehandle into Beautiful Soup.\n",
      "  ' Beautiful Soup.' % markup)\n",
      " 78%|███████████████████████████████████████████████████████▊                | 282556/364171 [01:56<00:33, 2463.10it/s]C:\\Users\\yogesh.dayma\\AppData\\Local\\Continuum\\anaconda3\\lib\\site-packages\\bs4\\__init__.py:273: UserWarning: \"b'...'\" looks like a filename, not markup. You should probably open this file and pass the filehandle into Beautiful Soup.\n",
      "  ' Beautiful Soup.' % markup)\n",
      " 89%|████████████████████████████████████████████████████████████████        | 323732/364171 [02:12<00:15, 2562.68it/s]C:\\Users\\yogesh.dayma\\AppData\\Local\\Continuum\\anaconda3\\lib\\site-packages\\bs4\\__init__.py:273: UserWarning: \"b'...'\" looks like a filename, not markup. You should probably open this file and pass the filehandle into Beautiful Soup.\n",
      "  ' Beautiful Soup.' % markup)\n",
      " 91%|█████████████████████████████████████████████████████████████████▏      | 329830/364171 [02:14<00:13, 2520.29it/s]C:\\Users\\yogesh.dayma\\AppData\\Local\\Continuum\\anaconda3\\lib\\site-packages\\bs4\\__init__.py:273: UserWarning: \"b'...'\" looks like a filename, not markup. You should probably open this file and pass the filehandle into Beautiful Soup.\n",
      "  ' Beautiful Soup.' % markup)\n",
      " 92%|██████████████████████████████████████████████████████████████████▎     | 335175/364171 [02:17<00:11, 2521.06it/s]C:\\Users\\yogesh.dayma\\AppData\\Local\\Continuum\\anaconda3\\lib\\site-packages\\bs4\\__init__.py:273: UserWarning: \"b'...'\" looks like a filename, not markup. You should probably open this file and pass the filehandle into Beautiful Soup.\n",
      "  ' Beautiful Soup.' % markup)\n",
      " 97%|██████████████████████████████████████████████████████████████████████▏ | 354877/364171 [02:24<00:03, 2556.84it/s]C:\\Users\\yogesh.dayma\\AppData\\Local\\Continuum\\anaconda3\\lib\\site-packages\\bs4\\__init__.py:273: UserWarning: \"b'.'\" looks like a filename, not markup. You should probably open this file and pass the filehandle into Beautiful Soup.\n",
      "  ' Beautiful Soup.' % markup)\n",
      " 99%|███████████████████████████████████████████████████████████████████████ | 359223/364171 [02:26<00:01, 2518.54it/s]C:\\Users\\yogesh.dayma\\AppData\\Local\\Continuum\\anaconda3\\lib\\site-packages\\bs4\\__init__.py:273: UserWarning: \"b'...'\" looks like a filename, not markup. You should probably open this file and pass the filehandle into Beautiful Soup.\n",
      "  ' Beautiful Soup.' % markup)\n",
      "C:\\Users\\yogesh.dayma\\AppData\\Local\\Continuum\\anaconda3\\lib\\site-packages\\bs4\\__init__.py:273: UserWarning: \"b'...'\" looks like a filename, not markup. You should probably open this file and pass the filehandle into Beautiful Soup.\n",
      "  ' Beautiful Soup.' % markup)\n",
      "100%|████████████████████████████████████████████████████████████████████████| 364171/364171 [02:28<00:00, 2450.15it/s]\n"
     ]
    }
   ],
   "source": [
    "## Similartly you can do preprocessing for review summary also.\n",
    "from tqdm import tqdm\n",
    "preprocessed_summary = []\n",
    "# tqdm is for printing the status bar\n",
    "for sentance in tqdm(final['Summary'].values):\n",
    "    sentance = re.sub(r\"http\\S+\", \"\", sentance)\n",
    "    sentance = BeautifulSoup(sentance, 'lxml').get_text()\n",
    "    sentance = decontracted(sentance)\n",
    "    sentance = re.sub(\"\\S*\\d\\S*\", \"\", sentance).strip()\n",
    "    sentance = re.sub('[^A-Za-z]+', ' ', sentance)\n",
    "    # https://gist.github.com/sebleier/554280\n",
    "    sentance = ' '.join(e.lower() for e in sentance.split() if e.lower() not in stopwords)\n",
    "    preprocessed_summary.append(sentance.strip())"
   ]
  },
  {
   "cell_type": "markdown",
   "metadata": {},
   "source": [
    "# [4] Featurization"
   ]
  },
  {
   "cell_type": "markdown",
   "metadata": {},
   "source": [
    "### Splitting the final data into Training data, Cross-Validation data and Test data"
   ]
  },
  {
   "cell_type": "code",
   "execution_count": 24,
   "metadata": {},
   "outputs": [
    {
     "name": "stderr",
     "output_type": "stream",
     "text": [
      "C:\\Users\\yogesh.dayma\\AppData\\Local\\Continuum\\anaconda3\\lib\\site-packages\\sklearn\\cross_validation.py:41: DeprecationWarning: This module was deprecated in version 0.18 in favor of the model_selection module into which all the refactored classes and functions are moved. Also note that the interface of the new CV iterators are different from that of this module. This module will be removed in 0.20.\n",
      "  \"This module will be removed in 0.20.\", DeprecationWarning)\n"
     ]
    }
   ],
   "source": [
    "from sklearn.cross_validation import train_test_split\n",
    "from sklearn.cross_validation import cross_val_score\n",
    "from sklearn import cross_validation\n",
    "#SPLITTING THE DATA FOR TRAINING AND TESTING\n",
    "X1,Xtest,y1,ytest = cross_validation.train_test_split(preprocessed_reviews[:100000],final['Score'][:100000],test_size = 0.2)"
   ]
  },
  {
   "cell_type": "code",
   "execution_count": 25,
   "metadata": {},
   "outputs": [],
   "source": [
    "#Splitting the training data into train and cross validate\n",
    "Xtrain,Xcv,ytrain,ycv = cross_validation.train_test_split(X1,y1,test_size=0.25)"
   ]
  },
  {
   "cell_type": "markdown",
   "metadata": {},
   "source": [
    "## [4.1] BAG OF WORDS"
   ]
  },
  {
   "cell_type": "code",
   "execution_count": 26,
   "metadata": {},
   "outputs": [
    {
     "name": "stdout",
     "output_type": "stream",
     "text": [
      "some feature names  ['able', 'absolutely', 'actually', 'add', 'added', 'adding', 'ago', 'almost', 'already', 'also']\n",
      "==================================================\n",
      "the type of count vectorizer  <class 'scipy.sparse.csr.csr_matrix'>\n",
      "the shape of out text BOW vectorizer  (60000, 500)\n",
      "the number of unique words  500\n"
     ]
    }
   ],
   "source": [
    "#BoW\n",
    "count_vect = CountVectorizer(min_df=10, max_features=500) #in scikit-learn\n",
    "count_vect.fit(Xtrain)\n",
    "print(\"some feature names \", count_vect.get_feature_names()[:10])\n",
    "print('='*50)\n",
    "\n",
    "final_counts = count_vect.transform(Xtrain)\n",
    "print(\"the type of count vectorizer \",type(final_counts))\n",
    "print(\"the shape of out text BOW vectorizer \",final_counts.get_shape())\n",
    "print(\"the number of unique words \", final_counts.get_shape()[1])\n"
   ]
  },
  {
   "cell_type": "code",
   "execution_count": 27,
   "metadata": {},
   "outputs": [
    {
     "name": "stdout",
     "output_type": "stream",
     "text": [
      "(20000, 500)\n",
      "<class 'scipy.sparse.csr.csr_matrix'>\n",
      "<class 'numpy.ndarray'>\n"
     ]
    }
   ],
   "source": [
    "from scipy.sparse import spmatrix\n",
    "BOW_Train = count_vect.transform(Xtrain)\n",
    "BOW_CV = count_vect.transform(Xcv)\n",
    "BOW_Test = count_vect.transform(Xtest)\n",
    "print(BOW_Test.shape)\n",
    "print(type(BOW_Train))\n",
    "BOW_Train_dense = BOW_Train.toarray()\n",
    "BOW_CV_dense = BOW_CV.toarray()\n",
    "BOW_Test_dense = BOW_Test.toarray()\n",
    "print(type(BOW_Train_dense))"
   ]
  },
  {
   "cell_type": "code",
   "execution_count": 38,
   "metadata": {},
   "outputs": [
    {
     "name": "stdout",
     "output_type": "stream",
     "text": [
      "(20000, 500)\n",
      "(20000, 300)\n"
     ]
    }
   ],
   "source": [
    "print(BOW_Test_dense.shape)\n",
    "print(svd_test.shape)"
   ]
  },
  {
   "cell_type": "code",
   "execution_count": 28,
   "metadata": {},
   "outputs": [
    {
     "data": {
      "text/plain": [
       "Text(0,0.5,'cumulative explained variance')"
      ]
     },
     "execution_count": 28,
     "metadata": {},
     "output_type": "execute_result"
    },
    {
     "data": {
      "image/png": "[encoded data removed]",
      "text/plain": [
       "<Figure size 432x288 with 1 Axes>"
      ]
     },
     "metadata": {
      "needs_background": "light"
     },
     "output_type": "display_data"
    }
   ],
   "source": [
    "from sklearn.decomposition import TruncatedSVD\n",
    "svd = TruncatedSVD(n_components=300, n_iter=10)\n",
    "\n",
    "#Reducing the dimensionality of the BOW vectors so that we can apply K-fold cross validation\n",
    "svd_train = svd.fit(BOW_Train)\n",
    "svd_train = svd.transform(BOW_Train)\n",
    "svd_cv = svd.transform(BOW_CV)\n",
    "svd_test = svd.transform(BOW_Test)\n",
    "\n",
    "svd_train.shape\n",
    "plt.plot(np.cumsum(svd.explained_variance_ratio_))\n",
    "plt.xlabel('number of components')\n",
    "plt.ylabel('cumulative explained variance')"
   ]
  },
  {
   "cell_type": "markdown",
   "metadata": {},
   "source": [
    "## [4.2] Bi-Grams and n-Grams."
   ]
  },
  {
   "cell_type": "code",
   "execution_count": 45,
   "metadata": {},
   "outputs": [
    {
     "name": "stdout",
     "output_type": "stream",
     "text": [
      "the type of count vectorizer  <class 'scipy.sparse.csr.csr_matrix'>\n",
      "the shape of out text BOW vectorizer  (60000, 5000)\n",
      "the number of unique words including both unigrams and bigrams  5000\n"
     ]
    }
   ],
   "source": [
    "#bi-gram, tri-gram and n-gram\n",
    "\n",
    "#removing stop words like \"not\" should be avoided before building n-grams\n",
    "# count_vect = CountVectorizer(ngram_range=(1,2))\n",
    "# please do read the CountVectorizer documentation http://scikit-learn.org/stable/modules/generated/sklearn.feature_extraction.text.CountVectorizer.html\n",
    "\n",
    "# you can choose these numebrs min_df=10, max_features=5000, of your choice\n",
    "count_vect = CountVectorizer(ngram_range=(1,2), min_df=10, max_features=5000)\n",
    "final_bigram_counts = count_vect.fit_transform(Xtrain)\n",
    "print(\"the type of count vectorizer \",type(final_bigram_counts))\n",
    "print(\"the shape of out text BOW vectorizer \",final_bigram_counts.get_shape())\n",
    "print(\"the number of unique words including both unigrams and bigrams \", final_bigram_counts.get_shape()[1])"
   ]
  },
  {
   "cell_type": "markdown",
   "metadata": {},
   "source": [
    "## [4.3] TF-IDF"
   ]
  },
  {
   "cell_type": "code",
   "execution_count": 46,
   "metadata": {},
   "outputs": [
    {
     "name": "stdout",
     "output_type": "stream",
     "text": [
      "some sample features(unique words in the corpus) ['able', 'absolutely', 'actually', 'add', 'added', 'adding', 'ago', 'almost', 'already', 'also']\n",
      "==================================================\n",
      "the type of count vectorizer  <class 'scipy.sparse.csr.csr_matrix'>\n",
      "the shape of out text TFIDF vectorizer  (60000, 500)\n",
      "the number of unique words including both unigrams and bigrams  500\n"
     ]
    }
   ],
   "source": [
    "tf_idf_vect = TfidfVectorizer(ngram_range=(1,2), min_df=10, max_features=500)\n",
    "tf_idf_vect.fit(Xtrain)\n",
    "print(\"some sample features(unique words in the corpus)\",tf_idf_vect.get_feature_names()[0:10])\n",
    "print('='*50)\n",
    "\n",
    "final_tf_idf = tf_idf_vect.transform(Xtrain)\n",
    "print(\"the type of count vectorizer \",type(final_tf_idf))\n",
    "print(\"the shape of out text TFIDF vectorizer \",final_tf_idf.get_shape())\n",
    "print(\"the number of unique words including both unigrams and bigrams \", final_tf_idf.get_shape()[1])"
   ]
  },
  {
   "cell_type": "code",
   "execution_count": 47,
   "metadata": {},
   "outputs": [],
   "source": [
    "tfidf_train = tf_idf_vect.transform(Xtrain)\n",
    "tfidf_cv = tf_idf_vect.transform(Xcv)\n",
    "tfidf_test = tf_idf_vect.transform(Xtest)\n",
    "\n",
    "tfidf_test_dense = tfidf_test.toarray()\n",
    "tfidf_train_dense = tfidf_train.toarray()\n",
    "tfidf_cv_dense = tfidf_cv.toarray()"
   ]
  },
  {
   "cell_type": "code",
   "execution_count": 48,
   "metadata": {},
   "outputs": [],
   "source": [
    "#Reducing the dimensionality of the tfidf vectors so that we can apply K-fold cross validation\n",
    "svd_train = svd.transform(tfidf_train)\n",
    "svd_cv = svd.transform(tfidf_cv)\n",
    "svd_test = svd.transform(tfidf_test)"
   ]
  },
  {
   "cell_type": "markdown",
   "metadata": {},
   "source": [
    "## [4.4] Avg Word2Vec"
   ]
  },
  {
   "cell_type": "code",
   "execution_count": 130,
   "metadata": {},
   "outputs": [],
   "source": [
    "# Train your own Word2Vec model using your own text corpus\n",
    "i=0\n",
    "list_of_sentance=[]\n",
    "for sentance in preprocessed_reviews:\n",
    "    list_of_sentance.append(sentance.split())"
   ]
  },
  {
   "cell_type": "code",
   "execution_count": 132,
   "metadata": {
    "scrolled": true
   },
   "outputs": [
    {
     "name": "stderr",
     "output_type": "stream",
     "text": [
      "C:\\Users\\yogesh.dayma\\AppData\\Local\\Continuum\\anaconda3\\lib\\site-packages\\gensim\\models\\base_any2vec.py:743: UserWarning: C extension not loaded, training will be slow. Install a C compiler and reinstall gensim for fast training.\n",
      "  \"C extension not loaded, training will be slow. \"\n"
     ]
    }
   ],
   "source": [
    "w2v_model=Word2Vec(list_of_sentance,min_count=5,size=50, workers=4)"
   ]
  },
  {
   "cell_type": "code",
   "execution_count": 135,
   "metadata": {},
   "outputs": [
    {
     "name": "stderr",
     "output_type": "stream",
     "text": [
      "100%|███████████████████████████████████████████████████████████████████████████| 46071/46071 [01:19<00:00, 582.45it/s]\n"
     ]
    }
   ],
   "source": [
    "w2v_words = list(w2v_model.wv.vocab)\n",
    "# average Word2Vec\n",
    "# compute average word2vec for each review.\n",
    "sent_vectors = []; # the avg-w2v for each sentence/review is stored in this list\n",
    "for sent in tqdm(list_of_sentance): # for each review/sentence\n",
    "    sent_vec = np.zeros(50) # as word vectors are of zero length\n",
    "    cnt_words =0; # num of words with a valid vector in the sentence/review\n",
    "    for word in sent: # for each word in a review/sentence\n",
    "        if word in w2v_words:\n",
    "            vec = w2v_model.wv[word]\n",
    "            sent_vec += vec\n",
    "            cnt_words += 1\n",
    "    if cnt_words != 0:\n",
    "        sent_vec /= cnt_words\n",
    "    sent_vectors.append(sent_vec)"
   ]
  },
  {
   "cell_type": "code",
   "execution_count": 176,
   "metadata": {},
   "outputs": [],
   "source": [
    "#SPLITTING THE DATA FOR TRAINING AND TESTING\n",
    "X1,Xtest,y1,ytest = cross_validation.train_test_split(sent_vectors,final['Score'],test_size = 0.3)\n",
    "#Splitting the training data into train and cross validate\n",
    "Xtrain,Xcv,ytrain,ycv = cross_validation.train_test_split(X1,y1,test_size=0.3)"
   ]
  },
  {
   "cell_type": "code",
   "execution_count": 177,
   "metadata": {},
   "outputs": [],
   "source": [
    "#Reducing the dimensionality of the W2Vec vectors so that we can apply K-fold cross validation\n",
    "svd_train = svd.fit_transform(Xtrain)\n",
    "svd_cv = svd.fit_transform(Xcv)\n",
    "svd_test = svd.fit_transform(Xtest)"
   ]
  },
  {
   "cell_type": "markdown",
   "metadata": {},
   "source": [
    "## [4.4.1] Converting text into vectors using TFIDF-W2V"
   ]
  },
  {
   "cell_type": "code",
   "execution_count": 145,
   "metadata": {},
   "outputs": [
    {
     "name": "stderr",
     "output_type": "stream",
     "text": [
      "100%|███████████████████████████████████████████████████████████████████████████| 46071/46071 [01:31<00:00, 505.17it/s]\n"
     ]
    },
    {
     "name": "stdout",
     "output_type": "stream",
     "text": [
      "46071\n",
      "50\n"
     ]
    }
   ],
   "source": [
    "# average Word2Vec\n",
    "# compute average word2vec for each review.\n",
    "sent_vectors = []; # the avg-w2v for each sentence/review is stored in this list\n",
    "for sent in tqdm(list_of_sentance): # for each review/sentence\n",
    "    sent_vec = np.zeros(50) # as word vectors are of zero length 50, you might need to change this to 300 if you use google's w2v\n",
    "    cnt_words =0; # num of words with a valid vector in the sentence/review\n",
    "    for word in sent: # for each word in a review/sentence\n",
    "        if word in w2v_words:\n",
    "            vec = w2v_model.wv[word]\n",
    "            sent_vec += vec\n",
    "            cnt_words += 1\n",
    "    if cnt_words != 0:\n",
    "        sent_vec /= cnt_words\n",
    "    sent_vectors.append(sent_vec)\n",
    "print(len(sent_vectors))\n",
    "print(len(sent_vectors[0]))"
   ]
  },
  {
   "cell_type": "markdown",
   "metadata": {},
   "source": [
    "#### [4.4.1.2] TFIDF weighted W2v"
   ]
  },
  {
   "cell_type": "code",
   "execution_count": 146,
   "metadata": {},
   "outputs": [],
   "source": [
    "# S = [\"abc def pqr\", \"def def def abc\", \"pqr pqr def\"]\n",
    "model = TfidfVectorizer()\n",
    "tf_idf_matrix = model.fit_transform(preprocessed_reviews)\n",
    "# we are converting a dictionary with word as a key, and the idf as a value\n",
    "dictionary = dict(zip(model.get_feature_names(), list(model.idf_)))"
   ]
  },
  {
   "cell_type": "code",
   "execution_count": 147,
   "metadata": {
    "scrolled": true
   },
   "outputs": [
    {
     "name": "stderr",
     "output_type": "stream",
     "text": [
      "100%|████████████████████████████████████████████████████████████████████████████| 46071/46071 [13:49<00:00, 55.52it/s]\n"
     ]
    }
   ],
   "source": [
    "# TF-IDF weighted Word2Vec\n",
    "tfidf_feat = model.get_feature_names() # tfidf words/col-names\n",
    "# final_tf_idf is the sparse matrix with row= sentence, col=word and cell_val = tfidf\n",
    "\n",
    "tfidf_sent_vectors = []; # the tfidf-w2v for each sentence/review is stored in this list\n",
    "row=0;\n",
    "for sent in tqdm(list_of_sentance): # for each review/sentence \n",
    "    sent_vec = np.zeros(50) # as word vectors are of zero length\n",
    "    weight_sum =0; # num of words with a valid vector in the sentence/review\n",
    "    for word in sent: # for each word in a review/sentence\n",
    "        if word in w2v_words and word in tfidf_feat:\n",
    "            vec = w2v_model.wv[word]\n",
    "#             tf_idf = tf_idf_matrix[row, tfidf_feat.index(word)]\n",
    "            # to reduce the computation we are \n",
    "            # dictionary[word] = idf value of word in whole courpus\n",
    "            # sent.count(word) = tf valeus of word in this review\n",
    "            tf_idf = dictionary[word]*(sent.count(word)/len(sent))\n",
    "            sent_vec += (vec * tf_idf)\n",
    "            weight_sum += tf_idf\n",
    "    if weight_sum != 0:\n",
    "        sent_vec /= weight_sum\n",
    "    tfidf_sent_vectors.append(sent_vec)\n",
    "    row += 1"
   ]
  },
  {
   "cell_type": "code",
   "execution_count": 182,
   "metadata": {},
   "outputs": [],
   "source": [
    "#SPLITTING THE DATA FOR TRAINING AND TESTING\n",
    "X1,Xtest,y1,ytest = cross_validation.train_test_split(tfidf_sent_vectors,final['Score'],test_size = 0.3)\n",
    "#splitting the training and cross validation data\n",
    "Xtrain,Xcv,ytrain,ycv = cross_validation.train_test_split(X1,y1,test_size=0.3)"
   ]
  },
  {
   "cell_type": "code",
   "execution_count": 183,
   "metadata": {},
   "outputs": [],
   "source": [
    "#Reducing the dimensionality of the tfidf vectors so that we can apply K-fold cross validation\n",
    "svd_train = svd.fit_transform(Xtrain)\n",
    "svd_cv = svd.fit_transform(Xcv)\n",
    "svd_test = svd.fit_transform(Xtest)"
   ]
  },
  {
   "cell_type": "markdown",
   "metadata": {},
   "source": [
    "## [5.1] Applying KNN brute force"
   ]
  },
  {
   "cell_type": "markdown",
   "metadata": {},
   "source": [
    "### [5.1.1] Applying KNN brute force on BOW,<font color='red'> SET 1</font>"
   ]
  },
  {
   "cell_type": "markdown",
   "metadata": {},
   "source": [
    "##### Training the model and finding the optimal hyperparameter by using GridSearchCV 10-fold cross-validation by using BoW vectors. Plotting the Error plot and chosing the best hyperparameter such that, we will have maximum AUC on cv data and gap between the train and cv is less"
   ]
  },
  {
   "cell_type": "code",
   "execution_count": null,
   "metadata": {},
   "outputs": [],
   "source": [
    "from sklearn.neighbors import KNeighborsClassifier\n",
    "from sklearn.metrics import roc_auc_score\n",
    "\n",
    "train_auc = []\n",
    "cv_auc = []\n",
    "K = list(range(1, 31))\n",
    "for i in K:\n",
    "    neigh = KNeighborsClassifier(n_neighbors=i)\n",
    "    neigh.fit(svd_train, ytrain)\n",
    "    y_train_pred =  neigh.predict_proba(svd_train)[:,1]\n",
    "    y_cv_pred =  neigh.predict_proba(svd_cv)[:,1]\n",
    "    \n",
    "    train_auc.append(roc_auc_score(ytrain,y_train_pred))\n",
    "    cv_auc.append(roc_auc_score(ycv, y_cv_pred))\n",
    "\n",
    "plt.plot(K, train_auc, label='Train AUC')\n",
    "plt.plot(K, cv_auc, label='CV AUC')\n",
    "plt.legend()\n",
    "plt.xlabel(\"K: hyperparameter\")\n",
    "plt.ylabel(\"AUC\")\n",
    "plt.title(\"ERROR PLOTS\")\n",
    "plt.show()"
   ]
  },
  {
   "cell_type": "code",
   "execution_count": 42,
   "metadata": {},
   "outputs": [],
   "source": [
    "# Here we are chosing the best K by observing the AUC curve for each hyperparameter\n",
    "best_k = 25"
   ]
  },
  {
   "cell_type": "markdown",
   "metadata": {},
   "source": [
    "##### Testing with test data and plotting error plot and confusion matrix for the best hyperparameter we selected"
   ]
  },
  {
   "cell_type": "code",
   "execution_count": 43,
   "metadata": {},
   "outputs": [
    {
     "data": {
      "image/png": "[encoded data removed]",
      "text/plain": [
       "<Figure size 432x288 with 1 Axes>"
      ]
     },
     "metadata": {
      "needs_background": "light"
     },
     "output_type": "display_data"
    },
    {
     "name": "stdout",
     "output_type": "stream",
     "text": [
      "====================================================================================================\n",
      "Train confusion matrix\n",
      "[[  279  8678]\n",
      " [  235 50808]]\n",
      "Test confusion matrix\n",
      "[[   47  2861]\n",
      " [  103 16989]]\n"
     ]
    }
   ],
   "source": [
    "from sklearn.metrics import roc_curve, auc\n",
    "\n",
    "\n",
    "neigh = KNeighborsClassifier(n_neighbors=best_k)\n",
    "neigh.fit(svd_train, ytrain)\n",
    "\n",
    "train_fpr, train_tpr, thresholds = roc_curve(ytrain, neigh.predict_proba(svd_train)[:,1])\n",
    "test_fpr, test_tpr, thresholds = roc_curve(ytest, neigh.predict_proba(svd_test)[:,1])\n",
    "\n",
    "plt.plot(train_fpr, train_tpr, label=\"train AUC =\"+str(auc(train_fpr, train_tpr)))\n",
    "plt.plot(test_fpr, test_tpr, label=\"test AUC =\"+str(auc(test_fpr, test_tpr)))\n",
    "plt.legend()\n",
    "plt.xlabel(\"K: hyperparameter\")\n",
    "plt.ylabel(\"AUC\")\n",
    "plt.title(\"ERROR PLOTS\")\n",
    "plt.show()\n",
    "\n",
    "print(\"=\"*100)\n",
    "\n",
    "from sklearn.metrics import confusion_matrix\n",
    "print(\"Train confusion matrix\")\n",
    "print(confusion_matrix(ytrain, neigh.predict(svd_train)))\n",
    "print(\"Test confusion matrix\")\n",
    "print(confusion_matrix(ytest, neigh.predict(svd_test)))"
   ]
  },
  {
   "cell_type": "markdown",
   "metadata": {},
   "source": [
    "##### Displaying all the performance metrics of the model by using classification report"
   ]
  },
  {
   "cell_type": "code",
   "execution_count": 44,
   "metadata": {},
   "outputs": [
    {
     "name": "stdout",
     "output_type": "stream",
     "text": [
      "             precision    recall  f1-score   support\n",
      "\n",
      "          0       0.31      0.02      0.03      2908\n",
      "          1       0.86      0.99      0.92     17092\n",
      "\n",
      "avg / total       0.78      0.85      0.79     20000\n",
      "\n"
     ]
    }
   ],
   "source": [
    "from sklearn.metrics import classification_report\n",
    "print(classification_report(ytest, neigh.predict(svd_test)))"
   ]
  },
  {
   "cell_type": "markdown",
   "metadata": {},
   "source": [
    "### [5.1.2] Applying KNN brute force on TFIDF,<font color='red'> SET 2</font>"
   ]
  },
  {
   "cell_type": "markdown",
   "metadata": {},
   "source": [
    "##### Training the model and finding the optimal hyperparameter by using GridSearchCV 10-fold cross-validation by using TFIDF vectors. Plotting the Error plot and chosing the best hyperparameter such that, we will have maximum AUC on cv data and gap between the train and cv is less"
   ]
  },
  {
   "cell_type": "code",
   "execution_count": 49,
   "metadata": {},
   "outputs": [
    {
     "data": {
      "image/png": "[encoded data removed]",
      "text/plain": [
       "<Figure size 432x288 with 1 Axes>"
      ]
     },
     "metadata": {
      "needs_background": "light"
     },
     "output_type": "display_data"
    }
   ],
   "source": [
    "from sklearn.model_selection import GridSearchCV\n",
    "K = list(range(1, 41))\n",
    "neigh = KNeighborsClassifier()\n",
    "neighbors = list(filter(lambda x: x % 2 != 0, K))\n",
    "parameters = {'n_neighbors':neighbors}\n",
    "clf = GridSearchCV(neigh, parameters, cv=10, scoring='roc_auc',n_jobs=-1)\n",
    "clf.fit(svd_train, ytrain)\n",
    "\n",
    "train_auc= clf.cv_results_['mean_train_score']\n",
    "\n",
    "cv_auc = clf.cv_results_['mean_test_score'] \n",
    "\n",
    "plt.plot(neighbors, train_auc, label='Train AUC')\n",
    "\n",
    "plt.plot(neighbors, cv_auc, label='CV AUC')\n",
    "\n",
    "plt.legend()\n",
    "\n",
    "plt.xlabel(\"K: hyperparameter\")\n",
    "plt.ylabel(\"AUC\")\n",
    "plt.title(\"ERROR PLOTS\")\n",
    "plt.show()"
   ]
  },
  {
   "cell_type": "code",
   "execution_count": 50,
   "metadata": {},
   "outputs": [],
   "source": [
    "# Here we are chosing the best K by observing the AUC curve for each hyperparameter\n",
    "best_k = 19"
   ]
  },
  {
   "cell_type": "markdown",
   "metadata": {},
   "source": [
    "##### Testing with test data and plotting error plot and confusion matrix for the best hyperparameter we selected"
   ]
  },
  {
   "cell_type": "code",
   "execution_count": 51,
   "metadata": {
    "scrolled": false
   },
   "outputs": [
    {
     "data": {
      "image/png": "[encoded data removed]",
      "text/plain": [
       "<Figure size 432x288 with 1 Axes>"
      ]
     },
     "metadata": {
      "needs_background": "light"
     },
     "output_type": "display_data"
    },
    {
     "name": "stdout",
     "output_type": "stream",
     "text": [
      "====================================================================================================\n",
      "Train confusion matrix\n",
      "[[   28  8929]\n",
      " [   26 51017]]\n",
      "Test confusion matrix\n",
      "[[    4  2904]\n",
      " [   22 17070]]\n"
     ]
    }
   ],
   "source": [
    "from sklearn.metrics import roc_curve, auc\n",
    "\n",
    "\n",
    "neigh = KNeighborsClassifier(n_neighbors=best_k)\n",
    "neigh.fit(svd_train, ytrain)\n",
    "\n",
    "train_fpr, train_tpr, thresholds = roc_curve(ytrain, neigh.predict_proba(svd_train)[:,1])\n",
    "test_fpr, test_tpr, thresholds = roc_curve(ytest, neigh.predict_proba(svd_test)[:,1])\n",
    "\n",
    "plt.plot(train_fpr, train_tpr, label=\"train AUC =\"+str(auc(train_fpr, train_tpr)))\n",
    "plt.plot(test_fpr, test_tpr, label=\"test AUC =\"+str(auc(test_fpr, test_tpr)))\n",
    "plt.legend()\n",
    "plt.xlabel(\"K: hyperparameter\")\n",
    "plt.ylabel(\"AUC\")\n",
    "plt.title(\"ERROR PLOTS\")\n",
    "plt.show()\n",
    "\n",
    "print(\"=\"*100)\n",
    "\n",
    "from sklearn.metrics import confusion_matrix\n",
    "print(\"Train confusion matrix\")\n",
    "print(confusion_matrix(ytrain, neigh.predict(svd_train)))\n",
    "print(\"Test confusion matrix\")\n",
    "print(confusion_matrix(ytest, neigh.predict(svd_test)))"
   ]
  },
  {
   "cell_type": "markdown",
   "metadata": {},
   "source": [
    "##### Displaying all the performance metrics of the model by using classification report"
   ]
  },
  {
   "cell_type": "code",
   "execution_count": 52,
   "metadata": {},
   "outputs": [
    {
     "name": "stdout",
     "output_type": "stream",
     "text": [
      "             precision    recall  f1-score   support\n",
      "\n",
      "          0       0.15      0.00      0.00      2908\n",
      "          1       0.85      1.00      0.92     17092\n",
      "\n",
      "avg / total       0.75      0.85      0.79     20000\n",
      "\n"
     ]
    }
   ],
   "source": [
    "print(classification_report(ytest, neigh.predict(svd_test)))"
   ]
  },
  {
   "cell_type": "markdown",
   "metadata": {},
   "source": [
    "### [5.1.3] Applying KNN brute force on AVG W2V,<font color='red'> SET 3</font>"
   ]
  },
  {
   "cell_type": "markdown",
   "metadata": {},
   "source": [
    "##### Training the model and finding the optimal hyperparameter by using GridSearchCV 10-fold cross-validation by using AVG W2Vec. Plotting the Error plot and chosing the best hyperparameter such that, we will have maximum AUC on cv data and gap between the train and cv is less"
   ]
  },
  {
   "cell_type": "code",
   "execution_count": 141,
   "metadata": {
    "scrolled": true
   },
   "outputs": [
    {
     "data": {
      "image/png": "[encoded data removed]",
      "text/plain": [
       "<Figure size 432x288 with 1 Axes>"
      ]
     },
     "metadata": {
      "needs_background": "light"
     },
     "output_type": "display_data"
    }
   ],
   "source": [
    "from sklearn.model_selection import GridSearchCV\n",
    "K = list(range(1, 41))\n",
    "neigh = KNeighborsClassifier()\n",
    "parameters = {'n_neighbors':K}\n",
    "clf = GridSearchCV(neigh, parameters, cv=10, scoring='roc_auc',n_jobs=-1)\n",
    "clf.fit(svd_train, ytrain)\n",
    "\n",
    "train_auc= clf.cv_results_['mean_train_score']\n",
    "\n",
    "cv_auc = clf.cv_results_['mean_test_score'] \n",
    "\n",
    "plt.plot(K, train_auc, label='Train AUC')\n",
    "\n",
    "plt.plot(K, cv_auc, label='CV AUC')\n",
    "\n",
    "plt.legend()\n",
    "\n",
    "plt.xlabel(\"K: hyperparameter\")\n",
    "plt.ylabel(\"AUC\")\n",
    "plt.title(\"ERROR PLOTS\")\n",
    "plt.show()"
   ]
  },
  {
   "cell_type": "code",
   "execution_count": 142,
   "metadata": {},
   "outputs": [],
   "source": [
    "# Here we are chosing the best K by observing the AUC curve for each hyperparameter\n",
    "best_k = 36"
   ]
  },
  {
   "cell_type": "markdown",
   "metadata": {},
   "source": [
    "##### Testing with test data and plotting error plot and confusion matrix for the best hyperparameter we selected"
   ]
  },
  {
   "cell_type": "code",
   "execution_count": 143,
   "metadata": {},
   "outputs": [
    {
     "data": {
      "image/png": "[encoded data removed]",
      "text/plain": [
       "<Figure size 432x288 with 1 Axes>"
      ]
     },
     "metadata": {
      "needs_background": "light"
     },
     "output_type": "display_data"
    },
    {
     "name": "stdout",
     "output_type": "stream",
     "text": [
      "====================================================================================================\n",
      "Train confusion matrix\n",
      "[[   22  3698]\n",
      " [   20 18834]]\n",
      "Test confusion matrix\n",
      "[[    6  2245]\n",
      " [    8 11563]]\n"
     ]
    }
   ],
   "source": [
    "from sklearn.metrics import roc_curve, auc\n",
    "\n",
    "\n",
    "neigh = KNeighborsClassifier(n_neighbors=best_k)\n",
    "neigh.fit(svd_train, ytrain)\n",
    "\n",
    "train_fpr, train_tpr, thresholds = roc_curve(ytrain, neigh.predict_proba(svd_train)[:,1])\n",
    "test_fpr, test_tpr, thresholds = roc_curve(ytest, neigh.predict_proba(svd_test)[:,1])\n",
    "\n",
    "plt.plot(train_fpr, train_tpr, label=\"train AUC =\"+str(auc(train_fpr, train_tpr)))\n",
    "plt.plot(test_fpr, test_tpr, label=\"test AUC =\"+str(auc(test_fpr, test_tpr)))\n",
    "plt.legend()\n",
    "plt.xlabel(\"K: hyperparameter\")\n",
    "plt.ylabel(\"AUC\")\n",
    "plt.title(\"ERROR PLOTS\")\n",
    "plt.show()\n",
    "\n",
    "print(\"=\"*100)\n",
    "\n",
    "from sklearn.metrics import confusion_matrix\n",
    "print(\"Train confusion matrix\")\n",
    "print(confusion_matrix(ytrain, neigh.predict(svd_train)))\n",
    "print(\"Test confusion matrix\")\n",
    "print(confusion_matrix(ytest, neigh.predict(svd_test)))"
   ]
  },
  {
   "cell_type": "markdown",
   "metadata": {},
   "source": [
    "##### Displaying all the performance metrics of the model by using classification report"
   ]
  },
  {
   "cell_type": "code",
   "execution_count": 144,
   "metadata": {},
   "outputs": [
    {
     "name": "stdout",
     "output_type": "stream",
     "text": [
      "             precision    recall  f1-score   support\n",
      "\n",
      "          0       0.43      0.00      0.01      2251\n",
      "          1       0.84      1.00      0.91     11571\n",
      "\n",
      "avg / total       0.77      0.84      0.76     13822\n",
      "\n"
     ]
    }
   ],
   "source": [
    "print(classification_report(ytest, neigh.predict(svd_test)))"
   ]
  },
  {
   "cell_type": "markdown",
   "metadata": {},
   "source": [
    "### [5.1.4] Applying KNN brute force on TFIDF W2V,<font color='red'> SET 4</font>"
   ]
  },
  {
   "cell_type": "markdown",
   "metadata": {},
   "source": [
    "##### Training the model and finding the optimal hyperparameter by using GridSearchCV 10-fold cross-validation by using TFIDF W2Vec. Plotting the Error plot and chosing the best hyperparameter such that, we will have maximum AUC on cv data and gap between the train and cv is less"
   ]
  },
  {
   "cell_type": "code",
   "execution_count": 150,
   "metadata": {},
   "outputs": [
    {
     "data": {
      "image/png": "[encoded data removed]",
      "text/plain": [
       "<Figure size 432x288 with 1 Axes>"
      ]
     },
     "metadata": {
      "needs_background": "light"
     },
     "output_type": "display_data"
    }
   ],
   "source": [
    "from sklearn.model_selection import GridSearchCV\n",
    "K = list(range(1, 41))\n",
    "neigh = KNeighborsClassifier()\n",
    "parameters = {'n_neighbors':K}\n",
    "clf = GridSearchCV(neigh, parameters, cv=10, scoring='roc_auc',n_jobs=-1)\n",
    "clf.fit(svd_train, ytrain)\n",
    "\n",
    "train_auc= clf.cv_results_['mean_train_score']\n",
    "\n",
    "cv_auc = clf.cv_results_['mean_test_score'] \n",
    "\n",
    "plt.plot(K, train_auc, label='Train AUC')\n",
    "\n",
    "plt.plot(K, cv_auc, label='CV AUC')\n",
    "\n",
    "plt.legend()\n",
    "\n",
    "plt.xlabel(\"K: hyperparameter\")\n",
    "plt.ylabel(\"AUC\")\n",
    "plt.title(\"ERROR PLOTS\")\n",
    "plt.show()"
   ]
  },
  {
   "cell_type": "code",
   "execution_count": 151,
   "metadata": {},
   "outputs": [],
   "source": [
    "# Here we are chosing the best K by observing the AUC curve for each hyperparameter\n",
    "best_k = 37"
   ]
  },
  {
   "cell_type": "markdown",
   "metadata": {},
   "source": [
    "##### Testing with test data and plotting error plot and confusion matrix for the best hyperparameter we selected"
   ]
  },
  {
   "cell_type": "code",
   "execution_count": 152,
   "metadata": {},
   "outputs": [
    {
     "data": {
      "image/png": "[encoded data removed]",
      "text/plain": [
       "<Figure size 432x288 with 1 Axes>"
      ]
     },
     "metadata": {
      "needs_background": "light"
     },
     "output_type": "display_data"
    },
    {
     "name": "stdout",
     "output_type": "stream",
     "text": [
      "====================================================================================================\n",
      "Train confusion matrix\n",
      "[[   10  3649]\n",
      " [    7 18908]]\n",
      "Test confusion matrix\n",
      "[[    3  2311]\n",
      " [    6 11502]]\n"
     ]
    }
   ],
   "source": [
    "from sklearn.metrics import roc_curve, auc\n",
    "\n",
    "\n",
    "neigh = KNeighborsClassifier(n_neighbors=best_k)\n",
    "neigh.fit(svd_train, ytrain)\n",
    "\n",
    "train_fpr, train_tpr, thresholds = roc_curve(ytrain, neigh.predict_proba(svd_train)[:,1])\n",
    "test_fpr, test_tpr, thresholds = roc_curve(ytest, neigh.predict_proba(svd_test)[:,1])\n",
    "\n",
    "plt.plot(train_fpr, train_tpr, label=\"train AUC =\"+str(auc(train_fpr, train_tpr)))\n",
    "plt.plot(test_fpr, test_tpr, label=\"test AUC =\"+str(auc(test_fpr, test_tpr)))\n",
    "plt.legend()\n",
    "plt.xlabel(\"K: hyperparameter\")\n",
    "plt.ylabel(\"AUC\")\n",
    "plt.title(\"ERROR PLOTS\")\n",
    "plt.show()\n",
    "\n",
    "print(\"=\"*100)\n",
    "\n",
    "from sklearn.metrics import confusion_matrix\n",
    "print(\"Train confusion matrix\")\n",
    "print(confusion_matrix(ytrain, neigh.predict(svd_train)))\n",
    "print(\"Test confusion matrix\")\n",
    "print(confusion_matrix(ytest, neigh.predict(svd_test)))"
   ]
  },
  {
   "cell_type": "markdown",
   "metadata": {},
   "source": [
    "##### Displaying all the performance metrics of the model by using classification report"
   ]
  },
  {
   "cell_type": "code",
   "execution_count": 153,
   "metadata": {},
   "outputs": [
    {
     "name": "stdout",
     "output_type": "stream",
     "text": [
      "             precision    recall  f1-score   support\n",
      "\n",
      "          0       0.33      0.00      0.00      2314\n",
      "          1       0.83      1.00      0.91     11508\n",
      "\n",
      "avg / total       0.75      0.83      0.76     13822\n",
      "\n"
     ]
    }
   ],
   "source": [
    "print(classification_report(ytest, neigh.predict(svd_test)))"
   ]
  },
  {
   "cell_type": "markdown",
   "metadata": {},
   "source": [
    "## [5.2] Applying KNN kd-tree"
   ]
  },
  {
   "cell_type": "markdown",
   "metadata": {},
   "source": [
    "### [5.2.1] Applying KNN kd-tree on BOW,<font color='red'> SET 5</font>"
   ]
  },
  {
   "cell_type": "markdown",
   "metadata": {},
   "source": [
    "##### Training the model by kd-tree algorithm and finding the optimal hyperparameter by using GridSearchCV 10-fold cross-validation by using BOW vectors. Plotting the Error plot and chosing the best hyperparameter such that, we will have maximum AUC on cv data and gap between the train and cv is less"
   ]
  },
  {
   "cell_type": "code",
   "execution_count": 165,
   "metadata": {},
   "outputs": [
    {
     "data": {
      "image/png": "[encoded data removed]",
      "text/plain": [
       "<Figure size 432x288 with 1 Axes>"
      ]
     },
     "metadata": {
      "needs_background": "light"
     },
     "output_type": "display_data"
    }
   ],
   "source": [
    "from sklearn.model_selection import GridSearchCV\n",
    "K = list(range(1, 41))\n",
    "neigh = KNeighborsClassifier(algorithm='kd_tree', n_jobs=-1)\n",
    "parameters = {'n_neighbors':K}\n",
    "clf = GridSearchCV(neigh, parameters, cv=10, scoring='roc_auc',n_jobs=-1)\n",
    "clf.fit(svd_train, ytrain)\n",
    "\n",
    "train_auc= clf.cv_results_['mean_train_score']\n",
    "\n",
    "cv_auc = clf.cv_results_['mean_test_score'] \n",
    "\n",
    "plt.plot(K, train_auc, label='Train AUC')\n",
    "\n",
    "plt.plot(K, cv_auc, label='CV AUC')\n",
    "\n",
    "plt.legend()\n",
    "\n",
    "plt.xlabel(\"K: hyperparameter\")\n",
    "plt.ylabel(\"AUC\")\n",
    "plt.title(\"ERROR PLOTS\")\n",
    "plt.show()"
   ]
  },
  {
   "cell_type": "code",
   "execution_count": 166,
   "metadata": {},
   "outputs": [],
   "source": [
    "best_k = 40"
   ]
  },
  {
   "cell_type": "markdown",
   "metadata": {},
   "source": [
    "##### Testing with test data and plotting error plot and confusion matrix for the best hyperparameter we selected\n"
   ]
  },
  {
   "cell_type": "code",
   "execution_count": 167,
   "metadata": {},
   "outputs": [
    {
     "data": {
      "image/png": "[encoded data removed]",
      "text/plain": [
       "<Figure size 432x288 with 1 Axes>"
      ]
     },
     "metadata": {
      "needs_background": "light"
     },
     "output_type": "display_data"
    },
    {
     "name": "stdout",
     "output_type": "stream",
     "text": [
      "====================================================================================================\n",
      "Train confusion matrix\n",
      "[[   23  3669]\n",
      " [   19 18863]]\n",
      "Test confusion matrix\n",
      "[[    6  2296]\n",
      " [   10 11510]]\n"
     ]
    }
   ],
   "source": [
    "from sklearn.metrics import roc_curve, auc\n",
    "\n",
    "\n",
    "neigh = KNeighborsClassifier(n_neighbors=best_k, algorithm='kd_tree', n_jobs=-1)\n",
    "neigh.fit(svd_train, ytrain)\n",
    "\n",
    "train_fpr, train_tpr, thresholds = roc_curve(ytrain, neigh.predict_proba(svd_train)[:,1])\n",
    "test_fpr, test_tpr, thresholds = roc_curve(ytest, neigh.predict_proba(svd_test)[:,1])\n",
    "\n",
    "plt.plot(train_fpr, train_tpr, label=\"train AUC =\"+str(auc(train_fpr, train_tpr)))\n",
    "plt.plot(test_fpr, test_tpr, label=\"test AUC =\"+str(auc(test_fpr, test_tpr)))\n",
    "plt.legend()\n",
    "plt.xlabel(\"K: hyperparameter\")\n",
    "plt.ylabel(\"AUC\")\n",
    "plt.title(\"ERROR PLOTS\")\n",
    "plt.show()\n",
    "\n",
    "print(\"=\"*100)\n",
    "\n",
    "from sklearn.metrics import confusion_matrix\n",
    "print(\"Train confusion matrix\")\n",
    "print(confusion_matrix(ytrain, neigh.predict(svd_train)))\n",
    "print(\"Test confusion matrix\")\n",
    "print(confusion_matrix(ytest, neigh.predict(svd_test)))"
   ]
  },
  {
   "cell_type": "markdown",
   "metadata": {},
   "source": [
    "##### Displaying all the performance metrics of the model by using classification report"
   ]
  },
  {
   "cell_type": "code",
   "execution_count": 168,
   "metadata": {},
   "outputs": [
    {
     "name": "stdout",
     "output_type": "stream",
     "text": [
      "             precision    recall  f1-score   support\n",
      "\n",
      "          0       0.38      0.00      0.01      2302\n",
      "          1       0.83      1.00      0.91     11520\n",
      "\n",
      "avg / total       0.76      0.83      0.76     13822\n",
      "\n"
     ]
    }
   ],
   "source": [
    "print(classification_report(ytest, neigh.predict(svd_test)))"
   ]
  },
  {
   "cell_type": "markdown",
   "metadata": {},
   "source": [
    "### [5.2.2] Applying KNN kd-tree on TFIDF,<font color='red'> SET 6</font>"
   ]
  },
  {
   "cell_type": "markdown",
   "metadata": {},
   "source": [
    "##### Training the model by kd-tree algorithm and finding the optimal hyperparameter by using GridSearchCV 10-fold cross-validation by using TFIDF vectors. Plotting the Error plot and chosing the best hyperparameter such that, we will have maximum AUC on cv data and gap between the train and cv is less"
   ]
  },
  {
   "cell_type": "code",
   "execution_count": 172,
   "metadata": {},
   "outputs": [
    {
     "data": {
      "image/png": "[encoded data removed]",
      "text/plain": [
       "<Figure size 432x288 with 1 Axes>"
      ]
     },
     "metadata": {
      "needs_background": "light"
     },
     "output_type": "display_data"
    }
   ],
   "source": [
    "from sklearn.model_selection import GridSearchCV\n",
    "K = list(range(1, 41))\n",
    "neigh = KNeighborsClassifier(algorithm='kd_tree', n_jobs=-1)\n",
    "parameters = {'n_neighbors':K}\n",
    "clf = GridSearchCV(neigh, parameters, cv=10, scoring='roc_auc',n_jobs=-1)\n",
    "clf.fit(svd_train, ytrain)\n",
    "\n",
    "train_auc= clf.cv_results_['mean_train_score']\n",
    "\n",
    "cv_auc = clf.cv_results_['mean_test_score'] \n",
    "\n",
    "plt.plot(K, train_auc, label='Train AUC')\n",
    "\n",
    "plt.plot(K, cv_auc, label='CV AUC')\n",
    "\n",
    "plt.legend()\n",
    "\n",
    "plt.xlabel(\"K: hyperparameter\")\n",
    "plt.ylabel(\"AUC\")\n",
    "plt.title(\"ERROR PLOTS\")\n",
    "plt.show()"
   ]
  },
  {
   "cell_type": "code",
   "execution_count": 173,
   "metadata": {},
   "outputs": [],
   "source": [
    "best_k = 38"
   ]
  },
  {
   "cell_type": "markdown",
   "metadata": {},
   "source": [
    "##### Testing with test data and plotting error plot and confusion matrix for the best hyperparameter we selected"
   ]
  },
  {
   "cell_type": "code",
   "execution_count": 174,
   "metadata": {},
   "outputs": [
    {
     "data": {
      "image/png": "[encoded data removed]",
      "text/plain": [
       "<Figure size 432x288 with 1 Axes>"
      ]
     },
     "metadata": {
      "needs_background": "light"
     },
     "output_type": "display_data"
    },
    {
     "name": "stdout",
     "output_type": "stream",
     "text": [
      "====================================================================================================\n",
      "Train confusion matrix\n",
      "[[    3  3689]\n",
      " [    5 18877]]\n",
      "Test confusion matrix\n",
      "[[    0  2302]\n",
      " [    3 11517]]\n"
     ]
    }
   ],
   "source": [
    "from sklearn.metrics import roc_curve, auc\n",
    "\n",
    "\n",
    "neigh = KNeighborsClassifier(n_neighbors=best_k, algorithm='kd_tree', n_jobs=-1)\n",
    "neigh.fit(svd_train, ytrain)\n",
    "\n",
    "train_fpr, train_tpr, thresholds = roc_curve(ytrain, neigh.predict_proba(svd_train)[:,1])\n",
    "test_fpr, test_tpr, thresholds = roc_curve(ytest, neigh.predict_proba(svd_test)[:,1])\n",
    "\n",
    "plt.plot(train_fpr, train_tpr, label=\"train AUC =\"+str(auc(train_fpr, train_tpr)))\n",
    "plt.plot(test_fpr, test_tpr, label=\"test AUC =\"+str(auc(test_fpr, test_tpr)))\n",
    "plt.legend()\n",
    "plt.xlabel(\"K: hyperparameter\")\n",
    "plt.ylabel(\"AUC\")\n",
    "plt.title(\"ERROR PLOTS\")\n",
    "plt.show()\n",
    "\n",
    "print(\"=\"*100)\n",
    "\n",
    "from sklearn.metrics import confusion_matrix\n",
    "print(\"Train confusion matrix\")\n",
    "print(confusion_matrix(ytrain, neigh.predict(svd_train)))\n",
    "print(\"Test confusion matrix\")\n",
    "print(confusion_matrix(ytest, neigh.predict(svd_test)))"
   ]
  },
  {
   "cell_type": "markdown",
   "metadata": {},
   "source": [
    "##### Displaying all the performance metrics of the model by using classification report"
   ]
  },
  {
   "cell_type": "code",
   "execution_count": 175,
   "metadata": {},
   "outputs": [
    {
     "name": "stdout",
     "output_type": "stream",
     "text": [
      "             precision    recall  f1-score   support\n",
      "\n",
      "          0       0.00      0.00      0.00      2302\n",
      "          1       0.83      1.00      0.91     11520\n",
      "\n",
      "avg / total       0.69      0.83      0.76     13822\n",
      "\n"
     ]
    }
   ],
   "source": [
    "print(classification_report(ytest, neigh.predict(svd_test)))"
   ]
  },
  {
   "cell_type": "markdown",
   "metadata": {},
   "source": [
    "### [5.2.3] Applying KNN kd-tree on AVG W2V,<font color='red'> SET 3</font>"
   ]
  },
  {
   "cell_type": "markdown",
   "metadata": {},
   "source": [
    "##### Training the model by kd-tree algorithm and finding the optimal hyperparameter by using GridSearchCV 10-fold cross-validation by using AVG Word2Vec. Plotting the Error plot and chosing the best hyperparameter such that, we will have maximum AUC on cv data and gap between the train and cv is less"
   ]
  },
  {
   "cell_type": "code",
   "execution_count": 178,
   "metadata": {},
   "outputs": [
    {
     "data": {
      "image/png": "[encoded data removed]",
      "text/plain": [
       "<Figure size 432x288 with 1 Axes>"
      ]
     },
     "metadata": {
      "needs_background": "light"
     },
     "output_type": "display_data"
    }
   ],
   "source": [
    "from sklearn.model_selection import GridSearchCV\n",
    "K = list(range(1, 41))\n",
    "neigh = KNeighborsClassifier(algorithm='kd_tree', n_jobs=-1)\n",
    "parameters = {'n_neighbors':K}\n",
    "clf = GridSearchCV(neigh, parameters, cv=10, scoring='roc_auc',n_jobs=-1)\n",
    "clf.fit(svd_train, ytrain)\n",
    "\n",
    "train_auc= clf.cv_results_['mean_train_score']\n",
    "\n",
    "cv_auc = clf.cv_results_['mean_test_score'] \n",
    "\n",
    "plt.plot(K, train_auc, label='Train AUC')\n",
    "\n",
    "plt.plot(K, cv_auc, label='CV AUC')\n",
    "\n",
    "plt.legend()\n",
    "\n",
    "plt.xlabel(\"K: hyperparameter\")\n",
    "plt.ylabel(\"AUC\")\n",
    "plt.title(\"ERROR PLOTS\")\n",
    "plt.show()"
   ]
  },
  {
   "cell_type": "code",
   "execution_count": 179,
   "metadata": {},
   "outputs": [],
   "source": [
    "best_k = 30"
   ]
  },
  {
   "cell_type": "markdown",
   "metadata": {},
   "source": [
    "##### Testing with test data and plotting error plot and confusion matrix for the best hyperparameter we selected"
   ]
  },
  {
   "cell_type": "code",
   "execution_count": 180,
   "metadata": {},
   "outputs": [
    {
     "data": {
      "image/png": "[encoded data removed]",
      "text/plain": [
       "<Figure size 432x288 with 1 Axes>"
      ]
     },
     "metadata": {
      "needs_background": "light"
     },
     "output_type": "display_data"
    },
    {
     "name": "stdout",
     "output_type": "stream",
     "text": [
      "====================================================================================================\n",
      "Train confusion matrix\n",
      "[[    8  3637]\n",
      " [    9 18920]]\n",
      "Test confusion matrix\n",
      "[[    1  2399]\n",
      " [    9 11413]]\n"
     ]
    }
   ],
   "source": [
    "from sklearn.metrics import roc_curve, auc\n",
    "\n",
    "\n",
    "neigh = KNeighborsClassifier(n_neighbors=best_k, algorithm='kd_tree', n_jobs=-1)\n",
    "neigh.fit(svd_train, ytrain)\n",
    "\n",
    "train_fpr, train_tpr, thresholds = roc_curve(ytrain, neigh.predict_proba(svd_train)[:,1])\n",
    "test_fpr, test_tpr, thresholds = roc_curve(ytest, neigh.predict_proba(svd_test)[:,1])\n",
    "\n",
    "plt.plot(train_fpr, train_tpr, label=\"train AUC =\"+str(auc(train_fpr, train_tpr)))\n",
    "plt.plot(test_fpr, test_tpr, label=\"test AUC =\"+str(auc(test_fpr, test_tpr)))\n",
    "plt.legend()\n",
    "plt.xlabel(\"K: hyperparameter\")\n",
    "plt.ylabel(\"AUC\")\n",
    "plt.title(\"ERROR PLOTS\")\n",
    "plt.show()\n",
    "\n",
    "print(\"=\"*100)\n",
    "\n",
    "from sklearn.metrics import confusion_matrix\n",
    "print(\"Train confusion matrix\")\n",
    "print(confusion_matrix(ytrain, neigh.predict(svd_train)))\n",
    "print(\"Test confusion matrix\")\n",
    "print(confusion_matrix(ytest, neigh.predict(svd_test)))"
   ]
  },
  {
   "cell_type": "markdown",
   "metadata": {},
   "source": [
    "##### Displaying all the performance metrics of the model by using classification report"
   ]
  },
  {
   "cell_type": "code",
   "execution_count": 181,
   "metadata": {},
   "outputs": [
    {
     "name": "stdout",
     "output_type": "stream",
     "text": [
      "             precision    recall  f1-score   support\n",
      "\n",
      "          0       0.10      0.00      0.00      2400\n",
      "          1       0.83      1.00      0.90     11422\n",
      "\n",
      "avg / total       0.70      0.83      0.75     13822\n",
      "\n"
     ]
    }
   ],
   "source": [
    "print(classification_report(ytest, neigh.predict(svd_test)))"
   ]
  },
  {
   "cell_type": "markdown",
   "metadata": {},
   "source": [
    "### [5.2.4] Applying KNN kd-tree on TFIDF W2V,<font color='red'> SET 4</font>"
   ]
  },
  {
   "cell_type": "markdown",
   "metadata": {},
   "source": [
    "##### Training the model by kd-tree algorithm and finding the optimal hyperparameter by using GridSearchCV 10-fold cross-validation by using TFIDF Word2Vec. Plotting the Error plot and chosing the best hyperparameter such that, we will have maximum AUC on cv data and gap between the train and cv is less"
   ]
  },
  {
   "cell_type": "code",
   "execution_count": 184,
   "metadata": {},
   "outputs": [
    {
     "data": {
      "image/png": "[encoded data removed]",
      "text/plain": [
       "<Figure size 432x288 with 1 Axes>"
      ]
     },
     "metadata": {
      "needs_background": "light"
     },
     "output_type": "display_data"
    }
   ],
   "source": [
    "from sklearn.model_selection import GridSearchCV\n",
    "K = list(range(1, 41))\n",
    "neigh = KNeighborsClassifier(algorithm='kd_tree', n_jobs=-1)\n",
    "parameters = {'n_neighbors':K}\n",
    "clf = GridSearchCV(neigh, parameters, cv=10, scoring='roc_auc',n_jobs=-1)\n",
    "clf.fit(svd_train, ytrain)\n",
    "\n",
    "train_auc= clf.cv_results_['mean_train_score']\n",
    "\n",
    "cv_auc = clf.cv_results_['mean_test_score'] \n",
    "\n",
    "plt.plot(K, train_auc, label='Train AUC')\n",
    "\n",
    "plt.plot(K, cv_auc, label='CV AUC')\n",
    "\n",
    "plt.legend()\n",
    "\n",
    "plt.xlabel(\"K: hyperparameter\")\n",
    "plt.ylabel(\"AUC\")\n",
    "plt.title(\"ERROR PLOTS\")\n",
    "plt.show()"
   ]
  },
  {
   "cell_type": "code",
   "execution_count": 185,
   "metadata": {},
   "outputs": [],
   "source": [
    "best_k = 38"
   ]
  },
  {
   "cell_type": "markdown",
   "metadata": {},
   "source": [
    "##### Testing with test data and plotting error plot and confusion matrix for the best hyperparameter we selected"
   ]
  },
  {
   "cell_type": "code",
   "execution_count": 186,
   "metadata": {},
   "outputs": [
    {
     "data": {
      "image/png": "[encoded data removed]",
      "text/plain": [
       "<Figure size 432x288 with 1 Axes>"
      ]
     },
     "metadata": {
      "needs_background": "light"
     },
     "output_type": "display_data"
    },
    {
     "name": "stdout",
     "output_type": "stream",
     "text": [
      "====================================================================================================\n",
      "Train confusion matrix\n",
      "[[    7  3714]\n",
      " [    7 18846]]\n",
      "Test confusion matrix\n",
      "[[    0  2247]\n",
      " [    0 11575]]\n"
     ]
    }
   ],
   "source": [
    "from sklearn.metrics import roc_curve, auc\n",
    "\n",
    "\n",
    "neigh = KNeighborsClassifier(n_neighbors=best_k, algorithm='kd_tree', n_jobs=-1)\n",
    "neigh.fit(svd_train, ytrain)\n",
    "\n",
    "train_fpr, train_tpr, thresholds = roc_curve(ytrain, neigh.predict_proba(svd_train)[:,1])\n",
    "test_fpr, test_tpr, thresholds = roc_curve(ytest, neigh.predict_proba(svd_test)[:,1])\n",
    "\n",
    "plt.plot(train_fpr, train_tpr, label=\"train AUC =\"+str(auc(train_fpr, train_tpr)))\n",
    "plt.plot(test_fpr, test_tpr, label=\"test AUC =\"+str(auc(test_fpr, test_tpr)))\n",
    "plt.legend()\n",
    "plt.xlabel(\"K: hyperparameter\")\n",
    "plt.ylabel(\"AUC\")\n",
    "plt.title(\"ERROR PLOTS\")\n",
    "plt.show()\n",
    "\n",
    "print(\"=\"*100)\n",
    "\n",
    "from sklearn.metrics import confusion_matrix\n",
    "print(\"Train confusion matrix\")\n",
    "print(confusion_matrix(ytrain, neigh.predict(svd_train)))\n",
    "print(\"Test confusion matrix\")\n",
    "print(confusion_matrix(ytest, neigh.predict(svd_test)))"
   ]
  },
  {
   "cell_type": "markdown",
   "metadata": {},
   "source": [
    "##### Displaying all the performance metrics of the model by using classification report"
   ]
  },
  {
   "cell_type": "code",
   "execution_count": 187,
   "metadata": {},
   "outputs": [
    {
     "name": "stderr",
     "output_type": "stream",
     "text": [
      "C:\\Users\\yogesh.dayma\\AppData\\Local\\Continuum\\anaconda3\\lib\\site-packages\\sklearn\\metrics\\classification.py:1135: UndefinedMetricWarning: Precision and F-score are ill-defined and being set to 0.0 in labels with no predicted samples.\n",
      "  'precision', 'predicted', average, warn_for)\n"
     ]
    },
    {
     "name": "stdout",
     "output_type": "stream",
     "text": [
      "             precision    recall  f1-score   support\n",
      "\n",
      "          0       0.00      0.00      0.00      2247\n",
      "          1       0.84      1.00      0.91     11575\n",
      "\n",
      "avg / total       0.70      0.84      0.76     13822\n",
      "\n"
     ]
    }
   ],
   "source": [
    "print(classification_report(ytest, neigh.predict(svd_test)))"
   ]
  },
  {
   "cell_type": "markdown",
   "metadata": {},
   "source": [
    "# [6] Conclusions"
   ]
  },
  {
   "cell_type": "code",
   "execution_count": 191,
   "metadata": {},
   "outputs": [
    {
     "name": "stdout",
     "output_type": "stream",
     "text": [
      "+-------------------------+-----------+--------+\n",
      "|        Model name       | Precision | Recall |\n",
      "+-------------------------+-----------+--------+\n",
      "|        BOW(brute)       |    0.75   |  0.83  |\n",
      "|       BOW(KD-tree)      |    0.76   |  0.83  |\n",
      "|      TF-IDF(brute)      |    0.69   |  0.83  |\n",
      "|     TF-IDF(Kd-tree)     |    0.69   |  0.83  |\n",
      "|   Avg-Word2Vec(brute)   |    0.77   |  0.84  |\n",
      "|  Avg-Word2Vec(Kd-tree)  |    0.7    |  0.83  |\n",
      "|  TFIDF-Word2Vec(brute)  |    0.75   |  0.83  |\n",
      "| TFIDF-Word2Vec(Kd-tree) |    0.7    |  0.84  |\n",
      "+-------------------------+-----------+--------+\n"
     ]
    }
   ],
   "source": [
    "# Please compare all your models using Prettytable library\n",
    "from prettytable import PrettyTable\n",
    "#this code is copied from here: http://zetcode.com/python/prettytable/ \n",
    "\n",
    "x = PrettyTable()\n",
    "\n",
    "x.field_names = [\"Model name\", \"Precision\", \"Recall\"]\n",
    "\n",
    "x.add_row([\"BOW(brute)\", 0.75, 0.83])\n",
    "x.add_row([\"BOW(KD-tree)\", 0.76, 0.83])\n",
    "x.add_row([\"TF-IDF(brute)\", 0.69, 0.83])\n",
    "x.add_row([\"TF-IDF(Kd-tree)\", 0.69, 0.83])\n",
    "x.add_row([\"Avg-Word2Vec(brute)\", 0.77, 0.84])\n",
    "x.add_row([\"Avg-Word2Vec(Kd-tree)\", 0.70, 0.83])\n",
    "x.add_row([\"TFIDF-Word2Vec(brute)\", 0.75, 0.83])\n",
    "x.add_row([\"TFIDF-Word2Vec(Kd-tree)\", 0.70, 0.84])\n",
    "\n",
    "print(x)"
   ]
  },
  {
   "cell_type": "markdown",
   "metadata": {},
   "source": [
    "As we can see from above table all of the models performs quite similar but KNN with Avg-Word2Vec(brute) provides the best Precision and Recall. Hence can be called as the best model for this dataset as the dataset is skewed towards the positive points."
   ]
  },
  {
   "cell_type": "code",
   "execution_count": null,
   "metadata": {},
   "outputs": [],
   "source": []
  }
 ],
 "metadata": {
  "kernelspec": {
   "display_name": "Python 3",
   "language": "python",
   "name": "python3"
  },
  "language_info": {
   "codemirror_mode": {
    "name": "ipython",
    "version": 3
   },
   "file_extension": ".py",
   "mimetype": "text/x-python",
   "name": "python",
   "nbconvert_exporter": "python",
   "pygments_lexer": "ipython3",
   "version": "3.7.3"
  }
 },
 "nbformat": 4,
 "nbformat_minor": 2
}
