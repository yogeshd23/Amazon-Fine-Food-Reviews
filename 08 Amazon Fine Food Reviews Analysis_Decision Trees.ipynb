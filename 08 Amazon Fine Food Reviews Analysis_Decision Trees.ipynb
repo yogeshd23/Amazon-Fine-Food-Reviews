{
 "cells": [
  {
   "cell_type": "markdown",
   "metadata": {
    "colab_type": "text",
    "id": "IXmtUCbYiWM3"
   },
   "source": [
    "# Amazon Fine Food Reviews Analysis\n",
    "\n",
    "\n",
    "Data Source: https://www.kaggle.com/snap/amazon-fine-food-reviews <br>\n",
    "\n",
    "EDA: https://nycdatascience.com/blog/student-works/amazon-fine-foods-visualization/\n",
    "\n",
    "\n",
    "The Amazon Fine Food Reviews dataset consists of reviews of fine foods from Amazon.<br>\n",
    "\n",
    "Number of reviews: 568,454<br>\n",
    "Number of users: 256,059<br>\n",
    "Number of products: 74,258<br>\n",
    "Timespan: Oct 1999 - Oct 2012<br>\n",
    "Number of Attributes/Columns in data: 10 \n",
    "\n",
    "Attribute Information:\n",
    "\n",
    "1. Id\n",
    "2. ProductId - unique identifier for the product\n",
    "3. UserId - unqiue identifier for the user\n",
    "4. ProfileName\n",
    "5. HelpfulnessNumerator - number of users who found the review helpful\n",
    "6. HelpfulnessDenominator - number of users who indicated whether they found the review helpful or not\n",
    "7. Score - rating between 1 and 5\n",
    "8. Time - timestamp for the review\n",
    "9. Summary - brief summary of the review\n",
    "10. Text - text of the review\n",
    "\n",
    "\n",
    "#### Objective:\n",
    "Given a review, determine whether the review is positive (rating of 4 or 5) or negative (rating of 1 or 2).\n",
    "\n",
    "<br>\n",
    "[Q] How to determine if a review is positive or negative?<br>\n",
    "<br> \n",
    "[Ans] We could use Score/Rating. A rating of 4 or 5 can be cosnidered as a positive review. A rating of 1 or 2 can be considered as negative one. A review of rating 3 is considered nuetral and such reviews are ignored from our analysis. This is an approximate and proxy way of determining the polarity (positivity/negativity) of a review.\n",
    "\n",
    "\n"
   ]
  },
  {
   "cell_type": "markdown",
   "metadata": {
    "colab_type": "text",
    "id": "syeYHDR_iWM7"
   },
   "source": [
    "# [1]. Reading Data"
   ]
  },
  {
   "cell_type": "markdown",
   "metadata": {
    "colab_type": "text",
    "id": "D_eZrQC0iWM9"
   },
   "source": [
    "## [1.1] Loading the data\n",
    "\n",
    "The dataset is available in two forms\n",
    "1. .csv file\n",
    "2. SQLite Database\n",
    "\n",
    "In order to load the data, We have used the SQLITE dataset as it is easier to query the data and visualise the data efficiently.\n",
    "<br> \n",
    "\n",
    "Here as we only want to get the global sentiment of the recommendations (positive or negative), we will purposefully ignore all Scores equal to 3. If the score is above 3, then the recommendation wil be set to \"positive\". Otherwise, it will be set to \"negative\"."
   ]
  },
  {
   "cell_type": "code",
   "execution_count": null,
   "metadata": {
    "colab": {},
    "colab_type": "code",
    "id": "53fLFqf8iWNA"
   },
   "outputs": [],
   "source": [
    "%matplotlib inline\n",
    "import warnings\n",
    "warnings.filterwarnings(\"ignore\")\n",
    "\n",
    "\n",
    "import sqlite3\n",
    "import pandas as pd\n",
    "import numpy as np\n",
    "import nltk\n",
    "import string\n",
    "import matplotlib.pyplot as plt\n",
    "import seaborn as sns\n",
    "from sklearn.feature_extraction.text import TfidfTransformer\n",
    "from sklearn.feature_extraction.text import TfidfVectorizer\n",
    "\n",
    "from sklearn.feature_extraction.text import CountVectorizer\n",
    "from sklearn.metrics import confusion_matrix\n",
    "from sklearn import metrics\n",
    "from sklearn.metrics import roc_curve, auc\n",
    "from nltk.stem.porter import PorterStemmer\n",
    "\n",
    "import re\n",
    "# Tutorial about Python regular expressions: https://pymotw.com/2/re/\n",
    "import string\n",
    "from nltk.corpus import stopwords\n",
    "from nltk.stem import PorterStemmer\n",
    "from nltk.stem.wordnet import WordNetLemmatizer\n",
    "\n",
    "from gensim.models import Word2Vec\n",
    "from gensim.models import KeyedVectors\n",
    "import pickle\n",
    "\n",
    "from tqdm import tqdm\n",
    "import os"
   ]
  },
  {
   "cell_type": "code",
   "execution_count": 2,
   "metadata": {
    "colab": {},
    "colab_type": "code",
    "id": "j3kshrC-iWNI",
    "outputId": "07826916-2c3f-4a0a-e928-ddbc6d567a11"
   },
   "outputs": [
    {
     "name": "stdout",
     "output_type": "stream",
     "text": [
      "Number of data points in our data (525814, 10)\n"
     ]
    },
    {
     "data": {
      "text/html": [
       "<div>\n",
       "<style scoped>\n",
       "    .dataframe tbody tr th:only-of-type {\n",
       "        vertical-align: middle;\n",
       "    }\n",
       "\n",
       "    .dataframe tbody tr th {\n",
       "        vertical-align: top;\n",
       "    }\n",
       "\n",
       "    .dataframe thead th {\n",
       "        text-align: right;\n",
       "    }\n",
       "</style>\n",
       "<table border=\"1\" class=\"dataframe\">\n",
       "  <thead>\n",
       "    <tr style=\"text-align: right;\">\n",
       "      <th></th>\n",
       "      <th>Id</th>\n",
       "      <th>ProductId</th>\n",
       "      <th>UserId</th>\n",
       "      <th>ProfileName</th>\n",
       "      <th>HelpfulnessNumerator</th>\n",
       "      <th>HelpfulnessDenominator</th>\n",
       "      <th>Score</th>\n",
       "      <th>Time</th>\n",
       "      <th>Summary</th>\n",
       "      <th>Text</th>\n",
       "    </tr>\n",
       "  </thead>\n",
       "  <tbody>\n",
       "    <tr>\n",
       "      <th>0</th>\n",
       "      <td>1</td>\n",
       "      <td>B001E4KFG0</td>\n",
       "      <td>A3SGXH7AUHU8GW</td>\n",
       "      <td>delmartian</td>\n",
       "      <td>1</td>\n",
       "      <td>1</td>\n",
       "      <td>1</td>\n",
       "      <td>1303862400</td>\n",
       "      <td>Good Quality Dog Food</td>\n",
       "      <td>I have bought several of the Vitality canned d...</td>\n",
       "    </tr>\n",
       "    <tr>\n",
       "      <th>1</th>\n",
       "      <td>2</td>\n",
       "      <td>B00813GRG4</td>\n",
       "      <td>A1D87F6ZCVE5NK</td>\n",
       "      <td>dll pa</td>\n",
       "      <td>0</td>\n",
       "      <td>0</td>\n",
       "      <td>0</td>\n",
       "      <td>1346976000</td>\n",
       "      <td>Not as Advertised</td>\n",
       "      <td>Product arrived labeled as Jumbo Salted Peanut...</td>\n",
       "    </tr>\n",
       "    <tr>\n",
       "      <th>2</th>\n",
       "      <td>3</td>\n",
       "      <td>B000LQOCH0</td>\n",
       "      <td>ABXLMWJIXXAIN</td>\n",
       "      <td>Natalia Corres \"Natalia Corres\"</td>\n",
       "      <td>1</td>\n",
       "      <td>1</td>\n",
       "      <td>1</td>\n",
       "      <td>1219017600</td>\n",
       "      <td>\"Delight\" says it all</td>\n",
       "      <td>This is a confection that has been around a fe...</td>\n",
       "    </tr>\n",
       "  </tbody>\n",
       "</table>\n",
       "</div>"
      ],
      "text/plain": [
       "   Id   ProductId          UserId                      ProfileName  \\\n",
       "0   1  B001E4KFG0  A3SGXH7AUHU8GW                       delmartian   \n",
       "1   2  B00813GRG4  A1D87F6ZCVE5NK                           dll pa   \n",
       "2   3  B000LQOCH0   ABXLMWJIXXAIN  Natalia Corres \"Natalia Corres\"   \n",
       "\n",
       "   HelpfulnessNumerator  HelpfulnessDenominator  Score        Time  \\\n",
       "0                     1                       1      1  1303862400   \n",
       "1                     0                       0      0  1346976000   \n",
       "2                     1                       1      1  1219017600   \n",
       "\n",
       "                 Summary                                               Text  \n",
       "0  Good Quality Dog Food  I have bought several of the Vitality canned d...  \n",
       "1      Not as Advertised  Product arrived labeled as Jumbo Salted Peanut...  \n",
       "2  \"Delight\" says it all  This is a confection that has been around a fe...  "
      ]
     },
     "execution_count": 2,
     "metadata": {},
     "output_type": "execute_result"
    }
   ],
   "source": [
    "# using SQLite Table to read data.\n",
    "con = sqlite3.connect('database.sqlite') \n",
    "\n",
    "# filtering only positive and negative reviews i.e. \n",
    "# not taking into consideration those reviews with Score=3\n",
    "# SELECT * FROM Reviews WHERE Score != 3 LIMIT 500000, will give top 500000 data points\n",
    "# you can change the number to any other number based on your computing power\n",
    "\n",
    "# filtered_data = pd.read_sql_query(\"\"\" SELECT * FROM Reviews WHERE Score != 3 LIMIT 500000\"\"\", con) \n",
    "# for tsne assignment you can take 5k data points\n",
    "\n",
    "filtered_data = pd.read_sql_query(\"\"\" SELECT * FROM Reviews WHERE Score != 3\"\"\", con) \n",
    "\n",
    "# Give reviews with Score>3 a positive rating(1), and reviews with a score<3 a negative rating(0).\n",
    "def partition(x):\n",
    "    if x < 3:\n",
    "        return 0\n",
    "    return 1\n",
    "\n",
    "#changing reviews with score less than 3 to be positive and vice-versa\n",
    "actualScore = filtered_data['Score']\n",
    "positiveNegative = actualScore.map(partition) \n",
    "filtered_data['Score'] = positiveNegative\n",
    "print(\"Number of data points in our data\", filtered_data.shape)\n",
    "filtered_data.head(3)"
   ]
  },
  {
   "cell_type": "code",
   "execution_count": 3,
   "metadata": {
    "colab": {},
    "colab_type": "code",
    "id": "-7Iy8yWfiWNR"
   },
   "outputs": [],
   "source": [
    "display = pd.read_sql_query(\"\"\"\n",
    "SELECT UserId, ProductId, ProfileName, Time, Score, Text, COUNT(*)\n",
    "FROM Reviews\n",
    "GROUP BY UserId\n",
    "HAVING COUNT(*)>1\n",
    "\"\"\", con)"
   ]
  },
  {
   "cell_type": "code",
   "execution_count": 4,
   "metadata": {
    "colab": {},
    "colab_type": "code",
    "id": "wuK6OYpOiWNV",
    "outputId": "5cb5082e-47b9-4d4b-cf90-fc6ffe0dceeb",
    "scrolled": true
   },
   "outputs": [
    {
     "name": "stdout",
     "output_type": "stream",
     "text": [
      "(80668, 7)\n"
     ]
    },
    {
     "data": {
      "text/html": [
       "<div>\n",
       "<style scoped>\n",
       "    .dataframe tbody tr th:only-of-type {\n",
       "        vertical-align: middle;\n",
       "    }\n",
       "\n",
       "    .dataframe tbody tr th {\n",
       "        vertical-align: top;\n",
       "    }\n",
       "\n",
       "    .dataframe thead th {\n",
       "        text-align: right;\n",
       "    }\n",
       "</style>\n",
       "<table border=\"1\" class=\"dataframe\">\n",
       "  <thead>\n",
       "    <tr style=\"text-align: right;\">\n",
       "      <th></th>\n",
       "      <th>UserId</th>\n",
       "      <th>ProductId</th>\n",
       "      <th>ProfileName</th>\n",
       "      <th>Time</th>\n",
       "      <th>Score</th>\n",
       "      <th>Text</th>\n",
       "      <th>COUNT(*)</th>\n",
       "    </tr>\n",
       "  </thead>\n",
       "  <tbody>\n",
       "    <tr>\n",
       "      <th>0</th>\n",
       "      <td>#oc-R115TNMSPFT9I7</td>\n",
       "      <td>B007Y59HVM</td>\n",
       "      <td>Breyton</td>\n",
       "      <td>1331510400</td>\n",
       "      <td>2</td>\n",
       "      <td>Overall its just OK when considering the price...</td>\n",
       "      <td>2</td>\n",
       "    </tr>\n",
       "    <tr>\n",
       "      <th>1</th>\n",
       "      <td>#oc-R11D9D7SHXIJB9</td>\n",
       "      <td>B005HG9ET0</td>\n",
       "      <td>Louis E. Emory \"hoppy\"</td>\n",
       "      <td>1342396800</td>\n",
       "      <td>5</td>\n",
       "      <td>My wife has recurring extreme muscle spasms, u...</td>\n",
       "      <td>3</td>\n",
       "    </tr>\n",
       "    <tr>\n",
       "      <th>2</th>\n",
       "      <td>#oc-R11DNU2NBKQ23Z</td>\n",
       "      <td>B007Y59HVM</td>\n",
       "      <td>Kim Cieszykowski</td>\n",
       "      <td>1348531200</td>\n",
       "      <td>1</td>\n",
       "      <td>This coffee is horrible and unfortunately not ...</td>\n",
       "      <td>2</td>\n",
       "    </tr>\n",
       "    <tr>\n",
       "      <th>3</th>\n",
       "      <td>#oc-R11O5J5ZVQE25C</td>\n",
       "      <td>B005HG9ET0</td>\n",
       "      <td>Penguin Chick</td>\n",
       "      <td>1346889600</td>\n",
       "      <td>5</td>\n",
       "      <td>This will be the bottle that you grab from the...</td>\n",
       "      <td>3</td>\n",
       "    </tr>\n",
       "    <tr>\n",
       "      <th>4</th>\n",
       "      <td>#oc-R12KPBODL2B5ZD</td>\n",
       "      <td>B007OSBE1U</td>\n",
       "      <td>Christopher P. Presta</td>\n",
       "      <td>1348617600</td>\n",
       "      <td>1</td>\n",
       "      <td>I didnt like this coffee. Instead of telling y...</td>\n",
       "      <td>2</td>\n",
       "    </tr>\n",
       "  </tbody>\n",
       "</table>\n",
       "</div>"
      ],
      "text/plain": [
       "               UserId   ProductId             ProfileName        Time  Score  \\\n",
       "0  #oc-R115TNMSPFT9I7  B007Y59HVM                 Breyton  1331510400      2   \n",
       "1  #oc-R11D9D7SHXIJB9  B005HG9ET0  Louis E. Emory \"hoppy\"  1342396800      5   \n",
       "2  #oc-R11DNU2NBKQ23Z  B007Y59HVM        Kim Cieszykowski  1348531200      1   \n",
       "3  #oc-R11O5J5ZVQE25C  B005HG9ET0           Penguin Chick  1346889600      5   \n",
       "4  #oc-R12KPBODL2B5ZD  B007OSBE1U   Christopher P. Presta  1348617600      1   \n",
       "\n",
       "                                                Text  COUNT(*)  \n",
       "0  Overall its just OK when considering the price...         2  \n",
       "1  My wife has recurring extreme muscle spasms, u...         3  \n",
       "2  This coffee is horrible and unfortunately not ...         2  \n",
       "3  This will be the bottle that you grab from the...         3  \n",
       "4  I didnt like this coffee. Instead of telling y...         2  "
      ]
     },
     "execution_count": 4,
     "metadata": {},
     "output_type": "execute_result"
    }
   ],
   "source": [
    "print(display.shape)\n",
    "display.head()"
   ]
  },
  {
   "cell_type": "code",
   "execution_count": 5,
   "metadata": {
    "colab": {},
    "colab_type": "code",
    "id": "OMKVKkH7iWNZ",
    "outputId": "acc9d31a-27a1-48a1-d2f2-ce1f2e511793"
   },
   "outputs": [
    {
     "data": {
      "text/html": [
       "<div>\n",
       "<style scoped>\n",
       "    .dataframe tbody tr th:only-of-type {\n",
       "        vertical-align: middle;\n",
       "    }\n",
       "\n",
       "    .dataframe tbody tr th {\n",
       "        vertical-align: top;\n",
       "    }\n",
       "\n",
       "    .dataframe thead th {\n",
       "        text-align: right;\n",
       "    }\n",
       "</style>\n",
       "<table border=\"1\" class=\"dataframe\">\n",
       "  <thead>\n",
       "    <tr style=\"text-align: right;\">\n",
       "      <th></th>\n",
       "      <th>UserId</th>\n",
       "      <th>ProductId</th>\n",
       "      <th>ProfileName</th>\n",
       "      <th>Time</th>\n",
       "      <th>Score</th>\n",
       "      <th>Text</th>\n",
       "      <th>COUNT(*)</th>\n",
       "    </tr>\n",
       "  </thead>\n",
       "  <tbody>\n",
       "    <tr>\n",
       "      <th>80638</th>\n",
       "      <td>AZY10LLTJ71NX</td>\n",
       "      <td>B006P7E5ZI</td>\n",
       "      <td>undertheshrine \"undertheshrine\"</td>\n",
       "      <td>1334707200</td>\n",
       "      <td>5</td>\n",
       "      <td>I was recommended to try green tea extract to ...</td>\n",
       "      <td>5</td>\n",
       "    </tr>\n",
       "  </tbody>\n",
       "</table>\n",
       "</div>"
      ],
      "text/plain": [
       "              UserId   ProductId                      ProfileName        Time  \\\n",
       "80638  AZY10LLTJ71NX  B006P7E5ZI  undertheshrine \"undertheshrine\"  1334707200   \n",
       "\n",
       "       Score                                               Text  COUNT(*)  \n",
       "80638      5  I was recommended to try green tea extract to ...         5  "
      ]
     },
     "execution_count": 5,
     "metadata": {},
     "output_type": "execute_result"
    }
   ],
   "source": [
    "display[display['UserId']=='AZY10LLTJ71NX']"
   ]
  },
  {
   "cell_type": "code",
   "execution_count": 6,
   "metadata": {
    "colab": {},
    "colab_type": "code",
    "id": "s37uqS_jiWNe",
    "outputId": "489f08d4-48a2-4e82-bfc1-4f982f35b2e4"
   },
   "outputs": [
    {
     "data": {
      "text/plain": [
       "393063"
      ]
     },
     "execution_count": 6,
     "metadata": {},
     "output_type": "execute_result"
    }
   ],
   "source": [
    "display['COUNT(*)'].sum()"
   ]
  },
  {
   "cell_type": "markdown",
   "metadata": {
    "colab_type": "text",
    "id": "efnNNqNfiWNh"
   },
   "source": [
    "#  [2] Exploratory Data Analysis"
   ]
  },
  {
   "cell_type": "markdown",
   "metadata": {
    "colab_type": "text",
    "id": "Eq0hnbxhiWNi"
   },
   "source": [
    "## [2.1] Data Cleaning: Deduplication\n",
    "\n",
    "It is observed (as shown in the table below) that the reviews data had many duplicate entries. Hence it was necessary to remove duplicates in order to get unbiased results for the analysis of the data.  Following is an example:"
   ]
  },
  {
   "cell_type": "code",
   "execution_count": 7,
   "metadata": {
    "colab": {},
    "colab_type": "code",
    "id": "3CKLJ2FFiWNj",
    "outputId": "c995e0c8-7ef1-48a0-d7a9-b0cc50efaa83",
    "scrolled": false
   },
   "outputs": [
    {
     "data": {
      "text/html": [
       "<div>\n",
       "<style scoped>\n",
       "    .dataframe tbody tr th:only-of-type {\n",
       "        vertical-align: middle;\n",
       "    }\n",
       "\n",
       "    .dataframe tbody tr th {\n",
       "        vertical-align: top;\n",
       "    }\n",
       "\n",
       "    .dataframe thead th {\n",
       "        text-align: right;\n",
       "    }\n",
       "</style>\n",
       "<table border=\"1\" class=\"dataframe\">\n",
       "  <thead>\n",
       "    <tr style=\"text-align: right;\">\n",
       "      <th></th>\n",
       "      <th>Id</th>\n",
       "      <th>ProductId</th>\n",
       "      <th>UserId</th>\n",
       "      <th>ProfileName</th>\n",
       "      <th>HelpfulnessNumerator</th>\n",
       "      <th>HelpfulnessDenominator</th>\n",
       "      <th>Score</th>\n",
       "      <th>Time</th>\n",
       "      <th>Summary</th>\n",
       "      <th>Text</th>\n",
       "    </tr>\n",
       "  </thead>\n",
       "  <tbody>\n",
       "    <tr>\n",
       "      <th>0</th>\n",
       "      <td>78445</td>\n",
       "      <td>B000HDL1RQ</td>\n",
       "      <td>AR5J8UI46CURR</td>\n",
       "      <td>Geetha Krishnan</td>\n",
       "      <td>2</td>\n",
       "      <td>2</td>\n",
       "      <td>5</td>\n",
       "      <td>1199577600</td>\n",
       "      <td>LOACKER QUADRATINI VANILLA WAFERS</td>\n",
       "      <td>DELICIOUS WAFERS. I FIND THAT EUROPEAN WAFERS ...</td>\n",
       "    </tr>\n",
       "    <tr>\n",
       "      <th>1</th>\n",
       "      <td>138317</td>\n",
       "      <td>B000HDOPYC</td>\n",
       "      <td>AR5J8UI46CURR</td>\n",
       "      <td>Geetha Krishnan</td>\n",
       "      <td>2</td>\n",
       "      <td>2</td>\n",
       "      <td>5</td>\n",
       "      <td>1199577600</td>\n",
       "      <td>LOACKER QUADRATINI VANILLA WAFERS</td>\n",
       "      <td>DELICIOUS WAFERS. I FIND THAT EUROPEAN WAFERS ...</td>\n",
       "    </tr>\n",
       "    <tr>\n",
       "      <th>2</th>\n",
       "      <td>138277</td>\n",
       "      <td>B000HDOPYM</td>\n",
       "      <td>AR5J8UI46CURR</td>\n",
       "      <td>Geetha Krishnan</td>\n",
       "      <td>2</td>\n",
       "      <td>2</td>\n",
       "      <td>5</td>\n",
       "      <td>1199577600</td>\n",
       "      <td>LOACKER QUADRATINI VANILLA WAFERS</td>\n",
       "      <td>DELICIOUS WAFERS. I FIND THAT EUROPEAN WAFERS ...</td>\n",
       "    </tr>\n",
       "    <tr>\n",
       "      <th>3</th>\n",
       "      <td>73791</td>\n",
       "      <td>B000HDOPZG</td>\n",
       "      <td>AR5J8UI46CURR</td>\n",
       "      <td>Geetha Krishnan</td>\n",
       "      <td>2</td>\n",
       "      <td>2</td>\n",
       "      <td>5</td>\n",
       "      <td>1199577600</td>\n",
       "      <td>LOACKER QUADRATINI VANILLA WAFERS</td>\n",
       "      <td>DELICIOUS WAFERS. I FIND THAT EUROPEAN WAFERS ...</td>\n",
       "    </tr>\n",
       "    <tr>\n",
       "      <th>4</th>\n",
       "      <td>155049</td>\n",
       "      <td>B000PAQ75C</td>\n",
       "      <td>AR5J8UI46CURR</td>\n",
       "      <td>Geetha Krishnan</td>\n",
       "      <td>2</td>\n",
       "      <td>2</td>\n",
       "      <td>5</td>\n",
       "      <td>1199577600</td>\n",
       "      <td>LOACKER QUADRATINI VANILLA WAFERS</td>\n",
       "      <td>DELICIOUS WAFERS. I FIND THAT EUROPEAN WAFERS ...</td>\n",
       "    </tr>\n",
       "  </tbody>\n",
       "</table>\n",
       "</div>"
      ],
      "text/plain": [
       "       Id   ProductId         UserId      ProfileName  HelpfulnessNumerator  \\\n",
       "0   78445  B000HDL1RQ  AR5J8UI46CURR  Geetha Krishnan                     2   \n",
       "1  138317  B000HDOPYC  AR5J8UI46CURR  Geetha Krishnan                     2   \n",
       "2  138277  B000HDOPYM  AR5J8UI46CURR  Geetha Krishnan                     2   \n",
       "3   73791  B000HDOPZG  AR5J8UI46CURR  Geetha Krishnan                     2   \n",
       "4  155049  B000PAQ75C  AR5J8UI46CURR  Geetha Krishnan                     2   \n",
       "\n",
       "   HelpfulnessDenominator  Score        Time  \\\n",
       "0                       2      5  1199577600   \n",
       "1                       2      5  1199577600   \n",
       "2                       2      5  1199577600   \n",
       "3                       2      5  1199577600   \n",
       "4                       2      5  1199577600   \n",
       "\n",
       "                             Summary  \\\n",
       "0  LOACKER QUADRATINI VANILLA WAFERS   \n",
       "1  LOACKER QUADRATINI VANILLA WAFERS   \n",
       "2  LOACKER QUADRATINI VANILLA WAFERS   \n",
       "3  LOACKER QUADRATINI VANILLA WAFERS   \n",
       "4  LOACKER QUADRATINI VANILLA WAFERS   \n",
       "\n",
       "                                                Text  \n",
       "0  DELICIOUS WAFERS. I FIND THAT EUROPEAN WAFERS ...  \n",
       "1  DELICIOUS WAFERS. I FIND THAT EUROPEAN WAFERS ...  \n",
       "2  DELICIOUS WAFERS. I FIND THAT EUROPEAN WAFERS ...  \n",
       "3  DELICIOUS WAFERS. I FIND THAT EUROPEAN WAFERS ...  \n",
       "4  DELICIOUS WAFERS. I FIND THAT EUROPEAN WAFERS ...  "
      ]
     },
     "execution_count": 7,
     "metadata": {},
     "output_type": "execute_result"
    }
   ],
   "source": [
    "display= pd.read_sql_query(\"\"\"\n",
    "SELECT *\n",
    "FROM Reviews\n",
    "WHERE Score != 3 AND UserId=\"AR5J8UI46CURR\"\n",
    "ORDER BY ProductID\n",
    "\"\"\", con)\n",
    "display.head()"
   ]
  },
  {
   "cell_type": "markdown",
   "metadata": {
    "colab_type": "text",
    "id": "GmHe67iviWNn"
   },
   "source": [
    "As it can be seen above that same user has multiple reviews with same values for HelpfulnessNumerator, HelpfulnessDenominator, Score, Time, Summary and Text and on doing analysis it was found that <br>\n",
    "<br> \n",
    "ProductId=B000HDOPZG was Loacker Quadratini Vanilla Wafer Cookies, 8.82-Ounce Packages (Pack of 8)<br>\n",
    "<br> \n",
    "ProductId=B000HDL1RQ was Loacker Quadratini Lemon Wafer Cookies, 8.82-Ounce Packages (Pack of 8) and so on<br>\n",
    "\n",
    "It was inferred after analysis that reviews with same parameters other than ProductId belonged to the same product just having different flavour or quantity. Hence in order to reduce redundancy it was decided to eliminate the rows having same parameters.<br>\n",
    "\n",
    "The method used for the same was that we first sort the data according to ProductId and then just keep the first similar product review and delelte the others. for eg. in the above just the review for ProductId=B000HDL1RQ remains. This method ensures that there is only one representative for each product and deduplication without sorting would lead to possibility of different representatives still existing for the same product."
   ]
  },
  {
   "cell_type": "code",
   "execution_count": 8,
   "metadata": {
    "colab": {},
    "colab_type": "code",
    "id": "wgmdXIJviWNn"
   },
   "outputs": [],
   "source": [
    "#Sorting data according to ProductId in ascending order\n",
    "sorted_data=filtered_data.sort_values('ProductId', axis=0, ascending=True, inplace=False, kind='quicksort', na_position='last')"
   ]
  },
  {
   "cell_type": "code",
   "execution_count": 9,
   "metadata": {
    "colab": {},
    "colab_type": "code",
    "id": "ComjQ0rHiWNp",
    "outputId": "1c155404-4bb7-4078-c46b-1a9a33ac0602"
   },
   "outputs": [
    {
     "data": {
      "text/plain": [
       "(364173, 10)"
      ]
     },
     "execution_count": 9,
     "metadata": {},
     "output_type": "execute_result"
    }
   ],
   "source": [
    "#Deduplication of entries\n",
    "final=sorted_data.drop_duplicates(subset={\"UserId\",\"ProfileName\",\"Time\",\"Text\"}, keep='first', inplace=False)\n",
    "final.shape"
   ]
  },
  {
   "cell_type": "code",
   "execution_count": 10,
   "metadata": {
    "colab": {},
    "colab_type": "code",
    "id": "yFrWiU23iWNt",
    "outputId": "b9d26952-d8af-4fbb-eb3d-c6a28abcc029"
   },
   "outputs": [
    {
     "data": {
      "text/plain": [
       "69.25890143662969"
      ]
     },
     "execution_count": 10,
     "metadata": {},
     "output_type": "execute_result"
    }
   ],
   "source": [
    "#Checking to see how much % of data still remains\n",
    "(final['Id'].size*1.0)/(filtered_data['Id'].size*1.0)*100"
   ]
  },
  {
   "cell_type": "markdown",
   "metadata": {
    "colab_type": "text",
    "id": "g4lvCHn6iWNw"
   },
   "source": [
    "<b>Observation:-</b> It was also seen that in two rows given below the value of HelpfulnessNumerator is greater than HelpfulnessDenominator which is not practically possible hence these two rows too are removed from calcualtions"
   ]
  },
  {
   "cell_type": "code",
   "execution_count": 11,
   "metadata": {
    "colab": {},
    "colab_type": "code",
    "id": "6ehzwEdgiWNw",
    "outputId": "60e18da4-784f-49d8-84b7-59823cfa3e85"
   },
   "outputs": [
    {
     "data": {
      "text/html": [
       "<div>\n",
       "<style scoped>\n",
       "    .dataframe tbody tr th:only-of-type {\n",
       "        vertical-align: middle;\n",
       "    }\n",
       "\n",
       "    .dataframe tbody tr th {\n",
       "        vertical-align: top;\n",
       "    }\n",
       "\n",
       "    .dataframe thead th {\n",
       "        text-align: right;\n",
       "    }\n",
       "</style>\n",
       "<table border=\"1\" class=\"dataframe\">\n",
       "  <thead>\n",
       "    <tr style=\"text-align: right;\">\n",
       "      <th></th>\n",
       "      <th>Id</th>\n",
       "      <th>ProductId</th>\n",
       "      <th>UserId</th>\n",
       "      <th>ProfileName</th>\n",
       "      <th>HelpfulnessNumerator</th>\n",
       "      <th>HelpfulnessDenominator</th>\n",
       "      <th>Score</th>\n",
       "      <th>Time</th>\n",
       "      <th>Summary</th>\n",
       "      <th>Text</th>\n",
       "    </tr>\n",
       "  </thead>\n",
       "  <tbody>\n",
       "    <tr>\n",
       "      <th>0</th>\n",
       "      <td>64422</td>\n",
       "      <td>B000MIDROQ</td>\n",
       "      <td>A161DK06JJMCYF</td>\n",
       "      <td>J. E. Stephens \"Jeanne\"</td>\n",
       "      <td>3</td>\n",
       "      <td>1</td>\n",
       "      <td>5</td>\n",
       "      <td>1224892800</td>\n",
       "      <td>Bought This for My Son at College</td>\n",
       "      <td>My son loves spaghetti so I didn't hesitate or...</td>\n",
       "    </tr>\n",
       "    <tr>\n",
       "      <th>1</th>\n",
       "      <td>44737</td>\n",
       "      <td>B001EQ55RW</td>\n",
       "      <td>A2V0I904FH7ABY</td>\n",
       "      <td>Ram</td>\n",
       "      <td>3</td>\n",
       "      <td>2</td>\n",
       "      <td>4</td>\n",
       "      <td>1212883200</td>\n",
       "      <td>Pure cocoa taste with crunchy almonds inside</td>\n",
       "      <td>It was almost a 'love at first bite' - the per...</td>\n",
       "    </tr>\n",
       "  </tbody>\n",
       "</table>\n",
       "</div>"
      ],
      "text/plain": [
       "      Id   ProductId          UserId              ProfileName  \\\n",
       "0  64422  B000MIDROQ  A161DK06JJMCYF  J. E. Stephens \"Jeanne\"   \n",
       "1  44737  B001EQ55RW  A2V0I904FH7ABY                      Ram   \n",
       "\n",
       "   HelpfulnessNumerator  HelpfulnessDenominator  Score        Time  \\\n",
       "0                     3                       1      5  1224892800   \n",
       "1                     3                       2      4  1212883200   \n",
       "\n",
       "                                        Summary  \\\n",
       "0             Bought This for My Son at College   \n",
       "1  Pure cocoa taste with crunchy almonds inside   \n",
       "\n",
       "                                                Text  \n",
       "0  My son loves spaghetti so I didn't hesitate or...  \n",
       "1  It was almost a 'love at first bite' - the per...  "
      ]
     },
     "execution_count": 11,
     "metadata": {},
     "output_type": "execute_result"
    }
   ],
   "source": [
    "display= pd.read_sql_query(\"\"\"\n",
    "SELECT *\n",
    "FROM Reviews\n",
    "WHERE Score != 3 AND Id=44737 OR Id=64422\n",
    "ORDER BY ProductID\n",
    "\"\"\", con)\n",
    "\n",
    "display.head()"
   ]
  },
  {
   "cell_type": "code",
   "execution_count": 12,
   "metadata": {
    "colab": {},
    "colab_type": "code",
    "id": "EBa1d6gViWNz"
   },
   "outputs": [],
   "source": [
    "final=final[final.HelpfulnessNumerator<=final.HelpfulnessDenominator]"
   ]
  },
  {
   "cell_type": "code",
   "execution_count": 13,
   "metadata": {
    "colab": {},
    "colab_type": "code",
    "id": "KNQ01asjiWN1",
    "outputId": "0d2433fb-dd33-41cd-a18d-110d776f60b4"
   },
   "outputs": [
    {
     "name": "stdout",
     "output_type": "stream",
     "text": [
      "(364171, 10)\n"
     ]
    },
    {
     "data": {
      "text/plain": [
       "1    307061\n",
       "0     57110\n",
       "Name: Score, dtype: int64"
      ]
     },
     "execution_count": 13,
     "metadata": {},
     "output_type": "execute_result"
    }
   ],
   "source": [
    "#Before starting the next phase of preprocessing lets see the number of entries left\n",
    "print(final.shape)\n",
    "\n",
    "#How many positive and negative reviews are present in our dataset?\n",
    "final['Score'].value_counts()"
   ]
  },
  {
   "cell_type": "code",
   "execution_count": null,
   "metadata": {},
   "outputs": [],
   "source": [
    "reviews_array = final['Text'].values\n",
    "\n",
    "for i in reviews_array:\n",
    "    reviews_array = reviews_array + ' '"
   ]
  },
  {
   "cell_type": "code",
   "execution_count": 23,
   "metadata": {},
   "outputs": [
    {
     "data": {
      "text/plain": [
       "Counter({\"this witty little book makes my son laugh at loud. i recite it in the car as we're driving along and he always can sing the refrain. he's learned about whales, India, drooping roses:  i love all the new words this book  introduces and the silliness of it all.  this is a classic book i am  willing to bet my son will STILL be able to recite from memory when he is  in college\": 1,\n",
       "         'I grew up reading these Sendak books, and watching the Really Rosie movie that incorporates them, and love them. My son loves them too. I do however, miss the hard cover version. The paperbacks seem kind of flimsy and it takes two hands to keep the pages open.': 1,\n",
       "         'This is a fun way for children to learn their months of the year!  We will learn all of the poems throughout the school year.  they like the handmotions which I invent for each poem.': 1,\n",
       "         'This is a great little book to read aloud- it has a nice rhythm as well as good repetition that little ones like, in the lines about \"chicken soup with rice\".  The child gets to go through the months of the year and go to wonderful places like Bombay and down the Nile, all the while, eating, well, you know what they get to eat.  Some kids will have Maurice Sendak\\'s version of ice skating or how to treat roses in their heads for a long time and they won\\'t even know where it came from.  Surprise!  It came from this little witty book.  :-)': 1,\n",
       "         \"This is a book of poetry about the months of the year.  It goes through each month and has a cute little poem to go along with it.  I love this book because it is a really fun way to learn the months and the poems are very creative. The author's purpose for writing this book was to give children a fun way to learn the months.  The children can also learn things about poetry and rhythm through reading this book.\": 1,\n",
       "         \"A charming, rhyming book that describes the circumstances under which you eat (or don't) chicken soup with rice, month-by-month. This sounds like the kind of thing kids would make up while they're out of recess and sing over and over until they drive the teachers crazy. It's cute and catchy and sounds really childlike but is skillfully written.\": 1,\n",
       "         \"I set aside at least an hour each day to read to my son (3 y/o). At this point, I consider myself a connoisseur of children's books and this is one of the best. Santa Clause put this under the tree. Since then, we've read it perpetually and he loves it.<br /><br />First, this book taught him the months of the year.<br /><br />Second, it's a pleasure to read. Well suited to 1.5 y/o old to 4+.<br /><br />Very few children's books are worth owning. Most should be borrowed from the library. This book, however, deserves a permanent spot on your shelf. Sendak's best.\": 1,\n",
       "         \"I remembered this book from my childhood and got it for my kids.  It's just as good as I remembered and my kids love it too.  My older daughter now reads it to her sister.  Good rhymes and nice pictures.\": 1,\n",
       "         \"It's a great book with adorable illustrations.  A true classic.  Kids love the poem and there is music that goes with it, if you can find it.  I think it's sung by Carol King.\": 1,\n",
       "         'This book is a family favorite and was read to my children over and over again when they were small.  We ordered it for a new mom-to-be so that she and her family can enjoy it too!': 1,\n",
       "         'Get the movie or sound track and sing along with Carol King. This is great stuff, my whole extended family knows these songs by heart. Quality kids storytelling and music.': 1,\n",
       "         'The same author wrote \"Where the Wild Things Are.\"  Carol King wrote a great song that matches all the lyrics.  The illustrations are fabulous.  I wish I could buy it hardbound and larger.  It is a tiny book and easily misplaced.  My 3 year-old carries it everywhere.': 1,\n",
       "         'Great book, perfect condition arrived in a short amount of time, long before the expected delivery date': 1,\n",
       "         \"I've always loved chicken soup and rice. My late great-grandmother, Ethel, always made me homemade chicken, chicken soup and rice. This book takes me back to the days my mother, my father, my sister, and I went to Ethel's house. My late great-grandfather, Isadore, would cook the chicken because Ethel was blind. So, it reminds me of the time we were all together as a family. It brings back happy memories of all the love we shared over bowls of hot soup.\": 1,\n",
       "         'This book was purchased as a birthday gift for a 4 year old boy. He squealed with delight and hugged it when told it was his to keep and he did not have to return it to the library.': 1,\n",
       "         \"My 7 year old daughter brought this book home from the school library. It was a little easy for her reading skills, but she loved it anyways. My 4 year old daughter started reading it and now we can't get her to return it to school. The book is small but this is better for little hands. This is a great book for any age! The pictures are cute and go well with the writing. The rhyming makes it easy to get to know the months. I recommend this book to every parent!\": 1,\n",
       "         'This book contains a collection of twelve short statements, all of which end with the phrase \"Chicken Soup with Rice.\" Each one is based on a month of the year and they have some elements of nonsense verse. For that reason, children will find them entertaining and they will generate a few giggles.': 1,\n",
       "         \"Summary:  A young boy describes the usefulness of chicken soup with rice for each month of the year.<br /><br />Evaluation:  With Sendak's creative repetitious and rhythmic words, children will enjoy and learn to read the story of a boy who loves chicken soup with rice!  Through Sendak's catchy story, children will also learn the months of the year, as well as what seasons go with what month! They learn to identify ice-skating and snowmen in the winter; strong wind in March; birds and flowers in the spring; swimming and hot temperatures in the summer; and finally different holidays throughout the year. Such as Halloween in October, and Christmas in December.<br /><br />Sendak's simple three colored crayon-like drawings are a perfect addition to his educational and entertaining story.<br /><br />A great activity that you can do with this book is to have children draw their own illustrations for each month of the year.  Afterwards you can bind the pages together so the children can create their own book.\": 1,\n",
       "         'My daughter loves all the \"Really Rosie\" books. She was introduced to the Really Rosie CD performed by Carole King (also available on Amazon!) on her 1st Birthday and now, a year later, she knows all the songs. As far as the books go, we own: One Was Johnny, Alligators All Around, & Chicken Soup w/Rice. These books are well written with clever art work by Maurice Sendak. Plus, they are really cheap!! Highly recommended :)': 1,\n",
       "         \"This is one of the best children's books ever written but it is a mini version of the book and was not portrayed as one.  It is over priced for the product.  I sent an email regarding my bewilderment  to Amazon and got no response.\": 1,\n",
       "         \"In June<br />I saw a charming group<br />of roses all begin<br />to droop<br />I pepped them up<br />with chicken soup!<br />Sprinkle once<br />sprinkle twice<br />sprinkle chicken soup<br />with rice<br /><br />This is a great book to teach children the months of the year. The repetition of the phrases and the funny little stories with accompanying pictures make for an ideal bedtime read. This isn't nearly as good as some of Sendak's other books (like Where the Wild Things are or Pierre: The Boy Who Didn't Care), but it still carries his unique brand of charm.\": 1,\n",
       "         \"Classic children's book, can't go wrong. I read it when i was a kid and ordered it 20yrs later. can't beat that.\": 1,\n",
       "         \"A very entertaining rhyming story--cleaver and catchy.The illustrations are imaginative and fit right in. However, the paperback is somewhat small and flimsy. I'd opt for a bigger edition.\": 1,\n",
       "         'TITLE: Chicken Soup with Rice<br />AUTHOR: Maurice Sendak<br />REVIEWER: Josh Grossman, Colonel {r}, U.S.A.R., M.C., M.D., FACP<br />Rural physician/author/educator-Mentor U.S.M.L.E. Step 3...<br />>Who would believe that I have memorized this book?<br />>Who would believe that I can recite any month in any order?<br />>Who would believe that I read my copy to tatters while reading to my children now professional adults?<br />>Who would believe that my grandchildren read their copy to tatters?<br />I can be confident that generations of children will enjoy \"Chicken Soup with Rice\"<br />Bravo!<br />Thank you!<br />Respectfully submitted...': 1,\n",
       "         'This is a wonderful little book. I loved it 40 years ago and my twins love it now. They enjoy helping me finish each month by singing \"... chicken soup with rice!\"<br /><br />The cute drawings add to the fun -- but be warned, one of them is very un-PC! We\\'re not in 1962 any more, Toto.': 1,\n",
       "         'All of my children love this book.  My first grader got it for Christmas and loves to read the rhymes.  She is proud that she can do it herself.  (Each month her teacher works on a month from the book with the class-not that she reads independently yet.)  My girls especially enjoy reading the month they were born and singing \"going once, going twice, going chicken soup with rice\".  This book is a classic that I remember from my childhood.  I highly recommend it.  I just wish the book was a larger size.  It tends to get lost in the bookshelf among regular sized books.': 1,\n",
       "         'One of my earliest memories is of this book.  My mother, who read to us constantly, read this one to us, and we quoted it non-stop.  In fact, that was a typical sort of soup we would beg for at the grocery because of this book!<br /><br />Since then, I have used the book in every class/teaching situation I have been in.  I have never met a child who did not LOVE it, and ask to be read it again and again.  It sure beats all those stupid songs you sing in preschool about the months of the year! :)  Even if you are not a Maurice Sendak fan, you will enjoy this one, because it is so original and poetic.': 1,\n",
       "         \"This is my grand daughter's and my favorite book to read. She is 4 and loves the rhythm of this cute story! I actually enjoy reading it over...and over....and over.....\": 1,\n",
       "         \"This copy is smaller than I expected (mostly because I didn't pay attention to the listed dimensions of the book). Maurice Sendak is a wonder, and this little book of months and rhymes is absolutely silly and so much fun to read. I remember it fondly as a child, and I wanted to make sure I had it for my little one's book shelf. Very cute way to teach the months of the year (not to mention celebrating my own personal love of soup) and beautifully illustrated in the way only Sendak can.\": 1,\n",
       "         \"I give five stars to the Maurice Sendak story. One star for this printed edition of the book.<br />My children had an older copy this book, so I was very familiar with the previous softcover version. I ordered this for my granddaughters, but I'm embarrassed to give it as a gift, it looks so puny. The book is about the size of a postcard and I think it's overpriced. I've learned my lesson: I will not be buying any more softcover children books, next time I'll get a used copy.\": 1,\n",
       "         \"I can remember seeing the show when it aired on television years ago, when I was a child.  My sister later bought me the LP (which I have to this day,  I'm thirty something).I used this series of books &amp; songs when I did my  student teaching for preschoolers &amp; turned the whole school on to it.  I am now purchasing it on CD, along with the books for my children 5 &amp;  2.  The tradition lives on!\": 1,\n",
       "         'These days, when a person says, \"chicken soup\" they\\'re probably going to follow up those words with, \"for the soul\" or maybe \"for the teenaged soul\".  Didn\\'t used to be that way.  Why I can remember a time when if a person said, \"chicken soup\" those words were followed by an enthusiastic \"with rice!\".  Such was the power of Maurice Sendak\\'s catchy 1962 children\\'s book.  I am pleased to report that if you care to read this book again today, you will find it hasn\\'t dimished a jot in terms of frolicksome fun.  In this book we are led through a whirlwind chicken soup year with our host, a boy who bears no little resemblance to Sendak\\'s other great rhyming tale \"Pierre\" (in looks if not demeanor).  It\\'s a catchy flouncy bouncy combo of soup and the people who love it so.<br /><br />This is ostensibly a book meant to teach your children the different months of the year.  Each month gets its own rhythmic poem and accompanying illustration.  These are fairly simple pen and ink drawings with the occasional splash of blue (in varying shades), yellow, gray, and green.  You may wonder how an author could ever hope to come up with twelve highly original soup-related poems.  I mean, honestly, how much is there to say about even the fanciest soup, let alone chicken soup with rice?  Quite a lot, as it happens.  In the cold winter months soup is supped while sliding on ice, while celebrating the birthday of a snowman, and in a gusty gale as a whale.  In the spring there\\'s robin\\'s nest soup, soup to cure drooping roses, and soup stolen by jealous March winds.  Our hero postulates the potential joys that could come of being a cooking pot, stewing soup or (oddly enough) as \"a baubled bangled Christmas tree\".<br /><br />Not to degrade the reading skills of parents everywhere, but I cannot recommend enough getting an audio version of this tale to accompany your child\\'s reading.  Though I am now a wise and cultured 26 year-old (the years have been kind to me in this, my old age) I can still remember the chicken soup with rice tune.  Heck, I read this entire book recently and found I could do the song perfectly with each and every line.  Now maybe you have your own particular chicken soup with rice song style that you\\'re just loathe to give up.  If so, fine.  I understand why you might not want to taint your already existing chicken soup melody.  But if you haven\\'t found a jingle to accompany this book, get the audio version immediately, if not sooner.  Until you can sing \"Whoopy once, whoopy twice, whoopy chicken soup with rice\" with the correct oomph, you\\'re missing out.<br /><br />I take my \"Chicken Soup With Rice\" readings seriously.  This book was the \"Chicka Chicka Boom Boom\" of its day, and still remains the catchiest method to teach kids the months of the year.  It is also seriously in danger of being forgotten.  So pull out your old accordion and strap on your dancing shoes.  The time for yukkin\\' it up to a merry dance of poultry broth is here.  It\\'s Sendak at his finest.': 1,\n",
       "         \"This was a favorite book of mine when I was a little girl and I would read it all the time and my Mom would read it to me as a bedtime book, I have had two copies of this book the first one had been either lost or given away but I found another copy at a garage sale and it was in very good condition and I just had to buy it, I don't know where it is but it's around somewhere probably up in the attic and I will have to look for it so I can read it to my niece. I recommend this book!\": 1,\n",
       "         'This book has been a favorite of mine since I was able to read. It was one of my first introductions to poetry, and the humorous rhymes have been an inspiration to me in my own writing. This is the type of book that college students reminisce about and bond over--it really is that simple and good.': 1,\n",
       "         'This product by Archer Farms is the best drink mix ever. Just mix a flavored packet with your 16 oz. water bottle. Contains the all natural sweetner Stevia, real fruit flavoring and no food coloring. Just colored with fruit or vegetable colors. Pure and natural and tastes great. There are eight packets in a box and only contains 10 calories per packet. Thank you Archer Farms!': 1,\n",
       "         'Our dogs just love them.  I saw them in a pet store and a tag was attached regarding them being made in China and it satisfied me that they were safe.': 1,\n",
       "         'My dogs loves this chicken but its a product from China, so we wont be buying it anymore.  Its very hard to find any chicken products made in the USA but they are out there, but this one isnt.  Its too bad too because its a good product but I wont take any chances till they know what is going on with the china imports.': 1,\n",
       "         'This book is easy to read and the ingredients are available in stores unlike some recipe books where you have to go to special stores to find ingredients. I use it to make food not only for my son but for myself!  The only thing I wish was that there were more recipes like these.  It is great for any one who likes a healthy and yummy snack.': 1,\n",
       "         'I have been feeding my greyhounds these treats for years.  My hounds can be a little finicky, but they love these treats.  They are expensive, relative to other biscuits, but I find they are a good addition to their diet.  The treats are easy on the teeth.  Since they are protein treat, be careful not to overindulge your pet on a regular basis.  They are great treats to take on walks as you can stuff them in your pocket easily.  I have found prices can vary from vendor to vendor, so shop around.': 1,\n",
       "         'This is one product that my welsh terrier can eat. Sophie has food alergies so I have to be very careful in what I feed her. My other dog Oscar, also gets these treats and loves them. He has no food alergies. This product is just simple ingredients, no additives, and that is what my dogs need.': 1,\n",
       "         'This is the ONLY dog treat that my Lhasa Apso will eat. It makes me happ becuase it has NO added ingredients or preservatives, as well as NO ADDED SALT! This is the ONLY dog treat that my Vet approves of!': 1,\n",
       "         'These liver treas are phenomenal. When i received the 14oz. bucket by amazon i began training my 3month old Alaskan malamute. Now that a month has passed by, she now knows: Sit, Stay, Down, Paw, & SPEAK! My bucket is almost empty as it only lasted for about a month but was worth every penny as ive read malamutes are very stubborn quite dogs. I gave some to my 2 poodles where they gobbled it down and were begging for more. These treats are highly recommended, plus the liver cubes can be further broken down into quadrants. A+++ product': 1,\n",
       "         \"This was the only treat my dog liked during obedience training and it has remained her favorite ever since.  I haven't met a dog that didn't like this treat!\": 1,\n",
       "         'No waste , even if she is having a  day when she goes on a hunger strike  she always room for one or 2 or 3 of these and the extra powder on bottom makes a real treat on food , Never met a pooch that did not go crazy over her treats !': 1,\n",
       "         'I wanted a treat that was accepted and well liked for my rescue animals.<br />This is the only treat that is healthy and loved by all 4 legged beings in my home!<br />It does not contain sugar or grains or silly vegetables which virtually all treats contain. Dogs, cats and ferrets are carnivores they are not cattle to eat grain or rabbits to eat vegetables, and WHYYYY do companies add sugar,beet pulp or corn syrup to carnivore foods? It is dangerous and can cause the death of an animal with diabetes.<br />It is pretty easy to break into smaller pieces for cats and kittens with weak jaws and its wonderful to use as an aid to gain the trust of an abused dog as it will not cause stomach upset when given in common sense amounts.<br />I like that it goes a long way as it costs alot to heal and maintain and train abused and rescued dogs.<br />NO minus to this product other then the price,I can not afford to use it as much as I would like.': 1,\n",
       "         'My Westie loves these things!  She loves anything with liver but this one is the best.  Expensive by weight, but well worth it.  The freeze-drying process concentrates the flavor and nutrition:  Susie gives it 5 snouts!': 1,\n",
       "         'This is the only dog treat that my terrier will eat. We crumble over his dry food and he LOVES it.': 1,\n",
       "         \"New puppy loves this, only treat he will pay attention to while walking and training. One note, pieces are quite large so I cut them up into smaller pieces so their recommended daily amount goes further.<br /><br />All the dogs in the dog park can't resist my pocket when I have these treats. Usually surrounded by a crowd of dogs all poking at my pocket.\": 1,\n",
       "         'My dog loves these treats!  We started using them for training purposes.  The treats of healthy too!': 1,\n",
       "         'This is a great treat which all three of my dogs absolutely love!  I am now ordering it regularly and the price is great.': 1,\n",
       "         'We were buying thses from our vet, but they are so expensive. So glad we found them online.  Our dog loves these! Thanks!': 1,\n",
       "         'This is a healthy and good snack for my dog.  It is a great training produst too.  When you take into account that a couple are all she needs it is a good value.': 1,\n",
       "         \"Our two dogs love this product, and we love the fact that it's not loaded with chemical preservatives and fillers.  The fact that the pieces are irregular is not a drawback and is not surprising.  I do cut up the larger pieces as I don't want to give them too much at once.  The prospect of getting one of these treats makes them much more receptive to training and just coming when you call.  Also, we find the largest size very economical as you don't pay for shipping.\": 1,\n",
       "         'My dogs LOVE this product. They beg for them. They also came recommended by our animal trainer.  My only issue is that I took advantage of the Super Shipper Saver and for some reason it took almost a month to get here. VERY VERY slow shipping.': 1,\n",
       "         'My dogs love these treats.  They beg for them and sometimes I sprinkle these treats on top of their food for a special treat.  Also Amazon ships very fast so I get them quickly.': 1,\n",
       "         'product is excellent as a training treat or just an everyday treat.  My dog absolutely loves them.': 1,\n",
       "         'Its a great product, and our dog loves them.  But I see that Amazon lists some sellers of \"used and new\".....I wouldn\\'t recommend buying these used.': 1,\n",
       "         \"Freeze dried liver has a hypnotic effect on dogs. They LOVE it and will do just about anything for it, so it is a great treat to use for training. (Powdered freeze dried liver is even added to many dog medicines nowadays-- heartworm and arthritis tablets, etc.-- because it causes the dog to scarf the medicine down like a treat.)<br /><br />Freeze dried liver has a dry, hard, yet powdery/easy to chew consistency. It comes chopped/cubed. It is extremely lightweight due to the fact there is so little moisture in the product (thus the low weights on product labels).<br /><br />Even though your dog will love liver treats, you shouldn't overfeed it. The manufacturer recommends 1-2 cubes daily for small dogs, 2-3 cubes for medium dogs, and 3-4 cubes for large dogs.<br /><br />The largest package sizes of liver treats tend to be far more economical. I recommend buying the larger tubs, as you will save lots of money, you'll have a handy treat supply around for a longer time, and your dog will never tire of this product.<br /><br />There is really zero waste with this product. When you near the end of the tub you'll find some powdery bits of dried liver at the bottom. Your dogs will go CRAZY if you sprinkle this dust over their dog food-- it's a wonderful reward that is easy to use.<br /><br />~~~~~~~~~~~~~~~~~~<br />Here's the nutritional analysis:<br /><br />-100% freeze dried liver<br />-NO additives or preservatives.<br /><br />-Crude protein..... not less than 50%<br />-Crude fat..... not less than 5%<br />-Crude fiber..... not more than 3%<br />-Moisture..... not more than 6%\": 1,\n",
       "         \"These liver treats are great for training. We adopted a German Shepherd puppy and have been using these to teach her basic commands. She goes bananas for these and learned very quickly even though she's a VERY stubborn pup. Since she's still small I cut the large cubes into thirds or quarters(she doesn't know and doesn't mind)to make our training sessions go further since it's recommended that you give only a few treats a day to avoid digestion problems. Also, compared to other liver treats on the market, this brand only uses 100% beef liver, no preservatives, fillers, or other stuff your dog doesn't need. The treats also keep indefinitely in the container if kept in a cool, dry place. The 21 oz. bucket is the most economical buy. We've had our pup 2+ months and the bucket is still mostly full. (Psst! - KV Pet Supply has the best online price- $24.99 for a 21oz. container) Highly recommended!\": 1,\n",
       "         'I have tried several different kinds of training treats from pet stores and they all either made my English Bulldog puppy sick or lose interest. The liver is working great she absolutely loves them and they keep her attention 100%!': 1,\n",
       "         \"Freeze dried liver has a hypnotic effect on dogs.  They LOVE it and will do just about anything for it, so it is a great treat to use for training.  (Powdered freeze dried liver is even added to many dog medicines nowadays-- heartworm and arthritis tablets, etc.-- because it causes the dog to scarf the medicine down like a treat.)<br /><br />Freeze dried liver has a dry, hard, yet powdery/easy to chew consistency.  It comes chopped/cubed.  It is extremely lightweight due to the fact there is so little moisture in the product (thus the low weights on product labels).<br /><br />Even though your dog will love liver treats, you shouldn't overfeed it.  The manufacturer recommends 1-2 cubes daily for small dogs, 2-3 cubes for medium dogs, and 3-4 cubes for large dogs.<br /><br />The largest package sizes of liver treats tend to be far more economical.  I recommend buying the larger tubs, as you will save lots of money, you'll have a handy treat supply around for a longer time, and your dog will never tire of this product.<br /><br />~~~~~~~~~~~~~~~~~~<br />Here's the nutritional analysis:<br /><br />-100% freeze dried liver<br />-NO additives or preservatives.<br /><br />-Crude protein..... not less than 50%<br />-Crude fat.....  not less than 5%<br />-Crude fiber.....  not more than 3%<br />-Moisture.....  not more than 6%\": 1,\n",
       "         \"He loves the Liver treats and the Lamb treats. They're not much to look at (simple cubes) but he starts to lick his lips whenever he hears me get the can!\": 1,\n",
       "         'When you first give them out, be careful, you might just draw back a nub! Our oldest dog was very nonchalant about her treats. We just about had to beg her to eat them. NOT THESE. She went nuts over these and looked forward to them every night. The vet said I should give her liver to build her red blood cells up. It helped buy us a little longer with her I think. Now the other 2 dogs are addicted to them also! It is a HEALTHY treat that they love. They would eat the whole tub in one sitting if I would let them! It has no awful liver smell either!': 1,\n",
       "         'These items were delivred quickly and exactly as promised.  Thank you.  Super large container and the pieces were well intact.<br />Thanks you.': 1,\n",
       "         'My 2 year old German Shepherd loves this treat.  I keep it on my counter as a quick and handy treat for \"mini, spontaneous training sessions\".  The only issue I have is that most of the treats are a bit big and difficult to break into smaller pieces which is necessary for obedience classes where we go through many treats.  Therefore, I do not use these treats for that purpose.  (The container recommends only 3-4 cubes per day for large dogs).  Having said that, they are an excellent treat for occasional use and I would highly recommend them.': 1,\n",
       "         'My dogs love this stuff! They will do anything for liver treats!<br />Be careful, very rich, a little goes a very long way, give sparingly!!!!': 1,\n",
       "         'Received very timely, and packed safely; no burst packaging.  Really glad that these people make large enough buckets of this wonderful treat that it makes it affordable.  Dogs love these little cube treats, and they are always fresh since they are freeze dried.': 1,\n",
       "         'My dogs love these treats and I was buying them from the vet at double the price!  Great deal, great service!': 1,\n",
       "         'These Dried Dog Treats are great.  My dog was diagnoised with diabetes and these are a low fat treat for him and he loves them.': 1,\n",
       "         \"This product is a very health snack for your pup as it is made of 100% beef liver. My puppy does all of his tricks to get this treat. It is a little pricy but the container is large so it should last a long time as long as you don't overfeed.\": 1,\n",
       "         'My girls love these. I cut them up smaller and use them for training. Definately able to keep the dogs attention when they know something yummy and tasty is coming their way. The price was right too for the amount. As long as the price remains perfect I plan on having a steady supply of this great product!': 1,\n",
       "         'This is 2.5 oz larger than what you can find in pet stores and less expensive. Shipped day the it was ordered and arrived 2 days later with prime.': 1,\n",
       "         \"I have one dog that is a picky eater. I crumble this liver treat into her food bowl and she loves it. If you have a dog that doesn't eat, try this, you won't be disappointed.\": 1,\n",
       "         'My Golden can get picky and eating is not a priority for him. I was worried during training he was going to be too anxious to not eat any training treats. Well...these he will eat and I am very great-full! However, they do not have the best smell (definitely not something I would eat). :) Will be purchasing more.': 1,\n",
       "         'We cut these up into small pieces for our Corgi pup (so each treat actually becomes 8-10 mini treats) to prevent throwing off his diet.  This allows us to give him multiple treats for going potty outside (like 3-5 mini treats each time).  We also use these whenever our puppy meets a stranger -- we make sure all four paws are on the ground before we give it to him and he has already learned to inhibit his desire to jump up on people!  These are amazing and I appreciate that they are made in the USA -- no weird chemicals to worry about -- and our pup loves to work for them!': 1,\n",
       "         'Yes, they are a bit expensive but, they are high quality, and pure nutrition.  Good training treat and not too high in calories.  Highly recommend this!': 1,\n",
       "         \"I have two German Shepherds. I use these as training treats. I also use them when I brush them, which they don't enjoy so much but know they will get treats. We have tried every treat available. These are the best.\": 1,\n",
       "         'Extremely big bucket of yummy treats for training! This is a great value. The pieces are large, but I cut them up into smaller pieces for regular training purposes.': 1,\n",
       "         \"These liver chunks are like crack for dogs. The niblets are magic for training dogs because the critters will do anything for these. Although freeze-dried liver is pricey, you can cut the chunks into tiny chinks and use while training, rewarding, or just saying, 'I love you, my good dog.'\": 1,\n",
       "         \"all natural,dogs favorite treat. Don't give too many because it will constipate dog. My dogs will do anything for these treats!\": 1,\n",
       "         \"My dog trainer recommended this to our obedience class. I found the best price here on Amazon, and my puppy LOVES the treats. Great training treats if used in moderation (too much organ meat isn't good for anyone). Also excellent if you put some of the treats in a container with non-liver treats/cookies. Use the container as a shaker to help train your dog to come, and the other treats get a liver flavored (dust) coating that makes your dog love them even more! No limit on liver dusted treats!<br /><br />Two paws up for this stuff!\": 1,\n",
       "         \"My three very finicky dogs love this product, and I like the way I can cut them up into small pieces for training.  There is only one ingredient in this: liver, all sourced within the United States, so I feel confident and safe giving this to my dogs.  I buy this on a regular basis.  It's priced better than any pet supply store I've seen, even the larger chains.  Qualifies for free shipping, which is also nice.\": 1,\n",
       "         'My dog is not enthusiastic about food.  She enjoys these treats which are light weight and easy to carry.  Number of treats per day must be limited.': 1,\n",
       "         \"My dogs love these... either straight up, or crumbled on food they would otherwise not eat.  They don't get sick of them and almost never ever reject them.  They do quite often reject other treats, and certainly after a while of the same other treats.  But then tend to always enjoy these. In fact, I have to be careful not to over feed them these because I don't know if they are healthy to eat in quantity.  Certainly not for my wallet.  They do last a LONG time though, especially compare to their weight.  However, dogs wolf them down quite quickly.  I highly recommend you reward you doggies with some!\": 1,\n",
       "         'My dogs have been eating liver treats for years.  We also use the treats for training.  The treats are 50% crude protein so you are getting a high quality treat.  Just make sure your dog has enough water since the treats make  my dogs thirsty.': 1,\n",
       "         'I was intially introduced to Pro-Treat Beef Liver Freeze Dried Dog Treats at my veterinarian\\'s office.  Rudy, our Jack Russell Terrior, usually not all that interested in dog treats, responded like I\\'d never seen before!<br /><br />I bought a couple of cans (they are pretty pricey), but gave them to him sparingly. The tricks he\\'d do for the Pro-Treats were really entertaining.  Now, Rudy has to take meds. for his glaucoma and thank heavens I found the large size here which is a good value, so he not only takes his medicine, but gives great tricks in return each day! He\\'s a happy camper, despite the loss of sight in one eye.<br /><a href=\"http://www.amazon.com/gp/product/B0002DGRSY\">Pro-Treat Beef Liver, Freeze Dried Dog Treats, 21 Ounce</a><br /><br />Rudy says, \"They are the best part of my day!\"  We think so too!  ~ CJ': 1,\n",
       "         'Dogs just love Freeze dried liver and this is a good price for this size container.': 1,\n",
       "         'We tried everything including cheese, chicken & hot dogs and this is the only one he will eat.': 1,\n",
       "         'My dog, a little maltese, loves this product.  She knows she will get it as a reward for doing her business on the wee wee pads.  Works every time to reinforce her behavior. I also received the product in a timely fashion thanks to Amazon.': 1,\n",
       "         'Dogs love these treats more than any other treats I\\'ve ever found.  In situations where other treats fail to get our dog\\'s attention - <a href=\"http://www.amazon.com/gp/product/B0019O5Z0Q\">Charlee Bear Turkey Liver & Cranberry Flavored Dog Treats</a>, for example - these treats are impossible for her to ignore.  They are an incredible training aid.<br /><br />Big bonus is that they\\'re also simple and good for the dog.  Liver is a healthy treat and is supposed to help combat weepy eyes.  Unlike most other commercial treats, this one isn\\'t loaded with a bunch of other junk that isn\\'t good for your dog (byproducts and the like), it\\'s just a good ingredient that your dog will love.': 1,\n",
       "         'My dog loves this all natural treat and the price cannot be beat by any store.': 1,\n",
       "         'This is a great treat for dogs, but do read the label: dogs of certain sizes can only have so many of these per day. I violated this and my dog got an upset stomach, so I am just giving a heads up. The cost is a bit high for these treats, but you get a lot of you buy the largest tub. My dogs go crazy for them too!': 1,\n",
       "         'The 21 ounce Pro-Treat Beef Liver Treats are a great value and my dog loves them.  I just need to reach for the tub and she will sit and put up her paw.  I even cut them into tiny pieces sometimes and sprinkle them onto her food.  She gobbles up her food when I do that.  This size will last a while.': 1,\n",
       "         \"My dogs LOVE these treats! Freeze dried easy to throw some in a zip lock bag and take them with you. Wonderful training treats because they're so easy to put in your pocket. Great deal too!\": 1,\n",
       "         \"I have a 2 1/2 year old black lab and these are her favorite treats! They are the best for training, my dog will do just about anything to get one of these treats. Even my 3 month old black lab puppy goes running to his kennel when I tell him to go to bed because he knows that a liver treat is coming his way. Since they are sliced small a large container of these will last a while. The only complaint I have is that my dog loves these so much that if she knows shes getting one she starts to drool, and she's not a drooler... So I gotta toss one to her quick!!\": 1,\n",
       "         'I have ordered these a number of times for my terrier mix (part pit bull?) - usually a little cheaper than in-store.  I initially used them for training only and then found that with the larger pieces I could jam a piece or two inside a chew toy, hide a treat toy or hollow bone that has already stood Travis\\' test and this can give my dog hours of enjoyment.<br /><br />My issue with them - and why I went with a 4 instead of a 5 - is the size of the pieces are inconsistent.  My first couple times there was a good mix of some larger squares - 3/4\" - 1\" cubes and smaller that I use for training bits.  My last order was completely smaller pieces - making it difficult to use it inside a toy/ bone as they come out too easily. Play time no longer lasts as long.<br /><br />I am hopeful that my next order in line with the others and have a mix. I would have given it a 5 prior to my last order.<br /><br />As a training treat these are AMAZING.': 1,\n",
       "         'Our Airedale loves the taste of the Beef Freeze Dried Dog Treats which we use for training. It really works': 1,\n",
       "         \"Getting grain free treats for training usually leaves three options: hard biscuits (and who wants to work for those?), cooked meat (which is gross to handle), or commercial meaty grain-free treats which cost an arm and a leg.<br /><br />These on the other hand, are very affordable, not gross to handle, and the dogs think they smell AMAZING.  They work great when your dog's attention is wavering - a waff of freeze dried beef liver usually snaps them back to attention!<br /><br />Also, being as they're only beef liver, I don't feel bad feeding my dog as many as needed for training.<br /><br />Highly recommended.\": 1,\n",
       "         'Our dog loves this stuff.  Ground up and sprinkled on his dry food he just gobbles it up.  No additives or fillers no carbs. We also use as a treat.  Best price at Amazon and quick delivery.': 1,\n",
       "         \"My dog loves these treats. He's really picking with his treats so it says a lot that he loves these. I had been buying him bags of the freeze dried treats at petco, etc. and it was costing a fortune, not to mention they were smashed. These are great quality. You get tons!! in the 14 ounce bucket and my little dog is in love.\": 1,\n",
       "         \"Pros:<br />Dog will do anything for this treat.<br />Doesn't smell as bad as many other treats.<br />Easy to break into smaller pieces.<br />Nothing artificial, easy digestion.<br /><br />Cons:<br />More costly than other dog treats.<br /><br />Overall, this is a great product. While more expensive, my dog will do anything for this treat. He has several phobias, including getting in and out of the car, and walking through doorways, but he ignores all of his fears to get to this treat.\": 1,\n",
       "         \"I've purchased several different brands of liver treats and this is the best in terms of having good-size pieces with very few small bits and little powder.\": 1,\n",
       "         'By far this treat is the best one that I have bought.  We used it to crate train out puppy and whenever he saw us going for the bucket or smelled it being opened he would run for his crate and sit in there until we gave him this treat.  The large bucket is the most economicay, but it does have a really strong odor when you open it; for that reason we always keep a small ziploc with the treats in it that we use regularly and only open the bin to refill that bag.<br /><br />My one complaint is that the sizes of the treats varies incredibly - but if one is too large we just split it, we will give 2 of the small ones, and the powder and bits at the end just go in his dinner one night for an added treat!': 1,\n",
       "         'I use to buy this at PetSmart...they no longer sell it so I decided to look for it on the internet...I am so glad that I found this on Amazon...My dogs love it... :o)': 1,\n",
       "         'Our dog has to have insulin shots twice daily and these liver treats make giving the shots easier and less stressful for the owner and dog.': 1,\n",
       "         \"This product is a real bargain, considering the fact that dogs love liver. I've used this as an addition to another dog treat product I use for my dog. My dog goes nuts when he knows that he's about to be rewarded with<br />Pro-Treat Beef Liver treats. The instructions advise to give 2-3 pieces per day when using. At this rate, the container will last you a good while. The product itself is very fresh and the pieces are all of various sizes and thickness. Average size of treat is small rectangular pieces of different thickness. They're easy to break into smaller pieces if necessary. My Springer Spaniel pup is 5 months old and he just loves these. I tried this product on my girlfriend's 10 yr old teacup Poodle, who is pretty slow at this point in her life. She absolutely came to life and jumped all over the place for a taste of one of these treats. Buy it....your dog will love it!\": 1,\n",
       "         \"My dogs love this treat. I use it to train them and just for fun. The nice thing about this product is that if you want the pieces to be smaller, it's easy to cut them up without it crumbling apart. Also, it was a great deal.\": 1,\n",
       "         'My pitbull, Sammy, loves these treats! they are useful for training as well as do not make her breath smell overly bad.': 1,\n",
       "         'I was introduced to these treats when I took my dogs to the vet, and saw her giving them these treats.<br />The dogs went crazy for them!<br />Not only that, but there is nothing in this but pure liver.  No added salt, etc....<br /><br />Healthy treats that my dogs love.  And the price is right, too!': 1,\n",
       "         'Pro-Treat Beef Liver Freeze Dried Dog Treats are wonderful used as a reward during obedience training. For a dog motivated by food, this is high in protein, low fat, and not greasy so that you may keep it in your pocket! Because a great deal of  treats are used during positive reinforcement training, I have found that by cutting the squares into pieces the size of my pinky fingernail, the dog is not being overfed and will be able to take the treat without having to stop and chew it up, clean the crumbs, etc. This product is especially good when training puppies, because it is a soft treat to chew, therefore, no pressure or pain on those sensitive gums while the pup is in the teething stage. I cut the squares up and place them in a plastic container. When the pieces are gone, there are powdery crumbs left which I sprinkle over the dogs food at feeding time. There is no waste with this product. I have been using Pro-Treat for more than 15 years. The quality is excellent, and I found the best price to be on Amazon after doing a considerable amount of comparison shopping.': 1,\n",
       "         'My little pupster loves these things. She is not exactly Ms. easy to please when it comes to food of any kind. These she thinks are great.<br /><br />Betsy': 1,\n",
       "         'My dog loves these and so do I : ).  No yucky texture or greasy feel such as with hot dog pieces or cheese pieces and no grossness in your pocket or treat bag.  And my dog will do a lot for a taste of these treats.': 1,\n",
       "         \"My dog can't resist these treats - I can get her to do anything if I have one of these with me!\": 1,\n",
       "         'When I first go my Havanese puppy 1 1/2 years ago, the breeder suggested these liver treats for using when training.  My dog will do ANYTHING for these treats.  They even use them at the name brand pet hotel we use in Phoenix.  You have to be careful not to give too much, but my dog, Tanner, got over his separation anxiety when I started the routine of asking for a kiss, then giving him a treat and then leaving.  Now he just wants the treat, I have to beg for the kiss.': 1,\n",
       "         'We usually buy this product directly from our vet, but have a considerable savings when purchased here. These are high quality dog treats that are perfect for training your pups. We haven\\'t had a puppy yet who has refused these and would all but stand on their heads to get a \"liver treat.\"': 1,\n",
       "         \"My 4 month old aussie loves these! Whenever he's fixated on something (like another dog while we're on a walk), I quickly wave it near his head to redirect his attention. It's one of the only treats that can bring his focus back onto me. The other thing that works is hot dogs, but those aren't as easy to carry around as these freeze-dried pieces. Because of the power it has over my dog, I mainly only use these treats for special training sessions when I need a high value reward (e.g., for recall training). They aren't especially smelly, but some dogs can smell them yards away. I've been followed many times at the dog park by doggies that smell the leftover powder in my jacket pocket!<br /><br />The downside is that when I cut it into too small of a piece, it can crumble apart. Regardless, I think that these should definitely be diced down to a smaller size if one wants to use these treats as a training tool. The tub says that only a few should be fed per day, and it is to my understanding that too much liver isn't good for the dog. I've uploaded a picture of the feeding guidelines that are printed on the side of my 21oz tub and I'll also provide them here:<br />-------------------------------<br />Weight........................3 Times Daily<br />-------------------------------<br />10-30lbs....................1 to 2<br />30-60lbs....................2 to 4<br />over 60lbs..................4 to 6<br />-------------------------------<br /><br />So, for example, for a 60lb dog, about 4 pieces can be fed up to three times each day. Some people commented that only a couple can be fed to a large dog each day, but that information appears to be inconsistent with what is suggested on the tub. From my interpretation of the above table, the recommended daily amount is actually closer to a dozen than just a couple of pieces. I hope I'm not missing something here?<br /><br />I've also uploaded a photo of the front of the 21oz tub showing that it is made in the USA. It has a May 2, 2014 expiration date printed on the underside of the container.<br /><br />Hope this helps someone!\": 1,\n",
       "         \"These treats are 100% beef liver--nothing else. You can't ask for anything healthier than that! Just don't overfeed them. They're treats, not food. Remember that. Your dog would prefer you forget that distinction, because he will love them that much. If you have a small white dog you are probably familiar with the red eye stains. Most people don't know that adding liver to their diet every day will get rid of that ugly stain. Don't exceed the recommended amount. The stain that's already there won't go away, it will have to grow out and be trimmed away by your groomer. But in a few weeks you should notice that white hair is growing in at the base of the old stains.\": 1,\n",
       "         'We have a miniature Dachshund named Buck. We used this product to house and obedience train him. Now we use this as his daily treat, and he loves it! My Vet. told me this is a nearly prefect low fat treat. As a result of using Pro-Treat, we hardly ever have to use a leash while walking Buck. If it were not for local leash laws, we would not own a leash. The only problem I see with this product is the inconsistent size of the peices. It ranges from powder to 1 inch square, and every thing in between. I have done lots of research and Amazon is the best place to buy this stuff': 1,\n",
       "         'I am a white, white Maltese. Before Mommy started giving me the Pro-Treat Beef Liver, freeze dried, my tears were black and stained my face. With my enjoying one treat per day, my beautiful white face is so beautiful.  I eat only natural, non colored food and drink spring water. But Mommy says the treats were the icing on the cake. AND, I love them too.': 1,\n",
       "         \"My dogs love these treats. The only problems I've encountered with these are the left over powder at the bottom and the sizes are not uniform; many big pieces and many very small pieces (very minor problems). But they are all natural and don't upset my dogs stomachs.\": 1,\n",
       "         'Wonderful treat for training!  Perfect cube size for large dog.  Somew crumbling of product once you get to the bottom; spread on their food for a special treat.': 1,\n",
       "         \"Bought these based on the review and the type of treat. My Peagle puppy loves these more than cheese! Perfect for training and they can be cut up easily so you don't overfeed. Great price compared to other treats of the same quality. Highly recommended.\": 1,\n",
       "         'We have been using these dog treats for a long time.  The dogs love them a lot!  You cannot go wrong with these because they are all natural.<br />The only thing that I would say is a little disappointing about them is that some of the pieces are very small making them no good as treats.  You end up with liver \"dust\" when the larger pieces are used.  I generally take this \"dust\" and mix it into home made dog food for extra flavor.  Therefore, no product gets wasted.': 1,\n",
       "         \"I've been using Freeze Dried Liver treats to train and reward my dogs for about 20 years.  It is like dog heroin for my dogs, there is nothing they won't do for these treats.  It makes training a breeze.  My current dog, Samson, will sit in front of the pantry and drool until I give him a treat.  The treats are expensive so I cut them in quarters so they last longer.  These are 100% meat, no scrap or filler.  These are the only treats I give Samson, my Rottweiler.  You can't go wrong with these treats.\": 1,\n",
       "         'It is a great product. It is very nutritional and our dogs absolutely love them. My only issue is that it is outrageously expensive. It is about four times as expensive as coffee per pound, and coffee is already expensive. Liver is a very cheap meat so why $25 per pound. Our problem is our dogs will do anything to get one of these treats, so were stuck.': 1,\n",
       "         \"Though they might be a bit pricey for just the average dog owner like myself (as opposed to say someone in a profession working with dogs), they're great treats.<br />Perfect size for the quick little snack on the run.<br />And yeah... my dog loves these. At 13, she's getting pretty finicky, and these will gather her full attention.<br />Recommended.\": 1,\n",
       "         'These dog treats are great motivators. At first the price seems high, but they last a long time because only a few need to be used in each training session. The piece sizes are not uniform, so I often break larger ones in half. The only downside is a tendency to crumble if you carry them in a pants pocket for too long.': 1,\n",
       "         \"My dog is a rescued stray.  You'd think she'd be happy to eat any treat offered to her.  Not so.  She's pickier than any dog I have ever seen or heard of.  I have thrown away many bags of treats and dog cookies.  But these things, she adored.  And since they are real liver, they aren't just processed grains flavored to taste like meat.  I recommend them to any dog owner.\": 1,\n",
       "         \"I've been buying this product for over 10 yrs.  It is a special<br />treat and reward for our dogs - I will continue buying this.\": 1,\n",
       "         \"These smell delicious and my dogs love them. The big tub is the most cost-effective package of high-quality treats that I've found. (Those chicken jerky things from China are not high-quality.)\": 1,\n",
       "         'We have been using these treats for a very long time, decades, and find they are accepted by almost any of our pets: dog, cat or ferret. They are their reward for taking their meds nicely. We prefer the largest size tubs for economy and convenience, which are usually not available at the pet stores. Thank you for carrying these.': 1,\n",
       "         \"Delishus, pleeze give mee more Gimborn Livur Treets.  Everee dog should havve these.  I don't know abowt kats, they probabbly don't deserve them.  Kats skare me.... Anyway these treets are delishus and yoo should buy manee buckets for yore dog.  If yore dog doesn't want his bucket of livur treets, I will take them. Thank yoo, love, Sonar.\": 1,\n",
       "         'The dog loves these treats. But why is this particular package size not sealed? All other size packages of this product are strongly sealed, so that a plastic rib must be torn off to remove the lid. At least some tape could be used around the lid on this size. Please consider doing something to provide assurance against tampering.': 1,\n",
       "         'I donate this product to the local SPCA dog trainer. He swears by it. He only gives one or two a day to each dog so it last a while.': 1,\n",
       "         'Made in the US---one ingredient and I can pronounce it-100% liver.  My dog loves it. Its freeze dried so does not have a strong odor--overall a great product.': 1,\n",
       "         \"ALL I DO IS SHAKE THIS CONTAINER AND MY DOG COMES RUNNING. SHE HAS HAD FOR OVER A YEAR AND PREFERS TO ALL TREATS AND FOOD. I FEEL GREAT AS THEY ARE GOOD FOR HER. THE PRICE SEEMS HEFTY BUT YOU CAN CUT THE PIECES UP EVEN THOUGH FREEZE DRIED. OUR FAV DOG TREAT FOR SURE. MAKES YOU FEEL GREAT TO GIVE YOUR PUP A EXCELLENT SOURCE OF ALL NUTRIENTS THEY LOVE. I FEEL LIKE I'M TRICKING HER.\": 1,\n",
       "         'My dog would do anything for his liver treats!  ...and whenever any of his playmates are out for a walk they drag their owners to our house so they can have a liver treat as well (in fact most of their owners now buy it for them).  It is healthy, a great training treat, and they all love it!': 1,\n",
       "         \"Gimborn Freeze Dried Treats 21 oz Beef Liver is one of my dog's favorite treats, so I was happy to find them in a large size container. I received my order very quickly, and was happy with the service I received.\": 1,\n",
       "         'Love this faucet.  My husband had installed the same one in our old house so when our current faucet was leaking I told him not to fix it and we would buy the same one.  It was easy enough for him to install but he did need my assistance a few times to help hold some things in place. Looks great and works great.': 1,\n",
       "         'This is the \"all gone\" treat after dinner.  It\\'s the only treat that the dogs work for; and I did run the chance of losing a hand.  They know a new command now:  \"be gentle\" when taking liver treats.': 1,\n",
       "         \"Freeze dried liver has a hypnotic effect on dogs.  They LOVE it and will do just about anything for it, so it is a great treat to use for training.  (Powdered freeze dried liver is even added to many dog medicines nowadays-- heartworm and arthritis tablets, etc.-- because it causes the dog to scarf the medicine down like a treat.)<br /><br />Freeze dried liver has a dry, hard, yet powdery/easy to chew consistency.  It comes chopped/cubed.  It is extremely lightweight due to the fact there is so little moisture in the product (thus the low weights on product labels).<br /><br />Even though your dog will love liver treats, you shouldn't overfeed it.  The manufacturer recommends 1-2 cubes daily for small dogs, 2-3 cubes for medium dogs, and 3-4 cubes for large dogs.<br /><br />The largest package sizes of liver treats tend to be far more economical.  I recommend buying the larger tubs, as you will save lots of money, you'll have a handy treat supply around for a longer time, and your dog will never tire of this product.<br /><br />There is really zero waste with this product.  When you near the end of the tub you'll find some powdery bits of dried liver at the bottom.  Your dogs will go CRAZY if you sprinkle this dust over their dog food-- it's a wonderful reward that is easy to use.<br /><br />~~~~~~~~~~~~~~~~~~<br />Here's the nutritional analysis:<br /><br />-100% freeze dried liver<br />-NO additives or preservatives.<br /><br />-Crude protein..... not less than 50%<br />-Crude fat.....  not less than 5%<br />-Crude fiber.....  not more than 3%<br />-Moisture.....  not more than 6%\": 1,\n",
       "         \"I have a chihuahua that is the pickiest eater in the world!  I could not find any treat that this dog liked.  I finally tried the Pro-Treat Liver treats for dogs and she loves them!!  I actually have to give them to her at different times on different days, or she will get use to when she will get them.  Example, I was giving them to her when I got up every morning, so every morning she would wake me up at like 3:00 am so she could have a treat!<br /><br />These are the best treats and they are good for her!  It's a win win situation!\": 1,\n",
       "         \"My dog is a very picky eater.  She has a very sensitive stomach and has special food.  This is the only treat I've found that doesn't make her throw-up.  She loves it so much she won't eat her regular dog food unless I mix the treats with it.  They're a little pricey, but they're lowfat and natural.\": 1,\n",
       "         'Pro-Treat Freeze Dried Liver Dog Treats / B000255OIG<br /><br />This is the sort of product that makes me wish I could give more than 5 stars... My puppy absolutely adores these liver treats - our dog trainer calls them \"puppy heroin\". With these treats, training becomes an absolute snap, since the puppy is willing to do anything for his smelly liver treat - and you will have his undivided attention during the entire training session.<br /><br />These liver treats come in cubes and slices about a half inch on each side. I slice them thinly three or four time lengthwise, and then again two or three time crosswise. The liver treats fracture easily, and the taste is so addicting that only the tiniest slivers are necessary to reinforce good puppy behavior. These treats are also low fat and low preservatives, so they are very healthy for your puppy and that makes them even more perfect for training. Really, once you try this treat, you will never need another!<br /><br />As always, purchase and shipping from Amazon was easy and painless, and the liver treats were packed carefully enough that there was no extra treat breakage - which is remarkable for dried treats.<br /><br />~ Ana Mardoll': 1,\n",
       "         'We have a variety of treats for our two shitzus.  Their favorite are the freeze-dried livers.  Nice big container that always has the dogs running when they hear me opening the lid.  Bought two of these.': 1,\n",
       "         'our dog responds to this more than any dog treat.<br /> We have tried many different treats, but this seems to be the one that is most preferred.<br /> This brand was recommended by our dog trainer.': 1,\n",
       "         \"I have been giving the Stewart's Pro-Treat Freeze Dried Beef Liver to my maltipoo named Elvis Lee for many years now along with his daily meals.  It is all PURE Freeze Dried Beef Liver which provides him with protein since he is a very active boy who likes to go for long walks and play ball!  Elvis Lee is very particular about what he likes and this Freeze Dried Liver is on his list of FAVORITES!!\": 1,\n",
       "         \"Freeze-dried liver treats are easy to carry around in a treat pouch, don't have to be refrigerated and, so far as I know, are healthy, high-protein snacks without a lot of chemical additives and preservatives. All of those attributes are nice but wouldn't be so important if the dog didn't like them. Our dog, who gets lots of small, bite-size treats as part of his continuing training, gets tired of diced sausage-shaped moist food from the pet store and cut-up franks from the grocery, but he'll run a mile for a liver treat! I do wish they were smaller and/or less expensive. We usually cut them in quarters with a sharp knife to make them last longer.\": 1,\n",
       "         'As another reviewer noted...This is like crack for dogs! My dog likes jerky but loves freeze dried liver. The tub may be a but much but is the best value.': 1,\n",
       "         'I purchased the product to use with training my dogs, as treats, and as a supplement to their dry food.  My dogs love them and best of all they are natural - nothing artifical. A good value for those seeking multiple uses from one treat.': 1,\n",
       "         'The product is wonderful! It stays clean and dry in your pocket and dogs will obey your every command to get a treat. But, it is very expensive and you are suppose to limit the daily amount, so I cut smaller slices of each cube to make it last longer and give my dog less product each training session.': 1,\n",
       "         \"My Husky has always been a little 'picky' when eating her breakfast and evening meals.  Always needing encouragement, etc.  Well, when I found the Pro-Treat Freeze Dried Beef Liver, I started putting 1-2 pieces crumbled and sprinkled over the dried food and wow, she loves it.  Never hesitates anymore about eating her meals.  Try it, they'll love it!  Sandra\": 1,\n",
       "         'My 5 month old lab goes nuts over these liver treats.  Our vet recommended these as a healthy treat.  Our pup acts like a cat with catnip over these. A big hit. The price and size are excellent and should last a good while.': 1,\n",
       "         'These are the best training treats you can buy.  My dog is more motivated in doggie class because of these treats than any other dog in class.  He loves these treats so much that he is not very interested in most other dog treats, which keeps life simple.': 1,\n",
       "         \"My two boxes absolutely LOVE these freeze dried liver treats; it is one of their favorites.  Both dogs do their kidney bean dances in the kitchen when we take the lid off.  The only bad thing is the treats are small and they only recommend a few daily.  (But, I guess that's not too much of a bad thing given these are a little pricer than the average dog treat)\": 1,\n",
       "         \"I've been using these for my puppy with training and he absolutely loves them.<br /><br />The only inconvenience I find is that, while each piece varies greatly in size, they are pretty large.  So, I cut them up into pieces appropriate to the size practical for training.  Each time he gets one it is just a little piece, and that works great.<br /><br />Since I do cut them up, I don't find these to be expensive at all because they really go a long way.<br /><br />The other important thing is the list of ingredients.  They are not full of junk.  In fact, there is NO junk in them.  Just beef liver.  I like that, as I really try to know that I'm giving him good quality foods and treats.\": 1,\n",
       "         'I received all containers previously opened - all seals were opened. On the top of containers was decent pieces of liver and below that were grisley pieces and a lot of powder on the bottom. I will never buy liver treats from Amazon again. BIG RIP-OFF!': 1,\n",
       "         \"My dog LOVES these treats.  Great quality, and cheaper than buying at the big box stores.  You really can't go wrong with these.\": 1,\n",
       "         'Our dogs love these treats - last a long time - light and easy to give our dogs.  Amazon has the best price for these treats - will always have them in our house!': 1,\n",
       "         \"You can't beat these natural treats. My dogs love them and they align well with their raw diet.  Great value ordering on Amazon too, sell for $12 more at my local pet store.\": 1,\n",
       "         'Great Product, these are my Chihuahuas favorite treat.  I have never had any problems with them except the bucket runs out to fast.': 1,\n",
       "         'These are a great deal when compared to the small bags of treats available at the pet store. More importantly, my dog adores them. I use them as an extra special treat, usually just for when he goes into his crate. As soon as he notices that I have one in my hand, he runs to his crate and waits, tail wagging. The only downside is that the liver cubes smell horrible (to humans, anyway) and leave a powdery residue behind. But as some other reviews have noted, the powder is great for sprinkling on dry food for a finicky dog.': 1,\n",
       "         \"These treats are similar to the PureBites, however, since I have small dogs (Peke mix), I generally don't give them these snacks because they are more suited for medium and large dogs (or small dogs with large mouths). Smaller dogs have a hard time biting down on them and there is the possibility of choking because the pieces are too large and dense for their small mouths, so I have to break them up into smaller pieces before I give them to my doggies. The PureBites, on the other hand, are flatter and easier for them to chew. The snacks appear to made in the same way, so if I had larger dogs, I would give them either this snack or the PureBites.\": 1,\n",
       "         'These are my dogs favorite treats, so I ordered three containers because the site advertised that I would receive a fourth container for free.  The three containers came in a timely fashion, and my dog is very happy, but I never did get the fourth container.  I, and my dog, were both pretty disappointed.': 1,\n",
       "         \"We have used Pro-Treat Beef Liver, Freeze Dried Dog Treats for several years.  It's our 110 lb. hound's favorite treat and great to use for training. It's a fairly expensive treat but if used properly lasts quite a while. I would definitely recommend.\": 1,\n",
       "         \"Great product. Dogs love this treat. It's hard to get them to eat only a few at a time. However, this product is pure protein and therefore not great for their kidneys if they eat too many. Limit to a few treats per day.\": 1,\n",
       "         'My dogs favorite treat.  They pass up the other treats for the dried beef liver.  I love the fact it is low in fat and healthy.': 1,\n",
       "         'This product is the same as I get in Petsmart at a much better price. The service was quick and efficient. We use it for our old wiener dog who has some iron deficiencies and it helped him alot, but I am not a vet.': 1,\n",
       "         \"When I ordered these, I thought they were a bit pricey, but I decided to give them a try anyway.  I'm glad I did!  My dogs absolutely love these dried liver treats.  And, since my dogs are all small, I can cut the treats in half and still have large enough pieces to satisfy them. They're great for training; I'll definitely order them again, and would recommend them to anyone.\": 1,\n",
       "         'Otter and I are very happy with this product. I am happy to have come across this dealer on line, because it was the best deal with respect to cost and convenience.': 1,\n",
       "         'Very happy with the product and shipping.  Thanks.  Always like doing business with Amazon.': 1,\n",
       "         'My little dog loves these treats. Besides rewarding my dog I crash treats and mix it with medicine. It works great.': 1,\n",
       "         'This a wonderful treat.  my 3 Labs just love them.  very healthy and natural.  the small cubes are great for hiding in toys and a great mental challenge for the dogs  to figure out to get to the treats. I work in the animal field and every dog I have come across just gobbles them up. Just a few little cubes go a long way': 1,\n",
       "         'The Gimborn Liver Treats are by far my dogs favorite treat.  The are a wonderful training reward.  Very good quality.  Just beware your dog will sniff them out from wherever they are hidden in your pockets.': 1,\n",
       "         \"These freeze dried treats are our dogs favorite treats.  We've been spending DOUBLE the price I paid for them at local area pet stores (ie, Chuck & Don's and PetSmart).  Arrived promptly, well packaged.  Highly recommended.\": 1,\n",
       "         'Every pup I have ever owned LOVED these treats. They will do anything for them and only like this brand! I tried another and they refused to eat them! If you love your pups and treat them like children-BUY THESE!<br />Mine are not too spolied - DIVA and TIFFANY! They get them every holiday and I am never without a supply on hand. Try greenies too!': 1,\n",
       "         'This is a Delicious treat for your dogs.  I am unhappy with<br />Amazon because we paid for the product, but never received it.<br /><br />Nanci Shea': 1,\n",
       "         'Our dog would do ANYTHING for these treats! Have looked around at other brands...but this is the best.': 1,\n",
       "         \"This is great! The price is better than any stores around here and my dogs love it! Now they don't mind taking their pills\": 1,\n",
       "         \"There isn't much my puppy won't do or try to do for one of<br />the freeze dried liver treats. Gave one to another Springer Spaniel<br />we met at the beach and now when I see him he races, sometimes<br />a long distance, to great me and get another treat. great<br />training aid.\": 1,\n",
       "         \"I use these as a training treat when I am working with my two dogs. My dogs were getting bored of the same ol' treats even though I tried to give them a wide variety. This one BY FAR is their favorite, and I like it because its all natural with no preservatives. Some of the pieces are pretty big, but easily broken with your finger nail. If you carry some around in your pocket like I do when I'm working with them, watch out - you will have the neighborhood dogs wanting a treat too.  :) The price here is quite good also. It is definitly worth a try!\": 1,\n",
       "         \"I know some people have suggested this product is not for training, and I couldn't disagree more. I have en English Bulldog who is solely motivated by these. I was able to teach her voice commands in a very short time with these liver treats as rewards. While the peices could be a bit smaller (I often cut them up a bit) these are very healthy treats. I love them and my bulldog loves them!\": 1,\n",
       "         \"PRO:<br />-my dogs (maltese and poodle mix) go crazy over these treats. they are very obedient once they know that i'm holding these treats in my hand<br />-since they're freeze dried, i don't have to worry about these treats drying out<br />-although it comes in big cubes, i'm able to cut the cubes into smaller pieces with a plastic knife in order to lengthen the usage out of my stash of these dog treats<br />-my containers always came with very little crumbs/powder at the container's bottom<br /><br />CON:<br />-not uniform sizes<br />-not cheap<br /><br />Conclusion: still a great product, but need some modifications<br />*Since every morsel appears to be so flavorful, all my dogs need is a pinkie nail size amount to reward them.<br />*It may SEEM like the crumbs/powder is useless, but actually, it is still somewhat useful. I used the powder to coat bland chewy dog treats, dog food, toys, etc.\": 1,\n",
       "         'Excellent Product,,My 15# dog loves these things--Turns her nose up at every thing else--I would very much recommend this product for dogs !!Big Plus--There made in the U.S.A.': 1,\n",
       "         'I buy a big tub of these for my dog about every 3-4 months. He loves them. I do mix them in with other treats, so he does not get a steady diet of them. They are given out as the \"special\" treat, being one notch above a standard, wheat-free dog cookie.<br /><br />While these are great treats, they are not as \"hypnotic\" as real meat is. And, given the price, and how inexpensive some good-quality meat is at the grocery store, if you truly want to mesmerize your dog, go with real meat. Its pretty funny that so many of us are paying $7-9 for little bags of dog treats when we could be buying real beef for about $4-5 a pound.<br /><br />However, most of us don\\'t want slimy hands all day, so we use treats. I use these out when walking my dog, and carry them when we go out backpacking or on long day hikes. I like them because they are feather light, but just don\\'t get them wet or they turn to mush. My dog\\'s interest in them after they get wet goes down a lot.<br /><br />I do wish the pieces were more uniformly sized, but they aren\\'t too hard to break apart.': 1,\n",
       "         \"Gold standard for training treats. Have used for 10 years of training. Never met a dog that didn't love them.  Fast easy service thru Amazon sellers.\": 1,\n",
       "         'My young Havapoo was very unhappy when I put him in his cage at night.<br />After I bought this product for him as a treat before going to bed, he is readily willing to enter his cage, munch a few little pieces of the dried liver and go to sleep quite happy. I can recommend this product to all pet lovers.': 1,\n",
       "         'My dog goes bonkers for these treats! They seem to be crazy delicious. Some of the pieces are so small, Lulu doesn\\'t have to chew them; she seems to swallow them whole. I wonder how she even tastes them! But she must, because she whines and acts like a obnoxious brat every time I go near the bucket.<br /><br />I like that the treats don\\'t have any additives. They really stink, though, and the smell stays on your fingers. The smell and the price are the only downsides. Also, I wish the container said how many calories the treats have so I could compare them to other natural treats like Fruitables. The vet said Lulu is getting fat (to which I replied \"Yo momma is fat!\") and that we should start watching her calories.<br /><br />If you\\'re curious about the consistency of the size of the pieces, please see the photos I posted. There\\'s some variation in size, and when I tip the bucket, I see more crumbly pieces at the bottom, but I don\\'t foresee Lulu turning her nose up at them!': 1,\n",
       "         \"Altho you can't give too many of these to your dog on any given day (not suggested by the manufacturer), I have never found a treat that my German Shorthair Pointer really loved, until we discovered these. Buzzy just loves them more than anything....even more than the meatballs I through in his food to entice him to chow down (he's very finicky)!!! Get em for your best friend!!!\": 1,\n",
       "         \"Finally a treat both me and my puppy like. Doesn't have a strong odor, but dogs still love them. Plus, as a freeze-dried treat they don't make your fingers greasy.<br />A healthy treat that my puppy will actually eat!\": 1,\n",
       "         'My dog has never stopped loving these treats for over a year.<br /><br />Service was great and shipping was prompt.': 1,\n",
       "         'Same price as Dr. Foster & Smith.': 1,\n",
       "         \"These Stewarts Liver treats are the love of my wirehaired dachshund's life.  Nothing else comes close.<br />I have bought them from several sources and sometimes they are crushed but those fom Amazon arrive in fine condition and ready for munching.\": 1,\n",
       "         'I was pet sitting recently and the dog I was sitting for had these in her treat pouch. She loved them so I tried them with my dogs. All 3 dogs were quite well-behaved whenever they saw me reach for these goodies. My son and I jokingly call them \"doggie crack\". They\\'re good for them, they work as training tools, what else can you ask for in a dog treat?': 1,\n",
       "         'My Dogs love this as well as my Cat..I like this product except the treats start to get smaller about half way down the bin...': 1,\n",
       "         'i always try to feed healthy snacks. My dog does not always like them as much as less healthy snacks.<br />This is the snack that we meet in the middle about.... actually she likes this the best of all her snacks!!!': 1,\n",
       "         \"My beagle/lab mix is fairly picky with treats, but she goes nuts for these. I've been trying to find something other than chicken jerky from China (after reading reports from the FDA showing illness/death in dogs) that my dog really loves, and these seem to fit the bill nicely.\": 1,\n",
       "         'My dogs love this product and this was the cheapest I could find it any where. Shipped and received as notified when purchased.': 1,\n",
       "         \"okay, it's freeze-dried liver cube-lets.  my common sense tells me that for a lot less than the price of this treat i could buy real liver, cube it and freeze it.  it would serve the same purpose for a lot less money, and it would not be over-processed.<br />that said, our dog would do back flips for this treat, so if you're made of money, go ahead.  you'll make your dog's day  :-)\": 1,\n",
       "         \"My three month old Westie loves this treat. The only bad thing is that it's huge for training. If I command sit, it takes him 20 seconds to finish eating it and do the next trick. I recommend breaking it into tiny pieces because the label says 1 or 2 a day only. My pup loves this treat and would do anything for it!\": 1,\n",
       "         \"You asked for my review of this purchase already, I said fast shipping and good product. Do not bother me with these reviews any more, if i have a problem i will let you know. I will stop using amozon in the future if you don't leave me alone.\": 1,\n",
       "         \"I selected this company over the other even though the price was higher. I was hoping the pieces would be more consistent in size. It tuened out the container was filled with smaller crum like pieces, worse than the other company's. I will never buy anything from this company.\": 1,\n",
       "         \"This came in a HUGE tin, much bigger than I expected.  These cookies are not sweet, so if you want something to satisfy your sweet tooth, this may not be it.  But, if you want a delicious strawberry cookie that is light and not supermarket-sweet, then try this one.  I got mine when the price was under four dollars here on Amazon.  I wouldn't pay ten dollars for this tin, though.\": 1,\n",
       "         'Our little dog has a very sensitive stomach.  This is the only treat that does not bother him.  He loves it and so does his tummy.  Thanks!': 1,\n",
       "         'What a horrible product. First of all the item does not work. I have had it up for a week with lots of flies around it and they simply avoid it. Infact the will sit on the window next to it but never go to it. Also it does no look like the one pictured You get the idea that there are small boxes for the flies to enter. Not so. Mine came with black and pink srips running from the top to the bottom. WASTE OF MONEY': 1,\n",
       "         \"I don't know how this product performs with big flies but it sucks with fruit flies.\": 1,\n",
       "         'We had a problem with a lot of fruit flies in our kitchen.  I picked up one of these to take care of business despite spotty reviews.  Oops.<br /><br />We had it up for several days and I saw one fly land on it the entire time.  The best part of this tragic story is that when I picked up the trap to investigate the one trapped fly...I\\'l be darned if that fly didn\\'t pick up his feet and take off. That\\'s right, the fly flew away after landing on this.  None of the other flies in the area even bothered.<br /><br />They should call this the \"sucker\" trap.  The sucker in this case would be me.  Save your money and invest in quicker hand reflexes.': 1,\n",
       "         'This sly trap is attractive to look at, works well, and has no odor. I recommend it!': 1,\n",
       "         \"After a summer grill party where the door was kept open all day/ food was out on the countertops, we developed a horrible fly infestation in our home.  My husband bought this trap and it did not work, not one fly was caught.  I ended up putting a tiny smear of honey on one side and that actually worked, the next day I counted over 30 flies on the thing.  But by itself, it does nothing to 'attract' flies.\": 1,\n",
       "         'With hundreds of common house flies all about for 24 hours and not a single one caught I resorted to a fly swatter and killed 50 or so in 1-2 hours with my old fly swatter. This fly trap appears useless.': 1,\n",
       "         \"In the time I spent waiting for my order of these fly traps to arrive, I went out and bought regular fly ribbon for the bad fly problem (not sure what kind of flies - slightly bigger than fruit flies) I was having. In the at least week that I've had one of these fly traps up, I've caught zero flies with this fly trap and have caught probably over 100 flies with the regular fly ribbon. At one point, I even saw a fly on this fly trap and thought it was caught, but now it's gone. I even have pictures to prove it.\": 1,\n",
       "         'Even the cheap \\'ribbon\\' traps have caught many dozens of flies in the few days I\\'ve had them, and the liquid bait traps (Rescue, and Victor\\'s Fly Magnet) have caught hundreds in a few days, but this thing remains empty (the best seems to be the Rescue trap, I call \"the stinker\", because it reeks, but it works). This trap is in the same space as the other traps, and there are hundreds of flies out there. Just does not work. While it is an \"indoor\" trap, the directions say that it can be used outdoors if protected by weather, which it is.': 1,\n",
       "         \"Well, I purchased 3 as they were inexpensive and I figured for the shipping, I might as well. I have two up in to different areas of my small apartment and after 24 hours, nothing. I've managed to kill some flies but that was only by me swatting at them.\": 1,\n",
       "         \"For something that was supposed to attract them, The flys couldn't have cared less. In about a months time it caught maybe 10 flies which sure were only a miniscule fraction of those in the kitchen! Was a waste of money.\": 1,\n",
       "         \"Bought at my local Hardware Store.  I was having a terrible fly problem, and it only trapped one (1) fly (it's been over a year now, still hanging, still just the same one fly.<br /><br />DON'T BUY THIS PRODUCT!\": 1,\n",
       "         'I bought a few of these after my apartment was infested with fruit flies. After only a few hours, the trap had &quot;attracted&quot; many flies and within a few days they were practically gone. This may not be a long term  solution, but if flies are driving you crazy, consider buying this. One  caution- the surface is very sticky, so try to avoid touching it.': 1,\n",
       "         \"Ineffective and worthless. I bought this product for indoors and two other outdoor fly traps.  The outdoor traps worked immediately and I have noticed less flies in my home from my backdoor over the past week.  However, this indoor trap has caught zero flies yet over one week, while the outdoor traps have caught a combined 75-100.  I get excited looking at the trap thinking a fly was caught, but then realize that is the picture of a fly instead:-(.  Don't waste your money on this product.\": 1,\n",
       "         'Well I received the item and placed it in the same area where we had put fly paper before-we had far fewer victims than with the regular fly paper and it looks like it doesn\\'t really catch \"the big ones\" like the fly paper did. However, for the price it is decent and looks more attractive than the regular strip of fly paper.': 1,\n",
       "         \"Flies buzz around this thing like its not even there. So many flies around, I'd think by luck a fly would have at least bounced off it and stuck by pure luck. Not a single fly caught, still flies annoyingly buzzing around the area.. Did NOT catch a single fruit fly, house fly, horse fly, mosquito or even a hungry spider or ant. Its a cardboard box worth about a nickel sprayed with some sticky stuff and this company is just laughing to the bank with our $7.<br />-- Chicago, Illinois\": 1,\n",
       "         \"This product does not work at all. I hang it in the kitchen for 5 days but no fly has been attracted!<br /><br />It doesn't worth the time and money to return it. But please, buyer beware, I strongly suggest you go find some other item.\": 1,\n",
       "         \"Let's put in this way.  Flies stay on these traps and left.  It looks like a safe island to flies.\": 1,\n",
       "         \"Please do not waste your money. This Fly trap is absolutely useless. I bought two of  this product for the kitchen, we always BBQ and go in and out by the Pool and fly's get in the House. We have started to make jokes about his product not ONE Fly so far has gone on both of them since i hang it up 2 weeks ago :) Terrible Product!\": 1,\n",
       "         \"Having used traditional fly rolls in the past, I was dubious when my hubby opened up the box and showed me this little stand-alone cardboard fly trap. We were desperate, though, as we had a full-on gnat invasion in our kitchen. We put it in a few places on the counter before settling on one near the coffee pot where the gnats seemed to love to gather. At first they seemed to ignore it, but over the next few days, more and more were finding their way onto the trap. At one point we gave up counting--there were dozens. This product is great for ridding yourself of those pesky gnats. I love that it is poison-free and that it can stand on the countertop if you want it to, as our very tall ceilings would make a hanging strip less than useful. But for those wishing to hang it, there's a little hanger included as well. I can't make a claim about larger flies, we didn't catch any of those--there were none around. And I think there would be better choices for outdoors than this product. But for the $$ this little fly trap did the job we asked it to do, and you can't beat that!\": 1,\n",
       "         'I\\'ve been nurturing a plant at work and it was doing so well I decided to repot to a larger pot. I must have gotten some funky soil because as soon as I repotted, we were being overrun by a large colony of small flies. I was swatting them and getting bug guts on my hand so frequently I stopped bothering with the \"gross!\" exclamations. The fact that in the city of San Francisco, you have to compost just aggravated the situation.<br /><br />I bought one of these nitfy traps and set it by my plant and voila! Instead of my hands getting the daily dose of bug guts, the trap is now lined with the tiny suckers! It\\'s been a few months and the trap is pretty much covered (the gross part) and I need to order another one. Not sure how well this will work on larger inserts but it works really well on these tiny, annoying flies.': 1,\n",
       "         \"The only thing this item trapped was a few fruit flies.  It didn't work at all as a fly trap.  I wouldn't recommend it.\": 1,\n",
       "         'I am so happy with this Item. I had too many flies that were disturbing in my kitchen. I put the product near the window and it works fantastically': 1,\n",
       "         'We have so many flies in the house.  Have had this product for 3 weeks and it has only stuck 1 fly thus far.': 1,\n",
       "         'I wish I\\'d read the reviews before making this purchase. It\\'s basically a cardsotck box that is sticky all over the OUTSIDE. Those pink-ish things that look like entrances \"into\" the trap? They\\'re just pictures. There *is no* inside of the trap. All the flies will be stuck to the OUTSIDE. It\\'s basically fly paper, just horribly, horribly HORRIBLY overpriced.<br /><br />Do yourself a favor and just get fly paper or fly strips. Same yuck factor, but much cheaper.': 1,\n",
       "         'Worst product I have gotten in long time. Would rate it as no star if I could.  Simply did not catch a single fly or bug of any sort.  Went to the hardware store and bought the old-fashioned spiral fly paper which was very effective.  Had an unuasual influx of flys in the house this fall and needed to do something.': 1,\n",
       "         \"Placed around the house for several days, setup a fly attracting trap in vicinity. literally watched the flies avoid this trap. after 2 days I was excited to see one lil'bugger land on the surface, only to be disappointed when I approached to examine and he flew away! the paper is tacky when the pressure of a human finger is applied, but for most small flies it is hardly a trap.\": 1,\n",
       "         \"If I could rate this fly trap lower than one star, I would.  I think flies have come from miles away just to come in and laugh at this thing.  I'd have more success taking the flies into a vat of scalding water than getting a fly to randomly run into this box of ridiculousness.<br />WASTE OF $$!\": 1,\n",
       "         'bought this awhile ago, decided to review it now.  this thing sucks.  there has been flies caught on this, but took over a year to get maybe, 10 or so tiny microscopic flies.  no regular flies that you can see with your eyes.  i still have it up, only cause it catches flies a few times a year.  maybe i should let those little things fly around, or i could get a real fly trap, that actually works. :)': 1,\n",
       "         \"Used this fly sticky tape trap in the garage where we had a knat fly problem. We also had some fruit fly type  bugs flying around also. Our neghbor has a big fig tree that isn't pruned of taken care of and all the figs stay on the tree and rot till they dry. Smells really bad and attracts the flys that go into our garage because of its proximity to our garage. We put these up and only caught about 3 to four on each one. We had better results with the sticky traps that unravel. These caught much more knats.\": 1,\n",
       "         \"Okay so I have a little garden in my back yard that attracts a lot of flies and I have been looking for a way to combat them once they are in the house. I wasn't sure if they still made Fly Paper but when I saw this after searching in the great Amazon I was excited. From the moment I opened the box I was dismayed and I seriously cannot decide if this is a joke or not. The packaging says the box has stunning 3-d images to draw in the flies, these images are perhaps the funniest drawing's I have ever seen being called 3-d...this product has not caught a single fly they simply ignore it and fly everywhere but at the stunningly realistic 3-d images anyone got a better idea?<br /><br />DO NOT BUY THIS UNLESS PLAYING A joke on someone\": 1,\n",
       "         \"It never caught even one fly.  We got it for inside and left it out for a week.  The flies were not interested.  It's Useless!\": 1,\n",
       "         \"I put this fly trap in the kitchen and didn't catch a single fly.  We only have flies in late August and September when the temperature warms.  So we don't have window screens.  The flies were especially bad this year, so I tried the Victor fly trap because I like their rat and mouse traps and didn't want to spray in the kitchen.<br />Save your money and DON'T BUY THIS PRODUCT.  I caught many flies with a little milk in the bottom of a small water bottle.  They flew in and drowned themselves. I don't think California flies are smarter than any others so the trap just doesn't work.\": 1,\n",
       "         \"I had an infestation of fruitflies, they were literally everywhere flying around me in my  kitchen, so I bought this product hoping to at least get rid of a few. But after 2 weeks, only 1 fly had stuck... I was going around with a notepad and squishing the buggers myself with a success rate of 2-3 a day so clearly this product was useless! I even dabbed to red wine and banana to the top of the column after 1 week because they were really attracted to any red wine I had in a glass... but still it did nothing to get them stuck. And then I actually saw a second fly land on it once, and I watched as it flapped it's wings frantically and within 30 secs it had unstuck itself!!!! This product was a total waste of money!\": 1,\n",
       "         'This is nothing more than a cardboard box with a little dry adhesive on the outside. It does nothing to attract flies and the adhesive is not gluey enough to trap them if they do happen to land on it. Save your money.': 1,\n",
       "         \"I'm fairly certain that once caught, the flies are supposed stay stuck. Not so much with this trap. It's become part of our daily routine to compare how many flies there are on it in morning with how few are left in the afternoon. About 50% of them escape from it.\": 1,\n",
       "         'Why is this $[...] when the same product is available for $[...] here?<br />http://www.amazon.com/VICTOR-FLY-MAGNET-BAIT-REFILL/dp/B00004RBDY<br /><br />The Victor M380 and M502 traps are unreal, of course -- total fly genocide. Pretty stinky, but only right nearby.': 1,\n",
       "         \"We have used the Victor fly bait for 3 seasons.  Can't beat it.  Great product!\": 1,\n",
       "         'This was a really good idea and the final product is outstanding. I use the decals on my car window and everybody asks where i bought the decals i made.  Two thumbs up!': 1,\n",
       "         \"I just received my shipment and could hardly wait to try this product. We love &quot;slickers&quot; which is what we call them, instead of stickers because they can be removed so easily. My daughter designed signs to be  printed in reverse to use on her car windows. They printed beautifully (we  have 'The Print Shop' program). I am going to have a lot of fun with this  product because there are windows everywhere and other surfaces like tv  screens and computer monitors.\": 1,\n",
       "         'Michael Keaton was already on his way to being a major star when he played the ghost with the most in \"Beetlejuice.\" His performance in the title role simply solidified his status as one of Hollywood\\'s brightest comedy stars.<p>Now, years later, this film still generates the same belly laughs that it did when it was first released. Alec Baldwin and Geena Davis have fun in their roles as husband and wife who are surprised to find themselves dead, but they are merely window-dressing for Keaton\\'s centerpiece. The only complaint here is that there are a few too many gross-out gags, but that is something which has come to define many of director Tim Burton\\'s films. Still, the movie is a lot of fun from beginning to end, and it\\'s worth considering adding it to your video collection.': 1,\n",
       "         '... this little gem was the beginning of a brief \"thing\" for Michael Keaton. And, man- does it deliver the laughs in a big way.<br />Nice presentation on BluRay at a great price.': 1,\n",
       "         'THIS IS ONE MOVIE THAT SHOULD BE IN YOUR MOVIE COLLECTION. IT IS FILLED WITH COMEDY, ACTION, AND WHATEVER ELSE YOU WANT TO CALL IT.': 1,\n",
       "         'I love this movie and I bought it on VHS a long time ago. Recently I bought the regular PG version on DVD at my mom\\'s store. The first thing i noteced was that the disc was double sided! about halfway thru I had to flip the disc over to watch the rest of the movie. and another thing: It was censored. I don\\'t mean just the \"violence\" i mean language. Then I bought the PG-13 version hoping for a better verson. Instead I found out it was the same thing, just with a different cover. So i reccomend you buy the VHS.<br /><br />Trust me, it sucks.': 1,\n",
       "         'Beetlejuice is a very Tim Burtonesque Tim Burton movie, establishing his fascination with the macabre and, especially in this case, the funny, campy side of death and horror.  It\\'s the story of a newly dead couple (Geena Davis and Alec Baldwin) who are essentially stuck as ghosts in their house, and don\\'t like its new owners (parents Jeffrey Jones and Catherine O\\'Hara and daughter Winona Ryder).  They enlist the help of a more experienced, half-crazy but very insistent ghost, Beetlejuice (Michael Keaton), in an effort to scare the new owners away by haunting them.  Beetlejuice turns out to have his own agenda, and alliances shift as the story winds through learning to be dead, afterlife bureaucracy, wild chases through small spaces, Calypso dancing at dinner to Harry Belafonte\\'s \"Banana Boat Song\" (\"Day-O\"), a very goth wedding ceremony, and supernatural comeuppance.<br /><br />The cast, for the most part, is perfectly suited to the wacky material, the sets and make-up and other effects very imaginative, the story engaging.  Great fun.<br /><br />The extras announced are very limited: three episodes of the Saturday morning Beetlejuice cartoon series (\"Skeletons in the Closet,\" \"Spooky Boo-tique,\" \"A-Ha!\"), a music-only track, the trailer and, according to the press release but not the Warners Brothers web page for this DVD, an exclusive CD soundtrack sampler.  The cartoons are about 11 minutes each.  Possibly more features will be announced later, but that would be unusual and I wouldn\\'t count on it.  Five-star movie, three-star extras.<br /><br />The new Blu-ray will be 1080p video, but the complete specs for the sound haven\\'t been announced.  There will be sound and subtitles in several languages, including Spanish.  The old standard DVD isn\\'t all that great in terms of video quality, so the best thing about this new release is likely to be improved image and sound.': 1,\n",
       "         'Of course you already have the DVD.<br />This is a no-brainer upgrade for<br />Halloween, and do NOT forget the<br />brand new Blu-Ray of<br /><a href=\"http://www.amazon.com/gp/product/B0088EDMMS\">Hocus Pocus [Blu-ray</a>]<br />////////////////////////////////////////////<br /><br />Do I love Halloween? Did you see my -- actual --<br />Halloween Profile Photo?': 1,\n",
       "         \"This is such a great film, I don't even know how to sum it up. First of  all, it is completely original and it is unlike any film I have ever seen  before. Second of all, it's a great comedy with kind of a spooky, weird  feel to it, which is something all of Tim Burton's films have. The look of  the film is probably what I like the best. Art Director Bo Welch and Tim  Burton show us a world unlike anything seen in a movie.  This is a great  film, and I would recommend it to anyone looking for an enjoyable,  entertaining film that is original and inventive.\": 1,\n",
       "         'I should have only given it four stars because for a 20th anniversary edition I expected more, what I got was a cleaned up version of the theatrical release. The upside- Excellent movie!! proud to own it. Everyone turned a great performance, Michael Keaton was gross, disgusting, and funny. Great special effects. Enjoy the movie. Now everyone, BEETLEGEUSE! BEETLEGEUSE! BEETLE.....!': 1,\n",
       "         \"This is definitely a guilty pleasure.  As often as I think I'm not supposed to be liking this film, I can't help it.  The cast is what does makes this a solid and rewatchable vehicle.  It also has the steady feel of a Burton film, with great production values and a great sense of its own ability to frighten and delight all at the same time.\": 1,\n",
       "         \"What can I say? This is a CLASSIC! I've seen this movie so many times I actually have most of the words memorized. This movie is hilariously funny, but at the same time it has a touch of drama in it. It's an all around great movie.<p>Michael Keaton does an excellent job of playing the odd, funny, and perverted Beetlejuice who causes quite the chaos with a newly deceased couple, Adam and Barbara. Let me just say no one and I mean NO ONE could've been better for the part of Beetlejuice.<p>The only disapointting thing about the DVD Beetljuice is there were no deleted scenes or extra footage.. I was disapointed, but I love this movie so much it was still worth it!<p>If you haven't seen Beetlejuice, then YOU MUST SEE IT. And for all the Beetlejuice lovers and fans out there this is a must have to your video or DVD collection~\": 1,\n",
       "         \"Re-watching Beetlejuice more than a decade after it thrilled, frightened and enthralled me as a child makes me sad about Mr. Tim Burton's transformation into a Hollywood favorite semi-quirky remake-director (Planet Of The Apes, Sleepy Hollow) in recent years (Big Fish indeed signals a hopeful recovery - if only Charlie And The Chocolate Factory doesn't spoil it...!) At the young age of thirty, and in only his second full length feature, Burton created a cult favorite that is one for the ages. In this bizarre, off-beat script by Michael McDowell (who collaborated with him before on an episode of the `Alfred Hitchcock Presents' television series) he found the ideal vehicle for his unique and strange imagination - and indeed, Burton's unique vision is more apparent here than in any of his movies, The Nightmare Before Christmas being the happy exception. Though it's true that it's not as personal a creation as `Nightmare' or Edward Scissorhands, this is the movie that would place Burton on the map as a major director, and would earn him his breakthrough job - directing the first Batman feature film. It is on Beetlejuice that he would also start several long-time collaborations with actors who would work with him again in the future - Michael Keaton (Batman &amp; Batman Returns), Winona Ryder (Edward Scissorhands), Jeffrey Jones (Ed Wood, Sleepy Hollow), Glenn Shadix and Catherine O'Hara (both of whom did voiceovers for Nightmare Before Christmas).<p>So, again, while Beetlejuice isn't as deep and personal film as we would see in Nightmare Before Christmas, Edward Scissorhands, Ed Wood or Big Fish, Beetlejuice is an incredibly imaginative and captivating film and is a perfect black comedy. Geena Davis and Alec Baldwin are both more than adequate, but Michael Keaton in the title part is of course the real star of the show - although in reality his part is much smaller than those of Davis and Baldwin. Keaton is electric and mesmerizing as the bio-exorcist or `the Ghost with the Most', Beetlejuice (spelled BETELGEUSE!), probably the greatest and most memorable performance of his career (with the possible exception of the part of Batman). Keaton really let loose in Beetlejuice, and he and Burton were seemingly having a blast - they created one of the most memorable horror and comedy characters on the big screen. Seventeen year old Winona is also terrific as Goth-girl Lydia, fascinated and repulsed by Betelgeuse's extreme personality. Similarities between her character here and the one in Edward Scissorhands are easy to find, but for my money her performance as Lydia is the better one.<p>And in conclusion, if there's any movie that I'd recommend to own on VCR or DVD, it's Beetlejuice; because Burton at his best made films that are well rewarding in repeated viewing, and Beetlejuice is Burton at his very, very best, even if it's not his best film. So even if it's not an essential masterpiece like Edward Scissorhands, Beetlejuice is one of the classic cult films of all time, and I can't imagine going through life without it - that is, if you have the tiniest bit of a sense of fun and humor.\": 1,\n",
       "         'This is one of the movies you will neeed to see twice.  Its dark, weird, and very funny.  I remember watching it over over for its has spirts and newish ideas on the dead world with out being scary.  Must see for all.  Not movie is quite like it.': 1,\n",
       "         \"Really, this is one of the strangest movies I've ever seen, and you know what? I loved it with all my heart. Tim Burton knew what he was doing, aparently, because this film is unbelievably entertaining. The dialogue is clever, the story is wonderful and the characters make the film shine. Winona Rider is marvelous as the troubled gothic teenager who wears black and veils to the dinner table. Her mother is a power woman designer who turns the house into a Tim Burton Dream land where all sorts of goodies can happen, especially with a little tampering from a few ghosts. This film also has a great score from Danny Elfman who worked with him previously on Batman and Pee Wee's Big Adventure. After this the director/composer duo have never split up and togehter they create magic for everyone to see and love.\": 1,\n",
       "         \"Tim Burton had come off the blockbuster success of his first feature film PEE-WEE'S BIG ADVENTURE (1985) when he was greenlighted by Warner Bros. to direct the project he REALLY wanted to make. It was the picture that would define the rest of his career to this day: the supernaturally weird black comedy (and weirdly-titled) BEETLEJUICE (1988). It was so unique, so strange to me that I didn't know what to make of it when I first saw it on video in 1989. I remember from that first time liking parts of it, but not liking the picture as a whole. The movie was so frenetic, so odd in its mixture of Goth Horror, Comedy, gruesome visual effects (I'm still kind of amazed that it got a PG rating instead of PG-13) and cartoonish slapstick that I really didn't know what to make if it. Well, now that I've seen it at least a half-dozen times since (three of them in the past year alone), I can say that it has held up better than many of the most popular 80's films (TOP GUN, etc) and has become a classic all unto itself.<p>With BEETLEJUICE, Tim Burton showed not only that he could direct effective comedy and illicit inspired performances from his actors, but also bring a true artist's touch to the big screen. Of course, the film won the Oscar for Best Makeup (as if there was any real question about it), but I also think that it should have also been at least nominated for Visual Effects and Art Direction, as those truly mesmerizing aspects all come together to create a product that is so unique. Not only that, but this film helped make the careers of several actors who would go on to major success soon after.<p>Two of those actors are Alec Baldwin and Geena Davis, as the ill-fated newlyweds Adam and Barbara Maitland who, after buying a big Victorian dream house at the film's outset, die in a bizarre car accident soon after. Slowly realizing that they've passed on to the next world, they don't want to give up their house to the pathetically bourgeois Charles &amp; Delia Deetz (Jeffrey Jones &amp; Catherine O'Hara), who along with their chubby, effete chauffeur Otho (Glenn Shadix) have already moved in, and inspire true disgust in the newly-dead couple. However, they seem to have an ally in the older couple's death-obsessed Goth daughter Lydia (Winona Ryder) see an afterlife advertisement for a &quot;Bio-Exorcist&quot; named Betelgeuse (Michael Keaton) and decide that their only hope in driving out the destestable Charles, Delia, and Otho is in using the wild, unpredictable Betelgeuse. Of course, good ol' Betelgeuse will gladly provide his unique brand of service, but at a very high price. <p>Alec Baldwin &amp; Geena Davis fill their roles very well. The ironic thing is that this was the first film I'd ever seen Alec Baldwin in, so my first impression of him as the nerdy, good-natured Adam ended up being turned around by 180 degrees by the psychotic, tough-guy roles that would define the rest of his career. That turnabout came pretty quickly, actually, as the very next film I would see him in was MARRIED TO THE MOB (1988), in which he was a mobster unbeknownst to his wife who gets offed early on, but it was his psychotic turn in the extremely quirky and violent MIAMI BLUES (1989) that really shocked me and made me realize that Alec really had some range to him (unfortunately, he would be end up being typecast as psychos for the rest of his career). However, Geena Davis, herself at the cusp of stardom (and Oscar acclaim) is playing pretty much the quirky kind of character that would eventually define her career. In fact, it was just the following year that she would win the Oscar for Best Supporting Actress for playing the truly quirky and inspired Muriel Pritchett in the otherwise uninspired THE ACCIDENTAL TOURIST (1989). This film, of course, also boosted the career of the now-infamous Winona Ryder, who quickly became the hot new &quot;it&quot; girl in the late 80's with this movie and with others soon to follow: 1969 (1988), HEATHERS (1989), GREAT BALLS OF FIRE! (also 1989), EDWARD SCISSORHANDS (1990, and another Tim Burton film) and MERMAIDS (also 1990). Of course, former AMADEUS (1984) emperor and FERRIS BUELLER'S DAY OFF (1986) principal Jeffrey Jones, now infamous for his own reasons, is also terrific here, as is former &quot;SC-TV&quot; alumnus Catherine O'Hara. We also get a welcome supporting performance from the great old character actress, Sylvia Sidney, as the chain-smoking receptionist Juno!<p>But it was Michael Keaton, who was already an up-and-coming comedic actor known for quirky hit comedies such as the Ron Howard-directed NIGHT SHIFT (1982), MR. MOM (1983), JOHNNY DANGEROUSLY (1984) and GUNG HO (1986), who really stole the show and hit paydirt in the process. He would immediately be elevated to &quot;A&quot; list status with his truly brilliant, maniacal and hilarious performance as the titular Betelgeuse, going immediately on to bigger &amp; better things with Tim Burton himself, starring soon after as BATMAN (1989)! It's funny; I think that in 1988, Keaton was robbed of Oscar nominations not only for this truly unique comedic role, but for also his surprising dramatic turn as a recovering alcoholic in CLEAN AND SOBER. It just shows that, for whatever reason, comedians just don't get recognized enough for their acting ability.<p>BEETLEJUICE is a lot of fun. It looks like it must have been a lot of fun to make. Despite the liberal PG rating, I would recommend it only for ages 9 &amp; up, as the humor is quite adult and the rather gruesome visuals are likely to give any young child nightmares. It is still a truly unique movie with incredible special effects, and it still makes me laugh to this day. Oddly enough, whenever I see it, it makes me that much less afraid to die!<p>HIGHLY RECOMMENDED\": 1,\n",
       "         \"dudes, you can't argue that there's some iconic sh** in this flick.  the characters are all killer, winona rocks in her day, and the b-juice is one of the ultiimate onscreen personas of all time.  wicked.  funny.  the scenes in the death waiting room are a scream.  for an old flick, this is good eatin.  i'm out.  j.\": 1,\n",
       "         'Here\\'s the plot of 1988\\'s \"Beetlejuice\", significantly simplified:<br /><br />A young couple who\\'ve recently died find that another family is moving into their house. They must haunt their home and drive the family away, but find it nearly impossible to do. So, new to the afterlife and oblivious to the danger involved, they seek assistance from the kooky bio-exorcist Beetlejuice to help them freak the new family out. But the spirit realm\\'s menace of a ghost has some choatic plans of his own.<br /><br />As for some of the cast and crew:<br /><br />Tim Burton as a director has almost always succeeded in delivering spectacular films, and this is no exception. His strange visual style is mesmerizing as usual. Danny Elfman\\'s theme (as well as the rest of the score) is brilliant. Geena Davis and Alec Baldwin were obviously great choices as the recently deceased couple. Catherine O\\'Hara and Jefferey Jones fit quite well as the parents of the invading family, with their goth-daughter played by the heavenly Winona Ryder. And, last but not least, the character of Beetlejuice is portrayed perfectly by Michael Keaton.<br /><br />And for my personal opinion:<br /><br />Keaton stole the show, no doubt about it. I think the main reason anyone should see this is for the whacky charismatic character of Beetlejuice. From some of the best one-liners you\\'ll ever hear, to the nutty antics he applies to practically everything he does, he\\'s one of the greatest characters ever to grace the screen. Superbly supported by an extensive cast and crew that knew what they were doing and everything that was needed for a classic comedy of twisted themes, there is no denying the power of such a film. This is a must-see for sure (and for most, a must-own).': 1,\n",
       "         \"Set in a small New England town, Tim Burton's masterpiece &quot;Beetlejuice&quot; follows the life of Adam and Barbara Maitlin, owners of a large house and small hardware store. While taking a vacation at home, the couple drowns in a mishap car accident. When their home is taken over by boisterous city-folk, they turn in several directions for help  in haunting the Deets family. One such prospective poltergeist is Beetlejuice- brilliantly played by Michael Keaton. <p>Featuring a star-studded cast including a young Winona Ryder, Geena Davis, Alec Baldwin and of course Keaton, the storyline boasts creative, believable characters simply not seen in movies these days. <p>Everything in the storyline is clever, from props to costumes right down the score. One of my absolute favorite films!\": 1,\n",
       "         'Beetlejuice is a movie I consider to be one of Tim Burton\\'s best movies. I also consider it to be one of those kind of movies that could have come out only in the 80s (much like Labyrinth starring David Bowie and Jennifer Connelly).<br /><br />Beetlejuice deals with a recently deceased married couple, the Maitlands, who finds themselves essentially \"trapped\" in their former house for the next century or so. Unfortunately, this means living with the house\\'s new owners, the Deetz. The Maitlands don\\'t mind Deetz daughter Lydia played by Winona Ryder so much but her much more obnoxious parents and want to scare them away from the house. Their case worker tells them only one thing: to NEVER even think about recruiting her former assistant Beetlejuice. Unfortunately, they manage to resist for a while before giving in and Beetlejuice causes nothing but problems.<br /><br />It\\'s definitely a work by Tim Burton. His ever-present \"uniqueness\" and charm is there. Beetlejuice is a fun 80s movie and a very fun watch period. the acting by everyone involved in the movie is great (especially Michael Keaton as Beetlejuice). The make-up for the necessary characters were well done and the \"afterlife\" set designs and make-up there were great. I loved the make-up and designs in the afterlife scenes.<br /><br />The movie itself is great and I would have given it five stars. The blu-ray as a whole leaves a little to be desired. It\\'s one of those DVDs or blurays that pretty much leaps right into the movie. No title screen, scene selection, anything. This was a bit annoying since I had to manually go skip through the whole movie to get back to where I left off the night before. There\\'s a small handful of special features that you may or may not be interested in. The special features are only three episodes of the cartoon series (of which I watched as a kid) and an audio track. The special features it does have really aren\\'t that bad, I would have just liked to have had more. Like some sort of commentary, deleted scenes, or something.<br /><br />All in all, five stars for movie itself and three for the blu-ray (averaging four stars).': 1,\n",
       "         \"What happens when you say his name three times? Michael Keaten stars in this comedy about two couples that live in an old two story house.  While coming back from a supply store, the couple suddenly get caught inside of a  &quot;broken-up&quot; bridge and then just before they start to tumble down  into the lake, a board catches them.  But just when they've got their hopes  up, and small dog steps on the board and the car starts to slide off the  bridge and into the lake waters.  A few minutes later...<p>They find  themselves back into their home, they find that somehow somehad light the  fireplace, as if done by magic.  From then on, they find a weird-looking  dead guy known as Bettlejuice.  The only way they can get him for help is  to call him by his name three times and he will appear at their survice.  But they soon wish that they have never called his name, because  Bettlejuice was once a troublemaker but he is the only one who can save  them, on the account that they said his name three times.  They can't leave  their houses or else they will find theirselves in another world with giant  sandworms.  This is a stellar comedy that you should see! Michael Keaton is  awesome as he plays the leading role of Bettlejuice.\": 1,\n",
       "         'DVD arrived in a very timely manner, packaging was good, and they were inexpensive.  I would definitely buy from this seller again.': 1,\n",
       "         'This is one of those movies that is a quirky classic, along the lines of Princess Bride or Willow. You never gat tired of watching it.': 1,\n",
       "         \"awesome<br /><br />I've been watching Beatlejuice for as long as i can remember. ive seen it so many times its now easy for me to quote lines. this is a great humorous movie that will forever and always be even better the more times i watch it. definately a classic.<br /><br />Michael Keaton is ghoulishly funny in this wonderful blend of horror and humor. Enjoyable family viewing on a Halloween night. Invite the neighborhood goblins over.\": 1,\n",
       "         \"Tim Burton's fantastic vision of life after death.Michael Keaton plays one of the best characters in film to the hilt and should have not been forgotten.Winona Ryder plays the goth-type daughter of Catherine O'Hara and Jeffrey Jones all who are great in their roles.The story though is based upon a couple,played by Alec Baldwin and Geena Davis,who drown in a car accident and struggle with the after life and the new owners of their beloved home.The movie is dark,especially when Baldwin and Davis have to go to the head of the dead to find out how to get rid of the new owners.It's interesting how those that have died tragically have to spend the after life working.Harry Belafontes music is put to good use in 2 big scenes.Definitely one of Burton's best works that should not be missed.\": 1,\n",
       "         'This is a fun movie and appropriate for older children through adults.  We enjoyed watching it with our 2 children ages 9 and 11.  The music is fun too.': 1,\n",
       "         'I truly enjoy this movie and it is a classic. Like watching old movies with stars who are big celebrities now. This was a start with their popularity. The movie is funny and very interesting story': 1,\n",
       "         'The DVD arrived in brand new packaging and I received it timely and when I was told that I would.  Would buy again.': 1,\n",
       "         'Awesome, fun movie! I never tire watching it over and over. Great cast.<br /><br />This film is the one to watch to get in the Halloween mood.': 1,\n",
       "         'Just to warn you. when in trying to trick you in the widescreen format, the company made a mistake by also including the full screen version with it.  i compared the widescreen and the full screen. and the full screen seems to comtain more picture at the top and bottom.  which must mean, that all they did was take the full screen version, cut off the top a bottom slightly and call it widescreen.  which is strange because i would expect it to be easier just to make the theatrical version than to carefully edit the full screen and rip many people off.': 1,\n",
       "         \"I used to want to recommend this to anyone a while ago, and I still do! Beetlejuice is the kind of film that I sometimes like to watch more than once in a row. It used to be my favorite movie and I still very much enjoy it!! This IS the kind of movie where you have to watch out who sees it, but I do not think it's scary at all and  it is a classic.\": 1,\n",
       "         'Classic Tim Burton, Micheal Keaton at his best, and the movie that introduced me to Winona Ryder. I love it.  I wish I knew what the impetus was for this twisted take on the afterlife.  It was hilarious when I was 10 and 17 years later I still thoroughly enjoy it.': 1,\n",
       "         'That quote \"And it keeps getting funnier every single time I see it\" will be put to good use, because that is what you\\'ll say when you watch this movie again and again. What is there to say about Tim Burton? He can\\'t stop with the good movies!<br /><br />This has to be up there in at least the top 20 of the best comedies of all time. It\\'s twisted, but very very funny. I swear to you, if you watch this film, you will get one laugh. Probably more if you give it a chance.<br /><br />And of course, Beetlejuice is now one of the most famous charactors in movie history. Way to go, Tim!': 1,\n",
       "         'Adam and Barbara (Alec Baldwin and Geena Davis, as a very convincing couple with great chemistry), are dead. Now they can\\'t leave their sprawling New England home. Good thing they\\'ve got the \"Handbook for the Newly Deceased\" to help guide them on their way through the beuracratic world of the dead.<br /><br />They\\'ve got a problem. A new living family (Cahterine O\\'Hara, Jeffrey Jones, and Winona Ryder) is inhabiting their house. Worse than that, they\\'re remodeling the place. What\\'s a pair of ghosts to do? When they can\\'t scare them out, they call on the help of the famous Bio-Exorcist: Beetlejuice (Michael Keaton in his best role ever).<br /><br />What results is a mixture of dark comedy and sweet special effects (for the late 80\\'s at least) set in front of stunningly imaginative and interesting scene design.<br /><br />Beetlejuice is a classic, and if you haven\\'t seen it yet, now\\'s your chance. Since this is an old DVD there really aren\\'t many special features. Just a lot of written \"Notes\" on the film, but even those are pretty cool.': 1,\n",
       "         \"I feel in love with this movie when it first came out, years later I am the parent and decided to puchase this movie so my children can enjoy it as well.<br /><br />My son loves this movie, Michael Keton does a wonderful job of portraying the off humor Beetlejuice, Alex Baldwin and Geena Davis does a great job of being the plain Jane/John couple who dies and have not crossed over. Outstanding job to Winona Ryder as Lydia, the misunderstood teen ager who no one appears to understand.<br /><br />I give this movie two thumbs up, one scene in particular that still cracks me up is when they brought back the couple, Alex's character begins to speak and his jaw falls off... not to forget the beloved scene when Beetlejuice is sitting next to the Witch Doctor and steals his number, the head shrinking scene is just too funny for words.\": 1,\n",
       "         '<a href=\"http://www.amazon.com/gp/product/B001AGXEAG\">Beetlejuice (20th Anniversary Deluxe Edition)</a>I am very impressed with the new transfer of this film. The features are not that great but the cartoon series was pretty cool. I am interested to find out how good the blu-ray version is. Sweet dvd!!!': 1,\n",
       "         \"It's a great movie which represent what is very typical of the eigthies both in clothing and style throughout all of the 'living world' scenes.  Beetejuice's character is wodnerfully played -- it's hard to watch him and imagine him as Batman as well because he really gets into this character.  It's kind of a dark, inside-kind-of-joke, movie where you really need to listen to the main character speak because he says so much under his breath, but in-hindsight the second time around, he's much more funny than I remember.\": 1,\n",
       "         \"This movie is a classic scare comedy! Perfect for Halloween!!! If you love Tim Burton, this is a must own (pre Winona Ryder shoplifting breakdown). It's cheesy, fun, and a movie I can watch over and over!!!\": 1,\n",
       "         'Here is a movie that is top notch in a lot of ways. It\\'s a great family movie. Some may not agree, but I say it is. Adults will understand it more but kids will love the colorful creatures, even though several aspects of the film will fly right over their heads. Tim Burton really hit the button here on his unique style of filmaking, and really never did it better, even with the number of great films he\\'s waxed his style all over through the years.<br /><br />The story starts with Alec Baldwin and Geena Davis as \"The Recently Deceased.\"  They have to learn how to be ghosts, and it\\'s not easy. That is why there is a department dedicated to helping their cause, however, it is as backed up as an inner city welfare office. This is why sleazy swindlers such as the title character come around, dedicated to taking advantage of their delicate situation.<br /><br />When our ghosts discover that they have to share their small town dream home, with some living artsy-fart aristocrats, it\\'s more then they can bare. SO, as most ghosts would do in this situation, they decide to scare the new tennants away. However, their obvious inexperience proves as a pitfall. Especially since these a*holes get a kick out of it, and start using them as party favors. Enter Michael Keaton as Beedle Geuss (He needs somebody to pronounce his name right).  The couple, desperate, go against the wishes of the department and hire him, to give the new tennants a proper scare. Although they soon realize that they may have gotten in too far over their heads with this ghoul.<br /><br />Lydia, played by Winonna Ryder, is the disillusioned daughter of the artsys and she somehow naturally communicates with the dead, and becomes a friend to the couple. Naturally she becomes the prime target for Beetlejuice also (If I was a sleazy ghoul, I would be all over her too!) and thats when things get ugly. But don\\'t worry too much, because in the end everyone figures out how to compromise, and dance around the house to the tune of Shake Senora. The comedic icing of the whole demented cake.<br /><br />This movie works just as well as a comedy, as it does a terrific ghost story. The effects are great, and a symbol to what made Tim Burton so cool early in his career (who can forget those claymation sand serpents?) The score is perfectly creepy, and this thing is just an all around great movie. Good stuff for the Halloween film fest peeps. I pull it out all the time!': 1,\n",
       "         \"I give the blu-ray version of Beetlejuice five stars for the picture and sound quality alone.  The improvements compared to the previous DVD release are HUGE.  If I had to choose between warner spending money and time on a better transfer or more extra content, I would choose the better transfer.  After all, how many times are you going to watch behind the scenes material or a commentary?  It's been twenty years since this film was released, so it would be difficult for Tim Burton or anyone involved in the film to remember enough material for a commentary or even for short featurettes.  I'd rather have no commentary than a bad one.  This comes with a CD sampler of the soundtrack which is a nice addition.  I could care less about the episodes of the animated series even though I watched it as a kid.  My favorite aspect of this release is seeing the detail on the stop-motion puppets, the surreal set design, and Oscar winning makeup.  I can't recommend this enough.\": 1,\n",
       "         'After 20 years, this oddball dark comedy hasn\\'t lost its irreverent impact. Up-and-coming director Tim Burton\\'s playfully twisted visual style runs rampant through this movie, saturating nearly every frame. It even turns actor Michael Keaton into sort of a vile living cartoon, the one & only Beetlejuice, a manic bio-exorcist with sinister agendas. The film also boosted the resumes of terrific talents like Jeffrey Jones & Catherine O\\'Hara (here as an annoying trendy couple transplanted from New York to a small Connecticut town). The film helped maked stars of Geena Davis & Alec Baldwin (as the kind, hapless ghostly couple) and Winona Ryder (as the ex-New Yorker\\'s death-obsessed daughter, Lydia). But this is really Keaton\\'s movie all the way, in spite of a good cast.<br />The art direction, make-up & special effects have Burton\\'s distinctive stamp all over them.<br />I was slightly disappointed that this 20th Anniversary Edition didn\\'t have at least interviews or a making-of featurette (although it includes a handful of the delightful \"Beetlejuice\" animated episodes).<br />However, it\\'s a little offbeat comedy that\\'s achieved cult status over the years (all you have to do is view it to figure out why). Just don\\'t say the title three times!': 1,\n",
       "         \"Keaton was amazing in BEETLEJUICE, one of Tim Burton's funniest movies. Alec Baldwin, and Geena Davis do a credible job in their roles as newly departed homeowners caught up in underworld bureaucracy, and Wynona Ryder is delightful as the morbidly-inclined daughter of the 'bio' invaders of the home Baldwin, and Davis don't want to move on from. There are very few dark farces as comically twisted as this delightful romp through the afterlife, and none with a more hilarious lead anywhere. I haven't grown tired of watching this macabre laugh-riot in twenty years, and unless you're missing a funny bone, you won't either.\": 1,\n",
       "         \"Of all the movies that Tim Burton did, there are three names that come out a lot during discussions. Of course his two Batmans, then his masterpiece Edward Scissorhands,  but most of all his excellent comedy Beetlejuice. Why's that? Because as a society where we usually consider the after-life as a dark and depressing world, Tim Burton presents death in a different perspective. He represents it as an extremely funny world where people become ghosts stuck in their own houses and are haunted by the living, a world where death is a huge bureaucracy, and a world where there are bio-exorcists, like the one and only Mr. Beetlejuice. Although this is a movie where the main characters are Alec Baldwin and Geena Davis, and they do an excellent job as a recently dead-couple, it's Michael Keaton who deserves the spotlight. For each time he appears on the screen, he just makes you laugh with his funny one-liners (excellent improvisation from Michael Keaton) and his perfect interactions with his co-stars such as Sylvia Sidney, Winona Ryder, Glenn Shaddix, Jeffrey Jones, and Catherine O`Hara, all future collaborators during Tim Burton`s career. Everyone, and I mean everyone, delivers a perfect performance.<br /><br />Not only that it is a movie that has excellent visual effects, both traditional and with the computer. Also, I loved how they were able to integrate gorgeous stop-motion animations during the movie. They were well integrated in the movie and are a proof that this kind of animation can really bring great possibilities to a movie, though there are certain limits to it of course. But hey, that also counts for CGI too.<br /><br />Finally, a great cheer to Danny Elfman, whose soundtrack really gave him the popularity and respect he deserved. A great idea from the makers of this DVD to integrate the soundtrack as a separate audio track.<br /><br />In the end, a great classic that should be listened over and over again and being considered a classic of modern american cinema.\": 1,\n",
       "         'I saw this movie 20 years ago and wanted my husband to get the chance to see it too.  It was just as entertaining as I remembered it!  Not really scary - just a gentle spoof that is actually uplifting.': 1,\n",
       "         'The humor is definitely there, my favorite part at the dinner table and they are all singing. Not too scary depending on age I guess. When I was a little kid I was already watching freddy and jason movies with my dad so this movie was nothing to me when i got around to watching it.  I like the plot but felt that beetlejuice should have had a bit more screen time.': 1,\n",
       "         'Oh, snap, that\\'s right, Alec Baldwin once upon a time was svelte, as so documented in BEETLEJUICE, the 1988 film that - along with CLEAN AND SOBER - made a case for Michael Keaton having a streak dark and dangerous enough to qualify him for the then upcoming Batman role.<br /><br />It can be tough when you\\'re newly shuffled off that mortal coil, tough when the shelf life exceeds the expiration date. Adam and Barbara Maitland (Baldwin and Geena Davis) - a young couple in love - are freshly minted ghosts who find themselves confined to their quaint New England home, and they seem content enough with their new sitch. But when a family of obnoxious artsy-fartsy New Yorkers move into their house and threatens to annihilate their peace of mind, the Maitlands may have no recourse but to contract that shady freelance \"bio-exorcist\" Betelgeuse. Certainly, the Handbook for the Recently Deceased isn\\'t much help. Adam and Barbara\\'s irascible case worker Juno - who is supposed to ease them into the afterlife - worsens things by remarking that the Maitlands must spend 125 years on Earth in their house before they can move on. Anyway, it\\'s a delectable twist, this meek and retiring ghostly couple being haunted - and bullied - by the living. BEETLEJUICE, as if you didn\\'t know, is a hugely entertaining supernatural comedy. Harry Belafonte\\'s catchy calypso music simply acts as a bonus.<br /><br />The Maitlands\\' bridge to the living is Winona Ryder\\'s appealingly strange little goth girl, Lydia Deetz. Lydia is pretty much the only \"house guest\" that Adam and Barbara can tolerate and they, in turn, become surrogate parents to Lydia whose real parents (a shrill Catherine O\\'Hara, a distracted Jeffrey Jones), let\\'s face it, tend to neglect her to bits. Lydia demonstrates an unnatural awareness of the ghostly Maitlands, and it\\'s her curiosity which helps propel a major plot point - namely, Betelgeuse\\'s getting his hooks into the Maitlands. Adam and Barbara prove to be too mild-mannered and just too nice to put a proper fright into the Deetzes - their idea of scaring the mortals is to possess them and make them dance to Harry Belafonte. Conversely, Betelgeuse embodies equal traits of perversity and meanness and he right away cows the Deetzes; the Deetzes\\' family friend, Otto, especially has it coming. But then we learn that Betelgeuse has his own nasty end game in mind, with no one but the Maitlands and the spunky little girl, Lydia, to thwart him. As likable as Baldwin and Davis are, Michael Keaton\\'s awesomely manic, joke-a-second performance fuels the movie. He injects just enough demonic chops to come across as a sinister adversary.<br /><br />Director Tim Burton put Hollywood on notice with PEE-WEE\\'S BIG ADVENTURE, and BEETLEJUICE only expanded his street creds. BEETLEJUICE exhibits Burton\\'s bag of tricks - the distinctive style, the touch of artistic creativity, that smidge of the surreal and the fantastic. There\\'s a lot of visual treats, ranging from the storybook look of the Maitland home to the bizarre architecture of the offices of the supernatural underworld. The dazzlingly inventive sight gags add to the film\\'s offbeat humor. That waiting room is almost as diverting as the Star Wars cantina in terms of ambiance and their inhabitants. All in all, BEETLEJUICE is an astonishing, demented spin on the classic ghost story. Exorcism has never been more fun... or backwards.<br /><br />So this DVD is The 20th Anniversary Deluxe Edition and offers these paltry bonus features:<br /><br />- 3 BEETLEJUICE Cartoon Episodes: \"A-Ha!\", \"Skeletons in the Closet,\" & \"Spooky Boo-tique\"<br />- the option to watch the film in Music-Only Track<br />- Theatrical Trailers for BEETLEJUICE and PEE-WEE\\'S BIG ADVENTURE': 1,\n",
       "         \"I've always loved Beetlejuice and it's no surprise I love this DVD! It's a classic and it even includes a few episodes of the cartoon version. It's AWESOME.\": 1,\n",
       "         \"I love this film.  Barbara and Adam Maitland, a young couple madly in love (played by Geena Davis and Alec Baldwin) discover that they are not only dead but trapped in their home as ghosts waiting for the bureaucracy of the afterlife to set them free.  When a New York couple (Catherine O'Hara and Jeffrey Jones) and their teenage daughter Lydia (wonderfully macabre Winona Ryder) move into their beloved house, the Maitlands want nothing more than to remove them.  The problem is, the Maitlands are too nice to truly scare anyone.  They meet a rogue ghost, the ribald, disgusting Beetlejuice (Michael Keaton) who promises to drive the family away, with a few strings attached.  Lydia, whose goals aren't that far from the Maitlands and who has a morbid, poignantly sad outlook, discovers the ghosts and tries to help them.  But Beetlejuice has his own agenda.<br /><br />The casting for this movie is perfect, with only Alec Baldwin's performance less than memorable.  Michael Keaton is suitably slimy and decadent, while Geena Davis plays the earnest innocence of her character equally well.  The most startling performance is a young Winona Ryder, who shows tremendous range in her role as the morbid but good-hearted Lydia.<br /><br />One of the most hilarious, dark scenes ever filmed is contained in this movie, when the New York couple throws a pretentious dinner party and the Maitlands take over. Director Tim Burton uses sight gags, situational comedy, and one-liners that all bear his trademark quirkiness to make this film inventive and, even years after its release, fresh.  What's most amazing in this film essentially about the weirdness of being dead is the emotional drive of it.  The Maitlands' yearning to reclaim their home even in death and Lydia's wounded, lonely adolescence lend humanity to an otherwise wild comedy.<br /><br />I highly recommend this off-beat film for its hilarity and irreverence.  Parents of young children should be warned that the film contains off-color humor as well as images and ideas that might disturb young minds. -- Debbie Lee Wesselmann\": 1,\n",
       "         'My one-star refers to this so-called \"20th Anniversary Deluxe Edition\" of this hilarious and eye-popping delight from director Tim Burton.<br /><br />Since the inception of the DVD format, I have been waiting for a proper DVD of Beetlejuice with commentary and special features.<br /><br />I am sorry to say that this pathetic disc is NOT what I have been waiting for.<br /><br />Though they supposedly have spruced up the picture, the ONLY special features are three Beetlejuice cartoons and I think some music track or something.<br /><br />NO commentary, NO behind-the-scenes, NO nothing.<br /><br />So -- NO sale.<br /><br />I\\'m still waiting...': 1,\n",
       "         \"Just wanted to post a correction to what the previous review said...<br /><br />The film is NOT based on the cartoon it's the other way around. The cartoon came later.\": 1,\n",
       "         \"I thought this was a really good movie! Since it's a film by Tim Burton, you get a dark, depressing feel, and Danny Elfman music, and stripes. Michael Keaton, Alec Baldwin, Geena Davis, and Winona Ryder all did a perfect job! Michael Keaton is hilarious and awesome as Beetlejuice! Adam and Barbara Maitland die in a car crash, they are given a rule book to go by on how to be dead. The Deetz family moves in, but Adam and Barbara want them out. Somehow, they're hot gothic daughter, Lydia can see them. They become friends, but they still want to scare them out. They seek the help of Beetlejuice, who is extremely obnoxious, and a bio-exorcist who tries to help Adam and Barbara, but he's too scary and obnoxious to leave and stop. The Deetz's bring Adam and Barbara back from the dead, but Lydia doesn't want them to because it'll torture them. Desperately, she asks Beetlejuice to help. If you love gothic comedy, you'll love BEETLEJUICE!!!\": 1,\n",
       "         'Why oh why do studios stamp \"Deluxe Edition\" on movies and then provide nothing to make it worthy of that title??????  I absolutely LOVE the movie Beetlejuice, and just about anything else Tim Burton has done.  The Blu-ray version of this movie looks and sounds better than any version I\\'ve seen before.  The colors are sharp and the sound is greatly improved over other DVD iterations I have seen before.  The movie comes with a nice slipcover featuring the cover art in lenticular motion.  That\\'s about the only really special feature you are going to get on this disc.  With it being the 20th Anniv. of this film, I thought that surely something would have been included about the making of the film, but there is NOTHING.  There is no commentary track, no making of doc., no interviews with the cast.......NOTHING.  Oh you do get 3 episodes of the Beetlejuice cartoon.....yaawwwwnn and the original theatrical trailer.  I\\'m not complaining too much, because I do love this movie, and it is worth the price just to see it in High Definition.  It just ticks me off a little when studios stamp the \"Deluxe Edition\" on the cover, when there is nothing Deluxe about it.': 1,\n",
       "         'This has been my favorite movie since I was a little kid. I used to watch it every day! It has perfect casting. This movie has a little of everything-comedy, drama, horror(well sorta).<br /><br />Definitly a must see!<br /><br />~silence~': 1,\n",
       "         'not much i can say about this movie that fans of the movie dont already know!what i can say is this movie needs better dvd treatment and almost every one can agree with me on that,2disk special edition anyone?!': 1,\n",
       "         \"At the time of its release in 1988, 'Beetlejuice' was a huge hit. Although it does seem a little dated now, it still has some wonderful visual jokes (especially the characters in the waiting room). The laughs begin with the main characters' deaths after only 10 minutes. They look expectantly at a little dog who is balancing their car on a plank of wood over the edge of a bridge. He tip-toes off and they fall to their deaths. The film is full of satirical vignettes e.g. the after-life is managed by a number of desk clerks who have condemned themselves to an eternity as civil servants because they committed suicide. The Deetz's interior designer Otho is unafraid of all the ghoulish horrors that surround him, but yet finds himself in his most frighteneing moment when Betelguise removes his designer suit to reveal a 70's pastel leisure suit and he runs in terror.<p>Apparently director Tim Burton loved making the film as Warners stayed off his back for most of it, so he had greater freedom to improvise with the actors and the story. Half-way through its making, he didn't know how it was going to end. The stop-motion techniques might look a little dated but Burton was a big fan of Godzilla as a child.\": 1,\n",
       "         \"Beetlejuice is an awe-inspiring wonderfully amusing comedic romp that explores the incredible possibilities of the after-life and the boundaries of the absurd. Telling the tale of a recently dead married couple that suddenly gets led into the chaotic world of the supernatural. Adam and Barbara Maitland (Alec Baldwin and Geena Davis) discover many of the conflicting rather human imperfections that haunt the lives of the living also plague the afterlife as well.<p>Unlike some film projects that seemed to be blindly assigned to dispassionate filmmakers for commercial reasons, Beetlejuice's plot and bizarre subject matter remarkably complemented Burton's unusually macabre artistic sensibilities extraordinarily well. Created by the unbelievably brilliant guidance of imaginative film director, Tim Burton (Pee Wee's Big Adventure, Batman, Ed Wood, Sleepy Hollow). The film's uniquely creative landscape was a culmination of essentially all of the abundant irony and outlandish yet human behaviors that have graced the body of Burton's work.<p>Augmented by deviously energetic performances from Glenn Shadix, Jeffrey Jones, Winona Ryder, Catherine O' Hara, Geena Davis, and Alec Baldwin, the film bustles with uninhibited brilliant hilarity that persistently pushes the film to a level of almost affable euphoria. Paired with its ingenious screenplay and a tour de force performance by Michael Keaton as Beetlejuice. This film transforms itself into an exuberant jovial exercise that is extremely satisfying and philosophically perceptive on many levels. Though comedy is usually considered to be unable or undeserving of deep critical analysis, Beetlejuice is an undeniably inspired concept that has been flawlessly transferred to film. One of the most outstanding comedies of the 1980's. <p>As for the film's DVD package, the DVD includes the theatrical trailer, an isolated Danny Elfman musical track, and the choice to watch the film in anamorphic widescreen or Pan and Scan. Hopefully Beetlejuice will eventually be graced with a special edition. We can always hope.\": 1,\n",
       "         'Come on now.  how can you make a 20th anniversary deluxe edition without having the original version.  Not to say it is not a great movie but hey there is no need to edit the movie just so you can show it on disney channel.  I mean no offense but did the producers of this movie say hey why not edit it like a CD so we can sell it at walmart.  Come on where is the love of a good movie.': 1,\n",
       "         \"I have the DVD, and added the Blue-Ray.  A very good movie.  It is very re-watchable. It's also a good opportunity to view some famous actors in much younger days.  A much younger Alec Baldwin is hardly recognizable. Michael Keaton really isn't recognizable due to the makeup used, even though he played a great part.  Wynona Ryder plays a great part as always.  Gina Davis and Catherine O'Hara played their parts well.  Although the PQ was very good, I really didn't see any appreciable improvement in the PQ or Audio, over the earlier DVD.  I have a 5.1 system, with Polk Speakers.<br /><br />There is only one disc. There was no paper insert. The separate audio soundtrack (on the same Blue-Ray disc), failed to play on my Panasonic BD60 (with all firmware updates). Everything else played.  If you have the DVD, I don't see any benefit in getting the Blue-Ray.  I guess that's why the price dropped to close to single digits.  I'm really starting to question the benefits of Blue-Ray over DVDs.  In most Blue-Ray movies, I've watched, extras, present on earlier releases, have been removed.  I thought that was a major selling point in the Blue-Ray movement.\": 1,\n",
       "         \"Beetlejuice is the story of ghosts (Alec Baldwin and Geena Davis) who can't get along with the family (Jeffrey Jones, Catherine O'Hara, and Winona Ryder) that moves into their house. The ghosts enlist Beetlejuice (Michael Keaton) to help them, and the fun really starts. The movie is directed by Tim Burton. Robert Goulet and Dick Cavett make cameos. The score is by Danny Elfman. This movie has a great cast and a great director. <p>If you're a fan of Burton's other movies, you'll especially like this movie. Like all his movies, it has his distinctive look and feel to it. But anyone can enjoy this far-fetched comedy. Being PG, it should be appropriate for most members of the family. The DVD is lacking some of the special features that I would like to see though - like outtakes, behing-the-scenes, etc...\": 1,\n",
       "         'Beetlejuice is a very Tim Burtonesque Tim Burton movie, establishing his fascination with the macabre and, especially in this case, the funny, campy side of death and horror.  It\\'s the story of a newly dead couple (Geena Davis and Alec Baldwin) who are essentially stuck as ghosts in their house, and don\\'t like its new owners (parents Jeffrey Jones and Catherine O\\'Hara and daughter Winona Ryder).  They enlist the help of a more experienced, half-crazy but very insistent ghost, Beetlejuice (Michael Keaton), in an effort to scare the new owners away by haunting them.  Beetlejuice turns out to have his own agenda, and alliances shift as the story winds through learning to be dead, afterlife bureaucracy, wild chases through small spaces, Calypso dancing at dinner to Harry Belafonte\\'s \"Banana Boat Song\" (\"Day-O\"), a very goth wedding ceremony, and supernatural comeuppance.<br /><br />The cast, for the most part, is perfectly suited to the wacky material, the sets and make-up and other effects very imaginative, the story engaging.  Great fun.<br /><br />This new release is being marketed as the 20th Anniversary Deluxe Edition.  It will be newly remastered, but the extras announced so far are very limited: three episodes of the Saturday morning Beetlejuice cartoon series (\"Skeletons in the Closet,\" \"Spooky Boo-tique,\" \"A-Ha!\"), a music-only track, and the trailer.  The cartoons are about 11 minutes each.  Possibly more features will be announced later, but usually that doesn\\'t happen.  I\\'ve subtracted one star for the poor features in a \"deluxe\" anniversary edition; if they announce more features I may up my rating.  The best thing is likely to be the remastering, which is needed, since the older DVD wasn\\'t all the great.  Looking forward to that.': 1,\n",
       "         \"Maybe the definitive Burton film (or maybe more like a tie with `Edward Scissorhands'), `Beetlejuice' is a perfect representation of what Tim Burton is all about.  It is loud and boisterous and at the same time dark and edgy.  The film very much looks and feels like almost everything that comes out of the Burton factory, yet it is surprisingly fresh in a way.  Maybe this has to do with the fact that it is one of his earlier works and so the colors and graphics are not as crisp, which adds an almost gothic layer to the films feel.<br /><br />Then again, maybe it is the mere fact that Michael Keaton gives the best performance in any Burton film; ever.<br /><br />The film follows Adam and Barbara as they learn to cope with life after death.  Yes, a horrific car accident leaves Adam and Barbara dead yet confined to their home.  The problem is that their impatient neighbor takes no time in selling their home to an eccentric family that does not meet with their approval.  Determined to remove these people from their home they enlist the help of a `bio-exorcist' to do the trick, but they get far more than they bargained for when Beetlejuice comes on the scene.<br /><br />The film has been labeled as `pointless fun' by most of my friends, and to an extent I have to agree.  Many would claim the film is not pointless, for it teaches lessons of acceptance and friendship, and I guess loyalty and respect, but really, are we concerned with any of that?<br /><br />The acting is really good here, and it elevates the film from `pointless' to `pointless fun'.  Alec Baldwin and Geena Davis (complete with those alien eyes she had popping in `The Fly') are absolutely amazing as the dead couple, Adam and Barbara.  Catherine O'Hara is marvelous, award worthy even, as the insanely annoying Delia, and Jeffery Jones knows just how to compliment her as Charles.  Winona Ryder is effectively weird as their daughter Lydia.<br /><br />This film belongs to Keaton though, in what may very well be his finest performance, ever.  There is a fine line to be ridden between hilariously on-point and drastically over-the-top; especially when you are dealing with a typically campy performance.  As Beetlejuice, Keaton finds that line and rides it well, delivering an all over the place comedic performance that never feels `too much', even though it probably is.  He understands how to make his characters insanity justifiably funny and makes him an iconic character.  Everyone knows who Beetlejuice is, even if you haven't seen the movie.<br /><br />In the end I can recommend this movie because it does the trick.  It's sweet and charming in that Tim Burton style, complete with edge and creeps and hilarious thrills.  It looks better than his new stuff because it still has a level of grit, and while it is not as good as `Edward Scissorhands' (his best movie, ever) it is definitely a film that every fan needs to see.\": 1,\n",
       "         'You laugh at this movie so hard. Honestly not a movie for kids but this movie kicks so much ass. LOVE THE ART OF TIM B. Michale Keaton is a genus!': 1,\n",
       "         \"I've watched this movie so many times I know the dinner table dance routine. Somebody linked it on Facebook, and it made me want to watch the movie again so I did--haven't seen it in years, and I'm surprised I still know the routine. Michael Keaton does a great job as the oh-so-disgusting Beetlejuice, and the rest of the cast plays their roles just as well. The film's plot is just plain weird, but they pulled it off. Couple gets into car accident, dies, tries to figure out how to still live in their house while being dead, and a new family moves in. Should they haunt them? Should they be seen? How do both families coexist, especially with the daughter (Winona Ryder) able to see the ghosts who thought they were in the clear? And why is Beetlejuice always there to crash the party? The movie had a quick pace, funny dialogue and plenty of memorable visuals.\": 1,\n",
       "         'This is a review of the 1997 DVD release- thus far, as of September 2006, the only release I know of.<br /><br />Of all of the DVDs in my collection this has to be one of the most disappointing. Without going into minute detail of what makes the film brilliant- the classic score,  the hilarious comedy and Burton\\'s twisted but brilliant vision- the quality of the film transfer to DVD is almost criminal. It probably wouldn\\'t be noticed on television screens smaller than 27 inches, but on larger screens the picture becomes soft and grainy, devoid of detail and utterly perplexing, given that the movie was shot in the late 80\\'s. The first thought that sprang to my mind when watching it was that it almost immediately reminded me of my time in elementary school before we switched to video tape- the transfer is reminiscent of an old, battered 8mm film reel. I own a S-VHS vcr, and I have seen better film transfers on video tape. Additionally, the extras... well, what extras? There are several paragraphs of \"production notes\" which are basically brief overviews of Danny Elfman and Tim Burton, but nothing you couldn\\'t gleam from Wikipedia in three minutes.<br /><br />All that aside, I did pay $9 for it at Sam\\'s Club, so the old axiom of getting what you pay for is truer than ever- but I expected so much more. If you\\'re a Beetlejuice fan, wait for the inevitable Criterion Collection or Special Edition remaster.': 1,\n",
       "         'I live in Brazil and I could not find the movie ara sell here, I contacted all distributors and could not find the movie on DVD. I decided to look into the amazon and found on Blu-Ray. I was very happy with the purchase and now I can only enjoy.': 1,\n",
       "         'Simply put: Beetlejuice is the funniest comedy of its kind since Ghostbusters.<br />  Michael Keaton plays the title character, a fun-loving ghost that likes to do mischief.  Beetlejuice is called by a couple (Davis and Baldwin) to get rid of the people who live in thier house.': 1,\n",
       "         \"I recently saw the DVD 5.1 version of this film and it is excellent. The picture quality is, excuse the pun, picture perfect. The sound is very good on the surround but not much on dialog separation if any at all. But Alec Baldwin makes up for the rest. I have always told my partner that Alec would be the only guy in the world that i would leave him for.  I know it would never happen but each time i watch this movie my fantasy runs wild just like the movie itself.  This is just pure fun, pure entertainment, no thinking involved, no serious plot, no hardship, non racist, non potical just pure fun.  Get  it,,,,,you won't be disappointed.  If anything get it for Alec,,,,they don't get any hotter than him.\": 1,\n",
       "         \"I, myself always enjoyed this movie, it's very funny and entertaining, so I didn't hesitate to pick up the clamshell edition.  I guess it was a marketing plan to make the movie more for families or something, but they  have eliminated all strong profanity and elements that are usually edited  in the television version.  YOU HAVE BEEN WARNED.  If you want the uncut  version, AVOID THE CLAMSHELL EDITION!\": 1,\n",
       "         \"Beetlejuice is not a movie that you can't watch under . . . 5,000 times! It is one of the funiest movies ever made, mixing a strange reality to the story, along with a romance between Alec Baldwin and Geena Davis. The funny thing about this story is  the strange world between the living and the dead, and the recently deceased handbook, ha. You have to wait in your house for 125 years, while haunting the people that come in, and trying not to break your cover, and in the story, that is why hauntings take place. Tim Burton did an excellent job, and you have to see this movie.\": 1,\n",
       "         \"Beetlejuice has always been a family favorite.  I was very glad to order this from Amazon.  Unfortunately I thought I was ordering the 20th Anniversary edition shown in the picture with the special cover.  NOPE.....I received just the standard Blu of the movie.  I told Amazon over a month ago and they refuse to fix this ad.  If you just want Beetlejuice...this is for you.  If you are looking for what is shown in the picture, you won't get it.<br /><br />???? What happened to false advertisement ????\": 1,\n",
       "         'When Two Couple (Geena Davis & Alec Baldwin) died in a car accident but they come back alive as Ghosts, they are Stuck for eternity inside thier house. Months later, a New York Family (Winona Ryder, Jeffery Jones & Catherine O` Hara) move to a Little Connecticut Farmhouse, changing the house aesthetically. The Ghostly Couple are forced to call a Out of Control Troublemaker named Beetlejuice (Played in a Over the Top Role by Micheal Keaton) to get the new Family out of thier home.<p>Directed by Tim Burton (Batman, Batman Returns, Ed Wood) made a entertaining delightful silly fantasy comedy with unique Visual Effects and a terrific music score by Danny Elfman. A Box Office Hit in the Summer of 1988. The film has Plenty of Energy, Style and Humor. Danny Elfman win an Oscar for his Unique Score. A Extremely likeable film for all ages. Grade:A-.': 1,\n",
       "         \"Just hilarious... my favorite part is the dining room scene with all the singing and dancing!!!  Classic moment, not to be missed.  Winona Rider and Geena Davis are spectacular in this movie... and Michael Keaton is unbelievably funny!!  I couldn't stop laughing.  Great family movie... will keep you in stitches!!\": 1,\n",
       "         'Beetlejuice is coming back to DVD in a newly remastered 20th Anniversary Deluxe Edition, in both standard definition and Blu-ray, on September 16th, 2008.  The extras announced so far are very limited: three episodes of the Saturday morning Beetlejuice cartoon series (\"Skeletons in the Closet,\" \"Spooky Boo-tique,\" \"A-Ha!\"), and for the Blu-ray version an exclusive CD soundtrack sampler.  Possibly more features will be announced later, but don\\'t count on it.  The new Blu-ray will be 1080p video, but the specs for the sound haven\\'t been announced.<br /><br />Beetlejuice is a very Tim Burtonesque Tim Burton movie, establishing his fascination with the macabre and, especially in this case, the funny, campy side of death and horror.  It\\'s the story of a newly dead couple (Geena Davis and Alec Baldwin) who are essentially stuck as ghosts in their house, and don\\'t like its new owners (parents Jeffrey Jones and Catherine O\\'Hara and daughter Winona Ryder).  They enlist the help of a more experienced, half-crazy but very insistent ghost, Beetlejuice (Michael Keaton), in an effort to scare the new owners away by haunting them.  Beetlejuice turns out to have his own agenda, and alliances shift as the story winds through learning to be dead, afterlife bureaucracy, wild chases through small spaces, Calypso dancing at dinner to Harry Belafonte\\'s \"Banana Boat Song\" (\"Day-O\"), a very goth wedding ceremony, and supernatural comeuppance.<br /><br />The cast, for the most part, is perfectly suited to the wacky material, the sets and make-up and other effects very imaginative, the story engaging.  Great fun.<br /><br />If you don\\'t have the old, not-so-great DVD, the new release might be worth waiting for.  Amazon has a page to pre-order the new standard DVD <a href=\"http://www.amazon.com/gp/product/B001AGXEAG\">here</a>.  The Blu-ray version has a pre-order page <a href=\"http://www.amazon.com/gp/product/B001AGXEA6\">here</a>.': 1,\n",
       "         'well one of the best you just have to have a copy of this.': 1,\n",
       "         \"When the world didn't know who Tim Burton was, it must have been quite a shock to realise his genius first. This larger than life, colorful, yet dark, very funny, bizarre tale broke into the cinemas, and changed the face of storytelling as we knew it forever. Tim Burton was born, and a whole new dimension of dreams, imagination broke free. Movie was never the same again. And thank Tim Burton for that! You cannot do anything but enjoy this crazy story about a ghost, about the importance of life and love, friendship, and all this covered in an unbelievable cloak.\": 1,\n",
       "         'i got this cause i love the more. the quality is okay but i guess it would look nicer on a 120hz tv': 1,\n",
       "         \"An excellent commedy movie. It's alway good to have a piece of good commedy in your movie collection.\": 1,\n",
       "         'Being a child of the 70\"s / 80\"s I am now collecting movies from that era. I forgot how funny Beetlejuice is. Great movie!': 1,\n",
       "         \"My 12 year old had never seen this movie so I bought it for her for Christmas. Needless to say it has been on ever since! Personally, I think this was Michael Keaton's best performance - the Harry Belafonte soundtrack rocks also!\": 1,\n",
       "         \"This is one of my favorite movies (and, now that I've purchased it, one of my kids' favorites, too!). This movie is so hilariously cheesy it's irresistable. The soundtrack is great, and the kids always jump up to dance along with the characters at the dinner scene. While some of the lines border on awful, the actors are (usually) believable... and who wouldn't mind watching a young Alec Baldwin (remember? back when he was a hottie?). This movie is a classic and a great addition to any movie library (if for nothing else than historical value).\": 1,\n",
       "         \"I have loved this movie since I was a kid!  I loved the characters and the creepy special effects.  the ghosts were funny, but the living humans were even funnier!  it's just a fun movie that you can sit back and enjoy.\": 1,\n",
       "         \"Bravo Bravo! The atmosphere of this movie is spectacular! It has it's share of gloomy moments and hilarious moments which is what made this movie the success that it was, is, and forever will be.\": 1,\n",
       "         \"This movie is one of Tim burton's classic movies. A very amusing tale about the after life, About a young couple that died as a result of a car accident. From here on, the couple is getting acquainted with the ghost life style, The good and the bad things (Beetlejuice) , And a psychic sweet girl who is the only one able to see them. A trully great acting performence by all the classic Actors.\": 1,\n",
       "         \"This movie rocks! seriously! if you are board, sick, ect. this is the movie to get you threw it! buy this movie! i have it on vhs and dvd and just to let everyone know, there is a few different things between them! but both of them are awesome! GET THEM BOTH! YOU WON'T BE DISSAPOINTED! if you like edward sissorhands, the nightmare before christmas, or any of the addams family get this!\": 1,\n",
       "         \"I'm getting crazy.I'm looking for Beatlejuice french version video.<p>Is it really impossible today not to find the French VHS version of this film ?<p>Could U please tell me something about it ? Tks\": 1,\n",
       "         \"Embarrassing comedy that comes over like a child with 'attention deficit disorder' begging for your approval. Even the film's own internal logic is thrown away towards the end to no extra purpose. The girl floating in the air at the end is rather sweet though.\": 1,\n",
       "         'A haunting movie in which everything is played for laughs.<br /><br />There are no serious moments, deep introspections, revelations, life reviews, insights into life\\'s purpose, etc. It is a non-stop gimmicks, special effects, sight gags, visual fluff suitable for the younger set.<br /><br />The hero and heroine drown together in a car accident, discover they are dead and back in their dearly beloved house. They can\\'t leave because there are monsters outside. Their peace in interrupted by the new owners who decide to redo the place in a ridiculous gaudy style. They notice an unexpected book \"The Handbook for the recently deceased.\" on the nightstand which serves as their guide to their new situation. Through it they discover how to reach their \"caseworker\" and an obnoxious haunter named Beetlejuice<br /><br />who might be able to help them remove the new occupants. Everything they try fails to work and in the end they accept the new owners. The owner\\'s daughter becomes closer to them than her step-parents providing the child they always wanted and couldn\\'t have. Other than the idea that they can not see themselves in a mirror and that the new owners cannot see them (except the daugthter), there is little we learn about the afterlife here. We see a couple brief scenes of the caseworker\\'s office which can only be described as depressing. Worst movie I have seen in a long time.': 1,\n",
       "         'Beetlejuice is truly a work of art!<br />A bit funny, a bit creepy...simply a masterpiece with a great soundtrack to go with.<br />Tim Burton truly knows how to take you to another world.<br />Great casting as well...nothing could be better about this DVD movie!': 1,\n",
       "         \"Many movies, have dealt with the figure of death and the dead, from the Good angel clarence in &quot;It's a Wonderful Life,&quot; to Brad Pitt's abysmal turn as Death himself in &quot;Meet Joe Black.&quot; However, Tim Burton has presented the world with the most interestng look at the dead with Beetlejuice. In the first moments of the movie, Barbara and Adam Maitland go to town, And die in the oddest possible way. They return to thier house, and find them selves confined to it's premises. Thier leaving sends them to a strange desert world Populated by multi-layered sandworms.  Eventually, they find that they are dead, and must remain in their home for 128 years, which wouldn't be so bad if it wasn't for the family of NYC artisans that moves in and remodels the place. After consulting with thier &quot;caseworker&quot; Juno,(Sylvia Sidney at her chain-smoking best) they hire a bio-exorcist,Betelguese (pronouced &quot;BeetleJuice,&quot; hence the title) who agrees to help. Unfortunately for the Maitlands, Beetlejuice is an extremely PO'ed demon who refuses to return to the underworld. The visuals and special effects of this movie are completely stunning, and Micheal Keaton gives a performance that must have been a blast to play. Beetlejuice is a beer swilling,cussing,moral-majority's worst nightmare with superpowers, &quot;Beetlejuice&quot; is one of Tim Burton's Best works, and something he should be proud of.\": 1,\n",
       "         \"A twist of rumplestiskin captured on film, starring michael keaton and geena davis in their prime.  Tim Burton's masterpiece, rumbles with absurdity, and is wonderfully paced to the point where there is not a dull  moment.\": 1,\n",
       "         \"When vacationing Adam and Barbara Maitland meet their demise when they are killed by a local dog,(don't worry, you'll laugh your head off at this,) they are transported into a world of mystery. Tim Burton takes you an a hilarious journey into the afterlife. Danny Elfman once again pairs up with Tim so they can work their movie magic, creating a roller coaster of a movie score. Beetlejuice will leave you laughing 'til you cry,(or just crying.)\": 1,\n",
       "         \"Michael Keaton's portrayal of the ultimate fun-loving ghoolie Beetlejuice is fantastic.  While his portrayal in Burton's BATMAN of the lead character is dark and brooding, Beetlejuice lets loose all inhibitions and the actor plays it to the hilt.  The supporting cast is wonderful and Burton's story and direction superb.  Maybe not for young children under 12, as it does have a decidely dark side and some scary ghoolies, it is great family fare and good fun.\": 1,\n",
       "         \"I like this movie. Specially the part when the family and their guest are sitting down at the dinner table and the ghost, Adam (Alec Baldwin) and Barbara (Geena Davis), make Della (Catherine O'Hara), start sing a song. Then Adam and Barbara make everyone join in with a dance. Very funny stuff. I also like Beetlejuice, Michael Keaton. I think they picked the right person to play Beetlejuice.\": 1,\n",
       "         \"This was my favorite movie as a kid and still I can watch it a million times more. Funny, dark and one of Michael Keaton's best movies'.\": 1,\n",
       "         \"This movie is a very odd movie but I love it because it doesn't follow that Hollywood way to make a movie.  This movie stars Winona Ryder who plays Lydia Deitz, who is very sad and depressed.  The movie is about a couple who dies and a new family moves into the house and the couple doesn't want them there because the mother wants to redecorate the house.  this movie has an all-star cast Geena Davis, Alec baldwin, Catherine O'Hara, Jeffrey jones, and many others.  This movie was released the 30th of March 1988.  The DVD I think could have been so much better and they could have included deleted scenes and bloopers because you know there has to be some.\": 1,\n",
       "         \"I like Tim Burton movies in general.  But this is a good one too if you're just into movies.  It's funny, and has great visuals (for the time it was made).\": 1,\n",
       "         \"Ah, Tim Burton before he started taking himself too seriously. You have Michael Keaton unleashed, an unusally restrained Alec Baldwin and a supporting cast of known loonies all dancing to the puppetmaster Burton's tune.\": 1,\n",
       "         \"Tim Burton is a guy Hollywood should honor every day. He's one of the few who agree to stay in the system and direct personal movies for the majors.<p>And his personal world is something very special. Things have a soul or, at least, come to life under Burton's camera. <p>Beetlejuice is one of the first efforts of Tim Burton and it's already great. There's a style, a signature, a world , details which reveal an authentic creator.<p>It's possible you will hate this world but you will not have losed two hours, I guarantee you. Come and see what can be created with a camera and a little brain. <p>A DVD I'm proud to have in my collection.\": 1,\n",
       "         \"Beetlejuice is Tim Burton's 2nd film after Pee Wee's Big Adventure and it's his most popular next to Batman. A lot of films such as Monkey Bone have tried to copy it's strange originality and have failed. It wasn't the best reviewed movie when it came out but that's because critics most likely didn't know what to think about it.<p>  It has fun effects, a wacky and energetic performance by Michael Keaton and an original plot. After all these years there's still nothing quite like Beetle Juice. I mean what other movie has giant sand worms that eat dead people ?\": 1,\n",
       "         \"I loved it. Tim Burton made a great movie with a simple story, a great imagination and cool actors(Winona Ryder is VERY young in this one:) and I couldn't imagine Alec Baldwin with such sense of humour. Michael Keaton is sensational and the FX, 15 years old are still very correct. Beetlejuice is a very funny character and you can't wait for the moment when finally he becomes free to act. Just say BEETLEJUICE three times and have a great laugh.\": 1,\n",
       "         'I had a hard time finding this information when I searched for it, so I thought I\\'d type it up in case anyone else was wondering what comes free with your new Blu-ray copy of \"Beetlejuice\":<br /><br />1. Danny Elfman - \"Main Titles\"<br />2. Danny Elfman - \"Enter ... \\'The Family\\'/Sand Worm Planet\"<br />3. Danny Elfman - \"The Aftermath\"<br />4. Danny Elfman - \"Showtime!\"<br />5. Harry Belafonte - \"The Banana Boat Song\" (worth the price of the Blu-ray disc itself!)<br />6. Danny Elfman - \"End Credits\"': 1,\n",
       "         \"I am continually amazed at the shoddy treatment that some movies get in their DVD release.  This DVD is simply a disgrace, especially considering what a great movie this is.  I give the movie itself 5 stars; it's a wonderful example of Tim Burton's energy and style.<p>This DVD has no extras worth mentioning.  No deleted scenes, no featurettes, not even a lousy commentary track!  To make it even worse, the film has been CUT DOWN from the theatrical release!  I have never seen a DVD release before where you get LESS than was originally presented in theaters.<p>My advice is to save your money until somebody figures out that when a movie is released on DVD, it needs to live up to the capabilities of the medium, and should always provide more material than was originally released, not less.\": 1,\n",
       "         'this is a great movie! baldwin and keaton shine in this one! the bluray version of this looks cripsy clear!': 1,\n",
       "         'this a movie I will show the next generation because it has a great imagination, picture, characters makeup is great and overall a classic movie to sit down and just watch with your kids kids. I give this movie a good  thumbs up.': 1,\n",
       "         'This is a movie the whole family can watch together.  It has great comedy, a little sacary and lots of laughs.': 1,\n",
       "         'This was awesome, i love that i could send it as a gift! i sent it to my fiance for valentines day as a surprise :) he loved it! (its his favorite movie) and it got there right when it said it would!': 1,\n",
       "         'Well, we already knew Tim Burton has a delightfully warped sense of humor, didn\\'t we? So it came as no surprise to me that this movie was both warped and hilariously funny.<br /><br />Adam and Barbara Maitland (Alec Baldwin and Geena Davis) are a charming young couple that live in a large old house on the edge of a small town. They love each other very much, very playful and fun together, and have just settled in for three weeks of vacation to work on their hobby: a scale model of the entire town. It\\'s really good, too. Also, apparently they renovated the old house themselves.<br /><br />One day they went into town to get some supplies for the model and on the way home, went through a covered bridge. That is, through the side of the covered bridge into the river. They found themselves back at home, but eventually realized that they had died and were now haunting the place. That would be OK, except that their neighbor, a real estate agent, promptly sold the place to the Deetz, a severely dysfunctional family from the city. In no time at all, the wife has thrown out all the comfortable old things Adam and Barbara had, and put in horrible modern junk based on the dreadful tastes of her friend, an interior decorator. Also on her own sculptures, which are arguably the ugliest things you have ever seen produced by anyone over the age of five.<br /><br />The only redeeming aspect of the Deetz family is their teenage daughter Lydia (Winona Ryder). She dresses in black, is very morbid, but also is the only one able to see Adam and Barbara. And she is in sympathy with their assessment of her step-mother\\'s horrible taste. Also horrible attitude.<br /><br />They don\\'t quite know what to do, but when they returned to the house after the accident (actually, I think it was after the funeral), they found a book titled \"Guidebook for the Recently Deceased.\" They tried to read it, but there was no index, and it didn\\'t seem to make a lot of sense to them. They did manage to draw a door through to a bureaucratic nightmare where they were told to talk to their caseworker. Turns out their caseworker is an abrupt, shriveled old woman who smokes constantly and the smoke seeps out through a large slash in her neck. She warns them not to contact Beetlejuice, who used to be her assistant but \"went out on his own.\" He had left an advertisement in their handbook, and for good measure, managed to put one on their TV.<br /><br />Still, when Lydia reads their handbook and does all she can to help them, they still haven\\'t gotten rid of the Deetz family. In desperation, they call on Beetlejuice (Michael Keaton). You have to say his name three times to call him, which suggestions that he is a demon. Actually, I think the suggestion is also made that he\\'s an alien. It\\'s hard to be sure.<br /><br />The funniest parts of the movie are Beetlejuice\\'s attempts to frighten the Deetz away: or at least the parents. He likes Lydia, and in fact wants her to marry him.<br /><br />There are lots and lots of inside-joke type references throughout, especially in the underworld bureaucracy. It\\'s a very Tim Burton sort of film altogether.': 1,\n",
       "         \"When Barbara (Geena Davis) and Adam(Alec Baldwin) Maitland move out into the country, they have rest and relaxation on their mind. Not even the well-meaning but intrusive antics of uber-realator Jane Butterfield (Annie McEnroe) can rattle their spirits.<br /><br />...until they discover that they died on an old country bridge near their house after a dog stopped balancing a broken bridge beam. After 'somehow' returning to their house, the Maitlands discover the 'Handbook for the recently deceased' and attempt to decipher it.<br /><br />The plot thickens when the Detzes move in from New York; Jane finally was able to sell their house. Delia (Catherine O'Hara) fancies herself an artist, but husband Charles (Jeffery Jones) just wants to relax in the country after having survived stressful city life. Both he and gothic daughter Lydia (Winnona Ryder) are the most likeable ones in this family.<br /><br />After their own attempts at the supernatural fail, the Maitlands call up Beetlejuice, a disgruntled former bureaucrat for the living impaired. Because their caseworker will not help them get rid of the Detzes, the Maitlands soon turn to Beetlejuice for assistance. The Maitlands want their house back, and do not want to become circus attractions for Lydia's equally loopy friends.<br /><br />Otho (Glen Shadix) is in this play only to show that some people really only talk big. During the supernatural ceremony he puts on an attitude of being in charge 'until something goes wrong'. Since it's likely that he was reading this ceremony as he went along, Otho had not known what he was doing. In other films, this would be dangerous for everybody within a close radius, but Beetlejuice comes to save the day.<br /><br />Michael Keaton steals the show as a fast/smooth-talking demon. He's not an angel, but you definitely want him on your side when the chips are down. The only thing he is really scared of is sandworms (in the otherworld). Keaton would later continue to work with Burton on the first two Batman movies, as of now considered the best in that series.<br /><br />Despite the gothic/gloomy tone of this film, it does end on a happy note. The Maitlands and the Detzes end up living together in the same house and Lydia actually gets along with the former couple.\": 1,\n",
       "         \"I thought this was a really funny and creative movie!! I enjoyed watching it and it was also a great value for the price I paid at Amazon. I would recommend this movie to a friend or family member. I would also recommend to both friend and family; shopping for DVD's at Amazon for the best selection and prices!!\": 1,\n",
       "         \"This is an all-around great movie from the 90's.  If you like comedy/horror, this is for you.  Alec Baldwin is great, and Michael Keaton is AWESOME as Beetlejuice.  Classic movie especially in Blu-Ray.\": 1,\n",
       "         'Never a disappointment, always a laugh and since its in blu-ray its a joy too!!!': 1,\n",
       "         \"If you like BeetleJuice and the supernatural then buy this movie you won't be let down.  This is a very good movie fun for all ages.  See this movie is what started the cartoon series on cartoonnetwork in the early 1990's BeetleJuice.  Personally I think Micheal Keaton did a fantastic job as playing BeetleJuice I just really like this movie alot it talk's about what the after life is like basically see Barbara and Adam Maitland die and their ghost's in the movie and they meet BeetleJuice and I'm not going to tell you the rest because you have to watch the movie trust me this movie is really good it will make you want to say BeetleJuice three times.\": 1,\n",
       "         \"Winona Ryder is HOT! HOT! HOT! as the gothic death-rock princess of Doom (see &quot;Lucas&quot; for more W.R. action) The best performance from that eldest Baldwin brother that I've ever seen from any of them.His zenith I'm sure. BEST PERFORMANCE - goes to - Miss Ryder!,of course, I'm a BIG fan, you see? FAV PART - when Beetlejuice was chumming up to Baldwin's character while wearing the same type clothes. No big deal, just witty and clever charm with spit. and when Beetlejuice hits up on Gina Davis and/or Winona Ryder\": 1,\n",
       "         'Fun movie, enjoy watching Michael Keaton, watched this movie for many years and wanted a copy for my home library.': 1,\n",
       "         'When this movie first came out about fifteen years ago, my father owned a video store and every Wednesday night was \"Beetlejuice\" night. I\\'m older now, obviously, but I still cannot get enough of this movie. <p>Alec Baldwin and Geena Davis play Adam and Barbara Maitland, two Connecticut yuppies who die prematurely in a car wreck. Within a couple weeks, their home is overrun by an ultra-trendy New York City family, Charles and Delia Deetz, and their Goth daughter, Lydia (played respectively by Jeffrey Jones, Catherine O\\'Hara, and Winona Ryder). Adam and Barbara want their house back, and attempt to scare the Deetz\\'s out of the house by wearing sheets and even by possessing them over dinner, making them sing and dance to Harry Belafonte\\'s \"Day O.\" Those attempts fail and enter Michael Keaton as Betelguese, \"the afterlife\\'s leading freelance bio-exorcist.\" The movie is dark without being scary and funny without being ridiculous. <p>In my opinion, one of the real gems in this film is the late Sylvia Sidney as Juno, Your Case Worker. Sidney was pushing eighty when this film was made, but turns in a great performance as the embittered equivalent of an afterlife social worker. Love how the smoke from her ever-present cigarette comes out of the slit in her throat. <p>If you\\'ve never seen this movie, see it. If you have seen it but don\\'t own it on DVD, get it. The picture quality is better than ever.': 1,\n",
       "         'You either Like Tim Burton or you don\\'t,I fall in the latter.BeetleJuice is not a big deal for me despite it\\'s huge following and Burton\\'s Following,While there are funny moments I am not the type to like Alice In Wonderland type films that are \"trippy\".I think the Highlight for Me Is Robert Goulet(Goulet!robert gouleeeeeeeeet!)and Wionna Ryder,I can\\'t stand Baldwin.': 1,\n",
       "         \"One of Michael Keaton's early and best performances. The scene at the dinner table with Harry Belafonte's classic soundtrack is great. I'm not a fan of ultra lib' Alec baldwin but this is really Michael Keaton's movie.\": 1,\n",
       "         \"I think blu-ray movies are great.  Although there are some of the older movies that have been done in blu-ray that haven't really come up to the blu-ray quality that the newer movies have.  But I guess that's life.  This one is pretty good quality.\": 1,\n",
       "         'I bought the movie because I remember enjoying it as a kid. it did not disappoint. The story and look of the film holds up well.': 1,\n",
       "         'I THOUGHT THIS MOVIE WAS SO FUNNY, MICHAEL KEATON AS BEETLEJUICE WAS RIGHT ON.  AND ALEC BALDWIN PLAYING A GEEKY HUSBAND IS PRICELESS.  I LOVE THE DA-OO SCENCE.  THE KIDS AND I REALLY ENJOY THIS ONE.': 1,\n",
       "         \"Edited this review on 10/28/08.<br /><br />Ever since I saw Beetlejuice as a kid I have found more and more to like about it with each viewing. Throw in some bizarre concepts and characters, add humor and cool old school special effects, top it all off with an outstanding wacky performance by Michael Keaton and you might begin to understand why it works. This movie is just so much fun to watch mainly because it combines so many genres and to this day it remains one of the most unique takes on a ghost story.<br /><br />I have the old 1997 (were DVDs around then?) DVD release and the picture and sound isn't that great. This Blu-ray is like a whole new experience in terms of video and audio quality. It's worth the upgrade if you like Beetlejuice as much as I do.\": 1,\n",
       "         \"It was on the other night, and, having been a big fan of the cartoon when it was being shown, decided to watch it (I'm also trying to see all the Winona Ryder movies I know.). <p> It's a well known fact i like seeing her [Winona Ryder] dance at the end of a movie (hey, it's funny!), but apart from that, it was just a hilarious film and i liked it very much. The only thing  wrong was that it was too short. Maybe the special efects were a bit &quot;off&quot;, but hey, it's an older movie1\": 1,\n",
       "         \"This is one of my most favorite movies. I'm ashamed at my self. Because it took me so long to finally get it on DVD. This is truly one of the most funniest movies about being dead.<br />Barbara and Adam, are a young couple who die in an accident. Their house is bought by another couple whom they have nothing in common with.<br /> But when Barbara and Adam start to like the father's daughter Lydia. They start to question wither or not scaring the family off, is really what they want.\": 1,\n",
       "         'a couple dies.they live in a house as spirits and then some people move in.the dad is a dork.the mom is a control freak,crazy women who sculpts.she is a similar character in home alone but in that one shes a unbelivably terrible and neglectful psycho mom.the daughter is a dark depressed girl played by wyona ryder.she looks very sexy in thisone.a cool line is:my whole life is a dark room.one big dark room.they get constant visits from other weirdos also.the 2 dead people-some dork and a belive it or not somewhat sexy geena davis play them.they spirits try to scare the living out but are too good natured to suceed.so they hire michael keaton-beetlejuice-to get rid of them.he is more forceful.it is a tim burton movie which of course means its awesome.most everyone could like this.wyona ryder looks awesome in a red wedding dress late in the film.that stupid child hater of a mom lady is this movies only flaw.shes such a bitch.this movie is full of well written mastery and great special effects.it is great!': 1,\n",
       "         \"Just to let you know, this movie is one of my personal favorite ghost movies. That said, I feel I need to tell you some details about this terrible DVD. The packaging is fine, nothing great, but it works. The picture and sound quality are good and make it a good cinematic experience. However, the menu is complete trash, the extras are EXTREMELY embarassing, and to play the movie you actually have to click on scene selections and click on the first chapter because there is no PLAY button! What's the problem here? As I recall, this film is on AFI's top 100 funniest movies ever made, so don't you think they could make a better DVD than this garbage? I am so sick and tired of these movie companies getting away with selling us trash.<p>This double sided disk is no good. Pick what format you want the first time you watch it, and stick with that side the whole time...because if you switch each time, both sides get scratched! Personally, I think fullscreen is for idiots who think they're getting the whole picture when they're not. You people put no actual thought into making DVDs, you just slap some crap together and think its fine. No, it's not fine! Clean up your acts!\": 1,\n",
       "         \"this is micheal keaton's funniest movie ever.he worked with tim burton in the 1st 2 batman movies.tim burton i'll admit is pretty freaky with his movies because they're all the same beetlejuice,batman returns,nightmare before christmas,and now willy wonka which i know will be wierd.but i give this movie 5 stars because its got some pretty good effects for the 80's.i just bought the second volume of the cartoon which is cool but i cant find the other ones\": 1,\n",
       "         'In beetlejuice I was entirely sucked into this dream like film. The afterlife was a complete quirk, and if it hadn\\'t been accredited to, I would have known already who had directed it. It felt like Batman in it\\'s tone, in its wet darkness, and then the cubistic art world of the urban. I always feel like I\\'m drawn into the mind of a deeply rooted \"pure abstract\" painters mind. I love the demensions of his creativity. He takes risks also, something I don\\'t see enough of in his latest works. I always feel like it\\'s halloween after watching this film. In fact it\\'s a sort of tradition to watch this film, along with \"a nightmare before christmas\", around halloween time. Nothing gets me into the mode better. An ecclectic scare, with a foolishness appropriate enough to remind you of the cartoon.': 1,\n",
       "         \"This is a crazy movie!  Never seen another like it, or in it's class!!  Really enjoyed it :)  This one is worth owning!  Gotta love the plot of this movie, and the actors!\": 1,\n",
       "         'We ordered this for our annual movie-a-thon we have in our driveway on Halloween... still as funny as it was way back when.': 1,\n",
       "         'The Classic Dark Comedy By Tim Burton Follows A Couple Who Die In A Car Accedient and Become Ghost. Along The Way, A New York Family Moves Into Thier House and Start Making HUGE Changes. The Ghost Couple Get Help From A Off-The-Wall Nutty \\'\\'Bio-Exosist\\'\\' Named Beetlejuice Who Causes Mistif and Mayham To The New York Couple. Afterwards The Ghost Couple Fall In Love With The New York Daughter, Lydia Who\\'s The Only One Who Can See The Ghost Couple. Afterwards The Ghost Couple Try To Convence  Beetlejuice To Stop What He\\'s Doing. But The Mistif-Making \\'\\'Bio-Exorsist\\'\\' Dosn\\'t Listin and Continues To Make Mayham.<br /><br />Tim Burton and Micheal Keaton Work Together Brilliantly in This Film as Thay Did A Few Years Later With Batman and Batman Returns. Alec Baldwin and Gena Davis Play The Ghost Couple So Great and Brilliantly That You Can Easily Belive Thay Are An Accturall Couple in Real Life. Winonna Ryder Plays Lydia and She Did It So Brilliantly and Fun She Was Easily The Best of Them All.<br /><br />The Effects Aren\\'t The Best, But Thay Stilll Bring A Chessy and Fun Look To The Film.<br /><br />BEETLEJUICE is A Must-See and All Tim Burton Fans Should See It.<br /><br />Recommendations For BEETLEJUICE Fans:<br /><a href=\"http://www.amazon.com/gp/product/0790700506\">Gremlins</a><br /><a href=\"http://www.amazon.com/gp/product/6301871952\">Gremlins 2: New Batch</a><br /><a href=\"http://www.amazon.com/gp/product/6303347657\">Mask</a><br /><a href=\"http://www.amazon.com/gp/product/6304826141\">Rocketman</a><br /><br />Overall Rating - 5/5': 1,\n",
       "         \"This is Tim Burton's best work, well this and Edward Scissorhands are his best work closely followed by Ed Wood and Big Fish.  This movie is witty, imaginiative and a little gory at times but not too gory.  This movie seems to get funnier the more you watch it.  Michael Keaton proves himself in this that he can be one of the funniest comedians if he tries.  He portray's Betelguise really good.  Alec Baldwin and Geena Davis are great in this too.  The dvd is good.  The picture and sound is clear and crisp, but my only thing is that the menu in this dvd is HORRIBLE.  It doesn't even have a play button for it.  Come on Warner, you can do better then this.  Special Features are average considering this was one of the first dvd's to come out.  Warning: Keep kids under the age of 4 years old or younger away from this movie.  It's to bad and violent.  It even has the f word in it.  But that's why it isn't rated G like other kids movies you can watch with them instead.  This is the movie that really started Tim Burton's career.  I mean, Pee-Wee's Big Adventure was good but this was way better ny far.  I recommend this to any Tim Burton fan, or evwn if your not a big fan of his work, you'll still love this movie.\": 1,\n",
       "         'A real classic in the comedy genre. I continue to quote lines from the movie. \"I came for your daughter, Chuck\". \"Kids, you know I love \\'em\"': 1,\n",
       "         \"We've loved Beetle Juice forever, and we still swear that we passed the house on a camping trip outside of Freeport, Maine.  We got a new DVD/ Blue Ray player from the kids for Christmas, so it was a choice I thought we'd all enjoy. I think we'll continue to enjoy it for a long time, and we can't wait for the grandchildren to see it.<br />The copy we received was perfect and we're happy.\": 1,\n",
       "         \"First time I saw this movie...I loved it.  Have watched it several times now to catch things I missed the first time.  Alec Baldwin and Gena Davis are superb in their acting.  Winona Rider also stars and does a wonderful job in her role.  This flick is a family one.  The 'F' word is said once, though.\": 1,\n",
       "         'I have always loved this movie ever since it first came out.  I bought this for my fiance, it is his favorite move, and one of my favorites too.  I recommend this movie to anyone that has always loved the comedy of Michael Keaton.  He is great as Beetlejuice.': 1,\n",
       "         'Classic Movie, Loved watching it as an adult, Brings back so many memories. You must watch this movie at least once in your life.': 1,\n",
       "         'After the Maitlands (played by Geena Davis and Alec Baldwin) are prematurely killed in an automobile accident, they are returned to their home as ghosts. Meanwhile, the old country house is sold to trendy New Yorkers that entertain unwelcome changes to its charm.<br /><br />The Maitlands want them out, but have difficulty scaring the New Yorkers. So, their \\'afterlife\\' case worker suggests hiring a bio-exorcist, Beetlejuice (played by Michael Keaton), to do the job.<br /><br />The New Yorker\\'s daughter (played by Winona Ryder) serves as mediator and plays a strong supporting role.<br /><br />These words best describe the direction of Tim Burton:<br />\"Know what they say about people that commit suicide? In the after life, they become civil servants.\"<br /><br />This flick is entertaining and worth the price.': 1,\n",
       "         'Was in great shape and we got it very fast! I love shopping @ Amazon because I can get some very good deals and I love to save money!': 1,\n",
       "         'received the movie in great condition.  very happy with my purchase.  My nephew will love it!<br />thanks for the great service!': 1,\n",
       "         \"This is a great movie.  I watched it when I was a kid and now watch it with my kids.  It's even entertaining to my 2 year-old.  I would definitely recommend this movie.\": 1,\n",
       "         'I thought my daughters would be ready for a classic, and they were.  Except for a few foul words this movie was safe.  Some of the animation is now antiquated but the wit and humor is there.  Say it 3 times and enjoy!': 1,\n",
       "         \"My niece's daughter loves this movie.  I hadn't seen it for a very long time but it was fun to revisist and watch how the kids today react to the craziness of it all.\": 1,\n",
       "         'Great movie at a great price! I enjoyed all the actors. A young Alex Baldwin was fun and Keaton a riot. A must see for the family. Highly recommend.': 1,\n",
       "         \"Love watching this movie over and over again. Just had a group of 13 & 14 years old kids over and they also enjoyed this movie.They have been dancing to the song in this movie that was sang and danced to in the movie,at the dining room table. So all ages will enjoy ,even grandparents.Will always be a classic and favorite of mine.Couldn't find in stores,so happy to purchase through Amazon.\": 1,\n",
       "         'I bought this video to share with my grandchildren.  After my purchase, I was thrilled to be able to see it on my computer while I waited for delivery.  My grandsons and I watched it first on my computer and again when I received the DVD in the mail.  I remember watching this movie with my children, and, now, seeing it again with my grandchildren was just as enjoyable.  The dinner scene with the Day O song was just as hysterical today as it was 20 years ago!': 1,\n",
       "         \"Had forgotten parts of this movie but it's an oldie but goodie just like Goonies.  Everyone should see this movie. It's a fun movie, full of pranks and funny. Not a serious movie but gives a good lesson in it.\": 1,\n",
       "         'How can you not love watching BeetleJuice.  Michael Keaton is at his very very best, and Alec Baldwin is fun to watch in a younger slimmed down early days role.  My favorite is actualy Geena Davis...she is an amazing actress that just controls the screen with her natural abilities and little effort involved.  The Movie is GREAT in Blu-ray...as usual!': 1,\n",
       "         \"This is a classic movie. It had been a few years since I had seen this film and the blu-ray version is perfect. It's the best version of this film that I've seen since watching it in the movie theatre all those years ago. Great cast, great music and funny as all get out.\": 1,\n",
       "         \"Beetlejuice one of Tim Burton's best movies he has done during the 1990's.  I enjoy this movie loads and watch it time and time again.  I never get tired of the movie no matter how many times I watch the movie Beetlejuice.  The actors did such an amazing job and musical score perfect timing on the exact scenes.  But if you love a good comedy movie and talented actors and a very talented director then pick this movie up and enjoy laugh after laugh time and time again.\": 1,\n",
       "         \"[[ASIN:B001AGXEAG Beetlejuice (20th Anniversary Deluxe Edition)]<br /><br />Beetlejuice, the Tim Burton classic from 1988 now comes to you packaged as a 20th Anniversary DVD edition.  Michael Keaton, I think in one of his best film performances brings down the house.  Also starring Geena Davis and Alec Baldwin, two actors you would have never thought to put together in a movie of this genre, it is classic comedy at its best.  The DVD also has special features, although nothing to make your head spin, but it offers several episodes of the cartoon series from the late 1980's.  But beyond that, nothing too spectacular; not that it needs that much more. A simple classic comedy that if it doesn't make you laugh, something is wrong with you and you should be exorcised!  With that being said, buy it if you don't own it. It's a must have dark comedy.\": 1,\n",
       "         \"This is a review for Beetlejuice Blu-Ray.  The video transfer from Warner Bros. is pretty good given the films 25 yr pedigree.  On my disc you must manually select the Dolby TrueHD 5.1 lossless auidio track; it defaults to the Lossy DD 5.1.<br /><br />The Orig. 1.85:1 is slightly stretched to properly fill a 16:9 screen.  Danny Elfman's musical score is showing its age as it is not as crisp as a typical new movie.  Although it is noticebly better than the DVD audio track.<br /><br />It was a must have to fill my ever growing Blu-ray collection!\": 1,\n",
       "         \"I know this was supposed to be some great funny movie, but I just didn't get it. It started off OK, Alec Baldwin and Geena Davis were fine, but it just got boring. I couldn't see the point of the movie, even in retrospect. Why make this movie? Plus, the Michael Keaton character was so annoying, I just wanted to go away. I know he was supposed to be annoying, so fine, he did a good job with that, but I don't want to have to listen to it. We watched as a family and my 8-year-old son hated it too. My husband liked it. Maybe it's a guy thing, a grown-up guy thing.\": 1,\n",
       "         \"Beetlejuice is one of those great classic movies from the 80s. It has all the ingredients of a good comedy and Tim Burton to boot. I personally couldn't recommend it more to anyone, especially Tim Burton Fans who for some reason haven't seen this.\": 1,\n",
       "         'Great imaginative movie. Tim Burton is a genius!<br />Acting is great-funny, creepy, realistic given the unrealistic underpinning of the movie!': 1,\n",
       "         'This is another classic Tim Burton film, remarkably without Johnny Depp. I love to just watch this movie over and over all the time!': 1,\n",
       "         \"Hello, I have loved this movie since I was 4 Years old, i'm older now and still can't get enough of it! If you dont own this movie I reccomend you get it ASAP !!!!!!!!!!!!!!!!!!!!!!!  Best Regards, JECKA (stay laughing)\": 1,\n",
       "         \"I bought this movie for my 2 year olds and they loved it! Now i have to watch it 2-3 times a day but I'm glad they like a movie thats not a cartoon :)\": 1,\n",
       "         \"This is one of my favorite movies!!! I'm so excited to have it on DVD. I bought 2 since it was such a great deal!! It arrived quickly! Great job, amazon!!!\": 1,\n",
       "         'Adam and Barbara Maitland (Alec Baldwin and Geena Davis) are staying home for their vacation. In an effort to avoid driving over a cute loose mutt, they, car and all plunge over a bridge. The next thing they know is that they are home. However, something is a tad strange. Yep soon, they find they are the recently deceased.  How will they cope with the situation and where can they find help whim strange people purchase and intend to occupy the house?<br /><br />The story takes some intriguing turns. Moreover, the music instead of being a background mood helper is actually as important as the other characters in the story. \"Day-o, he say day-ay-ay-o.\"<br /><br />This film is an excellent candidate for Blu-ray. The Blu-ray version also has the standard extras. I am not sure but I could swear there are more scenes than I saw in earlier versions.<br /><br /><a href=\"http://www.amazon.com/gp/product/B001B504LI\">The Uninvited</a>': 1,\n",
       "         \"I'd have to say that this isn't really a top favorite from master filmmaker Tim Burton, but it's not at all horrible. It's a classic display of Burton's wild imagination and clever imagery. It's a great comedy, and it's not only Burton's directing that makes it a laughfest. Michael Keaton is perfect as Beetlejuice; I don't think no one else can equally play the character like he does. But it's too bad he only appears in the film in a total of ten minutes. Alec Baldwin and Geena Davis shine as the deceased married couple, who want an eccentric family out of their perfect house. Catherine O'Hara, Jeffrey Jones, and Winona Ryder give nice performances, and Robert Goulet's cameo appearance is a treat.<br /><br />Oh, and let's not forget Danny Elfman's music score. This is awe-inspiring pre-Batman stuff right here; the main theme is VERY catchy. Art direction and costume design are a plus. The only flaw I can find here is the dance sequence in the end of the film. It's pretty corny, and I find it very annoying. But overall, this is a fun film for the older crowd.\": 1,\n",
       "         \"Just got it in today an the first thing i noticed is the box cover is 3-d.<br />Has Beetlejuice with a shrinkin head and when you turn it. It has barbra and her husdand on each side of beetejuice with the husband head in beetlejuice's head. It has the soundtrack and the cartoons. So all in all you getting a great movie. Song songs and the cartoon.<br />Worth every dollar\": 1,\n",
       "         'This is a good classic movie to put on at Halloween.  It was in Geena DAvis, Alex Baldwin and Micheal Keaton earlier days.  They all did such a good job ... real cute movie': 1,\n",
       "         '\"It keeps getting funnier every time I see it,\"  says Beetlejuice, the mischievous \\'\\'bioexercist\\'\\' of the title who is superbly played by Michael Keaton. And this quote pretty much sums up how I feel about the movie, especially the famous dinner party scene. The premise of the movie is great, the score is memorable, and the acting from the entire cast is just about perfect. I highly recommend this film, which is often tagged as a \\'\\'Halloween movie,\\'\\' but can really be enjoyed at ANY time of the year.': 1,\n",
       "         'I love this movie. It brings back memories when I first watched it. My kids like it too. They think its funny when he eats beetles lol.': 1,\n",
       "         \"A cool movie with some very funny and amusing moments, a young alec baldwin & gena davis & winona? ryder...micheal keaton is a great ghoulish pervert!! worth seeing for micheal keaton.. BluRay is nothing stunning but good textures and clarity, better than dvd but not the greatest looking bluray disc, outside shots are great, indoors nothing stunning. grew up watching this as a child in the 80's, stills holds up alright if just a little too short.... last joke of the movie with beetlejuice in the waiting room sitting next to the african tribesman is a big laugh!!!! see it if you never before, guaranteed to make you smile..\": 1,\n",
       "         '\"Pee-Wee\\'s Big Adventure\" was director Tim Burton\\'s first film but \"Beetlejuice\" was the film that made people take notice as to what an original talent he is.  Think about it.  Who else could have made death so much fun?  The script by Warren Skaaren and Michael McDowell may deal with the departed but it\\'s fresh and original with ideas deliciously from left field.  I particularly liked the waiting room for the recently departed and the case worker played by Sylvia Sidney.  Bo Welch\\'s art direction is highly imaginative as is the Oscar winning make-up effects.  Michael Keaton\\'s ribald renegade bio-exorcist plays like a deceased stand-up comedian.  I couldn\\'t tell which parts of Keaton\\'s schtick was scripted or improvised.  This also the film that heralded Winona Ryder as a talent to be reckoned with and hopefully soon again.  An unqualified success.': 1,\n",
       "         'I got excellent service ,the movie arrived before the promised date and the quality of the movie picture was like brand new ... I will be continuing to shop': 1,\n",
       "         \"This is one of the best dark comedies ever!  If you haven't seen this yet...you need to.  Watch it with friends and family.  You will be hooked!!\": 1,\n",
       "         'BEETLEJUICE IS FUNNY. LOVE DOES COME THROUGH IN THIS DVD, THANKS TO THE MAITLANDS. HAVE SOME FUN, BUY THE DVD.': 1,\n",
       "         'Beetlejuice <a href=\"http://www.amazon.com/gp/product/B001AGXEA6\">Beetlejuice [Blu-ray</a>] is a timeless classic with Michael Keaton providing an excellent performance.  The afterlife concept of the film is excellent as well as entertaining; this film is a must for your video library... It\\'s to be watched over and over again.<br /><br />The casting for this film is perfect, Michael Keaton is the outrageously funny and whacky witted (Betelguese - the afterlife\\'s leading freelance bio-exorcist) with Alec Baldwin and Geena Davis playing (Adam and Barbara Maitland), a young couple that die prematurely. Adding to the cast are Jeffrey Jones and Catherine O\\'Hara (as Charles and Delia Deetz, and their Goth daughter Winona Ryder (as Lydia).<br /><br />One of the most hilarious scenes is the dinner party accompanied by Harry Belafonte\\'s Banana Boat song `Day-O\\'.  This is truly Tim Burton at his finest taking the significance of being dead and dousing it with humor.': 1,\n",
       "         'Beetlejuice is an \"off the wall\" masterpiece in dark comedy and Micheal Keaton owns it!<br />The story is cleverly crafted, the acting is good (Keaton is at his best)camera affect and technique are good and it is simply a funny and enjoyable movie.<br />Blu-Ray just makes it better!': 1,\n",
       "         'This movie always was: 1 - very popular; 2 - very different; 3 - very entertaining; 4 - a very fast-moving hour-and-a-half of a film.  It now IS available on Bllu-Ray and it looks better; nothing outstanding, but a definite improvement in shapnress.<br /><br />Several characters in here - mainly Michael Keaton\\'s unique and sometimes- revolting title character \"Beetlejuice\"- are always fascinating to watch. With him - and the whole movie - you also get a lot of humor and scary special-effects..<br /><br />It was odd to see Alec Baldwin in such a low-key role. In the \\'90s, he played very few of these type of guys. Davis looks and acts like...well, Davis, who many times has  played nice people that viewers like. It took me four viewings before I finally appreciated Catharine O\\'Hara\\'s comedic talents in this movie. Now, she\\'s my favorite and someone I find absolutely hilarious as the messed-up wife/mother of a family who moves into a \"haunted house\" inhabited by Baldwin and Davis.<br /><br />Keaton made himself a name as an actor with this whacked-out Robin Williams-type role, although he never really followed up with anything that was as popular as this film. Winona Rider is cute as the teenage daughter and we get other fun supporting roles from diverse people as talk show host Dick Cavett, singer Robert Goulet and actor Jeffrey Jones. All of them are good.<br /><br />Tim Burton directed the film and so I wasn\\'t surprised there were the typical occult themes with ghosts and the like, and no heaven or hell but some other strange existence being touted where dead people go....a ridiculous picture of the afterlife. However, I just chalk it up to someone just trying to make a fun, entertaining picture and on that, it succeeds.<br /><br />Overall, a unique and entertaining film. It\\'s different, to say the least!': 1,\n",
       "         \"Tim Burton's unique vision, which is almost cartoonish at times, really comes across, in this film. A dark comedy, that accents the humor, rather than the horror. Also noteworthy is, Michael Keaton's character, which is not only annoying to the living, but the dead as well. Winona Ryder's character is also interesting to watch.\": 1,\n",
       "         \"A dead couple attempts to scare a modern family out of there house with the help of a bio-exorcist. This movie makes me laugh every time I see it. This movie has amusing twist on a standard ghost story. This is Tim Burton's hilarious, skeptically humorous comedy about the afterlife of two honeymooners.\": 1,\n",
       "         'I loved watching this movie when I was younger and I still Love it today!': 1,\n",
       "         'ITS BEETLEJUICE!!!! PLAIN AND SIMPLE OWN IT IF YOU DONT I HOPE THE BEETLEJUICE SNAKE WILL GET YOU...': 1,\n",
       "         'This is one of those classic fun-filled movies.  It \"aged\" well and kept a room full of 10 and 11 year olds happy.': 1,\n",
       "         'This is a classic movie.  I was hoping my kids,ages 8 and 9 would love it, and they did.': 1,\n",
       "         'glad i was able to find a new copy of this video came quick and in great packaging.': 1,\n",
       "         \"It's Tim Burton's Beetlejuice! It's a great film. Michael Keaton does a wonderful job as beetlejuice and the whole movie is so funny haha blah blah!\": 1,\n",
       "         \"If this is what the afterlife is going to be like then I guess it won't be so bad when it's my time though gotta stay away from anyone like Beetlejuice.  Tim Burton movies are an a acquired taste while entertaining then do sometimes seem a little out there though that's what makes these movies so entertaining in the first place. The cast are great in this movie as they all seem to give a 110% into their characters and while for obvious reasons some of the effects will seem dated they will still make you give a laugh as y see the hijinx of Beetlejuice in action.  I do advise new comers to try and watch a trailer or clip though as while many especially fans greatly appreciate the movie it might not be for you.\": 1,\n",
       "         \"There's not much I can say that others haven't said. This is a really fun film, with good writing and a cool story, along with some fun characters and creative ideas about the afterlife. I usually don't give five stars, but this movie certainly deserved it, so two thumbs up!\": 1,\n",
       "         \"Beetlejuice is an excellent and funny movie. Keaton is hilarious as the wacky beetlejuice. The great special effects help the film. I think this is one of the best movies ever made and I'm sure you'll agree. For a good  time, watch beetlejuice!\": 1,\n",
       "         'Beetlejuice is a well written movie ..... everything about it is excellent! From the acting to the special effects you will be delighted you chose to view this movie.': 1,\n",
       "         \"Michael Keaton brings no distinguishing characteristics to the ghoul 'Beetlejuice', he merely acts bizarre, as does the script. It is often stunning cinematography but when the movie itself comes into focus, it's like finding one of Beetlejuice's snacks in your popcorn.\": 1,\n",
       "         'I loved this movie as a kid, but now ordering it for my 9 year old, I was shocked to watch it again and hear not only several profane words, but the \"f\" bomb, as well as many sexual references. I think they were a bit lax in their rating system back then-- definately more of a PG-13.': 1,\n",
       "         \"I'm getting crazy.<p>Is it really impossible today not to find the French VHS version of this film ?<p>Could U please tell me something about it ? Tks\": 1,\n",
       "         'When Amazon sells something directly, you get it on time if not earlier. I originally placed the order with one of their advertised Marketplace vendors who advertised 3-4 days. the order acknowledgement indicated devlivery within 3 weeks (via USPS). I immediately cancelled that order and ordered from Amazon. Got it in 3 days.': 1,\n",
       "         'The Beatle juice DVD I purchase did not work. We were not able to watch the movie on Christmas day as planned. I currently still have the movie. Not sure what to do with it??': 1,\n",
       "         'More than a review, I would like to know if this Blu Ray comes with Spanish subtitles. Thank u.': 1,\n",
       "         'I did not find this movie at all entertaining. I am not a huge fan of Tim Burton but I though it might make a cute Halloween movie. Didn\\'t do it for me. It also says the \"F\" word and that is not a word I care to listen to or allow my children to listen to in my home.  It seems that things that I found fun and entertaining in my youth are no longer fun and entertaining to me. If you are looking for a fun movie to watch as a family I would not suggest this one.': 1,\n",
       "         'Debbie Lee Wesserman claims that \"the casting for this movie is perfect, with only Alec Baldwin\\'s performance less than memorable\". This is of course nonsense - the casting was an unmitigated disaster with the sole exception of Alec Baldwin who manages to salvage a second star for the film with a particularly memorable performance.': 1,\n",
       "         \"I know this version of beetle juice has not been realesed yet but still it is the movie. this movie is based on the hit cartoon show. michael keaton portrays bettlejuice in the right manner. this movie is one for the whole family. it's a must see\": 1,\n",
       "         \"The unit works as advertised. You do need to be patient as it's entirely up to the mole when they want to clear their tunnel and trip the trap. I was able to get two moles with this trap.  I do think that the actuator spring needs too be a little stronger so that it has an easier time pushing the spikes through the soil.  But yes, the unit does work.  I was one step away from contracting an exterminator.\": 1,\n",
       "         \"I bought six.  Totally ineffective.  Don't waste your money.  Model 0631 is the only trap that works.\": 1,\n",
       "         'Was a little tricky to set, and I had absolutely NO FAITH in the product; however, it WORKED!!  I had one false trip the first week.  Than a week later I saw it was tripped again, so I assumed it was another false alarm, but NO!!  I dug up the area and found a dead mole.  Sorry I had to kill him, but he had to go!!  GREAT PRODUCT!!': 1,\n",
       "         \"Cut my hand the first time I tried to set set it. Hard as hell to set. Cant use it when the ground is wet. I didn't like this sucker at all\": 1,\n",
       "         'Please dont let this bad item review reflect on the seller. The trap doesnt work at all. Not worth the time to even try this item. It looks like it is a great design but it doesnt work.': 1,\n",
       "         'This was the biggest waste of our money.  I don\\'t know what the solution is, but this trap is not it.  The so called \"spikes\" are not sharp enough to even penetrate my hand when triggered, much less something as small as a mole. When you pull the trap up, you don\\'t know if you got the mole, because, unless you plan on digging up your yard to see if the mole might be there, you don\\'t know.  We emailed the moleman, and he said that we needed to stick a piece of wood under the trap so that when the \"spikes\" come down, they do not just trap the mole.  So the past 6 times this trap has gone off, we have caught the mole, only to pull the trap out and set him free.  No where on the box or in the directions does it state the detail that needs to be taken.  I say, either live with em, or hire a professional.  Or, MOVE!!!!!!!!!!!': 1,\n",
       "         'best plunger type. more powerfull than other type. works great in sod areas. will last for many years. traped mols on first setting.': 1,\n",
       "         \"This gopher trap is designed poorly.  We have gophers and bought this trap online.  The only problem is that the part that should come down and trap/kill the gopher gets stuck with the dirt when you set the trap up.  I'm not sure if we didn't dig down far enough or what the problem was, but the gopher issue was not solved with this product.\": 1,\n",
       "         \"I tried several tricks to rid myself of my moles. I tried flooding them and using flares in their hole.. all with no success. I bought this trap last spring. It's now fall and I still have moles. As a matter of fact, it hasn't caught one mole yet!! I just got a couple kittens that I'm hoping will help me with the mole problem in the spring. I think my next trick will be to try those poisen worms or some people have suggested using wrigley chewing gum.... if none of those things work I may have to resort to dynamite!! If I do try another trap, it'll be one of those in-line traps....\": 1,\n",
       "         \"I have a large yard with several moles.  I called a mole/pest removal company.  I hired them and paid 200.00 to have about a dozen traps set (yes, they used these exact traps which is why I ordered some for myself).<br /><br />Anyway, they had 30 days to trap moles in my yard.  They also charged 69.00 for each mole they caught.  They got 5 moles in that time.<br /><br />That may not seem like many, but if you read about moles, you'll find out they are not like mice or rats.  They breed slowly and live alone.  They reproduce once per year and maybe have 2-4 offspring of which maybe half will live in natural conditions.  When you see an area or network of mole tunnels (your grass pushed up), that's just one mole... If you study the tunnels, you'll usually see it comes in from the edge of your yard where there may be more moisture (forest or wild area).<br /><br />You just need to look at the branching of the tunnels and find a few areas where you can guess the mole may be re-using that section to go back and forth.<br /><br />Once you locate a good spot, gently push the grass down to collapse the tunnel, and set the trap.  Be sure to set the trap so the spikes that go in the ground (not the spikes that kill the mole) are not right in the middle of the mole tunnel.  The idea (obviously) is to set the trap in an area the mole will try to use again.  When the mole tries to fix the tunnel, bam!<br /><br />I just trapped my first mole today.  I saw the spring of the trap was down, took the trap up, and the mole was dead underneath.<br /><br />This trap does work to kill the mole.  YOu just need to put it in the right place and set it correctly.<br /><br />The guy who worked for the pest control company told me most of this and it really makes a difference.<br /><br />I'm here to buy a few more traps.  I would suggest getting two traps for each distinct area you think there may be a mole.  I plan to just keep rotating 4-6 traps until all the moles are gone.\": 1,\n",
       "         'did not work very well. used it for about a month now, no moles killed. very easy to use but the directions say to put over an active tunnel and set up that way then the mole comes along and blamo. the thing is. the moles go around it. not a good trap': 1,\n",
       "         'I used this and it works fine.  A little hard to set the first time but once you figure it out it is no problem.  Just have to find the right mole trail to put it in and BINGO they are dead!!': 1,\n",
       "         'Just got my Victor Mole Trap and am excited to get rid of the \"Varmits\".In reading the instructions AND others comments here,they are all GREAT by the way,I have one very important question.My yard is \"spotted\" with mounds of dirt but I don\\'t really have any specific tunnels that I can see.Everyone\\'s directions are to step down on the tunnels and place the trap.I see no tunnels only mounds of dirt.I have IDed several fairly large tunnel openings that open onto the grass,should I just place the trap over one of those openings.HELP!!!These moles are driving me nuts.THANX!!!!!!!': 1,\n",
       "         'This past year the moles have just been terrible, about the only thing that has been getting to them is our dogs but the dogs have now driven these things to the front yard.  Within 2 days of placing these traps in the front yard I had results!  Love it and it is better than posion...': 1,\n",
       "         \"this is the only proven cure for the lawn mole tunnels. i've tried mole peanuts, mole worms, grub killer all without results. these work.\": 1,\n",
       "         \"Received product exactly as advertised. Prompt delivery too. These traps have been around for years and they work. If you take your time and read the instructions there's not much involved to setting it and getting the results you want... which of course is no more moles digging up your yard. Easy to use and in my opinion much preferable to poisons or gas/smoke devices which could always have the possibility of harming a family pet or some other animal besides the mole.\": 1,\n",
       "         'Not a single mole for me with this trap. It seemed to always fail to penetrate the ground, or push itself out of the ground.': 1,\n",
       "         'have trapped 4 moles in th first two weeks of use. Just the thing I needed to keep moles out of the yard.': 1,\n",
       "         'Purchased three of these traps because of research I did on the internet. Easy set up and killed 2 moles in the first week.You have to have a little patience in finding the active tunnels. I would highly recommend this item..': 1,\n",
       "         'I thought I would be throwing more money down a hole, but this product works great. I have killed 4 moles the last 3 months. The key is to figure out the tunnels they use. Over a few days push down all the raised areas in the yard and see which ones the moles push back up. Now you found their highway. If you have hard soil or roots, before you set the trap. Push the spikes of the trap into ground several times where the trap is going to be. This way when the mole triggers the trap the spikes will travel down easy otherwise the spikes may hit something hard and force the trap out of the ground without hitting the target.': 1,\n",
       "         \"As a few of the other reviews have said, as long as you pick a good location, these traps work really well.  I had a few false starts with some less defined tunnels but as soon as I picked a tunnel where the route was very clear, I caught my mole within 24 hours.<br />A nice thing about this trap is that you don't have to dig down into the ground to place them.  Just stick them into the ground where you find a well used tunnel.  I bought two, but I actually think one would have been totally fine.  It seems pretty sturdy too, so if we get any more moles in the future I will be ready!<br />All in all, I would certainly recommend this product.\": 1,\n",
       "         'It is strong and heavy duty, but reasonably priced. However, I have not yet caught a mole. I am looking forward to that.': 1,\n",
       "         'I\\'ve been using mole traps of this kind for over 50 years and have killed many hundreds of moles.  I have used Victor traps and cheaper traps.  They all kill moles but I prefer Victor because of the design.  The \"legs\" that hold the trap in the ground have barbs on them to keep the trap from jumping out of the ground when the trap is triggered.  The trap is made from heavy guage steel and the spikes are heavy guage and very sharp.  The spikes are sharpened diagonally on the tips so they cut like a knife.  The trap is easy to set.....takes just a couple minutes, just follow the simple directions.  If people are missing moles with this trap, it is probably because they are not setting the trap in deep enough or are not making sure the spikes can travel freely down into the ground when the trap is sprung.  A couple of tips:  After locating the run, step on a spot to flatten the run, then set the trap to straddle the flattened run.  Push the \"legs\" of the trap into the dirt as far as they will go until the trigger touches the flattened part of the run that you stepped on.  Then (important)before you set the tripping mechanism, push the spikes up and down through the dirt a few times until they travel freely.  I have caught several moles this week and will get another one this evening.  This mole trap is well-made (in USA), easy to use and will definitely kill moles if it is set correctly.  I have 9 traps and set them in clusters but you can kill many moles with just one trap...........it just takes longer.': 1,\n",
       "         'I tried everything to get my mole to leave peacefully. I sprayed castor oil, used mole repellent pellets, etc. He might leave for a week or two, but then he would be back.<br /><br />I purchased the Victor Mole Trap, read the instructions, studied a bit on the web, and rid my yard of moles in three days. GREAT product.<br /><br />The previous reviewers don\\'t understand that you\\'re not really trying to \"trap\" the mole with the spikes. In all likelihood you will maim the mole and he will go off to die. You won\\'t really know whether you got him until you notice that no new tunnels are being built. And you do need to pay attention to your yard before setting the trap. Figure out where the mole likes to travel by flattening his tunnels and watching where they reappear. Try to think like the mole and you\\'ll get him.': 1,\n",
       "         'In soft, loose, or sandy ground, the spikes might cause the entire trap to jump up out of the ground when the spring is sprung (every action has an oposite and equal reaction). I drilled two holes in the top of the arms of the trap, then used small string to stake the traps into the ground. Then be sure to spring the trap several times to be sure the spikes drop freely. With this minor retrofitting, the traps work great. I have killed three moles in a week. Be sure to follow the instructions from the other reviewers about finding active tunnels. That is important.': 1,\n",
       "         'The Victor mole trap (with spears) worked for me.<br /><br />You have to follow the directions and carefully pull up on the spring to arm the trap.  But it did work.  No more tunnels.<br /><br />I tried many different chemicals and other techniques to get rid of a mole and none of the others worked.': 1,\n",
       "         'I bought this Item 3 Days ago , and i just checked it after I ve seen countless Yellow jackets and wasps and bees go by it without giving it the time of day .It was empty Not one creature in there at all .. so what basically is it suppose to trap?? my Imagination????<br />Dont bother': 1,\n",
       "         \"I did what the guidlines suggested, and no bees came to it. Added some other stuff to it and still no bees. I don't want to fill with water. I am just going to throw away!<br />Icky.\": 1,\n",
       "         'I received this product and it was missing the lid.  Pretty disappointing considering how much of a crucial part of the trap it is...  All because someone can\\'t even look at their own product and determine that \"Ooops, guess it should have a lid shipped with it huh?\"  It would be like shipping a dvd case without the disc in it. I would strongly recommend that no one purchase any products made by this company unless you want to receive one without a lid, and go through all the trouble of shipping it back for an $8 refund.  Yes I said refund, there is no way I would give them a chance to send me another one.': 1,\n",
       "         'Excellent trap if you have a yellow jacket or black wasp problem. Fill it half full with apple juice, dispose of dead yellow jackets every 2 or 3 days, clean and refill.': 1,\n",
       "         'The red paper wasps I have wanted nothing to do with it. It did catch a few bees,flys,etc. This is about the 3rd device I have tried with no luck.': 1,\n",
       "         'Three of the traps came with broken tops and no way to easily secure the raps by hanging to a tree or anything.  I had to use my own string to secure the traps.': 1,\n",
       "         \"Large, therefore keeps its content for a while and easy to fill/use/reuse.  My wife is allergic so Ive been at this for years.<br />You'll get a year out of each at least but the thin plastic bottles do crack from sun exposure over time.<br />They should be nice thick plastic bottle but then you would have to pay more and NOT replace them every 2 years.  Why we live on landfills  :-c<br />These are the Best bee traps Ive tried and I will keep buying them.<br /><br />PS The real trick is finding which brew inside the jar keeps your local bees coming back for more.  A mixture of beer, water and pinch of soap (to film the top layer with something slippery and prevent the beer from evaporating) is most effective ive found.\": 1,\n",
       "         'The screw on top does not screw onto the container provided. There is no way the item can be hung from the top loop because the jar would fall. Mismatched top and jar. Disappointed with quality': 1,\n",
       "         'I use this in my yard in Anchorage. I put in about 2-3 inches of water and some salmon scrap. In the last two days I must have caught 100-200 bees. I love this trap, but the plastic is cheap and I had one crack once. I have reused this one for a few years. I try lots of meats, but salmon is the killer up here, at least that seems to draw the yellow jackets like crazy.': 1,\n",
       "         \"Gophers were ruining my yard. Actually my dogs were ruining it chasing the gophers. I'd come home to 3-4ft trenches dug. I tried everything else, gasers, poision, sonic noises, and cat hair. I didn't think I could use the traps because I don't enjoy killing animals. I guess they pushed me to far cause I bought a set and I really enjoy hunting them. It took a couple days. I had some big suckers for living in southern california. They'd push so much dirt they would set off the trap but be far enough back to escape. I kept with it digging out the trap and resetting it. Then BAM, got my first two today. They were still alive and they were pissed. Chompin their teeth as I was pulling them out. Glad I wired the traps, wouldn't want to stick my hand in there. Easiest way to kill them I found is to get a 5gal bucket, fill it with water and throw them in with the trap and all. They sink to the bottom and die pretty quick. Other gophers will eventually use the tunnels and I get them too. Kind of excited for the next one.\": 1,\n",
       "         \"Repeating:  it was just a waste of money.  It didn't work at all...and yes, it was set up according to the directions.  We have yet to trap the first mole....and there are mole tracks all over our yard.\": 1,\n",
       "         'Picked up a set of 2 at the local home improvement store for ~$11.  The design of this trap seems to count on the animal pushing dirt in front of him and the dirt is what sets off the trap.  In these instances, the gopher will likely be caught behind the neck or shoulders.  I see a lot of holes on our property where the hole is not plugged and plenty of sign that he has been out scampering around.  In these cases, he\\'ll get caught in the hip area with his nose up against where the trigger plate would be set.  This just makes it a little more awkward in emptying the trap.  The cinch type trap looks to be just as effective but much easier to empty.  The cinch trap will cost up to 2-3 times more, though.  I might get one or two cinch traps, but 9/10 will be the 610 type.<br /><br />I have read at least one review where the sweep of the jaws could be an issue, preventing the trap from being seated in small holes and from closing effectively.  This is really easy to work around.  I first thought to shorten the jaws, but decided to just make the hole bigger when setting it.  I learned that gophers are not shy of these traps or your activity around the hole.  In very short order you can excavate the hole to a size that allows the trap to operate freely...and the gopher will come...especially if you notice fresh activity around the hole.<br /><br />Much of the literature on setting traps recommends digging back from the plugged hole to access the main tunnel and then set the traps in pairs so the gopher has to enter a trap from either direction in order to replug the hole.  I have found this is not really necessary.  If the hole I am working was freshly plugged, one trap in the hole works every time.<br /><br />I also noticed that a small plug doesn\\'t necessarily mean a small gopher.  In one instance, I almost passed on setting a trap in what I thought was just going to be wasted effort.  I cleared dirt from a plug the size of a 50 cent piece and it opened up into a tunnel about 2 1/2 inches!  The gopher I got out of that hole was a normal sized gopher!<br /><br />I also read that a 3 degree difference in the gopher\\'s comfort zone in the burrow is enough to cause him to do something about it.  The fact that light appears at a point he previously plugged is also enough for him to quickly come back and see what happened.  One the first day I used these, I set one, then walked about 30 yards away and set another.  I checked the first one on the way back a few minutes later and found it had been tripped and completely covered.  I had to dig it out and found the little bugger had pushed a rock the size of a bird\\'s egg into it!  My first catch was a rock!  A Bill Murray moment flashed through my mind.  That gopher is now history, by the way.<br /><br />I am working with only 2 traps at the moment and secure them with a piece of butcher twine to my tunnel probe or a 12\" piece of 1/4 in re-bar.  This size hardware is probably overkill.  You can probably tie the traps to those marking flags on wire type stems available at your local home improvement store, especially if you are setting a lot of traps.  They may not need to be secured at all.  When that gopher\\'s body in in the trap, he isn\\'t really going anywhere.  If he can go anywhere with it, it might be best to let THAT gopher keep it as a souvenir!<br /><br />If you are not having any success at all with these traps, it would be a good idea to re-examine how and where the traps are being set.  I have never used these things before and only bought this set after 4 years of poison pellets simply didn\\'t work.  Look for FRESH activity and don\\'t be shy about providing enough room for these traps to work.  So far, have set these only at holes that have been plugged, but will set the next time where there is fresh sign but no plug.  I don\\'t bait mine and the trigger plate can ALWAYS be seen from above after I set them...easier to check them.  From all the mounds on our 2 acres, am guessing we have at least 40 gophers or more.  These traps will be busy and I\\'ll be keeping score.<br /><br />I give the trap 5 stars for effectiveness and 4 stars for the emptying issue.  From my experience, no need to spend a lot of money....these things work.': 1,\n",
       "         \"The most effective way to get rid of pocket gophers, & I've tried all the other things. Easy to set & use.\": 1,\n",
       "         'I purchased 4 of these and caught about 20 voles. My lawn finally is hole free! Purchase these in pairs so you can put one facing each direction in the vole run.': 1,\n",
       "         'Unlike a certain Utube video that denounces this gopher trap, I find these traps to be very effective. You just have to know how to set them properly!! I have had absolutely no problems with these traps and have been reducing the gopher population in my yard and garden tremendously!!': 1,\n",
       "         \"I bought a bunch of different traps to try them out and find the best one.  This wasn't the best, but I did catch one.  It is a bit safer which was nice.\": 1,\n",
       "         'I have used this trap for many years and it works great! It never breaks and it ALWAYS catches the gophers in my yard and my neighbors yard.': 1,\n",
       "         \"I am outside with product open and there is absolutely nothing here to show me how to use this.  Now I must go inside, search online, print or make notes to have something with me as I use this product.  Why not one printed sheet to use at worksite?  No value here--I'm losing half an hour.\": 1,\n",
       "         'OK...so I wrote my review too early.  Since the initial \\'capture\\', I have bagged a couple more of the furry garden  terrorists.  Unfortunately, their relatives continue to excavate in and around my garden.  The problem: the trip mechanism is not sensitive enough (as I suspected and wrote in my initial post).  My catch rate is less than 10%, and I usually find the unsuccessful sets filled with dirt and untripped.  I just ordered 6 Macabee traps and will post a review there after a few days of using them.<br /><br />Initial post: \"I have pocket gophers running amuck in and near my vegetable garden.  Tried the smoke bombs without success.  After watching a number of videos on You Tube about trapping gophers, I decided to take a whack at it.  At two different sites, I found new mounds, probed for the main trench, excavated, set traps in each direction, wired the traps to a stake, and replaced the sod.  18 hours later, the first set had caught a gopher BY THE TAIL!  One clunk on the head with a shovel and I was on the board! The other set, I presume, was not placed deep enough in the hole as the gopher simply pushed dirt up into my trap.  The only drawback that I perceive about the product is that the bump plate requires a pretty hard \\'bump\\' to spring the trap.  But, with one gopher in the bag after the first 18 hours, I am willing to keep using!\"': 1,\n",
       "         \"I actually use this trap to catch moles and it works fine.  It is simple to use and set up.  You just have to dig with shovel to find the the tunnel and place it carefully.  I don't bother tying string to it with stake anymore because I look at it as a disposable trap (I just find it too disgusting to dislodge the dead mole from the trap, and I also don't want to bother digging it back out again).  I have used it enough now where I know it works, and I don't feel the need to check it.\": 1,\n",
       "         'I set this trap the day after I received it.  The gopher pushed dirt onto it, but also pushed the trap out of the burrow.  I reset the trap with a nail behind it to keep it in place, and two hours later my gopher problem was solved.': 1,\n",
       "         'I have used this trap before.  I was able to eradicate the my vole problem fairly quickly with these traps.  They are great long lasting traps that get the job done.  They do not fair well under a lawnmower though!': 1,\n",
       "         \"Mine did not work well at all. As another person said, the gopher can push a set trap out of tunnel and not spring the trap because the trigger is not sensative enough. I recommend Maccabee traps. They cost a little more, but I have had a lot better luck. I don't even waste my time setting the easy set traps. Avoid!\": 1,\n",
       "         'I purchased a single Victor 0610 at the same time as a pair of Sweeney 9013. I found the Sweeney very difficult to use, due to wire construction that flexed while being set, and both Sweeney tripped without snagging the critters.<br /><br />I set the Victor in the same tunnel that the first Sweeney had been in, and caught a gopher within 10 minutes. I then replaced the second Sweeney, which had been tripped (but no gopher caught) with the Victor 0610, within twenty minutes another gopher had been snagged. I then placed the Victor in a third tunnel and again snagged a gopher within 20 minutes.<br /><br /> The other model has been relegated to the tool shed and I have ordered two more of the Victor 0610.': 1,\n",
       "         '<span class=\"tiny\"> Length:: 1:51 Mins<br /><br /></span>I recently bought a pair of these and after seeing how effective they were, bought two more.  There are a number of these reviews that mention the instructions, or lack there of.  Although the traps are actually  very simple to set, you wouldn\\'t know if from the instructions, which are pretty cryptic.  The illustrations are especially tough to follow. I decided to film my own instructions to show you how to do it. I think after watching you will see it is easy to set these traps.  After you purchase some traps, you should find it helpful in learning to set them.': 1,\n",
       "         'I have just recently purchased the Woodstream Corp 0610 gopher trap, and  within 10 minutes of laying the traps i was catching  gophers. This product  is the best i have ever used. The 0610 gopher trap is easy to set and works  with great success. Also, remember to use a wire attached to the trap and  tie it to a steak to prevent gophers from dragging the trap further into  their hole once they are caught. I hope you find this product as easy to  use as i did, Good luck.': 1,\n",
       "         'You may have to figure out how to set them up right in the holes, it takes a while to get good at catching them. But, I have really put a significant dent the golpher population that is attacking my gardens.': 1,\n",
       "         'It\\'s called easy set but there were no instructions included. Doing this wrong looks like broken finger\\'s. Instruction\\'s please<a href=\"http://www.amazon.com/gp/product/B00004RAMX\">Victor 0610 Easy Set Gopher Trap</a>': 1,\n",
       "         \"This is a poor excuse for a gopher trap. I have lots of gophers and have used other traps. I recently bought 8 (four sets) of these traps. They are ill designed. The gophers are able to trip them without getting caught and have even managed to push the set trap out of the hole. The problem is the sweep of the pincers is too wide and the mechanism too easily clogged with sand or dirt. Don't bother with these traps.\": 1,\n",
       "         \"I ordered the Victor 0610 Easy Set Gopher Trap after exhausting all other methods of trapping and killing a sneaky little gopher.<br /><br />We received the trap before the expected delivery date, so the shipping was very prompt.  I was disappointed after opening the box because there were no instructions included, though.  I searched for instructions online only to come up with hard to see diagrams with small print.  After playing with it for several minutes I was able to figure out how to set the trap.  Our crafty little gopher didn't mound up for several days after receiving the trap so we couldn't use it immediately.  When the shifty little creature finally did mound up my husband cleaned out the hole to make it slightly larger, set the trap and then secured the trap so that the gopher couldn't run off with it.  He decided to cover the mound with a wagon so that light wouldn't enter the hole.  When I went outside to check the trap a few hours later we had trapped the guileful gopher.  The gopher was still alive when we pulled it of the hole but he was quickly eliminated.  This gopher had managed to destroy a large portion of my yard and evaded us for 3 months.<br /><br />I wish I had found the Victor 0610 Easy Set Gopher Trap before I spent more than $50 on the other methods that didn't work.  I highly reccomend this product.\": 1,\n",
       "         'I purchased a set (two) of these at my local home store for about $11.00.  I purchased a gopher repelling device which advertised that the gopher would be repelled by the beeping noise.  Only when I got home and read the packaging did I learn that the device would not repell the gopher for 2-3 weeks.  My gopher was eating about three plants and herbs a day.  Doing the math and realizing I would have no plants left in 2-3 weeks I purchased these traps.  They were a little tricky to set up but once you figure it out it is easy.  I set the trap where I knew there had been recent gopher activity.  I dug up a mound of dirt and found the tunnels and cleared out the dirt.  When the hole was refilled I knew it was active.  I took out the dirt and placed the traps in the tunnels as the direction indicated.  I checked it an hour later and the gopher was history. Not the easiest to empty but you can use a screwdriver to push down on the device to release the gopher.': 1,\n",
       "         'This trap is very poor quality. Lock bar was too weak to engage or set trap. I threw it away because it was useless.': 1,\n",
       "         'I have tried to get rid of these buggers for over a year now. I have tried everything from chewing gum, insecticide for the grubs, flooding them with a garden hose ( I ran the hose down a main tunner for 8 hours before the water appeared out of another hole 20 feet away), mole poison, looked into a cosstly mole servicewithout any guarantees, and even considered a little gasoline at one time!<br /><br />The Mole Trap arrived yesterday April 19th 2012. I read the reviews and using the instructions from the reviewer (Thanks G Klos), I set the trap following the reviewers instruction and warned all of the family to be aware of the trap and to keep away from it. Shortly after 6 pm today Aprill 20th I found the trap sprung and there in the jaws was the critter that has wreaked havok on what was once a flat smooth front yard.<br /><br />Tomorrow I move to the back yard.<br /><br />This trap is incredible.': 1,\n",
       "         \"Forget everything else and just use this simple product to kill your moles. Getting rid of their food source or trying to chase them away through other ways just will NOT work. You have to kill them! I bought a new home with 5 acres to mow. There were so many mounds and tunnels it looked like I had over a hundred moles in there. You literally could not step anywhere without stepping on a tunnel. I tried everything while the simplest and cheapest way were these traps. Don't make the same mistake I did trying to kill grubs and using spore etc, etc,---just get these traps and use em and your done. I put 4 of these traps on 5 acres and in three weeks I got 5 moles and that was all I had! Moles can tunnel up to 80 feet in one day. that is why it looks like there must be hundreds of moles. It has been 2 years now and you can't tell there was ever a mole problem here.\": 1,\n",
       "         \"I have a big yard with sandy-clay soil,pretty soft ground in sc.the moles used to be a big problem.spent aproximely a month buying traps,seeing how this moles destroyed my yard with no results.I will save you time:trapline and cinch traps are good products but don't work.the moles feel the trap inside the tunnel,it's a no go.loop traps work somehow,but after many trips I realized that they are way too wide for the mole.I ended up buying this one.I own and used 2 trapline,2 cinchtrap,2 choke mole nash trap and only one victor out of sight.so far I caught 2 moles and guess what,both with the victor out of sight.the last one I caught I set the 2 trapline first in the beginning of the run,the cinch after that,the choke,and then the victor and then the chocke.went to check 2 hours later.found the tunnel deviating both the traplines and the cinch,tripped the chocke one...I knew that after the fence the victor had to do the trick...and I was right.my second one with the same trap!.I own all kinds of traps but only this one had work twice and fast.the secret?I believe is the fact that is not as wide as other traps,the trigger is very sensitive,the blades are curvy and push the animal inwards when closed...very fast and strongly...any trap that goes inside the tunnel is doomed to fail in my yard.the moles feel it and avoid it alltogether.the choke is fine idea,just too wide and won't catch the thing that probably stays in between the choke while it closes...this is my story.don't spend 80 dollars like me.buy one of this,find the run that goes straight around your fence or house,set it on top of the tunnel,don't dig nothing,just spade a slot where the blades will sit,press the tongue-trigger in the middle and enjoy the sweet revenge.I just wanted to share my experience.I have 7 mole traps that don't work.save yourself some money.\": 1,\n",
       "         \"I have had the trap in my fescue lawn for about 2 weeks.  I have moved it twice now.  The first location did not get anything but the second one caught my first mole after being set for 3 days.  I definitely recommend this style over the kind with the spikes that sit up above the ground.  The name is a little deceiving as the trap is not completely out of sight but it's fairly low profile and the part that could do the most damage to little hands and feet is already underground when it is set, so I feel that the kids are in very little danger playing in the yard nearby.<br /><br />The toughest part is identifying active runs.  The thicker the grass, the harder it is to identify where the runs are.<br /><br />The hunt continues...\": 1,\n",
       "         \"Took a few days, but the mole finally got caught. The trap is fairly easy to set up. I think some of it is luck if the mole heads into the trap. But it did work for me, check out the pic of the catch for proof. I didnt want to kill the little guy, but he was really tearing up the lawn and he wasn't moving out.<br /><br />Probably the major con with this trap is it does take a lot of strength to open. If it was a little easier to open, I probably have given it 5 stars.\": 1,\n",
       "         \"I received the traps that I ordered and was glad that I had watched several videos on setting them as there is absolutely nothing in the box that really helps figure out how to set the trap effectively.  I am fairly literate when it comes to reading instructions and therefore, I consider the enclosed instructions only fair.  You can figure it out but that is exactly what you have to do is there is nothing in the illustrations that is all that helpful.<br /><br />So far I have not been successful in actually trapping a mole but still trying.  However, I am writing this review to caution the reader of something that could have been disastrous to me from using this device.  As I was checking one of the traps, I decided to move it so I set the safety loop over the bar as it is designed to be done.  AS I moved the trap, and I am still not sure what happened, the device sprung and instead of the safety catch stopping the action, it actually came off with great velocity hitting me in the forehead about 2 inches from my eye.  The wound is small but none the less, hurt like crazy and bled profusely.  I hate to think of it hitting me in the eye or mouth!  As I said, I don't know really what happened but still have not found the safety catch - maybe a mole will return it!  Be careful and I suggest wearing safety glasses when setting.\": 1,\n",
       "         'I have a big place I caught 40 mole one year. I used every trap I know of. These are the best I ever used. The spring or strong. They are a little hard to set but that what it takes to hold moles. Mole are hard to kill with some traps. No traps work well in tree roots. This Victor 0631 is the one to use. The easy set model might work? I used the Nash, Trapline, victor stab type, This victor 0631 is one I would recommend.': 1,\n",
       "         'I bought 2 of these traps and spent an hour trying to set one of them.  I have decided the trigger mechanism must have been installed wrong when it was made.  No way this thing will work.  Sent them back.  Will buy another type/brand.  Save your money.': 1,\n",
       "         'As many other reviewers have suggested, the best way to use this trap is NOT to bury it, just simply tamp the ground over the tunnel and make 2 slots for the jaws of the trap. It never misses, when it trips, you have one less critter ruining your lawn!': 1,\n",
       "         'Great Product.  Made of strong durable metal.  Will last a long time.  I had best success by not using the product like explained on the box.  I used a shovel or axe to make slit in the ground for the \"clamps\" to fit into to secure a clean catch when tripped.  Before setting the traps walk on top of the raised tunnels to find the most active sites to know where to set the trap.  I have killed 5 moles in my yard in the first week.  Happy Hunting and Good Luck.': 1,\n",
       "         \"I admit it - I'm very, very ambivalent about harming any creature, even one that tears up our lawn the way moles do. But after one of our kids fell and nearly broke a leg in one of the numerous mole holes in our yard we (reluctantly) decided to cut down on the mole invasion. We did not want or need another emergency trip to the doctor's office. We also have elderly parents who visit often and the thought of THEIR falling was frightening to us.<br /><br />  Bottom line on these traps - THEY WORK. If you want a trap that quickly kills moles, these do. They also seem to keep  suffering to a minimum. I'm not even sure the moles DO suffer because I was walking to the mailbox and felt  one of these traps go off. The mole was dead by the time I pulled it out, less than a minute later.<br /><br />  Our lawn is no longer full of dangerous mole holes. I admit...if we'd only had an occasional mole hole, I would have stayed away from traps. We are animal lovers. We have pets.<br /><br />  But the situation was becoming dangerous. I didn't want anyone  to get hurt walking across our yard.\": 1,\n",
       "         \"This is an excellent product. I had to play with the sensitivity of the trigger a bit before I used it. Once set, it worked very well. Trapped a couple of moles in 24 hours and problem has gone away now.<br /><br />I did not like the manufacturer's instructions. I had to find out how to set it myself. Here is what I did:<br /><br />1. Armed the trapped with the safety clip on.<br />2. Found a straight area on the mole's runway<br />3. Flattened a straight part of the runway a couple of inches wider that trap by stepping on it<br />4. Used a putty knife as wide as the trap jaws and cut two lines perpendicular to the run. I widened the cuts a bit for the jaws to push trough the cut easily<br />5. I pushed the trap jaws in the cuts until the trigger tip just touched the top part of the grass.<br />6. Removed the safety clip<br /><br />You can protect the trap if you are like me and have neighbors with kids and/or dog by covering the trap with a large bucket and a heavy weight on top of it.\": 1,\n",
       "         \"after $100.00 in smoke bombs and spring loaded spike traps, we gave up on the mole invasion. we called and exterminator who used these same traps. they didn't miss. he caught six in two days. we found these traps on-line and ordered two. about a month later we saw another mole tunnel. next day we had him. be very careful setting these traps, they are very powerful. by the way, the exterminator gets $50.00 a mole.\": 1,\n",
       "         'This type of trap is highly effective IF you do NOT follow the directions about how to place it. If you bury it (which the directions will tell you to do) it will simply NOT work. If your \"out o sight\" trap is out of sight it is TOO DEEP and all you will get is holes in your yard and perhaps an annoyed mole.<br /><br />When the very expensive exterminator (who we now refer to as \"Mark the Mole Man\") came to our house, I showed him our \"out of sight\" mole trap. He tried to be respectful but finally just said, \"Ma\\'am, that\\'s too deep. Ain\\'t gonna kill nothin\\'.\" As it turns out, this is exactly the same type of trap he uses. He just knows how to use it correctly.<br /><br />He pulled it up and knocked the dirt off and walked around the yard for a while telling me stuff about moles. He clearly took great pride in his mole murdering skills (please don\\'t give PETA my address.) Finally he stopped, stood silently for a moment, then he stepped his boot gently on a run until the soil was level with the surrounding soil. Next he took his special tool for making the slits that the previous reviewer described making with a shovel, and he made his two slits in the run for the blades to fit into.<br /><br />Then, artist that he was, Mark the Mole Man pressed the trap blades slowly into the slits he had made until the flat trigger was sitting gently on the soil. Released the safety and - Done. He placed three more in the back yard (BIG yard) and 24 hours later we had a dead mole.<br /><br />It was a wonderful (and for us expensive) experience. Go get your nasty little critter with this trap, but don\\'t follow their directions. Listen to reviewer Geoffrey Klos.': 1,\n",
       "         '<span class=\"tiny\"> Length:: 5:25 Mins<br /><br /></span>This is the way I\\'ve had luck using this type of trap. I\\'ve killed over 35 moles from my yard this way but keep in mind that techniques may vary depending on your area and soil type.': 1,\n",
       "         \"Not much else to say, but this really works!  I set the trap and 2 hours later = dead mole!  Can't ask for more than that.  Easy to set up, easy to reset!\": 1,\n",
       "         'Hallelujah!!!  The wicked mole is dead.<br /><br />For 2 years I have hunted this critter.  I have read the entire internet.  2 years of research led me here.<br /><br />For those of you with mole problems, let me save you some time.  Forget everything you think you know.  The only way to deal with moles is to kill them.  The only way to kill them is to trap them.  Baits don\\'t work.  Treating for grubs don\\'t work.  Moles primarily feed on worms, not grubs.  Sonic vibration thingys don\\'t work.  These traps work.<br /><br />BUT...<br /><br />Don\\'t follow the directions on the package.  I will do my best to explain how to employ this product.<br /><br />First of all, if you have to, stamp down all mole runs in your yard.  Ordinarily, you don\\'t want to do this, because it just encourages the mole to dig new runs, thus doing more damage.  But you need a current picture of where the mole is active in your yard.<br /><br />The next day after you have stamped down all the runs, observe any new runs.  You are looking for long straight runs.  Long straight runs are like mole highways.  The curvy short runs are hunting roads.  The curvy runs are less traveled.  Hunt the highways.<br /><br />Open the trap and set the safety catch.  Set the trap down next to the run where you want to place it.  Take your foot, and stamp down the mole run just where you want to place the trap.  Should only be about your foot\\'s width.  Don\\'t push down hard.  You want the ground you stamp down to be level with the rest of the yard.<br /><br />Now take a straight blade shovel and create a notch on either side where the trap blades will go.  You don\\'t have to go real deep.  Just a couple inches.  Wiggle the shovel if you have to, to create those \"pockets\" for the blades of the trap to go into.<br /><br />Carefully place the trap into the notches or pockets you just created until the trigger of the trap is level to the ground.<br /><br />Unhook the safety.<br /><br />It took me 3 days to catch my mole once I set my trap this way.  I moved it once after the first day because I wasn\\'t happy about the run I had originally placed it. If you don\\'t catch your mole after 3 days, then look for a better spot.<br /><br />Warning!!  If you go out to check your trap, bring a shovel and wear shoes.  When I got mine, he wasn\\'t dead.  The trap had just got him in the back and he wasn\\'t going anywhere, but he was alive.  So when you pull up your trap, go slow and be gentle.  You don\\'t want to accidentally release him.  Be ready to whack him with the shovel.<br /><br />For 2 years this mole has terrorized my yard.  I was at my wits end.  My yard is destroyed.  Let the healing begin thanks to this product.  Now kill some moles!!<br /><br />EDIT 3-24-09: I just wanted to give everyone an update.  I got my third mole last night using these traps.  Add that to the 3 my parents have killed, our family alone is responsible for killing at least a basketball team of moles.  If anyone has any questions about how to kill moles, post or email me, and I am positive we can kill your mole too.<br /><br />EDIT 3-16-10:  I\\'ve been reading some other reviews here and I wanted to clear up some misconceptions and misunderstandings.<br /><br />First, if it looks like the moles are going around your trap, the most likely cause is that the trap is set too deep.  That ties to another reviewer who said they set the trap with the trigger at grass level.  That would be too shallow.  Before you set the trap, tamp down the run to GROUND level (not grass level).  When you cut the notches for the trap blades, and place the trap in the ground, the trigger should lay even with the rest of the ground.<br /><br />Second, while true that moles will eat grubs, their primary food source are worms.  Worms are usually more plentiful, and they move through the ground, thus making them easier to find for a hungry mole.  Grubs are more stationary.  A mole will eat them, but it requires more luck to find them.<br /><br />Third, if you don\\'t get a mole in the first day, don\\'t panic.  Give it a few days. Remember, the best place to put the traps are in the long straight runs. Those are the mole highways.  Just because it\\'s a highway though, doesn\\'t mean your mole will use that highway every day.  Give it some time.  It\\'s not necessary to move your traps too often.  Even if your mole seems to be active in another area of your yard, if you picked a good spot to place your trap, he will come back and use his highway again.<br /><br />Fourth, moles are territorial.  There may be some overlap, but it\\'s minimal.  HOWEVER, keep this in mind.  Just like you, moles prefer to travel along pre-dug roads.  You don\\'t build a new road every time you want to go to the grocery store.  Moles don\\'t like to either.  So, even if you kill your mole, it is VERY likely that another mole will move into your yard.  Keep in mind also, that the runs you see at ground level, are only a fraction of the amount of tunnels that might be running through your yard.  Moles don\\'t hibernate.  They follow the worms in the winter, and worms dig in deeper during the winter.  For a mole to survive the winter, that mole has a whole labyrinth of tunnels deep under ground.  Easy pickings for another mole looking to move into your yard.<br /><br />EDIT 4-29-10:  Taught my boss how to use these traps and he got his first mole this weekend.  The moles in St. Louis are having a bad day!<br /><br />EDIT 5-28-10:  Got another one last night.  I\\'ve had a mole kicking around the area for the last few months and just couldn\\'t get a good run to trap.  Finally, the idiot moved into another area of the yard, and to do that he had to make a couple long straight runs to get there.  Well,  that was his last mistake.  I had the traps in the ground less than 12 hours.  I woke up this morning to dead mole.  There really is nothing better with your Corn Flakes than dead mole.<br /><br />EDIT 7-22-10:  So about a week after I killed my last mole in May I got another one destroying my yard.  Took me 2 months, but that mole is now dead.  What a wonderful thing heavy rain is.  When it rains, it brings the worms up, and the moles are soon to follow.  Right into the waiting arms of the sharp teeth of my mole trap.<br /><br />EDIT 9-9-10:  Pics are up!  If anyone has any suggestions or questions about the pics, just leave a comment and I\\'ll see what I can do.<br /><br />EDIT 9-10-10:  Less than 12 hours later, I\\'m the proud parent of a dead mole.  I kill more moles before 9am than most people do all day.<br /><br />EDIT 9-30-10:  Posted 3 pics that show how to prep the trap itself before setting it.  I also tried to label some components just so if there are questions in the future, we all have a reference for terminology.  I\\'m sure my verbage isn\\'t right, but as long as we all understand the different parts, that\\'s all that matters.<br /><br />EDIT 10-22-10:  There have been a number of commenters and reviewers that have asked about sandy/loose soil.  We haven\\'t been able to give a very good answer because I don\\'t have any experience in that kind of condition.  Another reviewer does though, and he did a really good job of explaining his technique.  The following is a link to his comments.  Thanks Bjay25.<br /><br />[...]<br /><br />So it looks like Amazon won\\'t hyper link in reviews, but just copy that link and paste it into another tab on your browser and that will take you right to Bjay25\\'s comments.  That should be real helpful for people in the south that are dealing with sandy soil.<br /><br />EDIT 1-25-11:  Doesn\\'t everyone hunt moles in the dead of winter?  I got my first winter mole last night.  I have all but moved in with my girlfriend, and after taking care of her yard last summer, we started noticing some mole activity.  Mostly in a flower bed, which is a tough place to trap.  I kept waiting for a good run to trap, but never got one.  Then winter came, and I kind of forgot about it.  I figured I\\'d get him next spring.  So then I was out taking down xmas lights, and the yard was TORE UP!  I tried stomping down runs, and was hoping I would get a highway to trap, but couldn\\'t get a good one.  I finally got fed up, set a few traps and stomped down all the other runs.  About a week ago, it snowed pretty good here.  So the traps have been covered.  Yesterday was warmish, and the snow started to melt.  That allowed the traps to peek above the snow, and sure enough, the trap was sprung. I figured a kid prolly kicked it.  When I pulled it up, there he was.  In the middle of winter, on a day when we got freezing rain in the morning, I got a winter mole.  Remember, moles don\\'t hibernate.  Usually they are deeper, to avoid the cold during the winter, but this one must have been desperate.  Maybe he thought he was safe since there was snow on the ground.  Wrongo buddy!<br /><br />EDIT 6-9-11:  This year is the hatch of the 13 year cicadas in St. Louis.  What does that have to do with moles?  Well, the cicada larvae emerge from the ground to mutate and mate.  What are they while they are in the ground and preparing to emerge?  They are mole food is what they are.  I\\'ve read a few articles now about the effects of cicadas on the ecosystem, and one thing that is consistent is that up to 2 years before a cicada emergence, mole activity is increased.  On the other hand, you can expect to see decreased mole activity after they emerge.  So, that might explain why so many in our area have been having mole issues.  Hopefully after the stupid cicadas are gone, some of the moles will go with them.<br /><br />EDIT 5-3-12:  I would love to talk to the 3 people who didn\\'t find this review helpful.  I\\'m not gonna dwell on it, but I\\'m just sayin...': 1,\n",
       "         \"Don't waste your time buying this piece of junk. The instructions must have been done by a three year old and trap cannot be set as shown. Customer service people do not even repond to my inquiries.\": 1,\n",
       "         'gets all moles big or small. i have found putting a small dirt clod under paddle helps trigger trap. if you have dogs you can put a bucket over trap and weight it down once trap is set to keep them out also keeps children out. i have two and my brother also has two and we both agree that they are the best thing on the market today.': 1,\n",
       "         \"I purchased 3 of these from Amazon. They do work. So far, I have caught 2 moles in my yard and 1 in my neighbor's using the surface technique. One of the traps though has a dangerous manufacturing flaw. The thinner piece of metal on the top of the trap where the trigger bar and safety clip are attached broke on the trap after setting it only twice. I have also observed that over time and constant use the paint wears off this piece and the metal rusts, further weakening it. I have contacted Victor about this problem but have not yet heard back from them. Thankfully Amazon has a very liberal and easy return policy on defective items. See pic of broken trap in customer images.<br /><br />I would have rated this higher but Victor has quality control issues they need to address. This is what happens when you outsource your manufacturing to other countries like China.<br /><br />For those having problems setting these traps, don't follow the instructions on the box. See my pics in customer images on how to set these without having to use a vice or vice-grips.\": 1,\n",
       "         'I\\'ve been very successful at trapping moles with this trap. It was a little hard to figure out how to set it initially---the directions on the box aren\\'t perfectly clear--but finally figured it out. It does require pretty good hand strength to set it. I used a 2 x 4 to prop the jaws of the trap open until I figured out how to set it. This trap was one of the few recommended by \"The Mole Man\" [...], whose web site it really great for learning about mole biology, habitat and how to control moles. Traps appear to be the only effective method. And this trap is certainly effective. I caught a mole the first night the trap was out and several more since.': 1,\n",
       "         \"After following Geoff Klos's instruction, got the first mole in two weeks.  Thanks for sharing the technique.  This product works, but patience is the key.  It's a bit difficult to set, but in order to provide the clamping force and speed required, I guess it's necessary to have such strong spring.\": 1,\n",
       "         'I\\'ve used two other types of traps besides this one: the plunger style (stabbing death from above) and the scissor style with foot activation (cut \\'em in half). Neither worked very well--the scissor/foot style frustrated me the most because you have to compress the springs using your foot after the trap is positioned, and if the soil is somewhat damp, the whole trap will just squash into the ground.<br /><br />After the snow melted I discovered that the moles had been hard at work in my yard. I set the Victor trap on what I believed to be one of the mole \"highways\" and caught a critter WITHIN 6 HOURS. He was a big one too, almost 6 inches from nose to tail.<br /><br />PROS of the Victor trap:<br />* I like that you can set/compress the trap before you place it. This makes it easy to position it exactly how you want it in the ground.<br />* The safety catch is a nice feature. If you hit the trigger lever by accident, you won\\'t hurt yourself.<br />* Trigger lever is VERY sensitive. This has been one of my frustrations with other traps--I can sometimes tell by the soil movement that moles are passing under it without tripping it.<br />* Price, $10 is cheaper than most other traps.<br /><br />CONS of the Victor trap:<br />* The instructions stink. Even disregarding the placement issue (see next point), it took me a few minutes to figure out how to compress the trap using the \"setting levers\" and trigger lever. It\\'s a good design, just not well documented.<br />* Don\\'t use the instructions on the box for placing the trap. I followed the advice of several other reviewers here who suggest cutting notches on either side of the tunnel for the trap blades to rest in. This turned out to be easier and more effective.<br /><br />If they just improved the instructions on the box, it\\'d be a five star review from me.': 1,\n",
       "         \"I don't care what anyone else says about this trap because I just caught one and I've been trying for years. First day I set it out it worked. My area is very sandy and I consider the spear/plunger type traps a total rip off, for me anyway. Never caught one til I got this trap.. These moles are very destructive to my plants. I've read all the mumbo jumbo from the go green guys about how moles just eat grubs and help aerate the soil. Yeah right! They have killed fruit trees and plowed down whole rows of my vegetable garden.. By whatever means they manage to kill my plants.. So I hope to kill more with this trap..\": 1,\n",
       "         \"This product worked way better than I thought it would, even after reading all the positive reviews. I set it in the run used by an evil mole who repeatedly crossed my back yard on his way next door. I sprayed his run with castor oil products, Murphy soap, water with cayenne pepper powder in it--nothing phased this monster. Set this trap in his main highway, and next day, it had snagged the pest. Two days later found another mole run entering from another neighbor's yard. Set the trap, next morning, dead mole.<br /><br />I'm not bloodthirsty, but these creeps ruin my yard. I stopped short of cutting off their heads and sticking them on Popsicle sticks next to the runs. I did, though, leave the bodies buried securely in the tunnels. A message for any other intruders.<br /><br />A big thanks to Geoffrey Klos for his excellent instructions. Doubt I would have been successful following the package's instructions.\": 1,\n",
       "         'I\\'ve had at least one mole terrorizing my landscaping for about 8 months now.  I initially let him go, since he wasn\\'t actually damaging plants.  In time, though, he\\'d separated enough roots from the soil that I nearly lost several plants, and my 20 ft crabapple was dropping half its leaves in June.  Something had to be done.  I\\'d read the reviews here early on, but decided to try some control methods that I could get locally.  This trap was not one of those.<br />I used three of the Victor harpoon-style mole traps, and managed to get them triggered successfully, but the mole escaped.  The design is simply flawed--in pushing the harpoon downward, the trap tends to force itself out of the ground.  To help prevent this, the trap has very long stakes that need to be driven into the ground... if you have much gravel in your soil, like I do, this is nearly impossible.<br />Several states\\' university extensions have tested the relatively new gummy-worm style baits with reasonable success, so I decided to try them.  Because my moles \"highway\" tunnels were right next to my house under plastic, I was able to peel back the plastic and drop them right into the tunnels (the plastic made up the roof of the tunnels).  I checked them each day for two days and my mole was actually eating them.  I had to leave town for a week, and when I got back there had been no new mole activity, which was not normal for my busy guy. I figure the gummy worms did him in.<br />Unfortunately, another mole invaded about 2 weeks later--completely different habits, though--this one preferred the lawn over the landscaping beds.  I\\'d ordered these traps the same day I placed the gummy worms, so I set three Out O\\'Sight traps per the instructions given by other reviewers (NOT THE ONES PROVIDED).  In three days I had my new mole.<br />One additional method of locating active tunnels that I like to use is to poke a stick through the top of an existing tunnel that you suspect might be a \"highway\".  Place a stone over the hole to block out the light.  Check under the stone daily--if the hole is filled in, the mole has passed through again.  Set your trap there.<br />Given the choice, I prefer these traps over the baits for two reasons--no poisons in your yard to accidentally get your neighbor\\'s cat, and there\\'s a little mole body to confirm that you actually got him.  Just be prepared--the little critters are actually kinda cute.<br /><br />Familiarize yourself with their habits, follow the instructions given by the others here, and be patient, and you\\'ll have your moles.': 1,\n",
       "         'Woo hoo!  I\\'m so excited to have caught a mole so quickly after setting the traps for the first time.  I purchased two traps and set them up like Geoffrey Klos suggested.  I couldn\\'t find any runs that looked like \"highways\", but I did find some that snaked around my yard and seemed to connect the myriad of smaller runs that branched out.  I guess my instincts were correct.  When I noticed that the trap had been set off, I took my shovel with me, fully prepared to whack that mole on its head if it were alive. I was not prepared for it to be so cute and fuzzy, so I now have a live mole in a bucket.  I guess that\\'s better than a live mole in my front yard.  The only problem is I now have to figure out how to get rid of the cute little monster.  Needless to say, the trap worked great.  The trap is probably best set with two people:  one to use the levers to open the jaws and the other to position the safety hook and the tripping rod.  I set it by myself in two steps.  First I layed it on its side and stepped on the top lever until I could lock the safety hook.  At that point, the levers were close enough together that I could squeeze them with one hand while setting the tripping rod and tripping pan. I noticed the pictures that looked like someone had dug two trenches in which to place the legs of the trap, but I just followed Klos\\'s instructions and used a small spade to make four puncture holes that lined up with the legs, and then I pressed the trap down into the holes until the tripping pan touched the dirt that I had previously patted down with my foot.  Happy mole hunting!': 1,\n",
       "         \"These traps have a much better kill ratio than the other traps.  I have one of these, a harpoon trap, and some that you bury in the tunnels.<br /><br />Poisons, grub killers, and gasses probably don't work, and you will never have a body to know for sure.  Trapping is the best method.<br /><br />I've also flooded the tunnels then shot the mole.  Flooding the tunnels did more damage than the mole did.<br /><br />I've also nailed a couple with a harpoon trap too, but the scissor type is more effective and I rarely have a sprung trap with no mole.<br /><br />The out o sight scissor trap is the best one.<br /><br />People who are giving this bad reviews must not be setting it correctly, I had the same problems until I learned to set them right.<br /><br />Do a google or youtube search and learn how to set them right and you will catch them.<br /><br />1. Keep your grass short to help spot the tunnels.<br /><br />2. Pick a tunnel and set the trap correctly on that tunnel, stomp all of the other tunnels down flat, not the one your trapping on.<br /><br />3. If you haven't caught the mole in 48 hours, the tunnel is abandoned and needs to be relocated.  Stomp the tunnel down flat and move the trap to a different newer tunnel.<br /><br />I usually catch them overnight\": 1,\n",
       "         \"I have 3 different kind of traps -  plunger, choker and Victor out of Sight.<br /><br />I have never caught anything with the plunger but have had great success with choker and out of sight.<br />Geoffrey Klos' review is great but I had success burying the trap and here's how:<br /><br />1. Take knife and cut top off straight mole run the size of trap and set aside to replace turf later.<br /><br />2. Dig section out a little deeper than tunnel.<br /><br />3. Mound dirt up in center where trigger mechanism will sit on without setting itself off.<br /><br />4. Lay turf and spread loose soil around trap to fill in gaps<br /><br />5. The key is to put a bucket over trap so that there is no daylight.<br /><br />This method is a little tougher on your turf but if you cut it clean and use the bucket you should be able to put back with little damage.<br /><br />Best of luck.\": 1,\n",
       "         \"I've tried 3 other mole-trap designs with limited to no success. Without a doubt, this is the trap that gets the job done, every time. I have always used the simple directions supplied with the trap, with no customizations.<br /><br />This is a powerful trap that works fast.  The cocking process may require more coordination and strength than some folks can provide. However, once the trap is armed, and the berm under the trigger is at the right height, you are virtually guaranteed to get your critter from either direction as it pushes dirt to close the hole.  I use a post-hole digger to dig a clean right-sized hole, then cover everything with an inverted plastic bucket.  Just follow the directions on the box.\": 1,\n",
       "         \"I bought 5 of these traps hoping to rid myself of the moles in my yard.  First off, they are difficult to set.  It requires some strength in order to set the trap.  So far, the moles simply seem to avoid the trap.  One was triggered but the mole avoided the trap somehow.  I haven't caught a thing; I'd try a different trap next time.\": 1,\n",
       "         \"I bought these traps due to the good reviews and the price of the item.  I followed the directions of the guy that tells all of his mole stories which is pretty awesome and entertaining in the review section.  I set my traps and had my first Mole within a day!!  I thought my problems were solved but they came back and I got a second within a day!!  They then showed up in the front lawn and I didn't set the trap right and It took a few days to realize my mistake but after I reset the trap I got my third mole and I've been mole free for a couple of weeks!!!  I would encourage people to get this product.  It does take a decent amount of strength to set the traps but they work and thats all I care about.\": 1,\n",
       "         'Anyone who has had moles needs help. After 30+ bombs, I enlisted help from a neighbor who schooled me in mole habits and we got a kill. I assumed multiple moles because of the number of mounds but it was only one. I have my own trap on the way.': 1,\n",
       "         'Our yard was COMPLETELY overrun with moles this year.  The lawn was dead and the trails were everywhere we walked--literally.  We tried sulphur bombs (the Giant Destroyer), spring traps, castor oil (lots of it), Talpirid (80 worms), sonic molechasers (13 of them on 3/4 acre--way more than was suggested), and finally a professional mole guy which cost us $450 to place poison bait (all we got from that is a sick cat and a $150 vet bill), but no dead moles.  Killing grubs doesn\\'t work because their main love is earthworms and you definitely don\\'t want to kill those.  Everything that you read says that trapping is the only way to truly rid yourself of moles.  They only reproduce once a year and usually have litters of 3 to 4 pups--and half of them die.  The only reason we get overrun by them is from not trapping them and using deterrents that only work for short periods of time, allowing their numbers to increase (from what I\\'ve read). I read about this product and all the great reviews and I chose to *believe* one last time, so I ordered 6 of them. We went outside this afternoon to set 2 of the traps and within 1 hour we had our first mole!!!  He was huge and very well fed, he lived a good life. RIP.<br /><br />Initially, we did get completely frustrated and we each threw one across the yard, then we calmed down and figured it out. The reviewers all had great tips and I re-read them.  The thing to remember is to set the trap and put the safety on BEFORE you try and put it in the ground (sounds obvious, but it seemed easier to place it in the ground first and it wasn\\'t). The spring is VERY strong, but the metal bars they put in the package make it easy enough to open the trap with both hands, then hold it open with one hand, and keeping the plate near the ground for leverage, engage the pin on the striking plate and flip the locking pin over.  The only other hard part is finding the right type of tunnel!<br /><br />I\\'m convinced there is no \"natural* way to get rid of moles--I wish there was--but the only thing that is ultimately going to work is trapping them.  Be patient and don\\'t give up, it really is easy to set this trap once you get the hang of it.  GOOD LUCK!<br /><br />UPDATE 11/2009:  Just caught another one this morning!  The trails are dwindling...<br /><br />UPDATE 5/2010:  Our grass finally grew back in after the moles killed every square inch of the lawn last year. We ended up getting about 5 moles. Just got the traps out again for the summer season as we noticed a small area being dug up.  We found a straight trail, set the trap and caught him within 4 hours!': 1,\n",
       "         \"I bought two of these two years ago.  First year I didn't need it since the moles left me alone.  This year however I have set it twice and caught a mole each time.  I'd previously tried other types of mole traps, i.e. spikes and hoops but with limited success.  (Seemes I had too many misses, sprung trap but no catches).  Having grown up on a farm and traping several types of critters I figured I knew how to trap moles too.  I felt strongly about this trap today after my second success in just two settings that I looked up my two year old purchase and wrote this.<br /><br />Aug. 19th, 2011<br />Mole #3 today.  So far I've made three sets and caught three moles.  Not a miss yet.  This type of trap is definately the best of any I've tried previously.\": 1,\n",
       "         'Looked all over and read many reviews. This trap just works! Got it this morning and put it in like the pictures show. Snap, one dead mole three hours later. Now to get the rest of the clan as well.': 1,\n",
       "         \"I chose this based on reviews.  It's not available locally in stores, and I learned that my mole problem would not be fixed using gopher/mole bait.<br /><br />This trap is fairly large.  It's all-metal with a VERY strong spring.  It's not the easiest thing to set, requiring a fair amount of force, and you need to be very careful with it.  If you catch a finger in it, I have no doubt you'd break it and you'd have a very difficult time trying to get out of it with only one working hand, so use care!!!<br /><br />The instructions could be a little more clear, but the trap is easy to figure out how it works once you examine it and set it once.  You do need to find a good location to set it, and make sure to create the mound in the middle that rests very closely to the trigger.  It only takes about 10 minutes to set once you figure it out.  I can probably do it under 5 minutes now.<br /><br />I suggest covering the trap with an upside down plastic pot with a weight on top to block out the light and to keep kids and other animals from accidentally getting into to it.  While the jaws will be below ground, it's still not something you'd want to trip or step on just in case.<br /><br />I set three of these traps along with 2 pairs of Trapline (check them out too... you'll have to search for them yourself... it's a California thing), not certain which would work and I was quite determined to get rid of my mole problem ASAP once it (or they) dug over 20 holds in my new lawn in 2 days.  The next morning... already caught the mole!  It was trap cleanly around the hips.  It wasn't a bloody mess at all, but it probably died from a combination of internal injuries, a broken spine, and asphyxiation.  Regardless, it was VERY dead.<br /><br />Bottom line... this trap is EFFECTIVE.  And that's the best I could ask for.  I probably have an overkill of traps, but I have extensive tunneling in my yard and wanted to catch the mole quickly before it did more damage.  I LOVE this trap and highly recommend it!\": 1,\n",
       "         'As many other reviewers, I had tried pellets, castor oil repellent, giant smoke bombs (two packages), and a sonic mole chaser to no avail. Every morning during the summer I would surely wake up to fresh mole hills and pebbles on our front yard, and I was losing the war. Then I purchased the Out of Sight trap on Amazon based on reviews and because it was available through Amazon Prime. Also, surprisingly no mole traps were available at my local Home Depot and OSH stores.<br /><br />After placing the trap in three different locations over the span of a week, I finally nailed the bugger. Here are some tips that I learned on my own or from various sites on the Internet:<br /><br />(1) Many of the reviewers on Amazon said that they encountered only shallow mole runs that were visible on the surface. They cited a good technique to set the trap for the shallow runs. However, my mole burrowed only deep runs. No runs were visible from the surface; only the mole hills. To set the trap for the deep runs, I followed the directions on the box, which called for digging a hole along a main run. I had to dig around 6 inches to get down to the run. Then, just as the directions say, I created a \"speed bump\" and filled the hole with some very loose soil. Then I placed a large 39 oz coffee can on top of the hole and trap. In fact, the coffee can made for a good template to carve out the hole, which should not be much wider in diameter than the length of the trap.<br /><br />(2) I found out on some website (I don\\'t recall which) that when you first get the Out of Sight trap that you should stick it in dirt for a couple of days so that the odor of the freshly machined trap metal, which the mole can apparently smell, gets diffused. I don\\'t know if that is fact or fiction, but my first unsuccessful experience with the trap seems to support that theory. The mole kicked dirt into the hole where I first placed the trap and also plugged up the runs leading to the trap. Smart little critter!<br /><br />(3) I found that a good tool to locate the main runs was a weed remover. The tip of the weed remover is thin enough to poke into the turf, but thick enough to have you sense whether you are still poking through dirt, which may be loose, or have discovered a run. Keep in mind that the main runs are still only around 1-1/2\" in diameter. The key to placing the trap is to find an active, main run.<br /><br />(4) If you have deep mole runs (like I experienced), a good way to locate them is to draw a straight line between adjacent, new mole hills. There is a good likelihood that there is a run that connects the mole hills. Place the trap between the adjacent mole hills, but more than 18 inches away from either mole hill. If you place the trap within close proximity to a mole hill, you will invariably just get dirt thrown into the trap by the mole.<br /><br />(5) Once a mole is trapped, you may get another mole (or some other critter) moving into its place. Moles are individualists. They stay away from other moles, but take over a territory when there is no other mole present. Moles do, however, get together in the spring when they mate. So, even after a kill, stay attentive to your lawn.<br /><br />In conclusion, I attest to this trap and its quality. It should last a long, long time. I would not allow my wife or a child to use the trap, however. As others noted, the spring is heavy duty and takes a fair amount of strength and courage to set. Also, it can be dangerous, and a set trap needs to be handled very carefully and with the safety latch on.<br /><br />Now that I got my mole, I can wake up without the anticipation of me having to rake over mole hills and replug grass. Also, now that I am confident about using the trap (I have one kill under my belt!), I am assured that if another bugger shows up (and one surely will), I know how to effectively deal with it.': 1,\n",
       "         \"Wow, I am impressed.  Read all the reviews and thought this trap sounded like a good bet for my mole woes.  Put 3 into the ground following other's tips and caught a mole in 5 MINUTES!!!  I kid you not.  By the time I put the shovel away, took off my shoes, and looked out my window one of the traps had sprung.  I thought it was because I put it in wrong!  Nope, dead mole - right there in the trap.  These things rule!\": 1,\n",
       "         \"I purchased several of the Victor 0631 mole traps and have had great success with trapping the moles that have been tearing up our yard. The spring on it is massive, which gives the trap enough strength to cut through any type of soil conditions when it is triggered. The trap is much easier to set if you use a large pair of channel lock pliers. You will want to use caution when handling the the loaded trap - once it is set, you don't want to get anywhere near the jaws, as it will be a guaranteed visit to the hospital. I also use the channel lock pliers to put the trap in position over the mole tunnel to give myself plenty of distance from the moving parts. I have also tried the Nash Choker Loop and the Sweeney Plunger trap. I catch about 3 moles with the Victor trap for every one that I get with the Nash trap. In damp sandy soil, I have seen the Nash trap not being able to trip quick enough because the spring doesn't quite have the oomph behind it to cut through the dirt. As far as the Sweeney trap goes, I have yet to get my first mole after 3 years of using it.\": 1,\n",
       "         \"After reading some of the reviews, it seems like a lot of people have had success with these traps, so I figured I'd give it a try. I was still skeptical, because that's my nature, but I'm not anymore. I installed the trap using the method of stepping on the mole tunnel to flatten it and cutting slits in the grass for the trap's scissors. The very next day I noticed the trap had tripped and I went to see if I caught one. Sure enough, when I pulled the trap out, there was the bane of my yard. A big, fat, ugly sucker with huge claws designed for yard devastation. I felt a little bad because I love most animals, but this one deserved what he got. Anyway, these traps are awesome. I cannot believe how good they work. Happy hunting.\": 1,\n",
       "         \"I didn't have high expectations for this but it worked so I'll share what I did:<br /><br />I stamped down ALL of the tunnels in the yard the evening before.  The next morning I looked for new tunnel, especially long straight ones because apparently those are the ones most travelled.  I then placed the trap on said tunnel and I had a dead mole within two hours.  Like a previous reviewer, I did not follow the manufacturers instructions and instead followed his which I reccomend doing because it's not only easier but also works.\": 1,\n",
       "         \"You must find the mole 'highways' which are the long straight runs that (for me) were easiest found beside the patio, sidewalk, or driveway.  Once you think you have identified one, simply mash down about a 2 foot long section.  My thought process was that if I pressed down the entire run, they might find an alternate route.<br /><br />So once you do this, check back in 24-48 hours to see if has been repaired.  If it has, then mash down a section the length of your foot, LEVEL with the rest of the surrounding grounds.  I have sand soil so I simply dug (with my finger) 2 small notches ACROSS the mole highway same distance apart as the trap death grips.<br /><br />I found it easy to set the trap by hand, using the directions on the box... but many other reviews here offer alternative methods.  Leave the 2 bars used to pry the trap open in place, it helps to position the trap in the ground.  Now, set the trap death grips down in the notches you have created (with SAFETY latch hooked!) The trigger plate should touch the LEVEL ground that you mashed down.  Keep a firm grip on the pry bars as the trap may trigger a few times until you get it touching the ground with light enough pressure not to trigger.  When you are happy, remove the pry bars, release the safety and enjoy the results.<br /><br />Start > Finish, of setting trap, maybe 3 minutes.<br /><br />My soil is pure sand, so my 'notches' mentioned above were almost non-existent because they kept back filling with sand as soon as I dug them out with my finger.  When I set the trap, the soil was in between the death grips, but it was loose enough to grab the mole, first night I had set the trap!<br /><br />Great trap, easy to use and set.  I may have had some beginners luck, but so far so good.\": 1,\n",
       "         'I bought these a few months ago... finally got around to using them this week.  Trapped one mole within 24 hours.  I just bought two more traps.  I am going to deploy all four and see what I get next.  Also caught a vole with regular mouse traps... thanks to these Victor traps I am hopefully on my way to ridding my yard of piles of dirt (moles) and chewed up grass and plants (voles), and saving the hundreds of dollars a service would charge for this... it is so simple.': 1,\n",
       "         'I have recurring mole problems, lost count how many years now. Tried many things, but only this \"Out of Sight\" worked. This is my story:<br />1) First encounter years ago, surprise, what\\'s up with these bumps?<br />2) Just tidy up the surface. Never mind that.<br />3) Ran water down the tunnel until water came out the other end. Very satisfying, but just a waste of water. Made the whole place muddy and the creature liked it even more.<br />4) Invested in a plunger type trap. Expensive and reusable, sounded good. Not quite. I was excited the first time it triggered, got my gloves on and plastic bag ready. The spikes went down a couple inches, but no catch. Tried a few more times with the same result. Even tied bricks on the top half, but the trap became unbalanced and did not plunge well. Trashed it.<br />5) Poison \"peanut\". Do not like poisons, but maybe just for this one. Carefully dropped nuts into tunnels as directed. No noticable result, but creature was gone late fall. Used it again early next season, at which time I concluded that it did not work. The creature likes worms and bugs, not deadly smelling chemical.<br />6) Wire type trap (like a rat trap). It fits inside the tunnel. Hard to use - the trap is directional and the tunnel must be disturbed for the deployment. My creature ran over or around it, never triggering it. The creature probably hit trap\\'s frame and changed course. Would have been better if the trap is narrower and fits into a 1.5\" tunnel.<br />7) Saw it digging undergroud once (just once). Drove a pitch fork down mercilessly. Missed.<br />8) Lastly, the \"Out of Sight\". The size of the spring alone is impressive - WARNING: bone crushing spring force! Even my normally curious coworkers refused to play with it when my order arrived at the office. Set trap as directed the first night. At 3:30AM, a snap woke me up; continued to sleep, but with a smile on my face. The next morning, voila, face to face for the first time.<br /><br />I have a video of this last episode, may upload it later.<br /><br />Hints:<br />1) Creature likes wet area. It is most active right after watering. For the purpose of trapping, you can make a tunnel \"flavorable\" by keeing it moist between watering.<br />2) Creature works day and night, just not when you are looking.<br />3) Size your creature. Mine (I live in SoCal) turned out to be small like a fresh sausage. It explains why my pitch fork missed and the wire trap was too big.': 1,\n",
       "         \"Update June 3, 2011<br />More mole activity which has now been stopped by a Victor trap. This time the activity was in the back yard including a flower bed. I decided to skip the test pressing phase and just selected a mole run, pressed the soil down and placed the trap. Sure enough the next day I had a dead mole in the trap. I had set two traps and the second one didn't catch anything so they are both back in the garage waiting for the next mole trapping adventure.<br /><br />Original review<br />Five hours after I set two traps I had trapped a mole; I was truly surprised to see one trap sprung and at first thought it must have accidently tripped; I pulled the trap out of the ground and there was a dead mole, the trap had done its job perfectly.<br /><br />I had lived at my house for over 30 years and this mole infestation was a first. When I started seeing the raised soil trails and dead grass I suspected I had somehow gotten a mole in my yard. I started reading everything I could find on the web and started getting free advice from friends.<br /><br />I called the pest service we use and the man suggested I buy the Victor trap as that was the one they used and the cost of them coming out and setting the traps could get very expensive. I read the Amazon reviews on the trap and they were generally helpful so I decided to buy the Victor traps.<br /><br />The general advice was to locate active runs by pressing down the soil that had been displaced by the mole which I did and then followed up with a hose to really flatten them down. Sure enough the following day certain trails had been raised up again and I selected one of those to place the traps.<br /><br />My yard has a sandy soil mixed with clay; it is also rather root infested so I followed several recommendations which said it was important to cut away any roots that might hinder the traps free movement. Before I placed the trap that caught the mole; I used a straight edged steel edger and pressed it down into the soil where the trap would be placed; sure enough I had to cut through several roots that crossed that area. I used my foot to press down the raised area where the trap would be placed.<br /><br />It took a little experimentation to finally get the trap set; I had never set a trap before so this was all new to me. It does take some pressure to set the trap; there is a safety latch which can be engaged first but then additional pressure with the tools provided is needed to actually set the trigger.<br /><br />I left the safety latch in place until the trap was set in the ground and I had pressed it down so the trigger was resting on the soil. Once that was all done I released the safety latch and the trap was ready.<br /><br />I covered the trap with a garden pot to keep the area dark and protect it from being disturbed by local cats and dogs. This was all done late yesterday morning and by mid afternoon it had trapped a mole.<br /><br />I will update this review if anything of interest happens. In the meantime both traps are in place waiting for the next mole.\": 1,\n",
       "         \"In the past 3 months moles have ruined my backyard. After MUCH research, I settled on 3 of these wild looking contraptions. The directions are tiny and difficult to figure out. I went to the Victor website and found a manual with larger pictures. Placed all three using the instructions in the review by Geoffrey. Next morning one of the traps was sprung, and sure enough, I got my first kill! I'm sold!\": 1,\n",
       "         'These mole traps really work.  We have tried other types and have found these to be easy to set up and use.  And nost important, they catch the moles.': 1,\n",
       "         'We ordered 2 Victor 0631 Out of Sight Mole Traps, they arrived early, work very effectively, great price, couldnt be happier.': 1,\n",
       "         'This device may work, but I have spent hours trying to set it with little success.  I finally got a large set of channel locks, got the trap to set, and attached the safety pin.  I set everything up for a few days with no results.  When I wanted to move it to another location, it closed so I had to start the process all over again.  As I said earlier, it may work but unless your superman you will have a difficult time setting this trap.': 1,\n",
       "         'I can open the trap (it takes strength) but I can not set the safety.<br />The safety seems to be short.<br />Therefore I have not been able to use it.<br />I was disapointed.': 1,\n",
       "         'I have tried using these traps from time to time for over a year unsuccessfully.  But, after reading some of the reviews here for the other Victor Out O\\' Sight trap, I realized I wasn\\'t setting them right.  And, I caught one mole yesterday, and another today.  So, I\\'m excited that I\\'ve finally come up with a way to catch them.<br /><br />I\\'m sharing my technique for setting them in the hope it will help you:<br />  1) Find an active tunnel.  You can just walk around the yard and step down on raised areas, then come back later and see if they get raised up again.<br />  2) Cut a couple of scrap pieces of wood that are 3/8\" or 1/2\" thick by four or five inches long, by say, five or six inches high. You\\'ll use these to hold the grooves you cut for the trap legs when you push down on the soil.<br />  4) Get a garden tool that can cut down through any roots, like a hatchet, or a flat-blade tool with wooden shaft and a handle (don\\'t know what you call it, but that\\'s what I use).<br />  5) Get a tool you can use to find the center of the tunnel.  I use a discarded mop handle that I drilled a hole in the end of and glued in a six inch nail.<br />  6) Probe the tunnel to approximately locate it\\'s center, and just leave it sticking in the center for now.<br />  7) Set the trap on the ground along the tunnel near where you will place it so you can see how far apart to cut the grooves for the trap legs.<br />  8) Cut the first groove for the trap legs as clean as you can; then, feel down in the cut line to locate the tunnel. Use a finger to locate the tunnel.<br />  9) Stick one of your scrap pieces of wood in this groove, and tap it down firmly.<br />  10) Then cut the other groove so the other legs will go in it.<br />  11) Again, run a finger down in this cut to locate the other end of the tunnel.  You do this because the tunnel may turn some, and you\\'ll need to turn your trap too.<br />  12) Stick the other scrap piece of wood in it.<br />  11) Now, step down with your heel between the two pieces of scrap wood. You want this dirt to be very firm.  I do this, then also tap down with the end of my flat blade tool to get it extra firm.  THIS IS IMPORTANT.<br />  12) Next, wiggle the two pieces of wood back and forth, and in and out to open up the two grooves a little, them pull them out.<br />  13) Set the trap into the two grooves while observing the clearance between the ground and the traps bottom lever. You don\\'t want it to contact the ground or you\\'ll spring the trap.  Incidentally, you should have the trap safety ON at this point.<br />  14) Now, use a finger to feel the clearance between the ground and the lever; and, push and/or tap the trap down slowly until it is only 1/16th inch or so from the ground.<br />  15) Release the trap\\'s safety.  I repeat: Release the trap\\'s safety.  I seem to frequently forget to do this.<br />  16) Take some loose soil or leaves and just drop them around the trap legs to prevent sunlight from getting down to the tunnel.<br />  17) GOOD LUCK!': 1,\n",
       "         'The trap is difficult to set.  It requires a lot of physical exertion, and it is very awkward to set. The trigger mechanism goes from hard to spring to a hair trigger. Thumbs down on this one!': 1,\n",
       "         'I bought this at the same time I bought the Wire Tek \"EasySet\" Mole Trap here on Amazon, and after trying both products I have to say that the Victor \"Out O\\'Sight\" Mole Trap is not only 1) much more difficult to operate but also 2) less effective than the Wire-Tek one, not to mention 3) tears up your yard more.  With this Victor brand one you actually have to dig a hole by hand vs. with the Wire-Tek one all you do is push it in to the ground and step on it to set it, easy as pie.  That one has caught 2 moles for me so far, the Victor trap has caught 0 moles.  If it wasn\\'t such a hassle to ship stuff back, I\\'d return this one and buy another Wire Tek brand mole trap.  Don\\'t waste your time on this product here!': 1,\n",
       "         'Unless you have the strength of superman, it is impossible to set this trap.<br />The jaws need to be pulled apart by using pry bars. I could not do it, and I am not a weak man. I did manage to set it once by using a vice, but even that took some doing because the pry rods would slip out of place.<br /><br />Just for kicks, I had a friend who is a martial arts expert specializing in grabbing things and holding on (yes there is such a specialty). The normal adult male has a gripping strength of 80-100PSI. Dave J has a gripping strength of 350PSI. He struggled and struggled, thought he could do it, but I took it away from him before he hurt himself.<br /><br />The design is bad. The trap is almost impossible to set without using a vice.<br />If I had ever gotten it in the ground it might have worked (it definitely would kill if tripped appropriately) but the thing is just too hard to set.<br /><br />PS I got on the victor customer support site and requested help. They sent me a pdf that was exactly the same as the diagram on the box....no help.  A second email to them has gone unanswered for 3 days.<br /><br />I shipped it back today': 1,\n",
       "         \"Terrible product! After 3 days of messing with it, I can't even get the thing to stay cocked. Watched the videos, read the excellent reviews, etc. Still can't get the thing to stay cocked-just releases itself before you can even get to the safety latch. Never even got close to putting them in the ground-I bought 3 of them and now I get to pay the shipping back. By the time I box them up, take them to shipping just to get the remainder of my money back-might as well just throw them away and save the aggravation. Go for it if you feel lucky.\": 1,\n",
       "         'After placing an order for items noted as in stock, not receiving any notification from the supplier of the order:<br />- The estimated ship by date passed without any action<br />- First Email to supplier went without acknowledgement<br />- Second Email to supplier went without acknowledgement<br />- Final date to expect the order passed<br />- Email sent to cancel order with all info provided and no acknowledgement<br />- Still awaiting the confirmation of the cancellation as of this writing.<br /><br />This could be isolated but was enough to prevent me from ever doing business with Northern Tool & Equipment in the futre.<br /><br />Ended up going with BIC Superstore and placed the order on a Monday and received the order on Thursday of the same week!!!! Life is good again unless I get caught in limbo with the apparent open order that caused all of this grief.....': 1,\n",
       "         'Live in Florida and bought 4 of these traps based on the reviews here. This trap seems rather large for the size moles we have here in Florida. The tunnels which I could find are no bigger than 1 inch. The soil is so sandy that the trigger gets covered up and the tunnels collapse when trying to set this trap. I did as suggested and leveled the fist size mounds to see where the active tunnels were which showed up the next day. Not one trap went off.<br />As far as placing the trap with the trigger above the ground (as suggested by some reviewers here) this makes no sense as the tunnels are NOT RAISED and there is no way the trap will go off. The traps were placed with the trigger in the tunnel so the moles would go under it and trigger the trap.<br />Anyone living in a hot sandy soil area who has found a trap that will work please post.': 1,\n",
       "         \"Can't I just leave the critter in the ground?  I'm feeling squeamish about pulling them up for disposal, but I can hardly walk in my yard for fear of twising an ankle the runs are so bad.\": 1,\n",
       "         \"We haven't used them yet but have seen where they have been used and they work great.\": 1,\n",
       "         \"I'm hesistant to give the product this low rating but it simply did not work for me. I tried on 3 separate occasions and actually saw the critter go past the trap and trigger it. Only thing I can figure is the trap is too large for my moles. I also followed the preferred method of setting these out. I plan to try again but the next time I'm going to be prepared to take care of this critter with a pitch fork if I'm lucky enough again for him to drive by while I'm laying the trap out!\": 1,\n",
       "         \"I bought two of the traps last month. I tried to get them set and in the ground. I spent about an hour trying to get the trap set, but it would not stick. I haven't taken the time to try and get them to work since then b/c the Grubex I put down seems to have slowed down the mole activity in my yard.<br /><br />I'll definately try to get them set again if the mole activity picks back up, but right now they are just collecting dust in my shed.\": 1,\n",
       "         \"Haven't caught anything yet, but the design is better than the victor spring fork trap I had before. I'll get some mole soon :-)\": 1,\n",
       "         \"We had mole tunnels throughout our lawn.  We first tried the non-lethal castor/garlic oil water spray method (twice).  It didn't work. Then we tried laying two of the Victor Out of Sight Mole Trap out.  That didn't work, either. Finally, my son spot movement in the lawn and he stomped on the tunnel.  The mole was dead. It was small, only about 4 inches.  But, it was amazing, that was the end of our problem.  Our entire lawn - which isn't small - was destroyed by ONE tiny mole.  Best advise, look for the movement of the mole in the late afternoon, than stomp on it or use a flat end of a large shovel. Moles have thin skulls so apparently they are easy to kill. One mole can do an incredible amount of damage.<br /><br />5/31/10 update:<br /><br />New season, new mole appears. Instead of using the mole trap, I tried a new approach--- kill his food source. One application of grub and insect killer and the mole is gone, probably to the neighbors yard. Everything I read on the internet suggest that you have to kill the mole but that has remained elusive except by luck. Getting rid of his food source though worked immediately. We never saw another tunnel after the grub and insect killer was applied over three weeks ago. We'll see how long it lasts but this was much easier than trying (unsuccesfully) to trap the mole.\": 1,\n",
       "         'Product is as advertised.  Only objection is that it takes strong hands and above average caution to set the traps.': 1,\n",
       "         'The Victor Out of Sight Mole Traps I purchased have worked very well since I received them.  I hope to eradicate the mole problem on my property this year.': 1,\n",
       "         'We haven\\'t had a chance to put the mole trap to a test.  Our weather has been terrible.  The little critters are still working however. The only disadvantage to these is they are sooooo hard to set.  I could never do it, my husband will have to be \"strong\" guy.': 1,\n",
       "         \"I have been battling moles for over 3 years. They have completely destroyed our lanscape. I tried everything I could find and was recommended to me. My brother had a Victor Trap he would lend to me when he wasn't using it. I got 4 in 2 weeks. I've looked everywhere for these traps but couldn't find them in stores. I found them on Amazon.com and bought 2. If you have mole issues I promise you this product will work.<br /><br />Happy Hunting!\": 1,\n",
       "         \"While I haven't had success with the traps, I did get them in the fall and I understand the better time to use them is the spring.  The traps were exactly what I expected though - high quality, appear to be durable, and are easy to set.  They were delivered pretty quick, too.\": 1,\n",
       "         'I think the trap is effective if you can outsmart a mole.  I have only caught one in the last two months with three traps.  I think the number of moles I have with the vast number of runs make it difficult.  I may have to order a dozen of these traps to up my odds.': 1,\n",
       "         \"Moles were devastating my lawn and I had tried the grub killer which had little effect on their havoc. I ordered 3 victor traps, when I opened the first trap I struggled to set it. I thought as hard as it is to set this trap I won't be using them. Then I opened the second box and found it easy to set, the first one had the latch fabricated on the wrong side. Within a week I had caught three moles now I am moving on to other sections of the lawn. Return of the defective trap was also a very painless task.\": 1,\n",
       "         \"Seems like it will do the job , it is well built. Haven't had a chance to use it yet.\": 1,\n",
       "         'I live in upstate NY and I had a mole destroying my lawn with zig zagging tunnels. I went online, did some research, and ended up ordering one victor out of sight mole trap. I could not locate any straight tunnels so i had to put it on curvy tunnels. I did what reviewers had said, and i flattened the tunnel, put two slits across where the claws rest and set the trigger at ground level. I got nothing for about 3 weeks, even after moving the trap around tunnel to tunnel. I started to lose faith in the trap. So one day I tried a different method, more of what the instructions say...i openned up one of the tunnels(6 inch length) and stuck the trap inside and put the trigger just above where his head would be in the tunnel. I then covered the base of the trap and hole back up with dirt. Within two days the trap was sprung and to my amazement I had a large dead mole in the trap!!! I couldnt of been happier!! I am not sure if the new way I set the trap was how I got him, or if that was just coincidence. Either way it works. I just ordered another trap, as I think if you have two or more your chances of getting them is much better. After you kill one, new ones will move in shortly after, so you will use the traps over and over...': 1,\n",
       "         'This trap is great.  I\\'ve read the reviews and once you get the hang of setting this trap, you realize it is simply awesome.  As mentioned by others:  DO NOT FOLLOW THE BOX INSTRUCTIONS.<br /><br />What you need to do:<br />1- bend the trigger down a little<br />2- use spade shovel in the turf to make slots (2) for the jaws.<br />3- use good sized wood chips to obstruct an active run near the surface--enough so that the trigger rests on the wood when placed.<br />4- check trap daily...you\\'ll be surprised how many moles use the same run.<br /><br />Once I figured this trap out, I\\'ve killed 6 in the very first 2 weeks!!!<br /><br />***WARNING:  check the laws in your city/state.  These traps may be prohibited.  One of my neighbors called the animal warden on me and he confiscated 3 of my Victor traps claiming that they are \"leghold, steel-jawed traps\".  I will be going to court soon...': 1,\n",
       "         'I can\\'t figure out how to load the trap.  It comes with two metal levers which you\\'re to use to set the spring, this \"will require some strength\"!  I would sent it back but I beleive there is a 20% restocking fee.': 1,\n",
       "         'I ordered 2 of these traps in the spring.  The mole runs tend to show up only in the late summer/fall where I live, and I finally opened them up to use them.  One of the traps did not have a trigger pan, so it is useless.  I have just set the other one, but would sure like to get the other one replaced, but it would appear that due to the passage of time, I am no longer able to get a refund/replacement for the defective on.': 1,\n",
       "         \"Title pretty much tells it all.  Read the review by Geoffrey Klos and follow his instructions exactly...I set up the trap exactly as he said and less than 24 hours later, the mole was dead!!!  Thanks Mr. Klos, your great review has saved my lawn.<br /><br />15 Aug update:  Second mole is dead and I haven't seen another one since.  I did have one of the arms on the trap break--not sure how it happened since I noticed it when the trap was not in use.  Amazon replaced within days.\": 1,\n",
       "         'I lived in my house for 3 years with no moles.  Spent several housand dollars landscaping the front yard and in move the moles.  I tried to chase them away with castor oil and other anti-mole products with no results.  I purchased 2 traps last night and read the reccomendations from online readers for setup. Do not follow the directions on the box.  The next morning, both traps had caught a mole a piece.  Great product!': 1,\n",
       "         'After 4 years of sprays, grub insecticide and plunger traps I finally found a product that works.  I never caught one mole in 4 years even though the old traps had been set off dozens of times.  I had tried the castor oil spray and treated the lawn for grubs and my lawn looked worse than ever.  I purchased 3 of these traps and caught 4 moles in the first two weeks.  I used the above ground method described by other reviewers and only one time was the trap tripped with no mole in its jaws.  An excellent product.': 1,\n",
       "         'A little difficult to set but well worth the effort.<br /><br />I have had 2 missed trips and 16 kills. (the misses could be kids messing around)<br /><br />The only trap I use now.<br /><br />Would suggest these to anyone serious about getting rid of moles.<br /><br />I now own 5 and have very little trouble with moles.<br /><br />Actually I kind of miss the hunt.': 1,\n",
       "         'I purchased 3 of the Victor mole traps and followed the instructions and caught a mole the first time I set them. I was amazed at the ease of setting and how simple they are to use. We have clay loam soil and they work very well in moist soil, or sandy soil.': 1,\n",
       "         \"The Victor Out-o-sight mole trap does not work. I have been using three of them for about a month now and they do not work. The moles just dig around them. I followed all of the directions from this guy Jon in Oregon and have not caught one mole. Nothing catches moles. They are creatures from hell. Pardon me. But that is just the way it seems. I believe that this guy Jon from Oregon is nothing more than a pitch-man for these traps. It is NOT the fault of Amazon. They did their job. But the traps do not. Don't buy these traps.\": 1,\n",
       "         'I found it was difficault to set, and not easy to position in the very sandy soil of Florida.': 1,\n",
       "         'After fighting moles for years, this product seems to work best.  My first suggestion is to follow the instructions in the review written by Geoffrey Klos.<br />I followed his instructions and placed it in the ground at 8 PM last night; by 6 AM this morning I already had my dead mole!  Amazon has a good price on this (my True Value store was asking $5 more)': 1,\n",
       "         'The only thing that matters is that this trap got a mole the first night I had it set up; that makes me happy. It is mostly made from cast iron so I expect a long life from it. I had to bend the sear for proper engagement, but that will not detract from my 5 star rating because it worked.': 1,\n",
       "         \"The Victor Out of Sight mole trap is the bomb!!!  I have tried everything short of shooting at them with horrible results.  I heard about this trap from a professional critter killer.  I set the trap and checked the next day.  Bingo!!  Dead mole.  I reset the trap in another location...Bingo!!  Dead mole.  It's just that easy.  The jaws are heavy duty and would probably break your arm if it activated there.  I am recommending this trap to everyone I know.  Kill them all and save none for next year!!!\": 1,\n",
       "         'This trap really works, if you disregard the printed instructions that come with it. Caught two within a few days!!! Now I can finally begin repairing the damage these buggers did to my lawn. Read what Geoffrey Klos posted in his review and follow these instructions instead, then it\\'s really easy to catch it (or them). Highly recommended item if you have a mole problem...<br />To find a good spot to set your traps, stomp everything down and wait a day. Watch where the earth is lifted up again, these are active tunnels. Try to find straight runs, these are called \"runways\". Anything else are feeding tunnels and they come through these only infrequently. A good indicator are actual mole-hills. This is where the deeper tunnels start (their living room, basically). The runways often extend from these mounds. Runways are also often found in parallel to obstructions, such as foundations, driveways or lawn edging. Those are also good places to set your traps.<br />Good luck hunting! :-)': 1,\n",
       "         \"After 2 years trying various sprays, beepers, fake worms and inferior traps to no avail, I've finally found an effective means of mole control. The first week I trapped two moles.  Hallejulah!  I believe this trap is what the professionals use.  It's a little tricky to set because the spring is so strong but the effort is worth it.\": 1,\n",
       "         \"Since buying this trap, I have had evidence of 3 moles, I set my trap 3 times and killed 3 moles!  In the past, poisons were only a temporary help.  This trap is a permanent fix for moles!  I set trap in accordance with Geoffrey's instructions.  Thanks Geoffrey.  I recommend this product.\": 1,\n",
       "         \"Took about 2 weeks, but finally nailed the little bugger this weekend.  I've used other traps and this one is much more substantial and has quite a fierce spring.\": 1,\n",
       "         \"Caught a mole the first night.  Let's hope the remaining critters are as cooperative. Enough said.  I'll update this posting later.\": 1,\n",
       "         \"This is the ultimate mole trap.  So far I've caught two - put the trap in the ground and dead mole within 24 hours!<br /><br />Like others have said, don't follow the instructions.  Just find a well traveled tunnel, push it down, cut two slots in the ground with a shovel and insert the blades.  Make sure the opening on the blades straddle where the tunnel is.  Push the trap down until the trip lever touches the ground and you're all set.<br /><br />This thing is the best.  Don't bother with poisons, noise makers, etc...just get this.\": 1,\n",
       "         \"Thanks to Mr. Klos and a lot of other people who have added to this forum, I am now the proud owner of 5 of these mole traps with no more moles to trap (for now).  Mr. Klos' method probably would work best if I had not spent the summer smashing down the mole runs. They just dug deeper tunnels. Common sense and a little exploration told me the Klos method would put the squeezers ABOVE the tunnel.  But, other reviews told that, once they figured out that the poor instructions on the package were for deeper tunnels, they were successful. All my tunnels were too deep to use the Klos method.<br /><br />So, I dug up each main run and cleaned out each end of the tunnel to find the common middle ground.  I built a hard mound in the center of the open space.  I loaded the trap and put the safety on.  I placed the trap directly on top of the mound, with the spring barely touching the mound.  It was good I kept the safety on until I buried the trap because a couple times I put it so far down the spring sprung.<br /><br />So, which way is best?  The method that puts the bottom of the trap at the bottom of the run. Don't smash the tunnels down; then, the trap can be placed on the top of the ground merely by inserting two slits in a main run.  I followed the seller's instructions and it worked for deeper runs. Next year, the runs will be trapped without being stomped down first.  Happy hunting.\": 1,\n",
       "         'no instructions provided. Trap would not open. when trying to set the trap, cut my finger. It appears that the device was not bent. not sure since no instructions': 1,\n",
       "         \"A very well built mole trap that works great when set correctly.  The safety latch is a nice feature that prevents accidental tripping while setting the trap. I don't follow the box instructions but rather set the traps on the surface.  This works well with a lot less effort than trying to bury them.  I've found that a person needs to be very patient.  The mole may not use the tunnel for several days.  In fact I've caught some after five or six days.  Picking the best tunnel is the hardest part of trapping moles so spent your time there rather than moving traps around every two days.\": 1,\n",
       "         'As others stated, if used correctly in a good location, you will get more moles with this than any other trap I have seen.  It is tough and effective.  Be very careful setting it, the spring is very strong.  Also, after setting, I like to sit a coffee can over the top of it so dogs and cats do not mess with it.  After you figure out how to use it, it is very effective.  The pros use this trap for a couple reasons:<br />1) Effectiveness<br />2) Cost of trap<br />3) Durability<br /><br />We trap all kinds of animals using a variety of traps and this mole trap is one of my favorites.': 1,\n",
       "         \"First I want to thank ABK and Geoffrey for their excellent advice.  I am also near the St. Louis area and my back yard had been DESTROYED over a period of 3 months.<br /><br />I finally got this trap in the mail, followed your advice of putting it on top of the earth over a straight run, and caught him the first night!<br /><br />I thought it was the only one until 10 days later another run showed up so I have just placed the trap over it.  Wish me luck.<br /><br />Thanks again and if you follow ABK and Geoffrey's advice below, you'll get that varmint!\": 1,\n",
       "         \"From my reserch, this is the best mole trap out there.  It does work for me but took lots of trial and error to figure out how to set it correctly.  I bought two, one worked perfectly, but one had too much powder coat on the trigger pan to release properly.  Don't be afraid to use pliers on it to adjust the release/ trigger pan lip to set the release force.  And make sure the legs pass each other when released, one leg was slightly bent striking the other on one. What I found works best for Pacific NW moles was to dig the trap hole just barely large enough for the trap.  No loose dirt on ends of trap.  Clear the mole tunnel of all loose dirt with a spoon and pack the bottom solid so he doesn't dig around in the soft dirt. I used sod to cover the trap with NO dirt back fill in the hole like the instructions say. Once I found a main tunnel to set it in, its deadly!\": 1,\n",
       "         \"I have trapped almost 100 moles with my fleet of 12 traps (now down to about 8 traps along with 2 new lawn mower blades). The first year I trapped around 30 moles and the population has been dropping every year for the last six years...only two so far this year. I followed the instructions for setting the trap and haven't had a problem - maybe they have changed the instructions in the last 6 years??? The nice thing about these traps is you can set them deep or shallow depending on the depth of the moles trail. I even managed to trap two moles (head to head) in one trap a few years ago - I'm sure the odds of this happening are similar to winning lottery. They are a very powerful trap, so make sure you caution your children. I borrowed one of my traps to a friend of mine and his kid pulled it out of the ground, brought it to him, and asked what it was. The trap was set, but fortunately, never went off in his hand.\": 1,\n",
       "         'This was USELESS to me and a lot of others.<br />Difficult to set and I had no results!<br />There is a product called \"NoMol\" it\\'s what my EXTERMINATOR used.<br />it\\'s CHEAP, EFFECTIVE,but hard to find.<br />My EXTERMINATOR trapped 10 moles last year and I\\'ve trapped 10 So Far this year!<br />I have a lot invested in my Flower beds! these \"Criiters\" were DESTROYING them.<br />I\\'ve tried everything from poison gummy worms to smoke bombs, Castor oil to castor beans.<br />Gum, Bleach and contraptions like this that DO NOT WORK!<br />Look at NoMOL on YouTUBE.... it was the ONLY thing that worked for me!<br />The proff was always right there in that trap.<br />20 dead Moles..... So Far!': 1,\n",
       "         'Of all of the several mole traps I purchased recently, this is my least favorite. It is the hardest to set up and requires some significant digging. The spring is very strong and requires some strength. In fact I never did get it set.': 1,\n",
       "         \"I have a little less than half an acre of yard, which is right against a wooded green space. Moles have been a problem for us since we moved in three years ago. Poison pellets, poison worms, spike trap, smoke bombs, scoot mole...All of these I've tried and, if they worked, it sure wasn't noticeable to me. At my wit's end, I called a professional service two months ago to control the mole problem. For $180, for one month of service, they placed 6 of these very same traps. The problem is, they came every week to check on the traps. So, one month later and one mole later (an additional $35 for removal of the dead mole), they yanked the traps. Well, one dead mole was better than my previous record of zero and I couldn't possibly justify spending another $180 + $35 for each dead mole for this service, so I ordered four of my own.<br /><br />The day I received them, one month ago, I placed all of them out along runs that, of course, magically popped up when the service had terminated. That very evening, while out on the patio, we heard a snap. The trap I had placed on the main run coming from the woods had caught one heading in the direction of my yard. The next day I removed the traps and stamped down all the runs. Around a week later, I spotted more runs so I placed the traps again. The next morning, I had another one. I waited a day or so, pulled the traps and stamped down the runs. The next time I saw runs was this past weekend. I placed all the traps again around 3pm. About 2 hours later (no, I'm not exaggerating), I had another mole. I pulled that trap, but left the others behind. The next morning another trap was full. For $53.72 I have trapped 4 moles and have been able to keep the moles from devastating my yard.<br /><br />To say I am completely satisfied with this product would be an understatement. In my opinion, this is the best solution out there to keep moles from destroying your yard. The advice I have regarding these traps is to make sure to buy enough traps to cover all the runs and increase your odds of trapping a mole. Additionally, be sure to be vigilant for the runs. At first sign, deploy your traps as you will likely increase the odds of trapping a mole in a run that was just made versus a run that is days old. Lastly, to deploy your traps successfully: 1)Find a relatively straight run (not those windy, loopy runs) 2)Stamp down just over a trap-width of the run with your foot 3)Set the trap and push it into the ground straddling the stamped-down run until the catch touches the ground 4)Enjoy the satisfaction of knowing, after you pull out your first sprung trap and the bane of your existence is dangling from the claws of the trap, that you just saved yourself years of frustration (and money!) by simply buying a few of these traps. Good luck!\": 1,\n",
       "         'WOW THIS PRODUCT WORKED IN UNDER AN HOUR. I FOLLOWED THE YOUTUBE VIDEO AND SET THE TRAP IN MY FRONT YARD AND BAMM...HAD ONE IN UNDER 1 HOUR.': 1,\n",
       "         \"I had mole problems and I killed the bugs.  I had killed the whole yard to replant and don't know if there were less bugs in the first place, but I spread insecticide.  I don't have a mole problem now.  Coincidence?\": 1,\n",
       "         'It arrived on time with out any problems. The only problem is my sister (who purchased it) and her neighbor could not get it to work.': 1,\n",
       "         'Watched the previously mentioned videos and did some other research, then 4 hours later.... I had my mole. Worked perfect! Even though I bought 2, only needed one! I would have bought 5 to get rid of the mole that ruined our yard! I would give it 6 stars if it came with some grass seed to patch all the places the mole killed the grass!': 1,\n",
       "         \"After years of mole problems I finally bought this trap.  After trying several different tunnels, I finally found the correct one.  I caught the mole, but I did feel kinda bad.  I gave him a proper funeral, and said a few words. Don't try poisons or other crazy solutions.  Buy this trap and take the war to the moles.\": 1,\n",
       "         'The trap caught him on the arm. He was still alive flopping around on the ground when I got home, so I beat him in the head countless times with a trowel. I imagine it looked like that scene from A Christmas Story when Ralphie beats up the neighborhood bully.<br /><br />I still have quite a few more to catch though. I have 5 of these traps I got from Home Depot for $9.99 all set out in my yard right now. Mole hunting is like a deadly game of chess.': 1,\n",
       "         'Wow, this works great. Follow these directions and you will get these guys. Pegged three in two weeks. Have my yard back. Make sure you tap down the mole runs so you know where they are active. Thanks!': 1,\n",
       "         'This killed a mole I had so it was worth the price. I reviwed the instructions and have not had any more evidence of damage.': 1,\n",
       "         \"Bought 3 of these mole traps after a lot a research and reviews from others about this product.  Follow the suggestions of other users and caught a mole within an hour of setting the trap.  Have had the traps for about one month now and have caught 11 moles.  I can't believe the product works so well.  Would suggest you give them a try if you have a mole problem like I do.\": 1,\n",
       "         \"I don't have lawn so I thought I could live with moles peacefully, as long as they don't destroy my landscaping. After two years those moles start popping up anywhere they want and dirt piles here and there. They are out of control. I have tried many baits and that ultra-sound thing, none of them work! I can't live with the moles anymore because my landscaping is being turned up-side down by them.<br /><br />I first bought one trap, after two weeks nothing happened. Then I bought another three. With all of these, I can make a trap field. I planted them last evening and this morning I went to check. Wahoo! One trap was triggered! I haven't looked at that it caught, but I am so sure there is a mole caught. I am so happy to write this review right after I saw the triggered trap.<br /><br />I think the most important thing is that, since mole is hard to track, you should use several traps together. Also on YouTube, there is a very nice video shows you how to set this trap up - build a dirt bridge, use some fresh tree leaves, etc. Carefully designing the trap field that was also contribute to the success.<br /><br />>>> I went to dig the mole out, this is my first experience on how a mole look like. It is very....YUCK!\": 1,\n",
       "         \"I've never had to deal with moles before but this trap works great. I agree with other posters that trapping them is the best option; in the end you have a dead mole to prove that you got it unlike poisons which just leave you wondering if you got it or not. I set up the trap like the guy on the most helpful review said. Didn't even try it the way the box said because those directions are not clear at all. We pushed the ground down with our feet over the trap area. It did trip about a minute after we set it which was a false alarm so we reset it. A few days later we saw that the ground around the trap had been pushed up, so the mole went over it but it didn't trip the trap. I was going to push it down further but I never got around to it. About a week after that I saw that it had tripped and though it was another false alarm but when I pulled it out there was a mole in its jaws.  I would say that you might have to tinker with it a few times to get the sensitivity right but if the mole travels through the tunnel regularly it will get it. The jaws are extreamly powerful and it's pretty hard for them to miss unlike the traps that have a single spike.  Overall I'm very happy with it. When I first saw we had a mole I figured it would be almost impossible to get it, but bought this trap due to the good reviews. I'm pleasantly surprised with this trap and will use it again if any more mole tunnels appear.\": 1,\n",
       "         \"Bought two of them 5/26/09 and by 6/15/09 i had 9!!! moles disposed of.So follow other reviewer's instructions that posted earlier and happy hunting<br />they do work<br /><br />PS .As of now trying to catch last remaining one(so i hope anyway)\": 1,\n",
       "         'I am a newer homeowner - last 6 months or so and I noticed some dirt spots in the back yard from the previous owner. Not too sure/concerned about it I just let it be and was going to take measures in the fall to fill in the spots.<br /><br />Early spring rolls around and I have moles. I sprayed the yard with the oil stuff... didn\\'t help, grub/worm stuff - either didn\\'t work or i\\'m not patient enouh.<br /><br />I read the reviews and ended up buying 2 of these. I put them on what I thought were active trails/tunnels and after a day had no movement so I moved them again.<br /><br />Next day - BOOM! Got on and it pinched it\\'s back, so it was still living to I relocated it to a field a few miles away. Put the trap in the SAME spot and next day BOOM! go another one - this one not so lucky...<br /><br />They work great - make sure just like the reviews state to cut two slits to fix the \"claws\" and to step down the ground even - remove the safety and you are good to go.': 1,\n",
       "         \"Worked exactly as described.  Unit is well built and inexpensive.  I had to wait a week for a mole to return to the run I had it installed in, but when he did return...he didn't leave..!  It was helpful to watch some YouTube videos on how to best install and use the trap.\": 1,\n",
       "         \"I tried using this product for about a year with no success. I'm sure this works great in loamy lawns but I have plants, not grass, and live in suburban California, which means lots of clay! It is extremely difficult to find mole runs except in winter when the rain softens the clay. For my particular situation, i've found the Cinch mole traps to be extremely effective - they worked in a week. I did modify my method to try to match what other reviewers and youtube videos show, but if you don't have a nice soft lawn, there are better tools to catch moles with.\": 1,\n",
       "         \"Strong trap, but perhaps too strong. The spring bar bent under the spring's weight very early. Afterwards it was impossible to set and would snap before it was even set in the ground. Eventually the jaw cracked in half at the top.<br />Going to need to try something else.\": 1,\n",
       "         \"I'm looking forward to using this trap on a illusive mole that I just can't kill. I haveuse repellants, poisoned peanuts and a spike trap by Sweeney that was worthless.....so I put my trust into the reviews here and to the youtube videos on this trap......I'll post an updated review soon.\": 1,\n",
       "         \"First tried the sonic spikes and poison since that was what was available at the local Home Depot but after two weeks, the mole was still alive and I was frustrated. When the mole decided to move into my garden, it was the last straw. I got this trap along with the more expensive Wire Tek 1001. Set the Wire Tek out in hopes that I could just use one trap and return this one. But after a day, I hadn't caught it yet so I decided to deploy both. Moved the Wire Tek to a new location and put the Victor in it's place. I followed the instructions that came with it and within 12 hours, the Victor had a dead mole in its jaws. Easy to use, effective, and permanent solution for moles!\": 1,\n",
       "         'This product will eliminate your mole problem.  If you place it on a path frequented by the varmits, it will KILL them.  I had tried everything from sprays to poisons to grub control, and nothing worked. Purchased this trap and the sucker was dead 2 days later.  Thanks for a real way to get rid of moles--scum of the earth critters!!!!!': 1,\n",
       "         \"Although I read lots of reviews and many said trapping those little pesky moles was the only way to get rid of them from your lawn, I was not totally convinced.  Ordered two of these traps and within 24 hours I had my first little varmint.  Second one shortly after.  Hitting a main run is a key, but darned if this trap doesn't do exactly what is says.  It works !!!!\": 1,\n",
       "         'Had the harpoon the mole ran past them did not work, I placed this trap in the tunnel in the evening and next morning got the darn mole. It just works.': 1,\n",
       "         'Let me start this by saying I\\'m a huge animal lover, but when it comes to moles, f*** them! I\\'ve hunted these bastards for years, trying everything, until I came across these traps. As other reviewers have said, they work great...as long as you DON\\'T follow the instructions. Please read the review marked \"most helpful\" explaining the right way to set them. I started setting them 3 days ago, and once I got the hang of it, I caught two in one day!  Bought three to corner them.  It\\'s also nice because even though the product pic looks like it cuts the mole, it actually crushes it, so no mess.  They are hard to set. You need pretty good arm strength, but worth every second and penny.  Don\\'t spend more either. I was tempted to buy more expensive ones, thinking, how could a $10 trap compare?  But no worries.  Just buy more to increase your odds.  I can\\'t explain how excited I am right now.  I\\'m off now to save the rest of my yard.<br /><br />5/27/11 UPDATE:  Got 2 more in the last 24 hours, so I\\'m up to 4 moles killed by these traps.  Number 5 will be dead tomorrow.  I will have a new nickname soon: \"The Mole Hunter\"<br /><br />6/29/11 UPDATE:  Now 7 moles dead in less than 2 months with these traps.  Enough said!': 1,\n",
       "         'I tried repellents before trying this product. The repellent was of no use. This trap, though took some time to setup, worked on the very first day! Just find the active tunnel and set this up. I am very impressed and pleased with this product<a href=\"http://www.amazon.com/gp/product/B00004RAMY\">Victor 0631 Out of Sight Mole Trap</a>.': 1,\n",
       "         'I caught a mole the first week that I put this out. It saved me a lot of money by not having to sign another contract with a pest control service.': 1,\n",
       "         'This is a great mole trap. I set it up last week on a mole trail and got him on the first try.': 1,\n",
       "         \"This trap does the job, but nearly as well as others I have.  THe trap is difficult to set and requires the use of special tools that come with the trap, but are not part of it.  Even with the tools this trap is a pain to set compared to others. Once you get is set and placed on an active run it does the job.  Another issue I have with this trap is that it's design and color make it difficult to see from a disance and impossible to tell if it is sprung.  You have to remeber where you put it and check it periodically.  I recommend poking the tools into the ground next to the trap so you will know where they are.\": 1,\n",
       "         'First 24 hours and we caught our first mole and only set 1 of our traps! Good news. ;)': 1,\n",
       "         \"I received this trap on Friday and Saturday that $#@%^* Mole is dead. I followed the advice of other reviewers and I had no problem on locating the trap. The only problem I had is setting it up. The directions are less than better describing the arming process. It took me awhile to figure out how to cock it and where the trigger was to be when doing so. Be ready to use some muscle when arming it and watch you fingers. I'm completely satisfied with this product. Again read the other reviews on the location procedures they used and you'll have no problems.  Good Luck!!!\": 1,\n",
       "         'This is an awesome trap for mole removal!<br /><br />I have killed 13 moles with one trap in a four month period!<br />This trap has only missed twice, and I believe it was because I set it too deep.<br /><br />I had trouble just yesterday killing one in my front yard so I tried the Tom Cat poison worm bait and this morning bingo! dead mole next to my big pine tree.<br /><br />I would recommend using both products simultaneously for total mole eradication.': 1,\n",
       "         \"I TRIED THE TYPE OF TRAPS THAT STABBED SPIKES INTO THE GROUND, AND HAD NO SUCCESS.  THE VICTOR TAKES A LITTLE PRACTICE, BUT IT REALLY GETS THE MOLES. I'VE CAUGHT THREE MOLES IN THE LAST MONTH, AND YOU JUST HAVE TO FIND THE MAIN TUNNEL AND SET THE TRAP WITH A LUMP OF PACKED DIRT JUST BELOW THE TRIGGER PAN.  I TRIED FOUR TIMES AND GOT THREE MOLES, AND I STILL AM FINDING BURROWS IN PARTS OF MY LOT THAT IS WOODED AND BRUSHY.  THEY EAT MOSTLY NIGHT-CRAWLERS AND THE BEST TIME TO FIND THEM IS THE DAY AFTERR A GOOD RAIN.<br /><br />I BOUGHT THREE TRAPS AT AMAZON FOR FAR LESS THAN IN THE LOCAL HARDWARE STORES.\": 1,\n",
       "         'Another mole hunter from St Louis here. I have tried everything: pellets, smoke bombs, different poisons, flooding the holes, a pretty useless trap sold in Lowes and Home Depot (I did get one mole last year with this but it\\'s very weak and flimsy. I think I was lucky). A friend of mine told me she was fed up and was going to pay a professional to catch her moles. He caught 2 of them in a couple of weeks and she hasn\\'t had a problem since. I asked her if she could figure out what kind of trap he used. Well, this is the one!<br /><br />Since I bought these traps a few months ago, I have caught 5 moles (that includes 1 for my neighbor). Despite having caught 4 moles in my front and back yards, there is still new  activity from time to time. I think they cover the whole neighborhood. I have some traps in my yard and a couple in my neighbor\\'s across the street. I have purchased 6 traps (they are a great price and VERY sturdy) and I\\'m about to purchase 2 more to send to my in-laws.<br /><br />The way I have found these work for me is as follows:<br />1. Try to pick out a tunnel that looks like a common route or \"freeway.\" For me, it\\'s usually close to a path or driveway where they have hit the \"wall\" and work their way along it. Don\\'t stomp all the raised tunnels down unless there are so many you need to find a place to start.<br />2. By keeping the tunnel open and just pushing down the dirt in the area you intend to place the trap, the next time the mole comes by he will just start digging his way right into the trap. I like to keep the soil pretty loose where the trap is going to be placed so when the ground gets hard and baked, the trap will still be able to spring shut quickly. Just make sure the holes on both sides of the trap are covered. The dirt in the compressed area is usually about an inch or less below the rest of the ground.<br />3. Remember to use the safety catch when placing the trap in the ground. You want to make sure the flat base of the trap, (the part the mole will push up when he tunnels to trigger the trap) is well set in the ground and the four spikes in the ground are on either sides of the tunnel. It may be a little difficult to set the trap but it\\'s not THAT hard to do. Come on!<br />4. Be patient. The first time I set a trap I had a mole in less than twelve hours. The last one I caught was in a trap in my garden which I had set 3 weeks earlier. Of course if you see new activity in a different area, you may want to move the trap. Trial and error.<br /><br />****Somebody else claimed these traps are hard to set. Yes, the springs on them are very strong and it takes a little elbow grease. The trap does come with tools to help you set the trap. If it wasn\\'t this strong I may as well use the useless trap from Lowes.': 1,\n",
       "         'This trap has been so effective that it has almost taken the challenge out of trapping moles in my yard.  I had tried other types of traps and was disappointed with the results. I\\'ve put my other experiences at the end if you are interested.<br /><br />As with any trap, it must be set in an active tunnel and it took a couple attempts to learn to set the Out O Sight.  However, once learned and active tunnels found, I have a 100% tripped trap/dead mole ratio.  As several others have said, following the directions sets the trap too deep.  On the other hand, the method described in other reviews here was too shallow to work for me.<br /><br />I have a recently re-graded yard with new topsoil trucked in so the soil is still fairly loose.  The top of most of the mole tunnels are about 3-4\" deep.  Pushing the tunnel down and setting the trap on top without digging down proved too shallow.<br /><br />The technique that has worked for me is similar to that on the box, but not quite as deep as described.  Carefully excavate a section of the tunnel as wide as the trap and as deep as the bottom of the tunnel without disrupting the structure of the bottom half of the tunnel ... the bottom half of the walls and the floor.  Then take a few clumps of the dirt (it has been very wet here since starting to trap) and put them in the tunnel between where the claws of the trap will go.  Don\\'t pack it tight, just drop them in.  Set the trap with the claws slightly deeper than the bottom of the tunnel by pressing it in.  The trip pan should sit on the clumps you put in.  Put the remainder of the soil back around the tunnel opening you made and around the trap to block out the light.  Do your best not to disrupt the tunnel leading up to the trap\\'s jaws and don\\'t pack it too tighly.  You want the mole to be in the jaws before encountering blockage.<br /><br />I have been holding the trip pan down while pushing the trap to the desired depth so I don\\'t accidentally set it off and then making sure the release side of the trip pan is not tight against the soil which would possibly prevent it from springing.<br /><br />Since starting in November, the count is 10 with 3 of them in the last week.  Most of the time I have my quarry within 12 hours of setting the trap .  The time it will take is directly dependent on finding an actively used tunnel.  I patrol my yard almost every day and get the trap in immediately after finding a new tunnel.<br /><br />I have docked the device one star because the jaw of one of the first two traps I bought inexplicably cracked.  Also because I think it could be easier to set, but practice makes perfect. (use caution)  Despite this, the trap has been so effective and much less expensive than the alternatives that I have purchased 3 additional traps to replace the broken one and the other traps I have purchased that were not effective.<br /><br /> Plunging spear type:  Anchoring seemed to be an issue as well as spring strength to reach the mole in the heavy clay soil here.  The trap would be tripped, but no mole under it.<br /> Trapline in-tunnel wire trap:  A device that is genius in its simplicity and would likely do well in dryer soil than I was trying to trap in.  My experience was the moles digging around the device.  Perhaps I just didn\\'t master setting it.  I also didn\\'t like having to dig up the trap to see if it was tripped.<br /> Poison pellets:  Not sure if the moles took them or not.  Worked too slowly to stop the damage, so a worthless approach in my mind.': 1,\n",
       "         'I was fully intent on becoming a mole serial killer.  I wanted the very mention of my name to strike fear in generation after generation of the little turds.  But, to this point, the moles are having the last laugh.  The trap has failed to catch a single tunnel builder.<br /><br />The \"trap\" has sprung once in the weeks I\\'ve had it set. I could barely contain my excitement as I wrenched it from the tunnel, only to find that all it contained was a large clump of bermuda grass.<br /><br />My wife is belittling me for my purchase of this device.  I promised my young neighbor I\\'d bring her a mole, as she\\'s never seen one.  Looking over the fence and repeatedly telling her, \"Not yet\" is getting embarrassing.<br /><br />It seems the moles are on to me.  Each time I set the trap they alter their route(s).  As soon as I move the trap, they return to their old tunnel(s).  It\\'s becoming a game to both of us.  I WILL WIN THIS GAME.<br /><br />I ain\\'t giving up.  I trusted the glowing reviews of this device that I read.  Yes, I have considered that the review was written by either the inventor of the trap...or by an employee of the trapmaker\\'s company.  But I will persevere.  While my friends await the reportage of the first dead mole; while my neighbor awaits her first ever eyeballing a mole; and while my wife continues her laughing at my empty mole trophycase...I continue the battle.  I will not toss this \"trap\" into the pile of failed mole-stopping gear.<br /><br />I will report back when the first mole meets its demise.': 1,\n",
       "         \"I don't know who could assemble this mole trap but it would take a strong hand and a persistent helper.<br />If we could put it together and we did catch a mole, I guess it would mean going through the process all over again.<br />We sent it back.\": 1,\n",
       "         'I purchased 3 of the victor 0631 traps. They got to my house promptly.  There was a mole that troubled my lawn and flower beds for 3 months. I brushed aside conventional wisdom about mole behavior and the need to put traps only in frequently used main runs. I seeded the most recent activity with a total of 6 traps.  I carefully installed one of the new victor traps in a feeding run. Making sure the blades were free, and placing a mound of dirt in the center of the run to cause the mole to push through it and resulting in a trip of the trap. I poured fine dirt to close off light.  I also wore washed rubber gloves. I was also careful to set the trip on the very edge of the trip pan catch for hair trigger action.<br /><br />Next morning I came back and one of the purchased traps was sprung. The jaws of death closed on the neck of a huge mole. He was dead, the jaws of this trap are so powerful that they kill without fail. This was my first KILL with a victor trap.<br /><br />THEY WORK.  Just be careful with your fingers when you set these traps. Follow the basic steps outlined above and exercise patience, you will get them with this trap.': 1,\n",
       "         \"This mole trap does catch moles, although its a bit difficult to set.  Takes a lot of strength and I cannot do it so I have get my husband to re-set it when we need to do so.  It caught 2 moles in the front yard and we are seeing no new mounds in that area, at least!  Also, according to package directions, which we followed, one has to dig up a bit more of one's lawn to embed the device than the mole has already dug up.  Still, for the price and a bit of patience, it gets the job done.\": 1,\n",
       "         'I bought two of these traps after trying chewing gum, moth balls, other mole traps, castor oil, battery operated mole chasing poles.  None of those worked very well but I got my first mole 3 days after installing one of these in my backyard. They are a little tricky to set-you should use your foot to help pry it open-but it works like a charm and the best part is that you have confirmed proof that you got one!!': 1,\n",
       "         \"I bought this and in 10 days I had 4 moles.  It took a little time to get things right but when I did WOW!! It works great. Things had slowed down but I the yard is getting better. I just watch for the (highway)then set the trap. I havn't miss one yet.\": 1,\n",
       "         \"These traps work. I started out with two and recently bought 4 more when I bought a bigger house on 1.5acres. I've got 8 moles in two months. The trick is find the straight runs (highways) and to open up the run completely as wide as the trap is using a small garden trowel, set the trap down in the run and then pile all the dirt back over the trap. Last thing I do before walking away is flip the safety back onto fire using the tip of the trowel. If I haven't got one in 5days I move the trap. I learned how to set them from a local pro that uses these traps.\": 1,\n",
       "         'The Out of Site Mole Trap does exactly what it is designed to do. We set one out and the very next day we got a mole. They are definitely worth the money they cost.': 1,\n",
       "         \"I commenced Molicide 2010 this week. After reading all the reviews here and on Northern's website last month, I was very excited to try this trap.  I planted my first trap today at 11:00 a.m. and it cleanly killed a mole by 12:30 p.m.!  After only 1.5 hours, I shouldn't have even been checking the traps... but there one was!!  No one believed me until they saw the proof.  There was no blood, but the mole was dead as a door nail.<br /><br />We run a 35 acre condo complex and have had VERY little luck with spear traps and poison worms.  I'm just hoping this mole wasn't beginner's luck!  We have at least 22 different mole activity areas and I swear some of the areas are too much for one mole.  So we bought 5 of these traps for starters and will get 5 more if the moles start piling up.  I have yet to try the method near mound activity, we'll see how that goes.<br /><br />Just follow the reviewer instructions and be diligent about making sure runs are fresh.  Good luck!\": 1,\n",
       "         \"I've tried the solar beeping to scare the moles away, I tried a harpoon type trap for months, and I've tried capturing them live with no results for about 1 year.  I searched internet on traps and noticed some professional trappers used this kind of trap.<br /> My first attempt got no results but on my second attempt my trapped got sprung but I thought it was due to a heavy rain since the trigger is very sensitive and ignored it, but when I went to move it there was dead mole. It only took about a week. I got another one a week later. I did follow other reviews by not burying it like instructions say but to place it over a stamped down tunnel. I also used a lid from a tuna can under the tripping arm to increase the sensitivity. If want to get the moles use this.\": 1,\n",
       "         \"I realize after looking at images online, that I didn't even set this properly, but it worked. The dirty mole which has been wreaking havoc on my lawn is finally dead and gone! That said, this trap is pretty humane. It's very difficult to open, requiring a lot of strength, so that mole was crushed and probably died very quickly.\": 1,\n",
       "         'Finally after trying about everything on the market for mole problems in the last 15 years I got lucky and bought this amazing trap. I adjusted and set the trap in the evening after recieving it, next morning I checked the trap and I had caught one of the moles that had been messing up my lawn and garden for about 2 years. I have tried gas, poison,and other traps, always without any known success. The give-away tunnels have always re-appeared. I finally am confident that my problem is over. <a href=\"http://www.amazon.com/gp/product/B00004RAMY\">Victor 0631 Out O\\'Sight Mole Trap</a>THANK YOU Victor 0631 and Amazon for quick and dependable delivery as always.': 1,\n",
       "         'This trap works well.  Find advise from internet searches for setting traps.  The hard part is knowing where to put the trap.  I have caught 3 moles but I have to keep moving the traps.  Also, there is a video on some web site that shows how to set this Victor 0631 trap.  Ridding your yard is a multiyear job... or maybe never ending job but every time one of my traps was tripped it crushed the mole and without blood showing.': 1,\n",
       "         \"I've had a problem with moles for just a few months, but they have done quite a bit of damage to my yard in that short time.  After reading the positive reviews, I decided to try the Out of Sight trap.  It took me a few weeks but I finally caught one mole (I'm sure there's more out there).<br /><br />I tried following the directions on the box as well as the directions in the reviews here.  I didn't have much success with just cutting slits for the blades and leaving the trap at ground level.  I eventually dug up a small area and I noticed that the hole runs were actually a little deeper than the blades would go if left on top of the grass. The cool weather may have something to do with the moles digging deeper; or I simply chose a bad spot. However, it was the most active area so seemed to be a logical choice to set the trap.<br /><br />So, I basically followed the included instructions and finally caught my first mole.  As others have said, you may need to finish off the little diggers yourself so just be prepared for that...I guess a shovel is the best tool for the job.  The traps do require a bit of strength to set and you need to be careful with them as the spring is very strong. At first glance it looks like some kind of medieval torture device.<br /><br />Another thing to remember is that often times moles are simply a symptom of other problems - mostly likely lawn grubs. I'm certainly not an expert, but it sounds like moles feed largely on these grubs. So getting rid of the grubs may prevent future moles...that's next on my to do list.\": 1,\n",
       "         'These are much more difficult to set and move than the other Victor spear-type models.  When \"hunting\" moles, you must move the traps frequently and this Out of Sight version is cumbersome.': 1,\n",
       "         'Follow the directions of others on this site by placing the trap on the surface of the ground and you will trap moles.  2 moles in the first week.  Make sure the track is active.  I found it best by pressing the trip lever down with my finger to make sure it was flush with the ground (be sure to place the safety lever in position while setting the trap).  The traps works as advertised.  Very strong spring action so keep pets and hands out of the way of a set trap.  I placed small garden buckets over the traps to help avoid pet interaction.<br /><br />Update: 10/7/10 -- I\\'ve trapped 4 moles with this trap.  It continues to work very well.  Use at first sign of mole activity and you can be sure run is active.  I\\'ve trapped moles within an hour of setting the trap.  The only sure way to eliminate moles from your yard is to kill them with this trap.<br /><br />Update 9/28/11 -- \"Mole season\" again.  Saw a new track this afternoon; set the trap and in 45 minutes dead mole!  This is the only mole control I\\'ve used that works!  You\\'re wasting your money on the gadgets -- this continues to work year after year!': 1,\n",
       "         \"I wrote a review before and will say they're great - you'll have to read directions and once you get the hang of it look out moles! I did have to put an empty buckrt with a rock on top so the pets wouldn't get hurt.Thank you.\": 1,\n",
       "         \"This item works well if you follow the directions exactly.  If you don't have any patience get something else, but this works.  In fact if you have a big mole problem you might want to get more than one.  I would purchase it again.\": 1,\n",
       "         'This trap is far superior to the Victor \"harpoon\" version. The spring is extremely strong and will close on any dirt or sod. Thanks to a previous review, you need to ignore the directions on the box. Flatten a small area of the mole run the width of the trap and use a spade or garden shovel to make a slit to allow each jaw of the trap to fit easily in the ground. Don\\'t forget to use the safety hook while placing the trap and to remove after the trigger is set. I had the mole in two days and it did not evade this trap.': 1,\n",
       "         'watched some videos on how to use.<br />set the trap.<br />left it.<br />5 or 6 days later....dead mole that had been destroying my lawn.<br /><br />Thank you Victor!': 1,\n",
       "         'I have tried many of the mole traps/preventers on the web. This one REALLY works. I have caught 15 moles this year and my lawn looks so much better and I am not doing a Bill Murray every weekend': 1,\n",
       "         \"I had a tunnel along my concrete driveway and the grass about 10' long and had 5 mole hills.  I set a trap at both ends.  When I dug into the first mole hill to set the trap I noticed a half eaten grub and placed it on the trigger bar, covered with some dirt, and put a pail over the trap to keep it dark.<br />About 2 hours later I checked the trap and it had sprung. I carefully lifted the trap and a mole was caught in the trap but not dead.  Be ready for that.<br />I have not seen any further evidence of moles but if I use this trap again I will try adding a grub or worm bait to attract them.\": 1,\n",
       "         \"Have used the trap for a month carefully following directions. Have tried a new location every few days. Have not caught a single mole. Meanwhile, the yard fills with more and more tunnels. Don't expect success and you won't be disappointed.\": 1,\n",
       "         'very hard to set, you could loose fingers if your not careful. triggering mechanism is hard to set and make it stay and takes way too much pressure to spring the trap. placed as instructed, moles just tunnel around it.you have to disturb the ground too much to be able to set it. was excited about getting them, but very disappointed in results.have not caught a single mole and they continue to make swiss cheese out of my yard.': 1,\n",
       "         \"Great product.  The best way to kill a mole.  I bought these traps on-line only because I couldn't find them in the stores.  I've killed 3 this month.  6 for the summer.  Well worth the money.\": 1,\n",
       "         'I work as a groundsman and a large Seattle facility and was forced to take action to combat our mole problem.  Unfortunately mole trapping is illegal in Washington (damn liberals) but sometimes you have to bend the law!  The trap has a very strong spring as is more than capable of squishing moles with ease.<br /><br />Tips:<br /><br />Do not bother with the enclosed prongs.  The trap is easy to set if you use some creativity.  Drop the trap onto the grass (not dirt or pavement) and step on the jaws to get them shut in order to set the lever.  You have to use your body weight to do this.  Some people have said these traps are difficult to set.  They are a piece of cake to set if you do it this way.<br /><br />If the tunnel is on the surface, just use a knife (like a drywall knife) to make the slits in the ground and insert the legs of the trap.  Of course you will have to squish a small amount of tunnel down for the trigger to be right next to the earth.<br /><br />If the tunnel is a few inches down, dig a small section of the tunnel out (like 6 inches), place the trap inside, and fill it with loose soil.  The moles with try to make their way through the tunnel but will inevitably push up slightly on the trigger, causing their most unfortunate death.  Occassionally they will still be alive so be prepared for angry moles!  I will note that this is the #1 trap recommended by \"moleman\", just google the name.<br /><br />I have been trapping for about a month and have caught five moles so far.  Three big ones, two small ones.  Our grass is saved!': 1,\n",
       "         \"I found a video review that helped me quickly figure out how to set the trap.  It was not hard at all.  Yes, the spring is very powerful, and therefore it's hard to get the jaws opened and locked.  However, the provided tools and proper technique make it easy.<br /><br />I had a dozen or more tunnels in a 15' x 25' area of my yard.  I picked one tunnel that seemed fairly straight, hoping it was one that was used over and over by the critter(s).  I set the trap, (which took less than 5 minutes), placed a bucket over it, and went back inside.  2 hours later I came back out and looked under the bucket. I was surprised to see the trap was already sprung.  I was even more surprised to see a mole in the jaws when I pulled it out of the ground!  What more could you ask for?\": 1,\n",
       "         \"this is the best product to get rid of moles. i went to home depot and spent a bunch of money trying to get rid of these moles. . .  nothing worked until i purchased this Victor Out O'Sight Mole Trap. the first day i set the trap i didn't have any luck. i left the traps in the same place and woke up with 2 moles caught in my traps (being i had 3 traps). ever since then about 3 months ago i have not had a single mole come into my yard. great product. i have recommended to one of friends and same results!!!!\": 1,\n",
       "         'This is the first trap that has worked for us.....EVER!  Our neighbor\\'s fianc&eacute; works for a critter control company in town. He brought two of these traps over and within two hours of setting them we caught our first mole!<br /><br />Our yard has been terrorized by these beasts and  we have tried many things: different traps, poison pellets.....even our Airedale Terrier. She\\'s really good at digging huge holes in the yard....but not actually catching anything.<br /><br />As one reviewer wrote, \"You are looking for long straight runs. Long straight runs are like mole highways. The curvy short runs are hunting roads. The curvy runs are less traveled. Hunt the highways.\" This is so true! Listen to his advice and you can\\'t go wrong.<br /><br />UPDATE - 6-25-09 - Four moles in less than a month.  And that\\'s only because we haven\\'t been too diligent in resetting them.': 1,\n",
       "         'First of all, do not follow the instructions in the box. Instead read some of these reviews for very good tips.<br />I got two moles in about five days. It took me a little bit to learn where and how to set it. I pretty much followed the good advise given in other post, I recommend you do the same, their method works.<br />Before this trap I tried a bunch of less-aggressive methods but to no avail. It is really hard to get rid of moles in a nice way. Finally I got fed up and went for a trap. Also, with a trap you can see the body of the critter and know for sure that you got it.<br />The trap has a simple-but-effective design, it is built of solid, black-painted iron and it is bigger and tougher than what I thought it was going to be from the product pictures, but it is not huge. The spring is very strong and I have to put my weight on it (using the provided levers) to set it (remember to use the locking hook).<br />The triggering mechanism is simple and reliable, although I used a file to round the edge of the holding \"stick\" to make it slide out easier of the trigger piece (added sensitivity) but be careful not to over-do it! or it will trigger by itself.<br />The trap stays out-of-sight in my backyard because it lays low and it is black. I added a bunch of tree leaves on top of it to make it invisible. The leaves don\\'t interfere with its functioning.<br />The most difficult thing about setting this trap is placement. I\\'m still learning where is the most likely tunnel that the mole is going to use. I\\'m using little construction flags to mark tunnels that I step on to find out which tunnels are the most active.<br />One if the moles that it caught was still alive when I checked the trap, so bring a shovel with you in case you need it.<br />Also the price is very good compared to other very expensive traps.<br />I highly recommend this trap.': 1,\n",
       "         \"This is the second purchase of this product. The first worked so well I'm buying it again. The unexpected benefit is it also attracts other pesky bugs... simply put it works very well for fleas.\": 1,\n",
       "         \"If the directions for use are followed, this works very well - in a dark room, where there's little activity. Especially in combination with Advantix (or another, just not Hartz - that stuff is dangerous) flea and tick drops for the pet. My son and I made it a math game (he loves math) for him to keep track of how many fleas were found each morning, added to the previous flea count. Even during daytime and evening with the lights on, if there's no one in the room so the fleas don't jump on you instead, fleas would jump in. Not in hordes, thank goodness, but it did help to clear the fleas from the floor and furniture without having to use stinky powders or chemicals. I would recommend this!!\": 1,\n",
       "         \"I've used these for 4 years. Just can't seem to get rid of fleas, but these work great. I use a few of them as I open my windows and no matter how tiny the holes in your screens are, they get in and also come in on my family as well. They work better at night when the house is dark as fleas tend to gravitate to the light. It's amazing how many they catch, one refill lasts a very long time as the surface is large compared to the size of a flea and it remains sticky. The only other alternative would be to bring my chickens in to take care of the problem, but then there's a different problem to deal with. If my town zoning law allowed my chickens to wander, my flea and tick problem would virtually disappear.\": 1,\n",
       "         'I love this little gizmo. I wouldn\\'t expect it to rid you of fleas all on its own, but it is a great assist. I think it is most valuable in letting you know how effective your other efforts are, because if you have fleas, they *will* find their way into this trap. When I first started treating this season, I put this trap out. Overnight, it was covered in fleas, just like in the product pictures. As things started to get better, I noticed a decrease in how many fleas were being trapped. The last time I changed a disk, I caught several moths and such and one flea. Success!!!<br />I recommend <a href=\"http://www.amazon.com/gp/product/B001VJ3FP6\">SentryHOME Household Flea and Tick Spray, 20-Ounce</a> and <a href=\"http://www.amazon.com/gp/product/B0051GCTAW\">Fiproguard Fiproguard Topical Flea and Tick for Cats, All Weights</a> as two of the most effective products for ridding your home of fleas.': 1,\n",
       "         \"This can serve both as a night light and also does really work for fleas.  For some reason the fleas and other insects are attracted to the bright light and then get stuck on the sticky paper.  Ingenious idea and does help to rid your carpet of fleas. Buy the unit once and then just keep purchasing re-fill sticky paper as needed.<br />I'll keep buying them.\": 1,\n",
       "         'These are awesome. I only wish that there were more in the package than 3. Maybe a 6 pack or more for the same amount or a few dollars more!!!': 1,\n",
       "         'While it is key to treat your cats for fleas..<br /><br />These traps help to alert you before it gets out of hand or to help get back in. Ontrol by quickly atrracting fleas and capturing them': 1,\n",
       "         \"This will trap and starv a rat or cockroach that happens to walk by, but when used with the flea trap light it's unstoppable!!\": 1,\n",
       "         \"if you're combating a flea problem, this product is a great asset.  catches many fleas, especially at night when it's the only light source.  however, do use it with another product such as a shampoo, flea pills, etc. as part of a regimine.\": 1,\n",
       "         \"The first couple days you really don't notice a change.  But then!  A few days after I started to catch fleas.  And a lot of the bites I was getting were FINALLY going away.  So now I'm still getting one now and then but not as frequent as I was.  I've had this about a month (2 months after my family's dog first started having a flea problem).  Now it's starting to dissipate and the flea traps do help catch the stray buggers.  It does catch spiders, stink bugs, ants and a lot of other bugs too!  (caught more of those kinds of bugs than any of the other ones surprising enough.)<br />Highly recommend.<br />p.s. Make sure you use other forms of flea control.  Just this alone will not cure the problem.\": 1,\n",
       "         \"I received the flea traps five and the waxed paper would not peal off so I could use them two per trap 12 total. You have to peel off top wax paper to reveal the sticky trap no luck.<br /><br />The extra packs I ordered were on back order and the paper pealed off them. The 12 free ones I had to toss. Hope they will replace bad ones. ( Don't think this will happen ).<br /><br />Moondogie<br />Denver, Co<br />August 24, 2011\": 1,\n",
       "         \"I left my garage door open while mowing one day and a stray cat decided to bring her 5 small kittens in. When my wife and daughter saw them they made a bed for them and that led to the sister bringing another 5 kittems in. Needless to say shortly thereafter the garage was full of fleas. Once the kittens were big enough, I got my garage back except for the fleas. After spraying and spraying with no good results I found out my son had used one of these traps and it worked, so I bought 2. I'm on my 3rd pad in each trap and I can tell you they are working great It's not an overnight fix for a big infestation like mine but I just leave them on and as new fleas hatch out they go to the light and die. I can now walk into the garage and leave without any unwanted guest on me.\": 1,\n",
       "         'Have been using the electric flea trap since an infestation of fleas several years ago.  I now use this not only for fleas, but also Palmetto bugs.  Doubles as a night light.': 1,\n",
       "         \"Works very well. Not only does it attract fleas, but if there's any flies, spiders etc. (we also have one in the basement) they also stick to it.\": 1,\n",
       "         \"This flea trap really does trap fleas. and the occasional spider. Just wish I didn't have so many fleas. I recommend this product.\": 1,\n",
       "         'In the past, I have used a metal type flea trap. I owned and operated a pet store and have had experience with several expensive methods of eliminating annoying fleas. This one works well. To end contamination, we just put it under our bed, and left it alone after vacuuming the carpet well. It ended the problem. To ensure that we were rid of the fleas, we purchased two traps, this one and the square trap you will also see advertised here as well. We have both going at the same time. One is going near the bed, and one underneath the bed. We have not seen a flea since installing these devices in our home, but, the traps are spotted with victims!!<br />Save yourself headache and frustration by making the purchase of two traps at once!<br />KittyKatKhan': 1,\n",
       "         'Excellent product...no fleas but lots of fungus knats from plants and fruit flies trapped...please note I did bomb my home twice and treated animals as well...so far so good :-)': 1,\n",
       "         \"I have been using these for 5 years and glad seller has them for a good price. Even though I use all the popular flea treaments for my 11 pets (Capstar, Comfortis and Frontline), the pests keep multiplying. I have 4 of the traps in my home and these sticky discs lure approximately 50 fleas per week in addition to all the other measures I've taken, and glad to have them so they don't bite me and the family. A+++++++\": 1,\n",
       "         \"I have used this flea trap for years.  When we had fleas it was good in trapping them.  Now it catches lots of bugs and spiders.<br />I was glad to find the replacement papers on Amazon.  We don't live close to a retail store that carries them.\": 1,\n",
       "         \"This is a review of the refills, followed by the same review as the trap.  The refills are easy to use, they come with a separate protective layer for each refill and it's fairly convenient to use the protective layer to cover the old, flea infested sticky trap when replacing it with a new refill.  Happy with the refills and the way they are packaged and installed.<br /><br />For the trap itself:<br /><br />I have 2 of these for 2 different locations.  Four stars instead of five because they do trap fleas; but they won't arrest an infestation. I use them as an indicator of the severity of the problem and whether I'm getting it under control.  Fleas are hard to see and find on carpet and furniture, not so tough to find on the dogs.<br /><br />The traps work best at night, don't seem to do much of anything during the day.  If I think I might have a problem or know the dogs have fleas I get the traps out.  This year we were successful with Siphotrol spray on the carpet and furniture and Barklogic's Lemongrass shampoo on the dogs (separate reveiws for those).  I count the fleas in the flea traps on a daily basis so I can tell that those measures are being effective, and when the overnight catch count goes to zero that's a good indicator the fleas are gone.<br /><br />If you are hoping the flea trap will cure an infestation by itself, there's a good chance you'll be disappointed. It might work, but I wasn't willing to wait that long.\": 1,\n",
       "         'IM INFESTED W/COLUMBOLLA MITES. I WAS SPENDING $400.00 @ MONTH FOR SPRAY SO I COULD SLEEP A FEW HOURS W/OUT BITES FORCING ME OUT OF BED. SINCE USING FLEA TRAPS I NOW BUY $200.00 WORTH OF SPRAY.': 1,\n",
       "         \"My dog was having a serious flea problem and I figured it was the whole house since I could see the fleas jumping off my bed.  Our house is very clean and I vacuum once a week so I was surprised to see so many fleas.  I bought this trap with enthusiasm, as I really wanted to see it work. My husband laughed at me and rolled his eyes when he saw me setting it up. I put it next to the dog bed.  Two weeks and not a single flea! Everyday I would check it and my husband would just laugh at me. I think I was more upset that my husband was right about it being a waste of money than it not working. But, it did make a good night light.  Other than that, it didn't work.  Maybe I didn't have enough fleas. Bummed.\": 1,\n",
       "         'The whole idea is keep fleas out of your house.  Once they have invaded What do you do?  I have tried every thing, sprays, powers you name it.  These have been temporary solution at best.  the best response to the invasion is to trap them.  Each of the invaders you trap is 200 fleas removed.  Once they are trapped, no kids.  Yes the trap works and it removes fleas with out the deadly chemicals.  If fleas get into your house and you prefer not to kill all the other residents of your house try the traps.<br /><br />Mike': 1,\n",
       "         'I have been using the Victor Flea Traps for a number of years.  With 6 rescue animals, they entice fleas to the sticky paper during the night while lights are off.  !': 1,\n",
       "         \"I take care of five cats and I give them a flea treatment every month, so none of the cats had fleas on them (and they're all inside cats.)  When I noticed the floor of a bathroom had fleas, I purchased these traps.  Within an hour of putting them out, they were covered with fleas, even though there were no fleas anywhere else in the house (where I also placed traps).  This really gives me peace of mind because I want the cats to be comfortable and healthy, so I'll always put these traps out; if no fleas are ever discovered, then I'll know I'm doing my job.\": 1,\n",
       "         'The flea trap refills does as it was advertised, not only for fleas but, for all types of flying insects.': 1,\n",
       "         \"Even though it's winter now here in Missouri we have still been catching fleas in our Victor trap. A new addition in the form of a sweet and friendly stray cat evidently brought us more than just cute little self when she joined the household. But this thing catches fleas like nothing else we've found.\": 1,\n",
       "         'This product does not work.  I know that getting rid of fleas is frustrating. Do not get sucked into this product. Save your money and get an exterminator.': 1,\n",
       "         \"Doesn't work! Waste of money ! It's a lightbulb and flypaper. You're better off with a room fogger and spray !\": 1,\n",
       "         'I first started using the <a href=\"http://www.amazon.com/gp/product/B000668Z96\">Victor Ultimate Flea Trap</a> when I lived in California because we had a problem with sand fleas coming in our back patio screen door. We also didn\\'t want to use any pesticides, since we had four small house pets.<br /><br />When we moved to Michigan, we continued using the traps because our child was born, and we felt even more strongly about avoiding pesticides. Although we did not have a flea problem, the traps have caught several types of spiders, the occasional house fly, a few random creepy crawlies, and even a hornet! Basically, they seem to trap anything attracted to the light/heat.<br /><br />We keep them tucked away, out of sight (ex: in a back corner of our furnace room, under furniture), and in places where the pets can\\'t get too curious -- getting a refill stuck to your skin (or dog fur) is the absolute worse.<br /><br />All in all, I think we\\'ve been using these traps for nearly ten years now. The bulbs can be replaced with regular night light bulbs or the new LED bulbs.': 1,\n",
       "         'I was getting bitten up every night. I bought 2 of these units and put one on the floor by my bed and one under my living room couch. I was amazed to see how many flees ended up on the pad. I found the best results when I kept my door open letting cold air in my house. it was about 50 degrees and the traps became extremely congested with fleas in that one day.': 1,\n",
       "         'I was hopeful that this flea trap would be just the thing - no toxic sprays - bug balms etc but plugged it in and nothing!<br />Not one flea was caught - as a matter of fact - nothing was caught so I can assume either two things.........It doesn\\'t work or I don\\'t have any fleas and all the \"stuff\" I used to get rid of them (beforhand) killed them off.': 1,\n",
       "         \"I have been using the traps for few weeks now and tried all the rooms in the house. So far, it didn't even get 1 flea. Only collecting dust.\": 1,\n",
       "         'Anyone who has a pet  can also get fleas in the home.  The Victor flea trap is fantastic - I have one in each room and they eradicate any fleas that my pet or myself brings in from outside.': 1,\n",
       "         'my dogs got flea lately. i saw this product and gave it a try.<br />it works ! it caught fleas and other small insets at the first day.<br />after around 5 days, there is no new insets in the trap.<br />i would recomend it as part of the flea control methods.': 1,\n",
       "         'This is the best at getting rid of fleas. This summer has been a long hot one and with that the fleas have been horrible in our area. ever since we bought this, our cats have been greatly relieved of fleas. Great product!!': 1,\n",
       "         \"Definitely have to love this product!  The fleas hop on to this sticky paper and can't hop back off again!  It's also easy to change out this sticky paper so it's virtually mess free!  Worth every penny!!!\": 1,\n",
       "         'These little glue traps work great. You can tell by the number of fleas it captures and kills.The glue traps work because of the number of fleas it traps; the traps turn almost black with the number of fleas that it captures.': 1,\n",
       "         'One of the worst investments I have ever made. No fleas caught, but there is a bright side---it makes a great night light.': 1,\n",
       "         'i ordered 2 sets. this is our first year for fleas and the victor machine is a killing machine. within about 2 or 3 days the glue pad was black with fleas and the same with the replacement pad. the bulb burnt out and victor customer service people were amazing,thanks zack...get the whole package!': 1,\n",
       "         \"This won't be the only product you need to use for flea control but it definitely reduces the number of fleas in the home.  Super cheap and it works.  Buy the refills when you buy the unit because you will need them fairly quickly if you have a bad infestation.\": 1,\n",
       "         'I thought I had a bad issue...set up two of these traps. After two nights I only had one flea, definitely a good thing if these traps work...means I do not have a huge flea problem.<br />Figured out that the occassional flea we saw was coming from Mother In-Laws (insert all mother in-law jokes here..)<br />We took one trap there to test, not long after plugging in, the fleas started jumping right on. After two days we had to replace the pad because there was no room for any more fleas. It was FULL!<br />Seems to do a great job.': 1,\n",
       "         'I found the flea trap to be helpful. It does work best in cooler temperatures and I find it works best as a tool to keep track of the flea infestation in your home.': 1,\n",
       "         'I bought this just for fleas, but it catches mosquitos and spiders, ants, etc., too.  I still recommend spraying your carpets, though.  This is an additional help between carpet sprayings.': 1,\n",
       "         \"I have had Victor flea traps set up in my living room and bedroom continuously for several years. I live in an area where fleas are a problem all year round. They work extremely well at capturing fleas however as others already noted, they don't kill the eggs so other measures are needed in addition to the flea traps. Unfortunately, I also trapped a large lizard one time, and had a heck of time getting him unstuck while trying to keep his fingers and toes attached to his body (I shook sand over the flea paper and kept shaking it so it stuck to the paper every time I pried off a toe/leg). I wish changing the paper could be made easier. It can be very difficult to replace the flea paper without it sticking to my fingers over and over and over. That's the only reason for the 4 rating vs a 5.\": 1,\n",
       "         'Product works great fleas get trapped and cant get loose .They have put an end to my flea problem but keep a few papers on hand just in case needed .': 1,\n",
       "         'Bought this as a back-up to the Raid Flea Spray.  The trap worked well, fortunately we only caught a few as the spray seemed to take care of the problem.  Interesting concept to lure fleas into the trap.  Would recommend.': 1,\n",
       "         'Both my cat and dogs have fleas and scratching like crazy yet this product did not catch ONE flea!!!  nothing but dust particles.  Waste of $$!': 1,\n",
       "         'This appears to be a good way to (i) know the extent of your flea problem by gathering useful statistics and (ii) eliminating at least some of the statistics.  Also, with low wattage lamp can leave on all day.  Getting the sticky pad in place is tricky, but the tips of two pencils help to get it into place.': 1,\n",
       "         \"I just can't believe what my eyes seen the next morning after plugging this item in.. GROSS!!! how amazed I was. Finally got rid of those nasty fleas thanks goodness!! I highly recomend this item.\": 1,\n",
       "         'love, love, love this product and my children does also. Just with 2 minutes of setting down the traps there were about 5 fleas on it. Then left is over night and there were about 50+.': 1,\n",
       "         'This trap did not attract fleas like I had expected.  The bulb burnt out in less than a week.  I had this trap close to the dog beds.  After 2 weeks it had only 2 fleas it.  I have 5 dogs and 2 cats and they all have fleas, in spite of monthly applications of Advantage.  I also ordered another brand when I bought this.  It was placed on another floor, and caught about a dozen fleas in the same 2 week period.  Simple pie pans with soap water and a desk lamp caught more during this same 2 week test.  It is not as neat looking, but does a better job.': 1,\n",
       "         'I love the product, but I will never order it from Amazon/Antonline again. The shipping charges were almost as high as the product cost. Unless it was being shipped from Timbuktwo, it does not cost that much for shipping. I found it at Home Depot for 1/2 the price.': 1,\n",
       "         \"We've been buying these traps for about 3 years. The first year the traps were fully glued. This last year or so the traps have been missing 75% of the stickiness and have only been catching bugs in the 25% area. They need to start using glue again. We are looking for another maker and trap.\": 1,\n",
       "         'THIS PRODUCT WORKS GREAT.  OUR DOG HAS NO MORE INFESTATION AND NOT SCRATCHING SINCE THE DEVICE PULLS THEM AWAY TO THE STICKY PAD.': 1,\n",
       "         \"I used the trap for two weeks and haven't caught a single flea. I know they are around- our poor dog keeps getting infested.\": 1,\n",
       "         \"After battling fleas this summer and wanting to know if I had things under control, I purchased 2 flea traps, this one and the Springstar one to see which was the better flea trap.<br /><br />First, the light is very bright so if you plan on using this in a bedroom keep that in mind. It would be better suited to going under the bed.<br /><br />Second, the main difference between the 2 traps is the amount of open space for fleas to get trapped. This trap has a large open space to catch more fleas, and the Spingstar has a smaller grid that traps less fleas. The trade off is, the Springstar is more aesthetically pleasing. That trap hides the trapped fleas better under a grid piece, and kids and pets can't get to the sticky pad. With this trap smaller children could easily reach inside, so again, something to keep in mind.<br /><br />Third, when assembling this trap the sticky pad was curved in the box. This meant that the pad refused to lay flat in the trap. A small problem that could be fixed with tape if need be.<br /><br />Overall this trap is a good investment. I have had it set up for a little over a week now and have caught 2 adult fleas and gnats. This is a cost effective way to see if you have your flea infestation under control while not using chemicals. Since adult fleas can emerge from pupas months after an infestation it's far better to lure them to a trap to die then let them bite your animals.<br /><br />If you're choosing between this and the Springstar it boils down to a matter of personal preference. If you plan to leave the trap out for people to see, go with the Spingstar. If you want a large, industrial type trap, go with this one. Both caught pretty good amounts of fleas and lots of gnats.\": 1,\n",
       "         \"It didn't work for me...at all, and I have a serious flea problem.  I tried it in several locations, and aside from initially catching about 20 flea's that was it.  For the next two days nothing else was caught, even though I could see the flea's around.\": 1,\n",
       "         \"I bought 3 of the Flea Traps, and 3 packs of the refills. Total waste of money. Fleas are jumping on me but yet none in the traps. So if you want a product to get rid of Fleas don't buy this one.\": 1,\n",
       "         \"You're gonna need these, if you're clumsy like me you'll find everything under the sun (including your socks) stuck to the SUPER STICKY paper.  Before you know it, there'll be loose change, lint, reciepts, et al stuck to the trap and you're gonna need to replace the paper.  It's worth it, because believe it or not, when free of such debris the sticky paper actually works and catches a good number of fleas, and the occasional mosquito.  Enjoy!\": 1,\n",
       "         \"I bought this because I didn't want to use chemicals. We have little kids and lots of fleas. This thing was on 24/7 for weeks in multiple locations that have fleas. Not a single flea was caught. Total waste. This is a safe flea trap all right -- safe for the fleas!\": 1,\n",
       "         'this product really works!!! purchased 3 with extra stick pads.kills fleas and other bugs with no chemicals. i highly recommend this product.': 1,\n",
       "         'The only way these sticky pads work is if a flea accidently jumps into the trap. I guess you could wrap them around your ankles and see if the fleas jump on them as you walk around. Im going to just put some soapy water in the bottom of the trap and it should work BETTER than the sticky pads. But the trap doesnt attract fleas anyways. Shame on you Victor company.': 1,\n",
       "         \"We have used this product for several years and it is most effective for reducing the adult flea population.  If you cannot use sprays or are concerned about using sprays, this product is the next best items to use.  The pack comes with three sticky pads, but I would order two packs, the first time it's used the sticky pad will fill up fast.  You will need the flea trap holder with a small light; also available from Victor.\": 1,\n",
       "         'Very satisfied. We have bought the flea trap and refills before and have always been satisfied.': 1,\n",
       "         \"I bought the Victor Ultimate Flea Trap many years ago in the local market.  It wasn't as sturdy as it is today but it worked.  Than, I could no longer find the refills.<br />I was happy to find the trap and the refills on Amazon.<br />With all the stray cats in my neighborhood, the new flea trap and the refills have really helped.  Even the ants go in it.\": 1,\n",
       "         'These work great. They\\'re very, very sticky at first. Be careful not to touch the sticky part! My only negative comment is that the glue eventually dries up so it\\'s not sticky anymore. Why is this a problem? Because it\\'s a waste. I caught about 20 fleas on the first pad before it stopped being sticky. I could have caught many more fleas if the glue hadn\\'t dried up. It doesn\\'t dry real fast. I suppose it was about a month before I discovered that the pad wasn\\'t sticky anymore. In the meantime I was still using it to catch fleas, thinking that it was still working. But it had dried up. Besides this, I\\'d like it if the manufacturer redesigned the trap so that it snapped closed more securely. The way it is now, the top can easily be knocked off, exposing the glue pad. Overall, I would recommend this, regardless of these two small drawbacks. (Sorry if you think I said \"sticky\" too much!)': 1,\n",
       "         'I have cats and I have a cat walk outside for them. They got fleas, and I bought this product to work in conjunction with their flea treaments. The fleas are attrscted to the light and they stay stuck to the sticky trap.': 1,\n",
       "         \"I bought one of these Victor flea traps on a whim, I didn't know if they'd actually work.  Well they work great!  I really recommend trying one of these out if you're getting mobbed by fleas.\": 1,\n",
       "         'I guess this worked ok. I didnt see very many fleas in the trap, so maybe I didnt have a bad infestation, and did use another spray product in conjunction.<br />If anything, it doubles as a nightlight!': 1,\n",
       "         \"I've been utilizing this product for 2 months, replacing refill once per week. The product does as it states, however I've lost/thrown away over 10 disks because they could not be peeled back to expose the glue without tearing or in some cases could peel back only partially or not peel back at all.<br /><br />I'll continue to utilze for the immediate future, however cost benefit anaylsis is poor and will probably utilize a spray instead..  Manufacturer should take care of the disks so they work and can be peeled back etirely without ripping, tearing, etc.\": 1,\n",
       "         \"The idea seems logical and very attractive. But after 3 weeks it has trapped zero fleas. My cat has a flea allergy, so it doesn't take but one flea to set off her allergy. At night this is the only light except a night light in the bathroom. I'll try the suggestion to make the whole area dark except for the trap--maybe that will work.<br /><br />I have tried vacuuming, and the solution of vacuuming daily for 7 days seems more effective, although admittedly more work.<br /><br />Best think I can say about the flea trap is it makes a very effective night light.\": 1,\n",
       "         'You are better off buying dish soap a plate and putting it next to a lamp.<br />If fact I did this and the dish soap caught more fleas then these things.': 1,\n",
       "         \"THis product did not work in my home.  I do not think it was the product but we needed something different to combat fleas, like chemicals. THat's why I did not give it lower stars:  I appreciate the price and quick delivery.\": 1,\n",
       "         'We purchased this product because one stray cat we brought into the house had fleas. We plugged the product in and one hour later there were at least a dozen fleas stuck to the trap like glue! We have used it for a month and the trap is full! The trap is replaceable but since fleas are small, you can get a lot of life out of one. We do not leave it plugged in while we are not home, but when we are, it is plugged in and doing its job. Amazing product!!!!!!!!!!!!!!If you have fleas in your home, try this, no chemicals or poisons...............Try this product!': 1,\n",
       "         'This is the best product (for the cost) I have ever bought.I had no idea I had Bedbugs until now. I had strange sores on my penis and had not been bad, went to the Doc, he said it was either staph or herpes, 3 months later I bought the trap and found Bedbugs, looked up up the bites on google and it was a perfect match! I guess you know how happy I am. I have not been bite since . I cant imagine how many people have been miss informed about what they have ? This product is a must have, one in every room!': 1,\n",
       "         'I have a cat and dog.  I had a flea infestation so bad that I got bitten during my sleep all over - hands, feet, neck, body.  I thought it was mosquitoes initially.  I got this flea trap and placed it under my bed, and near the dog and did everything they said.  My animals were itching a lot all the time as I had run out of flea meds and vet was out of supply temporarily.<br /><br />I DID NOT CATCH ONE SINGLE FLEA AT ANY TIME FOR 2 MONTHS OF USE IN VARIOUS ROOM, NEAR DOG, UNDER CABINET, UNDER BED - NADA, ZERO, NIZ, NYET, NON!!!  This manufacturer needs to be reported to FTC for making false claims on products.  Utterly useless, DO NOT BUY!<br /><br />Here is how to eliminate fleas:<br />do it myself pestcontrol Online - Order Talstar Pesticide and Ultracide for spraying your mattress.  Do not spray pet bedding - wash it instead.  Smell is too strong for animals.<br /><br />Vacuum your house as if your life depended on it!!  Vacuum floors, carpets, crevices, mattresses, under cabinets, etc.  Throw away vacuum bag at end of first vacuum, then weekly.  spray Ultracide inside vacuum bag to kill fleas as they hatch and store vacuum outside your house.<br /><br />Spray house and yard with Talstar using a 2-3 gal pump sprayer like Chapin.  Mix and spray.  Kills all bugs outside too!  Do not spray flowers or edibles.  Spray perimeter of house, driveway, cracks in concrete, ant hills, etc.  Avoid earthworms.  Repeat in one week to kill hatchling fleas.  Let dry before letting pets back in.  Has no smell.<br /><br />Spray your mattress with Ultracide and under cabinets.  This has a strong smell. Do not spray this near animals as they have sensitive noses!  Let dry and aerate house.<br /><br />Wash animals with Eqyss Microtek Shampoo and Eqyss Premiere Conditioner. Give dogs Comfortis orally once a month.  Give cats Revolution applied to skin once a month.<br /><br />On Amazon, buy Nitenpyram ($1 per tab) from Little City Dogs, which is generic for Capstar ($6 per tab).  This works for 24 hrs only and kills fleas instantly. Give animals orally (2 sizes) at the same time you are spraying house so all fleas die that day!  You can give them Nitenpyram same time as other flea meds, no problem.  Give animals another dose next day then after one week, so you keep zapping new hatchlings.<br /><br />This should eliminate fleas for 6 months till the next spraying.  I spray 2 times per year and keep my animals on monthly flea meds plus Nitenpyram as needed.': 1,\n",
       "         'We are very pleased with the Flea Trap. We have purchase two.....one for the camper and one for the house.  Will tell all our animal loving friends.': 1,\n",
       "         \"I was really skeptical about this thing, but desperate to control a late summer flea problem. It works! The light bulb burned out after about 2 weeks, but they are easily replaced with bulbs for night lights. We even caught a spider. By itself, I wouldn't count on it to rid you of fleas, but combined with other approaches (spray, flea comb, etc.) I think it helped. Thankfully we are now flea free.\": 1,\n",
       "         'I got this because I have 3 kids running around ages 3,4 and 6. I did not want to spray toxic chemicals around them so after retreating the cats i set these traps out hoping for the best. Let me say that we had a bad flea issue and in less than a week it went from is that a flea to waking up walking to the bathroom and having 20+ fleas jump on your legs. So I ordered the traps and in a few days they got worse i was so happy when I got them. In just 1 night i caught dozens in less than a week we noticed 1 or 2 so we kept them on for a month it has been 2 months since we used the traps and we have not had a single flea in the house since.': 1,\n",
       "         \"I have the trap and am on the second sticky pad (the unit that I<br />bought came with two sticky pads).<br /><br />So, I bought the refill pack (which comes with three sticky pads).<br />I use my trap in the room that the dog sleeps in.  In the daytime,<br />the dog is not in the room, the room is made dark, blinds closed,<br />door closed, from morning till night.  The trap gets about 3-4<br />fleas per day and after a month that sticky pad looks disgusting<br />and coated with fleas.  The key for me is to keep the room dark<br />during the day and keep the dog out of the room. The trap is the<br />only source of warmth and light in the room and attracts the fleas.<br /><br />This is a terrible flea season where I live, and nothing in the<br />yard, or frontline on the dog seems to help.  I walk my dog every<br />day so he will always pick fleas up.  In addition to the trap<br />I've tried nemotodes in the yard and wet down the dog and flea<br />comb them off my dog and drown those fleas in soapy water about<br />two to three times per week. I've also got diatomaceous earth<br />rubbed into his bedding.  I vacuum frequently.<br /><br />This trap thing is great because its<br />no work compared to all the other things I do to fight fleas.<br />So I recommend buying these refills\": 1,\n",
       "         'Works just as good an original that came with trap. This product is great for keeping a watch out for fleas. If you have a pest co. you can just show them the trap and say look I still have fleas.  If this is the only light on at night and if you have a flea in the house it will be on this trap in the morning.': 1,\n",
       "         'used these to make sure i caught all the fleas after i vacuumed the carpets and treated my cat...these definitely did the job!': 1,\n",
       "         'Excellent product so got a refill pack. It says 3 but the one I got only had 2 in it!  So a star off for that. (Still no response from Amazon either as of 8/28/09)': 1,\n",
       "         'This is an efficient and long-lasting way to get rid of fleas in your house without chemicals. It really works!': 1,\n",
       "         'I had purchased this product<a href=\"http://www.amazon.com/gp/product/B000668Z96\">Victor M230 Ultimate Flea Trap</a>locally but was unable to find the refills.  Was glad to secure the inserts from Amazon.  Reliable product at a reasonable price.': 1,\n",
       "         'This product is useless unless your trying to catch moths or nats in the middle of the night. Not a single flea. Looking for another product': 1,\n",
       "         'I purchased this item in addition to the actual trap by reading the reviews posted here on Amazon. The users must have had a much larger flea infestation than I as it took over a week to get 20 fleas. I used the trap in the area that the dogs sleep with no other light than the one on the trap. I know the dogs had fleas as I could see them. Maybe the fleas were smarter than the trap.': 1,\n",
       "         'I purchased these refills at the same time that I purchased the flea trap. There are no fleas in this area who are willing to step on these sticky discs. As a result, the flea trap is of no use to me. These refills are of no use to me as well  and that is why I can give only one star. They cost only $5.76 which is too small an amount to consider returning this item. I plan to offer the flea trap and the refills on the local freecycle website in case there is someone who has a flea problem and wants to try this option.': 1,\n",
       "         \"I live in an urban neighborhood and I hate flies so I'm starting to buy these things by the crate.  Everyone should use them, they work.<br /><br />Pros - I've killed literally thousands of flies.  Gallons of flies. Eventually I think I'll manage to wipe out the local breeding population and get ahead of the curve.  Trick is to start early in the spring - what one is really trying to achieve is population control not just killing a few flies.  Otherwise (depending on your landscape of course) the neighbors flies will just move in.  Bottom line if you use it according to the directions this flytrap works extremely well.  Many of the negative reviews here clearly didn't read the directions.  It really needs to be in sunlight.<br /><br />Cons - it reeks.  Seriously.  I can't imagine anyone using this inside their house - when it gets going you don't really want to be within 20 feet of it.  Unbelievably strong smell of rotting garbage. And though it's theoretically reusable, you are unlikely to do so unless you have a really strong stomach.  Think a big jar of rotting dead and half dead flies.  It's really foul.<br /><br />Bottom line, if you use it properly - think some form of perimeter defense, with targeting of fly hot spots like garbage cans with loose lids, you can make your world fly free.  If you have really few flies, one jar properly located will take care of them, but you should actually spend some time analyzing what you need.<br /><br />Anecdotally and by observation, btw, this seems like the most effective fly trap on the market\": 1,\n",
       "         'ive order these before. the are shipping a 16 oz cheap cup. not what is pictured. avoid. it does catch flies, though.': 1,\n",
       "         \"I've had this about a week.  It didn't kick in for several days.  Nothing happened.  Then, the next day, flies covered the top of all the water.  Another day, and they're several layers deep.  Still hasn't really started to stink, as others report.\": 1,\n",
       "         \"I originally purchased the smaller version of this product but upgraded to this version. It was 3/4 full of flies and I ended up throwing it away after maggots started appearing. It's pretty gross but very effective. I highly recommend purchasing more than one rather than re-using it.\": 1,\n",
       "         'Gross!  Efficient!  I bought the smaller size and it was completely filled in 2 days and making maggots!  YUCK!  If you want something that works, buy this.  In fact, buy a few.  They are cheap and worth it.  I am now purchasing the larger size.': 1,\n",
       "         'Perhaps a good idea, but too skimpy on execution. Lid plastic wall and thread too weak to hold the bottle with water.': 1,\n",
       "         '1st day, few stupid flies went in. 2nd day, it smell so so bad, had it relocated... 4th day, hundreds flies... OMG. It works so great... all blocks of flies come over having the party to die...': 1,\n",
       "         \"I've had a lot of flies in the house this summer.  Seems I can't open the door with a few flies coming in.  I put this outside and a week later there must be 400 or 500 flies in it.  It is as amazing as it is disgusting.  I'm not looking forward to emptying this thing, but I'm ecstatic about how many flies it's caught.  I'm shocked.\": 1,\n",
       "         \"I live in an urban coach house where the rear faces the alley. The alley is filled with trash, so as one might expect, I get my fair share of rogue flies in my house. I first tried the sticky fly tape stuff inside, and while it worked decently, it was more of a situation where it would catch a fly if it just happened to land on the strip. I still found myself killing more of them via shoe than the tape managed to catch. Not to mention having fly tape in your house is disgusting and messy. So I decided to try the Victor Fly Magnet outside by the garbage.<br /><br />If this thing caught 30 flies I would be satisfied. It caught, seriously, thousands. They are literally jam packed in it all the way to the top, and more are still trying to muscle their way in. I'm not only amazed by how well this trap works, I'm amazed that this many flies live near my home. My only question is, what do I do with it now? Set it on fire? Tape a grenade to it?<br /><br />In the 4 days since I put it outside, I have not had one fly in my house. Not a single one.<br /><br />Oh, and it doesn't stink that bad. The bait, when your mixing it in, smells like a barn or perhaps a dead fish. I can barely smell it when I'm standing next to the trap full of flies in the hot summer air.\": 1,\n",
       "         'It works very well.  It is reusable technically.  But, in reality, it will be hard to empty the flies and use it again.  Since bait would cost about $3.  It would makes sense to buy disposable model sold  by the same company.': 1,\n",
       "         \"I am absolutely floored at how well this product works! We put one by our trash can outside & one close to my neighbors dog pen & they are full by the end of 1 week. I don't know what it is that attacts them, but you can sit & watch them go in one right after the other. I highly recommend this product!\": 1,\n",
       "         'These are one of the best fly trap products we have ever purchased.  We ordered 8 for this summer.  We used 2 at a time, placing them on each side of the back yard in convenient hanging locations.  They are 3/4 full of flies when we replace them with the new set.  They are terrific.  We use our back yard all the time for BBQ and family gatherings and these have really made a difference this year.  They are easy to hang, no offensive odor, not difficult to look at either.  The size is useful but not offensive to see.': 1,\n",
       "         'I have used these for years and they are great!  Flies will always be around for some reason....its called nature!  I am glad it attracks the ones around and pretty much traps 95%.  Nothing is ever fullproof.  I recommend this always and the people that have tried it,  loves it!': 1,\n",
       "         'It works great. You have to wait a day for the packet they give you to mix with the water well but after that it works well. It smells bad so always place it so that the wind blows the smell away from your house AND follow the directions closely.': 1,\n",
       "         \"This fly trap works. Period. Yes, it can stink; however, when I look at how many hundreds of flies are in it and how many thousands have been therefore prevented from reproducing I have no problem holding my breath when walking by the traps.  I dislike our throw away society and do force myself to add water and dump the dead into a bag, tie it up and toss it in the dump then just re-bait and hang.  We have a herd of horses and the difference with these traps around is happily noticeable.  Get these and you won't be disappointed.\": 1,\n",
       "         \"Trapped 7-10 flies within the first 2 hours of use. It's been 24 hours and there must be 20-30 flies in there now. This is just outside a back entrance to a house and it has really kept down the number of flies that get in. It seems to work much better than the homemade traps I've put together before.\": 1,\n",
       "         \"I was amazed at how well this works. It does take about a day to kick in so be patient. Put it somewhere where it won't get knocked over. My cat knocked it over and the kitchen stunk to high heaven.\": 1,\n",
       "         \"I could sit and watch this trap work all day. It is amazing how the flies just flock to this bottle and go inside. In addition to being fun to watch, it really does keep the flies away from the porch and my cat's food. Wonderful product. I would recommend to anyone with a severe fly problem (which I had). I actually ordered a second one, since I had about a hundred flies around my porch daily. Now Zippo, none!\": 1,\n",
       "         'These traps are simply amazing - they take a few days to kick in, but they fill up quickly after that. I\\'ve had at least a hundred flies caught in a week, and it makes you think \"where did they all come from?\" (we live in a suburban area)<br /><br />YES, it does stink - the dead flies start to decompose, obviously, after a few days. While you *can* empty and re-use, I just throw it out with the garbage and use a new trap. For this reason, best put them someplace where you don\\'t pass often (or eat close to!). This will also attract flies in the local area, so you\\'ll see a lot of activity near the trap.<br /><br />It takes a few weeks of use to clear our the fly population, so buy more than one. I guess the lifespan of a common fly is about 2 weeks.<br /><br />Definitely worth getting - I try to buy a few at a time and use proactively.': 1,\n",
       "         \"This trap works.  The bait smells a little like dead fish - really, this is a plus! Other traps I've used smell like strong, old, damp poop; I find that worse than old fish.  On top of that, the other traps I've used all have warnings on them attached to their bait - the Victor traps are made with food-grade material, and are non-toxic. they make refill baits as well, so I don't have to keep spending money on new traps. We use it in the yard where the dogs and chickens are, so inexpensive, non-toxic solutions are a must. The smell is dissipated outside, and I can't really smell much once it's outside unless I'm standing right next to the trap.  It takes about a day for the bait to start working - the instructions say to give it several hours - but once it's really activated, it catches hundreds and hundreds of flies in a couple of days.<br /><br />I'm very happy with Victor Fly Magnet traps, and so are the animals.\": 1,\n",
       "         'We are currently living in Africa, and so I wasn\\'t sure if these traps would work with the flies here, but I bought these anyway.  I received them very quickly from Amazon.  I hung 2 of them up, and literally within  a few days we had a lot of flies inside.  It\\'s been 2 weeks, and there are a THOUSAND flies in EACH trap!  I have just ordered bait refills for these.  They are amazing!!!!  I was concerned with the smell mentioned in some other reviews.  While there is a \"fishy\" odor in the traps, it wasn\\'t noticeable once they were hung outside.  One was hung fairly close to the house in a tree by a patio, and another on our pool fence on the other side of the patio.  After the traps were filled with flies, I realized the smell became a little more pronounced due the decaying flies!  It\\'s not a big deal, and it would be worth much more of a nasty smell to have that many flies trapped anyway.  We\\'ve noticed less flies in the house (we like to leave our doors open since we have 2 dogs that go in and out, and the weather here is so nice).  If I could give this product more than 5 stars, I would!': 1,\n",
       "         'Monkey enjoys sitting out on the patio during the day, and sometimes evening, but she is averse to having us close the screen door as she is concerned about possible encounters with the gardener or the white cat from next door.  The white cat is recent addition to our neighborhood, and seemed pleasant at first, but then I saw him peeing right in the middle of an agapanthys in the garden, and since then, I dislike him as much as Monkey does.  Since Pocket died, we have not had a flea problem, which is a blessing.  Not Pocket dying because we miss her, even though we no longer have to block access to the pantry with a 5 gallon pail of expired mayonnaise (A national brand, no less, but I won\\'t mention the name as it is known, either East or West of the Rockies) but the part about not having the fleas.  But for some reason, we have had an abundance of black house flies.  I always tell Monkey \"look, you let your big black buddies in again,\" and \"Stop letting your big black buddies in.\"  She is not persuaded by this and only rarely seems to patrol the window sills for dying flies like the dog we had when I was little did.  (Dog\\'s name, Princess Leia.)  I bought some kind of insecticide at Big Lots, two kinds, and though one or both actually harness the power to kill houseflies, neither is the light aerosol type that is effective for spraying on flies.  One left a wet mess all over my office, and the other was a white powder which only served to crud up the carpet and attract undesirable teenagers to my apartment.  I recalled that one of my school teachers hanging a jar with a piece of steak in it to catch flies in the goat pens.  Armed with this information, I acquired the Victor M380 Fly Magnet 1-Quart Reusable Trap With Bait.  I was pleased that I did not have to supply my own steak, as I am vegetarian, and would have to have borrowed some from the neighbor.  It is difficult to imagine how I would explain what the piece of steak was for and I am really not certain at all if any of my neighbors would want me to return it when i was done using it.  I mean, I get along with my neighbors really well, including the ones who rent a large Dora The Explorer bouncey house for every imaginable event, and they are rather nice about letting us get in there even after we have had a heavy lunch and it\\'s ill-advised.  (Veggie corn-dogs with relish and lots of cole slaw and grape soda just do not look good painted all over the inside of a bouncey house.  Not even the Spongebob one.)  I carefully read the instructions, and added the recommended amount of water, more or less, with the enclosed packet of fly attractant.  The fly attractant looks a bit like what comes out of a packet of guacamole mix or taco seasoning, but I suspect is freeze dried meat and dog poo, or poo of some sort, perhaps horse or pig.  I hung the jar prominently in the middle of the front garden from the decorative plant hanger that I bought at big lots several years ago, which despite being some sort of sturdy metal when I bought it, has become flimsy with age and bends easily, but not weighed down too much by the fly trap jar.  I thought no more about the trap until my mate mentioned it.  The other morning when I came home from work just after sunrise I stood very close to the trap and looked at the mass of struggling near dead flies bogging themselves down in the mire of poo water now filled with dead comrades.  I stared at it for quite some time, set aglow by the distinct rays of the rising sun.  I stared at it until I was rather tired.  I stared at it until I realized that there is a rather unpleasant looking fungus spreading in the garden, up the bases of the sago palms.  I kicked the fungi around.  I went to bed.  I have considered the humiliation and disgust that someone wold feel if I were to pour the contents of the jar on someone.  I am certain the manufacturers would strongly advise against this.  I am not recommending you do that.  I am recommending the Victor M380 Fly Magnet 1-Quart Reusable Trap With Bait.  It has really cleared up the fly problem in just a matter of a week.  I haven\\'t noticed any odor, but it is in a well ventilated area, and my sense of smell is rather poor owing to a genetic predisposition to sinus allergies.  I have been tested.  I am not allergic to cats.': 1,\n",
       "         'I was so looking forward to having this trap kill all of the gnats taking over my plants and home! Did not happen! Kill off was one lonely gnat...and trap became so stinky I had to give up and dump product down the drain. Boooo!': 1,\n",
       "         'This product was of no use in catching the cluster flies that are a pest from September through January here in New England.  We set it up indoors in a spot frequented by scores of the little devils and not a one was drawn to his/her death in it.  I hope it works for other kinds of flies.': 1,\n",
       "         \"The first fly trap arrived missing the white square piece on the top,I tried to use it without it, but it didn't work at all. So Amazon shipped a whole new trap to me and I thought it would work better whole and the bait in the new unit was a different color, so I thought maybe the bait had been worng in the first unit and that's why I hadn't caught anything. Nope, even with a new unit and new bait, I still never caught one fly.  I left it up a week and it didn't work at all. I have no idea what the problem is.  I am back to using sticky fly stips, at least they catch flys. Don't waste your money on this thing.\": 1,\n",
       "         'the victor fly trap certainly is a fly magnet , it totally eliminated my fly problem the neighbors had a litter box on their back open porch and i was being invaded with pesty flies but thanks to the victor fly magnet problem solved thank you amazon for your support and web site for a easy purchase': 1,\n",
       "         \"I've just installed the third unit in our garage or outdoors on a tree branch.  In each case, after a few hours, the trap is surrounded by a swarm of flies practically going frantic to get inside.  They are ordinary house flies.  The numbers are shocking - they must be coming in from all over the county.<br /><br />The plastic bottle, screw-on lid, and little roof are quite rugged and would probably last indefinitely.  The unit comes with a length of wire that works nicely for hanging it from a ceiling fixture or small tree branch.<br /><br />The bait is a powder that you mix with water.  The smell is quite foul, rather like - well, you know what flies enjoy sitting on most.  It's definitely for outdoor use, although with ventilation you might place it in the garage or shed.<br /><br />My experience indicates it is wise to empty the bottle before it fills up completely with dead flies, living flies, and maggots.  This will be a disgusting task and the stink will be formidable - not something you'll want to do near the house.\": 1,\n",
       "         'I\\'ll go with <a href=\"http://www.amazon.com/gp/product/B000BQRQ8C\">Rescue Big Bag Fly Trap</a> in the future.  They helped my business stay in business.  No more flies after just a 2 weeks.  The only thing to watch out for is rain.  Cover your RESCUE traps when it rains.<br /><br />Simply put, every single big fly in the yard outsmarted the VICTOR trap.<br />Flies: 1<br />Victor: 0': 1,\n",
       "         \"I bought four of these from Amazon to get the free shipping since I don't ever want to pay shipping, and I was too lazy to drive to a retail store and buy just one to try.<br />Flys really bother me inside the the house, or in the garage. Now, I'm not so dumb as to think I could use these inside the house, but I thought inside the garage might work. The bait when mixed in warm water doesn't initially have much of a strong oder.<br />I put a trap in the garage and had no catches within a couple of hours, even though the garage was buzzing with critters. I then moved the trap outside, about 20 feet from the open door. That day I had several flys trapped. The next day I had even more. The trapping accelerated each day until on about day five I had a layer of 1+ inch of dead flys in the trap jar. Unfortunately, the stench of rotting flesh was now detectable at about 50 yards away, downwind. It appears that the bait is only to get the trapping started, and it's the dead flys that really draw more flys in. At this point I had to get rid of the stench; I could either bury the god-awful mess, or pour it into the sewer system (my choice). I then employed two traps with the same smelly results. I again used the two traps but started with left-over canned cat food (in water) as the bait. The cat food seemed to do as good as the purchased bait, and the end results were again the same.<br />After thinking it over, the removal of several dozens of outside flys that are immediately replaced from the countless numbers existing in the environment is hardly worth the trouble (and smell) of using the fly traps.\": 1,\n",
       "         'I tried using this product in the garage after purchasing at a farm store.  The traps made it smell like something died in the garage.  Two traps got 2 flies in 3 days and there were a LOT of flies around.  My kids swatted a lot more flies than these traps caught.  Then I placed them outside where one trap caught maybe 100 flies and the other caught 1 (in addition to the 2 it got in the garage).  But even outside the odor was so bad my husband asked me to get rid of the traps.': 1,\n",
       "         \"I live on a small property of a couple of acres and occasionally in the summertime, one of the kids will leave the back door open and we'll get some flies in the house.  I bought this thinking that it would attract all the flies in the house and catch them.  So far, it's been sitting in a sunny window for a week and it's only caught one fly.  I would say to save your money and buy a fly swatter.\": 1,\n",
       "         'This is a great product - works really well. It catches so many flies that I need to order more.': 1,\n",
       "         \"I have 5 dogs and plenty of fruit trees on my premises that attract plenty of flies during the summer. In desperate need to get rid of some of the flies, I purchased 3 different fly traps. This one is the WINNER! It took 3 days for this product to attract flies, but once it did it worked well. I have had this trap outside for 5 days and it is half way filled with those annoying flies. My yard is not fly free ,but I'm happy to see that I can get rid of some flies by simply hanging the trap on a tree.\": 1,\n",
       "         \"These traps work great.  Within 6 hours I already saw flies in the trap.  The trap was full within 2 or 3 days and the flies were still trying to get in.  If you're having a lot a trouble with flies, get several at a time.<br /><br />By the way, the stuff is pretty stinky if you are near by.  Be careful not spill it, or as unfortunately happened to me, let your dog get into it.  Not the worst smell know to mankind, but not something you'd want to voluntarily put up with either.\": 1,\n",
       "         'After a week or so there must have been a couple hundred dead flies in that trap.  This thing really works.': 1,\n",
       "         'Victor Disposable Fly Trap works.  Very easy to use.  We love how it catches flies.  Keeps our home/yard practically free of these pesty insects.  When full just take down and throw away.  No sprays, sticky paper.  Will continue to use.  Even our neighbor buys it after she saw how good ours worked and how easy it was to use.  A great product in our opinion.': 1,\n",
       "         'It does not catch flies, and it smells horrible!! In addition, it is extremely lightweight so it cannot withstand even the smallest amount of wind': 1,\n",
       "         'Left it outside, collected a whole bunch more flies outside but none in the container even though it was prepared exactly as detailed.  Stinks!  Threw it out.  Waste of money.': 1,\n",
       "         'This arrived with a broken top hook making it impossible to hang up. I placed it on a picnic table instead and after a week there is no noticeable difference in flying critters.': 1,\n",
       "         'it is using plastic cup so fragile and cheap.  Much weaker than normal plastic disposable cup.  I ended up throwing it away when fly comes out of the hole because it broke within few days.  Buy same brand, but not disposable type (Even this one you have to throw away after it is filled with flies because bait pack is not so cheap and it is nasty to empty it out - you would see thousand of flies and may be maggots)  However, the other unit by the same company works really well.': 1,\n",
       "         \"I LOVE THIS THING! I moved by the lake recently and have been having a problem with all kinds of bugs, but the flies piss me off the most with their diseases. I followed the simple directions and left this outside on my patio. After 1 day the entire top was almost filled with about 1 fly deep! So I'm guessing about 30-50 flies on day one.<br /><br />It's been about 4 days now and there are hundreds of flies in there! the new ones push the old ones down and the top layer is about 6-7 flies deep!!! There is also a layer of flies that floated all the way down to the bottom of the cup. This thing WORKS I'm about to order a 2nd one just for double the fly killing power!<br /><br />Just note it does smell like crap, but good thing this is an outdoors trap!<br /><br />TIP:<br />I bought this and the clear glue patches. Placed this trap on a big white cardboard poster. Then placed the glue traps around the cup, it's not pretty to look at, but adds to the fly stopping power.\": 1,\n",
       "         'This \"pint\" size container is nothing more then a \"to go cup\" and a flimsy one at that. Hard to secure the lid without crushing the cup - not worth the price. Better to order the Quart size version - much sturdier or make your own by drilling holes in quart jar of your own. The bait itself works really well.': 1,\n",
       "         'It has been sitting out for a week and the flies just sit on top of it or fly around it. Waste of money.': 1,\n",
       "         \"it's amazing how good this product works. it especially attracts blue bottles. definetely going to buy more of these.buy them you wont be disappointed.\": 1,\n",
       "         'It is early in the \"fly\" season and already I have noticed a bunch of flies hanging out around our patio. So, I put two of these out two days ago and I can happily report that there are only a couple flies out there right now, the rest are in the traps! YAY! So happy, these work great, will definitely buy more as the need arises.': 1,\n",
       "         'It works awesomely.  It also smells and is completely disgusting.  Why?  Because its filled with dead flies.  But thats why you are buying t after all...': 1,\n",
       "         'The Victor M502 Disposable Fly trap works great!!  I live in front of a Recreational Park and have more than my fair share of house flies.  Daily swatting them got to be too much of a hassle and thus the purchase of this fly trap.  Since I have put it out I have only had a couple of flies make it into the house and hundreds have been trapped and died. This trap has also attracted gnats.  I would greatly recommend this trap.': 1,\n",
       "         'Not very good. More like a gimmick. The cup was very flimsy, and did not kill for as long or as effective as other fly traps. I would definitely recommend to go another direction on this.': 1,\n",
       "         \"Great Traps. Great price w/ PRIME as well.<br />Read the instructions on the trap to optimize your trapping potential. Don't blame the rain when you forgot your umbrella.\": 1,\n",
       "         \"This fly trap is not worth the money.  It doesn't do the job at all.  The ones I bought else where were much better.  Don't buy them.  There are much better ones out there.\": 1,\n",
       "         'I dont know what all the good reviews were for. it is very small trap. i have had it out for two days and all it got was 1 bee. all the other flies are still flying around': 1,\n",
       "         \"I set two traps up near the spot that I would do the grilling this past Fourth of July Weekend.  This stuff really works.  It is quick to set up and doesn't have any unusual odor for an  outside product.  I could also detect that my two fly traps may have benefitted my neighbor and his outdoor grilling.  He did not have any flys to have to contend with.  I will be ordering a lot more of this product, in the near future.\": 1,\n",
       "         'This fly trap is beyond anything I had expected.  Oh, I saw the picture of one that was filled with flies, but I didn\\'t really believe that I would have that happen - but I did!  I hung a trap about 25 feet from my back door and it is almost FULL of flies.  I HATE having flies in my home and I haven\\'t had any come in.  They\\'re all fighting to be the next one into the trap!  LOL<br /><br />I\\'ll definitely be ordering more, because although these traps are reusable I find that a bit too gross.  The price is such that I\\'ll just buy new ones.  ;)<a href=\"http://www.amazon.com/gp/product/B00004RBDZ\">Victor M502 Disposable Fly Trap</a>': 1,\n",
       "         \"This is meant to be reusable but after staying outside last summer the plastic just became flimsy. What this means is I couldn't get the lid on it at all this year, it buckled and bent and ended up with a couple holes from the bending. Of course getting the lid on was a nasty struggle before once it's filled, the bait filled water will splash and I don't particularly like the idea of bacteria spores hatching on my hands. If the lid screwed on all this could be averted. It didn't come with a rain guard either.<br /><br />The bait itself works like a charm, can't complain about that. I think I might make my own container and just buy bait.\": 1,\n",
       "         \"I live in Panama and for three or four months each year we have fly season. I mean flies like you have never seen in your life. I hung several of these traps outside my house and in just a couple of weeks I had at least 4 or 5 inches of dead flies in each one. I don't know how many that is but it probably a thousand in each trap. I got a lot more than most as we have Toucans and parrots in cages outside and they attract a lot of flies. Be sure to keep them at least 30 feet or so from your house so that the flies stay away from your house. Plus the traps have a highly unpleasant odor for people but the flies love them.\": 1,\n",
       "         'We put this on our patio to keep flies out of the house when we use the back door, and it has really worked. No flies at all getting in now!<br />04-20-11 UPDATE: Stilll using these every Spring & Summer for a \"no fly zone\" around our patio. These work the best of all the fly traps we\\'ve tried!': 1,\n",
       "         \"Bought this to cut down on the amount of flies on our back porch.  Within a day it was a quarter full and practically to the top in a week.  Worked so well we'll be getting several more.  Substanially cut the amount of flies around the porch and house.<br />Extremely easy to use.. Just take off lid.. pour in dried attractant, add water to line on cup, snap on lid, fit on the second lid and hang.  Instructions say it takes a few hours for attractant to activate so you don't have to worry about smelling up the house.  Comes with everything you need.<br />We hung ours about 25 ft. from porch and as stated was full in a week.<br />You actually probably could reuse this trap if your not too squemish about dumping dead and dying flies and cleaning the cup all you'd need then is more attractant.  We just took down the trap and tied a plactic grocery bag around it and tossed the whole thing. At 5.99 not that bad of a loss but we'll probably move up to a larger size seeing it worked so well so quickly.\": 1,\n",
       "         'This product works exceptionally well-you will catch more flies than you ever thought you even had. HOWEVER-beware the smell! It will start to REALLY stink-like feces-when it is only half full and from feet away. DO NOT just toss it into regular trash or containers that are porous like plastic garbage cans because it is very hard to get the smell out. Bag it-double bag it! in plastic to get rid of it before adding to trash. So you only want new ones anywhere near where you sit-or eat-like a patio.<br /><br />I would not stop using them due to this though because as noted-they really work. But is why we changed from re-usable ones to disposable ones.': 1,\n",
       "         \"Unlike similar products of several other brands, this fly trap is one that really works.  I hung the unit from a hook in my garage ceiling two days ago, and there are already two inches of dead flies on top of the water.  The bait is somewhat smelly - vaguely like liquified barnyard manure - so it's best used outside of living areas.\": 1,\n",
       "         \"The Victor M380 and M502 traps are unreal -- total fly genocide. Pretty stinky, but I can only smell it if I'm right nearby (within a few feet).<br /><br />I just uploaded some photos. Be warned: they're pretty gross. But they show how effective the M502 is as a chamber of doom. I shot them after maybe a month and a half of use, just before I threw it away.<br /><br />Pro tip: the water can evaporate, so splash a little water in the top after a week or two, and then spin the trap a few times to mix it in. Really kicks the aroma back into high gear and gets another couple weeks of life -- I mean death -- out of it.\": 1,\n",
       "         \"Fantastic product. Smells like all hell, but once I hung it OUTSIDE my garage, the flies couldn't seem to get in it fast enough.\": 1,\n",
       "         'I have used the fly traps before. They work really well. I have horses ,so i have alot of flys.': 1,\n",
       "         'It was clumsy to  use, very smelly and did not work well. I ended up throwing it  away as it was no longer catching any flies after only a few weeks. It was promised to last for three months but it quit catching flies after only two or three weeks.<br /><br />The older Victor fly traps worked much better but are now unobtainable. They had a black screw on cap with a bright yellow dome shaped cover and a little black fly that perched on top and held it together. For the bottom they used a quart mason jar which was easy to fill. They were also easier to empty and start over when they did begin to smell. I wish that someone would manufacture them again.': 1,\n",
       "         \"I was using another fly trap-the one with the bag.  Tried this one because fit was half the price.  It's more than twice as good.  The results were unbelievable.  It doesn't smell either.\": 1,\n",
       "         \"Ecellent.  Very easy set up and it started to trap the flies immediately.  We caught dozens of flies in just a few days.  And it isn't even placed where there are many flies around.  Would purchase it again.\": 1,\n",
       "         \"These fly traps get 5 stars, except that in our Texas heat they evaporate too quickly. I'm going to try the gallon size and see if that stays effective longer for us. We can't live outdoors without these!!\": 1,\n",
       "         'I have two dogs and the flies are always around.  These fly traps work very well with no smell.': 1,\n",
       "         'I have some large fly traps around the yard but they are too gross and smelly to have by the house. This one is great up on my porch.': 1,\n",
       "         \"This product is so AMAZING that I just had to scream to the top of the mountain about how good this trap works. We compost - everything - and when you include meat/fish scraps in your compost you get a ton of flies. I've tried everything: salt, baking powder, lime/vinegar solutions and nothing really worked. I put out this trap and within a day the trap was a quarter full. I highly recommend! Only one word of advise - don't open the powder packet in your house, it stinks!!! Do it outside and you'll be all good.\": 1,\n",
       "         'I bought two types of traps, this (Victor) and the \"Rescue FTA-SF4 Reuseable Fly Trap with Attractant\" with the green screwtop. The Victor one filled up with flies in just 3 days while the green lidded one had &lt;10 flies in it. The baits smell differently....so, I\\'ve order the Victor bait to put into the green trap to see if that works any better.<br /><br />I\\'ve been re-using the traps and bait water by sieving out the flies, pouring the liquid back into the trap, and adding more water. Four re-uses later, it\\'s still going strong.<br /><br />Note - this trap traps those big flies that look for stinky stuff - not the smaller flies that just fly in circles!': 1,\n",
       "         'We bought one of these in August & it worked so well that we just bought 2 more. We have 3 Dachshunds & a small back yard in the \"burbs\". We tend to get a lot of flies in the summer that ultimately make it into our house. We put the fly trap in a tree & filled it with water. The next day we checked & it had not only flies but a few wasps in it! None of the other products we tried worked this well. It will be cold enough soon in Colorado so we won\\'t have to worry until next spring but we will be prepared. I would highly recommend this product. Just don\\'t put it next to where you would be able to smell it. That\\'s what attracts the flies, the smell. The flies go in and they don\\'t come out. We stored the 2 we just bought and will have them on hand for next Spring. This is a product we don\\'t want to be without.': 1,\n",
       "         'I have bought three of these to date.  they are incredible.  i must have cuaght over 1000 flies with each of these things.  they do smell because of the flies after a week or so, so put it enough away from your house (which actually attracts flies).  Kudos!': 1,\n",
       "         \"This works.  I will order it again.  But I will anchor it better so it doesn't blow away.  I lost it in a wind storm.  It smells pretty bad, but it also works in the house.  I brought it indoors and set it in the bathtub when the flies were particularly obnoxious inside.  Opened the (screened) window in the bathroom, and they flocked to it in there.  I set it back outside after a while, when I could begin to smell it.  I wouldn't keep it in the house with windows closed, however.  Phew!!!\": 1,\n",
       "         'Put this right next to my outdoor trash can, flies all around - did not trap one fly in over one week. HOWEVER, I am updating this review...it did take over a week to start working, but when it did, it did what it is supposed to!': 1,\n",
       "         \"If you're buying this device for cluster flies, save your money.  We've had it up for a week in different places around the house and the only thing inside it is a hapless ladybug that wandered into it.  Hundreds of cluster flies cloud our windows and divebomb us as we walk from room to room.  A bug zapper has been the better approach for euthanizing these annoying insects.\": 1,\n",
       "         \"The cup hanger broke after a few days of hanging in a fly infested area.  The cup didn't catch a single fly and ended up in the garbage. Sad to say, I resorted to poison sprays and sticky tape.\": 1,\n",
       "         'Put it out and it immediately started catching flies like crazy.  Love it. And the smell is not a problem.': 1,\n",
       "         \"This thing smells like trash, which I can only assume is intentional, and doesn't trap flies.  I had no success.\": 1,\n",
       "         'My fly trap did not come with the white cover as pictured, so when hung outside it collects and fills with rain water.  However, before or after being filled with excess rain water, it failed to catch any flies.': 1,\n",
       "         \"We opened it and set it up and put in on the counter while we were gone for the weekend.  When I came back there were no flies inside it.  I had to use a fly swatter to kill a few flies before book club ladies came over.  I then put the fly trap in the garage on a shelf.  I forgot about it.  For days afterward I smelled a dead sort of smell and thought a small animal died somewhere in my garage.  I looked for days.  Then I realized what the smell was and felt pretty stupid.  The thing stinks!!  You don't want it in your house or around kids.\": 1,\n",
       "         'These are total crap. Did not catch one fly. Followed directions to the letter, no results. Complete rip off. Beware.': 1,\n",
       "         \"I installed this trap in my backyard and it is working great. It was installed on Friday and within 4 days, it's trapped probably 100 flies and is still working away. It takes a few hours to activate but starts working almost immediately. If you have a fly problem, try this and you'll be happy.\": 1,\n",
       "         'I have two dogs in my back yard and I can never seam to keep the flies off of them. This year was really bad, before I got this trap they had 3 types of fly repellent on them and they still were getting over ran by flies. I got this trap because the only bad review was about the small and I was willing to try anything that was only around $6. I have to say that I love this trap when I first mixed the trap the water was green and for the first day and only got 1 or 2 flies, but after that the water turned yellow and then the flood gates opened. By the end of day 2 there were at least 100 and within about 3 maybe 4 days there were so many flies that they went able to get to the poison but still were stuck in the cup. After that the fly around my house were gone for about a week but are starting to come back. I will be getting many more of the Victor fly traps for the rest of this year and all of next.': 1,\n",
       "         \"I put this trap up with about 1/4 of the food they tell you on the instructions to put it. The flies and hornets have been all over it for 2 weeks and I haven't even changed the food and water yet! All I see are black nasty dead flies and bees in the bottom of the cup. Only thing is the cup is a little small. Luckily, I also bought a larger fly trap: Flies Be Gone Fly Trap Kills Up To 20000 Flies Per Bag for $15 and I do like this alternate larger one better. They give you WAAAY more food and I only used 1/10th of the required food, so I have tons left over. I like the bigger bag because it fits more flies in and seems to attract slightly more. :D But either one are good. The small one looks better, the big one fits more flies and bees.\": 1,\n",
       "         \"This trap is amazing, it catches flies every day until the thing is just full of them.  I really had no idea there were even that many flies around our backyard, but it's because of our dog.  It does noticeably reduce the number of flies coming into our house when we open the patio door or buzzing around the dog food.  I just recommend getting several because once the water fills up fully with flies then it's not going to catch them anymore.  I've gone through several already and just ordered some more.\": 1,\n",
       "         \"It's didn't work like proper food coloring at all. It ruined my red velvet cake and it is also a very messy product.\": 1,\n",
       "         'I searched on Amazon using \"Organic food coloring\" and these were #2 on the list.  Amazon needs to list the ingredients online.  They are not organic or even natural.  They are just regular food coloring.  Now I get to deal with returning them.': 1,\n",
       "         \"These dyes create awesome colors for kids crafts. I have used them to make finger paint, paint, play dough, and salt dough.<br /><br />Another reviewer stated that they are not natural - this is CORRECT. They are definitely artificial dyes. I tried making my own dyes, and when that fell through, these worked great in a pinch. You only need a couple drops for really vibrant color. And they are pretty easy to clean - don't stain after they've been made into whatever craft.<br /><br />Good product for the price!\": 1,\n",
       "         \"I just used these for the first time when decorating gingerbread cookies for a chidlren's holiday party.  Mixed with royal icing, the colors were much more vivid than the normal liquid coloring that I have used in the past and the little containers were extremely easy to use with no mess or fuss in getting the right amount.  I am quite pleased with this product so far and look forward to experimenting with more colors in the future.\": 1,\n",
       "         'I love these colors. You can mix them to get different colors. Beautiful! So happy.': 1,\n",
       "         \"My only complaint about this product is that sometimes it is difficult to squeeze just a very small amount from the bottle into the mixture to be colored.  I don't do massive amounts of baking, and I find that sometimes it is really hard to get a very light color when adding this product to very small quantities of mixture.  However, the colors are very bright and I was very pleased to find that the color is evenly distributed throughout the mixture.  I thought this product was a little pricy, but after trying it out, I do believe that it was worth the extra money.  The product seems of high quality and it shows in my cooking whenever I want to add some color to things.\": 1,\n",
       "         \"Sorry I didn't take a pix of the cake I made. The red and blue were true to form , not baby pink and blue. I will never use the liquid food coloring again.\": 1,\n",
       "         'This are so much easier to use than the Wilson paste colors.  Colors are  vibrant, and do not taint the frosting like some colors can.  These are  simple to use, and do not make a mess.  My only complaint is that I did not  find these years ago.  This is a must have if you decorate often!': 1,\n",
       "         'I love that this has the pour feature. NO MESS like the others. With this you have control of the color.': 1,\n",
       "         \"I made brightly-colored cupcakes with these, using only a couple of drops - you don't need to use a lot to achieve a bright color. My only complaint is that they don't come with a guide laying out how many drops of what color combination are needed to achieve a specific new color. Other than that, they are definitely worth it and much better than the cheap ones you find at the grocery store.\": 1,\n",
       "         \"So far I've colored meringues, a cake, and buttercream icing.  The colors are solid - not at all wishy-washy.  You dont need to use too much though I wouldnt worry about applying with a toothpick as some writers suggest unless you are doing something very small or want a very specific shade.  I didnt try mixing them.  Very pleased with the results and the set of 6 gives a good range of color/shade options.\": 1,\n",
       "         \"I've used this to color fondant for three cakes so far & the color is really great. You get the depth of the color you are looking for. Just a hint of color gives you so much mileage. Worth the $$ !\": 1,\n",
       "         'Love this stuff!!! I only need a minuscule about to change color of any cake mix! Going to make my twins a rainbow cake for their first birthday-these are perfect :)': 1,\n",
       "         'This is a nice basic selection of gel food colorings which you can make all the basic colors you would need for a beginner.  They mix well with frostings and do not make the frosting runny as with liquid colors.': 1,\n",
       "         \"I'm sick of scads of nasty toothpicks all over my counter when I'm tinting icings;  the squeeze-bottle concept is one that is long overdue and exceptionally welcome.  The colors are vibrant, do not have an offensive taste, and blend, in my opinion, more smoothly than the Wilton pastes.  You'll need to experiment a bit to get hues right at first, but it's well worth it.\": 1,\n",
       "         \"I don't know why anyone would ever use those little liquid food colors again after trying these pastes. The colors are more intense, and you can easily blend lovely shades for your icings. <p>Martha Stewart shows wonderful seasonal cookies from time to time on her TV show. A simple eggwhite-sugar icing on cookies in exciting colors makes such a wonderful table decoration as well as great dessert for parties, teas and other events. These paste colors are a must if you like to make frosted cookies or party cakes. <p>And these are especially fun if you have kids. A cookie-icing contest is a fun event for a birthday party, Christmas party or just a rainy afternoon.\": 1,\n",
       "         \"This is the second time I have bought this set.  The colors are marvelous and can be diluted with icing or even vodka for painting cookies.  Depending on how much decorating you do, this set will last you quite a while.  One word of caution:  the colors are strong;  wear an apron and gloves if you're afraid of stains, because it doesn't remove easily!\": 1,\n",
       "         \"These are the best food colorings I have ever used! The colors are so bright and vivid. Much better than the typical food colorings sold at the grocery store. I've made several rainbow cakes, cupcakes and pancakes using these dyes. My friends are always impressed at how gorgeous the colors are. I highly recommend this kit and would definitely buy again.\": 1,\n",
       "         'I had never used this brand of coloring. They are very true colors, and not messy to use.': 1,\n",
       "         'Pros:<br />- Nice selection of colors<br />- Bottles are easy to dispense from (lid flips open & gel squeezes out a small opening, allowing you to add just a drop or a whole squeeze)<br />- Gels add nice vibrant color with just a little to get strong deep color - not like you have to use the whole bottle at once.<br /><br />Cons:<br />- None that I have found so far!': 1,\n",
       "         'These are vibrant and awesome colors, I will never again buy any other food color and I am throwing away all the others I have!': 1,\n",
       "         \"I originally bought these to use in pastry school, and have ended up using them on the job quite a bit.  The consistency of the gel is excellent, pretty much neutral, and so has little impact on the texture of the batter/gum paste/rolled fondant/etc.  The containers themselves are superior to the Wilton containers, as these have a hinged lid with a hole underneath, for easy squeezing.  The Wilton brand has solid caps, and so require the extra step of grabbing a toothpick or some other tool to dose it out with.  This may seem like a minor concern to some, but it's a definite selling point for me.\": 1,\n",
       "         \"I'll admit it.  I am a food coloring novice.  For my entire life, I only thought food coloring came in 4 colors.  Bright red, bright yellow, bright blue and bright green.  If you wanted orange, you had to mix the red and yellow.  And if you accidentally added too much yellow, you had to add more red.  But then you could accidentally add too much red and have to add more yellow until you have a whole bowl of orange food coloring and all you wanted was to color a little bit of frosting so you could put it on a dozen cookies.<br /><br />Happily, I was wrong.  There aren't just 4 colors of food coloring.  There are at least 12.  And I bought them.  Not only did I buy them, I used them and loved them.  I little of this food coloring goes a long way.  Long gone are the days where you end up making gallons of coloring for a dozen cookies.  Gone are the days where you could never get the color just right without having to sand your table and rip out the grout of the tile on the floor because the coloring is everywhere after you tried to mix them.  These are amazing times where you open up the color you want and add just the right amount of exactly the color you were looking for.<br /><br />This is a great product and I highly recommend it to anyone who is looking to color their food.\": 1,\n",
       "         \"I bought this set mainly for the red.  I bake and decorate with frosting/icing quite a bit, so I was excited to get so many colors that were supposed to be of better quality than Wilton.  I used an entire bottle of red in 3 cups of buttercream frosting.  The darkest it would get was a watermelon color.  By the time I got to that point, my frosting had broken and looked terrible.  The royal blue wasn't much better.  The only reason I didn't give it one star is because I haven't used all of the colors yet, just red and blue.  I will stick with store bought red frosting and Wilton gel colors for everything else.\": 1,\n",
       "         \"I could spend a year explaining how delightful it is to have all these colors and they are a good quality and excellent value. My daughter who loves to bake turned me on to these.<br />You will have so much fun controlling and mixing and being a color scientist.  They blend well, mix well, have a  good consistency and came delivered well packaged and make Easter a whole new thing. Have to get some chickens to keep up with the color combo's/\": 1,\n",
       "         'I bought these to decorate some dia de los muertos skulls with icing.  The Ateco food coloring gave nice bright, vibrant colors and mixed with the icing very well. I was totally satisfied with the purchase.': 1,\n",
       "         'I am glad that Amazon has a record of my orders, because we will order this again when we run out.  I use colorants for everything from frosting to soaps, and I haven spent a lot of money on colorants.  I even bought several of the Wilton gels and really, really hated them,  I found them messy to use and some of the gels tasted bad when you wanted a dark color, so I was looking for an alternative.  This gel seems to mix with everything and even dark colors taste good.  We made a rainbow cake and colored the cake batter and we did very dark colors. The day of the party, the cake tastes great - no detection of colorant bitterness, but 2-day old cake will seem to have a strange taste, maybe the color finally settling in.  The colors are great, and because they are dropper bottles, you can control the amount - they are very concentrated pigments, so one drop will do wonders.  If you want really dark colors, you will probably achieve it with just a few drops, but beware, it will, like other colorants, stain your countertop, fingers, tongue, skin, so plan on it and protect your counters, etc.  We are used to this, but obviously, wipe spills quickly.  Again, seems to be a no-taste colorant in a convenient dropper bottle with a lot of color choices, to save you mixing for the right shade.': 1,\n",
       "         \"These food dyes work great. Colors are accurate and don't run. We use it to add some color to our home made yogurt.\": 1,\n",
       "         'bought one of these -- really liked the colors!  not like the liquid -- blends really well.': 1,\n",
       "         \"Colors were brilliant.  After my gel colors in the little jars had dried up, I was looking for another type of food coloring and these have met my needs.  Love having just to squeeze drops out of the bottles rather than messing with toothpicks.  This is the clean and easy way to use food coloring.  Would highly recommend it.  Haven't used all the colors yet but by Easter, they will be used.\": 1,\n",
       "         \"Unlike other sold on the grocery store food coloring, this one is very concentrated. Just use the toothpick to pick a bit at the tip of the mouth, then create beautiful color. The label on the bottle has description of the ingredient, each is 0.75oz size. I don't use it for food, I use it for my son fun playing like mixing color, add to shaving cream, spray bottle for fun. A good buy.\": 1,\n",
       "         'My food coloring order arrived and the color selection was well represented as expected; no problems; I would definitely re-order this product.': 1,\n",
       "         'This product will give you a variety of colors that you can use in food,  coloring Easter eggs, or just about anything  you want.  Excellent product': 1,\n",
       "         'I just started cake decorating so these are my first \"professional\" colors and I was really happy with the results. I colored fondant and gumpaste and overall it was a good experience. I would have given 5 stars if the bottles were a little easier to get a drop out of, for instance if the bottle cap had a conical shape like Visine rather than a flat cap. That is very minor though and these are very nice colors for a reasonable price.': 1,\n",
       "         'The spectra paste food colors are simply fantastic. They provide a depth and clarity of color that is impossible to achieve with liquid food colors. And the hues are beautiful and distinctive. The black and red, two colors which are very difficult to get when dying frostings, etc. are especially nice - probably the best of any manufacturer I have tried.<p>For those who had questions, I am not 100% certain about the sizes, but if the set is the same as mine, the bottles are 3/4 ounce. While that might not seem like much, all you need is a dot of this thick gel paste at the end of a toothpick to color large amounts of material. So there is plenty of coloring ability in each bottle - many, many times more than a same sized liquid food color bottle. <p>Highly recommended and at a really good price at the time of this review.': 1,\n",
       "         \"When i opened the box, i noticed that i had 2 same royal blues?? (Lucky for me i have 3 boys) However i am happy with the colours. They are vibrant and you don't need to use a lot of it.  There a gel like consistancy which i like.\": 1,\n",
       "         \"I'm really glad I bought the Ateco 12-Color Food Coloring Kit.  I found it searching for Black food coloring for my Halloween cookies.  I just finished my Christmas cookies which turned out amazingly thanks to this food coloring kit.<p>Each color is very bright and solid.  The pastes mix very well with frosting (I have not used them for anything else yet).  These are the nicest/brightest Christmas sugar cookies I have ever made.<p>You don't need to use a lot of coloring, just a drop or two, to get the perfect shade.  As such, each bottle will last a long time.\": 1,\n",
       "         'For those wondering, the bottles are each 3/4 oz. and they are a gel food color. <p>Very vibrant, the amount goes far for me.': 1,\n",
       "         'These are easy to use, they do not make a mess, and offer vibrant colors.  They do not taint what you are decorting as some colors can.  I would  highly recommend these to anyone to likes to decorate.': 1,\n",
       "         \"Needed food coloring to dye various things and I'd say it worked well for the purpose. I won't be going back to those liquid colors that take bunches of drops and just don't have as strong of a color.\": 1,\n",
       "         'Beautiful bold colors.  Exactly what I wanted.  I will definitely order some individual colors.  I use this to color my water pearls and they look amazing.': 1,\n",
       "         'Having never purchased any other colors than the liquid food colorings available at the grocery store, I was unsure of what to expect with these gel colors. All I can say is \"Wow!\" The colors are vibrant and blend in smoothly with whatever I\\'m making. None of them taste funny, which is good when you\\'re really adding a lot to ramp up the color boldness. I was even pleased with the black color, which I have read can be purple or blue. This version looks very good when mixed into frostings and batters.': 1,\n",
       "         'Very good little set of colors. Very vibrant colors as well. Great price when compared to supermarket.<br />I am very pleased.': 1,\n",
       "         'Very pretty colors, true to their labels. This was one of the only brands I could find that offered the fuchsia that I needed at the time, and the color turned out great.': 1,\n",
       "         'This is a wonderful color assortment for any decorator.  The colors blend in well and can be easily combined to create more variations.': 1,\n",
       "         'I make a LOT of cupcakes for friends for all occasions. Love to color the frosting with these. Very true colors. Well worth it!!': 1,\n",
       "         \"You really<br /><br />I'll go into more detail as I try the various shades.<br />I lovelovelove gel food coloring!<br />They don't get funky tasting and not being liquid, it doesn't change<br />the consistency of the food you are putting them in.<br /><br />Pay attention to what colors you are buying in any given listing.<br />I thought the sets were the same and just sold by QUANTITY, like 12 bottles.<br />I was wrong, and the sets vary. (I found this out by ordering a set I would not<br />have necessarily ordered!)<br /><br />Also, in this listing, the colors are listed only as basic tones.<br />Please check out the photo see what AmeriColors are you are really receiving.<br />There are a LOT of shades of blue, pink, green, etc, and you might already have<br />the shades included in this one.<br /><br />If I am reading the bottles in the photo correctly, this purchase will give you the following colors:<br />SKY BLUE<br />DEEP PINK<br />CHOCOLATE BROWN<br />SUPER RED<br />LEMON YELLOW<br />TEAL<br />ROYAL BLUE<br />FUCHSIA<br />LEAF GREEN<br />VIOLET<br />ORANGE<br />SUPER BLUE<br /><br />I'm a little surprised that even the Amazon description didn't bother to note the named colors!<br /><br />Anyway, these are great colorings, just be sure of what colors you are purchasing when you shop online!\": 1,\n",
       "         'excellent product. met my expectations<br />the colors are very vibrant and mix well<br />product is of high-quality, no inconsistency': 1,\n",
       "         \"Much better than the Wilton stuff you get at craft stores. Mixes in quickly in to frosting and homemade marshmallow fondant. I don't have to use nearly as much of this as the Wilton brand.\": 1,\n",
       "         'These colors are very vibrant and do not water down your icing.  I love the little squeeze bottles - no more digging out color with a tooth pick.  They are also good for painting fondant - just add a little vodka, which makes it dry fast.': 1,\n",
       "         'I purchased this product for water coloring for laboratory purposes. Although it does fulfill this task pretty well, it contains glucose, which sometimes gets stuck in the lab equipment. A similar product containing only colorant would be better for this application.': 1,\n",
       "         'I located this product in a search for dye free food coloring.  After a call to the company, these produts are full of food dyes that are chemically based, not naturally based.  Beware if you are looking to keep dyes out of your food.': 1,\n",
       "         \"I'm going to have to find more baking projects to use with these colors.  They're lovely vibrant colors that are quite strong.  One drop colors quite a bit.  It's nice to have these 12 colors ready to go without mixing.  Especially when you get to the peachy colors it's hard to get right.\": 1,\n",
       "         'Very vibrant colors....the box makes it easy to store...I wish the coloring was a little bit thicker tho...you have to be careful not to use too much...would definately recommend this item overall!!': 1,\n",
       "         \"This product is great. The colors are very nice. I just have a question about the exp.date. There wasn't any on the package..\": 1,\n",
       "         \"These are an amazing set of coloring dyes. I've used wilton dyes and they are a pain. You have to use something to get the dye out but make sure no food gets into the coloring. These dyes are much, much easier to use, just squeeze the bottle. There is no mess at all and you can have more control over how much color you add. Also these squeeze bottle's make it easier to repeat the colors more accuratly just count the drop's.\": 1,\n",
       "         \"I haven't used all the colors yet, but most of them are a good pure color. the exception is red. (isn't it always red).  I was using these colors for color flow work and the red came out salmon colored.  I thought it may dry darker, but it stayed the same color. I will try again to see if I can get it darker. other than that I am very pleased with this purchase.\": 1,\n",
       "         'Love it, love it, love it!  So much more wonderful than those of the grocery store.  I can be so much more creative and different!  Thank you for making such a thing!': 1,\n",
       "         'This product is awesome!  It takes just a few drops to get a fabulous color!  It is very easy to work with!  I loved them!': 1,\n",
       "         \"These Ateco colors are wonderful and blend into batters and icings seamlessly.  This is a good basic kit to start with. Ateco makes MANY other colors but this one will give you plenty of options and last a long time.  The colors are so concentrated that just one drop can give a whole bowl of icing a nice shade.  It's easy to get carried away with squeezing the drops out quickly but try and go one drop at a time and wait and check the resulting color after the icing blends.  For the darker colors, like red and black, you DO need to add a lot more than a couple of drops. When I want to make my royal icing bright red for Christmas cookie decorating, I sometimes use 10 or more drops for a medium bowl of icing.  I just keep adding till I like the color BUT keep in mind that the darker colors of red and black will darken MORE after they sit for awhile so make your icing a few hours before you need to use it (be sure to keep it covered to prevent drying out).\": 1,\n",
       "         'I am happy with the colors. However, a little disappointed by how much color you need to put. I use it to color playdough and discovered that you need quite a bit to make a decent color.': 1,\n",
       "         'I am an average baker and used these for cupcake icing.  So far I am extremely pleased.  One single drop colored about a cup of white frosting a pleasing pink.  In an attempt to get black, I used 7 or 8 drops of black but ended up with dark grey.  A few more drops would have probably done it. Each bottle is 3/4 of an ounce but using them one drop at a time should make them last for years.  These do not compare to the store bought mccormick coloring- I will never buy them again!': 1,\n",
       "         \"Would love to try this after the rave reviews.  Did I miss something or does the description NOT list the colors included or the amount of each color. Gave the product 5 stars .  Can't be critical of something I haven't tried but Amazon's description gets a minus.\": 1,\n",
       "         'Great, vibrant colors in a very usable palette. Blends easily in fondant, icing and marcipan alike. Just a tiny drop is sufficient for an entire batch, which makes it extremely cost efficient. Shipped and delivered in Norway after just three days.': 1,\n",
       "         \"I've only used two colors so far - leaf green and royal blue.  I was super impressed with both colors though and the fact that it didn't take much gel to achieve a rich color.  This far surpased the Wilton gels I've been using in the past!<br /><br />I ended up running out of green frosting and had to color a second batch and it was amazingly simple to get a good color match between the two different batches.  I'm wondering if adding more gel would have made it a darker green or if I would have always ended up with close to the same shade of green...<br /><br />I think to really maximize the use of this product to get full color spectrums would be easy with a color mixing chart!\": 1,\n",
       "         \"I ordered this to try because of all the great reviews, but was not pleased with the outcome.  The color didn't seem to be any different than what I could get using Wilton icing coloring.  Also my icing started to separate in the bag while I was trying to decorate the cake which also made it darker than the icing I had already put on the cake.  I guess it was separating from the heat of my hands holding the bag.  I have never had this problem with the Wilton colors.  I guess I will continue to look for a coloring that can make my icing brighter and darker shades.\": 1,\n",
       "         'I was amazed at the colors I was able to achieve with this food coloring.  I have used it on a cake - red, blue, green, yellow, and purple - each color was beautiful.  I also made cupcakes with a brillant blue icing.  No change in consistancy or taste in the frosting. I will not go back to the \"other\" brand.': 1,\n",
       "         'I have only used one color so far, but the results were amazing!  I used a very, very tiny amount of pink to a batch of butter cream icing and the result was a beautiful and rich colored icing that my granddaughter loved!  Highly recommend this food coloring--much better results than I had from the Wilton food coloring paste.  I look forward to baking my Christmas cookies and trying the other colors!': 1,\n",
       "         'It was while at a friends home watching her use the grocery store food colour she had bought that I was reminded of why I love these Ateco full spectrum food colours. I am very very French in what I eat and how I bake and the products I need/want/use.<br /><br />Being a gel, you need less and the colours can be soft or bold.  If you are new to the gel I recommend using a toothpick to get a wee bit to mix in the dough, frosting, candy, cake, cookie you are making to better see if you actually need more.<br /><br />I love the violet for when I make my B&eacute;reng&egrave;re Abraham French macarons which calls for purple food colour to match the violet extract flavor.  Or green for when I make his Pistachio or  Kiwi macarons.  And the orange colour is magnificent and is used for one of my favorite orange liqueur frostings.<br /><br />Fact is these food colours are unlike any run of the mill food colour.<br /><br />They have the USA-K symbol on the box which I denotes kosher in the USA.': 1,\n",
       "         \"Absolutely better than all of the resto.  Wilton didn't even do as good of a job.  The colors from Ateco held true.  Some of Wilton's changed colors after drying out.  Also, the advantagae of squeezing the coloring out, instead of using a toothpick with paste is huge!  I am definitely a return customer for Ateco, now.\": 1,\n",
       "         'I used this food coloring for dyeing wool fabric for rug hooking.  It was fabulous.  Not only was it easy to use, but it was food safe and made an unending variety of brilliant colours.  Ateco was easily mixed with boiling water and used for spot dyeing and caserole dyeing.  The variety of colours was perfect, and I will buy them again.<br /><br />Mari': 1,\n",
       "         \"I have to start a course of chemotherapy; and my dentist recommended this gum to me to chew during the months I am on chemo. I am impressed with this gum because of its way of using natural enzyme protection to relieve dry mouth and protect your teeth from decay during cancer treatment.<br /><br />Oh yes, it's true--the gum loses it mild mint flavor pretty quickly--after just about a minute! However, if you want to protect your mouth during chemo, it certainly couldn't hurt to at least chew this gum some of the time. It beats getting cavities. At 44 I still have no cavities and I'm not about to start now!<br /><br />You do need to chew two pieces of this gum at the same time. One piece will be too small and you could accidentally swallow it, I suppose.<br /><br />The two pieces of gum have a total of five calories, so don't be concerned about that. It is sweetened with xylitol.<br /><br />Overall, this gum can save you from dry mouth and tooth decay during a course of cancer therapy such as chemo. It may work well if you need radiation therapy, too. It's not a fun type of bubble gum, (how I wish that it were) but it does what it sets out to do--protect your mouth from decay during a course of chemo treatment.<br /><br />Ask your dentist if you have any questions.\": 1,\n",
       "         'As a dentist I see many patients that have dry mouth as a result of medication use or due to cancer radiation therapy of the head and neck area.  I ALWAYS RECOMMEND BIOTENE CHEWING GUM FOR THESE PATIENTS.  Biotene is a biocompatible gum that has natural salivary enzymes that help remove plaque from the teeth.  Gum chewing also stimulates saliva release and any natural saliva that can be produced is of benefit.<br /><br />This is a great product for those with dry mouths and I highly recommend it.<br /><br />Jim \"Konedog\" Koenig, DDS': 1,\n",
       "         \"This stuff is expensive, doesn't stay soft & loses flavor quickly.  I could deal with all that if it worked but I just don't think it works any better to relieve dry mouth than regular sugar-free gum.\": 1,\n",
       "         \"It's just as described. Its minty, helps with my mild-dry mouth and provides refreshment.<br />I'd recommend and/or purchase this again.\": 1,\n",
       "         \"If you haven't tried this tea, PLEASE stop what you're doing and order it now.  It tastes ok, but it does WONDERS for stuffed/dry sinuses.  It's very soothing - great for sore throats or congestion.<br /><br />...and it's MUCH better for you than NyQuill.\": 1,\n",
       "         'As soon as I take a sip or two I can feel a sort of wash and openness in my lungs.  Definitely causes one to \"breathe easy.\"  Have a hot tea or add a tea bag or two to your iced tea bags.  Very healthy stuff in there.': 1,\n",
       "         \"We have been using this tea for years for chest congestion and nagging coughs.  The ingredients are gentle and very pleasant tasting and work great to temporarily relieve a cough.<br /><br />As licorice root and fennel are two of its main ingredients, it definitely has a very slight (but not at all overpowering) licorice flavor.  You can also taste slight blends of eucalyptus, peppermint and ginger (which help to settle your stomach as well as relieve other cold symptoms you might be experiencing).<br /><br />Obviously, if any symptoms are very long term, nothing replaces a doctor's care, but this can definitely help with some short term, common cold or flu cough symptoms.<br /><br />Also great for a vocal boost for singers/actors before a performance!\": 1,\n",
       "         'For those of us with pulmonary conditions [e.g., asthma]  this tea is great!  And, as a tea lover, I have used it successfully  and enjoyed so doing.': 1,\n",
       "         'My husband has asthma. He uses peventative inhalers along with inhalers when an attack occurs. When the attack is severe he will go into the bathroom and turn the shower on hot, to inhale the steam.  Even doing all of this, the attack will continue until I prepare him the Breathe Easy Herbal Tea.  Within minutes after drinking the tea the asthma settles down. I ALWAYS carry a tea bag with me.  I never leave the house to go anywhere without the tea.  IT IS A LIFE SAVER!!!!!<br />Even if you do not have asthma the tea will also help you breathe better with respiratory infections.  Just recently I had the flu for several weeks with much coughing the tea was AWESOME.  A MUST HAVE FOR ANY BREATHING AILMENT.............': 1,\n",
       "         'I have been battling a Sever Sinus/allergy actual infectio since 9/12/12...a couple more days and it will be narly 3 weeks.  I have been on acould antibotics that started to help, but alas to no avail.  Thank the Lord my dr. Had samples today of what I used to take as it was VERY expensive (no ins right now).  The tea is grea warm and is helping a great deal for the in between times.  Warm is the best but u can make a small pot of it & I add sugar and then stick it the fridge to go with me other places.  It feels wonnderful & the effects last a good long while.': 1,\n",
       "         \"This is a great tea. Flavor is good, works well, priced right and fast shipping. If you like herbal teas, try it, you'll like it.\": 1,\n",
       "         'After being introduced to this brand of tea I found myself hooked and has been using it religiously.': 1,\n",
       "         '<a href=\"http://www.amazon.com/gp/product/B00005344V\">Traditional Medicinals Breathe Easy, 16-Count Boxes (Pack of 6)</a><br />The product was delivered quickly, at the advertised price & same as what I pay more for at the retail store, especially with no shipping cost added on.': 1,\n",
       "         'I have allergy-induced asthma. Perhaps this particular type is not affected by tea, because I see no change. However, this is my favorite tea ever. I have many tea-boxes that sit in my cabinets for years. This box lasts for a month before I have to replace. Anise/licorice root is wonderful!': 1,\n",
       "         \"I purchased this product recently for my teenaged son's recurring asthma--imagine my delight and relief with finally finding something herbal that not only works but works rapidly!  This tea is quick and easy to prepare, relieves chest constriction, opens up the airways, and clears up my son's wheezing. Thank you, Traditional Medicinals, for keeping us out of the doctor's office and steroid free!\": 1,\n",
       "         'It opens nasal passages very quickly.  It also eliminates seasonal allergy symptoms.  Amazing!': 1,\n",
       "         \"Traditional Medicinals is the best tasting herbal tea out there that I have tried. I have tried the Yogi teas before and did not care for them. I bought the Traditionals Breathe Easy and the Gypsy Cold Care. I take the breathe easy whenever I feel congested or like now when I had a coughing attack from some scent. My throat felt irritated and my chest felt achey and wheezy. Brewed a cup of this tea with some honey and it was so delicious and soothing. I don't know if its the way it makes you feel when you drink it because it tastes so good, or if the herbs really do help but I do feel better, a sense of calm. I highly recommend the Breathe Easy and the Gypsy Cold Care.\": 1,\n",
       "         'Traditional Medicinals\\' \"Breathe Easy\" is an amazing tea. A couple of times I\\'ve had asthma attacks, it\\'s clearing powers have worked! It\\'s a delicious,spicy mix of Egyptian licorice, peppermint, ginger, and eucalyptus. It\\'s the drinkable Vaposteam&its benefits are incredible. Traditional Medicinals is based in beautiful Sebastopol, California, and its healing herbs come from their garden!': 1,\n",
       "         \"This product is Awesome and Helpful for anyone with asthma and or breathing difficulties. I have dealt with for years and keep coming back to this item; because it seems to work so good with honey -and sometimes a drop or two of fresh lemon.  I add chamomile tea bag with one of these at bed time; and it really works very good for my lungs seem to be eased.  I do notice though that if the product is close to expiring it does not seem to be as effective-and would advise not buying anything near expired when it comes to all-nature products that probably don't have all that many additives or preservatives to begin with.\": 1,\n",
       "         'If you are having difficulty breathing due to a viral infection or chronic asthma, this tea is for you.  I keep it on hand all the time in case someone in our family develops a cough.<br /><br />In addition to various Western herbs that support clear breathing, such as Eucalyptus and Pleurisy Root, the tea has the traditional Chinese herbal mixture Bi Yan Pan in it.  This is the magic ingredient that helps clear mucous out of the lungs.<br /><br />I am grateful that Amazon carries the entire Traditional Medicinals line because sometimes it is hard to find Breathe Easy tea in stores.  There are a variety of competitors on the market with other teas that claim to provide relief for breathing difficulties, but Breathe Easy outclasses all others I have tried.  Plus, it has a pleasant flavor from Licorice and Peppermint, especially compared to other herbal teas that have perceptible medical effects.  I highly recommend Breathe Easy tea.': 1,\n",
       "         'Naturade Total Soy Meal Replacement powder was as advertised - the taste was very good and was beneficial in eliminating some extra calories, without feeling hungry.': 1,\n",
       "         'The package was warm after being inside of a mail truck all day and thus the coating of chocolate melted.': 1,\n",
       "         \"I have no idea what all those people are saying but these bars don't taste that great...it is full of sugar and high fructose corn syrup. I much prefer luna bars or the south beach meal bars--which all taste tons better and are healthier.\": 1,\n",
       "         \"Of all of the nutrition bars that I have tried the Genisoy Chocolate Fudge Brownie is right up there in the top 4.  It doesn't taste like a protein bar - it tastes almost like a candy bar.  When I have a chocolate craving this bar can really satisfy it.  Even my husband (who hates nutrition bars) likes these.\": 1,\n",
       "         \"I've tried several different brands of protein bars but chose Genisoy because these bars are the highest in soy protein.  I like the peanut butter fudge best.  They're great to take hiking and biking or to eat while walking on the treadmill.\": 1,\n",
       "         \"I think these are great.  Good for a quick snack when you don't have a lot of time but still want something healthy.  They taste great so if you want something that is a little sweet, this is a good one to fill that craving too.  Pretty good source of protein.  Not as good as the powder, but better than most bars.  Great for vegetarians.\": 1,\n",
       "         'They are just delicious, and a great way to get in some protein if your day is turning out to be deficient in it.  A good emergency ration kind of thing.': 1,\n",
       "         \"The Genisoy protein bars are thin, chewy protein bars. The chocolate fudge brownie is one of the best flavors from Genisoy. It does taste like soy but it is sweet enough to make you feel like you're eating a treat. The texture is similar to the original Power Bar but definitely tastes better.\": 1,\n",
       "         \"I went searching high and low for a replacement chocolate brownie bar when my taste for Clif chocolate brownie bar suddenly changed (I had no other food changes and the manufacturer swore they made no changes). I bought one of every type of chocolate protein bar and literally Genisoy was the last one I had to taste. I've had Luna bars and don't like their taste at all. My first byte into the Genisoy chocolate brownie had an after taste of vitamins, but after the first bar, that was gone. It was delicious and I love the fudgey texture. I had finally found my replacement protein chocolate bar after weeks of searching all the local organic markets.\": 1,\n",
       "         'The bars arrived as plan and are very fresh. I will difinitely order this product again on Amazon. Thanks again.': 1,\n",
       "         \"They're good I'll tell you that, but that's probably not why you're reading my review. First, this product used to be much bigger. I'm not sure if this has to do with my hands growing over the years or if the company decided to shed some crumbs off this product to save costs. Second, they're very airborne. I once chucked this at my w...\": 1,\n",
       "         \"The reviewer below who states these have high fructose corn syrup is wrong.  I'm looking at the ingredients list for the Chocolate Fudge bar and it lists corn syrup, but not the notorious high fructose variety.  It's a good, tasty snack and a good way to get soy protein on the go.\": 1,\n",
       "         'At one time these bars were my favorite.  Tasty and soft.  Now they are suitable to be used as paving stones.  I have purchased from three or four different Amazon suppliers.  Each time the result has been the same - hard and unpleasant to chew.  I have stopped purchasing the Genisoy Chocolate Fudge Brownies and now purchase and eat Cliff Bars exclusively.  A shame, but life goes on.  Even without you Genisoy.': 1,\n",
       "         \"I have been searching for these bars in grocery stores for 3 years and finally realized that I should just check Amazon.  These bars are really yummy!  I used to cut them into 8 pieces each and refrigerate them before they disappeared from my grocery store.  They are the perfect little snack.  You could also eat a whole bar for breakfast-on-the-go.  They do dry your mouth out a little, so make sure you have a beverage handy.  My husband even likes them and he hates soy milk and other healthy foods.  If you've never eaten one before, beware: you'll become addicted to a healthy protein bar!\": 1,\n",
       "         \"These brownies tasted funny. I don't know how to describe it but i actually had to give them away. Would never buy it again or refer it to someone. Grainy and weird chocolatey taste and texture. ..\": 1,\n",
       "         \"I have been trying many different protein bars trying to match the taste of the P90X bars that are overpriced. Genisoy is my favorite (peanut butter fudge to be exact). it does not have the cardboard taste, has good texture, plenty of flavor with enough of a salty taste to compliment the chocolate. I'm sure these are much better for me than the P90X bars too. I wish there were 20g of protein instead of 14g, but still worth the purchase.\": 1,\n",
       "         'I have these still in my jellybean jar.<br />They are nice and soft not like the waxy type.<br />Fruity flavors are fabulous.': 1,\n",
       "         'I don\\'t know how many people have had \"Astronaut Ice Cream\" but it is sooo good.  Seriously, it is something you have to try.  I\\'ve had it since I was a little girl because I grew up in TX where NASA was close by.  It is really convenient to feed to kids in particular because there is no mess to clean up afterwards.  The best thing about the ice cream is that it really packs more flavor than you would expect and when it melts in your mouth you\\'ll be glad you tried it.': 1,\n",
       "         \"I bought this out of curiosity, after hearing the buzz about it on the internet. I took my chances and bought 10 packages of these.<br />They are fantastic! It came in a box, with 10 individual wrapped packages.<br />These freeze dried ice creams are broken into pieces (Stop blaming packaging!) for a reason, so they are more easier to bite into, and because they crumble after being freeze dried at -40 degrees!<br />I love these, and I am definitely planning to buy more, just in different flavors (this flavor is great, I just don't like vanilla. Strawberry is very enjoyable). Very light and compact, and you can bring it with you in a bag or a purse when you're craving ice cream but it's raining, or whatever.<br />Highly recommended! Cheers, Amazon.\": 1,\n",
       "         \"If you've ever had freeze dried ice cream before, this is the stuff. The size of each treat isn't very large, but definitely enough to enjoy. Each bar is individually wrapped. It is also lots of fun to give to anyone who hasn't had it before.<br /><br />If you don't know what freeze dried ice cream is, it is pretty straight forward. All of the water is removed from normal ice cream in a special way. First the ice cream is kept frozen while a vacuum is applied to it. The vacuum causes water to slowly sublimate and vaporize. The vaporized water is eventually all sucked out and you are left with a chunk of ice cream that has everything in it but water. Note, it doesn't melt. The process brings water straight from the solid to gas. This technique is used for lots of foods because it makes the food last forever -- without water most bacteria and molds simply can't grow. If you are a hippie, feel safe. The process doesn't use any crazy chemical science that'll kill your mojo.\": 1,\n",
       "         \"I got these to give out in a goodie bag for the holidays, with a couple extras of course.  They arrived quickly, the price was right, and they were delicious!  I can't wait to give them to all my friends!\": 1,\n",
       "         \"I first had astronaut ice cream in the 5th grade on a field trip to the science center. I absolutely love the stuff. And, just as warned by the seller, the ice cream comes broken up. But who cares? It's all the same when it's in your stomach.\": 1,\n",
       "         \"The astronaut ice cream was so yummy!  It did arrive broken, but that's okay, it was sooo cool!\": 1,\n",
       "         'The ice cream came just a few days after I ordered it, and in great packaging. Great job.': 1,\n",
       "         'Gave to my nephews (who have everything doubled) for Christmas and the Astranaut Icecream was a big success.': 1,\n",
       "         \"Tastes just like it did when I was a kid.  The stuff crubmles easily, but was in decent shape.  Not that you can't eat it when it's in little pieces.\": 1,\n",
       "         'Well if you have had this product before you know it is amazing.  I am not going to describe the taste but i will tell you the product was shipped neatly and fresh.  Everything tasted great and the expiration date was much further into the future than this would have ever lasted.  Top notch.': 1,\n",
       "         'I saw this item and it brought back memories of my childhood visits to the science and industry museum, so I decided to order a pack of it. It arrived before the expected arrival time and was just as delicious as I remembered it. A definite recommended buy.': 1,\n",
       "         'I bought this as a present for some friends and family members for a Christmas present. They loved it! It is fun for someone who has never tried it and a treat to those who have. It was very well packed and came very quickly. There is not very much in a pack, but still the same amount as anywhere else it is sold and better priced than the other places you can buy it at, such as the science center.': 1,\n",
       "         'Gifted a box of these to an online friend. She loved it!<br /><br />Buyers should note that the ice-cream bars will arrive in several pieces, which is entirely normal for dry-frozen foods. Dry freeze is a process that removes water, and when water is not present, there is nothing to hold the stuff together.': 1,\n",
       "         'This is a fun, unique birthday treat that my five year old daughter shared with her class.  Everyone loved it!': 1,\n",
       "         \"If you've never had astronaut ice cream, it might be hard to get used to. The texture is crunchy but kind of gritty while it melts to be super creamy because all the moisture is gone. Some people don't like it, which just means more for me! I personally just like how dense and how flavorful it is. Plus there is always the upside of it being neapolitan, three flavors!<br />It's fun to eat as a midday snack and we like to pretend that we are on our way to Jupiter's big red spot! Great gift for children (or adults who still pretend they're astronauts...) and always a little bit different.\": 1,\n",
       "         'I love this astronaut neopolitan ice cream 10 pack.I first discovered it at the science museum i R.O.P.ed at in the 90\\'s.I fell in love with it love at first bite!! The chocolate is my fave but there\\'s also strawberry and vanilla to love. If it\\'s the desert of the astronauts,then sign me up to go into space!!J.K. L.O.L It\\'s smooth texture,as long as it\\'s not stale,melts in your mouth,with yummy goodness!They now have new flavors too,like mint,choc chip,etc.Check it out,you might like it!!!I did!<a href=\"http://www.amazon.com/gp/product/B00005C2M2\">Astronaut Ice Cream Neapolitan (Pack of 10)</a>': 1,\n",
       "         'This stuff really takes me back to elementary school when I was obsessed with wanting to go to Space Camp.  This stuff is SO GOOD!': 1,\n",
       "         \"It's cracked to pieces on purpose so it's easier to eat.  It's a bit sweeter than regular ice cream because there's no water.  Convenient to take with you anywhere!  This brand contains NO High Fructose Corn Syrup so it's healthier. Great deal! $19.95 ordered on 8/3/2011. Hooray! It was $27, now it's back down to $22! (as of 8/25/11). Hurry and buy today!\": 1,\n",
       "         \"My son loved sharing this with his class for show and tell. Two bags was enough for his entire class of 20 to sample. They all thought it was great! Ice cream that isn't cold is a hit in the winter months up north. As an adult, I would suggest sucking on it, do not chew. It gets stuck in your teeth and kind of reminds me of the caramelized remnants on the ice cream lid. Not recommended for culinary connoisseurs. Made my children feel closer to the astronauts though!\": 1,\n",
       "         'All the kids and myself Love these! Taste just like Ice Cream we eat normally! Worth the price and i am happy with the product and the purchasing/shipping! No complaints!': 1,\n",
       "         \"Received the product as specified.  well within expiration dates and tastes great!  I've eaten 2 of my 10 packages already :)  Packages are just like the ones i get at my local science museum.\": 1,\n",
       "         \"I have been hooked on this ice cream since I first tasted it at the a Science Museum. It is delicious!  It's a great novelty-type gift for anyone who loves ice cream or candy.  It has an interesting texture, it melts in your mouth and it's very tasty.  It's not very filling, so don't worry about that.  You might as well buy it by the lot and/or case b/c it's THAT good.  It also makes a great stocking stuffer for adults and kids alike! :)\": 1,\n",
       "         'Astronaut Ice Cream. Need I say more? If you remember the packages from our youth these will certainly bring back fond memories of freeze dried happiness.': 1,\n",
       "         'Fast shipping and a good price. My husband loves this stuff from his childhood so I bought it for him as a gift.': 1,\n",
       "         \"I bought this 10 pk for my daughter who loves it!!<br />The actual size is a little smaller than what I expected, so<br />I'm glad I bought the 10 pk instead of a single package.<br />Other than that, the product is alot of fun to eat.\": 1,\n",
       "         'Sent a case to my nephew as a \"get well\" present when he had his tonsils removed. They said he loved em! I\\'ve also taken a few of these camping. 99% of the time they are broken, either due to shipping or being lugged around in my backpack...Doesn\\'t really matter though, you eat it like chips, not a candy bar anyway. Great treat when camping. Also nice to store for emergencies.': 1,\n",
       "         \"the ice cream was actually a good addition to my son's goodie bags. Even though it was expensive, I believe it was worth it. It was a different item kids would never get at a party. The ice cream itself came well wrapped and sealed. I thought it would be crumbled but it was in good conditions. I personally don't think this tastes good but the kids love it.\": 1,\n",
       "         \"brought back my memory...<br />can't believe they still sell this item nowadays. does people still buy this kind of stuff?\": 1,\n",
       "         'Sells for double or triple at museums.  Great product and good if you have kids over for a party to try something different.': 1,\n",
       "         \"I got this for my husband who is proudly serving our country in the United States Army.  He LOVED it (and so did some of his unit.)  It was just something fun to send him to break the often tense world of a soldier.  I can't personally account for the taste but he and the guys said it tasted just like the real deal.  I will probably send him more at a later date.\": 1,\n",
       "         'my niece teaches underprivileged kids in florida --- she had a science lesson and i sent her 3 boxes of this stuff --- most of the kids would never in their lives have had a chance to taste this stuff --- so for the price it was a good deal to share something that these kids would never have had...': 1,\n",
       "         'I have just seen the same astronaut ice cream at a gift shop for almost 3 times as much.': 1,\n",
       "         \"Yummy. We gobbled it right up. Only issue is the unit price. The portions are so small, yet it's so expensive. Is this stuff really that expensive to make? That it's like $12 a lb.\": 1,\n",
       "         'I was really looking forward to giving the kids at my son\\'s birthday party this ice cream.  The packages arrived quickly, but I could tell the ice cream \"bars\" were in bits.  I opened one package to take a look and the ice cream was in fact shattered into little pieces.  And the inner packaging was sliced open in two places, possibly by a machine or razor.  It just didn\\'t look right and I didn\\'t feel comfortable serving them to the kids.<br /><br />Now, this is probably not a problem with the seller, but perhaps they want to evaluate their vendor for these products.  I just didn\\'t want anyone else to have this same experience.  Thankfully, Amazon makes returns easy...': 1,\n",
       "         'I ordered the ten pack to share with my pre schoolers for our space theme. I was so excited whe i got the email saying it had been delivered. However, when i opened the package i only got one pack. I am so upset over this. We called amazon and they said there is nothing they can do about it. My account was credited but they couldnt send me the remaining 9 packs. It should be interesting trying to split a single pack between 16 five year olds.': 1,\n",
       "         \"It tastes great, but I gotta wonder if the Amazon.com distributors took a sledgehammer to it before putting it in the boxes to ship it (or maybe they don't know how to ship stuff).  It's a shame, given how hard this is to get in stores.\": 1,\n",
       "         'SINCE I WAS A LITTLE GIRL I HAVE ALWAYS LOVE THIS STUFF. I EVEN SNUCK INTO THE BISHOP MUSEUM IN HAWAII JUST TO BY THIS 1 PACK OF THIS STUFF. I WORKED AT MARBLE SLAB ICE CREAMERY FOR NEARLY A YEAR AND NEVER TOUCHED THE ICE CREAM BUT GIVE ME A PACK OF ASTRONAUT ICE CREAM AND ITS GONE WITH A SNAP. IT IS A SMALL AMOUNT FOR THE PRICE OF A PINT OF ICE CREAM BUT FOR ME ITS WORTH IT. PLUS, IT TAKES THAT GUILTY FEELING OF GAINING WEIGHT AWAY.': 1,\n",
       "         \"I love this stuff. I have a hard time not eating one right after the other! They're different, but I really enjoy them!!! :)\": 1,\n",
       "         'ASTRONAUT ICE CREAM...WOW!  Who could not love this stuff...what a great stocking stuffer, basket filler, hostess gift selection (paired, perhaps, with a bottle of wine!)  Keep a few in your pocketbook for road trips (to be removed when the crankiness begins). An out of the norm, NOT run of the mill, DELIGHTFUL old time FAVORITE (plus, I love that it is not found on every supermarket shelf...keeps it all the more special!)': 1,\n",
       "         \"Packing was efficient, and the product arrived promptly and in great shape. This product makes a great birthday party favors~! Kid's also love getting this as a gift. Very novel!\": 1,\n",
       "         \"It maybe pricey, but damn it's good. It was worth the money I spent on it. I had my first taste of it back when I was 7 or 8 at an elementary school. The teacher was always giving this out as a snack for the students. For years I tried to remember what this candy was, until I came across a pic of it on facebook. By then I knew exactly what it was and I decided to buy it here. I don't regret doing so. Enjoy!!!\": 1,\n",
       "         'This product was exactly what I was looking for: Freeze-dried Ice cream. I reminded me of grade school and getting it a science centers. I gave some to my nephews who love it and my sister-in-law used some for a teaching aid for her fourth grade students.': 1,\n",
       "         \"I bought these for a lightweight backpacking snack. From what I remembered as a kid they are very tasty, and I was not disappointed! I've read other reviews complain about they come broken apart - but that's normal/acceptable - it in no way effects the quality of this product. The packaging of this is bulky - almost 0.4oz per! Luckily this product stays fresh in just a ziplock bag for at least a week. I put most of these in a gallon ziplock and saved several ounces in weight over ditching the stock packaging material. Gave some to my son and he loved them as well - they make a great/unique gift to kids.\": 1,\n",
       "         'The astronaut ice cream was broken up into not-too-small bite size chunks, melts in your mouth, and was fresh and delicious!  The expiration date was about 2 yrs ahead.  At 120 calories and 6g of fat, this treat is pretty good for the calorie-conscious too (?) Another reviewer commented that there were slits in the inner paper packaging and threw out the product - the slits are to facilitate the freeze drying process as mentioned on the wrapper...  Bulk purchase keeps the price lower than at the museum.  Plan to buy more when I eat this batch up!': 1,\n",
       "         'Its a great snack for icecream lovers who have teeth sensitve to cold.<br />All the flavor u want and no mater how much or fast u eat no brain frezze.<br />I found it best when its cold out side i can still have my icecream and not fell like im frezzing.<br />Its a great value price /per product. And has a long shelf life making it a good survival snack.': 1,\n",
       "         'Buying this much is the most cost effective way... and since you have a lot, it makes a great unique present for you homies :D Or in a packed lunch. Then you can eat the rest for yourself, its yummy.': 1,\n",
       "         'Beware! It might say 10 packages, but you\\'ll only get one!! Don\\'t expect to get the other 9 anytime soon. I tried that and all they said was \"oops. Sorry we\\'re all out of that product, can I interest you in something else?\" So stupid. If I wanted something else I would have bought something else.': 1,\n",
       "         \"I thought this looked like a pretty good deal for 10 ice cream sandwiches.  One review talked about what a good deal it was, and I agreed, so I tried.  I found that I paid $11 for ONE single ice cream sandwich.  I am in the process of filing complaints and trying to get this fixed, but considering that another person posted with the same problem, I am suspecting that this is something of a scam.  If it isn't a scam, then they have poor quality control for their shipping.<br /><br />The single package I got looked good and was foil wrapped.  Unfortunately I can't eat it until the dispute is resolved.  Oh, and it took nearly 3 weeks to get that one packages sent via extremely thin packaging that left the ice cream smashed to bits by the postal service.  We'll see how the resolution goes, but I don't expect to order from this seller again.\": 1,\n",
       "         'The \"ad\" for the product said a package of 12 ice creams.  I received one.<br />Not happy about that but too frustrating to try to track down the seller, fight with him/her and just gave up.<br />So upsetting.': 1,\n",
       "         'Just received our box and all 10 Ice Cream Sandwiches are present and accounted for.  They feel broken in the packages (seems they were already broken when packed - not a result of shipping) but since you break them up to eat them anyway I don\\'t mind at all.  They are great!  Taste just like a \"real\" ice cream sandwich!': 1,\n",
       "         \"The blocks i received were broken up into small pieces. You have to break it up to eat i any how so it didn't matter to me. I when to NASA as a kid and fell in love with this stuff. I like sharing it with my family now.\": 1,\n",
       "         \"I like all of the Astronaut Ice Cream flavors, especially the Ice Cream Sandwich.<br />The vanilla ice cream tastes very creamy.<br />The sandwich was broken a little, but it made it easier to eat.<br />It's fun to pretend to be an Astronaut!\": 1,\n",
       "         'I normally purchase the Lavazza Grand Crema pods for use with my Breville espresso machine, and have always been happy with them but wanted to try something different, so I ordered a box of Espressione Classic Espresso instead. Initially I was very disappointed with the results; a 30-second shot of espresso using these pods contained only about half as much liquid as one using my normal Lavazza pods (in other words, the water was passing through these pods at a much slower rate than through the Lavazza). Maybe my machine is lacking in pressure... but I could tell just by the feel of the pods that these are much more tightly packed than the Lavazza ones.<br /><br />My disappointment changed to delight when I tried these pods out on my Handpresso Wild, however. I had never really liked the taste of the Lavazza pods using this machine (seemed much more bitter compared to my \"real\" machine at home), but with Espressione it was perfect!<br /><br />Bottom line... if you are using a Handpresso, I recommend these pods 100%. If you are using a normal espresso machine, you may want to try out a smaller size package before committing to 150 pods.': 1,\n",
       "         'STAY AWAY FROM ORDERING FROM THIS COMPANY. I RECEIVED MY ORDER ON TIME BUT TO MY AMAZMENT ALL OF THE COFFEE PODS WERE STAMPED WITH A DATE THAT WAS ABOUT 6 MONTHS PAST DUE.': 1,\n",
       "         'Both the 100% Arabica and the Espressione Espresso are excellent for espresso drinks. Traditionally espresso, unlike good drip coffee, is made with a mix of Arabica and Robusta coffees. The taste differences are noticeable, but I don\\'t have a strong favorite. I use the pods for convenience, although I also roast my own green beans for espresso as well.<br /><br />If you look at the negative reviews, they\\'re mostly on the \"best before\" dates being passed. While I would also be upset to spend money and get \"expired\" pods, I should point out that the pods are good for quite some time after their nominal expiration dates. I just found a handful of these Espressione Classic pods with 2002 (this is late 2009 now) dates and they made acceptable, though not spectacular espresso. Basically they\\'re vacuum packed and not much is happening inside the wrapper.': 1,\n",
       "         'Based upon the various reviews I decided to give this a try as we normally use Starbucks Espresso pods. I have to say that the taste of Espressione is much more bland and the coffee tastes weaker.': 1,\n",
       "         'Using the Briel Chamonix machine I purchased from Amazon, I have produced delicious lattes using these pods. The smell of the Espressione pods (regular and decaf) when opened is incredible - dark, rich roasts.  FYI - the pods are produced in Italy, which is a good sign.  Also, each pod has a handy paper \"tab\" so that you can remove it from your machine without burning your fingers.  I compared these pods to Starbucks espresso pods (regular and decaf), and the Espressione are my favorite.  Only one warning:  150 pods (individually wrapped) take up a lot of space, so be sure you know where you\\'re going to store them.  More good news:  each box of 150 is stamped with a \"best if used by\" date, which in my case was 16 months after the date of purchase.': 1,\n",
       "         'These pods have got to be the best invention yet. They are compact, extremely easy to use & is the best solution to making several very quick cups of coffee.<br /><br />Fresh ground coffee is nice, but there is virtually no mess with these pods. The crema is just as good as ground coffee & these can be used in a pod holder as well as a one cup filter basket.<br /><br />What more could a person want?!': 1,\n",
       "         'I returned this due to the very short/brief expiration date, Sept \\'03. That would be less than 3-months to use up all 150 pods. Amazon should pull this \"off the shelves\"!': 1,\n",
       "         \"I can't say enough good things about the Espressione pods. They are of the highest quality and the product is fresh, fresh, fresh! If you've ever wondered if pre-packaged espresso can taste as good as freshly ground, wonder no more. The Espressione pods are--to my palate, at least--indistinguishable from fresh ground beans. Yep, they really are that good!\": 1,\n",
       "         \"For years I have been trying to simulate a truly Italian espresso or cappuccino without success.  Several packages arrived [...] just before Christmas.  My son had sent a Briel Cadiz Espresso machine, two lovely Russian china cups and a case of Espressione Classic Espresso Pods.  It was the kindest, most wonderful Christmas present I can remember.  The espresso machine excels in quality and ease of use.  The espresso is exquisite.  Each time I prepare an espresso or cappuccino I experience my son's loving kindness and a small part of the many gifts of Italy.  Heaven on Earth.\": 1,\n",
       "         'Shipment of pods came with a best-before date that was a full 6 months before delivery. Be aware that Amazon lists all \"grocery\" items as non-returnable.': 1,\n",
       "         ...})"
      ]
     },
     "execution_count": 23,
     "metadata": {},
     "output_type": "execute_result"
    }
   ],
   "source": [
    "from collections import Counter\n",
    "Counter(reviews_array)"
   ]
  },
  {
   "cell_type": "markdown",
   "metadata": {
    "colab_type": "text",
    "id": "92IZ5ea0iWN4"
   },
   "source": [
    "#  [3] Preprocessing"
   ]
  },
  {
   "cell_type": "markdown",
   "metadata": {
    "colab_type": "text",
    "id": "NTwQITJKiWN5"
   },
   "source": [
    "## [3.1].  Preprocessing Review Text\n",
    "\n",
    "Now that we have finished deduplication our data requires some preprocessing before we go on further with analysis and making the prediction model.\n",
    "\n",
    "Hence in the Preprocessing phase we do the following in the order below:-\n",
    "\n",
    "1. Begin by removing the html tags\n",
    "2. Remove any punctuations or limited set of special characters like , or . or # etc.\n",
    "3. Check if the word is made up of english letters and is not alpha-numeric\n",
    "4. Check to see if the length of the word is greater than 2 (as it was researched that there is no adjective in 2-letters)\n",
    "5. Convert the word to lowercase\n",
    "6. Remove Stopwords\n",
    "7. Finally Snowball Stemming the word (it was obsereved to be better than Porter Stemming)<br>\n",
    "\n",
    "After which we collect the words used to describe positive and negative reviews"
   ]
  },
  {
   "cell_type": "code",
   "execution_count": 92,
   "metadata": {
    "colab": {},
    "colab_type": "code",
    "id": "kTCxT5aWiWN5",
    "outputId": "64588cda-64b3-47f0-8d01-941e1cc85cc5"
   },
   "outputs": [
    {
     "name": "stdout",
     "output_type": "stream",
     "text": [
      "this witty little book makes my son laugh at loud. i recite it in the car as we're driving along and he always can sing the refrain. he's learned about whales, India, drooping roses:  i love all the new words this book  introduces and the silliness of it all.  this is a classic book i am  willing to bet my son will STILL be able to recite from memory when he is  in college\n",
      "==================================================\n",
      "I was really looking forward to these pods based on the reviews.  Starbucks is good, but I prefer bolder taste.... imagine my surprise when I ordered 2 boxes - both were expired! One expired back in 2005 for gosh sakes.  I admit that Amazon agreed to credit me for cost plus part of shipping, but geez, 2 years expired!!!  I'm hoping to find local San Diego area shoppe that carries pods so that I can try something different than starbucks.\n",
      "==================================================\n",
      "Great ingredients although, chicken should have been 1st rather than chicken broth, the only thing I do not think belongs in it is Canola oil. Canola or rapeseed is not someting a dog would ever find in nature and if it did find rapeseed in nature and eat it, it would poison them. Today's Food industries have convinced the masses that Canola oil is a safe and even better oil than olive or virgin coconut, facts though say otherwise. Until the late 70's it was poisonous until they figured out a way to fix that. I still like it but it could be better.\n",
      "==================================================\n",
      "Can't do sugar.  Have tried scores of SF Syrups.  NONE of them can touch the excellence of this product.<br /><br />Thick, delicious.  Perfect.  3 ingredients: Water, Maltitol, Natural Maple Flavor.  PERIOD.  No chemicals.  No garbage.<br /><br />Have numerous friends & family members hooked on this stuff.  My husband & son, who do NOT like \"sugar free\" prefer this over major label regular syrup.<br /><br />I use this as my SWEETENER in baking: cheesecakes, white brownies, muffins, pumpkin pies, etc... Unbelievably delicious...<br /><br />Can you tell I like it? :)\n",
      "==================================================\n"
     ]
    }
   ],
   "source": [
    "# printing some random reviews\n",
    "sent_0 = final['Text'].values[0]\n",
    "print(sent_0)\n",
    "print(\"=\"*50)\n",
    "\n",
    "sent_1000 = final['Text'].values[1000]\n",
    "print(sent_1000)\n",
    "print(\"=\"*50)\n",
    "\n",
    "sent_1500 = final['Text'].values[1500]\n",
    "print(sent_1500)\n",
    "print(\"=\"*50)\n",
    "\n",
    "sent_4900 = final['Text'].values[4900]\n",
    "print(sent_4900)\n",
    "print(\"=\"*50)"
   ]
  },
  {
   "cell_type": "code",
   "execution_count": 93,
   "metadata": {
    "colab": {},
    "colab_type": "code",
    "id": "iX3VndCPiWN8",
    "outputId": "7f8cad02-65a6-4530-e7e1-bb6775877737"
   },
   "outputs": [
    {
     "name": "stdout",
     "output_type": "stream",
     "text": [
      "this witty little book makes my son laugh at loud. i recite it in the car as we're driving along and he always can sing the refrain. he's learned about whales, India, drooping roses:  i love all the new words this book  introduces and the silliness of it all.  this is a classic book i am  willing to bet my son will STILL be able to recite from memory when he is  in college\n"
     ]
    }
   ],
   "source": [
    "# remove urls from text python: https://stackoverflow.com/a/40823105/4084039\n",
    "sent_0 = re.sub(r\"http\\S+\", \"\", sent_0)\n",
    "sent_1000 = re.sub(r\"http\\S+\", \"\", sent_1000)\n",
    "sent_150 = re.sub(r\"http\\S+\", \"\", sent_1500)\n",
    "sent_4900 = re.sub(r\"http\\S+\", \"\", sent_4900)\n",
    "\n",
    "print(sent_0)"
   ]
  },
  {
   "cell_type": "code",
   "execution_count": 94,
   "metadata": {
    "colab": {},
    "colab_type": "code",
    "id": "DyO7iqEriWN_",
    "outputId": "2a010a1c-574d-409f-d725-c726a25d3e70"
   },
   "outputs": [
    {
     "name": "stdout",
     "output_type": "stream",
     "text": [
      "this witty little book makes my son laugh at loud. i recite it in the car as we're driving along and he always can sing the refrain. he's learned about whales, India, drooping roses:  i love all the new words this book  introduces and the silliness of it all.  this is a classic book i am  willing to bet my son will STILL be able to recite from memory when he is  in college\n",
      "==================================================\n",
      "I was really looking forward to these pods based on the reviews.  Starbucks is good, but I prefer bolder taste.... imagine my surprise when I ordered 2 boxes - both were expired! One expired back in 2005 for gosh sakes.  I admit that Amazon agreed to credit me for cost plus part of shipping, but geez, 2 years expired!!!  I'm hoping to find local San Diego area shoppe that carries pods so that I can try something different than starbucks.\n",
      "==================================================\n",
      "Great ingredients although, chicken should have been 1st rather than chicken broth, the only thing I do not think belongs in it is Canola oil. Canola or rapeseed is not someting a dog would ever find in nature and if it did find rapeseed in nature and eat it, it would poison them. Today's Food industries have convinced the masses that Canola oil is a safe and even better oil than olive or virgin coconut, facts though say otherwise. Until the late 70's it was poisonous until they figured out a way to fix that. I still like it but it could be better.\n",
      "==================================================\n",
      "Can't do sugar.  Have tried scores of SF Syrups.  NONE of them can touch the excellence of this product.Thick, delicious.  Perfect.  3 ingredients: Water, Maltitol, Natural Maple Flavor.  PERIOD.  No chemicals.  No garbage.Have numerous friends & family members hooked on this stuff.  My husband & son, who do NOT like \"sugar free\" prefer this over major label regular syrup.I use this as my SWEETENER in baking: cheesecakes, white brownies, muffins, pumpkin pies, etc... Unbelievably delicious...Can you tell I like it? :)\n"
     ]
    }
   ],
   "source": [
    "# https://stackoverflow.com/questions/16206380/python-beautifulsoup-how-to-remove-all-tags-from-an-element\n",
    "from bs4 import BeautifulSoup\n",
    "\n",
    "soup = BeautifulSoup(sent_0, 'lxml')\n",
    "text = soup.get_text()\n",
    "print(text)\n",
    "print(\"=\"*50)\n",
    "\n",
    "soup = BeautifulSoup(sent_1000, 'lxml')\n",
    "text = soup.get_text()\n",
    "print(text)\n",
    "print(\"=\"*50)\n",
    "\n",
    "soup = BeautifulSoup(sent_1500, 'lxml')\n",
    "text = soup.get_text()\n",
    "print(text)\n",
    "print(\"=\"*50)\n",
    "\n",
    "soup = BeautifulSoup(sent_4900, 'lxml')\n",
    "text = soup.get_text()\n",
    "print(text)"
   ]
  },
  {
   "cell_type": "code",
   "execution_count": 95,
   "metadata": {
    "colab": {},
    "colab_type": "code",
    "id": "qzIaKh8niWOC"
   },
   "outputs": [],
   "source": [
    "# https://stackoverflow.com/a/47091490/4084039\n",
    "import re\n",
    "\n",
    "def decontracted(phrase):\n",
    "    # specific\n",
    "    phrase = re.sub(r\"won't\", \"will not\", phrase)\n",
    "    phrase = re.sub(r\"can\\'t\", \"can not\", phrase)\n",
    "\n",
    "    # general\n",
    "    phrase = re.sub(r\"n\\'t\", \" not\", phrase)\n",
    "    phrase = re.sub(r\"\\'re\", \" are\", phrase)\n",
    "    phrase = re.sub(r\"\\'s\", \" is\", phrase)\n",
    "    phrase = re.sub(r\"\\'d\", \" would\", phrase)\n",
    "    phrase = re.sub(r\"\\'ll\", \" will\", phrase)\n",
    "    phrase = re.sub(r\"\\'t\", \" not\", phrase)\n",
    "    phrase = re.sub(r\"\\'ve\", \" have\", phrase)\n",
    "    phrase = re.sub(r\"\\'m\", \" am\", phrase)\n",
    "    return phrase"
   ]
  },
  {
   "cell_type": "code",
   "execution_count": 96,
   "metadata": {
    "colab": {},
    "colab_type": "code",
    "id": "Esa29-JwiWOD",
    "outputId": "be726596-752d-489b-d311-f4180ac83ac4"
   },
   "outputs": [
    {
     "name": "stdout",
     "output_type": "stream",
     "text": [
      "Great ingredients although, chicken should have been 1st rather than chicken broth, the only thing I do not think belongs in it is Canola oil. Canola or rapeseed is not someting a dog would ever find in nature and if it did find rapeseed in nature and eat it, it would poison them. Today is Food industries have convinced the masses that Canola oil is a safe and even better oil than olive or virgin coconut, facts though say otherwise. Until the late 70 is it was poisonous until they figured out a way to fix that. I still like it but it could be better.\n",
      "==================================================\n"
     ]
    }
   ],
   "source": [
    "sent_1500 = decontracted(sent_1500)\n",
    "print(sent_1500)\n",
    "print(\"=\"*50)"
   ]
  },
  {
   "cell_type": "code",
   "execution_count": 97,
   "metadata": {
    "colab": {},
    "colab_type": "code",
    "id": "qf0c7-nXiWOG",
    "outputId": "6104976d-bda8-4de1-9d91-808f3661d53b"
   },
   "outputs": [
    {
     "name": "stdout",
     "output_type": "stream",
     "text": [
      "this witty little book makes my son laugh at loud. i recite it in the car as we're driving along and he always can sing the refrain. he's learned about whales, India, drooping roses:  i love all the new words this book  introduces and the silliness of it all.  this is a classic book i am  willing to bet my son will STILL be able to recite from memory when he is  in college\n"
     ]
    }
   ],
   "source": [
    "#remove words with numbers python: https://stackoverflow.com/a/18082370/4084039\n",
    "sent_0 = re.sub(\"\\S*\\d\\S*\", \"\", sent_0).strip()\n",
    "print(sent_0)"
   ]
  },
  {
   "cell_type": "code",
   "execution_count": 98,
   "metadata": {
    "colab": {},
    "colab_type": "code",
    "id": "1Z5VK6wxiWOI",
    "outputId": "d3405347-aa6a-4df5-c3d9-2c11441c2385"
   },
   "outputs": [
    {
     "name": "stdout",
     "output_type": "stream",
     "text": [
      "Great ingredients although chicken should have been 1st rather than chicken broth the only thing I do not think belongs in it is Canola oil Canola or rapeseed is not someting a dog would ever find in nature and if it did find rapeseed in nature and eat it it would poison them Today is Food industries have convinced the masses that Canola oil is a safe and even better oil than olive or virgin coconut facts though say otherwise Until the late 70 is it was poisonous until they figured out a way to fix that I still like it but it could be better \n"
     ]
    }
   ],
   "source": [
    "#remove spacial character: https://stackoverflow.com/a/5843547/4084039\n",
    "sent_1500 = re.sub('[^A-Za-z0-9]+', ' ', sent_1500)\n",
    "print(sent_1500)"
   ]
  },
  {
   "cell_type": "code",
   "execution_count": 99,
   "metadata": {
    "colab": {},
    "colab_type": "code",
    "id": "MfzZtIP1iWOL"
   },
   "outputs": [],
   "source": [
    "# https://gist.github.com/sebleier/554280\n",
    "# we are removing the words from the stop words list: 'no', 'nor', 'not'\n",
    "# <br /><br /> ==> after the above steps, we are getting \"br br\"\n",
    "# we are including them into stop words list\n",
    "# instead of <br /> if we have <br/> these tags would have revmoved in the 1st step\n",
    "\n",
    "stopwords= set(['br', 'the', 'i', 'me', 'my', 'myself', 'we', 'our', 'ours', 'ourselves', 'you', \"you're\", \"you've\",\\\n",
    "            \"you'll\", \"you'd\", 'your', 'yours', 'yourself', 'yourselves', 'he', 'him', 'his', 'himself', \\\n",
    "            'she', \"she's\", 'her', 'hers', 'herself', 'it', \"it's\", 'its', 'itself', 'they', 'them', 'their',\\\n",
    "            'theirs', 'themselves', 'what', 'which', 'who', 'whom', 'this', 'that', \"that'll\", 'these', 'those', \\\n",
    "            'am', 'is', 'are', 'was', 'were', 'be', 'been', 'being', 'have', 'has', 'had', 'having', 'do', 'does', \\\n",
    "            'did', 'doing', 'a', 'an', 'the', 'and', 'but', 'if', 'or', 'because', 'as', 'until', 'while', 'of', \\\n",
    "            'at', 'by', 'for', 'with', 'about', 'against', 'between', 'into', 'through', 'during', 'before', 'after',\\\n",
    "            'above', 'below', 'to', 'from', 'up', 'down', 'in', 'out', 'on', 'off', 'over', 'under', 'again', 'further',\\\n",
    "            'then', 'once', 'here', 'there', 'when', 'where', 'why', 'how', 'all', 'any', 'both', 'each', 'few', 'more',\\\n",
    "            'most', 'other', 'some', 'such', 'only', 'own', 'same', 'so', 'than', 'too', 'very', \\\n",
    "            's', 't', 'can', 'will', 'just', 'don', \"don't\", 'should', \"should've\", 'now', 'd', 'll', 'm', 'o', 're', \\\n",
    "            've', 'y', 'ain', 'aren', \"aren't\", 'couldn', \"couldn't\", 'didn', \"didn't\", 'doesn', \"doesn't\", 'hadn',\\\n",
    "            \"hadn't\", 'hasn', \"hasn't\", 'haven', \"haven't\", 'isn', \"isn't\", 'ma', 'mightn', \"mightn't\", 'mustn',\\\n",
    "            \"mustn't\", 'needn', \"needn't\", 'shan', \"shan't\", 'shouldn', \"shouldn't\", 'wasn', \"wasn't\", 'weren', \"weren't\", \\\n",
    "            'won', \"won't\", 'wouldn', \"wouldn't\"])"
   ]
  },
  {
   "cell_type": "code",
   "execution_count": 100,
   "metadata": {
    "colab": {},
    "colab_type": "code",
    "id": "g1C43tjNiWOM",
    "outputId": "a997afc9-894c-4a56-d538-dadea8a21e6d"
   },
   "outputs": [
    {
     "name": "stderr",
     "output_type": "stream",
     "text": [
      "100%|████████████████████████████████████████████████████████████████████████| 364171/364171 [02:25<00:00, 2499.07it/s]\n"
     ]
    }
   ],
   "source": [
    "# Combining all the above stundents \n",
    "from tqdm import tqdm\n",
    "preprocessed_reviews = []\n",
    "# tqdm is for printing the status bar\n",
    "for sentance in tqdm(final['Text'].values):\n",
    "    sentance = re.sub(r\"http\\S+\", \"\", sentance)\n",
    "    sentance = BeautifulSoup(sentance, 'lxml').get_text()\n",
    "    sentance = decontracted(sentance)\n",
    "    sentance = re.sub(\"\\S*\\d\\S*\", \"\", sentance).strip()\n",
    "    sentance = re.sub('[^A-Za-z]+', ' ', sentance)\n",
    "    # https://gist.github.com/sebleier/554280\n",
    "    sentance = ' '.join(e.lower() for e in sentance.split() if e.lower() not in stopwords)\n",
    "    preprocessed_reviews.append(sentance.strip())"
   ]
  },
  {
   "cell_type": "code",
   "execution_count": 101,
   "metadata": {
    "colab": {},
    "colab_type": "code",
    "id": "MWDrCFxViWOP",
    "outputId": "5618c9c3-a86a-42a4-e9c4-d24d93fd5a7a"
   },
   "outputs": [
    {
     "data": {
      "text/plain": [
       "'great ingredients although chicken rather chicken broth thing not think belongs canola oil canola rapeseed not someting dog would ever find nature find rapeseed nature eat would poison today food industries convinced masses canola oil safe even better oil olive virgin coconut facts though say otherwise late poisonous figured way fix still like could better'"
      ]
     },
     "execution_count": 101,
     "metadata": {},
     "output_type": "execute_result"
    }
   ],
   "source": [
    "preprocessed_reviews[1500]"
   ]
  },
  {
   "cell_type": "markdown",
   "metadata": {
    "colab_type": "text",
    "id": "fEu8sShciWOS"
   },
   "source": [
    "<h2><font color='red'>[3.2] Preprocessing Review Summary</font></h2>"
   ]
  },
  {
   "cell_type": "code",
   "execution_count": 0,
   "metadata": {
    "colab": {},
    "colab_type": "code",
    "id": "XP1URIERiWOU"
   },
   "outputs": [],
   "source": [
    "## Similartly you can do preprocessing for review summary also."
   ]
  },
  {
   "cell_type": "markdown",
   "metadata": {
    "colab_type": "text",
    "id": "p2lyiwJ_iWOW"
   },
   "source": [
    "# [4] Featurization"
   ]
  },
  {
   "cell_type": "markdown",
   "metadata": {
    "colab_type": "text",
    "id": "T_LFck8iiWOX"
   },
   "source": [
    "## [4.1] BAG OF WORDS"
   ]
  },
  {
   "cell_type": "code",
   "execution_count": 24,
   "metadata": {},
   "outputs": [],
   "source": [
    "from sklearn.model_selection import train_test_split\n",
    "x1,xtest,y1,ytest = train_test_split(preprocessed_reviews[:100000],final['Score'][:100000],test_size = 0.2)\n",
    "xtrain,xcv,ytrain,ycv = train_test_split(x1,y1,test_size = 0.25)"
   ]
  },
  {
   "cell_type": "code",
   "execution_count": 25,
   "metadata": {
    "colab": {},
    "colab_type": "code",
    "id": "OVHZ9f8biWOX",
    "outputId": "b121f6f4-e30a-4184-b083-a77cdab3ca19"
   },
   "outputs": [
    {
     "name": "stdout",
     "output_type": "stream",
     "text": [
      "some feature names  ['ability', 'able', 'absolute', 'absolutely', 'absorb', 'absorbed', 'accept', 'acceptable', 'access', 'accident']\n",
      "==================================================\n",
      "the type of count vectorizer  <class 'scipy.sparse.csr.csr_matrix'>\n",
      "the shape of out text BOW vectorizer  (364171, 4500)\n",
      "the number of unique words  4500\n"
     ]
    }
   ],
   "source": [
    "#BoW\n",
    "count_vect = CountVectorizer(min_df=10, max_features=4500) #in scikit-learn\n",
    "count_vect.fit(xtrain)\n",
    "print(\"some feature names \", count_vect.get_feature_names()[:10])\n",
    "print('='*50)\n",
    "\n",
    "final_counts = count_vect.transform(preprocessed_reviews)\n",
    "print(\"the type of count vectorizer \",type(final_counts))\n",
    "print(\"the shape of out text BOW vectorizer \",final_counts.get_shape())\n",
    "print(\"the number of unique words \", final_counts.get_shape()[1])"
   ]
  },
  {
   "cell_type": "code",
   "execution_count": 26,
   "metadata": {},
   "outputs": [],
   "source": [
    "BOW_Train = count_vect.transform(xtrain)\n",
    "BOW_CV = count_vect.transform(xcv)\n",
    "BOW_Test = count_vect.transform(xtest)"
   ]
  },
  {
   "cell_type": "markdown",
   "metadata": {
    "colab_type": "text",
    "id": "mjfrB76yiWOa"
   },
   "source": [
    "## [4.2] Bi-Grams and n-Grams."
   ]
  },
  {
   "cell_type": "code",
   "execution_count": 0,
   "metadata": {
    "colab": {},
    "colab_type": "code",
    "id": "mzOdOY6MiWOb",
    "outputId": "5ca07a6a-fb12-4deb-b0f4-21cdb42ccb7a"
   },
   "outputs": [
    {
     "name": "stdout",
     "output_type": "stream",
     "text": [
      "the type of count vectorizer  <class 'scipy.sparse.csr.csr_matrix'>\n",
      "the shape of out text BOW vectorizer  (4986, 3144)\n",
      "the number of unique words including both unigrams and bigrams  3144\n"
     ]
    }
   ],
   "source": [
    "#bi-gram, tri-gram and n-gram\n",
    "\n",
    "#removing stop words like \"not\" should be avoided before building n-grams\n",
    "# count_vect = CountVectorizer(ngram_range=(1,2))\n",
    "# please do read the CountVectorizer documentation http://scikit-learn.org/stable/modules/generated/sklearn.feature_extraction.text.CountVectorizer.html\n",
    "\n",
    "# you can choose these numebrs min_df=10, max_features=5000, of your choice\n",
    "count_vect = CountVectorizer(ngram_range=(1,2), min_df=10, max_features=5000)\n",
    "final_bigram_counts = count_vect.fit_transform(preprocessed_reviews)\n",
    "print(\"the type of count vectorizer \",type(final_bigram_counts))\n",
    "print(\"the shape of out text BOW vectorizer \",final_bigram_counts.get_shape())\n",
    "print(\"the number of unique words including both unigrams and bigrams \", final_bigram_counts.get_shape()[1])"
   ]
  },
  {
   "cell_type": "markdown",
   "metadata": {
    "colab_type": "text",
    "id": "0tcbbZxSiWOd"
   },
   "source": [
    "## [4.3] TF-IDF"
   ]
  },
  {
   "cell_type": "code",
   "execution_count": 38,
   "metadata": {
    "colab": {},
    "colab_type": "code",
    "id": "mQ3EDEsoiWOd",
    "outputId": "b305ed29-861d-40e9-c1df-b12c4e6492a8"
   },
   "outputs": [
    {
     "name": "stdout",
     "output_type": "stream",
     "text": [
      "some sample features(unique words in the corpus) ['aback', 'abc', 'abdominal', 'ability', 'able', 'able buy', 'able chew', 'able drink', 'able eat', 'able enjoy']\n",
      "==================================================\n",
      "the type of count vectorizer  <class 'scipy.sparse.csr.csr_matrix'>\n",
      "the shape of out text TFIDF vectorizer  (364171, 34001)\n",
      "the number of unique words including both unigrams and bigrams  34001\n"
     ]
    }
   ],
   "source": [
    "tf_idf_vect = TfidfVectorizer(ngram_range=(1,2), min_df=10)\n",
    "tf_idf_vect.fit(xtrain)\n",
    "print(\"some sample features(unique words in the corpus)\",tf_idf_vect.get_feature_names()[0:10])\n",
    "print('='*50)\n",
    "\n",
    "final_tf_idf = tf_idf_vect.transform(preprocessed_reviews)\n",
    "print(\"the type of count vectorizer \",type(final_tf_idf))\n",
    "print(\"the shape of out text TFIDF vectorizer \",final_tf_idf.get_shape())\n",
    "print(\"the number of unique words including both unigrams and bigrams \", final_tf_idf.get_shape()[1])"
   ]
  },
  {
   "cell_type": "code",
   "execution_count": 39,
   "metadata": {},
   "outputs": [],
   "source": [
    "tfidf_train = tf_idf_vect.transform(xtrain)\n",
    "tfidf_cv = tf_idf_vect.transform(xcv)\n",
    "tfidf_test = tf_idf_vect.transform(xtest)"
   ]
  },
  {
   "cell_type": "markdown",
   "metadata": {
    "colab_type": "text",
    "id": "u566lt93iWOf"
   },
   "source": [
    "## [4.4] Word2Vec"
   ]
  },
  {
   "cell_type": "code",
   "execution_count": 40,
   "metadata": {
    "colab": {},
    "colab_type": "code",
    "id": "pxlbMwFjiWOg"
   },
   "outputs": [],
   "source": [
    "# Train your own Word2Vec model using your own text corpus\n",
    "i=0\n",
    "list_of_sentance=[]\n",
    "for sentance in preprocessed_reviews[:100000]:\n",
    "    list_of_sentance.append(sentance.split())"
   ]
  },
  {
   "cell_type": "code",
   "execution_count": 0,
   "metadata": {
    "colab": {},
    "colab_type": "code",
    "id": "NOd5wp0yiWOh",
    "outputId": "ae28439d-438c-4d88-ed12-db5f3317218f",
    "scrolled": true
   },
   "outputs": [
    {
     "name": "stdout",
     "output_type": "stream",
     "text": [
      "[('snack', 0.9951335191726685), ('calorie', 0.9946465492248535), ('wonderful', 0.9946032166481018), ('excellent', 0.9944332838058472), ('especially', 0.9941144585609436), ('baked', 0.9940600395202637), ('salted', 0.994047224521637), ('alternative', 0.9937226176261902), ('tasty', 0.9936816692352295), ('healthy', 0.9936649799346924)]\n",
      "==================================================\n",
      "[('varieties', 0.9994194507598877), ('become', 0.9992934465408325), ('popcorn', 0.9992750883102417), ('de', 0.9992610216140747), ('miss', 0.9992451071739197), ('melitta', 0.999218761920929), ('choice', 0.9992102384567261), ('american', 0.9991837739944458), ('beef', 0.9991780519485474), ('finish', 0.9991567134857178)]\n"
     ]
    }
   ],
   "source": [
    "# Using Google News Word2Vectors\n",
    "\n",
    "# in this project we are using a pretrained model by google\n",
    "# its 3.3G file, once you load this into your memory \n",
    "# it occupies ~9Gb, so please do this step only if you have >12G of ram\n",
    "# we will provide a pickle file wich contains a dict , \n",
    "# and it contains all our courpus words as keys and  model[word] as values\n",
    "# To use this code-snippet, download \"GoogleNews-vectors-negative300.bin\" \n",
    "# from https://drive.google.com/file/d/0B7XkCwpI5KDYNlNUTTlSS21pQmM/edit\n",
    "# it's 1.9GB in size.\n",
    "\n",
    "\n",
    "# http://kavita-ganesan.com/gensim-word2vec-tutorial-starter-code/#.W17SRFAzZPY\n",
    "# you can comment this whole cell\n",
    "# or change these varible according to your need\n",
    "\n",
    "is_your_ram_gt_16g=False\n",
    "want_to_use_google_w2v = False\n",
    "want_to_train_w2v = True\n",
    "\n",
    "if want_to_train_w2v:\n",
    "    # min_count = 5 considers only words that occured atleast 5 times\n",
    "    w2v_model=Word2Vec(list_of_sentance,min_count=5,size=50, workers=4)\n",
    "    print(w2v_model.wv.most_similar('great'))\n",
    "    print('='*50)\n",
    "    print(w2v_model.wv.most_similar('worst'))\n",
    "    \n",
    "elif want_to_use_google_w2v and is_your_ram_gt_16g:\n",
    "    if os.path.isfile('GoogleNews-vectors-negative300.bin'):\n",
    "        w2v_model=KeyedVectors.load_word2vec_format('GoogleNews-vectors-negative300.bin', binary=True)\n",
    "        print(w2v_model.wv.most_similar('great'))\n",
    "        print(w2v_model.wv.most_similar('worst'))\n",
    "    else:\n",
    "        print(\"you don't have gogole's word2vec file, keep want_to_train_w2v = True, to train your own w2v \")"
   ]
  },
  {
   "cell_type": "code",
   "execution_count": 41,
   "metadata": {
    "colab": {},
    "colab_type": "code",
    "id": "teE01Qk2iWOj",
    "outputId": "f063436c-8b62-49d3-e093-723395e66ccd"
   },
   "outputs": [
    {
     "name": "stderr",
     "output_type": "stream",
     "text": [
      "C:\\Users\\yogesh.dayma\\AppData\\Local\\Continuum\\anaconda3\\lib\\site-packages\\gensim\\models\\base_any2vec.py:743: UserWarning: C extension not loaded, training will be slow. Install a C compiler and reinstall gensim for fast training.\n",
      "  \"C extension not loaded, training will be slow. \"\n"
     ]
    },
    {
     "name": "stdout",
     "output_type": "stream",
     "text": [
      "number of words that occured minimum 5 times  13200\n",
      "sample words  ['little', 'book', 'makes', 'son', 'laugh', 'loud', 'car', 'driving', 'along', 'always', 'sing', 'refrain', 'learned', 'india', 'roses', 'love', 'new', 'words', 'classic', 'willing', 'bet', 'still', 'able', 'memory', 'college', 'grew', 'reading', 'sendak', 'books', 'watching', 'really', 'movie', 'incorporates', 'loves', 'however', 'miss', 'hard', 'cover', 'version', 'seem', 'kind', 'flimsy', 'takes', 'two', 'hands', 'keep', 'pages', 'open', 'fun', 'way']\n",
      "Wall time: 1h 41min 1s\n"
     ]
    }
   ],
   "source": [
    "%%time\n",
    "w2v_model=Word2Vec(list_of_sentance,min_count=10,size=100, workers=4)\n",
    "w2v_words = list(w2v_model.wv.vocab)\n",
    "print(\"number of words that occured minimum 5 times \",len(w2v_words))\n",
    "print(\"sample words \", w2v_words[0:50])"
   ]
  },
  {
   "cell_type": "markdown",
   "metadata": {
    "colab_type": "text",
    "id": "mUNnof40iWOl"
   },
   "source": [
    "## [4.4.1] Converting text into vectors using Avg W2V, TFIDF-W2V"
   ]
  },
  {
   "cell_type": "markdown",
   "metadata": {
    "colab_type": "text",
    "id": "heHLB_FCiWOm"
   },
   "source": [
    "#### [4.4.1.1] Avg W2v"
   ]
  },
  {
   "cell_type": "code",
   "execution_count": 42,
   "metadata": {
    "colab": {},
    "colab_type": "code",
    "id": "iCYoNRANiWOm",
    "outputId": "96ebb104-44d7-4b7d-aa45-62614bbfcf44"
   },
   "outputs": [
    {
     "name": "stderr",
     "output_type": "stream",
     "text": [
      "100%|█████████████████████████████████████████████████████████████████████████| 100000/100000 [03:29<00:00, 477.51it/s]\n"
     ]
    },
    {
     "name": "stdout",
     "output_type": "stream",
     "text": [
      "100000\n",
      "100\n"
     ]
    }
   ],
   "source": [
    "# average Word2Vec\n",
    "# compute average word2vec for each review.\n",
    "sent_vectors = []; # the avg-w2v for each sentence/review is stored in this list\n",
    "for sent in tqdm(list_of_sentance): # for each review/sentence\n",
    "    sent_vec = np.zeros(100) # as word vectors are of zero length 50, you might need to change this to 300 if you use google's w2v\n",
    "    cnt_words =0; # num of words with a valid vector in the sentence/review\n",
    "    for word in sent: # for each word in a review/sentence\n",
    "        if word in w2v_words:\n",
    "            vec = w2v_model.wv[word]\n",
    "            sent_vec += vec\n",
    "            cnt_words += 1\n",
    "    if cnt_words != 0:\n",
    "        sent_vec /= cnt_words\n",
    "    sent_vectors.append(sent_vec)\n",
    "print(len(sent_vectors))\n",
    "print(len(sent_vectors[0]))"
   ]
  },
  {
   "cell_type": "code",
   "execution_count": 62,
   "metadata": {},
   "outputs": [],
   "source": [
    "#SPLITTING THE DATA FOR TRAINING AND TESTING\n",
    "X1,Xtest_w2v,y1,ytest_w2v = train_test_split(sent_vectors,final['Score'][:100000],test_size = 0.3)\n",
    "#Splitting the training data into train and cross validate\n",
    "Xtrain_w2v,Xcv_w2v,ytrain_w2v,ycv_w2v = train_test_split(X1,y1,test_size=0.3)"
   ]
  },
  {
   "cell_type": "markdown",
   "metadata": {
    "colab_type": "text",
    "id": "ylTn3LgiiWOo"
   },
   "source": [
    "#### [4.4.1.2] TFIDF weighted W2v"
   ]
  },
  {
   "cell_type": "code",
   "execution_count": 59,
   "metadata": {
    "colab": {},
    "colab_type": "code",
    "id": "XBxf_qKSiWOo"
   },
   "outputs": [],
   "source": [
    "# S = [\"abc def pqr\", \"def def def abc\", \"pqr pqr def\"]\n",
    "model = TfidfVectorizer()\n",
    "tf_idf_matrix = model.fit_transform(preprocessed_reviews)\n",
    "# we are converting a dictionary with word as a key, and the idf as a value\n",
    "dictionary = dict(zip(model.get_feature_names(), list(model.idf_)))"
   ]
  },
  {
   "cell_type": "code",
   "execution_count": 61,
   "metadata": {
    "colab": {},
    "colab_type": "code",
    "id": "5FHQMSyUiWOp",
    "outputId": "6b5b71be-e3f7-4933-cd74-f78fb703132d",
    "scrolled": true
   },
   "outputs": [
    {
     "name": "stderr",
     "output_type": "stream",
     "text": [
      "100%|████████████████████████████████████████████████████████████████████████| 100000/100000 [2:33:08<00:00, 10.88it/s]\n"
     ]
    }
   ],
   "source": [
    "# TF-IDF weighted Word2Vec\n",
    "tfidf_feat = model.get_feature_names() # tfidf words/col-names\n",
    "# final_tf_idf is the sparse matrix with row= sentence, col=word and cell_val = tfidf\n",
    "\n",
    "tfidf_sent_vectors = []; # the tfidf-w2v for each sentence/review is stored in this list\n",
    "row=0;\n",
    "for sent in tqdm(list_of_sentance): # for each review/sentence \n",
    "    sent_vec = np.zeros(100) # as word vectors are of zero length\n",
    "    weight_sum =0; # num of words with a valid vector in the sentence/review\n",
    "    for word in sent: # for each word in a review/sentence\n",
    "        if word in w2v_words and word in tfidf_feat:\n",
    "            vec = w2v_model.wv[word]\n",
    "#             tf_idf = tf_idf_matrix[row, tfidf_feat.index(word)]\n",
    "            # to reduce the computation we are \n",
    "            # dictionary[word] = idf value of word in whole courpus\n",
    "            # sent.count(word) = tf valeus of word in this review\n",
    "            tf_idf = dictionary[word]*(sent.count(word)/len(sent))\n",
    "            sent_vec += (vec * tf_idf)\n",
    "            weight_sum += tf_idf\n",
    "    if weight_sum != 0:\n",
    "        sent_vec /= weight_sum\n",
    "    tfidf_sent_vectors.append(sent_vec)\n",
    "    row += 1"
   ]
  },
  {
   "cell_type": "code",
   "execution_count": 70,
   "metadata": {},
   "outputs": [],
   "source": [
    "#SPLITTING THE DATA FOR TRAINING AND TESTING\n",
    "X1,Xtest_tfidfw2v,y1,ytest_tfidfw2v = train_test_split(tfidf_sent_vectors,final['Score'][:100000],test_size = 0.3)\n",
    "#Splitting the training data into train and cross validate\n",
    "Xtrain_tfidfw2v,Xcv_tfidfw2v,ytrain_tfidfw2v,ycv_tfidfw2v = train_test_split(X1,y1,test_size=0.3)"
   ]
  },
  {
   "cell_type": "markdown",
   "metadata": {
    "colab_type": "text",
    "id": "IwObBT2UiWOr"
   },
   "source": [
    "# [5] Assignment 8: Decision Trees"
   ]
  },
  {
   "cell_type": "markdown",
   "metadata": {
    "colab_type": "text",
    "id": "k_mwmumRiWOr"
   },
   "source": [
    "<ol>\n",
    "    <li><strong>Apply Decision Trees on these feature sets</strong>\n",
    "        <ul>\n",
    "            <li><font color='red'>SET 1:</font>Review text, preprocessed one converted into vectors using (BOW)</li>\n",
    "            <li><font color='red'>SET 2:</font>Review text, preprocessed one converted into vectors using (TFIDF)</li>\n",
    "            <li><font color='red'>SET 3:</font>Review text, preprocessed one converted into vectors using (AVG W2v)</li>\n",
    "            <li><font color='red'>SET 4:</font>Review text, preprocessed one converted into vectors using (TFIDF W2v)</li>\n",
    "        </ul>\n",
    "    </li>\n",
    "    <br>\n",
    "    <li><strong>The hyper paramter tuning (best `depth` in range [1, 5, 10, 50, 100, 500, 100], and the best `min_samples_split` in range [5, 10, 100, 500])</strong>\n",
    "        <ul>\n",
    "    <li>Find the best hyper parameter which will give the maximum <a href='https://www.appliedaicourse.com/course/applied-ai-course-online/lessons/receiver-operating-characteristic-curve-roc-curve-and-auc-1/'>AUC</a> value</li>\n",
    "    <li>Find the best hyper paramter using k-fold cross validation or simple cross validation data</li>\n",
    "    <li>Use gridsearch cv or randomsearch cv or you can also write your own for loops to do this task of hyperparameter tuning</li>          \n",
    "        </ul>\n",
    "    </li>\n",
    "    <br>\n",
    "    <li><strong>Graphviz</strong>\n",
    "        <ul>\n",
    "    <li>Visualize your decision tree with Graphviz. It helps you to understand how a decision is being made, given a new vector.</li>\n",
    "    <li>Since feature names are not obtained from word2vec related models, visualize only BOW & TFIDF decision trees using Graphviz</li>\n",
    "    <li>Make sure to print the words in each node of the decision tree instead of printing its index.</li>\n",
    "    <li>Just for visualization purpose, limit max_depth to 2 or 3 and either embed the generated images of graphviz in your notebook, or directly upload them as .png files.</li>                \n",
    "        </ul>\n",
    "    </li>\n",
    "    <br>\n",
    "    <li><strong>Feature importance</strong>\n",
    "        <ul>\n",
    "    <li>Find the top 20 important features from both feature sets <font color='red'>Set 1</font> and <font color='red'>Set 2</font> using `feature_importances_` method of <a href='https://scikit-learn.org/stable/modules/generated/sklearn.tree.DecisionTreeClassifier.html'>Decision Tree Classifier</a> and print their corresponding feature names</li>\n",
    "        </ul>\n",
    "    </li>\n",
    "    <br>\n",
    "    <li><strong>Feature engineering</strong>\n",
    "        <ul>\n",
    "    <li>To increase the performance of your model, you can also experiment with with feature engineering like :</li>\n",
    "            <ul>\n",
    "            <li>Taking length of reviews as another feature.</li>\n",
    "            <li>Considering some features from review summary as well.</li>\n",
    "        </ul>\n",
    "        </ul>\n",
    "    </li>\n",
    "    <br>\n",
    "    <li><strong>Representation of results</strong>\n",
    "        <ul>\n",
    "    <li>You need to plot the performance of model both on train data and cross validation data for each hyper parameter, like shown in the figure.\n",
    "    <img src='train_cv_auc.JPG' width=300px></li>\n",
    "    <li>Once after you found the best hyper parameter, you need to train your model with it, and find the AUC on test data and plot the ROC curve on both train and test.\n",
    "    <img src='train_test_auc.JPG' width=300px></li>\n",
    "    <li>Along with plotting ROC curve, you need to print the <a href='https://www.appliedaicourse.com/course/applied-ai-course-online/lessons/confusion-matrix-tpr-fpr-fnr-tnr-1/'>confusion matrix</a> with predicted and original labels of test data points. Please visualize your confusion matrices using <a href='https://seaborn.pydata.org/generated/seaborn.heatmap.html'>seaborn heatmaps.\n",
    "    <img src='confusion_matrix.png' width=300px></li>\n",
    "        </ul>\n",
    "    </li>\n",
    "    <br>\n",
    "    <li><strong>Conclusion</strong>\n",
    "        <ul>\n",
    "    <li>You need to summarize the results at the end of the notebook, summarize it in the table format. To print out a table please refer to this prettytable library<a href='http://zetcode.com/python/prettytable/'>  link</a> \n",
    "        <img src='summary.JPG' width=400px>\n",
    "    </li>\n",
    "        </ul>\n",
    "</ol>"
   ]
  },
  {
   "cell_type": "markdown",
   "metadata": {
    "colab_type": "text",
    "id": "uqhvv_IiiWOs"
   },
   "source": [
    "<h4><font color='red'>Note: Data Leakage</font></h4>\n",
    "\n",
    "1. There will be an issue of data-leakage if you vectorize the entire data and then split it into train/cv/test.\n",
    "2. To avoid the issue of data-leakag, make sure to split your data first and then vectorize it. \n",
    "3. While vectorizing your data, apply the method fit_transform() on you train data, and apply the method transform() on cv/test data.\n",
    "4. For more details please go through this <a href='https://soundcloud.com/applied-ai-course/leakage-bow-and-tfidf'>link.</a>"
   ]
  },
  {
   "cell_type": "markdown",
   "metadata": {
    "colab_type": "text",
    "id": "ayLYlocviWOs"
   },
   "source": [
    "# Applying Decision Trees"
   ]
  },
  {
   "cell_type": "markdown",
   "metadata": {
    "colab_type": "text",
    "id": "fvKQwJMWiWOt"
   },
   "source": [
    "## [5.1] Applying Decision Trees on BOW,<font color='red'> SET 1</font>"
   ]
  },
  {
   "cell_type": "code",
   "execution_count": 102,
   "metadata": {
    "colab": {},
    "colab_type": "code",
    "id": "vnSi4W-iiWOt"
   },
   "outputs": [
    {
     "data": {
      "text/plain": [
       "GridSearchCV(cv=5, error_score='raise',\n",
       "       estimator=DecisionTreeClassifier(class_weight='balanced', criterion='gini',\n",
       "            max_depth=None, max_features=None, max_leaf_nodes=None,\n",
       "            min_impurity_decrease=0.0, min_impurity_split=None,\n",
       "            min_samples_leaf=1, min_samples_split=2,\n",
       "            min_weight_fraction_leaf=0.0, presort=False, random_state=None,\n",
       "            splitter='best'),\n",
       "       fit_params=None, iid=True, n_jobs=-1,\n",
       "       param_grid={'max_depth': [1, 5, 10, 50, 100, 500, 100], 'min_samples_split': [5, 10, 100, 500]},\n",
       "       pre_dispatch='2*n_jobs', refit=True, return_train_score='warn',\n",
       "       scoring=None, verbose=0)"
      ]
     },
     "execution_count": 102,
     "metadata": {},
     "output_type": "execute_result"
    }
   ],
   "source": [
    "# Please write all the code with proper documentation\n",
    "\n",
    "from sklearn.tree import DecisionTreeClassifier\n",
    "from sklearn.model_selection import GridSearchCV\n",
    "\n",
    "hyper_params = {'max_depth':[1, 5, 10, 50, 100, 500, 100],'min_samples_split':[5, 10, 100, 500] }\n",
    "\n",
    "DTC = DecisionTreeClassifier(class_weight='balanced')\n",
    "\n",
    "clf = GridSearchCV(DTC, hyper_params, cv=5,n_jobs=-1)\n",
    "clf.fit(BOW_Train, ytrain)"
   ]
  },
  {
   "cell_type": "code",
   "execution_count": 104,
   "metadata": {},
   "outputs": [
    {
     "data": {
      "text/plain": [
       "{'max_depth': 500, 'min_samples_split': 5}"
      ]
     },
     "execution_count": 104,
     "metadata": {},
     "output_type": "execute_result"
    }
   ],
   "source": [
    "clf.best_params_"
   ]
  },
  {
   "cell_type": "code",
   "execution_count": 29,
   "metadata": {},
   "outputs": [],
   "source": [
    "scores = clf.cv_results_['mean_test_score'].reshape(len(hyper_params['max_depth']),len(hyper_params['min_samples_split']))"
   ]
  },
  {
   "cell_type": "code",
   "execution_count": 30,
   "metadata": {},
   "outputs": [
    {
     "data": {
      "text/plain": [
       "array([[0.85186667, 0.85186667, 0.85186667, 0.85186667],\n",
       "       [0.85913333, 0.8591    , 0.85921667, 0.85853333],\n",
       "       [0.86345   , 0.86363333, 0.86361667, 0.86218333],\n",
       "       [0.85376667, 0.85365   , 0.85571667, 0.8613    ],\n",
       "       [0.84811667, 0.84743333, 0.85136667, 0.85625   ],\n",
       "       [0.84361667, 0.84283333, 0.84736667, 0.85306667],\n",
       "       [0.84728333, 0.84721667, 0.85183333, 0.85685   ]])"
      ]
     },
     "execution_count": 30,
     "metadata": {},
     "output_type": "execute_result"
    }
   ],
   "source": [
    "scores"
   ]
  },
  {
   "cell_type": "code",
   "execution_count": 31,
   "metadata": {},
   "outputs": [
    {
     "data": {
      "text/plain": [
       "<matplotlib.axes._subplots.AxesSubplot at 0x25043eb9198>"
      ]
     },
     "execution_count": 31,
     "metadata": {},
     "output_type": "execute_result"
    },
    {
     "data": {
      "image/png": "[encoded data removed]",
      "text/plain": [
       "<Figure size 432x288 with 2 Axes>"
      ]
     },
     "metadata": {
      "needs_background": "light"
     },
     "output_type": "display_data"
    }
   ],
   "source": [
    "import seaborn as sns\n",
    "\n",
    "sns.heatmap(scores,yticklabels=hyper_params['max_depth'],xticklabels=hyper_params['min_samples_split'])"
   ]
  },
  {
   "cell_type": "code",
   "execution_count": 32,
   "metadata": {},
   "outputs": [
    {
     "data": {
      "image/png": "[encoded data removed]",
      "text/plain": [
       "<Figure size 432x288 with 1 Axes>"
      ]
     },
     "metadata": {
      "needs_background": "light"
     },
     "output_type": "display_data"
    }
   ],
   "source": [
    "best_max_depth = 10\n",
    "best_min_sample_split = 10\n",
    "\n",
    "DTC = DecisionTreeClassifier(max_depth=best_max_depth,min_samples_split=best_min_sample_split)\n",
    "\n",
    "DTC.fit(BOW_Train,ytrain)\n",
    "ypred = DTC.predict(BOW_Test)\n",
    "\n",
    "train_fpr, train_tpr, thresholds = roc_curve(ytrain, DTC.predict_proba(BOW_Train)[:,1])\n",
    "test_fpr, test_tpr, thresholds = roc_curve(ytest, DTC.predict_proba(BOW_Test)[:,1])\n",
    "\n",
    "plt.plot(train_fpr, train_tpr, label=\"train AUC =\"+str(auc(train_fpr, train_tpr)))\n",
    "plt.plot(test_fpr, test_tpr, label=\"test AUC =\"+str(auc(test_fpr, test_tpr)))\n",
    "plt.legend()\n",
    "plt.title(\"ERROR PLOTS\")\n",
    "plt.show()"
   ]
  },
  {
   "cell_type": "code",
   "execution_count": 33,
   "metadata": {},
   "outputs": [
    {
     "name": "stdout",
     "output_type": "stream",
     "text": [
      "Train confusion matrix\n"
     ]
    },
    {
     "data": {
      "text/plain": [
       "Text(33,0.5,'True Values')"
      ]
     },
     "execution_count": 33,
     "metadata": {},
     "output_type": "execute_result"
    },
    {
     "data": {
      "image/png": "[encoded data removed]",
      "text/plain": [
       "<Figure size 432x288 with 2 Axes>"
      ]
     },
     "metadata": {
      "needs_background": "light"
     },
     "output_type": "display_data"
    }
   ],
   "source": [
    "print(\"Train confusion matrix\")\n",
    "train_cm = confusion_matrix(ytrain, DTC.predict(BOW_Train))\n",
    "\n",
    "\n",
    "heatmap = sns.heatmap(train_cm, annot=True, fmt=\"d\")\n",
    "plt.xlabel(\"Predicted Values\")\n",
    "plt.ylabel(\"True Values\")"
   ]
  },
  {
   "cell_type": "code",
   "execution_count": 34,
   "metadata": {},
   "outputs": [
    {
     "name": "stdout",
     "output_type": "stream",
     "text": [
      "Test confusion matrix\n"
     ]
    },
    {
     "data": {
      "text/plain": [
       "Text(33,0.5,'True Values')"
      ]
     },
     "execution_count": 34,
     "metadata": {},
     "output_type": "execute_result"
    },
    {
     "data": {
      "image/png": "[encoded data removed]",
      "text/plain": [
       "<Figure size 432x288 with 2 Axes>"
      ]
     },
     "metadata": {
      "needs_background": "light"
     },
     "output_type": "display_data"
    }
   ],
   "source": [
    "print(\"Test confusion matrix\")\n",
    "test_cm = confusion_matrix(ytest, DTC.predict(BOW_Test))\n",
    "\n",
    "\n",
    "heatmap = sns.heatmap(test_cm, annot=True, fmt=\"d\")\n",
    "plt.xlabel(\"Predicted Values\")\n",
    "plt.ylabel(\"True Values\")"
   ]
  },
  {
   "cell_type": "markdown",
   "metadata": {
    "colab_type": "text",
    "id": "jm4vkPwMiWOu"
   },
   "source": [
    "### [5.1.1] Top 20 important features from<font color='red'> SET 1</font>"
   ]
  },
  {
   "cell_type": "code",
   "execution_count": 54,
   "metadata": {
    "colab": {},
    "colab_type": "code",
    "id": "puCcjOAkiWOv"
   },
   "outputs": [
    {
     "name": "stdout",
     "output_type": "stream",
     "text": [
      "[(0.36584391161015606, 'not'), (0.23962950185895668, 'great'), (0.18989267184087014, 'money'), (0.11200303270966654, 'disappointed'), (0.09263088198035065, 'worst'), (0.0, 'zukes'), (0.0, 'zuke'), (0.0, 'ziplock'), (0.0, 'ziploc'), (0.0, 'zip'), (0.0, 'zinger'), (0.0, 'zing'), (0.0, 'zico'), (0.0, 'zest'), (0.0, 'zero'), (0.0, 'zen'), (0.0, 'yummy'), (0.0, 'yum'), (0.0, 'yucky'), (0.0, 'yuck')]\n"
     ]
    }
   ],
   "source": [
    "features = count_vect.get_feature_names()\n",
    "features_dict = sorted(zip(DTC.feature_importances_,features),reverse=True)\n",
    "print(features_dict[:20])"
   ]
  },
  {
   "cell_type": "code",
   "execution_count": 52,
   "metadata": {},
   "outputs": [
    {
     "data": {
      "text/plain": [
       "34001"
      ]
     },
     "execution_count": 52,
     "metadata": {},
     "output_type": "execute_result"
    }
   ],
   "source": [
    "len(features)"
   ]
  },
  {
   "cell_type": "markdown",
   "metadata": {
    "colab_type": "text",
    "id": "7JyitDTTiWOx"
   },
   "source": [
    "### [5.1.2] Graphviz visualization of Decision Tree on BOW,<font color='red'> SET 1</font>"
   ]
  },
  {
   "cell_type": "code",
   "execution_count": 39,
   "metadata": {},
   "outputs": [],
   "source": [
    "import os\n",
    "os.environ[\"PATH\"] += os.pathsep + 'C:\\Program Files (x86)\\Graphviz2.38\\bin'"
   ]
  },
  {
   "cell_type": "code",
   "execution_count": 55,
   "metadata": {
    "colab": {},
    "colab_type": "code",
    "id": "-jxU7zrAiWOy"
   },
   "outputs": [
    {
     "data": {
      "image/svg+xml": [
       "<svg height=\"433pt\" viewBox=\"0.00 0.00 1084.50 433.00\" width=\"1085pt\" xmlns=\"http://www.w3.org/2000/svg\" xmlns:xlink=\"http://www.w3.org/1999/xlink\">\n",
       "<g class=\"graph\" id=\"graph0\" transform=\"scale(1 1) rotate(0) translate(4 429)\">\n",
       "<title>Tree</title>\n",
       "<polygon fill=\"white\" points=\"-4,4 -4,-429 1080.5,-429 1080.5,4 -4,4\" stroke=\"none\"/>\n",
       "<!-- 0 -->\n",
       "<g class=\"node\" id=\"node1\"><title>0</title>\n",
       "<polygon fill=\"#399de5\" fill-opacity=\"0.827451\" points=\"600,-425 462,-425 462,-342 600,-342 600,-425\" stroke=\"black\"/>\n",
       "<text font-family=\"Times New Roman,serif\" font-size=\"14.00\" text-anchor=\"middle\" x=\"531\" y=\"-409.8\">not &lt;= 0.5</text>\n",
       "<text font-family=\"Times New Roman,serif\" font-size=\"14.00\" text-anchor=\"middle\" x=\"531\" y=\"-394.8\">gini = 0.252</text>\n",
       "<text font-family=\"Times New Roman,serif\" font-size=\"14.00\" text-anchor=\"middle\" x=\"531\" y=\"-379.8\">samples = 60000</text>\n",
       "<text font-family=\"Times New Roman,serif\" font-size=\"14.00\" text-anchor=\"middle\" x=\"531\" y=\"-364.8\">value = [8888, 51112]</text>\n",
       "<text font-family=\"Times New Roman,serif\" font-size=\"14.00\" text-anchor=\"middle\" x=\"531\" y=\"-349.8\">class = 1</text>\n",
       "</g>\n",
       "<!-- 1 -->\n",
       "<g class=\"node\" id=\"node2\"><title>1</title>\n",
       "<polygon fill=\"#399de5\" fill-opacity=\"0.909804\" points=\"500,-306 362,-306 362,-223 500,-223 500,-306\" stroke=\"black\"/>\n",
       "<text font-family=\"Times New Roman,serif\" font-size=\"14.00\" text-anchor=\"middle\" x=\"431\" y=\"-290.8\">disappointed &lt;= 0.5</text>\n",
       "<text font-family=\"Times New Roman,serif\" font-size=\"14.00\" text-anchor=\"middle\" x=\"431\" y=\"-275.8\">gini = 0.153</text>\n",
       "<text font-family=\"Times New Roman,serif\" font-size=\"14.00\" text-anchor=\"middle\" x=\"431\" y=\"-260.8\">samples = 28761</text>\n",
       "<text font-family=\"Times New Roman,serif\" font-size=\"14.00\" text-anchor=\"middle\" x=\"431\" y=\"-245.8\">value = [2405, 26356]</text>\n",
       "<text font-family=\"Times New Roman,serif\" font-size=\"14.00\" text-anchor=\"middle\" x=\"431\" y=\"-230.8\">class = 1</text>\n",
       "</g>\n",
       "<!-- 0&#45;&gt;1 -->\n",
       "<g class=\"edge\" id=\"edge1\"><title>0-&gt;1</title>\n",
       "<path d=\"M496.305,-341.907C488.549,-332.832 480.249,-323.121 472.256,-313.769\" fill=\"none\" stroke=\"black\"/>\n",
       "<polygon fill=\"black\" points=\"474.791,-311.349 465.633,-306.021 469.47,-315.897 474.791,-311.349\" stroke=\"black\"/>\n",
       "<text font-family=\"Times New Roman,serif\" font-size=\"14.00\" text-anchor=\"middle\" x=\"463.681\" y=\"-327.244\">True</text>\n",
       "</g>\n",
       "<!-- 8 -->\n",
       "<g class=\"node\" id=\"node9\"><title>8</title>\n",
       "<polygon fill=\"#399de5\" fill-opacity=\"0.737255\" points=\"700,-306 562,-306 562,-223 700,-223 700,-306\" stroke=\"black\"/>\n",
       "<text font-family=\"Times New Roman,serif\" font-size=\"14.00\" text-anchor=\"middle\" x=\"631\" y=\"-290.8\">great &lt;= 0.5</text>\n",
       "<text font-family=\"Times New Roman,serif\" font-size=\"14.00\" text-anchor=\"middle\" x=\"631\" y=\"-275.8\">gini = 0.329</text>\n",
       "<text font-family=\"Times New Roman,serif\" font-size=\"14.00\" text-anchor=\"middle\" x=\"631\" y=\"-260.8\">samples = 31239</text>\n",
       "<text font-family=\"Times New Roman,serif\" font-size=\"14.00\" text-anchor=\"middle\" x=\"631\" y=\"-245.8\">value = [6483, 24756]</text>\n",
       "<text font-family=\"Times New Roman,serif\" font-size=\"14.00\" text-anchor=\"middle\" x=\"631\" y=\"-230.8\">class = 1</text>\n",
       "</g>\n",
       "<!-- 0&#45;&gt;8 -->\n",
       "<g class=\"edge\" id=\"edge8\"><title>0-&gt;8</title>\n",
       "<path d=\"M565.695,-341.907C573.451,-332.832 581.751,-323.121 589.744,-313.769\" fill=\"none\" stroke=\"black\"/>\n",
       "<polygon fill=\"black\" points=\"592.53,-315.897 596.367,-306.021 587.209,-311.349 592.53,-315.897\" stroke=\"black\"/>\n",
       "<text font-family=\"Times New Roman,serif\" font-size=\"14.00\" text-anchor=\"middle\" x=\"598.319\" y=\"-327.244\">False</text>\n",
       "</g>\n",
       "<!-- 2 -->\n",
       "<g class=\"node\" id=\"node3\"><title>2</title>\n",
       "<polygon fill=\"#399de5\" fill-opacity=\"0.913725\" points=\"277,-187 139,-187 139,-104 277,-104 277,-187\" stroke=\"black\"/>\n",
       "<text font-family=\"Times New Roman,serif\" font-size=\"14.00\" text-anchor=\"middle\" x=\"208\" y=\"-171.8\">worst &lt;= 0.5</text>\n",
       "<text font-family=\"Times New Roman,serif\" font-size=\"14.00\" text-anchor=\"middle\" x=\"208\" y=\"-156.8\">gini = 0.144</text>\n",
       "<text font-family=\"Times New Roman,serif\" font-size=\"14.00\" text-anchor=\"middle\" x=\"208\" y=\"-141.8\">samples = 28441</text>\n",
       "<text font-family=\"Times New Roman,serif\" font-size=\"14.00\" text-anchor=\"middle\" x=\"208\" y=\"-126.8\">value = [2229, 26212]</text>\n",
       "<text font-family=\"Times New Roman,serif\" font-size=\"14.00\" text-anchor=\"middle\" x=\"208\" y=\"-111.8\">class = 1</text>\n",
       "</g>\n",
       "<!-- 1&#45;&gt;2 -->\n",
       "<g class=\"edge\" id=\"edge2\"><title>1-&gt;2</title>\n",
       "<path d=\"M361.969,-227.282C337.93,-214.67 310.796,-200.433 286.077,-187.464\" fill=\"none\" stroke=\"black\"/>\n",
       "<polygon fill=\"black\" points=\"287.57,-184.295 277.089,-182.749 284.318,-190.494 287.57,-184.295\" stroke=\"black\"/>\n",
       "</g>\n",
       "<!-- 5 -->\n",
       "<g class=\"node\" id=\"node6\"><title>5</title>\n",
       "<polygon fill=\"#e58139\" fill-opacity=\"0.180392\" points=\"490,-187 372,-187 372,-104 490,-104 490,-187\" stroke=\"black\"/>\n",
       "<text font-family=\"Times New Roman,serif\" font-size=\"14.00\" text-anchor=\"middle\" x=\"431\" y=\"-171.8\">great &lt;= 0.5</text>\n",
       "<text font-family=\"Times New Roman,serif\" font-size=\"14.00\" text-anchor=\"middle\" x=\"431\" y=\"-156.8\">gini = 0.495</text>\n",
       "<text font-family=\"Times New Roman,serif\" font-size=\"14.00\" text-anchor=\"middle\" x=\"431\" y=\"-141.8\">samples = 320</text>\n",
       "<text font-family=\"Times New Roman,serif\" font-size=\"14.00\" text-anchor=\"middle\" x=\"431\" y=\"-126.8\">value = [176, 144]</text>\n",
       "<text font-family=\"Times New Roman,serif\" font-size=\"14.00\" text-anchor=\"middle\" x=\"431\" y=\"-111.8\">class = 0</text>\n",
       "</g>\n",
       "<!-- 1&#45;&gt;5 -->\n",
       "<g class=\"edge\" id=\"edge5\"><title>1-&gt;5</title>\n",
       "<path d=\"M431,-222.907C431,-214.649 431,-205.864 431,-197.302\" fill=\"none\" stroke=\"black\"/>\n",
       "<polygon fill=\"black\" points=\"434.5,-197.021 431,-187.021 427.5,-197.021 434.5,-197.021\" stroke=\"black\"/>\n",
       "</g>\n",
       "<!-- 3 -->\n",
       "<g class=\"node\" id=\"node4\"><title>3</title>\n",
       "<polygon fill=\"#399de5\" fill-opacity=\"0.917647\" points=\"138,-68 0,-68 0,-0 138,-0 138,-68\" stroke=\"black\"/>\n",
       "<text font-family=\"Times New Roman,serif\" font-size=\"14.00\" text-anchor=\"middle\" x=\"69\" y=\"-52.8\">gini = 0.14</text>\n",
       "<text font-family=\"Times New Roman,serif\" font-size=\"14.00\" text-anchor=\"middle\" x=\"69\" y=\"-37.8\">samples = 28341</text>\n",
       "<text font-family=\"Times New Roman,serif\" font-size=\"14.00\" text-anchor=\"middle\" x=\"69\" y=\"-22.8\">value = [2145, 26196]</text>\n",
       "<text font-family=\"Times New Roman,serif\" font-size=\"14.00\" text-anchor=\"middle\" x=\"69\" y=\"-7.8\">class = 1</text>\n",
       "</g>\n",
       "<!-- 2&#45;&gt;3 -->\n",
       "<g class=\"edge\" id=\"edge3\"><title>2-&gt;3</title>\n",
       "<path d=\"M156.242,-103.726C144.2,-94.2406 131.398,-84.1551 119.416,-74.7159\" fill=\"none\" stroke=\"black\"/>\n",
       "<polygon fill=\"black\" points=\"121.292,-71.7385 111.271,-68.2996 116.96,-77.2372 121.292,-71.7385\" stroke=\"black\"/>\n",
       "</g>\n",
       "<!-- 4 -->\n",
       "<g class=\"node\" id=\"node5\"><title>4</title>\n",
       "<polygon fill=\"#e58139\" fill-opacity=\"0.807843\" points=\"260,-68 156,-68 156,-0 260,-0 260,-68\" stroke=\"black\"/>\n",
       "<text font-family=\"Times New Roman,serif\" font-size=\"14.00\" text-anchor=\"middle\" x=\"208\" y=\"-52.8\">gini = 0.269</text>\n",
       "<text font-family=\"Times New Roman,serif\" font-size=\"14.00\" text-anchor=\"middle\" x=\"208\" y=\"-37.8\">samples = 100</text>\n",
       "<text font-family=\"Times New Roman,serif\" font-size=\"14.00\" text-anchor=\"middle\" x=\"208\" y=\"-22.8\">value = [84, 16]</text>\n",
       "<text font-family=\"Times New Roman,serif\" font-size=\"14.00\" text-anchor=\"middle\" x=\"208\" y=\"-7.8\">class = 0</text>\n",
       "</g>\n",
       "<!-- 2&#45;&gt;4 -->\n",
       "<g class=\"edge\" id=\"edge4\"><title>2-&gt;4</title>\n",
       "<path d=\"M208,-103.726C208,-95.5175 208,-86.8595 208,-78.56\" fill=\"none\" stroke=\"black\"/>\n",
       "<polygon fill=\"black\" points=\"211.5,-78.2996 208,-68.2996 204.5,-78.2996 211.5,-78.2996\" stroke=\"black\"/>\n",
       "</g>\n",
       "<!-- 6 -->\n",
       "<g class=\"node\" id=\"node7\"><title>6</title>\n",
       "<polygon fill=\"#e58139\" fill-opacity=\"0.380392\" points=\"396,-68 278,-68 278,-0 396,-0 396,-68\" stroke=\"black\"/>\n",
       "<text font-family=\"Times New Roman,serif\" font-size=\"14.00\" text-anchor=\"middle\" x=\"337\" y=\"-52.8\">gini = 0.472</text>\n",
       "<text font-family=\"Times New Roman,serif\" font-size=\"14.00\" text-anchor=\"middle\" x=\"337\" y=\"-37.8\">samples = 275</text>\n",
       "<text font-family=\"Times New Roman,serif\" font-size=\"14.00\" text-anchor=\"middle\" x=\"337\" y=\"-22.8\">value = [170, 105]</text>\n",
       "<text font-family=\"Times New Roman,serif\" font-size=\"14.00\" text-anchor=\"middle\" x=\"337\" y=\"-7.8\">class = 0</text>\n",
       "</g>\n",
       "<!-- 5&#45;&gt;6 -->\n",
       "<g class=\"edge\" id=\"edge6\"><title>5-&gt;6</title>\n",
       "<path d=\"M395.998,-103.726C388.246,-94.6966 380.028,-85.1235 372.266,-76.0816\" fill=\"none\" stroke=\"black\"/>\n",
       "<polygon fill=\"black\" points=\"374.755,-73.6075 365.586,-68.2996 369.444,-78.1671 374.755,-73.6075\" stroke=\"black\"/>\n",
       "</g>\n",
       "<!-- 7 -->\n",
       "<g class=\"node\" id=\"node8\"><title>7</title>\n",
       "<polygon fill=\"#399de5\" fill-opacity=\"0.847059\" points=\"512,-68 414,-68 414,-0 512,-0 512,-68\" stroke=\"black\"/>\n",
       "<text font-family=\"Times New Roman,serif\" font-size=\"14.00\" text-anchor=\"middle\" x=\"463\" y=\"-52.8\">gini = 0.231</text>\n",
       "<text font-family=\"Times New Roman,serif\" font-size=\"14.00\" text-anchor=\"middle\" x=\"463\" y=\"-37.8\">samples = 45</text>\n",
       "<text font-family=\"Times New Roman,serif\" font-size=\"14.00\" text-anchor=\"middle\" x=\"463\" y=\"-22.8\">value = [6, 39]</text>\n",
       "<text font-family=\"Times New Roman,serif\" font-size=\"14.00\" text-anchor=\"middle\" x=\"463\" y=\"-7.8\">class = 1</text>\n",
       "</g>\n",
       "<!-- 5&#45;&gt;7 -->\n",
       "<g class=\"edge\" id=\"edge7\"><title>5-&gt;7</title>\n",
       "<path d=\"M442.916,-103.726C445.368,-95.3351 447.957,-86.4745 450.432,-78.0072\" fill=\"none\" stroke=\"black\"/>\n",
       "<polygon fill=\"black\" points=\"453.823,-78.8799 453.269,-68.2996 447.104,-76.9163 453.823,-78.8799\" stroke=\"black\"/>\n",
       "</g>\n",
       "<!-- 9 -->\n",
       "<g class=\"node\" id=\"node10\"><title>9</title>\n",
       "<polygon fill=\"#399de5\" fill-opacity=\"0.674510\" points=\"700,-187 562,-187 562,-104 700,-104 700,-187\" stroke=\"black\"/>\n",
       "<text font-family=\"Times New Roman,serif\" font-size=\"14.00\" text-anchor=\"middle\" x=\"631\" y=\"-171.8\">money &lt;= 0.5</text>\n",
       "<text font-family=\"Times New Roman,serif\" font-size=\"14.00\" text-anchor=\"middle\" x=\"631\" y=\"-156.8\">gini = 0.37</text>\n",
       "<text font-family=\"Times New Roman,serif\" font-size=\"14.00\" text-anchor=\"middle\" x=\"631\" y=\"-141.8\">samples = 23862</text>\n",
       "<text font-family=\"Times New Roman,serif\" font-size=\"14.00\" text-anchor=\"middle\" x=\"631\" y=\"-126.8\">value = [5845, 18017]</text>\n",
       "<text font-family=\"Times New Roman,serif\" font-size=\"14.00\" text-anchor=\"middle\" x=\"631\" y=\"-111.8\">class = 1</text>\n",
       "</g>\n",
       "<!-- 8&#45;&gt;9 -->\n",
       "<g class=\"edge\" id=\"edge9\"><title>8-&gt;9</title>\n",
       "<path d=\"M631,-222.907C631,-214.649 631,-205.864 631,-197.302\" fill=\"none\" stroke=\"black\"/>\n",
       "<polygon fill=\"black\" points=\"634.5,-197.021 631,-187.021 627.5,-197.021 634.5,-197.021\" stroke=\"black\"/>\n",
       "</g>\n",
       "<!-- 12 -->\n",
       "<g class=\"node\" id=\"node13\"><title>12</title>\n",
       "<polygon fill=\"#399de5\" fill-opacity=\"0.905882\" points=\"947.5,-187 822.5,-187 822.5,-104 947.5,-104 947.5,-187\" stroke=\"black\"/>\n",
       "<text font-family=\"Times New Roman,serif\" font-size=\"14.00\" text-anchor=\"middle\" x=\"885\" y=\"-171.8\">money &lt;= 0.5</text>\n",
       "<text font-family=\"Times New Roman,serif\" font-size=\"14.00\" text-anchor=\"middle\" x=\"885\" y=\"-156.8\">gini = 0.158</text>\n",
       "<text font-family=\"Times New Roman,serif\" font-size=\"14.00\" text-anchor=\"middle\" x=\"885\" y=\"-141.8\">samples = 7377</text>\n",
       "<text font-family=\"Times New Roman,serif\" font-size=\"14.00\" text-anchor=\"middle\" x=\"885\" y=\"-126.8\">value = [638, 6739]</text>\n",
       "<text font-family=\"Times New Roman,serif\" font-size=\"14.00\" text-anchor=\"middle\" x=\"885\" y=\"-111.8\">class = 1</text>\n",
       "</g>\n",
       "<!-- 8&#45;&gt;12 -->\n",
       "<g class=\"edge\" id=\"edge12\"><title>8-&gt;12</title>\n",
       "<path d=\"M700.071,-231.684C735.133,-215.533 777.691,-195.93 813.138,-179.602\" fill=\"none\" stroke=\"black\"/>\n",
       "<polygon fill=\"black\" points=\"814.842,-182.67 822.46,-175.308 811.913,-176.312 814.842,-182.67\" stroke=\"black\"/>\n",
       "</g>\n",
       "<!-- 10 -->\n",
       "<g class=\"node\" id=\"node11\"><title>10</title>\n",
       "<polygon fill=\"#399de5\" fill-opacity=\"0.698039\" points=\"668,-68 530,-68 530,-0 668,-0 668,-68\" stroke=\"black\"/>\n",
       "<text font-family=\"Times New Roman,serif\" font-size=\"14.00\" text-anchor=\"middle\" x=\"599\" y=\"-52.8\">gini = 0.356</text>\n",
       "<text font-family=\"Times New Roman,serif\" font-size=\"14.00\" text-anchor=\"middle\" x=\"599\" y=\"-37.8\">samples = 22993</text>\n",
       "<text font-family=\"Times New Roman,serif\" font-size=\"14.00\" text-anchor=\"middle\" x=\"599\" y=\"-22.8\">value = [5331, 17662]</text>\n",
       "<text font-family=\"Times New Roman,serif\" font-size=\"14.00\" text-anchor=\"middle\" x=\"599\" y=\"-7.8\">class = 1</text>\n",
       "</g>\n",
       "<!-- 9&#45;&gt;10 -->\n",
       "<g class=\"edge\" id=\"edge10\"><title>9-&gt;10</title>\n",
       "<path d=\"M619.084,-103.726C616.632,-95.3351 614.043,-86.4745 611.568,-78.0072\" fill=\"none\" stroke=\"black\"/>\n",
       "<polygon fill=\"black\" points=\"614.896,-76.9163 608.731,-68.2996 608.177,-78.8799 614.896,-76.9163\" stroke=\"black\"/>\n",
       "</g>\n",
       "<!-- 11 -->\n",
       "<g class=\"node\" id=\"node12\"><title>11</title>\n",
       "<polygon fill=\"#e58139\" fill-opacity=\"0.309804\" points=\"804,-68 686,-68 686,-0 804,-0 804,-68\" stroke=\"black\"/>\n",
       "<text font-family=\"Times New Roman,serif\" font-size=\"14.00\" text-anchor=\"middle\" x=\"745\" y=\"-52.8\">gini = 0.483</text>\n",
       "<text font-family=\"Times New Roman,serif\" font-size=\"14.00\" text-anchor=\"middle\" x=\"745\" y=\"-37.8\">samples = 869</text>\n",
       "<text font-family=\"Times New Roman,serif\" font-size=\"14.00\" text-anchor=\"middle\" x=\"745\" y=\"-22.8\">value = [514, 355]</text>\n",
       "<text font-family=\"Times New Roman,serif\" font-size=\"14.00\" text-anchor=\"middle\" x=\"745\" y=\"-7.8\">class = 0</text>\n",
       "</g>\n",
       "<!-- 9&#45;&gt;11 -->\n",
       "<g class=\"edge\" id=\"edge11\"><title>9-&gt;11</title>\n",
       "<path d=\"M673.449,-103.726C683.135,-94.423 693.421,-84.5428 703.084,-75.2612\" fill=\"none\" stroke=\"black\"/>\n",
       "<polygon fill=\"black\" points=\"705.544,-77.7511 710.332,-68.2996 700.695,-72.7027 705.544,-77.7511\" stroke=\"black\"/>\n",
       "</g>\n",
       "<!-- 13 -->\n",
       "<g class=\"node\" id=\"node14\"><title>13</title>\n",
       "<polygon fill=\"#399de5\" fill-opacity=\"0.913725\" points=\"947.5,-68 822.5,-68 822.5,-0 947.5,-0 947.5,-68\" stroke=\"black\"/>\n",
       "<text font-family=\"Times New Roman,serif\" font-size=\"14.00\" text-anchor=\"middle\" x=\"885\" y=\"-52.8\">gini = 0.146</text>\n",
       "<text font-family=\"Times New Roman,serif\" font-size=\"14.00\" text-anchor=\"middle\" x=\"885\" y=\"-37.8\">samples = 7139</text>\n",
       "<text font-family=\"Times New Roman,serif\" font-size=\"14.00\" text-anchor=\"middle\" x=\"885\" y=\"-22.8\">value = [567, 6572]</text>\n",
       "<text font-family=\"Times New Roman,serif\" font-size=\"14.00\" text-anchor=\"middle\" x=\"885\" y=\"-7.8\">class = 1</text>\n",
       "</g>\n",
       "<!-- 12&#45;&gt;13 -->\n",
       "<g class=\"edge\" id=\"edge13\"><title>12-&gt;13</title>\n",
       "<path d=\"M885,-103.726C885,-95.5175 885,-86.8595 885,-78.56\" fill=\"none\" stroke=\"black\"/>\n",
       "<polygon fill=\"black\" points=\"888.5,-78.2996 885,-68.2996 881.5,-78.2996 888.5,-78.2996\" stroke=\"black\"/>\n",
       "</g>\n",
       "<!-- 14 -->\n",
       "<g class=\"node\" id=\"node15\"><title>14</title>\n",
       "<polygon fill=\"#399de5\" fill-opacity=\"0.576471\" points=\"1076.5,-68 965.5,-68 965.5,-0 1076.5,-0 1076.5,-68\" stroke=\"black\"/>\n",
       "<text font-family=\"Times New Roman,serif\" font-size=\"14.00\" text-anchor=\"middle\" x=\"1021\" y=\"-52.8\">gini = 0.419</text>\n",
       "<text font-family=\"Times New Roman,serif\" font-size=\"14.00\" text-anchor=\"middle\" x=\"1021\" y=\"-37.8\">samples = 238</text>\n",
       "<text font-family=\"Times New Roman,serif\" font-size=\"14.00\" text-anchor=\"middle\" x=\"1021\" y=\"-22.8\">value = [71, 167]</text>\n",
       "<text font-family=\"Times New Roman,serif\" font-size=\"14.00\" text-anchor=\"middle\" x=\"1021\" y=\"-7.8\">class = 1</text>\n",
       "</g>\n",
       "<!-- 12&#45;&gt;14 -->\n",
       "<g class=\"edge\" id=\"edge14\"><title>12-&gt;14</title>\n",
       "<path d=\"M935.641,-103.726C947.423,-94.2406 959.949,-84.1551 971.673,-74.7159\" fill=\"none\" stroke=\"black\"/>\n",
       "<polygon fill=\"black\" points=\"974.047,-77.2972 979.642,-68.2996 969.657,-71.8448 974.047,-77.2972\" stroke=\"black\"/>\n",
       "</g>\n",
       "</g>\n",
       "</svg>"
      ],
      "text/plain": [
       "<IPython.core.display.SVG object>"
      ]
     },
     "metadata": {},
     "output_type": "display_data"
    }
   ],
   "source": [
    "# Please write all the code with proper documentation\n",
    "DTC = DecisionTreeClassifier(max_depth=3,min_samples_split=50)\n",
    "DTC.fit(BOW_Train,ytrain)\n",
    "import graphviz\n",
    "from sklearn.tree import export_graphviz\n",
    "from IPython.display import SVG\n",
    "from graphviz import Source\n",
    "from IPython.display import display\n",
    "\n",
    "graph = Source(export_graphviz(DTC, out_file=None\n",
    "   , feature_names= features, class_names=['0', '1'] \n",
    "   , filled = True,label='all'))\n",
    "display(SVG(graph.pipe(format='svg')))"
   ]
  },
  {
   "cell_type": "markdown",
   "metadata": {
    "colab_type": "text",
    "id": "5przjMTbiWOz"
   },
   "source": [
    "## [5.2] Applying Decision Trees on TFIDF,<font color='red'> SET 2</font>"
   ]
  },
  {
   "cell_type": "code",
   "execution_count": 43,
   "metadata": {
    "colab": {},
    "colab_type": "code",
    "id": "Bm3mfI7miWOz"
   },
   "outputs": [
    {
     "data": {
      "text/plain": [
       "{'max_depth': 10, 'min_samples_split': 100}"
      ]
     },
     "execution_count": 43,
     "metadata": {},
     "output_type": "execute_result"
    }
   ],
   "source": [
    "# Please write all the code with proper documentation\n",
    "DTC = DecisionTreeClassifier()\n",
    "\n",
    "clf = GridSearchCV(DTC, hyper_params, cv=5,n_jobs=-1)\n",
    "clf.fit(tfidf_train, ytrain)\n",
    "clf.best_params_"
   ]
  },
  {
   "cell_type": "code",
   "execution_count": 44,
   "metadata": {},
   "outputs": [],
   "source": [
    "scores = clf.cv_results_['mean_test_score'].reshape(len(hyper_params['max_depth']),len(hyper_params['min_samples_split']))"
   ]
  },
  {
   "cell_type": "code",
   "execution_count": 45,
   "metadata": {},
   "outputs": [
    {
     "data": {
      "text/plain": [
       "<matplotlib.axes._subplots.AxesSubplot at 0x250170ce438>"
      ]
     },
     "execution_count": 45,
     "metadata": {},
     "output_type": "execute_result"
    },
    {
     "data": {
      "image/png": "[encoded data removed]",
      "text/plain": [
       "<Figure size 432x288 with 2 Axes>"
      ]
     },
     "metadata": {
      "needs_background": "light"
     },
     "output_type": "display_data"
    }
   ],
   "source": [
    "sns.heatmap(scores,yticklabels=hyper_params['max_depth'],xticklabels=hyper_params['min_samples_split'])"
   ]
  },
  {
   "cell_type": "code",
   "execution_count": 46,
   "metadata": {},
   "outputs": [
    {
     "data": {
      "image/png": "[encoded data removed]",
      "text/plain": [
       "<Figure size 432x288 with 1 Axes>"
      ]
     },
     "metadata": {
      "needs_background": "light"
     },
     "output_type": "display_data"
    }
   ],
   "source": [
    "best_max_depth = 10\n",
    "best_min_sample_split = 100\n",
    "\n",
    "DTC = DecisionTreeClassifier(max_depth=best_max_depth,min_samples_split=best_min_sample_split)\n",
    "\n",
    "DTC.fit(tfidf_train,ytrain)\n",
    "ypred = DTC.predict(tfidf_test)\n",
    "\n",
    "train_fpr, train_tpr, thresholds = roc_curve(ytrain, DTC.predict_proba(tfidf_train)[:,1])\n",
    "test_fpr, test_tpr, thresholds = roc_curve(ytest, DTC.predict_proba(tfidf_test)[:,1])\n",
    "\n",
    "plt.plot(train_fpr, train_tpr, label=\"train AUC =\"+str(auc(train_fpr, train_tpr)))\n",
    "plt.plot(test_fpr, test_tpr, label=\"test AUC =\"+str(auc(test_fpr, test_tpr)))\n",
    "plt.legend()\n",
    "plt.title(\"ERROR PLOTS\")\n",
    "plt.show()"
   ]
  },
  {
   "cell_type": "code",
   "execution_count": 47,
   "metadata": {},
   "outputs": [
    {
     "name": "stdout",
     "output_type": "stream",
     "text": [
      "Train confusion matrix\n"
     ]
    },
    {
     "data": {
      "text/plain": [
       "Text(33,0.5,'True Values')"
      ]
     },
     "execution_count": 47,
     "metadata": {},
     "output_type": "execute_result"
    },
    {
     "data": {
      "image/png": "[encoded data removed]",
      "text/plain": [
       "<Figure size 432x288 with 2 Axes>"
      ]
     },
     "metadata": {
      "needs_background": "light"
     },
     "output_type": "display_data"
    }
   ],
   "source": [
    "print(\"Train confusion matrix\")\n",
    "train_cm = confusion_matrix(ytrain, DTC.predict(tfidf_train))\n",
    "\n",
    "\n",
    "heatmap = sns.heatmap(train_cm, annot=True, fmt=\"d\")\n",
    "plt.xlabel(\"Predicted Values\")\n",
    "plt.ylabel(\"True Values\")"
   ]
  },
  {
   "cell_type": "code",
   "execution_count": 48,
   "metadata": {},
   "outputs": [
    {
     "name": "stdout",
     "output_type": "stream",
     "text": [
      "Test confusion matrix\n"
     ]
    },
    {
     "data": {
      "text/plain": [
       "Text(33,0.5,'True Values')"
      ]
     },
     "execution_count": 48,
     "metadata": {},
     "output_type": "execute_result"
    },
    {
     "data": {
      "image/png": "[encoded data removed]",
      "text/plain": [
       "<Figure size 432x288 with 2 Axes>"
      ]
     },
     "metadata": {
      "needs_background": "light"
     },
     "output_type": "display_data"
    }
   ],
   "source": [
    "print(\"Test confusion matrix\")\n",
    "test_cm = confusion_matrix(ytest, DTC.predict(tfidf_test))\n",
    "\n",
    "\n",
    "heatmap = sns.heatmap(test_cm, annot=True, fmt=\"d\")\n",
    "plt.xlabel(\"Predicted Values\")\n",
    "plt.ylabel(\"True Values\")"
   ]
  },
  {
   "cell_type": "markdown",
   "metadata": {
    "colab_type": "text",
    "id": "PIKUCldjiWO0"
   },
   "source": [
    "### [5.2.1] Top 20 important features from<font color='red'> SET 2</font>"
   ]
  },
  {
   "cell_type": "code",
   "execution_count": 56,
   "metadata": {
    "colab": {},
    "colab_type": "code",
    "id": "p2P0iHQciWO1"
   },
   "outputs": [
    {
     "name": "stdout",
     "output_type": "stream",
     "text": [
      "[(0.36584391161015606, 'better made'), (0.23962950185895668, 'baby formula'), (0.18989267184087014, 'best product'), (0.11200303270966654, 'amount sugar'), (0.09263088198035065, 'carry one'), (0.0, 'casseroles'), (0.0, 'casserole dish'), (0.0, 'casserole'), (0.0, 'casing'), (0.0, 'cashews'), (0.0, 'cashew cookie'), (0.0, 'cashew'), (0.0, 'cash'), (0.0, 'cases time'), (0.0, 'cases amazon'), (0.0, 'cases'), (0.0, 'casein free'), (0.0, 'casein'), (0.0, 'case would'), (0.0, 'case use')]\n"
     ]
    }
   ],
   "source": [
    "# Please write all the code with proper documentation\n",
    "features = tf_idf_vect.get_feature_names()\n",
    "features_dict = sorted(zip(DTC.feature_importances_,features),reverse=True)\n",
    "print(features_dict[:20])"
   ]
  },
  {
   "cell_type": "markdown",
   "metadata": {
    "colab_type": "text",
    "id": "RTZB9ipUiWO3"
   },
   "source": [
    "### [5.2.2] Graphviz visualization of Decision Tree on TFIDF,<font color='red'> SET 2</font>"
   ]
  },
  {
   "cell_type": "code",
   "execution_count": 57,
   "metadata": {
    "colab": {},
    "colab_type": "code",
    "id": "DMbZoPoTiWO4"
   },
   "outputs": [
    {
     "data": {
      "image/svg+xml": [
       "<svg height=\"433pt\" viewBox=\"0.00 0.00 1086.00 433.00\" width=\"1086pt\" xmlns=\"http://www.w3.org/2000/svg\" xmlns:xlink=\"http://www.w3.org/1999/xlink\">\n",
       "<g class=\"graph\" id=\"graph0\" transform=\"scale(1 1) rotate(0) translate(4 429)\">\n",
       "<title>Tree</title>\n",
       "<polygon fill=\"white\" points=\"-4,4 -4,-429 1082,-429 1082,4 -4,4\" stroke=\"none\"/>\n",
       "<!-- 0 -->\n",
       "<g class=\"node\" id=\"node1\"><title>0</title>\n",
       "<polygon fill=\"#399de5\" fill-opacity=\"0.827451\" points=\"610,-425 472,-425 472,-342 610,-342 610,-425\" stroke=\"black\"/>\n",
       "<text font-family=\"Times New Roman,serif\" font-size=\"14.00\" text-anchor=\"middle\" x=\"541\" y=\"-409.8\">not &lt;= 0.058</text>\n",
       "<text font-family=\"Times New Roman,serif\" font-size=\"14.00\" text-anchor=\"middle\" x=\"541\" y=\"-394.8\">gini = 0.252</text>\n",
       "<text font-family=\"Times New Roman,serif\" font-size=\"14.00\" text-anchor=\"middle\" x=\"541\" y=\"-379.8\">samples = 60000</text>\n",
       "<text font-family=\"Times New Roman,serif\" font-size=\"14.00\" text-anchor=\"middle\" x=\"541\" y=\"-364.8\">value = [8888, 51112]</text>\n",
       "<text font-family=\"Times New Roman,serif\" font-size=\"14.00\" text-anchor=\"middle\" x=\"541\" y=\"-349.8\">class = 1</text>\n",
       "</g>\n",
       "<!-- 1 -->\n",
       "<g class=\"node\" id=\"node2\"><title>1</title>\n",
       "<polygon fill=\"#399de5\" fill-opacity=\"0.874510\" points=\"514.5,-306 371.5,-306 371.5,-223 514.5,-223 514.5,-306\" stroke=\"black\"/>\n",
       "<text font-family=\"Times New Roman,serif\" font-size=\"14.00\" text-anchor=\"middle\" x=\"443\" y=\"-290.8\">disappointed &lt;= 0.025</text>\n",
       "<text font-family=\"Times New Roman,serif\" font-size=\"14.00\" text-anchor=\"middle\" x=\"443\" y=\"-275.8\">gini = 0.199</text>\n",
       "<text font-family=\"Times New Roman,serif\" font-size=\"14.00\" text-anchor=\"middle\" x=\"443\" y=\"-260.8\">samples = 46152</text>\n",
       "<text font-family=\"Times New Roman,serif\" font-size=\"14.00\" text-anchor=\"middle\" x=\"443\" y=\"-245.8\">value = [5173, 40979]</text>\n",
       "<text font-family=\"Times New Roman,serif\" font-size=\"14.00\" text-anchor=\"middle\" x=\"443\" y=\"-230.8\">class = 1</text>\n",
       "</g>\n",
       "<!-- 0&#45;&gt;1 -->\n",
       "<g class=\"edge\" id=\"edge1\"><title>0-&gt;1</title>\n",
       "<path d=\"M506.999,-341.907C499.398,-332.832 491.264,-323.121 483.431,-313.769\" fill=\"none\" stroke=\"black\"/>\n",
       "<polygon fill=\"black\" points=\"486.045,-311.439 476.941,-306.021 480.679,-315.934 486.045,-311.439\" stroke=\"black\"/>\n",
       "<text font-family=\"Times New Roman,serif\" font-size=\"14.00\" text-anchor=\"middle\" x=\"474.74\" y=\"-327.224\">True</text>\n",
       "</g>\n",
       "<!-- 8 -->\n",
       "<g class=\"node\" id=\"node9\"><title>8</title>\n",
       "<polygon fill=\"#399de5\" fill-opacity=\"0.635294\" points=\"709,-306 571,-306 571,-223 709,-223 709,-306\" stroke=\"black\"/>\n",
       "<text font-family=\"Times New Roman,serif\" font-size=\"14.00\" text-anchor=\"middle\" x=\"640\" y=\"-290.8\">great &lt;= 0.02</text>\n",
       "<text font-family=\"Times New Roman,serif\" font-size=\"14.00\" text-anchor=\"middle\" x=\"640\" y=\"-275.8\">gini = 0.393</text>\n",
       "<text font-family=\"Times New Roman,serif\" font-size=\"14.00\" text-anchor=\"middle\" x=\"640\" y=\"-260.8\">samples = 13848</text>\n",
       "<text font-family=\"Times New Roman,serif\" font-size=\"14.00\" text-anchor=\"middle\" x=\"640\" y=\"-245.8\">value = [3715, 10133]</text>\n",
       "<text font-family=\"Times New Roman,serif\" font-size=\"14.00\" text-anchor=\"middle\" x=\"640\" y=\"-230.8\">class = 1</text>\n",
       "</g>\n",
       "<!-- 0&#45;&gt;8 -->\n",
       "<g class=\"edge\" id=\"edge8\"><title>0-&gt;8</title>\n",
       "<path d=\"M575.348,-341.907C583.026,-332.832 591.244,-323.121 599.157,-313.769\" fill=\"none\" stroke=\"black\"/>\n",
       "<polygon fill=\"black\" points=\"601.926,-315.916 605.713,-306.021 596.582,-311.394 601.926,-315.916\" stroke=\"black\"/>\n",
       "<text font-family=\"Times New Roman,serif\" font-size=\"14.00\" text-anchor=\"middle\" x=\"607.789\" y=\"-327.234\">False</text>\n",
       "</g>\n",
       "<!-- 2 -->\n",
       "<g class=\"node\" id=\"node3\"><title>2</title>\n",
       "<polygon fill=\"#399de5\" fill-opacity=\"0.882353\" points=\"281,-187 143,-187 143,-104 281,-104 281,-187\" stroke=\"black\"/>\n",
       "<text font-family=\"Times New Roman,serif\" font-size=\"14.00\" text-anchor=\"middle\" x=\"212\" y=\"-171.8\">worst &lt;= 0.054</text>\n",
       "<text font-family=\"Times New Roman,serif\" font-size=\"14.00\" text-anchor=\"middle\" x=\"212\" y=\"-156.8\">gini = 0.188</text>\n",
       "<text font-family=\"Times New Roman,serif\" font-size=\"14.00\" text-anchor=\"middle\" x=\"212\" y=\"-141.8\">samples = 45261</text>\n",
       "<text font-family=\"Times New Roman,serif\" font-size=\"14.00\" text-anchor=\"middle\" x=\"212\" y=\"-126.8\">value = [4744, 40517]</text>\n",
       "<text font-family=\"Times New Roman,serif\" font-size=\"14.00\" text-anchor=\"middle\" x=\"212\" y=\"-111.8\">class = 1</text>\n",
       "</g>\n",
       "<!-- 1&#45;&gt;2 -->\n",
       "<g class=\"edge\" id=\"edge2\"><title>1-&gt;2</title>\n",
       "<path d=\"M371.492,-227.282C345.771,-214.254 316.628,-199.494 290.355,-186.186\" fill=\"none\" stroke=\"black\"/>\n",
       "<polygon fill=\"black\" points=\"291.695,-182.941 281.192,-181.545 288.532,-189.186 291.695,-182.941\" stroke=\"black\"/>\n",
       "</g>\n",
       "<!-- 5 -->\n",
       "<g class=\"node\" id=\"node6\"><title>5</title>\n",
       "<polygon fill=\"#399de5\" fill-opacity=\"0.070588\" points=\"525.5,-187 360.5,-187 360.5,-104 525.5,-104 525.5,-187\" stroke=\"black\"/>\n",
       "<text font-family=\"Times New Roman,serif\" font-size=\"14.00\" text-anchor=\"middle\" x=\"443\" y=\"-171.8\">not disappointed &lt;= 0.022</text>\n",
       "<text font-family=\"Times New Roman,serif\" font-size=\"14.00\" text-anchor=\"middle\" x=\"443\" y=\"-156.8\">gini = 0.499</text>\n",
       "<text font-family=\"Times New Roman,serif\" font-size=\"14.00\" text-anchor=\"middle\" x=\"443\" y=\"-141.8\">samples = 891</text>\n",
       "<text font-family=\"Times New Roman,serif\" font-size=\"14.00\" text-anchor=\"middle\" x=\"443\" y=\"-126.8\">value = [429, 462]</text>\n",
       "<text font-family=\"Times New Roman,serif\" font-size=\"14.00\" text-anchor=\"middle\" x=\"443\" y=\"-111.8\">class = 1</text>\n",
       "</g>\n",
       "<!-- 1&#45;&gt;5 -->\n",
       "<g class=\"edge\" id=\"edge5\"><title>1-&gt;5</title>\n",
       "<path d=\"M443,-222.907C443,-214.649 443,-205.864 443,-197.302\" fill=\"none\" stroke=\"black\"/>\n",
       "<polygon fill=\"black\" points=\"446.5,-197.021 443,-187.021 439.5,-197.021 446.5,-197.021\" stroke=\"black\"/>\n",
       "</g>\n",
       "<!-- 3 -->\n",
       "<g class=\"node\" id=\"node4\"><title>3</title>\n",
       "<polygon fill=\"#399de5\" fill-opacity=\"0.886275\" points=\"138,-68 0,-68 0,-0 138,-0 138,-68\" stroke=\"black\"/>\n",
       "<text font-family=\"Times New Roman,serif\" font-size=\"14.00\" text-anchor=\"middle\" x=\"69\" y=\"-52.8\">gini = 0.182</text>\n",
       "<text font-family=\"Times New Roman,serif\" font-size=\"14.00\" text-anchor=\"middle\" x=\"69\" y=\"-37.8\">samples = 45034</text>\n",
       "<text font-family=\"Times New Roman,serif\" font-size=\"14.00\" text-anchor=\"middle\" x=\"69\" y=\"-22.8\">value = [4560, 40474]</text>\n",
       "<text font-family=\"Times New Roman,serif\" font-size=\"14.00\" text-anchor=\"middle\" x=\"69\" y=\"-7.8\">class = 1</text>\n",
       "</g>\n",
       "<!-- 2&#45;&gt;3 -->\n",
       "<g class=\"edge\" id=\"edge3\"><title>2-&gt;3</title>\n",
       "<path d=\"M158.752,-103.726C146.245,-94.1494 132.94,-83.9611 120.511,-74.4438\" fill=\"none\" stroke=\"black\"/>\n",
       "<polygon fill=\"black\" points=\"122.555,-71.6004 112.487,-68.2996 118.299,-77.1582 122.555,-71.6004\" stroke=\"black\"/>\n",
       "</g>\n",
       "<!-- 4 -->\n",
       "<g class=\"node\" id=\"node5\"><title>4</title>\n",
       "<polygon fill=\"#e58139\" fill-opacity=\"0.764706\" points=\"267.5,-68 156.5,-68 156.5,-0 267.5,-0 267.5,-68\" stroke=\"black\"/>\n",
       "<text font-family=\"Times New Roman,serif\" font-size=\"14.00\" text-anchor=\"middle\" x=\"212\" y=\"-52.8\">gini = 0.307</text>\n",
       "<text font-family=\"Times New Roman,serif\" font-size=\"14.00\" text-anchor=\"middle\" x=\"212\" y=\"-37.8\">samples = 227</text>\n",
       "<text font-family=\"Times New Roman,serif\" font-size=\"14.00\" text-anchor=\"middle\" x=\"212\" y=\"-22.8\">value = [184, 43]</text>\n",
       "<text font-family=\"Times New Roman,serif\" font-size=\"14.00\" text-anchor=\"middle\" x=\"212\" y=\"-7.8\">class = 0</text>\n",
       "</g>\n",
       "<!-- 2&#45;&gt;4 -->\n",
       "<g class=\"edge\" id=\"edge4\"><title>2-&gt;4</title>\n",
       "<path d=\"M212,-103.726C212,-95.5175 212,-86.8595 212,-78.56\" fill=\"none\" stroke=\"black\"/>\n",
       "<polygon fill=\"black\" points=\"215.5,-78.2996 212,-68.2996 208.5,-78.2996 215.5,-78.2996\" stroke=\"black\"/>\n",
       "</g>\n",
       "<!-- 6 -->\n",
       "<g class=\"node\" id=\"node7\"><title>6</title>\n",
       "<polygon fill=\"#e58139\" fill-opacity=\"0.329412\" points=\"404,-68 286,-68 286,-0 404,-0 404,-68\" stroke=\"black\"/>\n",
       "<text font-family=\"Times New Roman,serif\" font-size=\"14.00\" text-anchor=\"middle\" x=\"345\" y=\"-52.8\">gini = 0.481</text>\n",
       "<text font-family=\"Times New Roman,serif\" font-size=\"14.00\" text-anchor=\"middle\" x=\"345\" y=\"-37.8\">samples = 709</text>\n",
       "<text font-family=\"Times New Roman,serif\" font-size=\"14.00\" text-anchor=\"middle\" x=\"345\" y=\"-22.8\">value = [424, 285]</text>\n",
       "<text font-family=\"Times New Roman,serif\" font-size=\"14.00\" text-anchor=\"middle\" x=\"345\" y=\"-7.8\">class = 0</text>\n",
       "</g>\n",
       "<!-- 5&#45;&gt;6 -->\n",
       "<g class=\"edge\" id=\"edge6\"><title>5-&gt;6</title>\n",
       "<path d=\"M406.508,-103.726C398.345,-94.6054 389.686,-84.93 381.522,-75.8078\" fill=\"none\" stroke=\"black\"/>\n",
       "<polygon fill=\"black\" points=\"384.079,-73.417 374.802,-68.2996 378.863,-78.0853 384.079,-73.417\" stroke=\"black\"/>\n",
       "</g>\n",
       "<!-- 7 -->\n",
       "<g class=\"node\" id=\"node8\"><title>7</title>\n",
       "<polygon fill=\"#399de5\" fill-opacity=\"0.972549\" points=\"526,-68 422,-68 422,-0 526,-0 526,-68\" stroke=\"black\"/>\n",
       "<text font-family=\"Times New Roman,serif\" font-size=\"14.00\" text-anchor=\"middle\" x=\"474\" y=\"-52.8\">gini = 0.053</text>\n",
       "<text font-family=\"Times New Roman,serif\" font-size=\"14.00\" text-anchor=\"middle\" x=\"474\" y=\"-37.8\">samples = 182</text>\n",
       "<text font-family=\"Times New Roman,serif\" font-size=\"14.00\" text-anchor=\"middle\" x=\"474\" y=\"-22.8\">value = [5, 177]</text>\n",
       "<text font-family=\"Times New Roman,serif\" font-size=\"14.00\" text-anchor=\"middle\" x=\"474\" y=\"-7.8\">class = 1</text>\n",
       "</g>\n",
       "<!-- 5&#45;&gt;7 -->\n",
       "<g class=\"edge\" id=\"edge7\"><title>5-&gt;7</title>\n",
       "<path d=\"M454.543,-103.726C456.919,-95.3351 459.427,-86.4745 461.824,-78.0072\" fill=\"none\" stroke=\"black\"/>\n",
       "<polygon fill=\"black\" points=\"465.216,-78.8749 464.573,-68.2996 458.481,-76.968 465.216,-78.8749\" stroke=\"black\"/>\n",
       "</g>\n",
       "<!-- 9 -->\n",
       "<g class=\"node\" id=\"node10\"><title>9</title>\n",
       "<polygon fill=\"#399de5\" fill-opacity=\"0.552941\" points=\"705.5,-187 574.5,-187 574.5,-104 705.5,-104 705.5,-187\" stroke=\"black\"/>\n",
       "<text font-family=\"Times New Roman,serif\" font-size=\"14.00\" text-anchor=\"middle\" x=\"640\" y=\"-171.8\">money &lt;= 0.055</text>\n",
       "<text font-family=\"Times New Roman,serif\" font-size=\"14.00\" text-anchor=\"middle\" x=\"640\" y=\"-156.8\">gini = 0.428</text>\n",
       "<text font-family=\"Times New Roman,serif\" font-size=\"14.00\" text-anchor=\"middle\" x=\"640\" y=\"-141.8\">samples = 10908</text>\n",
       "<text font-family=\"Times New Roman,serif\" font-size=\"14.00\" text-anchor=\"middle\" x=\"640\" y=\"-126.8\">value = [3379, 7529]</text>\n",
       "<text font-family=\"Times New Roman,serif\" font-size=\"14.00\" text-anchor=\"middle\" x=\"640\" y=\"-111.8\">class = 1</text>\n",
       "</g>\n",
       "<!-- 8&#45;&gt;9 -->\n",
       "<g class=\"edge\" id=\"edge9\"><title>8-&gt;9</title>\n",
       "<path d=\"M640,-222.907C640,-214.649 640,-205.864 640,-197.302\" fill=\"none\" stroke=\"black\"/>\n",
       "<polygon fill=\"black\" points=\"643.5,-197.021 640,-187.021 636.5,-197.021 643.5,-197.021\" stroke=\"black\"/>\n",
       "</g>\n",
       "<!-- 12 -->\n",
       "<g class=\"node\" id=\"node13\"><title>12</title>\n",
       "<polygon fill=\"#399de5\" fill-opacity=\"0.870588\" points=\"955.5,-187 830.5,-187 830.5,-104 955.5,-104 955.5,-187\" stroke=\"black\"/>\n",
       "<text font-family=\"Times New Roman,serif\" font-size=\"14.00\" text-anchor=\"middle\" x=\"893\" y=\"-171.8\">not great &lt;= 0.058</text>\n",
       "<text font-family=\"Times New Roman,serif\" font-size=\"14.00\" text-anchor=\"middle\" x=\"893\" y=\"-156.8\">gini = 0.202</text>\n",
       "<text font-family=\"Times New Roman,serif\" font-size=\"14.00\" text-anchor=\"middle\" x=\"893\" y=\"-141.8\">samples = 2940</text>\n",
       "<text font-family=\"Times New Roman,serif\" font-size=\"14.00\" text-anchor=\"middle\" x=\"893\" y=\"-126.8\">value = [336, 2604]</text>\n",
       "<text font-family=\"Times New Roman,serif\" font-size=\"14.00\" text-anchor=\"middle\" x=\"893\" y=\"-111.8\">class = 1</text>\n",
       "</g>\n",
       "<!-- 8&#45;&gt;12 -->\n",
       "<g class=\"edge\" id=\"edge12\"><title>8-&gt;12</title>\n",
       "<path d=\"M709.133,-231.529C743.918,-215.443 786.045,-195.961 821.195,-179.706\" fill=\"none\" stroke=\"black\"/>\n",
       "<polygon fill=\"black\" points=\"822.833,-182.805 830.44,-175.431 819.895,-176.451 822.833,-182.805\" stroke=\"black\"/>\n",
       "</g>\n",
       "<!-- 10 -->\n",
       "<g class=\"node\" id=\"node11\"><title>10</title>\n",
       "<polygon fill=\"#399de5\" fill-opacity=\"0.580392\" points=\"675.5,-68 544.5,-68 544.5,-0 675.5,-0 675.5,-68\" stroke=\"black\"/>\n",
       "<text font-family=\"Times New Roman,serif\" font-size=\"14.00\" text-anchor=\"middle\" x=\"610\" y=\"-52.8\">gini = 0.416</text>\n",
       "<text font-family=\"Times New Roman,serif\" font-size=\"14.00\" text-anchor=\"middle\" x=\"610\" y=\"-37.8\">samples = 10540</text>\n",
       "<text font-family=\"Times New Roman,serif\" font-size=\"14.00\" text-anchor=\"middle\" x=\"610\" y=\"-22.8\">value = [3113, 7427]</text>\n",
       "<text font-family=\"Times New Roman,serif\" font-size=\"14.00\" text-anchor=\"middle\" x=\"610\" y=\"-7.8\">class = 1</text>\n",
       "</g>\n",
       "<!-- 9&#45;&gt;10 -->\n",
       "<g class=\"edge\" id=\"edge10\"><title>9-&gt;10</title>\n",
       "<path d=\"M628.829,-103.726C626.53,-95.3351 624.103,-86.4745 621.783,-78.0072\" fill=\"none\" stroke=\"black\"/>\n",
       "<polygon fill=\"black\" points=\"625.141,-77.0193 619.123,-68.2996 618.39,-78.869 625.141,-77.0193\" stroke=\"black\"/>\n",
       "</g>\n",
       "<!-- 11 -->\n",
       "<g class=\"node\" id=\"node12\"><title>11</title>\n",
       "<polygon fill=\"#e58139\" fill-opacity=\"0.615686\" points=\"812,-68 694,-68 694,-0 812,-0 812,-68\" stroke=\"black\"/>\n",
       "<text font-family=\"Times New Roman,serif\" font-size=\"14.00\" text-anchor=\"middle\" x=\"753\" y=\"-52.8\">gini = 0.401</text>\n",
       "<text font-family=\"Times New Roman,serif\" font-size=\"14.00\" text-anchor=\"middle\" x=\"753\" y=\"-37.8\">samples = 368</text>\n",
       "<text font-family=\"Times New Roman,serif\" font-size=\"14.00\" text-anchor=\"middle\" x=\"753\" y=\"-22.8\">value = [266, 102]</text>\n",
       "<text font-family=\"Times New Roman,serif\" font-size=\"14.00\" text-anchor=\"middle\" x=\"753\" y=\"-7.8\">class = 0</text>\n",
       "</g>\n",
       "<!-- 9&#45;&gt;11 -->\n",
       "<g class=\"edge\" id=\"edge11\"><title>9-&gt;11</title>\n",
       "<path d=\"M682.077,-103.726C691.678,-94.423 701.874,-84.5428 711.452,-75.2612\" fill=\"none\" stroke=\"black\"/>\n",
       "<polygon fill=\"black\" points=\"713.89,-77.7721 718.636,-68.2996 709.019,-72.7451 713.89,-77.7721\" stroke=\"black\"/>\n",
       "</g>\n",
       "<!-- 13 -->\n",
       "<g class=\"node\" id=\"node14\"><title>13</title>\n",
       "<polygon fill=\"#399de5\" fill-opacity=\"0.890196\" points=\"955.5,-68 830.5,-68 830.5,-0 955.5,-0 955.5,-68\" stroke=\"black\"/>\n",
       "<text font-family=\"Times New Roman,serif\" font-size=\"14.00\" text-anchor=\"middle\" x=\"893\" y=\"-52.8\">gini = 0.18</text>\n",
       "<text font-family=\"Times New Roman,serif\" font-size=\"14.00\" text-anchor=\"middle\" x=\"893\" y=\"-37.8\">samples = 2792</text>\n",
       "<text font-family=\"Times New Roman,serif\" font-size=\"14.00\" text-anchor=\"middle\" x=\"893\" y=\"-22.8\">value = [280, 2512]</text>\n",
       "<text font-family=\"Times New Roman,serif\" font-size=\"14.00\" text-anchor=\"middle\" x=\"893\" y=\"-7.8\">class = 1</text>\n",
       "</g>\n",
       "<!-- 12&#45;&gt;13 -->\n",
       "<g class=\"edge\" id=\"edge13\"><title>12-&gt;13</title>\n",
       "<path d=\"M893,-103.726C893,-95.5175 893,-86.8595 893,-78.56\" fill=\"none\" stroke=\"black\"/>\n",
       "<polygon fill=\"black\" points=\"896.5,-78.2996 893,-68.2996 889.5,-78.2996 896.5,-78.2996\" stroke=\"black\"/>\n",
       "</g>\n",
       "<!-- 14 -->\n",
       "<g class=\"node\" id=\"node15\"><title>14</title>\n",
       "<polygon fill=\"#399de5\" fill-opacity=\"0.392157\" points=\"1078,-68 974,-68 974,-0 1078,-0 1078,-68\" stroke=\"black\"/>\n",
       "<text font-family=\"Times New Roman,serif\" font-size=\"14.00\" text-anchor=\"middle\" x=\"1026\" y=\"-52.8\">gini = 0.47</text>\n",
       "<text font-family=\"Times New Roman,serif\" font-size=\"14.00\" text-anchor=\"middle\" x=\"1026\" y=\"-37.8\">samples = 148</text>\n",
       "<text font-family=\"Times New Roman,serif\" font-size=\"14.00\" text-anchor=\"middle\" x=\"1026\" y=\"-22.8\">value = [56, 92]</text>\n",
       "<text font-family=\"Times New Roman,serif\" font-size=\"14.00\" text-anchor=\"middle\" x=\"1026\" y=\"-7.8\">class = 1</text>\n",
       "</g>\n",
       "<!-- 12&#45;&gt;14 -->\n",
       "<g class=\"edge\" id=\"edge14\"><title>12-&gt;14</title>\n",
       "<path d=\"M942.524,-103.726C954.046,-94.2406 966.296,-84.1551 977.761,-74.7159\" fill=\"none\" stroke=\"black\"/>\n",
       "<polygon fill=\"black\" points=\"980.058,-77.3577 985.554,-68.2996 975.609,-71.9536 980.058,-77.3577\" stroke=\"black\"/>\n",
       "</g>\n",
       "</g>\n",
       "</svg>"
      ],
      "text/plain": [
       "<IPython.core.display.SVG object>"
      ]
     },
     "metadata": {},
     "output_type": "display_data"
    }
   ],
   "source": [
    "# Please write all the code with proper documentation\n",
    "\n",
    "DTC = DecisionTreeClassifier(max_depth=3,min_samples_split=50)\n",
    "DTC.fit(tfidf_train,ytrain)\n",
    "import graphviz\n",
    "from sklearn.tree import export_graphviz\n",
    "from IPython.display import SVG\n",
    "from graphviz import Source\n",
    "from IPython.display import display\n",
    "\n",
    "graph = Source(export_graphviz(DTC, out_file=None\n",
    "   , feature_names= features, class_names=['0', '1'] \n",
    "   , filled = True,label='all'))\n",
    "display(SVG(graph.pipe(format='svg')))"
   ]
  },
  {
   "cell_type": "markdown",
   "metadata": {
    "colab_type": "text",
    "id": "NVhl_V6MiWO5"
   },
   "source": [
    "## [5.3] Applying Decision Trees on AVG W2V,<font color='red'> SET 3</font>"
   ]
  },
  {
   "cell_type": "code",
   "execution_count": 63,
   "metadata": {
    "colab": {},
    "colab_type": "code",
    "id": "uYDXnzMmiWO5"
   },
   "outputs": [
    {
     "data": {
      "text/plain": [
       "{'max_depth': 10, 'min_samples_split': 500}"
      ]
     },
     "execution_count": 63,
     "metadata": {},
     "output_type": "execute_result"
    }
   ],
   "source": [
    "# Please write all the code with proper documentation\n",
    "\n",
    "DTC = DecisionTreeClassifier()\n",
    "\n",
    "clf = GridSearchCV(DTC, hyper_params, cv=5,n_jobs=-1)\n",
    "clf.fit(Xtrain_w2v, ytrain_w2v)\n",
    "clf.best_params_"
   ]
  },
  {
   "cell_type": "code",
   "execution_count": 64,
   "metadata": {},
   "outputs": [
    {
     "data": {
      "text/plain": [
       "<matplotlib.axes._subplots.AxesSubplot at 0x2507c60cef0>"
      ]
     },
     "execution_count": 64,
     "metadata": {},
     "output_type": "execute_result"
    },
    {
     "data": {
      "image/png": "[encoded data removed]",
      "text/plain": [
       "<Figure size 432x288 with 2 Axes>"
      ]
     },
     "metadata": {
      "needs_background": "light"
     },
     "output_type": "display_data"
    }
   ],
   "source": [
    "scores = clf.cv_results_['mean_test_score'].reshape(len(hyper_params['max_depth']),len(hyper_params['min_samples_split']))\n",
    "sns.heatmap(scores,yticklabels=hyper_params['max_depth'],xticklabels=hyper_params['min_samples_split'])"
   ]
  },
  {
   "cell_type": "code",
   "execution_count": 73,
   "metadata": {},
   "outputs": [
    {
     "data": {
      "image/png": "[encoded data removed]",
      "text/plain": [
       "<Figure size 432x288 with 1 Axes>"
      ]
     },
     "metadata": {
      "needs_background": "light"
     },
     "output_type": "display_data"
    }
   ],
   "source": [
    "best_max_depth = 10\n",
    "best_min_sample_split = 500\n",
    "\n",
    "DTC = DecisionTreeClassifier(max_depth=best_max_depth,min_samples_split=best_min_sample_split)\n",
    "\n",
    "DTC.fit(Xtrain_w2v,ytrain_w2v)\n",
    "ypred = DTC.predict(Xtest_w2v)\n",
    "\n",
    "train_fpr, train_tpr, thresholds = roc_curve(ytrain_w2v, DTC.predict_proba(Xtrain_w2v)[:,1])\n",
    "test_fpr, test_tpr, thresholds = roc_curve(ytest_w2v, DTC.predict_proba(Xtest_w2v)[:,1])\n",
    "\n",
    "plt.plot(train_fpr, train_tpr, label=\"train AUC =\"+str(auc(train_fpr, train_tpr)))\n",
    "plt.plot(test_fpr, test_tpr, label=\"test AUC =\"+str(auc(test_fpr, test_tpr)))\n",
    "plt.legend()\n",
    "plt.title(\"ERROR PLOTS\")\n",
    "plt.show()"
   ]
  },
  {
   "cell_type": "code",
   "execution_count": 67,
   "metadata": {},
   "outputs": [
    {
     "name": "stdout",
     "output_type": "stream",
     "text": [
      "Train confusion matrix\n"
     ]
    },
    {
     "data": {
      "text/plain": [
       "Text(33,0.5,'True Values')"
      ]
     },
     "execution_count": 67,
     "metadata": {},
     "output_type": "execute_result"
    },
    {
     "data": {
      "image/png": "[encoded data removed]",
      "text/plain": [
       "<Figure size 432x288 with 2 Axes>"
      ]
     },
     "metadata": {
      "needs_background": "light"
     },
     "output_type": "display_data"
    }
   ],
   "source": [
    "print(\"Train confusion matrix\")\n",
    "train_cm = confusion_matrix(ytrain_w2v, DTC.predict(Xtrain_w2v))\n",
    "\n",
    "\n",
    "heatmap = sns.heatmap(train_cm, annot=True, fmt=\"d\")\n",
    "plt.xlabel(\"Predicted Values\")\n",
    "plt.ylabel(\"True Values\")"
   ]
  },
  {
   "cell_type": "code",
   "execution_count": 68,
   "metadata": {},
   "outputs": [
    {
     "name": "stdout",
     "output_type": "stream",
     "text": [
      "Test confusion matrix\n"
     ]
    },
    {
     "data": {
      "text/plain": [
       "Text(33,0.5,'True Values')"
      ]
     },
     "execution_count": 68,
     "metadata": {},
     "output_type": "execute_result"
    },
    {
     "data": {
      "image/png": "[encoded data removed]",
      "text/plain": [
       "<Figure size 432x288 with 2 Axes>"
      ]
     },
     "metadata": {
      "needs_background": "light"
     },
     "output_type": "display_data"
    }
   ],
   "source": [
    "print(\"Test confusion matrix\")\n",
    "test_cm = confusion_matrix(ytest_w2v, DTC.predict(Xtest_w2v))\n",
    "\n",
    "\n",
    "heatmap = sns.heatmap(test_cm, annot=True, fmt=\"d\")\n",
    "plt.xlabel(\"Predicted Values\")\n",
    "plt.ylabel(\"True Values\")"
   ]
  },
  {
   "cell_type": "markdown",
   "metadata": {
    "colab_type": "text",
    "id": "PnwVzXytiWO7"
   },
   "source": [
    "## [5.4] Applying Decision Trees on TFIDF W2V,<font color='red'> SET 4</font>"
   ]
  },
  {
   "cell_type": "code",
   "execution_count": 71,
   "metadata": {
    "colab": {},
    "colab_type": "code",
    "id": "YqODkVCgiWO7"
   },
   "outputs": [
    {
     "data": {
      "text/plain": [
       "{'max_depth': 10, 'min_samples_split': 500}"
      ]
     },
     "execution_count": 71,
     "metadata": {},
     "output_type": "execute_result"
    }
   ],
   "source": [
    "# Please write all the code with proper documentation\n",
    "# Please write all the code with proper documentation\n",
    "\n",
    "DTC = DecisionTreeClassifier()\n",
    "\n",
    "clf = GridSearchCV(DTC, hyper_params, cv=5,n_jobs=-1)\n",
    "clf.fit(Xtrain_tfidfw2v, ytrain_tfidfw2v)\n",
    "clf.best_params_"
   ]
  },
  {
   "cell_type": "code",
   "execution_count": 72,
   "metadata": {},
   "outputs": [
    {
     "data": {
      "text/plain": [
       "<matplotlib.axes._subplots.AxesSubplot at 0x2507b8130b8>"
      ]
     },
     "execution_count": 72,
     "metadata": {},
     "output_type": "execute_result"
    },
    {
     "data": {
      "image/png": "[encoded data removed]",
      "text/plain": [
       "<Figure size 432x288 with 2 Axes>"
      ]
     },
     "metadata": {
      "needs_background": "light"
     },
     "output_type": "display_data"
    }
   ],
   "source": [
    "scores = clf.cv_results_['mean_test_score'].reshape(len(hyper_params['max_depth']),len(hyper_params['min_samples_split']))\n",
    "sns.heatmap(scores,yticklabels=hyper_params['max_depth'],xticklabels=hyper_params['min_samples_split'])"
   ]
  },
  {
   "cell_type": "code",
   "execution_count": 74,
   "metadata": {},
   "outputs": [
    {
     "data": {
      "image/png": "[encoded data removed]",
      "text/plain": [
       "<Figure size 432x288 with 1 Axes>"
      ]
     },
     "metadata": {
      "needs_background": "light"
     },
     "output_type": "display_data"
    }
   ],
   "source": [
    "best_max_depth = 10\n",
    "best_min_sample_split = 500\n",
    "\n",
    "DTC = DecisionTreeClassifier(max_depth=best_max_depth,min_samples_split=best_min_sample_split)\n",
    "\n",
    "DTC.fit(Xtrain_tfidfw2v,ytrain_tfidfw2v)\n",
    "ypred = DTC.predict(Xtrain_tfidfw2v)\n",
    "\n",
    "train_fpr, train_tpr, thresholds = roc_curve(ytrain_tfidfw2v, DTC.predict_proba(Xtrain_tfidfw2v)[:,1])\n",
    "test_fpr, test_tpr, thresholds = roc_curve(ytest_tfidfw2v, DTC.predict_proba(Xtest_tfidfw2v)[:,1])\n",
    "\n",
    "plt.plot(train_fpr, train_tpr, label=\"train AUC =\"+str(auc(train_fpr, train_tpr)))\n",
    "plt.plot(test_fpr, test_tpr, label=\"test AUC =\"+str(auc(test_fpr, test_tpr)))\n",
    "plt.legend()\n",
    "plt.title(\"ERROR PLOTS\")\n",
    "plt.show()"
   ]
  },
  {
   "cell_type": "code",
   "execution_count": 75,
   "metadata": {},
   "outputs": [
    {
     "name": "stdout",
     "output_type": "stream",
     "text": [
      "Train confusion matrix\n"
     ]
    },
    {
     "data": {
      "text/plain": [
       "Text(33,0.5,'True Values')"
      ]
     },
     "execution_count": 75,
     "metadata": {},
     "output_type": "execute_result"
    },
    {
     "data": {
      "image/png": "[encoded data removed]",
      "text/plain": [
       "<Figure size 432x288 with 2 Axes>"
      ]
     },
     "metadata": {
      "needs_background": "light"
     },
     "output_type": "display_data"
    }
   ],
   "source": [
    "print(\"Train confusion matrix\")\n",
    "train_cm = confusion_matrix(ytrain_tfidfw2v, DTC.predict(Xtrain_tfidfw2v))\n",
    "\n",
    "\n",
    "heatmap = sns.heatmap(train_cm, annot=True, fmt=\"d\")\n",
    "plt.xlabel(\"Predicted Values\")\n",
    "plt.ylabel(\"True Values\")"
   ]
  },
  {
   "cell_type": "code",
   "execution_count": 77,
   "metadata": {},
   "outputs": [
    {
     "name": "stdout",
     "output_type": "stream",
     "text": [
      "Test confusion matrix\n"
     ]
    },
    {
     "data": {
      "text/plain": [
       "Text(33,0.5,'True Values')"
      ]
     },
     "execution_count": 77,
     "metadata": {},
     "output_type": "execute_result"
    },
    {
     "data": {
      "image/png": "[encoded data removed]",
      "text/plain": [
       "<Figure size 432x288 with 2 Axes>"
      ]
     },
     "metadata": {
      "needs_background": "light"
     },
     "output_type": "display_data"
    }
   ],
   "source": [
    "print(\"Test confusion matrix\")\n",
    "test_cm = confusion_matrix(ytest_tfidfw2v, DTC.predict(Xtest_tfidfw2v))\n",
    "\n",
    "\n",
    "heatmap = sns.heatmap(test_cm, annot=True, fmt=\"d\")\n",
    "plt.xlabel(\"Predicted Values\")\n",
    "plt.ylabel(\"True Values\")"
   ]
  },
  {
   "cell_type": "markdown",
   "metadata": {
    "colab_type": "text",
    "id": "Em-rF6u2iWO8"
   },
   "source": [
    "# [6] Conclusions"
   ]
  },
  {
   "cell_type": "code",
   "execution_count": 78,
   "metadata": {
    "colab": {},
    "colab_type": "code",
    "id": "3Hnu2QziiWO9"
   },
   "outputs": [
    {
     "name": "stdout",
     "output_type": "stream",
     "text": [
      "+----------------+-----------------------------------------+---------+\n",
      "|   Vectorizer   |             Hyperparameters             | ROC_AUC |\n",
      "+----------------+-----------------------------------------+---------+\n",
      "|      BOW       |  max_depth - 10  min_sample_split - 10  |   0.74  |\n",
      "|     TF-IDF     | max_depth - 10  min_sample_split - 100  |   0.74  |\n",
      "|  Avg-Word2Vec  | max_depth - 10  min_sample_split - 500  |   0.83  |\n",
      "| TFIDF-Word2Vec | max_depth - 10  min_sample_split - 500  |   0.81  |\n",
      "+----------------+-----------------------------------------+---------+\n"
     ]
    }
   ],
   "source": [
    "# Please compare all your models using Prettytable library\n",
    "from prettytable import PrettyTable\n",
    "#this code is copied from here: http://zetcode.com/python/prettytable/ \n",
    "\n",
    "x = PrettyTable()\n",
    "\n",
    "x.field_names = [\"Vectorizer\",\"Hyperparameters\", \"ROC_AUC\"]\n",
    "\n",
    "x.add_row([\"BOW\", \"max_depth - 10  min_sample_split - 10 \", 0.74])\n",
    "x.add_row([\"TF-IDF\",\"max_depth - 10  min_sample_split - 100 \", 0.74])\n",
    "x.add_row([\"Avg-Word2Vec\", \"max_depth - 10  min_sample_split - 500 \", 0.83])\n",
    "x.add_row([\"TFIDF-Word2Vec\", \"max_depth - 10  min_sample_split - 500 \", 0.81])\n",
    "\n",
    "\n",
    "print(x)"
   ]
  },
  {
   "cell_type": "code",
   "execution_count": null,
   "metadata": {},
   "outputs": [],
   "source": []
  }
 ],
 "metadata": {
  "colab": {
   "collapsed_sections": [
    "NTwQITJKiWN5",
    "T_LFck8iiWOX",
    "mjfrB76yiWOa",
    "0tcbbZxSiWOd",
    "u566lt93iWOf",
    "mUNnof40iWOl",
    "heHLB_FCiWOm",
    "ylTn3LgiiWOo",
    "NVhl_V6MiWO5",
    "PnwVzXytiWO7"
   ],
   "name": "08 Amazon Fine Food Reviews Analysis_Decision Trees.ipynb",
   "provenance": [],
   "version": "0.3.2"
  },
  "kernelspec": {
   "display_name": "Python 3",
   "language": "python",
   "name": "python3"
  },
  "language_info": {
   "codemirror_mode": {
    "name": "ipython",
    "version": 3
   },
   "file_extension": ".py",
   "mimetype": "text/x-python",
   "name": "python",
   "nbconvert_exporter": "python",
   "pygments_lexer": "ipython3",
   "version": "3.7.0"
  }
 },
 "nbformat": 4,
 "nbformat_minor": 1
}
